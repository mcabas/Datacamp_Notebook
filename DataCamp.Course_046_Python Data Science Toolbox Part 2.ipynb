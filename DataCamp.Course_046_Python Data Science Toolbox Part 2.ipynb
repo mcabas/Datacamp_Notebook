{
 "cells": [
  {
   "attachments": {},
   "cell_type": "markdown",
   "metadata": {},
   "source": [
    "# **DataCamp.Course_046_Python Data Science Toolbox (Part 2)**\n",
    "\n",
    "### **Course Description**\n",
    "\n",
    "In this second Python Data Science Toolbox course, you'll continue to build your Python data science skills. First, you'll learn about iterators, objects you have already encountered in the context of for loops. You'll then learn about list comprehensions, which are extremely handy tools for all data scientists working in Python. You'll end the course by working through a case study in which you'll apply all the techniques you learned in both parts of this course."
   ]
  },
  {
   "attachments": {},
   "cell_type": "markdown",
   "metadata": {},
   "source": [
    "## **Using iterators in PythonLand (Module 01-046)**"
   ]
  },
  {
   "attachments": {},
   "cell_type": "markdown",
   "metadata": {},
   "source": [
    "#### **Introduction to iterators**\n",
    "\n",
    "1. Iterating with a for loop\n",
    "\n",
    "- We can iterate over a list using a for loop\n",
    "\n",
    "employees = ['Nick', 'Lore', 'Hugo']\n",
    "for employee in employees:\n",
    "    print(employee)\n",
    "`Nick`\n",
    "`Lore`\n",
    "`Hugo`\n",
    "\n",
    "- We can iterate over a string using a for loop\n",
    "\n",
    "for letter in 'DataCamp': print(letter)\n",
    "`D `\n",
    "`a `\n",
    "`t `\n",
    "`a `\n",
    "`C `\n",
    "`a `\n",
    "`m `\n",
    "`p`\n",
    "\n",
    "- We can iterate over a range object using a for loop\n",
    "\n",
    "for i in range(4): \n",
    "    print(i)\n",
    "`0 `\n",
    "`1 `\n",
    "`2 `\n",
    "`3`\n",
    "\n",
    "2. Iterators vs. iterables\n",
    "- Iterable\n",
    "    - Examples: lists, strings, dictionaries, ,le connections\n",
    "    - An object with an associated iter() method\n",
    "    - Applying iter() to an iterable creates an iterator\n",
    "- Iterator\n",
    "    - Produces next value with next()\n",
    "\n",
    "3. Iterating over iterables: next()\n",
    "\n",
    "word = 'Da'\n",
    "it = iter(word)\n",
    "next(it)\n",
    "`'D'`\n",
    "next(it)\n",
    "`'a'`\n",
    "next(it)\n",
    "`StopIteration Traceback (most recent call last)`\n",
    "`<ipython-input-11-2cdb14c0d4d6> in <module>()`\n",
    "`-> 1 next(it)`\n",
    "`StopIteration:`\n",
    "\n",
    "4. Iterating at once with *\n",
    "\n",
    "word = 'Data'\n",
    "it = iter(word)\n",
    "print(*it)\n",
    "`D a t a`\n",
    "print(*it)\n",
    "- No more values to go through!\n",
    "\n",
    "5. Iterating over dictionaries\n",
    "\n",
    "pythonistas = {'hugo': 'bowne-anderson', 'francis': 'castro'}\n",
    "for key, value in pythonistas.items():\n",
    "    print(key, value)\n",
    "`francis castro`\n",
    "`hugo bowne-anderson`\n",
    "\n",
    "6. Iterating over file connections\n",
    "\n",
    "file = open('file.txt')\n",
    "it = iter(file)\n",
    "print(next(it))\n",
    "`This is the first line.`\n",
    "print(next(it))\n",
    "`This is the second line.`"
   ]
  },
  {
   "cell_type": "code",
   "execution_count": 3,
   "metadata": {},
   "outputs": [
    {
     "name": "stdout",
     "output_type": "stream",
     "text": [
      "0\n",
      "1\n",
      "2\n",
      "3\n",
      "4\n",
      "5\n",
      "6\n"
     ]
    }
   ],
   "source": [
    "for i in range(7): \n",
    "    print(i)"
   ]
  },
  {
   "cell_type": "code",
   "execution_count": 1,
   "metadata": {},
   "outputs": [
    {
     "name": "stdout",
     "output_type": "stream",
     "text": [
      "hugo bowne-anderson\n",
      "francis castro\n"
     ]
    }
   ],
   "source": [
    "pythonistas = {'hugo': 'bowne-anderson', 'francis': 'castro'}\n",
    "for key, value in pythonistas.items():\n",
    "    print(key, value)"
   ]
  },
  {
   "attachments": {},
   "cell_type": "markdown",
   "metadata": {},
   "source": [
    "**Iterators vs. Iterables**\n",
    "\n",
    "Let's do a quick recall of what you've learned about iterables and iterators. Recall from the video that an iterable is an object that can return an iterator, while an iterator is an object that keeps state and produces the next value when you call `next()` on it. In this exercise, you will identify which object is an iterable and which is an iterator.\n",
    "\n",
    "The environment has been pre-loaded with the variables `flash1` and `flash2`. Try printing out their values with `print()` and `next()` to figure out which is an iterable and which is an iterator.\n",
    "\n",
    "R/// flash1 is an iterable and flash2 is an iterator."
   ]
  },
  {
   "attachments": {},
   "cell_type": "markdown",
   "metadata": {},
   "source": [
    "**Iterating over iterables (1)**\n",
    "\n",
    "Great, you're familiar with what iterables and iterators are! In this exercise, you will reinforce your knowledge about these by iterating over and printing from iterables and iterators.\n",
    "\n",
    "You are provided with a list of strings `flash`. You will practice iterating over the list by using a `for` loop. You will also create an iterator for the list and access the values from the iterator.\n",
    "\n",
    "STEPS\n",
    "    Create a for loop to loop over flash and print the values in the list. Use person as the loop variable.\n",
    "    Create an iterator for the list flash and assign the result to superhero.\n",
    "    Print each of the items from superhero using next() 4 times."
   ]
  },
  {
   "cell_type": "code",
   "execution_count": 1,
   "metadata": {},
   "outputs": [
    {
     "name": "stdout",
     "output_type": "stream",
     "text": [
      "jay garrick\n",
      "barry allen\n",
      "wally west\n",
      "bart allen\n",
      "jay garrick\n",
      "barry allen\n",
      "wally west\n",
      "bart allen\n"
     ]
    }
   ],
   "source": [
    "# Create a list of strings: flash\n",
    "flash = ['jay garrick', 'barry allen', 'wally west', 'bart allen']\n",
    "\n",
    "# Print each list item in flash using a for loop\n",
    "for strings in flash:\n",
    "    print(strings)\n",
    "\n",
    "# Create an iterator for flash: superhero\n",
    "superhero = iter(flash)\n",
    "\n",
    "# Print each item from the iterator\n",
    "print(next(superhero))\n",
    "print(next(superhero))\n",
    "print(next(superhero))\n",
    "print(next(superhero))\n"
   ]
  },
  {
   "attachments": {},
   "cell_type": "markdown",
   "metadata": {},
   "source": [
    "**Iterating over iterables (2)**\n",
    "\n",
    "One of the things you learned about in this chapter is that not all iterables are actual lists. A couple of examples that we looked at are strings and the use of the `range()` function. In this exercise, we will focus on the `range()` function.\n",
    "\n",
    "You can use `range() `in a `for` loop as if it's a list to be iterated over:\n",
    "\n",
    "for i in range(5):\n",
    "    print(i)\n",
    "\n",
    "Recall that `range()` doesn't actually create the list; instead, it creates a range object with an iterator that produces the values until it reaches the limit (in the example, until the value 4). If `range()` created the actual list, calling it with a value of 10^100 may not work, especially since a number as big as that may go over a regular computer's memory. The value 10^100 is actually what's called a Googol which is a 1 followed by a hundred 0s. That's a huge number!\n",
    "\n",
    "Your task for this exercise is to show that calling range() with 10^100\n",
    "won't actually pre-create the list.\n",
    "\n",
    "STEPS\n",
    "    Create an iterator object small_value over range(3) using the function iter().\n",
    "    Using a for loop, iterate over range(3), printing the value for every iteration. Use num as the loop variable.\n",
    "    Create an iterator object googol over range(10 ** 100)."
   ]
  },
  {
   "cell_type": "code",
   "execution_count": 5,
   "metadata": {},
   "outputs": [
    {
     "name": "stdout",
     "output_type": "stream",
     "text": [
      "0\n",
      "1\n",
      "2\n",
      "0\n",
      "1\n",
      "2\n",
      "0\n",
      "1\n",
      "2\n",
      "3\n",
      "4\n"
     ]
    }
   ],
   "source": [
    "# Create an iterator for range(3): small_value\n",
    "small_value = iter(range(3))\n",
    "\n",
    "# Print the values in small_value\n",
    "print(next(small_value))\n",
    "print(next(small_value))\n",
    "print(next(small_value))\n",
    "\n",
    "# Loop over range(3) and print the values\n",
    "for num in range(3):\n",
    "    print(num)\n",
    "\n",
    "# Create an iterator for range(10 ** 100): googol\n",
    "googol = iter(range(10 ** 100))\n",
    "\n",
    "# Print the first 5 values from googol\n",
    "print(next(googol))\n",
    "print(next(googol))\n",
    "print(next(googol))\n",
    "print(next(googol))\n",
    "print(next(googol))\n"
   ]
  },
  {
   "attachments": {},
   "cell_type": "markdown",
   "metadata": {},
   "source": [
    "**Iterators as function arguments**\n",
    "\n",
    "You've been using the `iter()` function to get an iterator object, as well as the `next()` function to retrieve the values one by one from the iterator object.\n",
    "\n",
    "There are also functions that take iterators and iterables as arguments. For example, the `list()` and `sum()` functions return a list and the sum of elements, respectively.\n",
    "\n",
    "In this exercise, you will use these functions by passing an iterable from `range()` and then printing the results of the function calls.\n",
    "\n",
    "STEPS\n",
    "    Create a range object that would produce the values from 10 to 20 using range(). Assign the result to values.\n",
    "    Use the list() function to create a list of values from the range object values. Assign the result to values_list.\n",
    "    Use the sum() function to get the sum of the values from 10 to 20 from the range object values. Assign the result to values_sum."
   ]
  },
  {
   "cell_type": "code",
   "execution_count": 12,
   "metadata": {},
   "outputs": [
    {
     "name": "stdout",
     "output_type": "stream",
     "text": [
      "range(10, 21)\n",
      "[10, 11, 12, 13, 14, 15, 16, 17, 18, 19, 20]\n",
      "165\n"
     ]
    }
   ],
   "source": [
    "# Create a range object: values\n",
    "values = range(10,21)\n",
    "\n",
    "# Print the range object\n",
    "print(values)\n",
    "\n",
    "# Create a list of integers: values_list\n",
    "values_list = list(values)\n",
    "\n",
    "# Print values_list\n",
    "print(values_list)\n",
    "\n",
    "# Get the sum of values: values_sum\n",
    "values_sum = sum(values)\n",
    "\n",
    "# Print values_sum\n",
    "print(values_sum)"
   ]
  },
  {
   "attachments": {},
   "cell_type": "markdown",
   "metadata": {},
   "source": [
    "#### **Playing with iterators**\n",
    "\n",
    "1. Using enumerate()\n",
    "\n",
    "avengers = ['hawkeye', 'iron man', 'thor', 'quicksilver']\n",
    "e = enumerate(avengers)\n",
    "print(type(e))\n",
    "`<class 'enumerate'>`\n",
    "\n",
    "e_list = list(e)\n",
    "print(e_list)\n",
    "`[(0, 'hawkeye'), (1, 'iron man'), (2, 'thor'), (3, 'quicksilver')]`\n",
    "\n",
    "2. enumerate() and unpack\n",
    "\n",
    "avengers = ['hawkeye', 'iron man', 'thor', 'quicksilver']\n",
    "for index, value in enumerate(avengers):\n",
    "    print(index, value)\n",
    "`0 hawkeye`\n",
    "`1 iron man`\n",
    "`2 thor`\n",
    "`3 quicksilver`\n",
    "\n",
    "for index, value in enumerate(avengers, start=10):\n",
    "    print(index, value)\n",
    "`10 hawkeye`\n",
    "`11 iron man`\n",
    "`12 thor`\n",
    "`13 quicksilver`\n",
    "\n",
    "3. Using zip()\n",
    "\n",
    "avengers = ['hawkeye', 'iron man', 'thor', 'quicksilver']\n",
    "names = ['barton', 'stark', 'odinson', 'maximoff']\n",
    "z = zip(avengers, names)\n",
    "print(type(z))\n",
    "`<class 'zip'>`\n",
    "\n",
    "z_list = list(z)\n",
    "print(z_list)\n",
    "`[('hawkeye', 'barton'), ('iron man', 'stark'),`\n",
    "`('thor', 'odinson'), ('quicksilver', 'maximoff')]`\n",
    "\n",
    "4. zip() and unpack\n",
    "\n",
    "avengers = ['hawkeye', 'iron man', 'thor', 'quicksilver']\n",
    "names = ['barton', 'stark', 'odinson', 'maximoff']\n",
    "for z1, z2 in zip(avengers, names):\n",
    "    print(z1, z2)\n",
    "`hawkeye barton`\n",
    "`iron man stark`\n",
    "`thor odinson`\n",
    "`quicksilver maximoff`\n",
    "\n",
    "5. Print zip with *\n",
    "\n",
    "avengers = ['hawkeye', 'iron man', 'thor', 'quicksilver']\n",
    "names = ['barton', 'stark', 'odinson', 'maximoff']\n",
    "z = zip(avengers, names)\n",
    "print(*z)\n",
    "`('hawkeye', 'barton') ('iron man', 'stark')`\n",
    "`('thor', 'odinson') ('quicksilver', 'maximoff')`"
   ]
  },
  {
   "attachments": {},
   "cell_type": "markdown",
   "metadata": {},
   "source": [
    "**Using enumerate**\n",
    "\n",
    "You're really getting the hang of using iterators, great job!\n",
    "\n",
    "You've just gained several new ideas on iterators from the last video and one of them is the `enumerate()` function. Recall that `enumerate()` returns an `enumerate` object that produces a sequence of tuples, and each of the tuples is an index-value pair.\n",
    "\n",
    "In this exercise, you are given a list of strings `mutants` and you will practice using `enumerate()` on it by printing out a list of tuples and unpacking the tuples using a for loop.\n",
    "\n",
    "STEPS\n",
    "    Create a list of tuples from mutants and assign the result to mutant_list. Make sure you generate the tuples using enumerate() and turn the result from it into a list using list().\n",
    "    Complete the first for loop by unpacking the tuples generated by calling enumerate() on mutants. Use index1 for the index and value1 for the value when unpacking the tuple.\n",
    "    Complete the second for loop similarly as with the first, but this time change the starting index to start from 1 by passing it in as an argument to the start parameter of enumerate(). Use index2 for the index and value2 for the value when unpacking the tuple."
   ]
  },
  {
   "cell_type": "code",
   "execution_count": 14,
   "metadata": {},
   "outputs": [
    {
     "name": "stdout",
     "output_type": "stream",
     "text": [
      "[(0, 'charles xavier'), (1, 'bobby drake'), (2, 'kurt wagner'), (3, 'max eisenhardt'), (4, 'kitty pryde')]\n",
      "0 charles xavier\n",
      "1 bobby drake\n",
      "2 kurt wagner\n",
      "3 max eisenhardt\n",
      "4 kitty pryde\n",
      "1 charles xavier\n",
      "2 bobby drake\n",
      "3 kurt wagner\n",
      "4 max eisenhardt\n",
      "5 kitty pryde\n"
     ]
    }
   ],
   "source": [
    "# Create a list of strings: mutants\n",
    "mutants = ['charles xavier', \n",
    "            'bobby drake', \n",
    "            'kurt wagner', \n",
    "            'max eisenhardt', \n",
    "            'kitty pryde']\n",
    "\n",
    "# Create a list of tuples: mutant_list\n",
    "mutant_list = list(enumerate(mutants))\n",
    "\n",
    "# Print the list of tuples\n",
    "print(mutant_list)\n",
    "\n",
    "# Unpack and print the tuple pairs\n",
    "for index1, value1 in enumerate(mutants):\n",
    "    print(index1, value1)\n",
    "\n",
    "# Change the start index\n",
    "for index2, value2 in enumerate(mutants, start=1):\n",
    "    print(index2, value2)"
   ]
  },
  {
   "attachments": {},
   "cell_type": "markdown",
   "metadata": {},
   "source": [
    "**Using zip**\n",
    "\n",
    "Another interesting function that you've learned is `zip()`, which takes any number of iterables and returns a `zip` object that is an iterator of tuples. If you wanted to print the values of a `zip` object, you can convert it into a list and then print it. Printing just a `zip` object will not return the values unless you unpack it first. In this exercise, you will explore this for yourself.\n",
    "\n",
    "Three lists of strings are pre-loaded: `mutants`, `aliases`, and `powers`. First, you will use `list()` and `zip()` on these lists to generate a list of tuples. Then, you will create a `zip` object using `zip()`. Finally, you will unpack this `zip` object in a `for` loop to print the values in each tuple. Observe the different output generated by printing the list of tuples, then the `zip` object, and finally, the tuple values in the `for` loop.\n",
    "\n",
    "STEPS\n",
    "    Using zip() with list(), create a list of tuples from the three lists mutants, aliases, and powers (in that order) and assign the result to mutant_data.\n",
    "    Using zip(), create a zip object called mutant_zip from the three lists mutants, aliases, and powers.\n",
    "    Complete the for loop by unpacking the zip object you created and printing the tuple values. Use value1, value2, value3 for the values from each of mutants, aliases, and powers, in that order."
   ]
  },
  {
   "cell_type": "code",
   "execution_count": 16,
   "metadata": {},
   "outputs": [
    {
     "name": "stdout",
     "output_type": "stream",
     "text": [
      "[('charles xavier', 'prof x', 'telepathy'), ('bobby drake', 'iceman', 'thermokinesis'), ('kurt wagner', 'nightcrawler', 'teleportation'), ('max eisenhardt', 'magneto', 'magnetokinesis'), ('kitty pryde', 'shadowcat', 'intangibility')]\n",
      "<zip object at 0x000002653268A780>\n",
      "charles xavier prof x telepathy\n",
      "bobby drake iceman thermokinesis\n",
      "kurt wagner nightcrawler teleportation\n",
      "max eisenhardt magneto magnetokinesis\n",
      "kitty pryde shadowcat intangibility\n"
     ]
    }
   ],
   "source": [
    "mutants = ['charles xavier', \n",
    "            'bobby drake', \n",
    "            'kurt wagner', \n",
    "            'max eisenhardt', \n",
    "            'kitty pryde']\n",
    "\n",
    "aliases = ['prof x', \n",
    "            'iceman', \n",
    "            'nightcrawler', \n",
    "            'magneto', \n",
    "            'shadowcat']\n",
    "\n",
    "powers = ['telepathy', \n",
    "            'thermokinesis', \n",
    "            'teleportation', \n",
    "            'magnetokinesis', \n",
    "            'intangibility']\n",
    "\n",
    "# Create a list of tuples: mutant_data\n",
    "mutant_data = list(zip(mutants, aliases, powers))\n",
    "\n",
    "# Print the list of tuples\n",
    "print(mutant_data)\n",
    "\n",
    "# Create a zip object using the three lists: mutant_zip\n",
    "mutant_zip = zip(mutants, aliases, powers)\n",
    "\n",
    "# Print the zip object\n",
    "print(mutant_zip)\n",
    "\n",
    "# Unpack the zip object and print the tuple values\n",
    "for value1, value2, value3 in mutant_zip:\n",
    "    print(value1, value2, value3)"
   ]
  },
  {
   "attachments": {},
   "cell_type": "markdown",
   "metadata": {},
   "source": [
    "**Using * and zip to 'unzip'**\n",
    "\n",
    "You know how to use `zip()` as well as how to print out values from a `zip` object. Excellent!\n",
    "\n",
    "Let's play around with `zip()` a little more. There is no unzip function for doing the reverse of what `zip()` does. We can, however, reverse what has been zipped together by using `zip()` with a little help from `*`! `*` unpacks an iterable such as a list or a tuple into positional arguments in a function call.\n",
    "\n",
    "In this exercise, you will use `*` in a call to `zip()` to unpack the tuples produced by `zip()`.\n",
    "\n",
    "Two tuples of strings, `mutants` and `powers` have been pre-loaded.\n",
    "\n",
    "STEPS\n",
    "    Create a zip object by using zip() on mutants and powers, in that order. Assign the result to z1.\n",
    "    Print the tuples in z1 by unpacking them into positional arguments using the * operator in a print() call.\n",
    "    Because the previous print() call would have exhausted the elements in z1, recreate the zip object you defined earlier and assign the result again to z1.\n",
    "    'Unzip' the tuples in z1 by unpacking them into positional arguments using the * operator in a zip() call. Assign the results to result1 and result2, in that order.\n",
    "    The last print() statements prints the output of comparing result1 to mutants and result2 to powers. Click Submit Answer to see if the unpacked result1 and result2 are equivalent to mutants and powers, respectively."
   ]
  },
  {
   "cell_type": "code",
   "execution_count": 20,
   "metadata": {},
   "outputs": [
    {
     "name": "stdout",
     "output_type": "stream",
     "text": [
      "('charles xavier', 'telepathy') ('bobby drake', 'thermokinesis') ('kurt wagner', 'teleportation') ('max eisenhardt', 'magnetokinesis') ('kitty pryde', 'intangibility')\n",
      "False\n",
      "False\n",
      "('charles xavier', 'bobby drake', 'kurt wagner', 'max eisenhardt', 'kitty pryde')\n",
      "('telepathy', 'thermokinesis', 'teleportation', 'magnetokinesis', 'intangibility')\n"
     ]
    }
   ],
   "source": [
    "# Create a zip object from mutants and powers: z1\n",
    "z1 =  zip(mutants, powers)\n",
    "\n",
    "# Print the tuples in z1 by unpacking with *\n",
    "print(*z1)\n",
    "\n",
    "# Re-create a zip object from mutants and powers: z1\n",
    "z1 = zip(mutants, powers)\n",
    "\n",
    "# 'Unzip' the tuples in z1 by unpacking with * and zip(): result1, result2\n",
    "result1, result2 = zip(*z1)\n",
    "\n",
    "# Check if unpacked tuples are equivalent to original tuples\n",
    "print(result1 == mutants)\n",
    "print(result2 == powers)\n",
    "print(result1)\n",
    "print(result2)\n"
   ]
  },
  {
   "attachments": {},
   "cell_type": "markdown",
   "metadata": {},
   "source": [
    "#### **Using iterators to load large files into memory**\n",
    "\n",
    "1. Loading data in chunks\n",
    "\n",
    "- There can be too much data to hold in memory\n",
    "- Solution: load data in chunks!\n",
    "- Pandas function: read_csv()\n",
    "    - Specify the chunk: chunk_size\n",
    "\n",
    "2. Iterating over data\n",
    "\n",
    "import pandas as pd\n",
    "result = []\n",
    "for chunk in pd.read_csv('data.csv', chunksize=1000):\n",
    "    result.append(sum(chunk['x']))\n",
    "total = sum(result)\n",
    "print(total)\n",
    "`4252532`\n",
    "\n",
    "import pandas as pd \n",
    "total = 0\n",
    "for chunk in pd.read_csv('data.csv', chunksize=1000):\n",
    "    total += sum(chunk['x'])\n",
    "print(total)\n",
    "`4252532`"
   ]
  },
  {
   "attachments": {},
   "cell_type": "markdown",
   "metadata": {},
   "source": [
    "**Processing large amounts of Twitter data**\n",
    "\n",
    "Sometimes, the data we have to process reaches a size that is too much for a computer's memory to handle. This is a common problem faced by data scientists. A solution to this is to process an entire data source chunk by chunk, instead of a single go all at once.\n",
    "\n",
    "In this exercise, you will do just that. You will process a large csv file of Twitter data in the same way that you processed '`tweets.csv`' in Bringing it all together exercises of the prequel course, but this time, working on it in chunks of 10 entries at a time.\n",
    "\n",
    "If you are interested in learning how to access Twitter data so you can work with it on your own system, refer to Part 2 of the DataCamp course on Importing Data in Python.\n",
    "\n",
    "The pandas package has been imported as `pd` and the file '`tweets.csv`' is in your current directory for your use.\n",
    "\n",
    "Be aware that this is real data from Twitter and as such there is always a risk that it may contain profanity or other offensive content (in this exercise, and any following exercises that also use real Twitter data).\n",
    "\n",
    "STEPS\n",
    "    Initialize an empty dictionary counts_dict for storing the results of processing the Twitter data.\n",
    "    Iterate over the 'tweets.csv' file by using a for loop. Use the loop variable chunk and iterate over the call to pd.read_csv() with a chunksize of 10.\n",
    "    In the inner loop, iterate over the column 'lang' in chunk by using a for loop. Use the loop variable entry.\n"
   ]
  },
  {
   "cell_type": "code",
   "execution_count": 7,
   "metadata": {},
   "outputs": [
    {
     "name": "stdout",
     "output_type": "stream",
     "text": [
      "{'en': 97, 'et': 1, 'und': 2}\n"
     ]
    }
   ],
   "source": [
    "# Import pandas\n",
    "import pandas as pd\n",
    "\n",
    "# Import Twitter data as DataFrame: df\n",
    "# tweets_df = pd.read_csv(r'G:\\My Drive\\Data Science\\Datacamp_Notebook\\Datacamp_Notebook\\datasets\\tweets.csv')\n",
    "\n",
    "# Initialize an empty dictionary: counts_dict\n",
    "counts_dict = {}\n",
    "\n",
    "# Iterate over the file chunk by chunk\n",
    "for chunk in pd.read_csv(r'G:\\My Drive\\Data Science\\Datacamp_Notebook\\Datacamp_Notebook\\datasets\\tweets.csv', chunksize=10):\n",
    "\n",
    "    # Iterate over the column in DataFrame\n",
    "    for entry in chunk['lang']:\n",
    "        if entry in counts_dict.keys():\n",
    "            counts_dict[entry] += 1\n",
    "        else:\n",
    "            counts_dict[entry] = 1\n",
    "\n",
    "# Print the populated dictionary\n",
    "print(counts_dict)\n"
   ]
  },
  {
   "attachments": {},
   "cell_type": "markdown",
   "metadata": {},
   "source": [
    "**Extracting information for large amounts of Twitter data**\n",
    "\n",
    "Great job chunking out that file in the previous exercise. You now know how to deal with situations where you need to process a very large file and that's a very useful skill to have!\n",
    "\n",
    "It's good to know how to process a file in smaller, more manageable chunks, but it can become very tedious having to write and rewrite the same code for the same task each time. In this exercise, you will be making your code more reusable by putting your work in the last exercise in a function definition.\n",
    "\n",
    "The pandas package has been imported as `pd` and the file '`tweets.csv'` is in your current directory for your use.\n",
    "\n",
    "STEPS\n",
    "\n",
    "    Define the function count_entries(), which has 3 parameters. The first parameter is csv_file for the filename, the second is c_size for the chunk size, and the last is colname for the column name.\n",
    "    Iterate over the file in csv_file file by using a for loop. Use the loop variable chunk and iterate over the call to pd.read_csv(), passing c_size to chunksize.\n",
    "    In the inner loop, iterate over the column given by colname in chunk by using a for loop. Use the loop variable entry.\n",
    "    Call the count_entries() function by passing to it the filename 'tweets.csv', the size of chunks 10, and the name of the column to count, 'lang'. Assign the result of the call to the variable result_counts.\n"
   ]
  },
  {
   "cell_type": "code",
   "execution_count": 10,
   "metadata": {},
   "outputs": [
    {
     "name": "stdout",
     "output_type": "stream",
     "text": [
      "{'en': 97, 'et': 1, 'und': 2}\n"
     ]
    }
   ],
   "source": [
    "tweets_imp = r'G:\\My Drive\\Data Science\\Datacamp_Notebook\\Datacamp_Notebook\\datasets\\tweets.csv'\n",
    "\n",
    "# Define count_entries()\n",
    "def count_entries(csv_file,c_size,colname):\n",
    "    \"\"\"Return a dictionary with counts of\n",
    "    occurrences as value for each key.\"\"\"\n",
    "    \n",
    "    # Initialize an empty dictionary: counts_dict\n",
    "    counts_dict = {}\n",
    "\n",
    "    # Iterate over the file chunk by chunk\n",
    "    for chunk in pd.read_csv(csv_file, chunksize=c_size):\n",
    "\n",
    "        # Iterate over the column in DataFrame\n",
    "        for entry in chunk[colname]:\n",
    "            if entry in counts_dict.keys():\n",
    "                counts_dict[entry] += 1\n",
    "            else:\n",
    "                counts_dict[entry] = 1\n",
    "\n",
    "    # Return counts_dict\n",
    "    return counts_dict\n",
    "\n",
    "# Call count_entries(): result_counts\n",
    "result_counts = count_entries(tweets_imp,10,'lang')\n",
    "\n",
    "# Print result_counts\n",
    "print(result_counts)"
   ]
  },
  {
   "attachments": {},
   "cell_type": "markdown",
   "metadata": {},
   "source": [
    "## **List comprehensions and generators  (Module 02-046)**"
   ]
  },
  {
   "attachments": {},
   "cell_type": "markdown",
   "metadata": {},
   "source": [
    "#### **List comprehensions**\n",
    "\n",
    "1. Populate a list with a for loop\n",
    "\n",
    "nums = [12, 8, 21, 3, 16]\n",
    "new_nums = []\n",
    "for num in nums:\n",
    "    new_nums.append(num + 1)\n",
    "print(new_nums)\n",
    "`[13, 9, 22, 4, 17]`"
   ]
  },
  {
   "cell_type": "code",
   "execution_count": 11,
   "metadata": {},
   "outputs": [
    {
     "name": "stdout",
     "output_type": "stream",
     "text": [
      "[13, 9, 22, 4, 17]\n"
     ]
    }
   ],
   "source": [
    "nums = [12, 8, 21, 3, 16]\n",
    "new_nums = []\n",
    "for num in nums:\n",
    "    new_nums.append(num + 1)\n",
    "print(new_nums)"
   ]
  },
  {
   "attachments": {},
   "cell_type": "markdown",
   "metadata": {},
   "source": [
    "2. A list comprehension\n",
    "\n",
    "nums = [12, 8, 21, 3, 16]\n",
    "new_nums = [num + 1 for num in nums]\n",
    "print(new_nums)\n",
    "`[13, 9, 22, 4, 17]`"
   ]
  },
  {
   "cell_type": "code",
   "execution_count": 18,
   "metadata": {},
   "outputs": [
    {
     "name": "stdout",
     "output_type": "stream",
     "text": [
      "[13, 9, 22, 4, 17]\n"
     ]
    }
   ],
   "source": [
    "nums = [12, 8, 21, 3, 16]\n",
    "new_nums = [num + 1 for num in nums]\n",
    "print(new_nums)"
   ]
  },
  {
   "attachments": {},
   "cell_type": "markdown",
   "metadata": {},
   "source": [
    "3. For loop and list comprehension syntax\n",
    "\n",
    "new_nums = [num + 1 for num in nums]\n",
    "\n",
    "for num in nums:\n",
    "    new_nums.append(num + 1)\n",
    "print(new_nums)\n",
    "\n",
    "[13, 9, 22, 4, 17]\n",
    "\n",
    "4. List comprehension with range()\n",
    "\n",
    "result = [num for num in range(11)]\n",
    "print(result)\n",
    "\n",
    "`[0, 1, 2, 3, 4, 5, 6, 7, 8, 9, 10]`"
   ]
  },
  {
   "cell_type": "code",
   "execution_count": 19,
   "metadata": {},
   "outputs": [
    {
     "name": "stdout",
     "output_type": "stream",
     "text": [
      "[0, 1, 2, 3, 4, 5, 6, 7, 8, 9, 10]\n"
     ]
    }
   ],
   "source": [
    "result = [num for num in range(11)]\n",
    "print(result)"
   ]
  },
  {
   "attachments": {},
   "cell_type": "markdown",
   "metadata": {},
   "source": [
    "5. List comprehensions\n",
    "\n",
    "- Collapse for loops for building lists into a single line\n",
    "- Components\n",
    "    - Iterable\n",
    "    - Iterator variable (represent members of iterable)\n",
    "    - Output expression\n",
    "\n",
    "6. Nested loops (1)\n",
    "\n",
    "pairs_1 = []\n",
    "for num1 in range(0, 2):\n",
    "    for num2 in range(6, 8):\n",
    "        pairs_1.append(num1, num2)\n",
    "print(pairs_1)\n",
    "\n",
    "`[(0, 6), (0, 7), (1, 6), (1, 7)]`\n",
    "\n",
    "How to do this with a list comprehension?\n",
    "\n",
    "7. Nested loops (2)\n",
    "\n",
    "pairs_2 = [(num1, num2) for num1 in range(0, 2) for num2 in range(6, 8)]\n",
    "print(pairs_2)\n",
    "\n",
    "`[(0, 6), (0, 7), (1, 6), (1, 7)]`\n",
    "\n",
    "*TradeoFF: readability*"
   ]
  },
  {
   "cell_type": "code",
   "execution_count": 33,
   "metadata": {},
   "outputs": [
    {
     "name": "stdout",
     "output_type": "stream",
     "text": [
      "[[0, 6], [0, 7], [1, 6], [1, 7]]\n"
     ]
    }
   ],
   "source": [
    "pairs_1 = []\n",
    "for num1 in range(0, 2):\n",
    "    for num2 in range(6, 8):\n",
    "        pairs_1.append([num1, num2])\n",
    "print(pairs_1)"
   ]
  },
  {
   "cell_type": "code",
   "execution_count": 31,
   "metadata": {},
   "outputs": [
    {
     "name": "stdout",
     "output_type": "stream",
     "text": [
      "[(0, 6), (0, 7), (1, 6), (1, 7)]\n"
     ]
    }
   ],
   "source": [
    "pairs_2 = [(num1, num2) for num1 in range(0, 2) for num2 in range(6, 8)]\n",
    "print(pairs_2)"
   ]
  },
  {
   "attachments": {},
   "cell_type": "markdown",
   "metadata": {},
   "source": [
    "**Write a basic list comprehension**\n",
    "\n",
    "In this exercise, you will practice what you've learned from the video about writing list comprehensions. You will write a list comprehension and identify the output that will be produced.\n",
    "\n",
    "The following list has been pre-loaded in the environment.\n",
    "\n",
    "doctor = ['house', 'cuddy', 'chase', 'thirteen', 'wilson']\n",
    "\n",
    "How would a list comprehension that produces a list of the first character of each string in doctor look like? Note that the list comprehension uses doc as the iterator variable. What will the output be?"
   ]
  },
  {
   "cell_type": "code",
   "execution_count": 35,
   "metadata": {},
   "outputs": [
    {
     "name": "stdout",
     "output_type": "stream",
     "text": [
      "['h', 'c', 'c', 't', 'w']\n"
     ]
    }
   ],
   "source": [
    "doctor = ['house', 'cuddy', 'chase', 'thirteen', 'wilson']\n",
    "first_letter_doc = [doc[0] for doc in doctor]\n",
    "\n",
    "print(first_letter_doc)"
   ]
  },
  {
   "attachments": {},
   "cell_type": "markdown",
   "metadata": {},
   "source": [
    "**List comprehension over iterables**\n",
    "\n",
    "You know that list comprehensions can be built over iterables. Given the following objects below, which of these can we build list comprehensions over?\n",
    "\n",
    "doctor = ['house', 'cuddy', 'chase', 'thirteen', 'wilson']\n",
    "\n",
    "range(50)\n",
    "\n",
    "underwood = 'After all, we are nothing more or less than what we choose to reveal.'\n",
    "\n",
    "jean = '24601'\n",
    "\n",
    "flash = ['jay garrick', 'barry allen', 'wally west', 'bart allen']\n",
    "\n",
    "valjean = 24601\n"
   ]
  },
  {
   "cell_type": "code",
   "execution_count": 36,
   "metadata": {},
   "outputs": [],
   "source": [
    "doctor = ['house', 'cuddy', 'chase', 'thirteen', 'wilson']\n",
    "\n",
    "range(50)\n",
    "\n",
    "underwood = 'After all, we are nothing more or less than what we choose to reveal.'\n",
    "\n",
    "jean = '24601'\n",
    "\n",
    "flash = ['jay garrick', 'barry allen', 'wally west', 'bart allen']\n",
    "\n",
    "valjean = 24601"
   ]
  },
  {
   "attachments": {},
   "cell_type": "markdown",
   "metadata": {},
   "source": [
    "**Writing list comprehensions**\n",
    "\n",
    "You now have all the knowledge necessary to begin writing list comprehensions! Your job in this exercise is to write a list comprehension that produces a list of the squares of the numbers ranging from 0 to 9.\n",
    "\n",
    "STEPS\n",
    "Using the range of numbers from 0 to 9 as your iterable and i as your iterator variable, write a list comprehension that produces a list of numbers consisting of the squared values of i."
   ]
  },
  {
   "cell_type": "code",
   "execution_count": 38,
   "metadata": {},
   "outputs": [
    {
     "name": "stdout",
     "output_type": "stream",
     "text": [
      "[0, 1, 4, 9, 16, 25, 36, 49, 64, 81]\n"
     ]
    }
   ],
   "source": [
    "# Create list comprehension: squares\n",
    "squares = [seq**2 for seq in range(10)]\n",
    "print(squares)"
   ]
  },
  {
   "attachments": {},
   "cell_type": "markdown",
   "metadata": {},
   "source": [
    "**Nested list comprehensions**\n",
    "\n",
    "Great! At this point, you have a good grasp of the basic syntax of list comprehensions. Let's push your code-writing skills a little further. In this exercise, you will be writing a list comprehension within another list comprehension, or nested list comprehensions. It sounds a little tricky, but you can do it!\n",
    "\n",
    "Let's step aside for a while from strings. One of the ways in which lists can be used are in representing multi-dimension objects such as matrices. Matrices can be represented as a list of lists in Python. For example a 5 x 5 matrix with values 0 to 4 in each row can be written as:\n",
    "\n",
    "matrix = [[0, 1, 2, 3, 4],\n",
    "          [0, 1, 2, 3, 4],\n",
    "          [0, 1, 2, 3, 4],\n",
    "          [0, 1, 2, 3, 4],\n",
    "          [0, 1, 2, 3, 4]]\n",
    "\n",
    "Your task is to recreate this matrix by using nested listed comprehensions. Recall that you can create one of the rows of the matrix with a single list comprehension. To create the list of lists, you simply have to supply the list comprehension as the output expression of the overall list comprehension:\n",
    "\n",
    "[[output expression] for iterator variable in iterable]\n",
    "\n",
    "Note that here, the output expression is itself a list comprehension.\n",
    "\n",
    "STEPS\n",
    "    In the inner list comprehension - that is, the output expression of the nested list comprehension - create a list of values from 0 to 4 using range(). Use col as the iterator variable.\n",
    "    In the iterable part of your nested list comprehension, use range() to count 5 rows - that is, create a list of values from 0 to 4. Use row as the iterator variable; note that you won't be needing this variable to create values in the list of lists.\n"
   ]
  },
  {
   "cell_type": "code",
   "execution_count": 43,
   "metadata": {},
   "outputs": [
    {
     "name": "stdout",
     "output_type": "stream",
     "text": [
      "[0, 1, 2, 3, 4]\n",
      "[0, 1, 2, 3, 4]\n",
      "[0, 1, 2, 3, 4]\n",
      "[0, 1, 2, 3, 4]\n",
      "[0, 1, 2, 3, 4]\n"
     ]
    }
   ],
   "source": [
    "# Create a 5 x 5 matrix using a list of lists: matrix\n",
    "matrix = [[col for col in range (5)] for row in range(5)]\n",
    "\n",
    "# Print the matrix\n",
    "for row in matrix:\n",
    "    print(row)\n"
   ]
  },
  {
   "attachments": {},
   "cell_type": "markdown",
   "metadata": {},
   "source": [
    "#### **Advanced comprehensions**\n",
    "\n",
    "1. Conditionals in comprehensions\n",
    "\n",
    "- Conditionals on the iterable\n",
    "\n",
    "[num ** 2 for num in range(10) if num % 2 == 0]\n",
    "\n",
    "`[0, 4, 16, 36, 64]`\n",
    "\n",
    "*Python documentation on the % operator: The % (modulo)*\n",
    "*operator yields the remainder from the division of the first*\n",
    "*argument by the second.*\n",
    "5 % 2\n",
    "`1`\n",
    "6 % 2\n",
    "`0`\n",
    "\n",
    "- Conditionals on the output expression\n",
    "\n",
    "[num ** 2 if num % 2 == 0 else 0 for num in range(10)]\n",
    "\n",
    "`[0, 0, 4, 0, 16, 0, 36, 0, 64, 0]`"
   ]
  },
  {
   "cell_type": "code",
   "execution_count": 44,
   "metadata": {},
   "outputs": [
    {
     "data": {
      "text/plain": [
       "[0, 4, 16, 36, 64]"
      ]
     },
     "execution_count": 44,
     "metadata": {},
     "output_type": "execute_result"
    }
   ],
   "source": [
    "[num ** 2 for num in range(10) if num % 2 == 0]"
   ]
  },
  {
   "cell_type": "code",
   "execution_count": 45,
   "metadata": {},
   "outputs": [
    {
     "data": {
      "text/plain": [
       "[0, 0, 4, 0, 16, 0, 36, 0, 64, 0]"
      ]
     },
     "execution_count": 45,
     "metadata": {},
     "output_type": "execute_result"
    }
   ],
   "source": [
    "[num ** 2 if num % 2 == 0 else 0 for num in range(10)]"
   ]
  },
  {
   "attachments": {},
   "cell_type": "markdown",
   "metadata": {},
   "source": [
    "2. Dict comprehensions\n",
    "\n",
    "- Create dictionaries\n",
    "- Use curly braces {} instead of brackets []\n",
    "\n",
    "pos_neg = {num: -num for num in range(9)}\n",
    "print(pos_neg)\n",
    "\n",
    "`{0: 0, 1: -1, 2: -2, 3: -3, 4: -4, 5: -5, 6: -6, 7: -7, 8: -8}`\n",
    "\n",
    "print(type(pos_neg))\n",
    "`<class 'dict'>`"
   ]
  },
  {
   "cell_type": "code",
   "execution_count": 47,
   "metadata": {},
   "outputs": [
    {
     "name": "stdout",
     "output_type": "stream",
     "text": [
      "{0: 0, 1: -1, 2: -2, 3: -3, 4: -4, 5: -5, 6: -6, 7: -7, 8: -8}\n",
      "<class 'dict'>\n"
     ]
    }
   ],
   "source": [
    "pos_neg = {num: -num for num in range(9)}\n",
    "print(pos_neg)\n",
    "print(type(pos_neg))"
   ]
  },
  {
   "attachments": {},
   "cell_type": "markdown",
   "metadata": {},
   "source": [
    "**Using conditionals in comprehensions (1)**\n",
    "\n",
    "You've been using list comprehensions to build lists of values, sometimes using operations to create these values.\n",
    "\n",
    "An interesting mechanism in list comprehensions is that you can also create lists with values that meet only a certain condition. One way of doing this is by using conditionals on iterator variables. In this exercise, you will do exactly that!\n",
    "\n",
    "Recall from the video that you can apply a conditional statement to test the iterator variable by adding an `if` statement in the optional predicate expression part after the `for` statement in the comprehension:\n",
    "\n",
    "[ output expression `for` iterator variable `in` iterable `if` predicate expression ].\n",
    "\n",
    "You will use this recipe to write a list comprehension for this exercise. You are given a list of strings `fellowship` and, using a list comprehension, you will create a list that only includes the members of `fellowship` that have 7 characters or more.\n",
    "\n",
    "STEPS\n",
    "Use member as the iterator variable in the list comprehension. For the conditional, use len() to evaluate the iterator variable. Note that you only want strings with 7 characters or more."
   ]
  },
  {
   "cell_type": "code",
   "execution_count": 51,
   "metadata": {},
   "outputs": [
    {
     "name": "stdout",
     "output_type": "stream",
     "text": [
      "['samwise', 'aragorn', 'legolas', 'boromir']\n"
     ]
    }
   ],
   "source": [
    "# Create a list of strings: fellowship\n",
    "fellowship = ['frodo', 'samwise', 'merry', 'aragorn', 'legolas', 'boromir', 'gimli']\n",
    "\n",
    "# Create list comprehension: new_fellowship\n",
    "new_fellowship = [member for member in fellowship if len(member) >= 7]\n",
    "\n",
    "# Print the new list\n",
    "print(new_fellowship)"
   ]
  },
  {
   "attachments": {},
   "cell_type": "markdown",
   "metadata": {},
   "source": [
    "**Using conditionals in comprehensions (2)**\n",
    "\n",
    "In the previous exercise, you used an `if` conditional statement in the predicate expression part of a list comprehension to evaluate an iterator variable. In this exercise, you will use an `if-else` statement on the output expression of the list.\n",
    "\n",
    "You will work on the same list, `fellowship` and, using a list comprehension and an `if-else` conditional statement in the output expression, create a list that keeps members of `fellowship` with 7 or more characters and replaces others with an empty string. Use `member` as the iterator variable in the list comprehension.\n",
    "\n",
    "STEPS\n",
    "In the output expression, keep the string as-is if the number of characters is >= 7, else replace it with an empty string - that is, '' or \"\"."
   ]
  },
  {
   "cell_type": "code",
   "execution_count": 52,
   "metadata": {},
   "outputs": [
    {
     "name": "stdout",
     "output_type": "stream",
     "text": [
      "['', 'samwise', '', 'aragorn', 'legolas', 'boromir', '']\n"
     ]
    }
   ],
   "source": [
    "# Create a list of strings: fellowship\n",
    "fellowship = ['frodo', 'samwise', 'merry', 'aragorn', 'legolas', 'boromir', 'gimli']\n",
    "\n",
    "# Create list comprehension: new_fellowship\n",
    "new_fellowship = [member if len(member) >= 7 else '' for member in fellowship]\n",
    "\n",
    "# Print the new list\n",
    "print(new_fellowship)"
   ]
  },
  {
   "attachments": {},
   "cell_type": "markdown",
   "metadata": {},
   "source": [
    "**Dict comprehensions**\n",
    "\n",
    "Comprehensions aren't relegated merely to the world of lists. There are many other objects you can build using comprehensions, such as dictionaries, pervasive objects in Data Science. You will create a dictionary using the comprehension syntax for this exercise. In this case, the comprehension is called a dict comprehension.\n",
    "\n",
    "Recall that the main difference between a list comprehension and a dict comprehension is the use of curly braces `{}` instead of `[]`. Additionally, members of the dictionary are created using a colon `:`, as in `<key> : <value>`.\n",
    "\n",
    "You are given a list of strings `fellowship` and, using a **dict comprehension**, create a dictionary with the members of the list as the keys and the length of each string as the corresponding values."
   ]
  },
  {
   "cell_type": "code",
   "execution_count": 53,
   "metadata": {},
   "outputs": [
    {
     "name": "stdout",
     "output_type": "stream",
     "text": [
      "{'frodo': 5, 'samwise': 7, 'merry': 5, 'aragorn': 7, 'legolas': 7, 'boromir': 7, 'gimli': 5}\n"
     ]
    }
   ],
   "source": [
    "# Create a list of strings: fellowship\n",
    "fellowship = ['frodo', 'samwise', 'merry', 'aragorn', 'legolas', 'boromir', 'gimli']\n",
    "\n",
    "# Create dict comprehension: new_fellowship\n",
    "new_fellowship = {member: len(member) for member in fellowship}\n",
    "\n",
    "# Print the new dictionary\n",
    "print(new_fellowship)"
   ]
  },
  {
   "attachments": {},
   "cell_type": "markdown",
   "metadata": {},
   "source": [
    "#### **Introduction to generator expressions**\n",
    "\n",
    "1. Generator expressions\n",
    "\n",
    "- Recall list comprehension\n",
    "[2 * num for num in range(10)]\n",
    "\n",
    "`[0, 2, 4, 6, 8, 10, 12, 14, 16, 18]`\n",
    "\n",
    "- Use ( ) instead of [ ]\n",
    "(2 * num for num in range(10))\n",
    "\n",
    "`<generator object <genexpr> at 0x1046bf888>`\n",
    "\n",
    "2. List comprehensions vs. generators\n",
    "\n",
    "- List comprehension - returns a list\n",
    "- Generators - returns a generator object\n",
    "- Both can be iterated over\n",
    "\n",
    "3. Printing values from generators (1)\n",
    "\n",
    "result = (num for num in range(6))\n",
    "for num in result:\n",
    "print(num)\n",
    "`0`\n",
    "`1`\n",
    "`2`\n",
    "`3`\n",
    "`4`\n",
    "`5`\n",
    "\n",
    "result = (num for num in range(6))\n",
    "print(list(result))\n",
    "`[0, 1, 2, 3, 4, 5]`\n",
    "\n",
    "4. Printing values from generators (2)\n",
    "\n",
    "result = (num for num in range(6))\n",
    "Lazy evaluation\n",
    "print(next(result))\n",
    "`0`\n",
    "print(next(result))\n",
    "`1`\n",
    "print(next(result))\n",
    "`2`\n",
    "print(next(result))\n",
    "`3`\n",
    "print(next(result))\n",
    "`4`\n",
    "\n",
    "5. Generators vs list comprehensions\n",
    "\n",
    "[num for num in range(10*1000000)]\n",
    "result: ERROR the code took too long to execute\n",
    "\n",
    "\n",
    "(num for num in range(10*1000000))\n",
    "<generator object <genexpr> at 0x7f8c2447a7d8>\n",
    "\n",
    "6. Conditionals in generator expressions\n",
    "even_nums = (num for num in range(10) if num % 2 == 0)\n",
    "print(list(even_nums))\n",
    "`[0, 2, 4, 6, 8]`\n",
    "\n",
    "7. Generator functions\n",
    "\n",
    "- Produces generator objects when called\n",
    "- Definied like a regular function - def\n",
    "- Yields a sequence of values instead of returning a single value\n",
    "- Generates a value with yield keyword\n",
    "\n",
    "8. Build a generator function\n",
    "\n",
    "- sequence.py\n",
    "def num_sequence(n):\n",
    "    \"\"\"Generate values from 0 to n.\"\"\"\n",
    "    i = 0\n",
    "    while i < n:\n",
    "        yield i\n",
    "        i += 1\n",
    "\n",
    "9. Use a generator function\n",
    "\n",
    "result = num_sequence(5)\n",
    "print(type(result))\n",
    "\n",
    "`<class 'generator'>`\n",
    "\n",
    "for item in result:\n",
    "print(item)\n",
    "\n",
    "`0`\n",
    "`1`\n",
    "`2`\n",
    "`3`\n",
    "`4`"
   ]
  },
  {
   "cell_type": "code",
   "execution_count": 59,
   "metadata": {},
   "outputs": [
    {
     "name": "stdout",
     "output_type": "stream",
     "text": [
      "[0, 2, 4, 6, 8]\n"
     ]
    }
   ],
   "source": [
    "even_nums = (num for num in range(10) if num % 2 == 0)\n",
    "print(list(even_nums))"
   ]
  },
  {
   "cell_type": "code",
   "execution_count": 61,
   "metadata": {},
   "outputs": [
    {
     "name": "stdout",
     "output_type": "stream",
     "text": [
      "<class 'generator'>\n",
      "0\n",
      "1\n",
      "2\n",
      "3\n",
      "4\n"
     ]
    }
   ],
   "source": [
    "def num_sequence(n):\n",
    "    \"\"\"Generate values from 0 to n.\"\"\"\n",
    "    i = 0\n",
    "    while i < n:\n",
    "        yield i\n",
    "        i += 1\n",
    "result = num_sequence(5)\n",
    "print(type(result))\n",
    "\n",
    "for item in result:\n",
    "    print(item)"
   ]
  },
  {
   "attachments": {},
   "cell_type": "markdown",
   "metadata": {},
   "source": [
    "**List comprehensions vs. generators**\n",
    "\n",
    "You've seen from the videos that list comprehensions and generator expressions look very similar in their syntax, except for the use of parentheses `()` in generator expressions and brackets `[]` in list comprehensions.\n",
    "\n",
    "In this exercise, you will recall the difference between list comprehensions and generators. To help with that task, the following code has been pre-loaded in the environment:\n",
    "\n",
    "-# List of strings\n",
    "fellowship = ['frodo', 'samwise', 'merry', 'aragorn', 'legolas', 'boromir', 'gimli']\n",
    "\n",
    "-# List comprehension\n",
    "fellow1 = [member for member in fellowship if len(member) >= 7]\n",
    "\n",
    "-# Generator expression\n",
    "fellow2 = (member for member in fellowship if len(member) >= 7)\n",
    "\n",
    "Try to play around with fellow1 and fellow2 by figuring out their types and printing out their values. Based on your observations and what you can recall from the video, select from the options below the best description for the difference between list comprehensions and generators."
   ]
  },
  {
   "cell_type": "code",
   "execution_count": 63,
   "metadata": {},
   "outputs": [
    {
     "name": "stdout",
     "output_type": "stream",
     "text": [
      "<class 'list'>\n",
      "<class 'generator'>\n",
      "samwise\n",
      "aragorn\n",
      "legolas\n",
      "boromir\n",
      "samwise\n",
      "aragorn\n",
      "legolas\n",
      "boromir\n"
     ]
    }
   ],
   "source": [
    "fellowship = ['frodo', 'samwise', 'merry', 'aragorn', 'legolas', 'boromir', 'gimli']\n",
    "fellow1 = [member for member in fellowship if len(member) >= 7]\n",
    "fellow2 = (member for member in fellowship if len(member) >= 7)\n",
    "print(type(fellow1))\n",
    "print(type(fellow2))\n",
    "\n",
    "for item in fellow1:\n",
    "    print(item)\n",
    "\n",
    "for item in fellow2:\n",
    "    print(item)"
   ]
  },
  {
   "attachments": {},
   "cell_type": "markdown",
   "metadata": {},
   "source": [
    "**Write your own generator expressions**\n",
    "\n",
    "You are familiar with what generators and generator expressions are, as well as its difference from list comprehensions. In this exercise, you will practice building generator expressions on your own.\n",
    "\n",
    "Recall that generator expressions basically have the same syntax as list comprehensions, except that it uses parentheses `()` instead of brackets `[]`; this should make things feel familiar! Furthermore, if you have ever iterated over a dictionary with `.items()`, or used the `range()` function, for example, you have already encountered and used generators before, without knowing it! When you use these functions, Python creates generators for you behind the scenes.\n",
    "\n",
    "Now, you will start simple by creating a generator object that produces numeric values.\n",
    "\n",
    "STEPS\n",
    "    Create a generator object that will produce values from 0 to 30. Assign the result to result and use num as the iterator variable in the generator expression.\n",
    "    Print the first 5 values by using next() appropriately in print().\n",
    "    Print the rest of the values by using a for loop to iterate over the generator object.\n"
   ]
  },
  {
   "cell_type": "code",
   "execution_count": 64,
   "metadata": {},
   "outputs": [
    {
     "name": "stdout",
     "output_type": "stream",
     "text": [
      "0\n",
      "1\n",
      "2\n",
      "3\n",
      "4\n",
      "5\n",
      "6\n",
      "7\n",
      "8\n",
      "9\n",
      "10\n",
      "11\n",
      "12\n",
      "13\n",
      "14\n",
      "15\n",
      "16\n",
      "17\n",
      "18\n",
      "19\n",
      "20\n",
      "21\n",
      "22\n",
      "23\n",
      "24\n",
      "25\n",
      "26\n",
      "27\n",
      "28\n",
      "29\n",
      "30\n"
     ]
    }
   ],
   "source": [
    "# Create generator object: result\n",
    "result = (num for num in range(31))\n",
    "\n",
    "# Print the first 5 values\n",
    "print(next(result))\n",
    "print(next(result))\n",
    "print(next(result))\n",
    "print(next(result))\n",
    "print(next(result))\n",
    "\n",
    "# Print the rest of the values\n",
    "for value in result:\n",
    "    print(value)\n"
   ]
  },
  {
   "attachments": {},
   "cell_type": "markdown",
   "metadata": {},
   "source": [
    "**Changing the output in generator expressions**\n",
    "\n",
    "Great! At this point, you already know how to write a basic generator expression. In this exercise, you will push this idea a little further by adding to the output expression of a generator expression. Because generator expressions and list comprehensions are so alike in syntax, this should be a familiar task for you!\n",
    "\n",
    "You are given a list of strings `lannister` and, using a generator expression, create a generator object that you will iterate over to print its values.\n",
    "\n",
    "STEPS\n",
    "    Write a generator expression that will generate the lengths of each string in lannister. Use person as the iterator variable. Assign the result to lengths.\n",
    "    Supply the correct iterable in the for loop for printing the values in the generator object."
   ]
  },
  {
   "cell_type": "code",
   "execution_count": 66,
   "metadata": {},
   "outputs": [
    {
     "name": "stdout",
     "output_type": "stream",
     "text": [
      "6\n",
      "5\n",
      "5\n",
      "6\n",
      "7\n"
     ]
    }
   ],
   "source": [
    "# Create a list of strings: lannister\n",
    "lannister = ['cersei', 'jaime', 'tywin', 'tyrion', 'joffrey']\n",
    "\n",
    "# Create a generator object: lengths\n",
    "lengths = (len(person) for person in lannister)\n",
    "\n",
    "# Iterate over and print the values in lengths\n",
    "for value in lengths:\n",
    "    print(value)"
   ]
  },
  {
   "attachments": {},
   "cell_type": "markdown",
   "metadata": {},
   "source": [
    "**Build a generator**\n",
    "\n",
    "In previous exercises, you've dealt mainly with writing generator expressions, which uses comprehension syntax. Being able to use comprehension syntax for generator expressions made your work so much easier!\n",
    "\n",
    "Now, recall from the video that not only are there generator expressions, there are generator functions as well. **Generator functions** are functions that, like generator expressions, yield a series of values, instead of returning a single value. A generator function is defined as you do a regular function, but whenever it generates a value, it uses the keyword `yield` instead of `return`.\n",
    "\n",
    "In this exercise, you will create a generator function with a similar mechanism as the generator expression you defined in the previous exercise:\n",
    "\n",
    "`lengths = (len(person) for person in lannister)`\n",
    "\n",
    "STEPS\n",
    "    Complete the function header for the function get_lengths() that has a single parameter, input_list.\n",
    "    In the for loop in the function definition, yield the length of the strings in input_list.\n",
    "    Complete the iterable part of the for loop for printing the values generated by the get_lengths() generator function. Supply the call to get_lengths(), passing in the list lannister.\n"
   ]
  },
  {
   "cell_type": "code",
   "execution_count": 68,
   "metadata": {},
   "outputs": [
    {
     "name": "stdout",
     "output_type": "stream",
     "text": [
      "6\n",
      "5\n",
      "5\n",
      "6\n",
      "7\n"
     ]
    }
   ],
   "source": [
    "# Create a list of strings\n",
    "lannister = ['cersei', 'jaime', 'tywin', 'tyrion', 'joffrey']\n",
    "\n",
    "# Define generator function get_lengths\n",
    "def get_lengths(input_list):\n",
    "    \"\"\"Generator function that yields the\n",
    "    length of the strings in input_list.\"\"\"\n",
    "\n",
    "    # Yield the length of a string\n",
    "    for person in input_list:\n",
    "            yield len(person)\n",
    "\n",
    "# Print the values generated by get_lengths()\n",
    "for value in get_lengths(lannister):\n",
    "    print(value)"
   ]
  },
  {
   "attachments": {},
   "cell_type": "markdown",
   "metadata": {},
   "source": [
    "#### **Wrapping up comprehensions and generators**\n",
    "\n",
    "1. Re-cap: list comprehensions\n",
    "\n",
    "- Basic\n",
    "[output expression for iterator variable in iterable]\n",
    "\n",
    "- Advanced\n",
    "\n",
    "[output expression +\n",
    "conditional on output for iterator variable in iterable +\n",
    "conditional on iterable]"
   ]
  },
  {
   "attachments": {},
   "cell_type": "markdown",
   "metadata": {},
   "source": [
    "**List comprehensions for time-stamped data**\n",
    "\n",
    "You will now make use of what you've learned from this chapter to solve a simple data extraction problem. You will also be introduced to a data structure, the pandas Series, in this exercise. We won't elaborate on it much here, but what you should know is that it is a data structure that you will be working with a lot of times when analyzing data from pandas DataFrames. You can think of DataFrame columns as single-dimension arrays called Series.\n",
    "\n",
    "In this exercise, you will be using a list comprehension to extract the time from time-stamped Twitter data. The pandas package has been imported as `pd` and the file `'tweets.csv'` has been imported as the `df` DataFrame for your use.\n",
    "\n",
    "STEPS\n",
    "    Extract the column 'created_at' from df and assign the result to tweet_time. Fun fact: the extracted column in tweet_time here is a Series data structure!\n",
    "    Create a list comprehension that extracts the time from each row in tweet_time. Each row is a string that represents a timestamp, and you will access the 12th to 19th characters in the string to extract the time. Use entry as the iterator variable and assign the result to tweet_clock_time. Remember that Python uses 0-based indexing!"
   ]
  },
  {
   "cell_type": "code",
   "execution_count": 71,
   "metadata": {},
   "outputs": [
    {
     "name": "stdout",
     "output_type": "stream",
     "text": [
      "['23:40:17', '23:40:17', '23:40:17', '23:40:17', '23:40:17', '23:40:17', '23:40:18', '23:40:17', '23:40:18', '23:40:18', '23:40:18', '23:40:17', '23:40:18', '23:40:18', '23:40:17', '23:40:18', '23:40:18', '23:40:17', '23:40:18', '23:40:17', '23:40:18', '23:40:18', '23:40:18', '23:40:18', '23:40:17', '23:40:18', '23:40:18', '23:40:17', '23:40:18', '23:40:18', '23:40:18', '23:40:18', '23:40:18', '23:40:18', '23:40:18', '23:40:18', '23:40:18', '23:40:18', '23:40:18', '23:40:18', '23:40:18', '23:40:18', '23:40:18', '23:40:18', '23:40:18', '23:40:18', '23:40:18', '23:40:18', '23:40:18', '23:40:18', '23:40:18', '23:40:18', '23:40:18', '23:40:18', '23:40:18', '23:40:18', '23:40:18', '23:40:18', '23:40:18', '23:40:18', '23:40:19', '23:40:18', '23:40:18', '23:40:18', '23:40:19', '23:40:19', '23:40:19', '23:40:18', '23:40:19', '23:40:19', '23:40:19', '23:40:18', '23:40:19', '23:40:19', '23:40:19', '23:40:18', '23:40:19', '23:40:19', '23:40:19', '23:40:19', '23:40:19', '23:40:19', '23:40:19', '23:40:19', '23:40:19', '23:40:19', '23:40:19', '23:40:19', '23:40:19', '23:40:19', '23:40:19', '23:40:19', '23:40:19', '23:40:19', '23:40:19', '23:40:19', '23:40:19', '23:40:19', '23:40:19', '23:40:19']\n"
     ]
    }
   ],
   "source": [
    "# Import pandas\n",
    "import pandas as pd\n",
    "\n",
    "# Import Twitter data as DataFrame: df\n",
    "tweets_df = pd.read_csv(r'G:\\My Drive\\Data Science\\Datacamp_Notebook\\Datacamp_Notebook\\datasets\\tweets.csv')\n",
    "\n",
    "\n",
    "# Extract the created_at column from df: tweet_time\n",
    "tweet_time = tweets_df['created_at']\n",
    "\n",
    "# Extract the clock time: tweet_clock_time\n",
    "tweet_clock_time = [entry[11:19] for entry in tweet_time]\n",
    "\n",
    "# Print the extracted times\n",
    "print(tweet_clock_time)\n"
   ]
  },
  {
   "attachments": {},
   "cell_type": "markdown",
   "metadata": {},
   "source": [
    "**Conditional list comprehensions for time-stamped data**\n",
    "\n",
    "Great, you've successfully extracted the data of interest, the time, from a pandas DataFrame! Let's tweak your work further by adding a conditional that further specifies which entries to select.\n",
    "\n",
    "In this exercise, you will be using a list comprehension to extract the time from time-stamped Twitter data. You will add a conditional expression to the list comprehension so that you only select the times in which `entry[17:19]` is equal to `'19'`. The pandas package has been imported as `pd` and the file `'tweets.csv'` has been imported as the `df` DataFrame for your use.\n",
    "\n",
    "STEPS\n",
    "    Extract the column 'created_at' from df and assign the result to tweet_time.\n",
    "    Create a list comprehension that extracts the time from each row in tweet_time. Each row is a string that represents a timestamp, and you will access the 12th to 19th characters in the string to extract the time. Use entry as the iterator variable and assign the result to tweet_clock_time. Additionally, add a conditional expression that checks whether entry[17:19] is equal to '19'.\n"
   ]
  },
  {
   "cell_type": "code",
   "execution_count": 73,
   "metadata": {},
   "outputs": [
    {
     "name": "stdout",
     "output_type": "stream",
     "text": [
      "['23:40:19', '23:40:19', '23:40:19', '23:40:19', '23:40:19', '23:40:19', '23:40:19', '23:40:19', '23:40:19', '23:40:19', '23:40:19', '23:40:19', '23:40:19', '23:40:19', '23:40:19', '23:40:19', '23:40:19', '23:40:19', '23:40:19', '23:40:19', '23:40:19', '23:40:19', '23:40:19', '23:40:19', '23:40:19', '23:40:19', '23:40:19', '23:40:19', '23:40:19', '23:40:19', '23:40:19', '23:40:19', '23:40:19', '23:40:19']\n"
     ]
    }
   ],
   "source": [
    "# Extract the created_at column from df: tweet_time\n",
    "tweet_time = tweets_df['created_at']\n",
    "\n",
    "# Extract the clock time: tweet_clock_time\n",
    "tweet_clock_time = [entry[11:19] for entry in tweet_time if entry[17:19] == '19']\n",
    "\n",
    "# Print the extracted times\n",
    "print(tweet_clock_time)"
   ]
  },
  {
   "attachments": {},
   "cell_type": "markdown",
   "metadata": {},
   "source": [
    "## **Bringing it all together! (Module 03-046)**"
   ]
  },
  {
   "attachments": {},
   "cell_type": "markdown",
   "metadata": {},
   "source": [
    "#### **Welcome to the case study!**\n",
    "\n",
    "1. World bank data\n",
    "\n",
    "- Data on world economies for over half a century\n",
    "- Indicators\n",
    "    - Population\n",
    "    - Electricity consumption\n",
    "    - CO2 emissions\n",
    "    - Literacy rates\n",
    "    - Unemployment\n",
    "    - Mortality rates\n",
    "\n",
    "2. Using zip()\n",
    "\n",
    "avengers = ['hawkeye', 'iron man', 'thor', 'quicksilver']\n",
    "names = ['barton', 'stark', 'odinson', 'maximoff']\n",
    "\n",
    "z = zip(avengers, names)\n",
    "print(type(z))\n",
    "`<class 'zip'>`\n",
    "\n",
    "print(list(z))\n",
    "`[('hawkeye', 'barton'), ('iron man', 'stark'),`\n",
    "`('thor', 'odinson'), ('quicksilver', 'maximoff')]`\n",
    "\n",
    "3. Defining a function\n",
    "- raise.py\n",
    "def raise_both(value1, value2):\n",
    "    \"\"\"Raise value1 to the power of value2\n",
    "    and vice versa.\"\"\"\n",
    "    new_value1 = value1 ** value2\n",
    "    new_value2 = value2 ** value1\n",
    "    new_tuple = (new_value1, new_value2)\n",
    "    return new_tuple\n",
    "\n",
    "4. Re-cap: list comprehensions\n",
    "\n",
    "- Basic\n",
    "[output expression for iterator variable in iterable]\n",
    "- Advanced\n",
    "[output expression +\n",
    "conditional on output for iterator variable in iterable +\n",
    "conditional on iterable]"
   ]
  },
  {
   "attachments": {},
   "cell_type": "markdown",
   "metadata": {},
   "source": [
    "**Dictionaries for data science**\n",
    "\n",
    "For this exercise, you'll use what you've learned about the `zip()` function and combine two lists into a dictionary.\n",
    "\n",
    "These lists are actually extracted from a *bigger dataset file of world development indicators from the World Bank*. For pedagogical purposes, we have pre-processed this dataset into the lists that you'll be working with.\n",
    "\n",
    "The first list `feature_names` contains header names of the dataset and the second list `row_vals` contains actual values of a row from the dataset, corresponding to each of the header names."
   ]
  },
  {
   "cell_type": "code",
   "execution_count": 207,
   "metadata": {},
   "outputs": [
    {
     "name": "stdout",
     "output_type": "stream",
     "text": [
      "['CountryName', 'CountryCode', 'Year', 'Total Population', 'Urban population (% of total)']\n",
      "['Central Europe and the Baltics', 'CEB', 1960, 91401583.0, 44.5079211390026]\n",
      "{'CountryName': 'Central Europe and the Baltics', 'CountryCode': 'CEB', 'Year': 1960, 'Total Population': 91401583.0, 'Urban population (% of total)': 44.5079211390026}\n"
     ]
    }
   ],
   "source": [
    "# Import pandas and nunpy\n",
    "import pandas as pd\n",
    "import numpy as np\n",
    "\n",
    "# Import Twitter data as DataFrame: df\n",
    "world_ind_pop_data = pd.read_csv(r'G:\\My Drive\\Data Science\\Datacamp_Notebook\\Datacamp_Notebook\\datasets\\world_ind_pop_data.csv')\n",
    "\n",
    "def extract_header_as_list(df):\n",
    "    \"\"\"function to extract the header of a given dataframe as a list\"\"\"\n",
    "    header = df.keys()\n",
    "    return list(header)\n",
    "\n",
    "feature_names = extract_header_as_list(world_ind_pop_data)\n",
    "print(feature_names)\n",
    "\n",
    "def extract_one_row_as_list(df,start_row,stop_row):\n",
    "    \"\"\"function to extract one values (one rows) of a given dataframe as a list\"\"\"\n",
    "    # Data wrangling\n",
    "    window = df.values[start_row:stop_row,:]\n",
    "    windowflatten = window.flatten()\n",
    "    windowlist = windowflatten.tolist()\n",
    "    # Define Restriction\n",
    "    if stop_row-start_row != 1:\n",
    "        raise ValueError('Error: you must select just one row!')\n",
    "    #Function Output\n",
    "    return windowlist\n",
    "row_vals = extract_one_row_as_list(world_ind_pop_data,2,3)\n",
    "print(row_vals)\n",
    "\n",
    "##### Actual excercise\n",
    "\n",
    "# Zip lists: zipped_lists\n",
    "zipped_lists = zip(feature_names,row_vals)\n",
    "\n",
    "# Create a dictionary: rs_dict\n",
    "rs_dict = dict(zipped_lists)\n",
    "\n",
    "# Print the dictionary\n",
    "print(rs_dict)"
   ]
  },
  {
   "attachments": {},
   "cell_type": "markdown",
   "metadata": {},
   "source": [
    "**Writing a function to help you**\n",
    "\n",
    "Suppose you needed to repeat the same process done in the previous exercise to many, many rows of data. Rewriting your code again and again could become very tedious, repetitive, and unmaintainable.\n",
    "\n",
    "In this exercise, you will create a function to house the code you wrote earlier to make things easier and much more concise. Why? This way, you only need to call the function and supply the appropriate lists to create your dictionaries! Again, the lists feature_names and row_vals are preloaded and these contain the header names of the dataset and actual values of a row from the dataset, respectively."
   ]
  },
  {
   "cell_type": "code",
   "execution_count": 208,
   "metadata": {},
   "outputs": [
    {
     "name": "stdout",
     "output_type": "stream",
     "text": [
      "{'CountryName': 'Euro area', 'CountryCode': 'EMU', 'Year': 1960, 'Total Population': 265396501.0, 'Urban population (% of total)': 62.09694690167751}\n"
     ]
    }
   ],
   "source": [
    "def extract_header_as_list(df):\n",
    "    \"\"\"function to extract the header of a given dataframe as a list\"\"\"\n",
    "    header = df.keys()\n",
    "    return list(header)\n",
    "\n",
    "feature_names = extract_header_as_list(world_ind_pop_data)\n",
    "#print(feature_names)\n",
    "\n",
    "def extract_one_row_as_list(df,start_row,stop_row):\n",
    "    \"\"\"function to extract one values (one rows) of a given dataframe as a list\"\"\"\n",
    "    # Data wrangling\n",
    "    window = df.values[start_row:stop_row,:]\n",
    "    windowflatten = window.flatten()\n",
    "    windowlist = windowflatten.tolist()\n",
    "    # Define Restriction\n",
    "    if stop_row-start_row != 1:\n",
    "        raise ValueError('Error: you must select just one row!')\n",
    "    #Function Output\n",
    "    return windowlist\n",
    "    \n",
    "row_vals = extract_one_row_as_list(world_ind_pop_data,5,6)\n",
    "#print(row_vals)\n",
    "\n",
    "##### Actual excercise\n",
    "\n",
    "# Define lists2dict()\n",
    "def lists2dict(list1, list2):\n",
    "    \"\"\"Return a dictionary where list1 provides\n",
    "    the keys and list2 provides the values.\"\"\"\n",
    "\n",
    "    # Zip lists: zipped_lists\n",
    "    zipped_lists = zip(list1, list2)\n",
    "\n",
    "    # Create a dictionary: rs_dict\n",
    "    rs_dict = dict(zipped_lists)\n",
    "\n",
    "    # Return the dictionary\n",
    "    return rs_dict\n",
    "\n",
    "# Call lists2dict: rs_fxn\n",
    "rs_fxn = lists2dict(feature_names,row_vals)\n",
    "\n",
    "# Print rs_fxn\n",
    "print(rs_fxn)\n"
   ]
  },
  {
   "attachments": {},
   "cell_type": "markdown",
   "metadata": {},
   "source": [
    "**Using a list comprehension**\n",
    "\n",
    "This time, you're going to use the `lists2dict()` function you defined in the last exercise to turn a bunch of lists into a list of dictionaries with the help of a list comprehension.\n",
    "\n",
    "The `lists2dict()` function has already been preloaded, together with a couple of lists, `feature_names` and `row_lists`. `feature_names` contains the header names of the World Bank dataset and `row_lists` is a list of lists, where each sublist is a list of actual values of a row from the dataset.\n",
    "\n",
    "Your goal is to use a list comprehension to generate a list of dicts, where the keys are the header names and the values are the row entries.\n",
    "\n",
    "STEPS\n",
    "\n",
    "\n",
    "    Inspect the contents of row_lists by printing the first two lists in row_lists.\n",
    "    Create a list comprehension that generates a dictionary using lists2dict() for each sublist in row_lists. The keys are from the feature_names list and the values are the row entries in row_lists. Use sublist as your iterator variable and assign the resulting list of dictionaries to list_of_dicts.\n",
    "    Look at the first two dictionaries in list_of_dicts by printing them out."
   ]
  },
  {
   "cell_type": "code",
   "execution_count": 233,
   "metadata": {},
   "outputs": [
    {
     "name": "stdout",
     "output_type": "stream",
     "text": [
      "['Arab World', 'ARB', 1960, 92495902.0, 31.2853842116054]\n",
      "['Caribbean small states', 'CSS', 1960, 4190810.0, 31.5974898513652]\n",
      "{'CountryName': 'Arab World', 'CountryCode': 'ARB', 'Year': 1960, 'Total Population': 92495902.0, 'Urban population (% of total)': 31.2853842116054}\n",
      "{'CountryName': 'Caribbean small states', 'CountryCode': 'CSS', 'Year': 1960, 'Total Population': 4190810.0, 'Urban population (% of total)': 31.5974898513652}\n"
     ]
    }
   ],
   "source": [
    "def extract_header_as_list(df):\n",
    "    \"\"\"function to extract the header of a given dataframe as a list\"\"\"\n",
    "    header = df.keys()\n",
    "    return list(header)\n",
    "\n",
    "feature_names = extract_header_as_list(world_ind_pop_data)\n",
    "#print(feature_names)\n",
    "\n",
    "def extract_window_row_as_list(df,start_row,stop_row):\n",
    "    \"\"\"function to subset a window of values (rows) of a given dataframe as a list\"\"\"\n",
    "    # Data wrangling\n",
    "    window = df.values[start_row:stop_row,:]\n",
    "    windowlist = window.tolist()\n",
    "    #Function Output\n",
    "    return windowlist\n",
    "    \n",
    "row_lists = extract_window_row_as_list(world_ind_pop_data,0,50)\n",
    "#print(row_lists)\n",
    "\n",
    "### def function\n",
    "\n",
    "# Define lists2dict()\n",
    "def lists2dict(list1, list2):\n",
    "    \"\"\"Return a dictionary where list1 provides\n",
    "    the keys and list2 provides the values.\"\"\"\n",
    "\n",
    "    # Zip lists: zipped_lists\n",
    "    zipped_lists = zip(list1, list2)\n",
    "\n",
    "    # Create a dictionary: rs_dict\n",
    "    rs_dict = dict(zipped_lists)\n",
    "\n",
    "    # Return the dictionary\n",
    "    return rs_dict\n",
    "\n",
    "\n",
    "##### Actual excercise\n",
    "\n",
    "# Print the first two lists in row_lists\n",
    "print(row_lists[0])\n",
    "print(row_lists[1])\n",
    "\n",
    "# Turn list of lists into list of dicts: list_of_dicts\n",
    "list_of_dicts = [lists2dict(feature_names,sublist) for sublist in row_lists]\n",
    "\n",
    "# Print the first two dictionaries in list_of_dicts\n",
    "print(list_of_dicts[0])\n",
    "print(list_of_dicts[1])"
   ]
  },
  {
   "attachments": {},
   "cell_type": "markdown",
   "metadata": {},
   "source": [
    "**Turning this all into a DataFrame**\n",
    "\n",
    "You've zipped lists together, created a function to house your code, and even used the function in a list comprehension to generate a list of dictionaries. That was a lot of work and you did a great job!\n",
    "\n",
    "You will now use all of these to convert the list of dictionaries into a pandas DataFrame. You will see how convenient it is to generate a DataFrame from dictionaries with the DataFrame() function from the pandas package.\n",
    "\n",
    "The `lists2dict()` function, `feature_names` list, and `row_lists` list have been preloaded for this exercise.\n",
    "\n",
    "Go for it!\n",
    "\n",
    "STEPS\n",
    "    To use the DataFrame() function you need, first import the pandas package with the alias pd.\n",
    "    Create a DataFrame from the list of dictionaries in list_of_dicts by calling pd.DataFrame(). Assign the resulting DataFrame to df.\n",
    "    Inspect the contents of df printing the head of the DataFrame. Head of the DataFrame df can be accessed by calling df.head()."
   ]
  },
  {
   "cell_type": "code",
   "execution_count": 235,
   "metadata": {},
   "outputs": [
    {
     "name": "stdout",
     "output_type": "stream",
     "text": [
      "                               CountryName CountryCode  Year  \\\n",
      "0                               Arab World         ARB  1960   \n",
      "1                   Caribbean small states         CSS  1960   \n",
      "2           Central Europe and the Baltics         CEB  1960   \n",
      "3  East Asia & Pacific (all income levels)         EAS  1960   \n",
      "4    East Asia & Pacific (developing only)         EAP  1960   \n",
      "\n",
      "   Total Population  Urban population (% of total)  \n",
      "0      9.249590e+07                      31.285384  \n",
      "1      4.190810e+06                      31.597490  \n",
      "2      9.140158e+07                      44.507921  \n",
      "3      1.042475e+09                      22.471132  \n",
      "4      8.964930e+08                      16.917679  \n"
     ]
    }
   ],
   "source": [
    "# Import the pandas package\n",
    "import pandas as pd\n",
    "\n",
    "# Turn list of lists into list of dicts: list_of_dicts\n",
    "list_of_dicts = [lists2dict(feature_names, sublist) for sublist in row_lists]\n",
    "\n",
    "# Turn list of dicts into a DataFrame: df\n",
    "df = pd.DataFrame(list_of_dicts)\n",
    "\n",
    "# Print the head of the DataFrame\n",
    "print(df.head())"
   ]
  },
  {
   "attachments": {},
   "cell_type": "markdown",
   "metadata": {},
   "source": [
    "#### **Using Python generators for streaming data**\n",
    "\n",
    "1. Generators for the large data limit\n",
    "\n",
    "- Use a generator to load a file line by line\n",
    "- Works on streaming data!\n",
    "- Read and process the \n",
    "\n",
    "2. Build a generator function\n",
    "\n",
    "- sequence.py\n",
    "def num_sequence(n):\n",
    "    \"\"\"Generate values from 0 to n.\"\"\"\n",
    "    i = 0\n",
    "    while i < n:\n",
    "        yield i\n",
    "        i += 1"
   ]
  },
  {
   "attachments": {},
   "cell_type": "markdown",
   "metadata": {},
   "source": [
    "**Processing data in chunks (1)**\n",
    "\n",
    "Sometimes, data sources can be so large in size that storing the entire dataset in memory becomes too resource-intensive. In this exercise, you will process the first 1000 rows of a file line by line, to create a dictionary of the counts of how many times each country appears in a column in the dataset.\n",
    "\n",
    "The csv file `'world_dev_ind.csv'` is in your current directory for your use. To begin, you need to open a connection to this file using what is known as a context manager. For example, the command `with open('datacamp.csv') as datacamp` binds the csv file `'datacamp.csv'` as datacamp in the context manager. Here, the with statement is the context manager, and its purpose is to ensure that resources are efficiently allocated when opening a connection to a file.\n",
    "\n",
    "If you'd like to learn more about context managers, refer to the **DataCamp course on Importing Data in Python.**"
   ]
  },
  {
   "cell_type": "code",
   "execution_count": 1,
   "metadata": {},
   "outputs": [
    {
     "name": "stdout",
     "output_type": "stream",
     "text": [
      "perrenque\n"
     ]
    }
   ],
   "source": [
    "print(\"perrenque\")"
   ]
  }
 ],
 "metadata": {
  "kernelspec": {
   "display_name": "Python 3",
   "language": "python",
   "name": "python3"
  },
  "language_info": {
   "codemirror_mode": {
    "name": "ipython",
    "version": 3
   },
   "file_extension": ".py",
   "mimetype": "text/x-python",
   "name": "python",
   "nbconvert_exporter": "python",
   "pygments_lexer": "ipython3",
   "version": "3.10.0"
  },
  "orig_nbformat": 4,
  "vscode": {
   "interpreter": {
    "hash": "26de051ba29f2982a8de78e945f0abaf191376122a1563185a90213a26c5da77"
   }
  }
 },
 "nbformat": 4,
 "nbformat_minor": 2
}
