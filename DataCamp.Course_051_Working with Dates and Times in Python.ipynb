{
 "cells": [
  {
   "attachments": {},
   "cell_type": "markdown",
   "metadata": {},
   "source": [
    "# **DataCamp.Course_051_Working with Dates and Times in Python**\n",
    "\n",
    "### **Course Description**\n",
    "\n",
    "You'll probably never have a time machine, but how about a machine for analyzing time? As soon as time enters any analysis, things can get weird. It's easy to get tripped up on day and month boundaries, time zones, daylight saving time, and all sorts of other things that can confuse the unprepared. If you're going to do any kind of analysis involving time, you’ll want to use Python to sort it out. Working with data sets on hurricanes and bike trips, we’ll cover counting events, figuring out how much time has elapsed between events and plotting data over time. You'll work in both standard Python and in Pandas, and we'll touch on the dateutil library, the only timezone library endorsed by the official Python documentation. After this course, you'll confidently handle date and time data in any format like a champion. "
   ]
  },
  {
   "cell_type": "code",
   "execution_count": 6,
   "metadata": {},
   "outputs": [
    {
     "name": "stdout",
     "output_type": "stream",
     "text": [
      "   YEAR GoogleKnowlege_Occupation     Show   Group    Raw_Guest_List\n",
      "0  1999                     actor  1/11/99  Acting    Michael J. Fox\n",
      "1  1999                  Comedian  1/12/99  Comedy   Sandra Bernhard\n",
      "2  1999        television actress  1/13/99  Acting     Tracey Ullman\n",
      "3  1999              film actress  1/14/99  Acting  Gillian Anderson\n",
      "4  1999                     actor  1/18/99  Acting  David Alan Grier\n"
     ]
    }
   ],
   "source": [
    "# read_csv function\n",
    "\n",
    "import os\n",
    "import pandas as pd\n",
    "folder_name = 'datasets'\n",
    "dir = r'G:\\My Drive\\Data Science\\Datacamp_Notebook\\Datacamp_Notebook\\{}'.format(folder_name)\n",
    "\n",
    "def read_csv_fun(folder_name,file_name, path):\n",
    "    path = dir\n",
    "    os.chdir(path)\n",
    "    df = pd.read_csv('{}.csv'.format(file_name), sep=',', low_memory=False, on_bad_lines='skip')\n",
    "    return df\n",
    "\n",
    "df_show = read_csv_fun('datasets','daily_show_guests_cleaned', dir)\n",
    "print(df_show.head(5))"
   ]
  },
  {
   "attachments": {},
   "cell_type": "markdown",
   "metadata": {},
   "source": [
    "## **Dates and Calendars (Module 01-051)**"
   ]
  },
  {
   "attachments": {},
   "cell_type": "markdown",
   "metadata": {},
   "source": [
    "#### **Dates in Python**\n",
    "\n",
    "1. Course overview\n",
    "Chapter 1: Dates and Calendars\n",
    "Chapter 2: Combining Dates and Times\n",
    "Chapter 3: Time zones and Daylight Saving\n",
    "Chapter 4: Dates and Times in Pandas\n",
    "\n",
    "2. Why do we need a date class in Python?\n",
    "two_hurricanes = [\"10/7/2016\", \"6/21/2017\"]\n",
    "How would you:\n",
    "- Figure out how many days had elapsed?\n",
    "- Check that they were in order from earliest to latest?\n",
    "- Know which day of the week each was?\n",
    "- Filter out hurricanes which happened between certain dates?\n",
    "\n",
    "3. Creating date objects\n",
    "*-# Import date*\n",
    "from datetime import date\n",
    "*-# Create dates*\n",
    "two_hurricanes_dates = [date(2016, 10, 7), date(2017, 6, 21)]\n",
    "\n",
    "4. Attributes of a date\n",
    "\n",
    "*-# Import date*\n",
    "from datetime import date\n",
    "\n",
    "*-# Create dates*\n",
    "two_hurricanes_dates = [date(2016, 10, 7), date(2017, 6, 21)]\n",
    "print(two_hurricanes_dates[0].year)\n",
    "print(two_hurricanes_dates[0].month)\n",
    "print(two_hurricanes_dates[0].day)\n",
    "\n",
    "`2016`\n",
    "`10`\n",
    "`7`\n",
    "\n",
    "5. Finding the weekday of a date\n",
    "print(two_hurricanes_dates[0].weekday())\n",
    "\n",
    "Weekdays in Python\n",
    "0 = Monday\n",
    "1 = Tuesday\n",
    "2 = Wednesday\n",
    "...\n",
    "6 = Sunday"
   ]
  },
  {
   "cell_type": "code",
   "execution_count": 3,
   "metadata": {},
   "outputs": [
    {
     "name": "stdout",
     "output_type": "stream",
     "text": [
      "2016\n",
      "10\n",
      "7\n",
      "4\n"
     ]
    }
   ],
   "source": [
    "# Import date\n",
    "from datetime import date\n",
    "# Create dates\n",
    "two_hurricanes_dates = [date(2016, 10, 7), date(2017, 6, 21)]\n",
    "print(two_hurricanes_dates[0].year)\n",
    "print(two_hurricanes_dates[0].month)\n",
    "print(two_hurricanes_dates[0].day)\n",
    "\n",
    "print(two_hurricanes_dates[0].weekday())"
   ]
  },
  {
   "attachments": {},
   "cell_type": "markdown",
   "metadata": {},
   "source": [
    "**Which day of the week?**\n",
    "\n",
    "Hurricane Andrew, which hit Florida on August 24, 1992, was one of the costliest and deadliest hurricanes in US history. Which day of the week did it make landfall?\n",
    "\n",
    "Let's walk through all of the steps to figure this out.\n",
    "\n",
    "*0 = Monday*"
   ]
  },
  {
   "cell_type": "code",
   "execution_count": 5,
   "metadata": {},
   "outputs": [
    {
     "name": "stdout",
     "output_type": "stream",
     "text": [
      "0\n"
     ]
    }
   ],
   "source": [
    "# Import date from datetime\n",
    "from datetime import date\n",
    "\n",
    "# Create a date object\n",
    "hurricane_andrew = date(1992, 8, 24)\n",
    "\n",
    "# Which day of the week is the date?\n",
    "print(hurricane_andrew.weekday())"
   ]
  },
  {
   "attachments": {},
   "cell_type": "markdown",
   "metadata": {},
   "source": [
    "**How many hurricanes come early?**\n",
    "\n",
    "In this chapter, you will work with a list of the hurricanes that made landfall in Florida from 1950 to 2017. There were 235 in total. Check out the variable `florida_hurricane_dates`, which has all of these dates.\n",
    "\n",
    "Atlantic hurricane season officially begins on June 1. How many hurricanes since 1950 have made landfall in Florida before the official start of hurricane season?\n",
    "\n",
    "STEPS\n",
    "    Complete the for loop to iterate through florida_hurricane_dates.\n",
    "    Complete the if statement to increment the counter (early_hurricanes) if the hurricane made landfall before June."
   ]
  },
  {
   "cell_type": "code",
   "execution_count": 10,
   "metadata": {},
   "outputs": [
    {
     "data": {
      "text/plain": [
       "[datetime.date(1988, 8, 4),\n",
       " datetime.date(1990, 10, 12),\n",
       " datetime.date(2003, 4, 20),\n",
       " datetime.date(1971, 9, 1),\n",
       " datetime.date(1988, 8, 23)]"
      ]
     },
     "metadata": {},
     "output_type": "display_data"
    }
   ],
   "source": [
    "# import pkl file\n",
    "florida_hurricane_dates = pd.read_pickle(r'G:\\My Drive\\Data Science\\Datacamp_Notebook\\Datacamp_Notebook\\datasets\\florida_hurricane_dates.pkl')\n",
    "display(florida_hurricane_dates[0:5])"
   ]
  },
  {
   "cell_type": "code",
   "execution_count": 11,
   "metadata": {},
   "outputs": [
    {
     "name": "stdout",
     "output_type": "stream",
     "text": [
      "10\n"
     ]
    }
   ],
   "source": [
    "# Counter for how many before June 1\n",
    "early_hurricanes = 0\n",
    "\n",
    "# We loop over the dates\n",
    "for hurricane in florida_hurricane_dates:\n",
    "  # Check if the month is before June (month number 6)\n",
    "  if hurricane.month < 6:\n",
    "    early_hurricanes = early_hurricanes + 1\n",
    "    \n",
    "print(early_hurricanes)"
   ]
  },
  {
   "attachments": {},
   "cell_type": "markdown",
   "metadata": {},
   "source": [
    "#### **Math with dates**\n",
    "\n",
    "1. Math with dates\n",
    "\n",
    "- numbers range\n",
    "*-# Example numbers*\n",
    "a = 11\n",
    "b = 14\n",
    "l = [a, b]\n",
    "*-# Find the least least in the list*\n",
    "print(min(l))\n",
    "11\n",
    "\n",
    "*-# Subtract two numbers*\n",
    "print(b - a)\n",
    "3\n",
    "*-# Add 3 to a*\n",
    "print(a + 3)\n",
    "14 \n",
    "\n",
    "- date range\n",
    "\n",
    "*-# Import date*\n",
    "from datetime import date\n",
    "*-# Create our dates*\n",
    "d1 = date(2017, 11, 5)\n",
    "d2 = date(2017, 12, 4)\n",
    "l = [d1, d2]\n",
    "print(min(l))\n",
    "2017-11-05\n",
    "\n",
    "*-# Subtract two dates*\n",
    "delta = d2 - d1\n",
    "print(delta.days)\n",
    "29\n",
    "\n",
    "*-# Import timedelta*\n",
    "from datetime import timedelta\n",
    "*-# Create a 29 day timedelta*\n",
    "td = timedelta(days=29)\n",
    "print(d1 + td)\n",
    "2017-12-04\n",
    "\n",
    "2. Incrementing variables with +=\n",
    "\n",
    "*-# Initialize x to be zero*\n",
    "x = 0\n",
    "*-# Increment x*\n",
    "x = x + 1\n",
    "print(x)\n",
    "1\n",
    "\n",
    "*-# Initialize x to be zero*\n",
    "x = 0\n",
    "*-# Increment x*\n",
    "x += 1\n",
    "print(x)\n",
    "1"
   ]
  },
  {
   "cell_type": "code",
   "execution_count": 13,
   "metadata": {},
   "outputs": [
    {
     "name": "stdout",
     "output_type": "stream",
     "text": [
      "2017-11-05\n",
      "29\n",
      "2017-12-04\n"
     ]
    }
   ],
   "source": [
    "# Import date\n",
    "from datetime import date\n",
    "# Create our dates\n",
    "d1 = date(2017, 11, 5)\n",
    "d2 = date(2017, 12, 4)\n",
    "l = [d1, d2]\n",
    "print(min(l))\n",
    "\n",
    "# Subtract two dates\n",
    "delta = d2 - d1\n",
    "print(delta.days)\n",
    "\n",
    "# Import timedelta\n",
    "from datetime import timedelta\n",
    "# Create a 29 day timedelta\n",
    "td = timedelta(days=29)\n",
    "print(d1 + td)"
   ]
  },
  {
   "cell_type": "code",
   "execution_count": 21,
   "metadata": {},
   "outputs": [
    {
     "name": "stdout",
     "output_type": "stream",
     "text": [
      "1\n",
      "1\n"
     ]
    }
   ],
   "source": [
    "# Initialize x to be zero\n",
    "x = 0\n",
    "# Increment x\n",
    "x += 1\n",
    "print(x)\n",
    "\n",
    "# Initialize x to be zero\n",
    "x = 0\n",
    "# Increment x\n",
    "x = x + 1\n",
    "print(x)"
   ]
  },
  {
   "attachments": {},
   "cell_type": "markdown",
   "metadata": {},
   "source": [
    "**Subtracting dates**\n",
    "\n",
    "Python date objects let us treat calendar dates as something similar to numbers: we can compare them, sort them, add, and even subtract them. This lets us do math with dates in a way that would be a pain to do by hand.\n",
    "\n",
    "The 2007 Florida hurricane season was one of the busiest on record, with 8 hurricanes in one year. The first one hit on May 9th, 2007, and the last one hit on December 13th, 2007. How many days elapsed between the first and last hurricane in 2007?\n",
    "\n",
    "STEPS\n",
    "    Import date from datetime.\n",
    "    Create a date object for May 9th, 2007, and assign it to the start variable.\n",
    "    Create a date object for December 13th, 2007, and assign it to the end variable.\n",
    "    Subtract start from end, to print the number of days in the resulting timedelta object."
   ]
  },
  {
   "cell_type": "code",
   "execution_count": 22,
   "metadata": {},
   "outputs": [
    {
     "name": "stdout",
     "output_type": "stream",
     "text": [
      "218\n"
     ]
    }
   ],
   "source": [
    "# Import date\n",
    "from datetime import date\n",
    "\n",
    "# Create a date object for May 9th, 2007\n",
    "start = date(2007, 5, 9)\n",
    "\n",
    "# Create a date object for December 13th, 2007\n",
    "end = date(2007, 12, 13)\n",
    "\n",
    "# Subtract the two dates and print the number of days\n",
    "print((end - start).days)"
   ]
  },
  {
   "attachments": {},
   "cell_type": "markdown",
   "metadata": {},
   "source": [
    "**Counting events per calendar month**\n",
    "\n",
    "Hurricanes can make landfall in Florida throughout the year. As we've already discussed, some months are more hurricane-prone than others.\n",
    "\n",
    "Using `florida_hurricane_dates`, let's see how hurricanes in Florida were distributed across months throughout the year.\n",
    "\n",
    "We've created a dictionary called `hurricanes_each_month` to hold your counts and set the initial counts to zero. You will loop over the list of hurricanes, incrementing the correct month in `hurricanes_each_month` as you go, and then print the result.\n",
    "\n",
    "STEPS\n",
    "    Within the for loop:\n",
    "    Assign month to be the month of that hurricane.\n",
    "    Increment hurricanes_each_month for the relevant month by 1."
   ]
  },
  {
   "cell_type": "code",
   "execution_count": 23,
   "metadata": {},
   "outputs": [
    {
     "name": "stdout",
     "output_type": "stream",
     "text": [
      "{1: 0, 2: 1, 3: 0, 4: 1, 5: 8, 6: 32, 7: 21, 8: 49, 9: 70, 10: 43, 11: 9, 12: 1}\n"
     ]
    }
   ],
   "source": [
    "# A dictionary to count hurricanes per calendar month\n",
    "hurricanes_each_month = {1: 0, 2: 0, 3: 0, 4: 0, 5: 0, 6:0,\n",
    "\t\t  \t\t\t\t 7: 0, 8:0, 9:0, 10:0, 11:0, 12:0}\n",
    "\n",
    "# Loop over all hurricanes\n",
    "for hurricane in florida_hurricane_dates:\n",
    "  # Pull out the month\n",
    "  month = hurricane.month\n",
    "  # Increment the count in your dictionary by one\n",
    "  hurricanes_each_month[month] += 1\n",
    "  \n",
    "print(hurricanes_each_month)"
   ]
  },
  {
   "attachments": {},
   "cell_type": "markdown",
   "metadata": {},
   "source": [
    "**Putting a list of dates in order**\n",
    "\n",
    "Much like numbers and strings, `date` objects in Python can be put in order. Earlier dates come before later ones, and so we can sort a list of `date` objects from earliest to latest.\n",
    "\n",
    "What if our Florida hurricane dates had been scrambled? We've gone ahead and shuffled them so they're in random order and saved the results as `dates_scrambled`. Your job is to put them back in chronological order, and then print the first and last dates from this sorted list.\n",
    "\n",
    "STEP01\n",
    "Print the first and last dates in dates_scrambled.\n",
    "STEP02\n",
    "    Sort dates_scrambled using Python's built-in sorted() function, and save the results to dates_ordered.\n",
    "    Print the first and last dates in dates_ordered."
   ]
  },
  {
   "cell_type": "code",
   "execution_count": 25,
   "metadata": {},
   "outputs": [
    {
     "name": "stdout",
     "output_type": "stream",
     "text": [
      "1988-08-04\n",
      "2011-07-18\n"
     ]
    }
   ],
   "source": [
    "# Print the first and last scrambled dates\n",
    "print(florida_hurricane_dates[0])\n",
    "print(florida_hurricane_dates[len(florida_hurricane_dates) - 1])"
   ]
  },
  {
   "cell_type": "code",
   "execution_count": 26,
   "metadata": {},
   "outputs": [
    {
     "name": "stdout",
     "output_type": "stream",
     "text": [
      "1950-08-31\n",
      "2017-10-29\n"
     ]
    }
   ],
   "source": [
    "# Put the dates in order\n",
    "dates_ordered = sorted(florida_hurricane_dates)\n",
    "\n",
    "# Print the first and last ordered dates\n",
    "print(dates_ordered[0])\n",
    "print(dates_ordered[-1])"
   ]
  },
  {
   "attachments": {},
   "cell_type": "markdown",
   "metadata": {},
   "source": [
    "#### **Turning dates into strings**\n",
    "\n",
    "1. ISO 8601 format\n",
    "from datetime import date\n",
    "*-# Example date*\n",
    "d = date(2017, 11, 5)\n",
    "*-# ISO format: YYYY-MM-DD*\n",
    "print(d)\n",
    "2017-11-05\n",
    "*-# Express the date in ISO 8601 format and put it in a list*\n",
    "print( [d.isoformat()] )\n",
    "['2017-11-05']\n",
    "\n",
    "*-# A few dates that computers once had trouble with*\n",
    "some_dates = ['2000-01-01', '1999-12-31']\n",
    "*-# Print them in order*\n",
    "print(sorted(some_dates))\n",
    "['1999-12-31', '2000-01-01']\n",
    "\n",
    "2. Every other format: strftime\n",
    "d.strftime()\n",
    "\n",
    "*-# Example date*\n",
    "d = date(2017, 1, 5)\n",
    "print(d.strftime(\"%Y\"))\n",
    "2017\n",
    "*-# Format string with more text in it*\n",
    "print(d.strftime(\"Year is %Y\"))\n",
    "Year is 2017\n",
    "\n",
    "*-# Format: YYYY/MM/DD*\n",
    "print(d.strftime(\"%Y/%m/%d\"))\n",
    "2017/01/05"
   ]
  },
  {
   "cell_type": "code",
   "execution_count": 27,
   "metadata": {},
   "outputs": [
    {
     "name": "stdout",
     "output_type": "stream",
     "text": [
      "2017-11-05\n",
      "['2017-11-05']\n",
      "['1999-12-31', '2000-01-01']\n"
     ]
    }
   ],
   "source": [
    "# Example date\n",
    "d = date(2017, 11, 5)\n",
    "# ISO format: YYYY-MM-DD\n",
    "print(d)\n",
    "\n",
    "# Express the date in ISO 8601 format and put it in a list\n",
    "print( [d.isoformat()] )\n",
    "\n",
    "# A few dates that computers once had trouble with\n",
    "some_dates = ['2000-01-01', '1999-12-31']\n",
    "# Print them in order\n",
    "print(sorted(some_dates))"
   ]
  },
  {
   "cell_type": "code",
   "execution_count": 29,
   "metadata": {},
   "outputs": [
    {
     "name": "stdout",
     "output_type": "stream",
     "text": [
      "2017\n",
      "Year is 2017\n",
      "2017/01/05\n"
     ]
    }
   ],
   "source": [
    "# Example date\n",
    "d = date(2017, 1, 5)\n",
    "print(d.strftime(\"%Y\"))\n",
    "\n",
    "# Format string with more text in it\n",
    "print(d.strftime(\"Year is %Y\"))\n",
    "\n",
    "# Format: YYYY/MM/DD\n",
    "print(d.strftime(\"%Y/%m/%d\"))"
   ]
  },
  {
   "attachments": {},
   "cell_type": "markdown",
   "metadata": {},
   "source": [
    "**Printing dates in a friendly format**\n",
    "\n",
    "Because people may want to see dates in many different formats, Python comes with very flexible functions for turning `date` objects into strings.\n",
    "\n",
    "Let's see what event was recorded first in the Florida hurricane data set. In this exercise, you will format the earliest date in the `florida_hurricane_dates` list in two ways so you can decide which one you want to use: either the ISO standard or the typical US style.\n",
    "\n",
    "STEPS\n",
    "    Assign the earliest date in florida_hurricane_dates to first_date.\n",
    "    Print first_date in the ISO standard. For example, December 1st, 2000 would be \"2000-12-01\".\n",
    "    Print first_date in the US style, using .strftime(). For example, December 1st, 2000 would be \"12/1/2000\"."
   ]
  },
  {
   "cell_type": "code",
   "execution_count": 30,
   "metadata": {},
   "outputs": [
    {
     "name": "stdout",
     "output_type": "stream",
     "text": [
      "ISO: Our earliest hurricane date: 1950-08-31\n",
      "US: Our earliest hurricane date: 08/31/1950\n"
     ]
    }
   ],
   "source": [
    "# Assign the earliest date to first_date\n",
    "first_date = min(florida_hurricane_dates)\n",
    "\n",
    "# Convert to ISO and US formats\n",
    "iso = \"Our earliest hurricane date: \" + first_date.isoformat()\n",
    "us = \"Our earliest hurricane date: \" + first_date.strftime(\"%m/%d/%Y\")\n",
    "\n",
    "print(\"ISO: \" + iso)\n",
    "print(\"US: \" + us)"
   ]
  },
  {
   "attachments": {},
   "cell_type": "markdown",
   "metadata": {},
   "source": [
    "**Representing dates in different ways**\n",
    "\n",
    "date objects in Python have a great number of ways they can be printed out as strings. In some cases, you want to know the date in a clear, language-agnostic format. In other cases, you want something which can fit into a paragraph and flow naturally.\n",
    "\n",
    "Let's try printing out the same date, August 26, 1992 (the day that Hurricane Andrew made landfall in Florida), in a number of different ways, to practice using the `.strftime()` method.\n",
    "\n",
    "A date object called `andrew` has already been created.\n",
    "\n",
    "STEPS\n",
    "Print andrew in the format 'YYYY-MM'.\n",
    "Print andrew in the format 'MONTH (YYYY)', using %B for the month's full name, which in this case will be August.\n",
    "Print andrew in the format 'YYYY-DDD' (where DDD is the day of the year) using %j."
   ]
  },
  {
   "cell_type": "code",
   "execution_count": 33,
   "metadata": {},
   "outputs": [
    {
     "name": "stdout",
     "output_type": "stream",
     "text": [
      "1992-08\n",
      "August (1992)\n",
      "1992-239\n"
     ]
    }
   ],
   "source": [
    "# Import date\n",
    "from datetime import date\n",
    "\n",
    "# Create a date object\n",
    "andrew = date(1992, 8, 26)\n",
    "\n",
    "# Print the date in the format 'YYYY-MM'\n",
    "print(andrew.strftime('%Y-%m'))\n",
    "\n",
    "# Print the date in the format 'MONTH (YYYY)'\n",
    "print(andrew.strftime('%B (%Y)'))\n",
    "\n",
    "# Print the date in the format 'YYYY-DDD'\n",
    "print(andrew.strftime('%Y-%j'))"
   ]
  },
  {
   "attachments": {},
   "cell_type": "markdown",
   "metadata": {},
   "source": [
    "## **Combining Dates and Times (Module 02-051)**"
   ]
  },
  {
   "attachments": {},
   "cell_type": "markdown",
   "metadata": {},
   "source": [
    "#### **Dates and times**\n",
    "\n",
    "1. Adding time to the mix\n",
    "\n",
    "*-# Import datetime*\n",
    "from datetime import datetime\n",
    "dt = datetime(2017, 10, 1, 15, 23, 25, 500000)\n",
    "\n",
    "dt = datetime(year=2017, month=10, day=1, \n",
    "                hour=15, minute=23, second=25, microsecond=500000)\n",
    "\n",
    "2. Replacing parts of a datetime\n",
    "\n",
    "print(dt)\n",
    "\n",
    "`2017-10-01 15:23:25.500000`\n",
    "\n",
    "dt_hr = dt.replace(minute=0, second=0, microsecond=0)\n",
    "print(dt_hr)\n",
    "\n",
    "`2017-10-01 15:00:00`\n",
    "\n",
    "3. Capital Bikeshare"
   ]
  },
  {
   "cell_type": "code",
   "execution_count": 35,
   "metadata": {},
   "outputs": [
    {
     "data": {
      "text/html": [
       "<div>\n",
       "<style scoped>\n",
       "    .dataframe tbody tr th:only-of-type {\n",
       "        vertical-align: middle;\n",
       "    }\n",
       "\n",
       "    .dataframe tbody tr th {\n",
       "        vertical-align: top;\n",
       "    }\n",
       "\n",
       "    .dataframe thead th {\n",
       "        text-align: right;\n",
       "    }\n",
       "</style>\n",
       "<table border=\"1\" class=\"dataframe\">\n",
       "  <thead>\n",
       "    <tr style=\"text-align: right;\">\n",
       "      <th></th>\n",
       "      <th>Start date</th>\n",
       "      <th>End date</th>\n",
       "      <th>Start station number</th>\n",
       "      <th>Start station</th>\n",
       "      <th>End station number</th>\n",
       "      <th>End station</th>\n",
       "      <th>Bike number</th>\n",
       "      <th>Member type</th>\n",
       "    </tr>\n",
       "  </thead>\n",
       "  <tbody>\n",
       "    <tr>\n",
       "      <th>0</th>\n",
       "      <td>2017-10-01 15:23:25</td>\n",
       "      <td>2017-10-01 15:26:26</td>\n",
       "      <td>31038</td>\n",
       "      <td>Glebe Rd &amp; 11th St N</td>\n",
       "      <td>31036</td>\n",
       "      <td>George Mason Dr &amp; Wilson Blvd</td>\n",
       "      <td>W20529</td>\n",
       "      <td>Member</td>\n",
       "    </tr>\n",
       "    <tr>\n",
       "      <th>1</th>\n",
       "      <td>2017-10-01 15:42:57</td>\n",
       "      <td>2017-10-01 17:49:59</td>\n",
       "      <td>31036</td>\n",
       "      <td>George Mason Dr &amp; Wilson Blvd</td>\n",
       "      <td>31036</td>\n",
       "      <td>George Mason Dr &amp; Wilson Blvd</td>\n",
       "      <td>W20529</td>\n",
       "      <td>Casual</td>\n",
       "    </tr>\n",
       "    <tr>\n",
       "      <th>2</th>\n",
       "      <td>2017-10-02 06:37:10</td>\n",
       "      <td>2017-10-02 06:42:53</td>\n",
       "      <td>31036</td>\n",
       "      <td>George Mason Dr &amp; Wilson Blvd</td>\n",
       "      <td>31037</td>\n",
       "      <td>Ballston Metro / N Stuart &amp; 9th St N</td>\n",
       "      <td>W20529</td>\n",
       "      <td>Member</td>\n",
       "    </tr>\n",
       "    <tr>\n",
       "      <th>3</th>\n",
       "      <td>2017-10-02 08:56:45</td>\n",
       "      <td>2017-10-02 09:18:03</td>\n",
       "      <td>31037</td>\n",
       "      <td>Ballston Metro / N Stuart &amp; 9th St N</td>\n",
       "      <td>31295</td>\n",
       "      <td>Potomac &amp; M St NW</td>\n",
       "      <td>W20529</td>\n",
       "      <td>Member</td>\n",
       "    </tr>\n",
       "    <tr>\n",
       "      <th>4</th>\n",
       "      <td>2017-10-02 18:23:48</td>\n",
       "      <td>2017-10-02 18:45:05</td>\n",
       "      <td>31295</td>\n",
       "      <td>Potomac &amp; M St NW</td>\n",
       "      <td>31230</td>\n",
       "      <td>Metro Center / 12th &amp; G St NW</td>\n",
       "      <td>W20529</td>\n",
       "      <td>Member</td>\n",
       "    </tr>\n",
       "  </tbody>\n",
       "</table>\n",
       "</div>"
      ],
      "text/plain": [
       "            Start date             End date  Start station number  \\\n",
       "0  2017-10-01 15:23:25  2017-10-01 15:26:26                 31038   \n",
       "1  2017-10-01 15:42:57  2017-10-01 17:49:59                 31036   \n",
       "2  2017-10-02 06:37:10  2017-10-02 06:42:53                 31036   \n",
       "3  2017-10-02 08:56:45  2017-10-02 09:18:03                 31037   \n",
       "4  2017-10-02 18:23:48  2017-10-02 18:45:05                 31295   \n",
       "\n",
       "                          Start station  End station number  \\\n",
       "0                  Glebe Rd & 11th St N               31036   \n",
       "1         George Mason Dr & Wilson Blvd               31036   \n",
       "2         George Mason Dr & Wilson Blvd               31037   \n",
       "3  Ballston Metro / N Stuart & 9th St N               31295   \n",
       "4                     Potomac & M St NW               31230   \n",
       "\n",
       "                            End station Bike number Member type  \n",
       "0         George Mason Dr & Wilson Blvd      W20529      Member  \n",
       "1         George Mason Dr & Wilson Blvd      W20529      Casual  \n",
       "2  Ballston Metro / N Stuart & 9th St N      W20529      Member  \n",
       "3                     Potomac & M St NW      W20529      Member  \n",
       "4         Metro Center / 12th & G St NW      W20529      Member  "
      ]
     },
     "metadata": {},
     "output_type": "display_data"
    }
   ],
   "source": [
    "onebike_datetimes = read_csv_fun('datasets','capital-onebike', dir)\n",
    "\n",
    "display(onebike_datetimes.head(5))"
   ]
  },
  {
   "cell_type": "code",
   "execution_count": 39,
   "metadata": {},
   "outputs": [
    {
     "data": {
      "text/plain": [
       "Start date              object\n",
       "End date                object\n",
       "Start station number     int64\n",
       "Start station           object\n",
       "End station number       int64\n",
       "End station             object\n",
       "Bike number             object\n",
       "Member type             object\n",
       "dtype: object"
      ]
     },
     "metadata": {},
     "output_type": "display_data"
    },
    {
     "data": {
      "text/plain": [
       "Start date                      object\n",
       "End date                        object\n",
       "Start station number             int64\n",
       "Start station                   object\n",
       "End station number               int64\n",
       "End station                     object\n",
       "Bike number                     object\n",
       "Member type                     object\n",
       "start                   datetime64[ns]\n",
       "end                     datetime64[ns]\n",
       "dtype: object"
      ]
     },
     "metadata": {},
     "output_type": "display_data"
    }
   ],
   "source": [
    "display(onebike_datetimes.dtypes)\n",
    "\n",
    "# Convert user_type from object to datetime\n",
    "onebike_datetimes['start'] = onebike_datetimes['Start date'].astype('datetime64[ns]')\n",
    "onebike_datetimes['end'] = onebike_datetimes['End date'].astype('datetime64[ns]')\n",
    "\n",
    "display(onebike_datetimes.dtypes)"
   ]
  },
  {
   "attachments": {},
   "cell_type": "markdown",
   "metadata": {},
   "source": [
    "**Creating datetimes by hand**\n",
    "\n",
    "Often you create `datetime` objects based on outside data. Sometimes though, you want to create a `datetime` object from scratch.\n",
    "\n",
    "You're going to create a few different `datetime` objects from scratch to get the hang of that process. These come from the bikeshare data set that you'll use throughout the rest of the chapter.\n",
    "\n",
    "STEPS 01\n",
    "    Import the datetime class.\n",
    "    Create a datetime for October 1, 2017 at 15:26:26.\n",
    "    Print the results in ISO format.\n",
    "STEPS 02\n",
    "    Import the datetime class.\n",
    "    Create a datetime for December 31, 2017 at 15:19:13.\n",
    "    Print the results in ISO format.\n",
    "STEPS 03\n",
    "Create a new datetime by replacing the year in dt with 1917 (instead of 2017)"
   ]
  },
  {
   "cell_type": "code",
   "execution_count": 32,
   "metadata": {},
   "outputs": [
    {
     "name": "stdout",
     "output_type": "stream",
     "text": [
      "2017-10-01T15:26:26\n"
     ]
    }
   ],
   "source": [
    "# Import datetime\n",
    "from datetime import datetime\n",
    "\n",
    "# Create a datetime object\n",
    "dt = datetime(year=2017 , month=10, day=1, hour=15, minute=26, second=26)\n",
    "\n",
    "# Print the results in ISO 8601 format\n",
    "print(dt.isoformat())"
   ]
  },
  {
   "cell_type": "code",
   "execution_count": 2,
   "metadata": {},
   "outputs": [
    {
     "name": "stdout",
     "output_type": "stream",
     "text": [
      "2017-12-31T15:19:13\n"
     ]
    }
   ],
   "source": [
    "# Import datetime\n",
    "from datetime import datetime\n",
    "\n",
    "# Create a datetime object\n",
    "dt = datetime(year=2017 , month=12, day=31, hour=15, minute=19, second=13)\n",
    "\n",
    "# Print the results in ISO 8601 format\n",
    "print(dt.isoformat())"
   ]
  },
  {
   "cell_type": "code",
   "execution_count": 3,
   "metadata": {},
   "outputs": [
    {
     "name": "stdout",
     "output_type": "stream",
     "text": [
      "1917-12-31 15:19:13\n"
     ]
    }
   ],
   "source": [
    "# Import datetime\n",
    "from datetime import datetime\n",
    "\n",
    "# Create a datetime object\n",
    "dt = datetime(2017, 12, 31, 15, 19, 13)\n",
    "\n",
    "# Replace the year with 1917\n",
    "dt_old = dt.replace(year=1917)\n",
    "\n",
    "# Print the results in ISO 8601 format\n",
    "print(dt_old)"
   ]
  },
  {
   "attachments": {},
   "cell_type": "markdown",
   "metadata": {},
   "source": [
    "**Counting events before and after noon**\n",
    "\n",
    "In this chapter, you will be working with a list of all bike trips for one Capital Bikeshare bike, W20529, from October 1, 2017 to December 31, 2017. This list has been loaded as `onebike_datetimes`.\n",
    "\n",
    "Each element of the list is a dictionary with two entries: `start` is a `datetime` object corresponding to the start of a trip (when a bike is removed from the dock) and `end` is a `datetime` object corresponding to the end of a trip (when a bike is put back into a dock).\n",
    "\n",
    "You can use this data set to understand better how this bike was used. Did more trips start before noon or after noon?\n",
    "\n",
    "STEPS\n",
    "    Within the for loop, complete the if statement to check if the trip started before noon.\n",
    "    Within the for loop, increment trip_counts['AM'] if the trip started before noon, and trip_counts['PM'] if it started after noon."
   ]
  },
  {
   "cell_type": "code",
   "execution_count": 49,
   "metadata": {},
   "outputs": [
    {
     "name": "stdout",
     "output_type": "stream",
     "text": [
      "{'AM': 94, 'PM': 196}\n"
     ]
    }
   ],
   "source": [
    "# Import datetime\n",
    "from datetime import datetime\n",
    "\n",
    "# Create dictionary to hold results\n",
    "trip_counts = {'AM': 0, 'PM': 0}\n",
    "  \n",
    "# Loop over all trips\n",
    "for index, trip in onebike_datetimes.iterrows():\n",
    "  # Check to see if the trip starts before noon\n",
    "  if trip['start'].hour < 12:\n",
    "    # Increment the counter for before noon\n",
    "    trip_counts['AM'] += 1\n",
    "  else:\n",
    "    # Increment the counter for after noon\n",
    "    trip_counts['PM'] += 1\n",
    "  \n",
    "print(trip_counts)"
   ]
  },
  {
   "attachments": {},
   "cell_type": "markdown",
   "metadata": {},
   "source": [
    "#### **Printing and parsing datetimes**\n",
    "\n",
    "1. Printing datetimes\n",
    "\n",
    "*-# Create datetime*\n",
    "dt = datetime(2017, 12, 30, 15, 19, 13)\n",
    "print(dt.strftime(\"%Y-%m-%d\"))\n",
    "\n",
    "`2017-12-30`\n",
    "\n",
    "print(dt.strftime(\"%Y-%m-%d %H:%M:%S\"))\n",
    "\n",
    "`2017-12-30 15:19:13`\n",
    "\n",
    "print(dt.strftime(\"%H:%M:%S on %Y/%m/%d/\"))\n",
    "\n",
    "`15:19:13 on 2017/12/30`\n",
    "\n",
    "2. ISO 8601 Format\n",
    "\n",
    "*-# ISO 8601 format*\n",
    "print(dt.isoformat())\n",
    "\n",
    "`2017-12-30T15:19:13`\n",
    "\n",
    "3. Parsing datetimes with strptime\n",
    "\n",
    "*-# Import datetime*\n",
    "from datetime import datetime\n",
    "dt = datetime.strptime(\"12/30/2017 15:19:13\",\n",
    "\"%m/%d/%Y %H:%M:%S\")\n",
    "\n",
    "*-# What did we make?*\n",
    "print(type(dt))\n",
    "\n",
    "`<class 'datetime.datetime'>`\n",
    "\n",
    "*-# Print out datetime object*\n",
    "print(dt)\n",
    "\n",
    "`2017-12-30 15:19:13`\n",
    "\n",
    "*-# Import datetime*\n",
    "from datetime import datetime\n",
    "*-# Incorrect format string*\n",
    "dt = datetime.strptime(\"2017-12-30 15:19:13\",\"%Y-%m-%d\")\n",
    "\n",
    "`ValueError: unconverted data remains: 15:19:13`\n",
    "\n",
    "4. Parsing datetimes with Python\n",
    "\n",
    "*-# A timestamp*\n",
    "ts = 1514665153.0\n",
    "*-# Convert to datetime and print*\n",
    "print(datetime.fromtimestamp(ts))\n",
    "\n",
    "`2017-12-30 15:19:13`"
   ]
  },
  {
   "cell_type": "code",
   "execution_count": 58,
   "metadata": {},
   "outputs": [
    {
     "name": "stdout",
     "output_type": "stream",
     "text": [
      "2017-12-30 15:19:13\n",
      "<class 'datetime.datetime'>\n",
      "2017-12-30 15:19:13\n"
     ]
    }
   ],
   "source": [
    "# Import datetime\n",
    "from datetime import datetime\n",
    "dt = datetime.strptime(\"12/30/2017 15:19:13\",\n",
    "\"%m/%d/%Y %H:%M:%S\")\n",
    "print(dt)\n",
    "\n",
    "# What did we make?\n",
    "print(type(dt))\n",
    "\n",
    "# A timestamp\n",
    "ts = 1514665153.0\n",
    "# Convert to datetime and print\n",
    "print(datetime.fromtimestamp(ts))"
   ]
  },
  {
   "attachments": {},
   "cell_type": "markdown",
   "metadata": {},
   "source": [
    "**Turning strings into datetimes**\n",
    "\n",
    "When you download data from the Internet, dates and times usually come to you as strings. Often the first step is to turn those strings into `datetime` objects.\n",
    "\n",
    "In this exercise, you will practice this transformation.\n",
    "Reference\t\n",
    "%Y\t4 digit year (0000-9999)\n",
    "%m\t2 digit month (1-12)\n",
    "%d\t2 digit day (1-31)\n",
    "%H\t2 digit hour (0-23)\n",
    "%M\t2 digit minute (0-59)\n",
    "%S\t2 digit second (0-59)\n",
    "\n",
    "STEPS 01\n",
    "    Determine the format needed to convert s to datetime and assign it to fmt.\n",
    "    Convert the string s to datetime using fmt.\n",
    "STEPS 02\n",
    "    Determine the format needed to convert s to datetime and assign it to fmt.\n",
    "    Convert the string s to datetime using fmt.\n",
    "STEPS 03\n",
    "    Determine the format needed to convert s to datetime and assign it to fmt.\n",
    "    Convert the string s to datetime using fmt."
   ]
  },
  {
   "cell_type": "code",
   "execution_count": 60,
   "metadata": {},
   "outputs": [
    {
     "name": "stdout",
     "output_type": "stream",
     "text": [
      "2017-02-03 00:00:01\n"
     ]
    }
   ],
   "source": [
    "# Import the datetime class\n",
    "from datetime import datetime\n",
    "\n",
    "# Starting string, in YYYY-MM-DD HH:MM:SS format\n",
    "s = '2017-02-03 00:00:01'\n",
    "\n",
    "# Write a format string to parse s\n",
    "fmt = '%Y-%m-%d %H:%M:%S'\n",
    "\n",
    "# Create a datetime object d\n",
    "d = datetime.strptime(s, fmt)\n",
    "\n",
    "# Print d\n",
    "print(d)"
   ]
  },
  {
   "cell_type": "code",
   "execution_count": 61,
   "metadata": {},
   "outputs": [
    {
     "name": "stdout",
     "output_type": "stream",
     "text": [
      "2030-10-15 00:00:00\n"
     ]
    }
   ],
   "source": [
    "# Import the datetime class\n",
    "from datetime import datetime\n",
    "\n",
    "# Starting string, in YYYY-MM-DD format\n",
    "s = '2030-10-15'\n",
    "\n",
    "# Write a format string to parse s\n",
    "fmt = '%Y-%m-%d'\n",
    "\n",
    "# Create a datetime object d\n",
    "d = datetime.strptime(s, fmt)\n",
    "\n",
    "# Print d\n",
    "print(d)"
   ]
  },
  {
   "cell_type": "code",
   "execution_count": 62,
   "metadata": {},
   "outputs": [
    {
     "name": "stdout",
     "output_type": "stream",
     "text": [
      "1986-12-15 08:00:00\n"
     ]
    }
   ],
   "source": [
    "# Import the datetime class\n",
    "from datetime import datetime\n",
    "\n",
    "# Starting string, in MM/DD/YYYY HH:MM:SS format\n",
    "s = '12/15/1986 08:00:00'\n",
    "\n",
    "# Write a format string to parse s\n",
    "fmt = '%m/%d/%Y %H:%M:%S'\n",
    "\n",
    "# Create a datetime object d\n",
    "d = datetime.strptime(s, fmt)\n",
    "\n",
    "# Print d\n",
    "print(d)"
   ]
  },
  {
   "attachments": {},
   "cell_type": "markdown",
   "metadata": {},
   "source": [
    "**Parsing pairs of strings as datetimes**\n",
    "\n",
    "Up until now, you've been working with a pre-processed list of datetimes for W20529's trips. For this exercise, you're going to go one step back in the data cleaning pipeline and work with the strings that the data started as.\n",
    "\n",
    "Explore onebike_datetime_strings in the IPython shell to determine the correct format. datetime has already been loaded for you.\n",
    "\n",
    "Reference\t\n",
    "%Y\t4 digit year (0000-9999)\n",
    "%m\t2 digit month (1-12)\n",
    "%d\t2 digit day (1-31)\n",
    "%H\t2 digit hour (0-23)\n",
    "%M\t2 digit minute (0-59)\n",
    "%S\t2 digit second (0-59)\n",
    "\n",
    "STEPS\n",
    "    Outside the for loop, fill out the fmt string with the correct parsing format for the data.\n",
    "    Within the for loop, parse the start and end strings into the trip dictionary with start and end keys and datetime objects for values."
   ]
  },
  {
   "cell_type": "code",
   "execution_count": 96,
   "metadata": {},
   "outputs": [
    {
     "data": {
      "text/html": [
       "<div>\n",
       "<style scoped>\n",
       "    .dataframe tbody tr th:only-of-type {\n",
       "        vertical-align: middle;\n",
       "    }\n",
       "\n",
       "    .dataframe tbody tr th {\n",
       "        vertical-align: top;\n",
       "    }\n",
       "\n",
       "    .dataframe thead th {\n",
       "        text-align: right;\n",
       "    }\n",
       "</style>\n",
       "<table border=\"1\" class=\"dataframe\">\n",
       "  <thead>\n",
       "    <tr style=\"text-align: right;\">\n",
       "      <th></th>\n",
       "      <th>Start date</th>\n",
       "      <th>End date</th>\n",
       "      <th>Start station number</th>\n",
       "      <th>Start station</th>\n",
       "      <th>End station number</th>\n",
       "      <th>End station</th>\n",
       "      <th>Bike number</th>\n",
       "      <th>Member type</th>\n",
       "    </tr>\n",
       "  </thead>\n",
       "  <tbody>\n",
       "    <tr>\n",
       "      <th>0</th>\n",
       "      <td>2017-10-01 15:23:25</td>\n",
       "      <td>2017-10-01 15:26:26</td>\n",
       "      <td>31038</td>\n",
       "      <td>Glebe Rd &amp; 11th St N</td>\n",
       "      <td>31036</td>\n",
       "      <td>George Mason Dr &amp; Wilson Blvd</td>\n",
       "      <td>W20529</td>\n",
       "      <td>Member</td>\n",
       "    </tr>\n",
       "    <tr>\n",
       "      <th>1</th>\n",
       "      <td>2017-10-01 15:42:57</td>\n",
       "      <td>2017-10-01 17:49:59</td>\n",
       "      <td>31036</td>\n",
       "      <td>George Mason Dr &amp; Wilson Blvd</td>\n",
       "      <td>31036</td>\n",
       "      <td>George Mason Dr &amp; Wilson Blvd</td>\n",
       "      <td>W20529</td>\n",
       "      <td>Casual</td>\n",
       "    </tr>\n",
       "    <tr>\n",
       "      <th>2</th>\n",
       "      <td>2017-10-02 06:37:10</td>\n",
       "      <td>2017-10-02 06:42:53</td>\n",
       "      <td>31036</td>\n",
       "      <td>George Mason Dr &amp; Wilson Blvd</td>\n",
       "      <td>31037</td>\n",
       "      <td>Ballston Metro / N Stuart &amp; 9th St N</td>\n",
       "      <td>W20529</td>\n",
       "      <td>Member</td>\n",
       "    </tr>\n",
       "  </tbody>\n",
       "</table>\n",
       "</div>"
      ],
      "text/plain": [
       "            Start date             End date  Start station number  \\\n",
       "0  2017-10-01 15:23:25  2017-10-01 15:26:26                 31038   \n",
       "1  2017-10-01 15:42:57  2017-10-01 17:49:59                 31036   \n",
       "2  2017-10-02 06:37:10  2017-10-02 06:42:53                 31036   \n",
       "\n",
       "                   Start station  End station number  \\\n",
       "0           Glebe Rd & 11th St N               31036   \n",
       "1  George Mason Dr & Wilson Blvd               31036   \n",
       "2  George Mason Dr & Wilson Blvd               31037   \n",
       "\n",
       "                            End station Bike number Member type  \n",
       "0         George Mason Dr & Wilson Blvd      W20529      Member  \n",
       "1         George Mason Dr & Wilson Blvd      W20529      Casual  \n",
       "2  Ballston Metro / N Stuart & 9th St N      W20529      Member  "
      ]
     },
     "metadata": {},
     "output_type": "display_data"
    }
   ],
   "source": [
    "#reset\n",
    "onebike_datetimes = read_csv_fun('datasets','capital-onebike', dir)\n",
    "display(onebike_datetimes.head(3))"
   ]
  },
  {
   "cell_type": "code",
   "execution_count": 97,
   "metadata": {},
   "outputs": [
    {
     "name": "stdout",
     "output_type": "stream",
     "text": [
      "[{'start': datetime.datetime(2017, 10, 1, 15, 23, 25), 'end': datetime.datetime(2017, 10, 1, 15, 26, 26)}, {'start': datetime.datetime(2017, 10, 1, 15, 42, 57), 'end': datetime.datetime(2017, 10, 1, 17, 49, 59)}, {'start': datetime.datetime(2017, 10, 2, 6, 37, 10), 'end': datetime.datetime(2017, 10, 2, 6, 42, 53)}, {'start': datetime.datetime(2017, 10, 2, 8, 56, 45), 'end': datetime.datetime(2017, 10, 2, 9, 18, 3)}, {'start': datetime.datetime(2017, 10, 2, 18, 23, 48), 'end': datetime.datetime(2017, 10, 2, 18, 45, 5)}, {'start': datetime.datetime(2017, 10, 2, 18, 48, 8), 'end': datetime.datetime(2017, 10, 2, 19, 10, 54)}, {'start': datetime.datetime(2017, 10, 2, 19, 18, 10), 'end': datetime.datetime(2017, 10, 2, 19, 31, 45)}, {'start': datetime.datetime(2017, 10, 2, 19, 37, 32), 'end': datetime.datetime(2017, 10, 2, 19, 46, 37)}, {'start': datetime.datetime(2017, 10, 3, 8, 24, 16), 'end': datetime.datetime(2017, 10, 3, 8, 32, 27)}, {'start': datetime.datetime(2017, 10, 3, 18, 17, 7), 'end': datetime.datetime(2017, 10, 3, 18, 27, 46)}, {'start': datetime.datetime(2017, 10, 3, 19, 24, 10), 'end': datetime.datetime(2017, 10, 3, 19, 52, 8)}, {'start': datetime.datetime(2017, 10, 3, 20, 17, 6), 'end': datetime.datetime(2017, 10, 3, 20, 23, 52)}, {'start': datetime.datetime(2017, 10, 3, 20, 45, 21), 'end': datetime.datetime(2017, 10, 3, 20, 57, 10)}, {'start': datetime.datetime(2017, 10, 4, 7, 4, 57), 'end': datetime.datetime(2017, 10, 4, 7, 13, 31)}, {'start': datetime.datetime(2017, 10, 4, 7, 13, 42), 'end': datetime.datetime(2017, 10, 4, 7, 21, 54)}, {'start': datetime.datetime(2017, 10, 4, 14, 22, 12), 'end': datetime.datetime(2017, 10, 4, 14, 50)}, {'start': datetime.datetime(2017, 10, 4, 15, 7, 27), 'end': datetime.datetime(2017, 10, 4, 15, 44, 49)}, {'start': datetime.datetime(2017, 10, 4, 15, 46, 41), 'end': datetime.datetime(2017, 10, 4, 16, 32, 33)}, {'start': datetime.datetime(2017, 10, 4, 16, 34, 44), 'end': datetime.datetime(2017, 10, 4, 16, 46, 59)}, {'start': datetime.datetime(2017, 10, 4, 17, 26, 6), 'end': datetime.datetime(2017, 10, 4, 17, 31, 36)}, {'start': datetime.datetime(2017, 10, 4, 17, 42, 3), 'end': datetime.datetime(2017, 10, 4, 17, 50, 41)}, {'start': datetime.datetime(2017, 10, 5, 7, 49, 2), 'end': datetime.datetime(2017, 10, 5, 8, 12, 55)}, {'start': datetime.datetime(2017, 10, 5, 8, 26, 21), 'end': datetime.datetime(2017, 10, 5, 8, 29, 45)}, {'start': datetime.datetime(2017, 10, 5, 8, 33, 27), 'end': datetime.datetime(2017, 10, 5, 8, 38, 31)}, {'start': datetime.datetime(2017, 10, 5, 16, 35, 35), 'end': datetime.datetime(2017, 10, 5, 16, 51, 52)}, {'start': datetime.datetime(2017, 10, 5, 17, 53, 31), 'end': datetime.datetime(2017, 10, 5, 18, 16, 50)}, {'start': datetime.datetime(2017, 10, 6, 8, 17, 17), 'end': datetime.datetime(2017, 10, 6, 8, 38, 1)}, {'start': datetime.datetime(2017, 10, 6, 11, 39, 40), 'end': datetime.datetime(2017, 10, 6, 11, 50, 38)}, {'start': datetime.datetime(2017, 10, 6, 12, 59, 54), 'end': datetime.datetime(2017, 10, 6, 13, 13, 14)}, {'start': datetime.datetime(2017, 10, 6, 13, 43, 5), 'end': datetime.datetime(2017, 10, 6, 14, 14, 56)}, {'start': datetime.datetime(2017, 10, 6, 14, 28, 15), 'end': datetime.datetime(2017, 10, 6, 15, 9, 26)}, {'start': datetime.datetime(2017, 10, 6, 15, 50, 10), 'end': datetime.datetime(2017, 10, 6, 16, 12, 34)}, {'start': datetime.datetime(2017, 10, 6, 16, 32, 16), 'end': datetime.datetime(2017, 10, 6, 16, 39, 31)}, {'start': datetime.datetime(2017, 10, 6, 16, 44, 8), 'end': datetime.datetime(2017, 10, 6, 16, 48, 39)}, {'start': datetime.datetime(2017, 10, 6, 16, 53, 43), 'end': datetime.datetime(2017, 10, 6, 17, 9, 3)}, {'start': datetime.datetime(2017, 10, 7, 11, 38, 55), 'end': datetime.datetime(2017, 10, 7, 11, 53, 6)}, {'start': datetime.datetime(2017, 10, 7, 14, 3, 36), 'end': datetime.datetime(2017, 10, 7, 14, 7, 5)}, {'start': datetime.datetime(2017, 10, 7, 14, 20, 3), 'end': datetime.datetime(2017, 10, 7, 14, 27, 36)}, {'start': datetime.datetime(2017, 10, 7, 14, 30, 50), 'end': datetime.datetime(2017, 10, 7, 14, 44, 51)}, {'start': datetime.datetime(2017, 10, 8, 0, 28, 26), 'end': datetime.datetime(2017, 10, 8, 0, 30, 48)}, {'start': datetime.datetime(2017, 10, 8, 11, 16, 21), 'end': datetime.datetime(2017, 10, 8, 11, 33, 24)}, {'start': datetime.datetime(2017, 10, 8, 12, 37, 3), 'end': datetime.datetime(2017, 10, 8, 13, 1, 29)}, {'start': datetime.datetime(2017, 10, 8, 13, 30, 37), 'end': datetime.datetime(2017, 10, 8, 13, 57, 53)}, {'start': datetime.datetime(2017, 10, 8, 14, 16, 40), 'end': datetime.datetime(2017, 10, 8, 15, 7, 19)}, {'start': datetime.datetime(2017, 10, 8, 15, 23, 50), 'end': datetime.datetime(2017, 10, 8, 15, 50, 1)}, {'start': datetime.datetime(2017, 10, 8, 15, 54, 12), 'end': datetime.datetime(2017, 10, 8, 16, 17, 42)}, {'start': datetime.datetime(2017, 10, 8, 16, 28, 52), 'end': datetime.datetime(2017, 10, 8, 16, 35, 18)}, {'start': datetime.datetime(2017, 10, 8, 23, 8, 14), 'end': datetime.datetime(2017, 10, 8, 23, 33, 41)}, {'start': datetime.datetime(2017, 10, 8, 23, 34, 49), 'end': datetime.datetime(2017, 10, 8, 23, 45, 11)}, {'start': datetime.datetime(2017, 10, 8, 23, 46, 47), 'end': datetime.datetime(2017, 10, 9, 0, 10, 57)}, {'start': datetime.datetime(2017, 10, 9, 0, 12, 58), 'end': datetime.datetime(2017, 10, 9, 0, 36, 40)}, {'start': datetime.datetime(2017, 10, 9, 0, 37, 2), 'end': datetime.datetime(2017, 10, 9, 0, 53, 33)}, {'start': datetime.datetime(2017, 10, 9, 1, 23, 29), 'end': datetime.datetime(2017, 10, 9, 1, 48, 13)}, {'start': datetime.datetime(2017, 10, 9, 1, 49, 25), 'end': datetime.datetime(2017, 10, 9, 2, 13, 35)}, {'start': datetime.datetime(2017, 10, 9, 2, 14, 11), 'end': datetime.datetime(2017, 10, 9, 2, 29, 40)}, {'start': datetime.datetime(2017, 10, 9, 13, 4, 32), 'end': datetime.datetime(2017, 10, 9, 13, 13, 25)}, {'start': datetime.datetime(2017, 10, 9, 14, 30, 10), 'end': datetime.datetime(2017, 10, 9, 14, 38, 55)}, {'start': datetime.datetime(2017, 10, 9, 15, 6, 47), 'end': datetime.datetime(2017, 10, 9, 15, 11, 30)}, {'start': datetime.datetime(2017, 10, 9, 16, 43, 25), 'end': datetime.datetime(2017, 10, 9, 16, 45, 38)}, {'start': datetime.datetime(2017, 10, 10, 15, 32, 58), 'end': datetime.datetime(2017, 10, 10, 15, 51, 24)}, {'start': datetime.datetime(2017, 10, 10, 16, 47, 55), 'end': datetime.datetime(2017, 10, 10, 17, 3, 47)}, {'start': datetime.datetime(2017, 10, 10, 17, 51, 5), 'end': datetime.datetime(2017, 10, 10, 18, 0, 18)}, {'start': datetime.datetime(2017, 10, 10, 18, 8, 12), 'end': datetime.datetime(2017, 10, 10, 18, 19, 11)}, {'start': datetime.datetime(2017, 10, 10, 19, 9, 35), 'end': datetime.datetime(2017, 10, 10, 19, 14, 32)}, {'start': datetime.datetime(2017, 10, 10, 19, 17, 11), 'end': datetime.datetime(2017, 10, 10, 19, 23, 8)}, {'start': datetime.datetime(2017, 10, 10, 19, 28, 11), 'end': datetime.datetime(2017, 10, 10, 19, 44, 40)}, {'start': datetime.datetime(2017, 10, 10, 19, 55, 35), 'end': datetime.datetime(2017, 10, 10, 20, 11, 54)}, {'start': datetime.datetime(2017, 10, 10, 22, 20, 43), 'end': datetime.datetime(2017, 10, 10, 22, 33, 23)}, {'start': datetime.datetime(2017, 10, 11, 4, 40, 52), 'end': datetime.datetime(2017, 10, 11, 4, 59, 22)}, {'start': datetime.datetime(2017, 10, 11, 6, 28, 58), 'end': datetime.datetime(2017, 10, 11, 6, 40, 13)}, {'start': datetime.datetime(2017, 10, 11, 16, 41, 7), 'end': datetime.datetime(2017, 10, 11, 17, 1, 14)}, {'start': datetime.datetime(2017, 10, 12, 8, 8, 30), 'end': datetime.datetime(2017, 10, 12, 8, 35, 3)}, {'start': datetime.datetime(2017, 10, 12, 8, 47, 2), 'end': datetime.datetime(2017, 10, 12, 8, 59, 50)}, {'start': datetime.datetime(2017, 10, 12, 13, 13, 39), 'end': datetime.datetime(2017, 10, 12, 13, 37, 45)}, {'start': datetime.datetime(2017, 10, 12, 13, 40, 12), 'end': datetime.datetime(2017, 10, 12, 13, 48, 17)}, {'start': datetime.datetime(2017, 10, 12, 13, 49, 56), 'end': datetime.datetime(2017, 10, 12, 13, 53, 16)}, {'start': datetime.datetime(2017, 10, 12, 14, 33, 18), 'end': datetime.datetime(2017, 10, 12, 14, 39, 57)}, {'start': datetime.datetime(2017, 10, 13, 15, 55, 39), 'end': datetime.datetime(2017, 10, 13, 15, 59, 41)}, {'start': datetime.datetime(2017, 10, 17, 17, 58, 48), 'end': datetime.datetime(2017, 10, 17, 18, 1, 38)}, {'start': datetime.datetime(2017, 10, 19, 20, 21, 45), 'end': datetime.datetime(2017, 10, 19, 20, 29, 15)}, {'start': datetime.datetime(2017, 10, 19, 21, 11, 39), 'end': datetime.datetime(2017, 10, 19, 21, 29, 37)}, {'start': datetime.datetime(2017, 10, 19, 21, 30, 1), 'end': datetime.datetime(2017, 10, 19, 21, 47, 23)}, {'start': datetime.datetime(2017, 10, 19, 21, 47, 34), 'end': datetime.datetime(2017, 10, 19, 21, 57, 7)}, {'start': datetime.datetime(2017, 10, 19, 21, 57, 24), 'end': datetime.datetime(2017, 10, 19, 22, 9, 52)}, {'start': datetime.datetime(2017, 10, 21, 12, 24, 9), 'end': datetime.datetime(2017, 10, 21, 12, 36, 24)}, {'start': datetime.datetime(2017, 10, 21, 12, 36, 37), 'end': datetime.datetime(2017, 10, 21, 12, 42, 13)}, {'start': datetime.datetime(2017, 10, 21, 13, 47, 43), 'end': datetime.datetime(2017, 10, 22, 11, 9, 36)}, {'start': datetime.datetime(2017, 10, 22, 13, 28, 53), 'end': datetime.datetime(2017, 10, 22, 13, 31, 44)}, {'start': datetime.datetime(2017, 10, 22, 13, 47, 5), 'end': datetime.datetime(2017, 10, 22, 13, 56, 33)}, {'start': datetime.datetime(2017, 10, 22, 14, 26, 41), 'end': datetime.datetime(2017, 10, 22, 14, 32, 39)}, {'start': datetime.datetime(2017, 10, 22, 14, 54, 41), 'end': datetime.datetime(2017, 10, 22, 15, 9, 58)}, {'start': datetime.datetime(2017, 10, 22, 16, 40, 29), 'end': datetime.datetime(2017, 10, 22, 16, 51, 40)}, {'start': datetime.datetime(2017, 10, 22, 17, 58, 46), 'end': datetime.datetime(2017, 10, 22, 18, 28, 37)}, {'start': datetime.datetime(2017, 10, 22, 18, 45, 16), 'end': datetime.datetime(2017, 10, 22, 18, 50, 34)}, {'start': datetime.datetime(2017, 10, 22, 18, 56, 22), 'end': datetime.datetime(2017, 10, 22, 19, 11, 10)}, {'start': datetime.datetime(2017, 10, 23, 10, 14, 8), 'end': datetime.datetime(2017, 10, 23, 10, 35, 32)}, {'start': datetime.datetime(2017, 10, 23, 11, 29, 36), 'end': datetime.datetime(2017, 10, 23, 14, 38, 34)}, {'start': datetime.datetime(2017, 10, 23, 15, 4, 52), 'end': datetime.datetime(2017, 10, 23, 15, 32, 58)}, {'start': datetime.datetime(2017, 10, 23, 15, 33, 48), 'end': datetime.datetime(2017, 10, 23, 17, 6, 47)}, {'start': datetime.datetime(2017, 10, 23, 17, 13, 16), 'end': datetime.datetime(2017, 10, 23, 19, 31, 26)}, {'start': datetime.datetime(2017, 10, 23, 19, 55, 3), 'end': datetime.datetime(2017, 10, 23, 20, 25, 53)}, {'start': datetime.datetime(2017, 10, 23, 21, 47, 54), 'end': datetime.datetime(2017, 10, 23, 22, 18, 4)}, {'start': datetime.datetime(2017, 10, 23, 22, 34, 12), 'end': datetime.datetime(2017, 10, 23, 22, 48, 42)}, {'start': datetime.datetime(2017, 10, 24, 6, 55, 1), 'end': datetime.datetime(2017, 10, 24, 7, 2, 17)}, {'start': datetime.datetime(2017, 10, 24, 14, 56, 7), 'end': datetime.datetime(2017, 10, 24, 15, 3, 16)}, {'start': datetime.datetime(2017, 10, 24, 15, 51, 36), 'end': datetime.datetime(2017, 10, 24, 15, 59, 50)}, {'start': datetime.datetime(2017, 10, 24, 16, 31, 10), 'end': datetime.datetime(2017, 10, 24, 16, 55, 9)}, {'start': datetime.datetime(2017, 10, 28, 14, 26, 14), 'end': datetime.datetime(2017, 10, 28, 14, 32, 34)}, {'start': datetime.datetime(2017, 11, 1, 9, 41, 54), 'end': datetime.datetime(2017, 11, 1, 9, 52, 23)}, {'start': datetime.datetime(2017, 11, 1, 20, 16, 11), 'end': datetime.datetime(2017, 11, 1, 20, 32, 13)}, {'start': datetime.datetime(2017, 11, 2, 19, 44, 29), 'end': datetime.datetime(2017, 11, 2, 19, 50, 56)}, {'start': datetime.datetime(2017, 11, 2, 20, 14, 37), 'end': datetime.datetime(2017, 11, 2, 20, 30, 29)}, {'start': datetime.datetime(2017, 11, 2, 21, 35, 47), 'end': datetime.datetime(2017, 11, 2, 21, 38, 57)}, {'start': datetime.datetime(2017, 11, 3, 9, 59, 27), 'end': datetime.datetime(2017, 11, 3, 10, 11, 46)}, {'start': datetime.datetime(2017, 11, 3, 10, 13, 22), 'end': datetime.datetime(2017, 11, 3, 10, 32, 2)}, {'start': datetime.datetime(2017, 11, 3, 10, 44, 25), 'end': datetime.datetime(2017, 11, 3, 10, 50, 34)}, {'start': datetime.datetime(2017, 11, 3, 16, 6, 43), 'end': datetime.datetime(2017, 11, 3, 16, 44, 38)}, {'start': datetime.datetime(2017, 11, 3, 16, 45, 54), 'end': datetime.datetime(2017, 11, 3, 17, 0, 27)}, {'start': datetime.datetime(2017, 11, 3, 17, 7, 15), 'end': datetime.datetime(2017, 11, 3, 17, 35, 5)}, {'start': datetime.datetime(2017, 11, 3, 17, 36, 5), 'end': datetime.datetime(2017, 11, 3, 17, 46, 48)}, {'start': datetime.datetime(2017, 11, 3, 17, 50, 31), 'end': datetime.datetime(2017, 11, 3, 18, 0, 3)}, {'start': datetime.datetime(2017, 11, 3, 19, 22, 56), 'end': datetime.datetime(2017, 11, 3, 19, 45, 51)}, {'start': datetime.datetime(2017, 11, 4, 13, 14, 10), 'end': datetime.datetime(2017, 11, 4, 13, 26, 15)}, {'start': datetime.datetime(2017, 11, 4, 14, 18, 37), 'end': datetime.datetime(2017, 11, 4, 14, 30, 5)}, {'start': datetime.datetime(2017, 11, 4, 14, 45, 59), 'end': datetime.datetime(2017, 11, 4, 15, 3, 20)}, {'start': datetime.datetime(2017, 11, 4, 15, 16, 3), 'end': datetime.datetime(2017, 11, 4, 15, 44, 30)}, {'start': datetime.datetime(2017, 11, 4, 16, 37, 46), 'end': datetime.datetime(2017, 11, 4, 16, 58, 22)}, {'start': datetime.datetime(2017, 11, 4, 17, 13, 19), 'end': datetime.datetime(2017, 11, 4, 17, 34, 50)}, {'start': datetime.datetime(2017, 11, 4, 18, 10, 34), 'end': datetime.datetime(2017, 11, 4, 18, 58, 44)}, {'start': datetime.datetime(2017, 11, 5, 1, 56, 50), 'end': datetime.datetime(2017, 11, 5, 1, 1, 4)}, {'start': datetime.datetime(2017, 11, 5, 8, 33, 33), 'end': datetime.datetime(2017, 11, 5, 8, 53, 46)}, {'start': datetime.datetime(2017, 11, 5, 8, 58, 8), 'end': datetime.datetime(2017, 11, 5, 9, 3, 39)}, {'start': datetime.datetime(2017, 11, 5, 11, 5, 8), 'end': datetime.datetime(2017, 11, 5, 11, 30, 5)}, {'start': datetime.datetime(2017, 11, 6, 8, 50, 18), 'end': datetime.datetime(2017, 11, 6, 8, 59, 5)}, {'start': datetime.datetime(2017, 11, 6, 9, 4, 3), 'end': datetime.datetime(2017, 11, 6, 9, 13, 47)}, {'start': datetime.datetime(2017, 11, 6, 16, 19, 36), 'end': datetime.datetime(2017, 11, 6, 17, 2, 55)}, {'start': datetime.datetime(2017, 11, 6, 17, 21, 27), 'end': datetime.datetime(2017, 11, 6, 17, 34, 6)}, {'start': datetime.datetime(2017, 11, 6, 17, 36, 1), 'end': datetime.datetime(2017, 11, 6, 17, 57, 32)}, {'start': datetime.datetime(2017, 11, 6, 17, 59, 52), 'end': datetime.datetime(2017, 11, 6, 18, 15, 8)}, {'start': datetime.datetime(2017, 11, 6, 18, 18, 36), 'end': datetime.datetime(2017, 11, 6, 18, 21, 17)}, {'start': datetime.datetime(2017, 11, 6, 19, 24, 31), 'end': datetime.datetime(2017, 11, 6, 19, 37, 57)}, {'start': datetime.datetime(2017, 11, 6, 19, 49, 16), 'end': datetime.datetime(2017, 11, 6, 20, 3, 14)}, {'start': datetime.datetime(2017, 11, 7, 7, 50, 48), 'end': datetime.datetime(2017, 11, 7, 8, 1, 32)}, {'start': datetime.datetime(2017, 11, 8, 13, 11, 51), 'end': datetime.datetime(2017, 11, 8, 13, 18, 5)}, {'start': datetime.datetime(2017, 11, 8, 21, 34, 47), 'end': datetime.datetime(2017, 11, 8, 21, 46, 5)}, {'start': datetime.datetime(2017, 11, 8, 22, 2, 30), 'end': datetime.datetime(2017, 11, 8, 22, 4, 47)}, {'start': datetime.datetime(2017, 11, 9, 7, 1, 11), 'end': datetime.datetime(2017, 11, 9, 7, 12, 10)}, {'start': datetime.datetime(2017, 11, 9, 8, 2, 2), 'end': datetime.datetime(2017, 11, 9, 8, 8, 28)}, {'start': datetime.datetime(2017, 11, 9, 8, 19, 59), 'end': datetime.datetime(2017, 11, 9, 8, 32, 24)}, {'start': datetime.datetime(2017, 11, 9, 8, 41, 31), 'end': datetime.datetime(2017, 11, 9, 8, 48, 59)}, {'start': datetime.datetime(2017, 11, 9, 9, 0, 6), 'end': datetime.datetime(2017, 11, 9, 9, 9, 24)}, {'start': datetime.datetime(2017, 11, 9, 9, 9, 37), 'end': datetime.datetime(2017, 11, 9, 9, 24, 25)}, {'start': datetime.datetime(2017, 11, 9, 13, 14, 37), 'end': datetime.datetime(2017, 11, 9, 13, 25, 39)}, {'start': datetime.datetime(2017, 11, 9, 15, 20, 7), 'end': datetime.datetime(2017, 11, 9, 15, 31, 10)}, {'start': datetime.datetime(2017, 11, 9, 18, 47, 8), 'end': datetime.datetime(2017, 11, 9, 18, 53, 10)}, {'start': datetime.datetime(2017, 11, 9, 23, 35, 2), 'end': datetime.datetime(2017, 11, 9, 23, 43, 35)}, {'start': datetime.datetime(2017, 11, 10, 7, 51, 33), 'end': datetime.datetime(2017, 11, 10, 8, 2, 28)}, {'start': datetime.datetime(2017, 11, 10, 8, 38, 28), 'end': datetime.datetime(2017, 11, 10, 8, 42, 9)}, {'start': datetime.datetime(2017, 11, 11, 18, 5, 25), 'end': datetime.datetime(2017, 11, 11, 18, 13, 14)}, {'start': datetime.datetime(2017, 11, 11, 19, 39, 12), 'end': datetime.datetime(2017, 11, 11, 19, 46, 22)}, {'start': datetime.datetime(2017, 11, 11, 21, 13, 19), 'end': datetime.datetime(2017, 11, 11, 21, 16, 31)}, {'start': datetime.datetime(2017, 11, 12, 9, 46, 19), 'end': datetime.datetime(2017, 11, 12, 9, 51, 43)}, {'start': datetime.datetime(2017, 11, 13, 13, 33, 42), 'end': datetime.datetime(2017, 11, 13, 13, 54, 15)}, {'start': datetime.datetime(2017, 11, 14, 8, 40, 29), 'end': datetime.datetime(2017, 11, 14, 8, 55, 52)}, {'start': datetime.datetime(2017, 11, 15, 6, 14, 5), 'end': datetime.datetime(2017, 11, 15, 6, 30, 6)}, {'start': datetime.datetime(2017, 11, 15, 8, 14, 59), 'end': datetime.datetime(2017, 11, 15, 8, 23, 44)}, {'start': datetime.datetime(2017, 11, 15, 10, 16, 44), 'end': datetime.datetime(2017, 11, 15, 10, 33, 41)}, {'start': datetime.datetime(2017, 11, 15, 10, 33, 58), 'end': datetime.datetime(2017, 11, 15, 10, 54, 14)}, {'start': datetime.datetime(2017, 11, 15, 11, 2, 15), 'end': datetime.datetime(2017, 11, 15, 11, 14, 42)}, {'start': datetime.datetime(2017, 11, 16, 9, 27, 41), 'end': datetime.datetime(2017, 11, 16, 9, 38, 49)}, {'start': datetime.datetime(2017, 11, 16, 9, 57, 41), 'end': datetime.datetime(2017, 11, 16, 10, 18)}, {'start': datetime.datetime(2017, 11, 16, 17, 25, 5), 'end': datetime.datetime(2017, 11, 16, 17, 44, 47)}, {'start': datetime.datetime(2017, 11, 17, 13, 45, 54), 'end': datetime.datetime(2017, 11, 17, 16, 36, 56)}, {'start': datetime.datetime(2017, 11, 17, 19, 12, 49), 'end': datetime.datetime(2017, 11, 17, 19, 31, 15)}, {'start': datetime.datetime(2017, 11, 18, 10, 49, 6), 'end': datetime.datetime(2017, 11, 18, 10, 55, 45)}, {'start': datetime.datetime(2017, 11, 18, 11, 32, 12), 'end': datetime.datetime(2017, 11, 18, 11, 44, 16)}, {'start': datetime.datetime(2017, 11, 18, 18, 9, 1), 'end': datetime.datetime(2017, 11, 18, 18, 14, 31)}, {'start': datetime.datetime(2017, 11, 18, 18, 53, 10), 'end': datetime.datetime(2017, 11, 18, 19, 1, 29)}, {'start': datetime.datetime(2017, 11, 19, 14, 15, 41), 'end': datetime.datetime(2017, 11, 19, 14, 31, 49)}, {'start': datetime.datetime(2017, 11, 20, 21, 19, 19), 'end': datetime.datetime(2017, 11, 20, 21, 41, 9)}, {'start': datetime.datetime(2017, 11, 20, 22, 39, 48), 'end': datetime.datetime(2017, 11, 20, 23, 23, 37)}, {'start': datetime.datetime(2017, 11, 21, 17, 44, 25), 'end': datetime.datetime(2017, 11, 21, 17, 51, 32)}, {'start': datetime.datetime(2017, 11, 21, 18, 20, 52), 'end': datetime.datetime(2017, 11, 21, 18, 34, 51)}, {'start': datetime.datetime(2017, 11, 21, 18, 47, 32), 'end': datetime.datetime(2017, 11, 21, 18, 51, 50)}, {'start': datetime.datetime(2017, 11, 21, 19, 7, 57), 'end': datetime.datetime(2017, 11, 21, 19, 14, 33)}, {'start': datetime.datetime(2017, 11, 21, 20, 4, 56), 'end': datetime.datetime(2017, 11, 21, 20, 8, 54)}, {'start': datetime.datetime(2017, 11, 21, 21, 55, 47), 'end': datetime.datetime(2017, 11, 21, 22, 8, 12)}, {'start': datetime.datetime(2017, 11, 23, 23, 47, 43), 'end': datetime.datetime(2017, 11, 23, 23, 57, 56)}, {'start': datetime.datetime(2017, 11, 24, 6, 41, 25), 'end': datetime.datetime(2017, 11, 24, 6, 53, 15)}, {'start': datetime.datetime(2017, 11, 24, 6, 58, 56), 'end': datetime.datetime(2017, 11, 24, 7, 33, 24)}, {'start': datetime.datetime(2017, 11, 26, 12, 25, 49), 'end': datetime.datetime(2017, 11, 26, 12, 41, 36)}, {'start': datetime.datetime(2017, 11, 27, 5, 29, 4), 'end': datetime.datetime(2017, 11, 27, 5, 54, 13)}, {'start': datetime.datetime(2017, 11, 27, 6, 6, 47), 'end': datetime.datetime(2017, 11, 27, 6, 11, 1)}, {'start': datetime.datetime(2017, 11, 27, 6, 45, 14), 'end': datetime.datetime(2017, 11, 27, 6, 55, 39)}, {'start': datetime.datetime(2017, 11, 27, 9, 39, 44), 'end': datetime.datetime(2017, 11, 27, 9, 47, 43)}, {'start': datetime.datetime(2017, 11, 27, 11, 9, 18), 'end': datetime.datetime(2017, 11, 27, 11, 20, 46)}, {'start': datetime.datetime(2017, 11, 27, 11, 31, 46), 'end': datetime.datetime(2017, 11, 27, 11, 35, 44)}, {'start': datetime.datetime(2017, 11, 27, 12, 7, 14), 'end': datetime.datetime(2017, 11, 27, 12, 12, 36)}, {'start': datetime.datetime(2017, 11, 27, 12, 21, 40), 'end': datetime.datetime(2017, 11, 27, 12, 26, 44)}, {'start': datetime.datetime(2017, 11, 27, 17, 26, 31), 'end': datetime.datetime(2017, 11, 27, 17, 36, 7)}, {'start': datetime.datetime(2017, 11, 27, 18, 11, 49), 'end': datetime.datetime(2017, 11, 27, 18, 29, 4)}, {'start': datetime.datetime(2017, 11, 27, 19, 36, 16), 'end': datetime.datetime(2017, 11, 27, 19, 47, 17)}, {'start': datetime.datetime(2017, 11, 27, 20, 12, 57), 'end': datetime.datetime(2017, 11, 27, 20, 17, 33)}, {'start': datetime.datetime(2017, 11, 28, 8, 18, 6), 'end': datetime.datetime(2017, 11, 28, 8, 41, 53)}, {'start': datetime.datetime(2017, 11, 28, 19, 17, 23), 'end': datetime.datetime(2017, 11, 28, 19, 34, 1)}, {'start': datetime.datetime(2017, 11, 28, 19, 34, 15), 'end': datetime.datetime(2017, 11, 28, 19, 46, 24)}, {'start': datetime.datetime(2017, 11, 28, 21, 27, 29), 'end': datetime.datetime(2017, 11, 28, 21, 39, 32)}, {'start': datetime.datetime(2017, 11, 29, 7, 47, 38), 'end': datetime.datetime(2017, 11, 29, 7, 51, 18)}, {'start': datetime.datetime(2017, 11, 29, 9, 50, 12), 'end': datetime.datetime(2017, 11, 29, 9, 53, 44)}, {'start': datetime.datetime(2017, 11, 29, 17, 3, 42), 'end': datetime.datetime(2017, 11, 29, 17, 16, 21)}, {'start': datetime.datetime(2017, 11, 29, 18, 19, 15), 'end': datetime.datetime(2017, 11, 29, 18, 23, 43)}, {'start': datetime.datetime(2017, 12, 1, 17, 3, 58), 'end': datetime.datetime(2017, 12, 1, 17, 10, 12)}, {'start': datetime.datetime(2017, 12, 2, 7, 55, 56), 'end': datetime.datetime(2017, 12, 2, 8, 1, 1)}, {'start': datetime.datetime(2017, 12, 2, 9, 16, 14), 'end': datetime.datetime(2017, 12, 2, 9, 21, 18)}, {'start': datetime.datetime(2017, 12, 2, 19, 48, 29), 'end': datetime.datetime(2017, 12, 2, 19, 53, 18)}, {'start': datetime.datetime(2017, 12, 3, 14, 36, 29), 'end': datetime.datetime(2017, 12, 3, 15, 20, 9)}, {'start': datetime.datetime(2017, 12, 3, 16, 4, 2), 'end': datetime.datetime(2017, 12, 3, 16, 25, 30)}, {'start': datetime.datetime(2017, 12, 3, 16, 40, 26), 'end': datetime.datetime(2017, 12, 3, 16, 43, 58)}, {'start': datetime.datetime(2017, 12, 3, 17, 20, 17), 'end': datetime.datetime(2017, 12, 3, 18, 4, 33)}, {'start': datetime.datetime(2017, 12, 4, 8, 34, 24), 'end': datetime.datetime(2017, 12, 4, 8, 51)}, {'start': datetime.datetime(2017, 12, 4, 17, 49, 26), 'end': datetime.datetime(2017, 12, 4, 17, 53, 57)}, {'start': datetime.datetime(2017, 12, 4, 18, 38, 52), 'end': datetime.datetime(2017, 12, 4, 18, 50, 33)}, {'start': datetime.datetime(2017, 12, 4, 21, 39, 20), 'end': datetime.datetime(2017, 12, 4, 21, 46, 58)}, {'start': datetime.datetime(2017, 12, 4, 21, 54, 21), 'end': datetime.datetime(2017, 12, 4, 21, 56, 17)}, {'start': datetime.datetime(2017, 12, 5, 8, 50, 50), 'end': datetime.datetime(2017, 12, 5, 8, 52, 54)}, {'start': datetime.datetime(2017, 12, 6, 8, 19, 38), 'end': datetime.datetime(2017, 12, 6, 8, 24, 14)}, {'start': datetime.datetime(2017, 12, 6, 18, 19, 19), 'end': datetime.datetime(2017, 12, 6, 18, 28, 11)}, {'start': datetime.datetime(2017, 12, 6, 18, 28, 55), 'end': datetime.datetime(2017, 12, 6, 18, 33, 12)}, {'start': datetime.datetime(2017, 12, 6, 20, 3, 29), 'end': datetime.datetime(2017, 12, 6, 20, 21, 38)}, {'start': datetime.datetime(2017, 12, 6, 20, 36, 42), 'end': datetime.datetime(2017, 12, 6, 20, 39, 57)}, {'start': datetime.datetime(2017, 12, 7, 5, 54, 51), 'end': datetime.datetime(2017, 12, 7, 6, 1, 15)}, {'start': datetime.datetime(2017, 12, 8, 16, 47, 18), 'end': datetime.datetime(2017, 12, 8, 16, 55, 49)}, {'start': datetime.datetime(2017, 12, 8, 19, 15, 2), 'end': datetime.datetime(2017, 12, 8, 19, 29, 12)}, {'start': datetime.datetime(2017, 12, 9, 22, 39, 37), 'end': datetime.datetime(2017, 12, 9, 22, 47, 19)}, {'start': datetime.datetime(2017, 12, 9, 23, 0, 10), 'end': datetime.datetime(2017, 12, 9, 23, 5, 32)}, {'start': datetime.datetime(2017, 12, 10, 0, 39, 24), 'end': datetime.datetime(2017, 12, 10, 0, 56, 2)}, {'start': datetime.datetime(2017, 12, 10, 1, 2, 42), 'end': datetime.datetime(2017, 12, 10, 1, 8, 9)}, {'start': datetime.datetime(2017, 12, 10, 1, 8, 57), 'end': datetime.datetime(2017, 12, 10, 1, 11, 30)}, {'start': datetime.datetime(2017, 12, 10, 13, 49, 9), 'end': datetime.datetime(2017, 12, 10, 13, 51, 41)}, {'start': datetime.datetime(2017, 12, 10, 15, 14, 29), 'end': datetime.datetime(2017, 12, 10, 15, 18, 19)}, {'start': datetime.datetime(2017, 12, 10, 15, 31, 7), 'end': datetime.datetime(2017, 12, 10, 15, 36, 28)}, {'start': datetime.datetime(2017, 12, 10, 16, 20, 6), 'end': datetime.datetime(2017, 12, 10, 16, 30, 31)}, {'start': datetime.datetime(2017, 12, 10, 17, 7, 54), 'end': datetime.datetime(2017, 12, 10, 17, 14, 25)}, {'start': datetime.datetime(2017, 12, 10, 17, 23, 47), 'end': datetime.datetime(2017, 12, 10, 17, 45, 25)}, {'start': datetime.datetime(2017, 12, 11, 6, 17, 6), 'end': datetime.datetime(2017, 12, 11, 6, 34, 4)}, {'start': datetime.datetime(2017, 12, 11, 9, 8, 41), 'end': datetime.datetime(2017, 12, 11, 9, 12, 21)}, {'start': datetime.datetime(2017, 12, 11, 9, 15, 41), 'end': datetime.datetime(2017, 12, 11, 9, 20, 18)}, {'start': datetime.datetime(2017, 12, 12, 8, 55, 53), 'end': datetime.datetime(2017, 12, 12, 8, 59, 34)}, {'start': datetime.datetime(2017, 12, 13, 17, 14, 56), 'end': datetime.datetime(2017, 12, 13, 17, 18, 32)}, {'start': datetime.datetime(2017, 12, 13, 18, 52, 16), 'end': datetime.datetime(2017, 12, 13, 19, 0, 45)}, {'start': datetime.datetime(2017, 12, 14, 9, 1, 10), 'end': datetime.datetime(2017, 12, 14, 9, 11, 6)}, {'start': datetime.datetime(2017, 12, 14, 9, 12, 59), 'end': datetime.datetime(2017, 12, 14, 9, 19, 6)}, {'start': datetime.datetime(2017, 12, 14, 11, 54, 33), 'end': datetime.datetime(2017, 12, 14, 12, 2)}, {'start': datetime.datetime(2017, 12, 14, 14, 40, 23), 'end': datetime.datetime(2017, 12, 14, 14, 44, 40)}, {'start': datetime.datetime(2017, 12, 14, 15, 8, 55), 'end': datetime.datetime(2017, 12, 14, 15, 26, 24)}, {'start': datetime.datetime(2017, 12, 14, 17, 46, 17), 'end': datetime.datetime(2017, 12, 14, 18, 9, 4)}, {'start': datetime.datetime(2017, 12, 15, 9, 8, 12), 'end': datetime.datetime(2017, 12, 15, 9, 23, 45)}, {'start': datetime.datetime(2017, 12, 16, 9, 33, 46), 'end': datetime.datetime(2017, 12, 16, 9, 36, 17)}, {'start': datetime.datetime(2017, 12, 16, 11, 2, 31), 'end': datetime.datetime(2017, 12, 16, 11, 5, 4)}, {'start': datetime.datetime(2017, 12, 17, 10, 9, 47), 'end': datetime.datetime(2017, 12, 17, 10, 32, 3)}, {'start': datetime.datetime(2017, 12, 18, 8, 2, 36), 'end': datetime.datetime(2017, 12, 18, 8, 7, 34)}, {'start': datetime.datetime(2017, 12, 18, 16, 3), 'end': datetime.datetime(2017, 12, 18, 16, 9, 20)}, {'start': datetime.datetime(2017, 12, 18, 16, 30, 7), 'end': datetime.datetime(2017, 12, 18, 16, 53, 12)}, {'start': datetime.datetime(2017, 12, 18, 19, 18, 23), 'end': datetime.datetime(2017, 12, 18, 19, 22, 8)}, {'start': datetime.datetime(2017, 12, 18, 20, 14, 46), 'end': datetime.datetime(2017, 12, 18, 20, 17, 47)}, {'start': datetime.datetime(2017, 12, 19, 19, 14, 8), 'end': datetime.datetime(2017, 12, 19, 19, 23, 49)}, {'start': datetime.datetime(2017, 12, 19, 19, 39, 36), 'end': datetime.datetime(2017, 12, 19, 19, 43, 46)}, {'start': datetime.datetime(2017, 12, 20, 8, 5, 14), 'end': datetime.datetime(2017, 12, 20, 8, 10, 46)}, {'start': datetime.datetime(2017, 12, 20, 8, 15, 45), 'end': datetime.datetime(2017, 12, 20, 8, 29, 50)}, {'start': datetime.datetime(2017, 12, 20, 8, 33, 32), 'end': datetime.datetime(2017, 12, 20, 8, 38, 9)}, {'start': datetime.datetime(2017, 12, 20, 13, 43, 36), 'end': datetime.datetime(2017, 12, 20, 13, 54, 39)}, {'start': datetime.datetime(2017, 12, 20, 18, 57, 53), 'end': datetime.datetime(2017, 12, 20, 19, 6, 54)}, {'start': datetime.datetime(2017, 12, 21, 7, 21, 11), 'end': datetime.datetime(2017, 12, 21, 7, 32, 3)}, {'start': datetime.datetime(2017, 12, 21, 8, 1, 58), 'end': datetime.datetime(2017, 12, 21, 8, 6, 15)}, {'start': datetime.datetime(2017, 12, 21, 13, 20, 54), 'end': datetime.datetime(2017, 12, 21, 13, 33, 49)}, {'start': datetime.datetime(2017, 12, 21, 15, 26, 8), 'end': datetime.datetime(2017, 12, 21, 15, 34, 27)}, {'start': datetime.datetime(2017, 12, 21, 18, 9, 46), 'end': datetime.datetime(2017, 12, 21, 18, 38, 50)}, {'start': datetime.datetime(2017, 12, 22, 16, 14, 21), 'end': datetime.datetime(2017, 12, 22, 16, 21, 46)}, {'start': datetime.datetime(2017, 12, 22, 16, 29, 17), 'end': datetime.datetime(2017, 12, 22, 16, 34, 14)}, {'start': datetime.datetime(2017, 12, 25, 12, 49, 51), 'end': datetime.datetime(2017, 12, 25, 13, 18, 27)}, {'start': datetime.datetime(2017, 12, 25, 13, 46, 44), 'end': datetime.datetime(2017, 12, 25, 14, 20, 50)}, {'start': datetime.datetime(2017, 12, 26, 10, 40, 16), 'end': datetime.datetime(2017, 12, 26, 10, 53, 45)}, {'start': datetime.datetime(2017, 12, 27, 16, 56, 12), 'end': datetime.datetime(2017, 12, 27, 17, 17, 39)}, {'start': datetime.datetime(2017, 12, 29, 6, 2, 34), 'end': datetime.datetime(2017, 12, 29, 6, 12, 30)}, {'start': datetime.datetime(2017, 12, 29, 12, 21, 3), 'end': datetime.datetime(2017, 12, 29, 12, 46, 16)}, {'start': datetime.datetime(2017, 12, 29, 14, 32, 55), 'end': datetime.datetime(2017, 12, 29, 14, 43, 46)}, {'start': datetime.datetime(2017, 12, 29, 15, 8, 26), 'end': datetime.datetime(2017, 12, 29, 15, 18, 51)}, {'start': datetime.datetime(2017, 12, 29, 20, 33, 34), 'end': datetime.datetime(2017, 12, 29, 20, 38, 13)}, {'start': datetime.datetime(2017, 12, 30, 13, 51, 3), 'end': datetime.datetime(2017, 12, 30, 13, 54, 33)}, {'start': datetime.datetime(2017, 12, 30, 15, 9, 3), 'end': datetime.datetime(2017, 12, 30, 15, 19, 13)}]\n"
     ]
    },
    {
     "data": {
      "text/html": [
       "<div>\n",
       "<style scoped>\n",
       "    .dataframe tbody tr th:only-of-type {\n",
       "        vertical-align: middle;\n",
       "    }\n",
       "\n",
       "    .dataframe tbody tr th {\n",
       "        vertical-align: top;\n",
       "    }\n",
       "\n",
       "    .dataframe thead th {\n",
       "        text-align: right;\n",
       "    }\n",
       "</style>\n",
       "<table border=\"1\" class=\"dataframe\">\n",
       "  <thead>\n",
       "    <tr style=\"text-align: right;\">\n",
       "      <th></th>\n",
       "      <th>start</th>\n",
       "      <th>end</th>\n",
       "    </tr>\n",
       "  </thead>\n",
       "  <tbody>\n",
       "    <tr>\n",
       "      <th>0</th>\n",
       "      <td>2017-10-01 15:23:25</td>\n",
       "      <td>2017-10-01 15:26:26</td>\n",
       "    </tr>\n",
       "    <tr>\n",
       "      <th>1</th>\n",
       "      <td>2017-10-01 15:42:57</td>\n",
       "      <td>2017-10-01 17:49:59</td>\n",
       "    </tr>\n",
       "    <tr>\n",
       "      <th>2</th>\n",
       "      <td>2017-10-02 06:37:10</td>\n",
       "      <td>2017-10-02 06:42:53</td>\n",
       "    </tr>\n",
       "    <tr>\n",
       "      <th>3</th>\n",
       "      <td>2017-10-02 08:56:45</td>\n",
       "      <td>2017-10-02 09:18:03</td>\n",
       "    </tr>\n",
       "    <tr>\n",
       "      <th>4</th>\n",
       "      <td>2017-10-02 18:23:48</td>\n",
       "      <td>2017-10-02 18:45:05</td>\n",
       "    </tr>\n",
       "  </tbody>\n",
       "</table>\n",
       "</div>"
      ],
      "text/plain": [
       "                start                 end\n",
       "0 2017-10-01 15:23:25 2017-10-01 15:26:26\n",
       "1 2017-10-01 15:42:57 2017-10-01 17:49:59\n",
       "2 2017-10-02 06:37:10 2017-10-02 06:42:53\n",
       "3 2017-10-02 08:56:45 2017-10-02 09:18:03\n",
       "4 2017-10-02 18:23:48 2017-10-02 18:45:05"
      ]
     },
     "metadata": {},
     "output_type": "display_data"
    },
    {
     "data": {
      "text/plain": [
       "start    datetime64[ns]\n",
       "end      datetime64[ns]\n",
       "dtype: object"
      ]
     },
     "metadata": {},
     "output_type": "display_data"
    }
   ],
   "source": [
    "import pandas as pd\n",
    "\n",
    "# Write down the format string\n",
    "fmt = \"%Y-%m-%d %H:%M:%S\"\n",
    "\n",
    "# Initialize a list for holding the pairs of datetime objects\n",
    "onebike_datetimes_dates = []\n",
    "\n",
    "# Loop over all trips\n",
    "for index, row in onebike_datetimes.iterrows():\n",
    "    trip = {'start': datetime.strptime(row['Start date'], fmt),\n",
    "            'end': datetime.strptime(row['End date'], fmt)}\n",
    "  \n",
    "    # Append the trip\n",
    "    onebike_datetimes_dates.append(trip)\n",
    "\n",
    "print(onebike_datetimes_dates)\n",
    "\n",
    "df_dates = pd.DataFrame(onebike_datetimes_dates)\n",
    "\n",
    "display(df_dates.head(5))\n",
    "display(df_dates.dtypes)\n"
   ]
  },
  {
   "cell_type": "code",
   "execution_count": 98,
   "metadata": {},
   "outputs": [
    {
     "data": {
      "text/html": [
       "<div>\n",
       "<style scoped>\n",
       "    .dataframe tbody tr th:only-of-type {\n",
       "        vertical-align: middle;\n",
       "    }\n",
       "\n",
       "    .dataframe tbody tr th {\n",
       "        vertical-align: top;\n",
       "    }\n",
       "\n",
       "    .dataframe thead th {\n",
       "        text-align: right;\n",
       "    }\n",
       "</style>\n",
       "<table border=\"1\" class=\"dataframe\">\n",
       "  <thead>\n",
       "    <tr style=\"text-align: right;\">\n",
       "      <th></th>\n",
       "      <th>Start date</th>\n",
       "      <th>End date</th>\n",
       "      <th>Start station number</th>\n",
       "      <th>Start station</th>\n",
       "      <th>End station number</th>\n",
       "      <th>End station</th>\n",
       "      <th>Bike number</th>\n",
       "      <th>Member type</th>\n",
       "      <th>start</th>\n",
       "      <th>end</th>\n",
       "    </tr>\n",
       "  </thead>\n",
       "  <tbody>\n",
       "    <tr>\n",
       "      <th>0</th>\n",
       "      <td>2017-10-01 15:23:25</td>\n",
       "      <td>2017-10-01 15:26:26</td>\n",
       "      <td>31038</td>\n",
       "      <td>Glebe Rd &amp; 11th St N</td>\n",
       "      <td>31036</td>\n",
       "      <td>George Mason Dr &amp; Wilson Blvd</td>\n",
       "      <td>W20529</td>\n",
       "      <td>Member</td>\n",
       "      <td>2017-10-01 15:23:25</td>\n",
       "      <td>2017-10-01 15:26:26</td>\n",
       "    </tr>\n",
       "    <tr>\n",
       "      <th>1</th>\n",
       "      <td>2017-10-01 15:42:57</td>\n",
       "      <td>2017-10-01 17:49:59</td>\n",
       "      <td>31036</td>\n",
       "      <td>George Mason Dr &amp; Wilson Blvd</td>\n",
       "      <td>31036</td>\n",
       "      <td>George Mason Dr &amp; Wilson Blvd</td>\n",
       "      <td>W20529</td>\n",
       "      <td>Casual</td>\n",
       "      <td>2017-10-01 15:42:57</td>\n",
       "      <td>2017-10-01 17:49:59</td>\n",
       "    </tr>\n",
       "    <tr>\n",
       "      <th>2</th>\n",
       "      <td>2017-10-02 06:37:10</td>\n",
       "      <td>2017-10-02 06:42:53</td>\n",
       "      <td>31036</td>\n",
       "      <td>George Mason Dr &amp; Wilson Blvd</td>\n",
       "      <td>31037</td>\n",
       "      <td>Ballston Metro / N Stuart &amp; 9th St N</td>\n",
       "      <td>W20529</td>\n",
       "      <td>Member</td>\n",
       "      <td>2017-10-02 06:37:10</td>\n",
       "      <td>2017-10-02 06:42:53</td>\n",
       "    </tr>\n",
       "    <tr>\n",
       "      <th>3</th>\n",
       "      <td>2017-10-02 08:56:45</td>\n",
       "      <td>2017-10-02 09:18:03</td>\n",
       "      <td>31037</td>\n",
       "      <td>Ballston Metro / N Stuart &amp; 9th St N</td>\n",
       "      <td>31295</td>\n",
       "      <td>Potomac &amp; M St NW</td>\n",
       "      <td>W20529</td>\n",
       "      <td>Member</td>\n",
       "      <td>2017-10-02 08:56:45</td>\n",
       "      <td>2017-10-02 09:18:03</td>\n",
       "    </tr>\n",
       "    <tr>\n",
       "      <th>4</th>\n",
       "      <td>2017-10-02 18:23:48</td>\n",
       "      <td>2017-10-02 18:45:05</td>\n",
       "      <td>31295</td>\n",
       "      <td>Potomac &amp; M St NW</td>\n",
       "      <td>31230</td>\n",
       "      <td>Metro Center / 12th &amp; G St NW</td>\n",
       "      <td>W20529</td>\n",
       "      <td>Member</td>\n",
       "      <td>2017-10-02 18:23:48</td>\n",
       "      <td>2017-10-02 18:45:05</td>\n",
       "    </tr>\n",
       "  </tbody>\n",
       "</table>\n",
       "</div>"
      ],
      "text/plain": [
       "            Start date             End date  Start station number  \\\n",
       "0  2017-10-01 15:23:25  2017-10-01 15:26:26                 31038   \n",
       "1  2017-10-01 15:42:57  2017-10-01 17:49:59                 31036   \n",
       "2  2017-10-02 06:37:10  2017-10-02 06:42:53                 31036   \n",
       "3  2017-10-02 08:56:45  2017-10-02 09:18:03                 31037   \n",
       "4  2017-10-02 18:23:48  2017-10-02 18:45:05                 31295   \n",
       "\n",
       "                          Start station  End station number  \\\n",
       "0                  Glebe Rd & 11th St N               31036   \n",
       "1         George Mason Dr & Wilson Blvd               31036   \n",
       "2         George Mason Dr & Wilson Blvd               31037   \n",
       "3  Ballston Metro / N Stuart & 9th St N               31295   \n",
       "4                     Potomac & M St NW               31230   \n",
       "\n",
       "                            End station Bike number Member type  \\\n",
       "0         George Mason Dr & Wilson Blvd      W20529      Member   \n",
       "1         George Mason Dr & Wilson Blvd      W20529      Casual   \n",
       "2  Ballston Metro / N Stuart & 9th St N      W20529      Member   \n",
       "3                     Potomac & M St NW      W20529      Member   \n",
       "4         Metro Center / 12th & G St NW      W20529      Member   \n",
       "\n",
       "                start                 end  \n",
       "0 2017-10-01 15:23:25 2017-10-01 15:26:26  \n",
       "1 2017-10-01 15:42:57 2017-10-01 17:49:59  \n",
       "2 2017-10-02 06:37:10 2017-10-02 06:42:53  \n",
       "3 2017-10-02 08:56:45 2017-10-02 09:18:03  \n",
       "4 2017-10-02 18:23:48 2017-10-02 18:45:05  "
      ]
     },
     "metadata": {},
     "output_type": "display_data"
    },
    {
     "data": {
      "text/plain": [
       "Start date                      object\n",
       "End date                        object\n",
       "Start station number             int64\n",
       "Start station                   object\n",
       "End station number               int64\n",
       "End station                     object\n",
       "Bike number                     object\n",
       "Member type                     object\n",
       "start                   datetime64[ns]\n",
       "end                     datetime64[ns]\n",
       "dtype: object"
      ]
     },
     "metadata": {},
     "output_type": "display_data"
    },
    {
     "name": "stdout",
     "output_type": "stream",
     "text": [
      "{'AM': 94, 'PM': 196}\n"
     ]
    }
   ],
   "source": [
    "import pandas as pd\n",
    "from datetime import datetime\n",
    "\n",
    "# Write down the format string\n",
    "fmt = \"%Y-%m-%d %H:%M:%S\"\n",
    "\n",
    "# Initialize a list for holding the trip data\n",
    "trips = []\n",
    "\n",
    "# Loop over all trips\n",
    "for index, row in onebike_datetimes.iterrows():\n",
    "    trip = {'start': datetime.strptime(row['Start date'], fmt),\n",
    "            'end': datetime.strptime(row['End date'], fmt)}\n",
    "    # Append the trip\n",
    "    trips.append(trip)\n",
    "\n",
    "# Create a DataFrame from the trip data and concatenate them together\n",
    "trips_df = pd.DataFrame(trips)\n",
    "onebike_datetimes = pd.concat([onebike_datetimes, trips_df], axis=1)\n",
    "\n",
    "display(onebike_datetimes.head(5))\n",
    "display(onebike_datetimes.dtypes)\n",
    "\n",
    "#Code Test\n",
    "\n",
    "# Create dictionary to hold results\n",
    "trip_counts = {'AM': 0, 'PM': 0}\n",
    "  \n",
    "# Loop over all trips\n",
    "for index, trip in onebike_datetimes.iterrows():\n",
    "  # Check to see if the trip starts before noon\n",
    "  if trip['start'].hour < 12:\n",
    "    # Increment the counter for before noon\n",
    "    trip_counts['AM'] += 1\n",
    "  else:\n",
    "    # Increment the counter for after noon\n",
    "    trip_counts['PM'] += 1\n",
    "  \n",
    "print(trip_counts)"
   ]
  },
  {
   "attachments": {},
   "cell_type": "markdown",
   "metadata": {},
   "source": [
    "**Recreating ISO format with strftime()**\n",
    "\n",
    "In the last chapter, you used `strftime()` to create strings from `date` objects. Now that you know about `datetime` objects, let's practice doing something similar.\n",
    "\n",
    "Re-create the `.isoformat()` method, using `.strftime()`, and print the first trip start in our data set.\n",
    "\n",
    "Reference\t\n",
    "%Y\t4 digit year (0000-9999)\n",
    "%m\t2 digit month (1-12)\n",
    "%d\t2 digit day (1-31)\n",
    "%H\t2 digit hour (0-23)\n",
    "%M\t2 digit minute (0-59)\n",
    "%S\t2 digit second (0-59)\n",
    "\n",
    "STEPS\n",
    "    Complete fmt to match the format of ISO 8601.\n",
    "    Print first_start with both .isoformat() and .strftime(); they should match."
   ]
  },
  {
   "cell_type": "code",
   "execution_count": 107,
   "metadata": {},
   "outputs": [
    {
     "name": "stdout",
     "output_type": "stream",
     "text": [
      "2017-10-01T15:23:25\n",
      "2017-10-01T15:23:25\n"
     ]
    }
   ],
   "source": [
    "# Import datetime\n",
    "from datetime import datetime\n",
    "\n",
    "# Pull out the start of the first trip\n",
    "first_start = onebike_datetimes.start[0]\n",
    "\n",
    "# Format to feed to strftime()\n",
    "fmt = \"%Y-%m-%dT%H:%M:%S\"\n",
    "\n",
    "# Print out date with .isoformat(), then with .strftime() to compare\n",
    "print(first_start.isoformat())\n",
    "print(first_start.strftime(fmt))"
   ]
  },
  {
   "attachments": {},
   "cell_type": "markdown",
   "metadata": {},
   "source": [
    "**Unix timestamps**\n",
    "\n",
    "Datetimes are sometimes stored as Unix timestamps: the number of seconds since January 1, 1970. This is especially common with computer infrastructure, like the log files that websites keep when they get visitors.\n",
    "\n",
    "STEPS\n",
    "    Complete the for loop to loop over timestamps.\n",
    "    Complete the code to turn each timestamp ts into a datetime."
   ]
  },
  {
   "cell_type": "code",
   "execution_count": 109,
   "metadata": {},
   "outputs": [
    {
     "data": {
      "text/plain": [
       "[datetime.datetime(2017, 12, 30, 15, 19, 13),\n",
       " datetime.datetime(2017, 12, 30, 15, 9, 3)]"
      ]
     },
     "metadata": {},
     "output_type": "display_data"
    }
   ],
   "source": [
    "# Import datetime\n",
    "from datetime import datetime\n",
    "\n",
    "# Starting timestamps\n",
    "timestamps = [1514665153, 1514664543]\n",
    "\n",
    "# Datetime objects\n",
    "dts = []\n",
    "\n",
    "# Loop\n",
    "for ts in timestamps:\n",
    "  dts.append(datetime.fromtimestamp(ts))\n",
    "  \n",
    "# Print results\n",
    "display(dts)"
   ]
  },
  {
   "attachments": {},
   "cell_type": "markdown",
   "metadata": {},
   "source": [
    "## **Time Zones and Daylight Saving (Module 03-051)**"
   ]
  },
  {
   "attachments": {},
   "cell_type": "markdown",
   "metadata": {},
   "source": [
    "#### **xxxx**\n",
    "\n",
    "1. xxx\n",
    "\n",
    "2. xxx\n",
    "\n",
    "3. xxx\n",
    "\n",
    "4. xxx"
   ]
  },
  {
   "attachments": {},
   "cell_type": "markdown",
   "metadata": {},
   "source": [
    "#### **xxxx**\n",
    "\n",
    "1. xxx\n",
    "\n",
    "2. xxx\n",
    "\n",
    "3. xxx\n",
    "\n",
    "4. xxx"
   ]
  },
  {
   "attachments": {},
   "cell_type": "markdown",
   "metadata": {},
   "source": [
    "## **Easy and Powerful: Dates and Times in Pandas (Module 04-051)**"
   ]
  },
  {
   "attachments": {},
   "cell_type": "markdown",
   "metadata": {},
   "source": [
    "#### **xxxx**\n",
    "\n",
    "1. xxx\n",
    "\n",
    "2. xxx\n",
    "\n",
    "3. xxx\n",
    "\n",
    "4. xxx"
   ]
  },
  {
   "attachments": {},
   "cell_type": "markdown",
   "metadata": {},
   "source": [
    "#### **xxxx**\n",
    "\n",
    "1. xxx\n",
    "\n",
    "2. xxx\n",
    "\n",
    "3. xxx\n",
    "\n",
    "4. xxx"
   ]
  },
  {
   "attachments": {},
   "cell_type": "markdown",
   "metadata": {},
   "source": [
    "#### **xxxx**\n",
    "\n",
    "1. xxx\n",
    "\n",
    "2. xxx\n",
    "\n",
    "3. xxx\n",
    "\n",
    "4. xxx"
   ]
  },
  {
   "attachments": {},
   "cell_type": "markdown",
   "metadata": {},
   "source": [
    "#### **xxxx**\n",
    "\n",
    "1. xxx\n",
    "\n",
    "2. xxx\n",
    "\n",
    "3. xxx\n",
    "\n",
    "4. xxx"
   ]
  },
  {
   "cell_type": "code",
   "execution_count": 1,
   "metadata": {},
   "outputs": [
    {
     "name": "stdout",
     "output_type": "stream",
     "text": [
      "Perrenque!\n"
     ]
    }
   ],
   "source": [
    "print('Perrenque!')"
   ]
  }
 ],
 "metadata": {
  "kernelspec": {
   "display_name": "Python 3",
   "language": "python",
   "name": "python3"
  },
  "language_info": {
   "codemirror_mode": {
    "name": "ipython",
    "version": 3
   },
   "file_extension": ".py",
   "mimetype": "text/x-python",
   "name": "python",
   "nbconvert_exporter": "python",
   "pygments_lexer": "ipython3",
   "version": "3.10.0"
  },
  "orig_nbformat": 4,
  "vscode": {
   "interpreter": {
    "hash": "26de051ba29f2982a8de78e945f0abaf191376122a1563185a90213a26c5da77"
   }
  }
 },
 "nbformat": 4,
 "nbformat_minor": 2
}
