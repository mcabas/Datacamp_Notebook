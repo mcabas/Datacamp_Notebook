{
 "cells": [
  {
   "attachments": {},
   "cell_type": "markdown",
   "metadata": {},
   "source": [
    "# **DataCamp.Course_051_Working with Dates and Times in Python**\n",
    "\n",
    "### **Course Description**\n",
    "\n",
    "You'll probably never have a time machine, but how about a machine for analyzing time? As soon as time enters any analysis, things can get weird. It's easy to get tripped up on day and month boundaries, time zones, daylight saving time, and all sorts of other things that can confuse the unprepared. If you're going to do any kind of analysis involving time, you’ll want to use Python to sort it out. Working with data sets on hurricanes and bike trips, we’ll cover counting events, figuring out how much time has elapsed between events and plotting data over time. You'll work in both standard Python and in Pandas, and we'll touch on the dateutil library, the only timezone library endorsed by the official Python documentation. After this course, you'll confidently handle date and time data in any format like a champion. "
   ]
  },
  {
   "cell_type": "code",
   "execution_count": 1,
   "metadata": {},
   "outputs": [
    {
     "name": "stdout",
     "output_type": "stream",
     "text": [
      "   YEAR GoogleKnowlege_Occupation     Show   Group    Raw_Guest_List\n",
      "0  1999                     actor  1/11/99  Acting    Michael J. Fox\n",
      "1  1999                  Comedian  1/12/99  Comedy   Sandra Bernhard\n",
      "2  1999        television actress  1/13/99  Acting     Tracey Ullman\n",
      "3  1999              film actress  1/14/99  Acting  Gillian Anderson\n",
      "4  1999                     actor  1/18/99  Acting  David Alan Grier\n"
     ]
    }
   ],
   "source": [
    "# read_csv function\n",
    "\n",
    "import os\n",
    "import pandas as pd\n",
    "folder_name = 'datasets'\n",
    "dir = r'G:\\My Drive\\Data Science\\Datacamp_Notebook\\Datacamp_Notebook\\{}'.format(folder_name)\n",
    "\n",
    "def read_csv_fun(folder_name,file_name, path):\n",
    "    path = dir\n",
    "    os.chdir(path)\n",
    "    df = pd.read_csv('{}.csv'.format(file_name), sep=',', low_memory=False, on_bad_lines='skip')\n",
    "    return df\n",
    "\n",
    "df_show = read_csv_fun('datasets','daily_show_guests_cleaned', dir)\n",
    "print(df_show.head(5))"
   ]
  },
  {
   "attachments": {},
   "cell_type": "markdown",
   "metadata": {},
   "source": [
    "## **Dates and Calendars (Module 01-051)**"
   ]
  },
  {
   "attachments": {},
   "cell_type": "markdown",
   "metadata": {},
   "source": [
    "#### **Dates in Python**\n",
    "\n",
    "1. Course overview\n",
    "Chapter 1: Dates and Calendars\n",
    "Chapter 2: Combining Dates and Times\n",
    "Chapter 3: Time zones and Daylight Saving\n",
    "Chapter 4: Dates and Times in Pandas\n",
    "\n",
    "2. Why do we need a date class in Python?\n",
    "two_hurricanes = [\"10/7/2016\", \"6/21/2017\"]\n",
    "How would you:\n",
    "- Figure out how many days had elapsed?\n",
    "- Check that they were in order from earliest to latest?\n",
    "- Know which day of the week each was?\n",
    "- Filter out hurricanes which happened between certain dates?\n",
    "\n",
    "3. Creating date objects\n",
    "*-# Import date*\n",
    "from datetime import date\n",
    "*-# Create dates*\n",
    "two_hurricanes_dates = [date(2016, 10, 7), date(2017, 6, 21)]\n",
    "\n",
    "4. Attributes of a date\n",
    "\n",
    "*-# Import date*\n",
    "from datetime import date\n",
    "\n",
    "*-# Create dates*\n",
    "two_hurricanes_dates = [date(2016, 10, 7), date(2017, 6, 21)]\n",
    "print(two_hurricanes_dates[0].year)\n",
    "print(two_hurricanes_dates[0].month)\n",
    "print(two_hurricanes_dates[0].day)\n",
    "\n",
    "`2016`\n",
    "`10`\n",
    "`7`\n",
    "\n",
    "5. Finding the weekday of a date\n",
    "print(two_hurricanes_dates[0].weekday())\n",
    "\n",
    "Weekdays in Python\n",
    "0 = Monday\n",
    "1 = Tuesday\n",
    "2 = Wednesday\n",
    "...\n",
    "6 = Sunday"
   ]
  },
  {
   "cell_type": "code",
   "execution_count": 3,
   "metadata": {},
   "outputs": [
    {
     "name": "stdout",
     "output_type": "stream",
     "text": [
      "2016\n",
      "10\n",
      "7\n",
      "4\n"
     ]
    }
   ],
   "source": [
    "# Import date\n",
    "from datetime import date\n",
    "# Create dates\n",
    "two_hurricanes_dates = [date(2016, 10, 7), date(2017, 6, 21)]\n",
    "print(two_hurricanes_dates[0].year)\n",
    "print(two_hurricanes_dates[0].month)\n",
    "print(two_hurricanes_dates[0].day)\n",
    "\n",
    "print(two_hurricanes_dates[0].weekday())"
   ]
  },
  {
   "attachments": {},
   "cell_type": "markdown",
   "metadata": {},
   "source": [
    "**Which day of the week?**\n",
    "\n",
    "Hurricane Andrew, which hit Florida on August 24, 1992, was one of the costliest and deadliest hurricanes in US history. Which day of the week did it make landfall?\n",
    "\n",
    "Let's walk through all of the steps to figure this out.\n",
    "\n",
    "*0 = Monday*"
   ]
  },
  {
   "cell_type": "code",
   "execution_count": 5,
   "metadata": {},
   "outputs": [
    {
     "name": "stdout",
     "output_type": "stream",
     "text": [
      "0\n"
     ]
    }
   ],
   "source": [
    "# Import date from datetime\n",
    "from datetime import date\n",
    "\n",
    "# Create a date object\n",
    "hurricane_andrew = date(1992, 8, 24)\n",
    "\n",
    "# Which day of the week is the date?\n",
    "print(hurricane_andrew.weekday())"
   ]
  },
  {
   "attachments": {},
   "cell_type": "markdown",
   "metadata": {},
   "source": [
    "**How many hurricanes come early?**\n",
    "\n",
    "In this chapter, you will work with a list of the hurricanes that made landfall in Florida from 1950 to 2017. There were 235 in total. Check out the variable `florida_hurricane_dates`, which has all of these dates.\n",
    "\n",
    "Atlantic hurricane season officially begins on June 1. How many hurricanes since 1950 have made landfall in Florida before the official start of hurricane season?\n",
    "\n",
    "STEPS\n",
    "    Complete the for loop to iterate through florida_hurricane_dates.\n",
    "    Complete the if statement to increment the counter (early_hurricanes) if the hurricane made landfall before June."
   ]
  },
  {
   "cell_type": "code",
   "execution_count": 10,
   "metadata": {},
   "outputs": [
    {
     "data": {
      "text/plain": [
       "[datetime.date(1988, 8, 4),\n",
       " datetime.date(1990, 10, 12),\n",
       " datetime.date(2003, 4, 20),\n",
       " datetime.date(1971, 9, 1),\n",
       " datetime.date(1988, 8, 23)]"
      ]
     },
     "metadata": {},
     "output_type": "display_data"
    }
   ],
   "source": [
    "# import pkl file\n",
    "florida_hurricane_dates = pd.read_pickle(r'G:\\My Drive\\Data Science\\Datacamp_Notebook\\Datacamp_Notebook\\datasets\\florida_hurricane_dates.pkl')\n",
    "display(florida_hurricane_dates[0:5])"
   ]
  },
  {
   "cell_type": "code",
   "execution_count": 11,
   "metadata": {},
   "outputs": [
    {
     "name": "stdout",
     "output_type": "stream",
     "text": [
      "10\n"
     ]
    }
   ],
   "source": [
    "# Counter for how many before June 1\n",
    "early_hurricanes = 0\n",
    "\n",
    "# We loop over the dates\n",
    "for hurricane in florida_hurricane_dates:\n",
    "  # Check if the month is before June (month number 6)\n",
    "  if hurricane.month < 6:\n",
    "    early_hurricanes = early_hurricanes + 1\n",
    "    \n",
    "print(early_hurricanes)"
   ]
  },
  {
   "attachments": {},
   "cell_type": "markdown",
   "metadata": {},
   "source": [
    "#### **Math with dates**\n",
    "\n",
    "1. Math with dates\n",
    "\n",
    "- numbers range\n",
    "*-# Example numbers*\n",
    "a = 11\n",
    "b = 14\n",
    "l = [a, b]\n",
    "*-# Find the least least in the list*\n",
    "print(min(l))\n",
    "11\n",
    "\n",
    "*-# Subtract two numbers*\n",
    "print(b - a)\n",
    "3\n",
    "*-# Add 3 to a*\n",
    "print(a + 3)\n",
    "14 \n",
    "\n",
    "- date range\n",
    "\n",
    "*-# Import date*\n",
    "from datetime import date\n",
    "*-# Create our dates*\n",
    "d1 = date(2017, 11, 5)\n",
    "d2 = date(2017, 12, 4)\n",
    "l = [d1, d2]\n",
    "print(min(l))\n",
    "2017-11-05\n",
    "\n",
    "*-# Subtract two dates*\n",
    "delta = d2 - d1\n",
    "print(delta.days)\n",
    "29\n",
    "\n",
    "*-# Import timedelta*\n",
    "from datetime import timedelta\n",
    "*-# Create a 29 day timedelta*\n",
    "td = timedelta(days=29)\n",
    "print(d1 + td)\n",
    "2017-12-04\n",
    "\n",
    "2. Incrementing variables with +=\n",
    "\n",
    "*-# Initialize x to be zero*\n",
    "x = 0\n",
    "*-# Increment x*\n",
    "x = x + 1\n",
    "print(x)\n",
    "1\n",
    "\n",
    "*-# Initialize x to be zero*\n",
    "x = 0\n",
    "*-# Increment x*\n",
    "x += 1\n",
    "print(x)\n",
    "1"
   ]
  },
  {
   "cell_type": "code",
   "execution_count": 13,
   "metadata": {},
   "outputs": [
    {
     "name": "stdout",
     "output_type": "stream",
     "text": [
      "2017-11-05\n",
      "29\n",
      "2017-12-04\n"
     ]
    }
   ],
   "source": [
    "# Import date\n",
    "from datetime import date\n",
    "# Create our dates\n",
    "d1 = date(2017, 11, 5)\n",
    "d2 = date(2017, 12, 4)\n",
    "l = [d1, d2]\n",
    "print(min(l))\n",
    "\n",
    "# Subtract two dates\n",
    "delta = d2 - d1\n",
    "print(delta.days)\n",
    "\n",
    "# Import timedelta\n",
    "from datetime import timedelta\n",
    "# Create a 29 day timedelta\n",
    "td = timedelta(days=29)\n",
    "print(d1 + td)"
   ]
  },
  {
   "cell_type": "code",
   "execution_count": 21,
   "metadata": {},
   "outputs": [
    {
     "name": "stdout",
     "output_type": "stream",
     "text": [
      "1\n",
      "1\n"
     ]
    }
   ],
   "source": [
    "# Initialize x to be zero\n",
    "x = 0\n",
    "# Increment x\n",
    "x += 1\n",
    "print(x)\n",
    "\n",
    "# Initialize x to be zero\n",
    "x = 0\n",
    "# Increment x\n",
    "x = x + 1\n",
    "print(x)"
   ]
  },
  {
   "attachments": {},
   "cell_type": "markdown",
   "metadata": {},
   "source": [
    "**Subtracting dates**\n",
    "\n",
    "Python date objects let us treat calendar dates as something similar to numbers: we can compare them, sort them, add, and even subtract them. This lets us do math with dates in a way that would be a pain to do by hand.\n",
    "\n",
    "The 2007 Florida hurricane season was one of the busiest on record, with 8 hurricanes in one year. The first one hit on May 9th, 2007, and the last one hit on December 13th, 2007. How many days elapsed between the first and last hurricane in 2007?\n",
    "\n",
    "STEPS\n",
    "    Import date from datetime.\n",
    "    Create a date object for May 9th, 2007, and assign it to the start variable.\n",
    "    Create a date object for December 13th, 2007, and assign it to the end variable.\n",
    "    Subtract start from end, to print the number of days in the resulting timedelta object."
   ]
  },
  {
   "cell_type": "code",
   "execution_count": 22,
   "metadata": {},
   "outputs": [
    {
     "name": "stdout",
     "output_type": "stream",
     "text": [
      "218\n"
     ]
    }
   ],
   "source": [
    "# Import date\n",
    "from datetime import date\n",
    "\n",
    "# Create a date object for May 9th, 2007\n",
    "start = date(2007, 5, 9)\n",
    "\n",
    "# Create a date object for December 13th, 2007\n",
    "end = date(2007, 12, 13)\n",
    "\n",
    "# Subtract the two dates and print the number of days\n",
    "print((end - start).days)"
   ]
  },
  {
   "attachments": {},
   "cell_type": "markdown",
   "metadata": {},
   "source": [
    "**Counting events per calendar month**\n",
    "\n",
    "Hurricanes can make landfall in Florida throughout the year. As we've already discussed, some months are more hurricane-prone than others.\n",
    "\n",
    "Using `florida_hurricane_dates`, let's see how hurricanes in Florida were distributed across months throughout the year.\n",
    "\n",
    "We've created a dictionary called `hurricanes_each_month` to hold your counts and set the initial counts to zero. You will loop over the list of hurricanes, incrementing the correct month in `hurricanes_each_month` as you go, and then print the result.\n",
    "\n",
    "STEPS\n",
    "    Within the for loop:\n",
    "    Assign month to be the month of that hurricane.\n",
    "    Increment hurricanes_each_month for the relevant month by 1."
   ]
  },
  {
   "cell_type": "code",
   "execution_count": 23,
   "metadata": {},
   "outputs": [
    {
     "name": "stdout",
     "output_type": "stream",
     "text": [
      "{1: 0, 2: 1, 3: 0, 4: 1, 5: 8, 6: 32, 7: 21, 8: 49, 9: 70, 10: 43, 11: 9, 12: 1}\n"
     ]
    }
   ],
   "source": [
    "# A dictionary to count hurricanes per calendar month\n",
    "hurricanes_each_month = {1: 0, 2: 0, 3: 0, 4: 0, 5: 0, 6:0,\n",
    "\t\t  \t\t\t\t 7: 0, 8:0, 9:0, 10:0, 11:0, 12:0}\n",
    "\n",
    "# Loop over all hurricanes\n",
    "for hurricane in florida_hurricane_dates:\n",
    "  # Pull out the month\n",
    "  month = hurricane.month\n",
    "  # Increment the count in your dictionary by one\n",
    "  hurricanes_each_month[month] += 1\n",
    "  \n",
    "print(hurricanes_each_month)"
   ]
  },
  {
   "attachments": {},
   "cell_type": "markdown",
   "metadata": {},
   "source": [
    "**Putting a list of dates in order**\n",
    "\n",
    "Much like numbers and strings, `date` objects in Python can be put in order. Earlier dates come before later ones, and so we can sort a list of `date` objects from earliest to latest.\n",
    "\n",
    "What if our Florida hurricane dates had been scrambled? We've gone ahead and shuffled them so they're in random order and saved the results as `dates_scrambled`. Your job is to put them back in chronological order, and then print the first and last dates from this sorted list.\n",
    "\n",
    "STEP01\n",
    "Print the first and last dates in dates_scrambled.\n",
    "STEP02\n",
    "    Sort dates_scrambled using Python's built-in sorted() function, and save the results to dates_ordered.\n",
    "    Print the first and last dates in dates_ordered."
   ]
  },
  {
   "cell_type": "code",
   "execution_count": 25,
   "metadata": {},
   "outputs": [
    {
     "name": "stdout",
     "output_type": "stream",
     "text": [
      "1988-08-04\n",
      "2011-07-18\n"
     ]
    }
   ],
   "source": [
    "# Print the first and last scrambled dates\n",
    "print(florida_hurricane_dates[0])\n",
    "print(florida_hurricane_dates[len(florida_hurricane_dates) - 1])"
   ]
  },
  {
   "cell_type": "code",
   "execution_count": 26,
   "metadata": {},
   "outputs": [
    {
     "name": "stdout",
     "output_type": "stream",
     "text": [
      "1950-08-31\n",
      "2017-10-29\n"
     ]
    }
   ],
   "source": [
    "# Put the dates in order\n",
    "dates_ordered = sorted(florida_hurricane_dates)\n",
    "\n",
    "# Print the first and last ordered dates\n",
    "print(dates_ordered[0])\n",
    "print(dates_ordered[-1])"
   ]
  },
  {
   "attachments": {},
   "cell_type": "markdown",
   "metadata": {},
   "source": [
    "#### **Turning dates into strings**\n",
    "\n",
    "1. ISO 8601 format\n",
    "from datetime import date\n",
    "*-# Example date*\n",
    "d = date(2017, 11, 5)\n",
    "*-# ISO format: YYYY-MM-DD*\n",
    "print(d)\n",
    "2017-11-05\n",
    "*-# Express the date in ISO 8601 format and put it in a list*\n",
    "print( [d.isoformat()] )\n",
    "['2017-11-05']\n",
    "\n",
    "*-# A few dates that computers once had trouble with*\n",
    "some_dates = ['2000-01-01', '1999-12-31']\n",
    "*-# Print them in order*\n",
    "print(sorted(some_dates))\n",
    "['1999-12-31', '2000-01-01']\n",
    "\n",
    "2. Every other format: strftime\n",
    "d.strftime()\n",
    "\n",
    "*-# Example date*\n",
    "d = date(2017, 1, 5)\n",
    "print(d.strftime(\"%Y\"))\n",
    "2017\n",
    "*-# Format string with more text in it*\n",
    "print(d.strftime(\"Year is %Y\"))\n",
    "Year is 2017\n",
    "\n",
    "*-# Format: YYYY/MM/DD*\n",
    "print(d.strftime(\"%Y/%m/%d\"))\n",
    "2017/01/05"
   ]
  },
  {
   "cell_type": "code",
   "execution_count": 27,
   "metadata": {},
   "outputs": [
    {
     "name": "stdout",
     "output_type": "stream",
     "text": [
      "2017-11-05\n",
      "['2017-11-05']\n",
      "['1999-12-31', '2000-01-01']\n"
     ]
    }
   ],
   "source": [
    "# Example date\n",
    "d = date(2017, 11, 5)\n",
    "# ISO format: YYYY-MM-DD\n",
    "print(d)\n",
    "\n",
    "# Express the date in ISO 8601 format and put it in a list\n",
    "print( [d.isoformat()] )\n",
    "\n",
    "# A few dates that computers once had trouble with\n",
    "some_dates = ['2000-01-01', '1999-12-31']\n",
    "# Print them in order\n",
    "print(sorted(some_dates))"
   ]
  },
  {
   "cell_type": "code",
   "execution_count": 29,
   "metadata": {},
   "outputs": [
    {
     "name": "stdout",
     "output_type": "stream",
     "text": [
      "2017\n",
      "Year is 2017\n",
      "2017/01/05\n"
     ]
    }
   ],
   "source": [
    "# Example date\n",
    "d = date(2017, 1, 5)\n",
    "print(d.strftime(\"%Y\"))\n",
    "\n",
    "# Format string with more text in it\n",
    "print(d.strftime(\"Year is %Y\"))\n",
    "\n",
    "# Format: YYYY/MM/DD\n",
    "print(d.strftime(\"%Y/%m/%d\"))"
   ]
  },
  {
   "attachments": {},
   "cell_type": "markdown",
   "metadata": {},
   "source": [
    "**Printing dates in a friendly format**\n",
    "\n",
    "Because people may want to see dates in many different formats, Python comes with very flexible functions for turning `date` objects into strings.\n",
    "\n",
    "Let's see what event was recorded first in the Florida hurricane data set. In this exercise, you will format the earliest date in the `florida_hurricane_dates` list in two ways so you can decide which one you want to use: either the ISO standard or the typical US style.\n",
    "\n",
    "STEPS\n",
    "    Assign the earliest date in florida_hurricane_dates to first_date.\n",
    "    Print first_date in the ISO standard. For example, December 1st, 2000 would be \"2000-12-01\".\n",
    "    Print first_date in the US style, using .strftime(). For example, December 1st, 2000 would be \"12/1/2000\"."
   ]
  },
  {
   "cell_type": "code",
   "execution_count": 30,
   "metadata": {},
   "outputs": [
    {
     "name": "stdout",
     "output_type": "stream",
     "text": [
      "ISO: Our earliest hurricane date: 1950-08-31\n",
      "US: Our earliest hurricane date: 08/31/1950\n"
     ]
    }
   ],
   "source": [
    "# Assign the earliest date to first_date\n",
    "first_date = min(florida_hurricane_dates)\n",
    "\n",
    "# Convert to ISO and US formats\n",
    "iso = \"Our earliest hurricane date: \" + first_date.isoformat()\n",
    "us = \"Our earliest hurricane date: \" + first_date.strftime(\"%m/%d/%Y\")\n",
    "\n",
    "print(\"ISO: \" + iso)\n",
    "print(\"US: \" + us)"
   ]
  },
  {
   "attachments": {},
   "cell_type": "markdown",
   "metadata": {},
   "source": [
    "**Representing dates in different ways**\n",
    "\n",
    "date objects in Python have a great number of ways they can be printed out as strings. In some cases, you want to know the date in a clear, language-agnostic format. In other cases, you want something which can fit into a paragraph and flow naturally.\n",
    "\n",
    "Let's try printing out the same date, August 26, 1992 (the day that Hurricane Andrew made landfall in Florida), in a number of different ways, to practice using the `.strftime()` method.\n",
    "\n",
    "A date object called `andrew` has already been created.\n",
    "\n",
    "STEPS\n",
    "Print andrew in the format 'YYYY-MM'.\n",
    "Print andrew in the format 'MONTH (YYYY)', using %B for the month's full name, which in this case will be August.\n",
    "Print andrew in the format 'YYYY-DDD' (where DDD is the day of the year) using %j."
   ]
  },
  {
   "cell_type": "code",
   "execution_count": 33,
   "metadata": {},
   "outputs": [
    {
     "name": "stdout",
     "output_type": "stream",
     "text": [
      "1992-08\n",
      "August (1992)\n",
      "1992-239\n"
     ]
    }
   ],
   "source": [
    "# Import date\n",
    "from datetime import date\n",
    "\n",
    "# Create a date object\n",
    "andrew = date(1992, 8, 26)\n",
    "\n",
    "# Print the date in the format 'YYYY-MM'\n",
    "print(andrew.strftime('%Y-%m'))\n",
    "\n",
    "# Print the date in the format 'MONTH (YYYY)'\n",
    "print(andrew.strftime('%B (%Y)'))\n",
    "\n",
    "# Print the date in the format 'YYYY-DDD'\n",
    "print(andrew.strftime('%Y-%j'))"
   ]
  },
  {
   "attachments": {},
   "cell_type": "markdown",
   "metadata": {},
   "source": [
    "## **Combining Dates and Times (Module 02-051)**"
   ]
  },
  {
   "attachments": {},
   "cell_type": "markdown",
   "metadata": {},
   "source": [
    "#### **Dates and times**\n",
    "\n",
    "1. xxx\n",
    "\n",
    "2. xxx\n",
    "\n",
    "3. xxx\n",
    "\n",
    "4. xxx"
   ]
  },
  {
   "attachments": {},
   "cell_type": "markdown",
   "metadata": {},
   "source": [
    "#### **xxxx**\n",
    "\n",
    "1. xxx\n",
    "\n",
    "2. xxx\n",
    "\n",
    "3. xxx\n",
    "\n",
    "4. xxx"
   ]
  },
  {
   "attachments": {},
   "cell_type": "markdown",
   "metadata": {},
   "source": [
    "## **Time Zones and Daylight Saving (Module 03-051)**"
   ]
  },
  {
   "attachments": {},
   "cell_type": "markdown",
   "metadata": {},
   "source": [
    "#### **xxxx**\n",
    "\n",
    "1. xxx\n",
    "\n",
    "2. xxx\n",
    "\n",
    "3. xxx\n",
    "\n",
    "4. xxx"
   ]
  },
  {
   "attachments": {},
   "cell_type": "markdown",
   "metadata": {},
   "source": [
    "#### **xxxx**\n",
    "\n",
    "1. xxx\n",
    "\n",
    "2. xxx\n",
    "\n",
    "3. xxx\n",
    "\n",
    "4. xxx"
   ]
  },
  {
   "attachments": {},
   "cell_type": "markdown",
   "metadata": {},
   "source": [
    "## **Easy and Powerful: Dates and Times in Pandas (Module 04-051)**"
   ]
  },
  {
   "attachments": {},
   "cell_type": "markdown",
   "metadata": {},
   "source": [
    "#### **xxxx**\n",
    "\n",
    "1. xxx\n",
    "\n",
    "2. xxx\n",
    "\n",
    "3. xxx\n",
    "\n",
    "4. xxx"
   ]
  },
  {
   "attachments": {},
   "cell_type": "markdown",
   "metadata": {},
   "source": [
    "#### **xxxx**\n",
    "\n",
    "1. xxx\n",
    "\n",
    "2. xxx\n",
    "\n",
    "3. xxx\n",
    "\n",
    "4. xxx"
   ]
  },
  {
   "attachments": {},
   "cell_type": "markdown",
   "metadata": {},
   "source": [
    "#### **xxxx**\n",
    "\n",
    "1. xxx\n",
    "\n",
    "2. xxx\n",
    "\n",
    "3. xxx\n",
    "\n",
    "4. xxx"
   ]
  },
  {
   "attachments": {},
   "cell_type": "markdown",
   "metadata": {},
   "source": [
    "#### **xxxx**\n",
    "\n",
    "1. xxx\n",
    "\n",
    "2. xxx\n",
    "\n",
    "3. xxx\n",
    "\n",
    "4. xxx"
   ]
  },
  {
   "cell_type": "code",
   "execution_count": 1,
   "metadata": {},
   "outputs": [
    {
     "name": "stdout",
     "output_type": "stream",
     "text": [
      "Perrenque!\n"
     ]
    }
   ],
   "source": [
    "print('Perrenque!')"
   ]
  }
 ],
 "metadata": {
  "kernelspec": {
   "display_name": "Python 3",
   "language": "python",
   "name": "python3"
  },
  "language_info": {
   "codemirror_mode": {
    "name": "ipython",
    "version": 3
   },
   "file_extension": ".py",
   "mimetype": "text/x-python",
   "name": "python",
   "nbconvert_exporter": "python",
   "pygments_lexer": "ipython3",
   "version": "3.10.0"
  },
  "orig_nbformat": 4,
  "vscode": {
   "interpreter": {
    "hash": "26de051ba29f2982a8de78e945f0abaf191376122a1563185a90213a26c5da77"
   }
  }
 },
 "nbformat": 4,
 "nbformat_minor": 2
}
