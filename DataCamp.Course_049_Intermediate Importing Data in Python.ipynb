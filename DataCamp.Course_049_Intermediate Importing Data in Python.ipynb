{
 "cells": [
  {
   "attachments": {},
   "cell_type": "markdown",
   "metadata": {},
   "source": [
    "# **DataCamp.Course_049_Intermediate Importing Data in Python**\n",
    "\n",
    "### **Course Description**\n",
    "\n",
    "As a data scientist, you will need to clean data, wrangle and munge it, visualize it, build predictive models and interpret these models. Before you can do so, however, you will need to know how to get data into Python. In the prequel to this course, you learned many ways to import data into Python: from flat files such as .txt and .csv; from files native to other software such as Excel spreadsheets, Stata, SAS, and MATLAB files; and from relational databases such as SQLite and PostgreSQL. In this course, you'll extend this knowledge base by learning to import data from the web and by pulling data from Application Programming Interfaces— APIs—such as the Twitter streaming API, which allows us to stream real-time tweets. "
   ]
  },
  {
   "attachments": {},
   "cell_type": "markdown",
   "metadata": {},
   "source": [
    "## **Importing data from the Internet (Module 01-049)**"
   ]
  },
  {
   "attachments": {},
   "cell_type": "markdown",
   "metadata": {},
   "source": [
    "#### **Importing flat files from the web**\n",
    "\n",
    "1. You’re already great at importing!\n",
    "Flat files such as .txt and .csv\n",
    "Pickled files, Excel spreadsheets, and many others!\n",
    "Data from relational databases\n",
    "You can do all these locally\n",
    "What if your data is online?\n",
    "\n",
    "2. Can you import web data?\n",
    "You can: go to URL and click to download files\n",
    "BUT: not reproducible, not scalable\n",
    "\n",
    "3. You’ll learn how to…\n",
    "Import and locally save datasets from the web\n",
    "Load datasets into pandas DataFrames\n",
    "Make HTTP requests (GET requests)\n",
    "Scrape web data such as HTML\n",
    "Parse HTML into useful data (BeautifulSoup)\n",
    "Use the urllib and requests packages\n",
    "\n",
    "4. The urllib package\n",
    "Provides interface for fetching data across the web\n",
    "urlopen() - accepts URLs instead of file names\n",
    "\n",
    "5. How to automate file download in Python\n",
    "\n",
    "from urllib.request import urlretrieve\n",
    "url = 'http://archive.ics.uci.edu/ml/machine-learning-databases/wine-quality/winequality-white.csv'\n",
    "urlretrieve(url, 'winequality-white.csv')\n",
    "\n",
    "`('winequality-white.csv', <http.client.HTTPMessage at 0x103cf1128>)`"
   ]
  },
  {
   "attachments": {},
   "cell_type": "markdown",
   "metadata": {},
   "source": [
    "**Importing flat files from the web: your turn!**\n",
    "\n",
    "You are about to import your first file from the web! The flat file you will import will be '`winequality-red.csv`' from the University of California, Irvine's *Machine Learning repositor*y. The flat file contains tabular data of physiochemical properties of red wine, such as pH, alcohol content and citric acid content, along with wine quality rating.\n",
    "\n",
    "The URL of the file is\n",
    "\n",
    "`'https://assets.datacamp.com/production/course_1606/datasets/winequality-red.csv'`\n",
    "\n",
    "After you import it, you'll check your working directory to confirm that it is there and then you'll load it into a `pandas` DataFrame.\n",
    "\n",
    "STEPS\n",
    "    Import the function urlretrieve from the subpackage urllib.request.\n",
    "    Assign the URL of the file to the variable url.\n",
    "    Use the function urlretrieve() to save the file locally as 'winequality-red.csv'.\n",
    "    Execute the remaining code to load 'winequality-red.csv' in a pandas DataFrame and to print its head to the shell."
   ]
  },
  {
   "cell_type": "code",
   "execution_count": 1,
   "metadata": {},
   "outputs": [
    {
     "name": "stdout",
     "output_type": "stream",
     "text": [
      "   fixed acidity  volatile acidity  citric acid  residual sugar  chlorides  \\\n",
      "0            7.4              0.70         0.00             1.9      0.076   \n",
      "1            7.8              0.88         0.00             2.6      0.098   \n",
      "2            7.8              0.76         0.04             2.3      0.092   \n",
      "3           11.2              0.28         0.56             1.9      0.075   \n",
      "4            7.4              0.70         0.00             1.9      0.076   \n",
      "\n",
      "   free sulfur dioxide  total sulfur dioxide  density    pH  sulphates  \\\n",
      "0                 11.0                  34.0   0.9978  3.51       0.56   \n",
      "1                 25.0                  67.0   0.9968  3.20       0.68   \n",
      "2                 15.0                  54.0   0.9970  3.26       0.65   \n",
      "3                 17.0                  60.0   0.9980  3.16       0.58   \n",
      "4                 11.0                  34.0   0.9978  3.51       0.56   \n",
      "\n",
      "   alcohol  quality  \n",
      "0      9.4        5  \n",
      "1      9.8        5  \n",
      "2      9.8        5  \n",
      "3      9.8        6  \n",
      "4      9.4        5  \n"
     ]
    }
   ],
   "source": [
    "# Import package\n",
    "from urllib.request import urlretrieve\n",
    "\n",
    "# Import pandas\n",
    "import pandas as pd\n",
    "\n",
    "# Assign url of file: url\n",
    "url = 'https://assets.datacamp.com/production/course_1606/datasets/winequality-red.csv'\n",
    "\n",
    "# Save file locally\n",
    "urlretrieve(url, 'winequality-red.csv')\n",
    "\n",
    "# Read file into a DataFrame and print its head\n",
    "df = pd.read_csv('winequality-red.csv', sep=';')\n",
    "print(df.head())"
   ]
  },
  {
   "attachments": {},
   "cell_type": "markdown",
   "metadata": {},
   "source": [
    "**Opening and reading flat files from the web**\n",
    "\n",
    "You have just imported a file from the web, saved it locally and loaded it into a DataFrame. If you just wanted to load a file from the web into a DataFrame without first saving it locally, you can do that easily using pandas. In particular, you can use the function pd.read_csv() with the URL as the first argument and the separator sep as the second argument.\n",
    "\n",
    "The URL of the file, once again, is\n",
    "\n",
    "'https://assets.datacamp.com/production/course_1606/datasets/winequality-red.csv'\n",
    "\n",
    "STEPS\n",
    "    Assign the URL of the file to the variable url.\n",
    "    Read file into a DataFrame df using pd.read_csv(), recalling that the separator in the file is ';'.\n",
    "    Print the head of the DataFrame df.\n",
    "    Execute the rest of the code to plot histogram of the first feature in the DataFrame df."
   ]
  },
  {
   "cell_type": "code",
   "execution_count": 3,
   "metadata": {},
   "outputs": [
    {
     "name": "stdout",
     "output_type": "stream",
     "text": [
      "   fixed acidity  volatile acidity  citric acid  residual sugar  chlorides  \\\n",
      "0            7.4              0.70         0.00             1.9      0.076   \n",
      "1            7.8              0.88         0.00             2.6      0.098   \n",
      "2            7.8              0.76         0.04             2.3      0.092   \n",
      "3           11.2              0.28         0.56             1.9      0.075   \n",
      "4            7.4              0.70         0.00             1.9      0.076   \n",
      "\n",
      "   free sulfur dioxide  total sulfur dioxide  density    pH  sulphates  \\\n",
      "0                 11.0                  34.0   0.9978  3.51       0.56   \n",
      "1                 25.0                  67.0   0.9968  3.20       0.68   \n",
      "2                 15.0                  54.0   0.9970  3.26       0.65   \n",
      "3                 17.0                  60.0   0.9980  3.16       0.58   \n",
      "4                 11.0                  34.0   0.9978  3.51       0.56   \n",
      "\n",
      "   alcohol  quality  \n",
      "0      9.4        5  \n",
      "1      9.8        5  \n",
      "2      9.8        5  \n",
      "3      9.8        6  \n",
      "4      9.4        5  \n"
     ]
    },
    {
     "data": {
      "image/png": "[encoded data removed]",
      "text/plain": [
       "<Figure size 640x480 with 1 Axes>"
      ]
     },
     "metadata": {},
     "output_type": "display_data"
    }
   ],
   "source": [
    "# Import packages\n",
    "import matplotlib.pyplot as plt\n",
    "import pandas as pd\n",
    "\n",
    "# Assign url of file: url\n",
    "url = 'https://assets.datacamp.com/production/course_1606/datasets/winequality-red.csv'\n",
    "\n",
    "# Read file into a DataFrame: df\n",
    "df = pd.read_csv(url, sep=';')\n",
    "\n",
    "# Print the head of the DataFrame\n",
    "print(df.head())\n",
    "\n",
    "# Plot first column of df\n",
    "df.iloc[:, 0].hist()\n",
    "plt.xlabel('fixed acidity (g(tartaric acid)/dm$^3$)')\n",
    "plt.ylabel('count')\n",
    "plt.show()"
   ]
  },
  {
   "attachments": {},
   "cell_type": "markdown",
   "metadata": {},
   "source": [
    "**Importing non-flat files from the web**\n",
    "\n",
    "Congrats! You've just loaded a flat file from the web into a DataFrame without first saving it locally using the `pandas` function `pd.read_csv()`. This function is super cool because it has close relatives that allow you to load all types of files, not only flat ones. In this interactive exercise, you'll use `pd.read_excel()` to import an Excel spreadsheet.\n",
    "\n",
    "The URL of the spreadsheet is\n",
    "\n",
    "'`https://assets.datacamp.com/course/importing_data_into_r/latitude.xls`'\n",
    "\n",
    "Your job is to use `pd.read_excel()` to read in all of its sheets, print the sheet names and then print the head of the first sheet using its name, not its index.\n",
    "\n",
    "Note that the output of `pd.read_excel()` is a Python dictionary with sheet names as keys and corresponding DataFrames as corresponding values.\n",
    "\n",
    "STEPS\n",
    "    Assign the URL of the file to the variable url.\n",
    "    Read the file in url into a dictionary xls using pd.read_excel() recalling that, in order to import all sheets you need to pass None to the argument sheet_name.\n",
    "    Print the names of the sheets in the Excel spreadsheet; these will be the keys of the dictionary xls.\n",
    "    Print the head of the first sheet using the sheet name, not the index of the sheet! The sheet name is '1700'"
   ]
  },
  {
   "cell_type": "code",
   "execution_count": 5,
   "metadata": {},
   "outputs": [
    {
     "name": "stdout",
     "output_type": "stream",
     "text": [
      "dict_keys(['1700', '1900'])\n",
      "                 country       1700\n",
      "0            Afghanistan  34.565000\n",
      "1  Akrotiri and Dhekelia  34.616667\n",
      "2                Albania  41.312000\n",
      "3                Algeria  36.720000\n",
      "4         American Samoa -14.307000\n"
     ]
    }
   ],
   "source": [
    "# pip install xlrd\n",
    "\n",
    "# Import package\n",
    "import pandas as pd\n",
    "\n",
    "# Assign url of file: url\n",
    "url = 'https://assets.datacamp.com/course/importing_data_into_r/latitude.xls'\n",
    "\n",
    "# Read in all sheets of Excel file: xls\n",
    "df = pd.read_excel(url, sheet_name = None)\n",
    "\n",
    "# Print the sheetnames to the shell\n",
    "print(df.keys())\n",
    "\n",
    "# Print the head of the first sheet (using its name, NOT its index)\n",
    "print(df['1700'].head())\n"
   ]
  },
  {
   "attachments": {},
   "cell_type": "markdown",
   "metadata": {},
   "source": [
    "#### **HTTP requests to import files from the web**\n",
    "\n",
    "1. URL\n",
    "Uniform/Universal Resource Locator\n",
    "References to web resources\n",
    "Focus: web addresses\n",
    "Ingredients:\n",
    "    Protocol identifier - http:\n",
    "    Resource name - datacamp.com\n",
    "These specify web addresses uniquely\n",
    "\n",
    "2. HTTP\n",
    "HyperText Transfer Protocol\n",
    "Foundation of data communication for the web\n",
    "HTTPS - more secure form of HTTP\n",
    "Going to a website = sending HTTP request\n",
    "    GET request\n",
    "urlretrieve() performs a GET request\n",
    "HTML - HyperText Markup Language\n",
    "\n",
    "3. GET requests using urllib\n",
    "from urllib.request import urlopen, Request\n",
    "url = \"https://www.wikipedia.org/\"\n",
    "request = Request(url)\n",
    "response = urlopen(request)\n",
    "html = response.read()\n",
    "response.close()\n",
    "\n",
    "4. GET requests using requests\n",
    "One of the most downloaded Python packages\n",
    "import requests\n",
    "url = \"https://www.wikipedia.org/\"\n",
    "r = requests.get(url)\n",
    "text = r.text"
   ]
  },
  {
   "attachments": {},
   "cell_type": "markdown",
   "metadata": {},
   "source": [
    "## **Interacting with APIs to import data from the web (Module 02-049)**"
   ]
  },
  {
   "attachments": {},
   "cell_type": "markdown",
   "metadata": {},
   "source": [
    "#### **xxxx**\n",
    "\n",
    "1. xxx\n",
    "\n",
    "2. xxx\n",
    "\n",
    "3. xxx\n",
    "\n",
    "4. xxx"
   ]
  },
  {
   "attachments": {},
   "cell_type": "markdown",
   "metadata": {},
   "source": [
    "#### **xxxx**\n",
    "\n",
    "1. xxx\n",
    "\n",
    "2. xxx\n",
    "\n",
    "3. xxx\n",
    "\n",
    "4. xxx"
   ]
  },
  {
   "attachments": {},
   "cell_type": "markdown",
   "metadata": {},
   "source": [
    "## **Diving deep into the Twitter API (Module 03-049)**"
   ]
  },
  {
   "attachments": {},
   "cell_type": "markdown",
   "metadata": {},
   "source": [
    "#### **xxxx**\n",
    "\n",
    "1. xxx\n",
    "\n",
    "2. xxx\n",
    "\n",
    "3. xxx\n",
    "\n",
    "4. xxx"
   ]
  },
  {
   "attachments": {},
   "cell_type": "markdown",
   "metadata": {},
   "source": [
    "#### **xxxx**\n",
    "\n",
    "1. xxx\n",
    "\n",
    "2. xxx\n",
    "\n",
    "3. xxx\n",
    "\n",
    "4. xxx"
   ]
  },
  {
   "cell_type": "code",
   "execution_count": 1,
   "metadata": {},
   "outputs": [
    {
     "name": "stdout",
     "output_type": "stream",
     "text": [
      "Perrenque!\n"
     ]
    }
   ],
   "source": [
    "print('Perrenque!')"
   ]
  },
  {
   "attachments": {},
   "cell_type": "markdown",
   "metadata": {},
   "source": [
    "#### **xxxx**\n",
    "\n",
    "1. xxx\n",
    "\n",
    "2. xxx\n",
    "\n",
    "3. xxx\n",
    "\n",
    "4. xxx"
   ]
  }
 ],
 "metadata": {
  "kernelspec": {
   "display_name": "Python 3",
   "language": "python",
   "name": "python3"
  },
  "language_info": {
   "codemirror_mode": {
    "name": "ipython",
    "version": 3
   },
   "file_extension": ".py",
   "mimetype": "text/x-python",
   "name": "python",
   "nbconvert_exporter": "python",
   "pygments_lexer": "ipython3",
   "version": "3.10.0"
  },
  "orig_nbformat": 4,
  "vscode": {
   "interpreter": {
    "hash": "26de051ba29f2982a8de78e945f0abaf191376122a1563185a90213a26c5da77"
   }
  }
 },
 "nbformat": 4,
 "nbformat_minor": 2
}
