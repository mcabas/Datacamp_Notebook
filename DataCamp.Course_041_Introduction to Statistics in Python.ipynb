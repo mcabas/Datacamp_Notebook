{
 "cells": [
  {
   "cell_type": "markdown",
   "metadata": {},
   "source": [
    "# **DataCamp.Course_041_Introduction to Statistics in Python**\n",
    "\n",
    "### **Course Description**\n",
    "\n",
    "Course Description\n",
    "\n",
    "Statistics is the study of how to collect, analyze, and draw conclusions from data. It’s a hugely valuable tool that you can use to bring the future into focus and infer the answer to tons of questions. For example, what is the likelihood of someone purchasing your product, how many calls will your support team receive, and how many jeans sizes should you manufacture to fit 95% of the population? In this course, you'll discover how to answer questions like these as you grow your statistical skills and learn how to calculate averages, use scatterplots to show the relationship between numeric values, and calculate correlation. You'll also tackle probability, the backbone of statistical reasoning, and learn how to use Python to conduct a well-designed study to draw your own conclusions from data."
   ]
  },
  {
   "cell_type": "markdown",
   "metadata": {},
   "source": [
    "## **Summary Statistics (Module 01-041)**"
   ]
  },
  {
   "cell_type": "markdown",
   "metadata": {},
   "source": [
    "#### **What is statistics?**\n",
    "\n",
    "*The field of statistics* - the practice and study of collecting and analyzing data\n",
    "*A summary statistic* - a fact about or summary of some data\n",
    "\n",
    "*What can statistics do?*\n",
    "\n",
    "- How likely is someone to purchase a product? Are people more likely to purchase it if they can use a di(erent payment system?\n",
    "- How many occupants will your hotel have? How can you optimize occupancy?\n",
    "- How many sizes of jeans need to be manufactured so they can ,t 95% of the population?\n",
    "- Should the same number of each size be produced?\n",
    "- A/B tests: Which ad is more e(ective in getting people to purchase a product?\n",
    "\n",
    "*Types of statistics*\n",
    "\n",
    "1. Descriptive statistics: Describe and summarize data\n",
    "2. Inferential statistics: Use a sample of data to make inferences about a larger population\n",
    "\n",
    "*Types of data*\n",
    "\n",
    "1. Numeric (Quantitative)\n",
    "1.1. Continuous (Measured)\n",
    "1.2. Discrete (Counted)\n",
    "2. Categorical (Qualitative)\n",
    "2.1. Nominal (Unordered)\n",
    "2.2. Ordinal (Ordered)\n",
    "\n",
    "#### **Measures of center**\n",
    "\n",
    "1. Mean \n",
    "`import numpy as np`\n",
    "`np.mean(msleep['sleep_total'])`\n",
    "\n",
    "2. Median\n",
    "`np.median(msleep['sleep_total'])`\n",
    "\n",
    "3. Mode\n",
    "`import statistics`\n",
    "`statistics.mode(msleep['vore'])`\n",
    "\n",
    "Adding an outlier\n",
    "\n",
    "`msleep[msleep['vore'] == 'insecti']`\n",
    "`msleep[msleep['vore'] == \"insecti\"]['sleep_total'].agg([np.mean, np.median])`"
   ]
  },
  {
   "cell_type": "markdown",
   "metadata": {},
   "source": [
    "**Mean and median**\n",
    "\n",
    "In this chapter, you'll be working with the [2018 Food Carbon Footprint Index from nu3](https://www.nu3.de/blogs/nutrition/food-carbon-footprint-index-2018). The `food_consumption` dataset contains information about the kilograms of food consumed per person per year in each country in each food category (`consumption`) as well as information about the carbon footprint of that food category (`co2_emissions`) measured in kilograms of carbon dioxide, or CO2, per person per year in each country.\n",
    "\n",
    "In this exercise, you'll compute measures of center to compare food consumption in the US and Belgium using your `pandas` and `numpy` skills.\n",
    "\n",
    "`pandas` is imported as `pd` for you and `food_consumption` is pre-loaded.\n",
    "\n",
    "STEP 01\n",
    "    Import numpy with the alias np.\n",
    "    Create two DataFrames: one that holds the rows of food_consumption for 'Belgium' and another that holds rows for 'USA'. Call these be_consumption and usa_consumption.\n",
    "    Calculate the mean and median of kilograms of food consumed per person per year for both countries."
   ]
  },
  {
   "cell_type": "code",
   "execution_count": 2,
   "metadata": {},
   "outputs": [
    {
     "name": "stdout",
     "output_type": "stream",
     "text": [
      "42.13272727272727\n",
      "12.59\n",
      "44.650000000000006\n",
      "14.58\n"
     ]
    }
   ],
   "source": [
    "# Import pandas with alias pd\n",
    "import pandas as pd\n",
    "\n",
    "#Load Data\n",
    "food_consumption = pd.read_csv('datasets/food_consumption.csv')\n",
    "\n",
    "# Import numpy with alias np\n",
    "import numpy as np\n",
    "\n",
    "# Filter for Belgium\n",
    "be_consumption = food_consumption[food_consumption['country'] == 'Belgium']\n",
    "\n",
    "# Filter for USA\n",
    "usa_consumption = food_consumption[food_consumption['country'] == 'USA']\n",
    "\n",
    "# Calculate mean and median consumption in Belgium\n",
    "print(np.mean(be_consumption['consumption']))\n",
    "print(np.median(be_consumption['consumption']))\n",
    "\n",
    "# Calculate mean and median consumption in USA\n",
    "print(np.mean(usa_consumption['consumption']))\n",
    "print(np.median(usa_consumption['consumption']))"
   ]
  },
  {
   "cell_type": "markdown",
   "metadata": {},
   "source": [
    "STEP 02\n",
    "    Subset food_consumption for rows with data about Belgium and the USA.\n",
    "    Group the subsetted data by country and select only the consumption column.\n",
    "    Calculate the mean and median of the kilograms of food consumed per person per year in each country using .agg()."
   ]
  },
  {
   "cell_type": "code",
   "execution_count": 3,
   "metadata": {},
   "outputs": [
    {
     "name": "stdout",
     "output_type": "stream",
     "text": [
      "              mean  median\n",
      "country                   \n",
      "Belgium  42.132727   12.59\n",
      "USA      44.650000   14.58\n"
     ]
    }
   ],
   "source": [
    "# Import numpy as np\n",
    "import numpy as np\n",
    "\n",
    "# Subset for Belgium and USA only\n",
    "be_and_usa_list = ['Belgium','USA']\n",
    "be_and_usa = food_consumption[food_consumption['country'].isin(be_and_usa_list)]\n",
    "#df[df['Country Name'].isin(country_list)]\n",
    "\n",
    "# Group by country, select consumption column, and compute mean and median\n",
    "print(be_and_usa.groupby('country')['consumption'].agg([np.mean, np.median]))"
   ]
  },
  {
   "cell_type": "markdown",
   "metadata": {},
   "source": [
    "**Mean vs. median**\n",
    "\n",
    "In the video, you learned that the mean is the sum of all the data points divided by the total number of data points, and the median is the middle value of the dataset where 50% of the data is less than the median, and 50% of the data is greater than the median. In this exercise, you'll compare these two measures of center.\n",
    "\n",
    "`pandas` is loaded as `pd`, `numpy` is loaded as `np`, and `food_consumption` is available.\n",
    "\n",
    "STEP 01\n",
    "    Import matplotlib.pyplot with the alias plt.\n",
    "    Subset food_consumption to get the rows where food_category is 'rice'.\n",
    "    Create a histogram of co2_emission for rice and show the plot."
   ]
  },
  {
   "cell_type": "code",
   "execution_count": 4,
   "metadata": {},
   "outputs": [
    {
     "data": {
      "image/png": "[encoded data removed]",
      "text/plain": [
       "<Figure size 640x480 with 1 Axes>"
      ]
     },
     "metadata": {},
     "output_type": "display_data"
    }
   ],
   "source": [
    "# Import matplotlib.pyplot with alias plt\n",
    "import matplotlib.pyplot as plt\n",
    "\n",
    "# Subset for food_category equals rice\n",
    "rice_consumption = food_consumption[food_consumption['food_category'] == 'rice']\n",
    "\n",
    "# Histogram of co2_emission for rice and show plot\n",
    "plt.hist(rice_consumption['co2_emission'])\n",
    "plt.show()"
   ]
  },
  {
   "cell_type": "markdown",
   "metadata": {},
   "source": [
    "STEP02\n",
    "Question\n",
    "\n",
    "Take a look at the histogram you just created of different countries' CO2 emissions for rice. Which of the following terms best describes the shape of the data?\n",
    "\n",
    "*Possible Answer: Right-skewed*\n",
    "\n",
    "STEP03\n",
    "Use .agg() to calculate the mean and median of co2_emission for rice."
   ]
  },
  {
   "cell_type": "code",
   "execution_count": 5,
   "metadata": {},
   "outputs": [
    {
     "name": "stdout",
     "output_type": "stream",
     "text": [
      "mean      37.591615\n",
      "median    15.200000\n",
      "Name: co2_emission, dtype: float64\n"
     ]
    }
   ],
   "source": [
    "# Subset for food_category equals rice\n",
    "rice_consumption = food_consumption[food_consumption['food_category'] == 'rice']\n",
    "\n",
    "# Calculate mean and median of co2_emission with .agg()\n",
    "print(rice_consumption['co2_emission'].agg([np.mean, np.median]))"
   ]
  },
  {
   "cell_type": "markdown",
   "metadata": {},
   "source": [
    "Question\n",
    "\n",
    "Given the skew of this data, what measure of central tendency best summarizes the kilograms of CO2 emissions per person per year for rice?\n",
    "\n",
    "*Possible Answer: median*"
   ]
  },
  {
   "cell_type": "markdown",
   "metadata": {},
   "source": [
    "#### **Measures of spread**\n",
    "\n",
    "1. Variance: Average distance from each data point to the data's mean. Use np.var()\n",
    "\n",
    "`np.var(msleep['sleep_total'], ddof=1)`\n",
    "\n",
    "Without ddof=1 , population variance is\n",
    "calculated instead of sample variance:\n",
    "\n",
    "`np.var(msleep['sleep_total'])`\n",
    "\n",
    "2. Standard deviation\n",
    "\n",
    "`np.std(msleep['sleep_total'], ddof=1)`\n",
    "\n",
    "3. Mean absolute deviation\n",
    "\n",
    "`dists = msleep['sleep_total'] - mean(msleep$sleep_total)`\n",
    "`np.mean(np.abs(dists))`\n",
    "\n",
    "Standard deviation vs. mean absolute deviation\n",
    "Standard deviation squares distances, penalizing longer distances more than shorter ones.\n",
    "Mean absolute deviation penalizes each distance equally.\n",
    "One isn't better than the other, but SD is more common than MAD.\n",
    "\n",
    "4. Quantiles\n",
    "\n",
    "0.5 quantile = median\n",
    "`np.quantile(msleep['sleep_total'], 0.5)`\n",
    "\n",
    "Quartiles: \n",
    "`np.quantile(msleep['sleep_total'], [0, 0.25, 0.5, 0.75, 1])`\n",
    "\n",
    "5. Boxplots use quartiles\n",
    "\n",
    "`import matplotlib.pyplot as plt`\n",
    "`plt.boxplot(msleep['sleep_total'])`\n",
    "`plt.show()`\n",
    "\n",
    "6. Quantiles using np.linspace()\n",
    "\n",
    "`np.quantile(msleep['sleep_total'], [0, 0.2, 0.4, 0.6, 0.8, 1])`\n",
    "array([ 1.9 , 6.24, 9.48, 11.14, 14.4 , 19.9 ])\n",
    "\n",
    "`np.linspace(start, stop, num)`\n",
    "\n",
    "`np.quantile(msleep['sleep_total'], np.linspace(0, 1, 5))`\n",
    "array([ 1.9 , 7.85, 10.1 , 13.75, 19.9 ])\n",
    "\n",
    "7. Interquartile range (IQR): Height of the box in a boxplot\n",
    "\n",
    "`np.quantile(msleep['sleep_total'], 0.75) - np.quantile(msleep['sleep_total'], 0.25)`\n",
    "\n",
    "`from scipy.stats import iqr`\n",
    "`iqr(msleep['sleep_total'])`\n",
    "\n",
    "8. Outliers: data point that is substantially different from the others\n",
    "\n",
    "How do we know what a substantial di(erence is? A data point is an outlier if:\n",
    "\n",
    "data < Q1 − 1.5 × IQR or\n",
    "data > Q3 + 1.5 × IQR\n",
    "\n",
    "Finding outliers:\n",
    "\n",
    "`from scipy.stats import iqr`\n",
    "`iqr = iqr(msleep['bodywt'])`\n",
    "`lower_threshold = np.quantile(msleep['bodywt'], 0.25) - 1.5 * iqr`\n",
    "`upper_threshold = np.quantile(msleep['bodywt'], 0.75) + 1.5 * iqr`\n",
    "`msleep[(msleep['bodywt'] < lower_threshold) | (msleep['bodywt'] > upper_threshold)]`\n",
    "\n",
    "9. **All in one go**\n",
    "\n",
    "`msleep['bodywt'].describe()`\n"
   ]
  },
  {
   "cell_type": "markdown",
   "metadata": {},
   "source": [
    "**Quartiles, quantiles, and quintiles**\n",
    "\n",
    "Quantiles are a great way of summarizing numerical data since they can be used to measure center and spread, as well as to get a sense of where a data point stands in relation to the rest of the data set. For example, you might want to give a discount to the 10% most active users on a website.\n",
    "\n",
    "In this exercise, you'll calculate quartiles, quintiles, and deciles, which split up a dataset into 4, 5, and 10 pieces, respectively.\n",
    "\n",
    "Both `pandas` as `pd` and `numpy` as `np` are loaded and `food_consumption` is available.\n",
    "\n",
    "STEP01\n",
    "\n",
    "Calculate the quartiles of the co2_emission column of food_consumption"
   ]
  },
  {
   "cell_type": "code",
   "execution_count": 6,
   "metadata": {},
   "outputs": [
    {
     "name": "stdout",
     "output_type": "stream",
     "text": [
      "[   0.        5.21     16.53     62.5975 1712.    ]\n"
     ]
    }
   ],
   "source": [
    "# Calculate the quartiles of co2_emission\n",
    "print(np.quantile(food_consumption['co2_emission'], [0, 0.25, 0.5, 0.75, 1]))"
   ]
  },
  {
   "cell_type": "markdown",
   "metadata": {},
   "source": [
    "STEP 02\n",
    "\n",
    "Calculate the six quantiles that split up the data into 5 pieces (quintiles) of the co2_emission column of food_consumption."
   ]
  },
  {
   "cell_type": "code",
   "execution_count": 7,
   "metadata": {},
   "outputs": [
    {
     "name": "stdout",
     "output_type": "stream",
     "text": [
      "[   0.       3.54    11.026   25.59    99.978 1712.   ]\n"
     ]
    }
   ],
   "source": [
    "# Calculate the quintiles of co2_emission\n",
    "print(np.quantile(food_consumption['co2_emission'], [0, 0.2, 0.4, 0.6, 0.8, 1]))"
   ]
  },
  {
   "cell_type": "markdown",
   "metadata": {},
   "source": [
    "STEP 03\n",
    "\n",
    "Calculate the eleven quantiles of co2_emission that split up the data into ten pieces (deciles)."
   ]
  },
  {
   "cell_type": "code",
   "execution_count": 8,
   "metadata": {},
   "outputs": [
    {
     "name": "stdout",
     "output_type": "stream",
     "text": [
      "[0.00000e+00 6.68000e-01 3.54000e+00 7.04000e+00 1.10260e+01 1.65300e+01\n",
      " 2.55900e+01 4.42710e+01 9.99780e+01 2.03629e+02 1.71200e+03]\n"
     ]
    }
   ],
   "source": [
    "print(np.quantile(food_consumption['co2_emission'], np.linspace(0, 1, 11)))"
   ]
  },
  {
   "cell_type": "markdown",
   "metadata": {},
   "source": [
    "**Variance and standard deviation**\n",
    "\n",
    "Variance and standard deviation are two of the most common ways to measure the spread of a variable, and you'll practice calculating these in this exercise. Spread is important since it can help inform expectations. For example, if a salesperson sells a mean of 20 products a day, but has a standard deviation of 10 products, there will probably be days where they sell 40 products, but also days where they only sell one or two. Information like this is important, especially when making predictions.\n",
    "\n",
    "Both `pandas` as `pd` and `numpy` as `np` are loaded, and `food_consumption` is available."
   ]
  },
  {
   "cell_type": "code",
   "execution_count": 9,
   "metadata": {},
   "outputs": [
    {
     "name": "stdout",
     "output_type": "stream",
     "text": [
      "                        var         std\n",
      "food_category                          \n",
      "beef           88748.408132  297.906710\n",
      "dairy          17671.891985  132.935669\n",
      "eggs              21.371819    4.622966\n",
      "fish             921.637349   30.358481\n",
      "lamb_goat      16475.518363  128.356996\n",
      "nuts              35.639652    5.969895\n",
      "pork            3094.963537   55.632396\n",
      "poultry          245.026801   15.653332\n",
      "rice            2281.376243   47.763754\n",
      "soybeans           0.879882    0.938020\n",
      "wheat             71.023937    8.427570\n"
     ]
    },
    {
     "data": {
      "image/png": "[encoded data removed]",
      "text/plain": [
       "<Figure size 640x480 with 1 Axes>"
      ]
     },
     "metadata": {},
     "output_type": "display_data"
    },
    {
     "data": {
      "image/png": "[encoded data removed]",
      "text/plain": [
       "<Figure size 640x480 with 1 Axes>"
      ]
     },
     "metadata": {},
     "output_type": "display_data"
    }
   ],
   "source": [
    "# Print variance and sd of co2_emission for each food_category\n",
    "print(food_consumption.groupby('food_category')['co2_emission'].agg([np.var, np.std]))\n",
    "\n",
    "# Import matplotlib.pyplot with alias plt\n",
    "import matplotlib.pyplot as plt\n",
    "\n",
    "# Create histogram of co2_emission for food_category 'beef'\n",
    "plt.hist(food_consumption[food_consumption['food_category'] == 'beef']['co2_emission'])\n",
    "# Show plot\n",
    "plt.show()\n",
    "\n",
    "# Create histogram of co2_emission for food_category 'eggs'\n",
    "plt.hist(food_consumption[food_consumption['food_category'] == 'eggs']['co2_emission'])\n",
    "# Show plot\n",
    "plt.show()"
   ]
  },
  {
   "cell_type": "markdown",
   "metadata": {},
   "source": [
    "**Finding outliers using IQR**\n",
    "\n",
    "Outliers can have big effects on statistics like mean, as well as statistics that rely on the mean, such as variance and standard deviation. Interquartile range, or IQR, is another way of measuring spread that's less influenced by outliers. IQR is also often used to find outliers. \n",
    "If a value is less than **Q1 -1.5 x IQR** or greater than **Q3 +1.5 x IQR**, it's considered an outlier. In fact, this is how the lengths of the whiskers in a matplotlib box plot are calculated.\n",
    "\n",
    "![Diagram of a box plot showing median, quartiles, and outliers](/'datasets/iqr.png')\n",
    "\n",
    "In this exercise, you'll calculate IQR and use it to find some outliers. `pandas` as `pd` and `numpy` as `np` are loaded and `food_consumption` is available.\n",
    "\n",
    "STEP 01\n",
    "Calculate the total co2_emission per country by grouping by country and taking the sum of co2_emission. Store the resulting DataFrame as emissions_by_country.\n",
    "\n",
    "STEP 02\n",
    "Compute the first and third quartiles of emissions_by_country and store these as q1 and q3.\n",
    "Calculate the interquartile range of emissions_by_country and store it as iqr.\n",
    "\n",
    "STEP 03\n",
    "Calculate the lower and upper cutoffs for outliers of emissions_by_country, and store these as lower and upper.\n",
    "\n",
    "STEP 04\n",
    "Subset emissions_by_country to get countries with a total emission greater than the upper cutoff or a total emission less than the lower cutoff."
   ]
  },
  {
   "cell_type": "code",
   "execution_count": 10,
   "metadata": {},
   "outputs": [
    {
     "name": "stdout",
     "output_type": "stream",
     "text": [
      "country\n",
      "Albania      1777.85\n",
      "Algeria       707.88\n",
      "Angola        412.99\n",
      "Argentina    2172.40\n",
      "Armenia      1109.93\n",
      "              ...   \n",
      "Uruguay      1634.91\n",
      "Venezuela    1104.10\n",
      "Vietnam       641.51\n",
      "Zambia        225.30\n",
      "Zimbabwe      350.33\n",
      "Name: co2_emission, Length: 130, dtype: float64\n"
     ]
    }
   ],
   "source": [
    "# Calculate total co2_emission per country: emissions_by_country\n",
    "emissions_by_country = food_consumption.groupby('country')['co2_emission'].sum()\n",
    "\n",
    "print(emissions_by_country)"
   ]
  },
  {
   "cell_type": "code",
   "execution_count": 11,
   "metadata": {},
   "outputs": [],
   "source": [
    "# Calculate total co2_emission per country: emissions_by_country\n",
    "emissions_by_country = food_consumption.groupby('country')['co2_emission'].sum()\n",
    "\n",
    "# Compute the first and third quartiles and IQR of emissions_by_country\n",
    "q1 = np.quantile(emissions_by_country, 0.25)\n",
    "q3 = np.quantile(emissions_by_country, 0.75)\n",
    "iqr = q3 - q1"
   ]
  },
  {
   "cell_type": "code",
   "execution_count": 12,
   "metadata": {},
   "outputs": [],
   "source": [
    "# Calculate total co2_emission per country: emissions_by_country\n",
    "emissions_by_country = food_consumption.groupby('country')['co2_emission'].sum()\n",
    "\n",
    "# Compute the first and third quantiles and IQR of emissions_by_country\n",
    "q1 = np.quantile(emissions_by_country, 0.25)\n",
    "q3 = np.quantile(emissions_by_country, 0.75)\n",
    "iqr = q3 - q1\n",
    "\n",
    "# Calculate the lower and upper cutoffs for outliers\n",
    "lower = q1 - 1.5 * iqr\n",
    "upper = q3 + 1.5 * iqr"
   ]
  },
  {
   "cell_type": "code",
   "execution_count": 13,
   "metadata": {},
   "outputs": [
    {
     "name": "stdout",
     "output_type": "stream",
     "text": [
      "country\n",
      "Argentina    2172.4\n",
      "Name: co2_emission, dtype: float64\n"
     ]
    }
   ],
   "source": [
    "# Calculate total co2_emission per country: emissions_by_country\n",
    "emissions_by_country = food_consumption.groupby('country')['co2_emission'].sum()\n",
    "\n",
    "# Compute the first and third quantiles and IQR of emissions_by_country\n",
    "q1 = np.quantile(emissions_by_country, 0.25)\n",
    "q3 = np.quantile(emissions_by_country, 0.75)\n",
    "iqr = q3 - q1\n",
    "\n",
    "# Calculate the lower and upper cutoffs for outliers\n",
    "lower = q1 - 1.5 * iqr\n",
    "upper = q3 + 1.5 * iqr\n",
    "\n",
    "# Subset emissions_by_country to find outliers\n",
    "outliers = emissions_by_country[(emissions_by_country < lower) | (emissions_by_country > upper)]\n",
    "print(outliers)"
   ]
  },
  {
   "cell_type": "markdown",
   "metadata": {},
   "source": [
    "## **Random Numbers and Probability (Module 02-041)**"
   ]
  },
  {
   "cell_type": "markdown",
   "metadata": {},
   "source": [
    "#### **What are the chances?**\n",
    "\n",
    "Measuring chance\n",
    "What's the probability of an event?\n",
    "\n",
    "P (event) = # ways event can happen / total # of possible outcomes\n",
    "\n",
    "Example: a coin flip\n",
    "P (heads) = 1 way to get heads / 2 possible outcomes = 1 / 2 = 0.5 = 50% chance of getting heads\n",
    "\n",
    "Example: a coin \n",
    "\n",
    "Example 2: sales people\n",
    "\n",
    "Sales = [Amir, Brian, Claire, Damian]\n",
    "\n",
    "P(Brian) = 1 / 4 = 25% change of selecting Brian\n",
    "\n",
    "1. Sampling from a DataFrame\n",
    "\n",
    "`print(sales_counts)`\n",
    "\n",
    "`sales_counts.sample()`\n",
    "\n",
    "2. Setting a random seed\n",
    "\n",
    "`np.random.seed(10)`\n",
    "\n",
    "`sales_counts.sample()`\n",
    "\n",
    "3. Sampling without replacement\n",
    "\n",
    "A second meeting happen when Brian was bussy\n",
    "\n",
    "Sales = [Amir, Claire, Damian]\n",
    "\n",
    "P(Claire) = 1 / 3 = 33% change of selecting Claire\n",
    "\n",
    "Sampling twice in Python\n",
    "\n",
    "`sales_counts.sample(2)`\n",
    "\n",
    "4. Sampling with replacement\n",
    "\n",
    "A second meeting happen when Brian was available\n",
    "\n",
    "Sales = [Amir, Brian, Claire, Damian]\n",
    "\n",
    "P(Claire) = 1 / 4 = 25% change of selecting Claire\n",
    "\n",
    "Sampling with/without replacement in Python\n",
    "\n",
    "`sales_counts.sample(5, replace = True)`\n",
    "\n",
    "5. Independent events\n",
    "\n",
    "Two events are independent if the probability of the second event isn't a(ected by the outcome of the first event.\n",
    "\n",
    "Sampling with replacement = each pick is independent\n",
    "\n",
    "6. Dependent events\n",
    "\n",
    "Two events are dependent if the probability of the second event is a(ected by the outcome of the first event.\n",
    "\n",
    "Sampling without replacement = each pick is dependent\n"
   ]
  },
  {
   "cell_type": "markdown",
   "metadata": {},
   "source": [
    "**Calculating probabilities**\n",
    "\n",
    "You're in charge of the sales team, and it's time for performance reviews, starting with Amir. As part of the review, you want to randomly select a few of the deals that he's worked on over the past year so that you can look at them more deeply. Before you start selecting deals, you'll first figure out what the chances are of selecting certain deals.\n",
    "\n",
    "Recall that the probability of an event can be calculated by\n",
    "\n",
    "P (event) = # ways event can happen / total # of possible outcomes\n",
    "\n",
    "Both `pandas` as `pd` and `numpy` as `np` are loaded and `amir_deals` is available.\n",
    "\n",
    "STEP 01\n",
    "Count the number of deals Amir worked on for each product type and store in counts.\n",
    "\n",
    "STEP 02\n",
    "Calculate the probability of selecting a deal for the different product types by dividing the counts by the total number of deals Amir worked on. Save this as probs.\n"
   ]
  },
  {
   "cell_type": "code",
   "execution_count": 14,
   "metadata": {},
   "outputs": [
    {
     "name": "stdout",
     "output_type": "stream",
     "text": [
      "Product B    0.348315\n",
      "Product D    0.224719\n",
      "Product A    0.129213\n",
      "Product C    0.084270\n",
      "Product F    0.061798\n",
      "Product H    0.044944\n",
      "Product I    0.039326\n",
      "Product E    0.028090\n",
      "Product N    0.016854\n",
      "Product G    0.011236\n",
      "Product J    0.011236\n",
      "Name: product, dtype: float64\n"
     ]
    }
   ],
   "source": [
    "#Load Data\n",
    "amir_deals = pd.read_csv('datasets/amir_deals.csv')\n",
    "\n",
    "# Count the deals for each product\n",
    "counts = amir_deals['product'].value_counts()\n",
    "\n",
    "# Calculate probability of picking a deal with each product\n",
    "probs = counts / counts.sum()\n",
    "print(probs)"
   ]
  },
  {
   "cell_type": "markdown",
   "metadata": {},
   "source": [
    "**Sampling deals**\n",
    "\n",
    "In the previous exercise, you counted the deals Amir worked on. Now it's time to randomly pick five deals so that you can reach out to each customer and ask if they were satisfied with the service they received. You'll try doing this both with and without replacement.\n",
    "\n",
    "Additionally, you want to make sure this is done randomly and that it can be reproduced in case you get asked how you chose the deals, so you'll need to set the random seed before sampling from the deals.\n",
    "\n",
    "Both `pandas` as `pd` and `numpy` as `np` are loaded and `amir_deals` is available.\n",
    "\n",
    "STEP01\n",
    "Set the random seed to 24.\n",
    "Take a sample of 5 deals without replacement and store them as sample_without_replacement.\n"
   ]
  },
  {
   "cell_type": "code",
   "execution_count": 15,
   "metadata": {},
   "outputs": [
    {
     "name": "stdout",
     "output_type": "stream",
     "text": [
      "     Unnamed: 0    product   client status   amount  num_users\n",
      "127         128  Product B  Current    Won  2070.25          7\n",
      "148         149  Product D  Current    Won  3485.48         52\n",
      "77           78  Product B  Current    Won  6252.30         27\n",
      "104         105  Product D  Current    Won  4110.98         39\n",
      "166         167  Product C      New   Lost  3779.86         11\n"
     ]
    }
   ],
   "source": [
    "# Set random seed\n",
    "np.random.seed(24)\n",
    "\n",
    "# Sample 5 deals without replacement\n",
    "sample_without_replacement = amir_deals.sample(5)\n",
    "print(sample_without_replacement)"
   ]
  },
  {
   "cell_type": "markdown",
   "metadata": {},
   "source": [
    "STEP 02\n",
    "Take a sample of 5 deals with replacement and save as sample_with_replacement."
   ]
  },
  {
   "cell_type": "code",
   "execution_count": 16,
   "metadata": {},
   "outputs": [
    {
     "name": "stdout",
     "output_type": "stream",
     "text": [
      "     Unnamed: 0    product   client status   amount  num_users\n",
      "162         163  Product D  Current    Won  6755.66         59\n",
      "131         132  Product B  Current    Won  6872.29         25\n",
      "87           88  Product C  Current    Won  3579.63          3\n",
      "145         146  Product A  Current    Won  4682.94         63\n",
      "145         146  Product A  Current    Won  4682.94         63\n"
     ]
    }
   ],
   "source": [
    "# Set random seed\n",
    "np.random.seed(24)\n",
    "\n",
    "# Sample 5 deals with replacement\n",
    "sample_with_replacement = amir_deals.sample(5, replace = True)\n",
    "print(sample_with_replacement)"
   ]
  },
  {
   "cell_type": "markdown",
   "metadata": {},
   "source": [
    "#### **Discrete distributions**\n",
    "\n"
   ]
  },
  {
   "cell_type": "markdown",
   "metadata": {},
   "source": [
    "## **More Distributions and the Central Limit Theorem  (Module 03-041)**"
   ]
  },
  {
   "cell_type": "markdown",
   "metadata": {},
   "source": [
    "## **Correlation and Experimental Design  (Module 04-041)**"
   ]
  },
  {
   "cell_type": "markdown",
   "metadata": {},
   "source": [
    "# END"
   ]
  }
 ],
 "metadata": {
  "kernelspec": {
   "display_name": "Python 3.10.0 64-bit",
   "language": "python",
   "name": "python3"
  },
  "language_info": {
   "codemirror_mode": {
    "name": "ipython",
    "version": 3
   },
   "file_extension": ".py",
   "mimetype": "text/x-python",
   "name": "python",
   "nbconvert_exporter": "python",
   "pygments_lexer": "ipython3",
   "version": "3.10.0"
  },
  "orig_nbformat": 4,
  "vscode": {
   "interpreter": {
    "hash": "26de051ba29f2982a8de78e945f0abaf191376122a1563185a90213a26c5da77"
   }
  }
 },
 "nbformat": 4,
 "nbformat_minor": 2
}
