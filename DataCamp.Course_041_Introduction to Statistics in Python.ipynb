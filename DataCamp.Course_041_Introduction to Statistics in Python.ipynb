{
 "cells": [
  {
   "cell_type": "markdown",
   "metadata": {},
   "source": [
    "# **DataCamp.Course_041_Introduction to Statistics in Python**\n",
    "\n",
    "### **Course Description**\n",
    "\n",
    "Course Description\n",
    "\n",
    "Statistics is the study of how to collect, analyze, and draw conclusions from data. It’s a hugely valuable tool that you can use to bring the future into focus and infer the answer to tons of questions. For example, what is the likelihood of someone purchasing your product, how many calls will your support team receive, and how many jeans sizes should you manufacture to fit 95% of the population? In this course, you'll discover how to answer questions like these as you grow your statistical skills and learn how to calculate averages, use scatterplots to show the relationship between numeric values, and calculate correlation. You'll also tackle probability, the backbone of statistical reasoning, and learn how to use Python to conduct a well-designed study to draw your own conclusions from data."
   ]
  },
  {
   "cell_type": "markdown",
   "metadata": {},
   "source": [
    "## **Summary Statistics (Module 01-041)**"
   ]
  },
  {
   "cell_type": "markdown",
   "metadata": {},
   "source": [
    "#### **What is statistics?**\n",
    "\n",
    "*The field of statistics* - the practice and study of collecting and analyzing data\n",
    "*A summary statistic* - a fact about or summary of some data\n",
    "\n",
    "*What can statistics do?*\n",
    "\n",
    "- How likely is someone to purchase a product? Are people more likely to purchase it if they can use a di(erent payment system?\n",
    "- How many occupants will your hotel have? How can you optimize occupancy?\n",
    "- How many sizes of jeans need to be manufactured so they can ,t 95% of the population?\n",
    "- Should the same number of each size be produced?\n",
    "- A/B tests: Which ad is more e(ective in getting people to purchase a product?\n",
    "\n",
    "*Types of statistics*\n",
    "\n",
    "1. Descriptive statistics: Describe and summarize data\n",
    "2. Inferential statistics: Use a sample of data to make inferences about a larger population\n",
    "\n",
    "*Types of data*\n",
    "\n",
    "1. Numeric (Quantitative)\n",
    "1.1. Continuous (Measured)\n",
    "1.2. Discrete (Counted)\n",
    "2. Categorical (Qualitative)\n",
    "2.1. Nominal (Unordered)\n",
    "2.2. Ordinal (Ordered)\n",
    "\n",
    "#### **Measures of center**\n",
    "\n",
    "1. Mean \n",
    "`import numpy as np`\n",
    "`np.mean(msleep['sleep_total'])`\n",
    "\n",
    "2. Median\n",
    "`np.median(msleep['sleep_total'])`\n",
    "\n",
    "3. Mode\n",
    "`import statistics`\n",
    "`statistics.mode(msleep['vore'])`\n",
    "\n",
    "Adding an outlier\n",
    "\n",
    "`msleep[msleep['vore'] == 'insecti']`\n",
    "`msleep[msleep['vore'] == \"insecti\"]['sleep_total'].agg([np.mean, np.median])`"
   ]
  },
  {
   "cell_type": "markdown",
   "metadata": {},
   "source": [
    "**Mean and median**\n",
    "\n",
    "In this chapter, you'll be working with the [2018 Food Carbon Footprint Index from nu3](https://www.nu3.de/blogs/nutrition/food-carbon-footprint-index-2018). The `food_consumption` dataset contains information about the kilograms of food consumed per person per year in each country in each food category (`consumption`) as well as information about the carbon footprint of that food category (`co2_emissions`) measured in kilograms of carbon dioxide, or CO2, per person per year in each country.\n",
    "\n",
    "In this exercise, you'll compute measures of center to compare food consumption in the US and Belgium using your `pandas` and `numpy` skills.\n",
    "\n",
    "`pandas` is imported as `pd` for you and `food_consumption` is pre-loaded.\n",
    "\n",
    "STEP 01\n",
    "    Import numpy with the alias np.\n",
    "    Create two DataFrames: one that holds the rows of food_consumption for 'Belgium' and another that holds rows for 'USA'. Call these be_consumption and usa_consumption.\n",
    "    Calculate the mean and median of kilograms of food consumed per person per year for both countries."
   ]
  },
  {
   "cell_type": "code",
   "execution_count": 186,
   "metadata": {},
   "outputs": [
    {
     "name": "stdout",
     "output_type": "stream",
     "text": [
      "42.13272727272727\n",
      "12.59\n",
      "44.650000000000006\n",
      "14.58\n"
     ]
    }
   ],
   "source": [
    "# Import pandas with alias pd\n",
    "import pandas as pd\n",
    "\n",
    "#Load Data\n",
    "food_consumption = pd.read_csv('datasets/food_consumption.csv')\n",
    "\n",
    "# Import numpy with alias np\n",
    "import numpy as np\n",
    "\n",
    "# Filter for Belgium\n",
    "be_consumption = food_consumption[food_consumption['country'] == 'Belgium']\n",
    "\n",
    "# Filter for USA\n",
    "usa_consumption = food_consumption[food_consumption['country'] == 'USA']\n",
    "\n",
    "# Calculate mean and median consumption in Belgium\n",
    "print(np.mean(be_consumption['consumption']))\n",
    "print(np.median(be_consumption['consumption']))\n",
    "\n",
    "# Calculate mean and median consumption in USA\n",
    "print(np.mean(usa_consumption['consumption']))\n",
    "print(np.median(usa_consumption['consumption']))"
   ]
  },
  {
   "cell_type": "markdown",
   "metadata": {},
   "source": [
    "STEP 02\n",
    "    Subset food_consumption for rows with data about Belgium and the USA.\n",
    "    Group the subsetted data by country and select only the consumption column.\n",
    "    Calculate the mean and median of the kilograms of food consumed per person per year in each country using .agg()."
   ]
  },
  {
   "cell_type": "code",
   "execution_count": 187,
   "metadata": {},
   "outputs": [
    {
     "name": "stdout",
     "output_type": "stream",
     "text": [
      "              mean  median\n",
      "country                   \n",
      "Belgium  42.132727   12.59\n",
      "USA      44.650000   14.58\n"
     ]
    }
   ],
   "source": [
    "# Import numpy as np\n",
    "import numpy as np\n",
    "\n",
    "# Subset for Belgium and USA only\n",
    "be_and_usa_list = ['Belgium','USA']\n",
    "be_and_usa = food_consumption[food_consumption['country'].isin(be_and_usa_list)]\n",
    "#df[df['Country Name'].isin(country_list)]\n",
    "\n",
    "# Group by country, select consumption column, and compute mean and median\n",
    "print(be_and_usa.groupby('country')['consumption'].agg([np.mean, np.median]))"
   ]
  },
  {
   "cell_type": "markdown",
   "metadata": {},
   "source": [
    "**Mean vs. median**\n",
    "\n",
    "In the video, you learned that the mean is the sum of all the data points divided by the total number of data points, and the median is the middle value of the dataset where 50% of the data is less than the median, and 50% of the data is greater than the median. In this exercise, you'll compare these two measures of center.\n",
    "\n",
    "`pandas` is loaded as `pd`, `numpy` is loaded as `np`, and `food_consumption` is available.\n",
    "\n",
    "STEP 01\n",
    "    Import matplotlib.pyplot with the alias plt.\n",
    "    Subset food_consumption to get the rows where food_category is 'rice'.\n",
    "    Create a histogram of co2_emission for rice and show the plot."
   ]
  },
  {
   "cell_type": "code",
   "execution_count": 188,
   "metadata": {},
   "outputs": [
    {
     "data": {
      "image/png": "[encoded data removed]",
      "text/plain": [
       "<Figure size 640x480 with 1 Axes>"
      ]
     },
     "metadata": {},
     "output_type": "display_data"
    }
   ],
   "source": [
    "# Import matplotlib.pyplot with alias plt\n",
    "import matplotlib.pyplot as plt\n",
    "\n",
    "# Subset for food_category equals rice\n",
    "rice_consumption = food_consumption[food_consumption['food_category'] == 'rice']\n",
    "\n",
    "# Histogram of co2_emission for rice and show plot\n",
    "plt.hist(rice_consumption['co2_emission'])\n",
    "plt.show()"
   ]
  },
  {
   "cell_type": "markdown",
   "metadata": {},
   "source": [
    "STEP02\n",
    "Question\n",
    "\n",
    "Take a look at the histogram you just created of different countries' CO2 emissions for rice. Which of the following terms best describes the shape of the data?\n",
    "\n",
    "*Possible Answer: Right-skewed*\n",
    "\n",
    "STEP03\n",
    "Use .agg() to calculate the mean and median of co2_emission for rice."
   ]
  },
  {
   "cell_type": "code",
   "execution_count": 189,
   "metadata": {},
   "outputs": [
    {
     "name": "stdout",
     "output_type": "stream",
     "text": [
      "mean      37.591615\n",
      "median    15.200000\n",
      "Name: co2_emission, dtype: float64\n"
     ]
    }
   ],
   "source": [
    "# Subset for food_category equals rice\n",
    "rice_consumption = food_consumption[food_consumption['food_category'] == 'rice']\n",
    "\n",
    "# Calculate mean and median of co2_emission with .agg()\n",
    "print(rice_consumption['co2_emission'].agg([np.mean, np.median]))"
   ]
  },
  {
   "cell_type": "markdown",
   "metadata": {},
   "source": [
    "Question\n",
    "\n",
    "Given the skew of this data, what measure of central tendency best summarizes the kilograms of CO2 emissions per person per year for rice?\n",
    "\n",
    "*Possible Answer: median*"
   ]
  },
  {
   "cell_type": "markdown",
   "metadata": {},
   "source": [
    "#### **Measures of spread**\n",
    "\n",
    "1. Variance: Average distance from each data point to the data's mean. Use np.var()\n",
    "\n",
    "`np.var(msleep['sleep_total'], ddof=1)`\n",
    "\n",
    "Without ddof=1 , population variance is\n",
    "calculated instead of sample variance:\n",
    "\n",
    "`np.var(msleep['sleep_total'])`\n",
    "\n",
    "2. Standard deviation\n",
    "\n",
    "`np.std(msleep['sleep_total'], ddof=1)`\n",
    "\n",
    "3. Mean absolute deviation\n",
    "\n",
    "`dists = msleep['sleep_total'] - mean(msleep$sleep_total)`\n",
    "`np.mean(np.abs(dists))`\n",
    "\n",
    "Standard deviation vs. mean absolute deviation\n",
    "Standard deviation squares distances, penalizing longer distances more than shorter ones.\n",
    "Mean absolute deviation penalizes each distance equally.\n",
    "One isn't better than the other, but SD is more common than MAD.\n",
    "\n",
    "4. Quantiles\n",
    "\n",
    "0.5 quantile = median\n",
    "`np.quantile(msleep['sleep_total'], 0.5)`\n",
    "\n",
    "Quartiles: \n",
    "`np.quantile(msleep['sleep_total'], [0, 0.25, 0.5, 0.75, 1])`\n",
    "\n",
    "5. Boxplots use quartiles\n",
    "\n",
    "`import matplotlib.pyplot as plt`\n",
    "`plt.boxplot(msleep['sleep_total'])`\n",
    "`plt.show()`\n",
    "\n",
    "6. Quantiles using np.linspace()\n",
    "\n",
    "`np.quantile(msleep['sleep_total'], [0, 0.2, 0.4, 0.6, 0.8, 1])`\n",
    "array([ 1.9 , 6.24, 9.48, 11.14, 14.4 , 19.9 ])\n",
    "\n",
    "`np.linspace(start, stop, num)`\n",
    "\n",
    "`np.quantile(msleep['sleep_total'], np.linspace(0, 1, 5))`\n",
    "array([ 1.9 , 7.85, 10.1 , 13.75, 19.9 ])\n",
    "\n",
    "7. Interquartile range (IQR): Height of the box in a boxplot\n",
    "\n",
    "`np.quantile(msleep['sleep_total'], 0.75) - np.quantile(msleep['sleep_total'], 0.25)`\n",
    "\n",
    "`from scipy.stats import iqr`\n",
    "`iqr(msleep['sleep_total'])`\n",
    "\n",
    "8. Outliers: data point that is substantially different from the others\n",
    "\n",
    "How do we know what a substantial di(erence is? A data point is an outlier if:\n",
    "\n",
    "data < Q1 − 1.5 × IQR or\n",
    "data > Q3 + 1.5 × IQR\n",
    "\n",
    "Finding outliers:\n",
    "\n",
    "`from scipy.stats import iqr`\n",
    "`iqr = iqr(msleep['bodywt'])`\n",
    "`lower_threshold = np.quantile(msleep['bodywt'], 0.25) - 1.5 * iqr`\n",
    "`upper_threshold = np.quantile(msleep['bodywt'], 0.75) + 1.5 * iqr`\n",
    "`msleep[(msleep['bodywt'] < lower_threshold) | (msleep['bodywt'] > upper_threshold)]`\n",
    "\n",
    "9. **All in one go**\n",
    "\n",
    "`msleep['bodywt'].describe()`\n"
   ]
  },
  {
   "cell_type": "markdown",
   "metadata": {},
   "source": [
    "**Quartiles, quantiles, and quintiles**\n",
    "\n",
    "Quantiles are a great way of summarizing numerical data since they can be used to measure center and spread, as well as to get a sense of where a data point stands in relation to the rest of the data set. For example, you might want to give a discount to the 10% most active users on a website.\n",
    "\n",
    "In this exercise, you'll calculate quartiles, quintiles, and deciles, which split up a dataset into 4, 5, and 10 pieces, respectively.\n",
    "\n",
    "Both `pandas` as `pd` and `numpy` as `np` are loaded and `food_consumption` is available.\n",
    "\n",
    "STEP01\n",
    "\n",
    "Calculate the quartiles of the co2_emission column of food_consumption"
   ]
  },
  {
   "cell_type": "code",
   "execution_count": 190,
   "metadata": {},
   "outputs": [
    {
     "name": "stdout",
     "output_type": "stream",
     "text": [
      "[   0.        5.21     16.53     62.5975 1712.    ]\n"
     ]
    }
   ],
   "source": [
    "# Calculate the quartiles of co2_emission\n",
    "print(np.quantile(food_consumption['co2_emission'], [0, 0.25, 0.5, 0.75, 1]))"
   ]
  },
  {
   "cell_type": "markdown",
   "metadata": {},
   "source": [
    "STEP 02\n",
    "\n",
    "Calculate the six quantiles that split up the data into 5 pieces (quintiles) of the co2_emission column of food_consumption."
   ]
  },
  {
   "cell_type": "code",
   "execution_count": 191,
   "metadata": {},
   "outputs": [
    {
     "name": "stdout",
     "output_type": "stream",
     "text": [
      "[   0.       3.54    11.026   25.59    99.978 1712.   ]\n"
     ]
    }
   ],
   "source": [
    "# Calculate the quintiles of co2_emission\n",
    "print(np.quantile(food_consumption['co2_emission'], [0, 0.2, 0.4, 0.6, 0.8, 1]))"
   ]
  },
  {
   "cell_type": "markdown",
   "metadata": {},
   "source": [
    "STEP 03\n",
    "\n",
    "Calculate the eleven quantiles of co2_emission that split up the data into ten pieces (deciles)."
   ]
  },
  {
   "cell_type": "code",
   "execution_count": 192,
   "metadata": {},
   "outputs": [
    {
     "name": "stdout",
     "output_type": "stream",
     "text": [
      "[0.00000e+00 6.68000e-01 3.54000e+00 7.04000e+00 1.10260e+01 1.65300e+01\n",
      " 2.55900e+01 4.42710e+01 9.99780e+01 2.03629e+02 1.71200e+03]\n"
     ]
    }
   ],
   "source": [
    "print(np.quantile(food_consumption['co2_emission'], np.linspace(0, 1, 11)))"
   ]
  },
  {
   "cell_type": "markdown",
   "metadata": {},
   "source": [
    "**Variance and standard deviation**\n",
    "\n",
    "Variance and standard deviation are two of the most common ways to measure the spread of a variable, and you'll practice calculating these in this exercise. Spread is important since it can help inform expectations. For example, if a salesperson sells a mean of 20 products a day, but has a standard deviation of 10 products, there will probably be days where they sell 40 products, but also days where they only sell one or two. Information like this is important, especially when making predictions.\n",
    "\n",
    "Both `pandas` as `pd` and `numpy` as `np` are loaded, and `food_consumption` is available."
   ]
  },
  {
   "cell_type": "code",
   "execution_count": 193,
   "metadata": {},
   "outputs": [
    {
     "name": "stdout",
     "output_type": "stream",
     "text": [
      "                        var         std\n",
      "food_category                          \n",
      "beef           88748.408132  297.906710\n",
      "dairy          17671.891985  132.935669\n",
      "eggs              21.371819    4.622966\n",
      "fish             921.637349   30.358481\n",
      "lamb_goat      16475.518363  128.356996\n",
      "nuts              35.639652    5.969895\n",
      "pork            3094.963537   55.632396\n",
      "poultry          245.026801   15.653332\n",
      "rice            2281.376243   47.763754\n",
      "soybeans           0.879882    0.938020\n",
      "wheat             71.023937    8.427570\n"
     ]
    },
    {
     "data": {
      "image/png": "[encoded data removed]",
      "text/plain": [
       "<Figure size 640x480 with 1 Axes>"
      ]
     },
     "metadata": {},
     "output_type": "display_data"
    },
    {
     "data": {
      "image/png": "[encoded data removed]",
      "text/plain": [
       "<Figure size 640x480 with 1 Axes>"
      ]
     },
     "metadata": {},
     "output_type": "display_data"
    }
   ],
   "source": [
    "# Print variance and sd of co2_emission for each food_category\n",
    "print(food_consumption.groupby('food_category')['co2_emission'].agg([np.var, np.std]))\n",
    "\n",
    "# Import matplotlib.pyplot with alias plt\n",
    "import matplotlib.pyplot as plt\n",
    "\n",
    "# Create histogram of co2_emission for food_category 'beef'\n",
    "plt.hist(food_consumption[food_consumption['food_category'] == 'beef']['co2_emission'])\n",
    "# Show plot\n",
    "plt.show()\n",
    "\n",
    "# Create histogram of co2_emission for food_category 'eggs'\n",
    "plt.hist(food_consumption[food_consumption['food_category'] == 'eggs']['co2_emission'])\n",
    "# Show plot\n",
    "plt.show()"
   ]
  },
  {
   "cell_type": "markdown",
   "metadata": {},
   "source": [
    "**Finding outliers using IQR**\n",
    "\n",
    "Outliers can have big effects on statistics like mean, as well as statistics that rely on the mean, such as variance and standard deviation. Interquartile range, or IQR, is another way of measuring spread that's less influenced by outliers. IQR is also often used to find outliers. \n",
    "If a value is less than **Q1 -1.5 x IQR** or greater than **Q3 +1.5 x IQR**, it's considered an outlier. In fact, this is how the lengths of the whiskers in a matplotlib box plot are calculated.\n",
    "\n",
    "![Diagram of a box plot showing median, quartiles, and outliers](/'datasets/iqr.png')\n",
    "\n",
    "In this exercise, you'll calculate IQR and use it to find some outliers. `pandas` as `pd` and `numpy` as `np` are loaded and `food_consumption` is available.\n",
    "\n",
    "STEP 01\n",
    "Calculate the total co2_emission per country by grouping by country and taking the sum of co2_emission. Store the resulting DataFrame as emissions_by_country.\n",
    "\n",
    "STEP 02\n",
    "Compute the first and third quartiles of emissions_by_country and store these as q1 and q3.\n",
    "Calculate the interquartile range of emissions_by_country and store it as iqr.\n",
    "\n",
    "STEP 03\n",
    "Calculate the lower and upper cutoffs for outliers of emissions_by_country, and store these as lower and upper.\n",
    "\n",
    "STEP 04\n",
    "Subset emissions_by_country to get countries with a total emission greater than the upper cutoff or a total emission less than the lower cutoff."
   ]
  },
  {
   "cell_type": "code",
   "execution_count": 194,
   "metadata": {},
   "outputs": [
    {
     "name": "stdout",
     "output_type": "stream",
     "text": [
      "country\n",
      "Albania      1777.85\n",
      "Algeria       707.88\n",
      "Angola        412.99\n",
      "Argentina    2172.40\n",
      "Armenia      1109.93\n",
      "              ...   \n",
      "Uruguay      1634.91\n",
      "Venezuela    1104.10\n",
      "Vietnam       641.51\n",
      "Zambia        225.30\n",
      "Zimbabwe      350.33\n",
      "Name: co2_emission, Length: 130, dtype: float64\n"
     ]
    }
   ],
   "source": [
    "# Calculate total co2_emission per country: emissions_by_country\n",
    "emissions_by_country = food_consumption.groupby('country')['co2_emission'].sum()\n",
    "\n",
    "print(emissions_by_country)"
   ]
  },
  {
   "cell_type": "code",
   "execution_count": 195,
   "metadata": {},
   "outputs": [],
   "source": [
    "# Calculate total co2_emission per country: emissions_by_country\n",
    "emissions_by_country = food_consumption.groupby('country')['co2_emission'].sum()\n",
    "\n",
    "# Compute the first and third quartiles and IQR of emissions_by_country\n",
    "q1 = np.quantile(emissions_by_country, 0.25)\n",
    "q3 = np.quantile(emissions_by_country, 0.75)\n",
    "iqr = q3 - q1"
   ]
  },
  {
   "cell_type": "code",
   "execution_count": 196,
   "metadata": {},
   "outputs": [],
   "source": [
    "# Calculate total co2_emission per country: emissions_by_country\n",
    "emissions_by_country = food_consumption.groupby('country')['co2_emission'].sum()\n",
    "\n",
    "# Compute the first and third quantiles and IQR of emissions_by_country\n",
    "q1 = np.quantile(emissions_by_country, 0.25)\n",
    "q3 = np.quantile(emissions_by_country, 0.75)\n",
    "iqr = q3 - q1\n",
    "\n",
    "# Calculate the lower and upper cutoffs for outliers\n",
    "lower = q1 - 1.5 * iqr\n",
    "upper = q3 + 1.5 * iqr"
   ]
  },
  {
   "cell_type": "code",
   "execution_count": 197,
   "metadata": {},
   "outputs": [
    {
     "name": "stdout",
     "output_type": "stream",
     "text": [
      "country\n",
      "Argentina    2172.4\n",
      "Name: co2_emission, dtype: float64\n"
     ]
    }
   ],
   "source": [
    "# Calculate total co2_emission per country: emissions_by_country\n",
    "emissions_by_country = food_consumption.groupby('country')['co2_emission'].sum()\n",
    "\n",
    "# Compute the first and third quantiles and IQR of emissions_by_country\n",
    "q1 = np.quantile(emissions_by_country, 0.25)\n",
    "q3 = np.quantile(emissions_by_country, 0.75)\n",
    "iqr = q3 - q1\n",
    "\n",
    "# Calculate the lower and upper cutoffs for outliers\n",
    "lower = q1 - 1.5 * iqr\n",
    "upper = q3 + 1.5 * iqr\n",
    "\n",
    "# Subset emissions_by_country to find outliers\n",
    "outliers = emissions_by_country[(emissions_by_country < lower) | (emissions_by_country > upper)]\n",
    "print(outliers)"
   ]
  },
  {
   "cell_type": "markdown",
   "metadata": {},
   "source": [
    "## **Random Numbers and Probability (Module 02-041)**"
   ]
  },
  {
   "cell_type": "markdown",
   "metadata": {},
   "source": [
    "#### **What are the chances?**\n",
    "\n",
    "Measuring chance\n",
    "What's the probability of an event?\n",
    "\n",
    "P (event) = # ways event can happen / total # of possible outcomes\n",
    "\n",
    "Example: a coin flip\n",
    "P (heads) = 1 way to get heads / 2 possible outcomes = 1 / 2 = 0.5 = 50% chance of getting heads\n",
    "\n",
    "Example: a coin \n",
    "\n",
    "Example 2: sales people\n",
    "\n",
    "Sales = [Amir, Brian, Claire, Damian]\n",
    "\n",
    "P(Brian) = 1 / 4 = 25% change of selecting Brian\n",
    "\n",
    "1. Sampling from a DataFrame\n",
    "\n",
    "`print(sales_counts)`\n",
    "\n",
    "`sales_counts.sample()`\n",
    "\n",
    "2. Setting a random seed\n",
    "\n",
    "`np.random.seed(10)`\n",
    "\n",
    "`sales_counts.sample()`\n",
    "\n",
    "3. Sampling without replacement\n",
    "\n",
    "A second meeting happen when Brian was bussy\n",
    "\n",
    "Sales = [Amir, Claire, Damian]\n",
    "\n",
    "P(Claire) = 1 / 3 = 33% change of selecting Claire\n",
    "\n",
    "Sampling twice in Python\n",
    "\n",
    "`sales_counts.sample(2)`\n",
    "\n",
    "4. Sampling with replacement\n",
    "\n",
    "A second meeting happen when Brian was available\n",
    "\n",
    "Sales = [Amir, Brian, Claire, Damian]\n",
    "\n",
    "P(Claire) = 1 / 4 = 25% change of selecting Claire\n",
    "\n",
    "Sampling with/without replacement in Python\n",
    "\n",
    "`sales_counts.sample(5, replace = True)`\n",
    "\n",
    "5. Independent events\n",
    "\n",
    "Two events are independent if the probability of the second event isn't a(ected by the outcome of the first event.\n",
    "\n",
    "Sampling with replacement = each pick is independent\n",
    "\n",
    "6. Dependent events\n",
    "\n",
    "Two events are dependent if the probability of the second event is a(ected by the outcome of the first event.\n",
    "\n",
    "Sampling without replacement = each pick is dependent\n"
   ]
  },
  {
   "cell_type": "markdown",
   "metadata": {},
   "source": [
    "**Calculating probabilities**\n",
    "\n",
    "You're in charge of the sales team, and it's time for performance reviews, starting with Amir. As part of the review, you want to randomly select a few of the deals that he's worked on over the past year so that you can look at them more deeply. Before you start selecting deals, you'll first figure out what the chances are of selecting certain deals.\n",
    "\n",
    "Recall that the probability of an event can be calculated by\n",
    "\n",
    "P (event) = # ways event can happen / total # of possible outcomes\n",
    "\n",
    "Both `pandas` as `pd` and `numpy` as `np` are loaded and `amir_deals` is available.\n",
    "\n",
    "STEP 01\n",
    "Count the number of deals Amir worked on for each product type and store in counts.\n",
    "\n",
    "STEP 02\n",
    "Calculate the probability of selecting a deal for the different product types by dividing the counts by the total number of deals Amir worked on. Save this as probs.\n"
   ]
  },
  {
   "cell_type": "code",
   "execution_count": 240,
   "metadata": {},
   "outputs": [
    {
     "name": "stdout",
     "output_type": "stream",
     "text": [
      "Product B    0.348315\n",
      "Product D    0.224719\n",
      "Product A    0.129213\n",
      "Product C    0.084270\n",
      "Product F    0.061798\n",
      "Product H    0.044944\n",
      "Product I    0.039326\n",
      "Product E    0.028090\n",
      "Product N    0.016854\n",
      "Product G    0.011236\n",
      "Product J    0.011236\n",
      "Name: product, dtype: float64\n"
     ]
    }
   ],
   "source": [
    "#Load Data\n",
    "amir_deals = pd.read_csv('datasets/amir_deals.csv')\n",
    "\n",
    "# Count the deals for each product\n",
    "counts = amir_deals['product'].value_counts()\n",
    "\n",
    "# Calculate probability of picking a deal with each product\n",
    "probs = counts / counts.sum()\n",
    "print(probs)"
   ]
  },
  {
   "cell_type": "markdown",
   "metadata": {},
   "source": [
    "**Sampling deals**\n",
    "\n",
    "In the previous exercise, you counted the deals Amir worked on. Now it's time to randomly pick five deals so that you can reach out to each customer and ask if they were satisfied with the service they received. You'll try doing this both with and without replacement.\n",
    "\n",
    "Additionally, you want to make sure this is done randomly and that it can be reproduced in case you get asked how you chose the deals, so you'll need to set the random seed before sampling from the deals.\n",
    "\n",
    "Both `pandas` as `pd` and `numpy` as `np` are loaded and `amir_deals` is available.\n",
    "\n",
    "STEP01\n",
    "Set the random seed to 24.\n",
    "Take a sample of 5 deals without replacement and store them as sample_without_replacement.\n"
   ]
  },
  {
   "cell_type": "code",
   "execution_count": 199,
   "metadata": {},
   "outputs": [
    {
     "name": "stdout",
     "output_type": "stream",
     "text": [
      "     Unnamed: 0    product   client status   amount  num_users\n",
      "127         128  Product B  Current    Won  2070.25          7\n",
      "148         149  Product D  Current    Won  3485.48         52\n",
      "77           78  Product B  Current    Won  6252.30         27\n",
      "104         105  Product D  Current    Won  4110.98         39\n",
      "166         167  Product C      New   Lost  3779.86         11\n"
     ]
    }
   ],
   "source": [
    "# Set random seed\n",
    "np.random.seed(24)\n",
    "\n",
    "# Sample 5 deals without replacement\n",
    "sample_without_replacement = amir_deals.sample(5)\n",
    "print(sample_without_replacement)"
   ]
  },
  {
   "cell_type": "markdown",
   "metadata": {},
   "source": [
    "STEP 02\n",
    "Take a sample of 5 deals with replacement and save as sample_with_replacement."
   ]
  },
  {
   "cell_type": "code",
   "execution_count": 200,
   "metadata": {},
   "outputs": [
    {
     "name": "stdout",
     "output_type": "stream",
     "text": [
      "     Unnamed: 0    product   client status   amount  num_users\n",
      "162         163  Product D  Current    Won  6755.66         59\n",
      "131         132  Product B  Current    Won  6872.29         25\n",
      "87           88  Product C  Current    Won  3579.63          3\n",
      "145         146  Product A  Current    Won  4682.94         63\n",
      "145         146  Product A  Current    Won  4682.94         63\n"
     ]
    }
   ],
   "source": [
    "# Set random seed\n",
    "np.random.seed(24)\n",
    "\n",
    "# Sample 5 deals with replacement\n",
    "sample_with_replacement = amir_deals.sample(5, replace = True)\n",
    "print(sample_with_replacement)"
   ]
  },
  {
   "cell_type": "markdown",
   "metadata": {},
   "source": [
    "#### **Discrete distributions**\n",
    "\n",
    "Probability distribution: Describes the probability of each possible outcome in a scenario\n",
    "Expected value: mean of a probability distribution\n",
    "\n",
    "Discrete probability distributions: Describe probabilities for discrete outcomes\n",
    "\n",
    "1. Sampling from discrete distributions\n",
    "\n",
    "print(die)\n",
    "\n",
    "np.mean(die['number'])\n",
    "\n",
    "rolls_10 = die.sample(10, replace = True)\n",
    "\n",
    "rolls_10\n",
    "\n",
    "2. Visualizing a sample\n",
    "\n",
    "rolls_10['number'].hist(bins=np.linspace(1,7,7))\n",
    "plt.show()\n",
    "\n",
    "4. Sample distribution vs. theoretical distribution\n",
    "\n",
    "TEORICAL\n",
    "mean(die['number']) = 3.5\n",
    "\n",
    "SAMPLE\n",
    "np.mean(rolls_10['number']) = 3.0\n",
    "np.mean(rolls_100['number']) = 3.4\n",
    "np.mean(rolls_1000['number']) = 3.48\n",
    "\n",
    "5. Law of large numbers\n",
    "As the size of your sample increases, the sample mean will approach the expected value."
   ]
  },
  {
   "cell_type": "markdown",
   "metadata": {},
   "source": [
    "**Creating a probability distribution**\n",
    "\n",
    "A new restaurant opened a few months ago, and the restaurant's management wants to optimize its seating space based on the size of the groups that come most often. On one night, there are 10 groups of people waiting to be seated at the restaurant, but instead of being called in the order they arrived, they will be called randomly. In this exercise, you'll investigate the probability of groups of different sizes getting picked first. Data on each of the ten groups is contained in the `restaurant_groups` DataFrame.\n",
    "\n",
    "Remember that expected value can be calculated by multiplying each possible outcome with its corresponding probability and taking the sum. The `restaurant_groups` data is available. `pandas` is loaded as `pd`, `numpy` is loaded as `np`, and `matplotlib.pyplot` is loaded as `plt`.\n",
    "\n",
    "STEP 01\n",
    "\n",
    "Create a histogram of the `group_size` column of `restaurant_groups`, setting `bins` to `[2, 3, 4, 5, 6]`. Remember to show the plot."
   ]
  },
  {
   "cell_type": "code",
   "execution_count": 201,
   "metadata": {},
   "outputs": [
    {
     "data": {
      "image/png": "[encoded data removed]",
      "text/plain": [
       "<Figure size 640x480 with 1 Axes>"
      ]
     },
     "metadata": {},
     "output_type": "display_data"
    }
   ],
   "source": [
    "restaurantg = {'group_size' : [2,2,2,2,2,2,3,4,4,5], 'col2':[1,2,3,4,5,6,7,8,9,10]}\n",
    "restaurant_groups = pd.DataFrame(data=restaurantg)\n",
    "\n",
    "# Create a histogram of restaurant_groups and show plot\n",
    "restaurant_groups['group_size'].hist(bins=[2, 3, 4, 5, 6])\n",
    "plt.show()"
   ]
  },
  {
   "cell_type": "markdown",
   "metadata": {},
   "source": [
    "STEP 02\n",
    "\n",
    "Count the number of each group_size in restaurant_groups, then divide by the number of rows in restaurant_groups to calculate the probability of randomly selecting a group of each size. Save as size_dist.\n",
    "Reset the index of size_dist.\n",
    "Rename the columns of size_dist to group_size and prob."
   ]
  },
  {
   "cell_type": "code",
   "execution_count": 202,
   "metadata": {},
   "outputs": [
    {
     "name": "stdout",
     "output_type": "stream",
     "text": [
      "   group_size  prob\n",
      "0           2   0.6\n",
      "1           4   0.2\n",
      "2           3   0.1\n",
      "3           5   0.1\n"
     ]
    }
   ],
   "source": [
    "# Create probability distribution\n",
    "size_dist = restaurant_groups['group_size'].value_counts() / restaurant_groups.shape[0]\n",
    "# Reset index and rename columns\n",
    "size_dist = size_dist.reset_index()\n",
    "size_dist.columns = ['group_size', 'prob']\n",
    "\n",
    "print(size_dist)"
   ]
  },
  {
   "cell_type": "markdown",
   "metadata": {},
   "source": [
    "STEP 03\n",
    "Calculate the expected value of the size_distribution, which represents the expected group size, by multiplying the group_size by the prob and taking the sum."
   ]
  },
  {
   "cell_type": "code",
   "execution_count": 203,
   "metadata": {},
   "outputs": [
    {
     "name": "stdout",
     "output_type": "stream",
     "text": [
      "2.8\n"
     ]
    }
   ],
   "source": [
    "# Create probability distribution\n",
    "size_dist = restaurant_groups['group_size'].value_counts() / restaurant_groups.shape[0]\n",
    "# Reset index and rename columns\n",
    "size_dist = size_dist.reset_index()\n",
    "size_dist.columns = ['group_size', 'prob']\n",
    "\n",
    "# Calculate expected value\n",
    "expected_value = np.sum(size_dist['group_size'] * size_dist['prob'])\n",
    "print(expected_value)"
   ]
  },
  {
   "cell_type": "markdown",
   "metadata": {},
   "source": [
    "STEP 04\n",
    "Calculate the probability of randomly picking a group of 4 or more people by subsetting for groups of size 4 or more and summing the probabilities of selecting those groups."
   ]
  },
  {
   "cell_type": "code",
   "execution_count": 204,
   "metadata": {},
   "outputs": [
    {
     "name": "stdout",
     "output_type": "stream",
     "text": [
      "0.30000000000000004\n"
     ]
    }
   ],
   "source": [
    "# Create probability distribution\n",
    "size_dist = restaurant_groups['group_size'].value_counts() / restaurant_groups.shape[0]\n",
    "# Reset index and rename columns\n",
    "size_dist = size_dist.reset_index()\n",
    "size_dist.columns = ['group_size', 'prob']\n",
    "\n",
    "# Expected value\n",
    "expected_value = np.sum(size_dist['group_size'] * size_dist['prob'])\n",
    "\n",
    "# Subset groups of size 4 or more\n",
    "groups_4_or_more = size_dist[size_dist['group_size'] >= 4]\n",
    "\n",
    "# Sum the probabilities of groups_4_or_more\n",
    "prob_4_or_more = np.sum(groups_4_or_more['prob'])\n",
    "print(prob_4_or_more)"
   ]
  },
  {
   "cell_type": "markdown",
   "metadata": {},
   "source": [
    "#### **Continuous distributions**\n",
    "\n",
    "1. Waiting for the bus\n",
    "\n",
    "2. Uniform distribution in Python\n",
    "P (wait time ≤ 7)\n",
    "\n",
    "from scipy.stats import uniform\n",
    "uniform.cdf(7, 0, 12)\n",
    "\n",
    "`0.5833333`\n",
    "\n",
    "3. \"Greater than\" probabilities\n",
    "P (wait time ≥ 7) = 1 − P (wait time ≤ 7)\n",
    "\n",
    "from scipy.stats import uniform\n",
    "1 - uniform.cdf(7, 0, 12)\n",
    "\n",
    "`0.4166667`\n",
    "\n",
    "4. in between\n",
    "P (4 ≤ wait time ≤ 7)\n",
    "\n",
    "from scipy.stats import uniform \n",
    "uniform.cdf(7,0,12) - uniform.cdf(4,0,12)\n",
    "\n",
    "`0.25`\n",
    "\n",
    "5. Total area = 1\n",
    "P (0 ≤ wait time ≤ 12) = ?\n",
    "P(0 ≤ outcome ≤ 12) = 12 × 1 / 12 = 1\n",
    "\n",
    "6. Generating random numbers according to uniform distribution\n",
    "\n",
    "from scipy.stats import uniform\n",
    "uniform.rvs(0, 5, size=10)\n",
    "\n",
    "`array([1.89740094, 4.70673196, 0.33224683, 1.0137103 , 2.31641255, 3.49969897, 0.29688598, 0.92057234, 4.71086658, 1.56815855])`\n",
    "\n",
    "7. Other continuous distributions: Normal distribution, Exponential distribution"
   ]
  },
  {
   "cell_type": "markdown",
   "metadata": {},
   "source": [
    "**Data back-ups**\n",
    "\n",
    "The sales software used at your company is set to automatically back itself up, but no one knows exactly what time the back-ups happen. It is known, however, that back-ups happen exactly every 30 minutes. Amir comes back from sales meetings at random times to update the data on the client he just met with. He wants to know how long he'll have to wait for his newly-entered data to get backed up. Use your new knowledge of continuous uniform distributions to model this situation and answer Amir's questions.\n",
    "\n",
    "STEP 01\n",
    "To model how long Amir will wait for a back-up using a continuous uniform distribution, save his lowest possible wait time as min_time and his longest possible wait time as max_time. Remember that back-ups happen every 30 minutes.\n",
    "\n",
    "STEP 02\n",
    "Import uniform from scipy.stats and calculate the probability that Amir has to wait less than 5 minutes, and store in a variable called prob_less_than_5\n",
    "\n",
    "STEP 03\n",
    "Calculate the probability that Amir has to wait more than 5 minutes, and store in a variable called prob_greater_than_5.\n",
    "\n",
    "STEP 04"
   ]
  },
  {
   "cell_type": "code",
   "execution_count": 205,
   "metadata": {},
   "outputs": [
    {
     "name": "stdout",
     "output_type": "stream",
     "text": [
      "0.16666666666666666\n",
      "0.8333333333333334\n",
      "0.3333333333333333\n"
     ]
    }
   ],
   "source": [
    "# Min and max wait times for back-up that happens every 30 min\n",
    "min_time = 0\n",
    "max_time = 30\n",
    "\n",
    "# Import uniform from scipy.stats\n",
    "from scipy.stats import uniform\n",
    "\n",
    "# Calculate probability of waiting less than 5 mins\n",
    "prob_less_than_5 = uniform.cdf(5, 0, 30)\n",
    "print(prob_less_than_5)\n",
    "\n",
    "# Calculate probability of waiting more than 5 mins\n",
    "prob_greater_than_5 = 1 - uniform.cdf(5, 0, 30)\n",
    "print(prob_greater_than_5)\n",
    "\n",
    "# Calculate probability of waiting 10-20 mins\n",
    "prob_between_10_and_20 = uniform.cdf(20, 0, 30) - uniform.cdf(10, 0, 30)\n",
    "print(prob_between_10_and_20)"
   ]
  },
  {
   "cell_type": "markdown",
   "metadata": {},
   "source": [
    "**Simulating wait times**\n",
    "\n",
    "To give Amir a better idea of how long he'll have to wait, you'll simulate Amir waiting 1000 times and create a histogram to show him what he should expect. Recall from the last exercise that his minimum wait time is 0 minutes and his maximum wait time is 30 minutes.\n",
    "\n",
    "As usual, `pandas` as `pd`, `numpy` as `np`, and `matplotlib.pyplot` as `plt` are loaded.\n",
    "\n",
    "step 01\n",
    "Set the random seed to 334.\n",
    "\n",
    "step02\n",
    "Import uniform from scipy.stats.\n",
    "\n",
    "step03\n",
    "Generate 1000 wait times from the continuous uniform distribution that models Amir's wait time. Save this as wait_times.\n",
    "\n",
    "step04\n",
    "Create a histogram of the simulated wait times and show the plot."
   ]
  },
  {
   "cell_type": "code",
   "execution_count": 206,
   "metadata": {},
   "outputs": [
    {
     "data": {
      "image/png": "[encoded data removed]",
      "text/plain": [
       "<Figure size 640x480 with 1 Axes>"
      ]
     },
     "metadata": {},
     "output_type": "display_data"
    }
   ],
   "source": [
    "# Set random seed to 334\n",
    "np.random.seed(334)\n",
    "\n",
    "# Import uniform\n",
    "from scipy.stats import uniform\n",
    "\n",
    "# Generate 1000 wait times between 0 and 30 mins\n",
    "wait_times = uniform.rvs(0, 30, size=1000)\n",
    "\n",
    "# Create a histogram of simulated times and show plot\n",
    "plt.hist(wait_times)\n",
    "plt.show()"
   ]
  },
  {
   "cell_type": "markdown",
   "metadata": {},
   "source": [
    "#### **The binomial distribution**\n",
    "\n",
    "1. Coin flipping (Binary outcomes)\n",
    "\n",
    "A single flip\n",
    "\n",
    "binom.rvs(# of coins, probability of heads/success, size=# of trials)\n",
    "\n",
    "    1 = head\n",
    "    0 = tails\n",
    "\n",
    "from scipy.stats import binom\n",
    "binom.rvs(1, 0.5, size=1)\n",
    "\n",
    "`array([1])`\n",
    "\n",
    "2. One flip many times\n",
    "\n",
    "binom.rvs(1, 0.5, size=8)\n",
    "\n",
    "Flip `1` coin with `50%` chance of success `8` times\n",
    "\n",
    "`array([0, 1, 1, 0, 1, 0, 1, 1])`\n",
    "\n",
    "3. Many flips one time\n",
    "\n",
    "binom.rvs(8, 0.5, size=1)\n",
    "\n",
    "Flip `8` coin with `50%` chance of success `1` times\n",
    "\n",
    "`array([5])`\n",
    "\n",
    "4. Other probabilities\n",
    "\n",
    "25% head and 75% tail\n",
    "\n",
    "binom.rvs(3, 0.25, size=10)\n",
    "\n",
    "`array([1, 1, 1, 1, 0, 0, 2, 0, 1, 0])`\n",
    "\n",
    "5. Binomial distribution\n",
    "\n",
    "*Probability distribution of the number of successes in a sequence of independent trials*\n",
    "\n",
    "E.g. Number of heads in a sequence of coin flips\n",
    "\n",
    "Described by *n* and *p*\n",
    "*n*: total number of trials\n",
    "*p*: probability of success\n",
    "\n",
    "binom.rvs(3, 0.5, size=10)   *[p = 0.5, n = 10]*\n",
    "\n",
    "6. What's the probability of 7 heads?\n",
    "\n",
    "P (heads = 7)\n",
    "\n",
    "**binom.pmf(num heads, num trials, prob of heads)**\n",
    "binom.pmf(7, 10, 0.5)\n",
    "\n",
    "`0.1171875`\n",
    "\n",
    "7. What's the probability of 7 or fewer heads?\n",
    "P (heads ≤ 7)\n",
    "\n",
    "binom.cdf(7, 10, 0.5)\n",
    "`0.9453125`\n",
    "\n",
    "1 - binom.cdf(7, 10, 0.5)\n",
    "`0.0546875`\n",
    "\n",
    "8. Expected value\n",
    "\n",
    "Expected value = *n × p*\n",
    "\n",
    "Expected number of heads out of 10 flips = 10 × 0.5 = 5\n",
    "\n",
    "9. Independence\n",
    "\n",
    "*The binomial distribution is a probability distribution of the number of successes in a sequence of independent trials*\n",
    "Probabilities of second trial are altered due tooutcome of the first\n",
    "*If trials are not independent, the binomial distribution does not apply!*\n"
   ]
  },
  {
   "cell_type": "markdown",
   "metadata": {},
   "source": [
    "**Simulating sales deals**\n",
    "\n",
    "Assume that Amir usually works on 3 deals per week, and overall, he wins 30% of deals he works on. Each deal has a binary outcome: it's either lost, or won, so you can model his sales deals with a binomial distribution. In this exercise, you'll help Amir simulate a year's worth of his deals so he can better understand his performance.\n",
    "\n",
    "`numpy` is imported as `np`.\n",
    "\n",
    "STEP 01\n",
    "\n",
    "Import binom from scipy.stats and set the random seed to 10.\n",
    "\n",
    "STEP 02\n",
    "\n",
    "Simulate 1 deal worked on by Amir, who wins 30% of the deals he works on."
   ]
  },
  {
   "cell_type": "code",
   "execution_count": 207,
   "metadata": {},
   "outputs": [
    {
     "name": "stdout",
     "output_type": "stream",
     "text": [
      "[1]\n"
     ]
    }
   ],
   "source": [
    "# Import binom from scipy.stats\n",
    "from scipy.stats import binom\n",
    "\n",
    "# Set random seed to 10\n",
    "np.random.seed(10)\n",
    "\n",
    "# Simulate a single deal\n",
    "print(binom.rvs(1, 0.3, size=1))"
   ]
  },
  {
   "cell_type": "markdown",
   "metadata": {},
   "source": [
    "STEP 03\n",
    "\n",
    "Simulate a typical week of Amir's deals, or one week of 3 deals."
   ]
  },
  {
   "cell_type": "code",
   "execution_count": 208,
   "metadata": {},
   "outputs": [
    {
     "name": "stdout",
     "output_type": "stream",
     "text": [
      "[1]\n"
     ]
    }
   ],
   "source": [
    "# Import binom from scipy.stats\n",
    "from scipy.stats import binom\n",
    "\n",
    "# Set random seed to 10\n",
    "np.random.seed(10)\n",
    "\n",
    "# Simulate 1 week of 3 deals\n",
    "print(binom.rvs(3, 0.3, size=1))"
   ]
  },
  {
   "cell_type": "markdown",
   "metadata": {},
   "source": [
    "STEP 04 \n",
    "Simulate a year's worth of Amir's deals, or 52 weeks of 3 deals each, and store in deals.\n",
    "Print the mean number of deals he won per week."
   ]
  },
  {
   "cell_type": "code",
   "execution_count": 209,
   "metadata": {},
   "outputs": [
    {
     "name": "stdout",
     "output_type": "stream",
     "text": [
      "0.8269230769230769\n"
     ]
    }
   ],
   "source": [
    "# Import binom from scipy.stats\n",
    "from scipy.stats import binom\n",
    "\n",
    "# Set random seed to 10\n",
    "np.random.seed(10)\n",
    "\n",
    "# Simulate 52 weeks of 3 deals\n",
    "deals = binom.rvs(3, 0.3, size=52)\n",
    "\n",
    "# Print mean deals won per week\n",
    "print(np.mean(deals))"
   ]
  },
  {
   "cell_type": "markdown",
   "metadata": {},
   "source": [
    "**Calculating binomial probabilities**\n",
    "\n",
    "Just as in the last exercise, assume that Amir wins 30% of deals. He wants to get an idea of how likely he is to close a certain number of deals each week. In this exercise, you'll calculate what the chances are of him closing different numbers of deals using the binomial distribution.\n",
    "\n",
    "`binom` is imported from `scipy.stats.`\n",
    "\n",
    "STEP 01 \n",
    "What's the probability that Amir closes all 3 deals in a week? Save this as prob_3.\n",
    "\n",
    "STEP 02\n",
    "What's the probability that Amir closes 1 or fewer deals in a week? Save this as prob_less_than_or_equal_1.\n",
    "\n",
    "STEP 03\n",
    "What's the probability that Amir closes more than 1 deal? Save this as prob_greater_than_1."
   ]
  },
  {
   "cell_type": "code",
   "execution_count": 210,
   "metadata": {},
   "outputs": [
    {
     "name": "stdout",
     "output_type": "stream",
     "text": [
      "0.027\n",
      "0.784\n",
      "0.21599999999999997\n"
     ]
    }
   ],
   "source": [
    "# Probability of closing 3 out of 3 deals\n",
    "prob_3 = binom.pmf(3, 3, 0.3)\n",
    "\n",
    "print(prob_3)\n",
    "\n",
    "# Probability of closing <= 1 deal out of 3 deals\n",
    "prob_less_than_or_equal_1 = prob_3 = binom.cdf(1, 3, 0.3)\n",
    "\n",
    "print(prob_less_than_or_equal_1)\n",
    "\n",
    "# Probability of closing > 1 deal out of 3 deals\n",
    "prob_greater_than_1 = 1 - binom.cdf(1, 3, 0.3)\n",
    "\n",
    "print(prob_greater_than_1)\n"
   ]
  },
  {
   "cell_type": "markdown",
   "metadata": {},
   "source": [
    "**How many sales will be won?**\n",
    "\n",
    "Now Amir wants to know how many deals he can expect to close each week if his win rate changes. Luckily, you can use your binomial distribution knowledge to help him calculate the expected value in different situations. Recall from the video that the expected value of a binomial distribution can be calculated by\n",
    "*.n x p*\n",
    "\n",
    "STEPS\n",
    "Calculate the expected number of sales out of the 3 he works on that Amir will win each week if he maintains his 30% win rate.\n",
    "Calculate the expected number of sales out of the 3 he works on that he'll win if his win rate drops to 25%.\n",
    "Calculate the expected number of sales out of the 3 he works on that he'll win if his win rate rises to 35%."
   ]
  },
  {
   "cell_type": "code",
   "execution_count": 211,
   "metadata": {},
   "outputs": [
    {
     "name": "stdout",
     "output_type": "stream",
     "text": [
      "0.8999999999999999\n",
      "0.75\n",
      "1.0499999999999998\n"
     ]
    }
   ],
   "source": [
    "# Expected number won with 30% win rate\n",
    "won_30pct = 3 * 0.30\n",
    "print(won_30pct)\n",
    "\n",
    "# Expected number won with 25% win rate\n",
    "won_25pct = 3 * 0.25\n",
    "print(won_25pct)\n",
    "\n",
    "# Expected number won with 35% win rate\n",
    "won_35pct = 3 * 0.35\n",
    "print(won_35pct)"
   ]
  },
  {
   "cell_type": "markdown",
   "metadata": {},
   "source": [
    "## **More Distributions and the Central Limit Theorem  (Module 03-041)**"
   ]
  },
  {
   "cell_type": "markdown",
   "metadata": {},
   "source": [
    "#### **The normal distribution**\n",
    "\n",
    "1. What is the normal distribution?\n",
    "- Describe as a bell curve\n",
    "- Symmetrical\n",
    "- Area = 1\n",
    "- Curve never hits 0\n",
    "- Described by mean and standard deviation\n",
    "\n",
    "2. Standard normal distribution\n",
    "Mean: 0 \n",
    "Standard deviation: 1\n",
    "\n",
    "3. Areas under the normal distribution\n",
    "- 68% falls within 1 standard deviation\n",
    "- 95% falls within 2 standard deviations\n",
    "- 99.7% falls within 3 standard deviations\n",
    "\n",
    "4. Lots of histograms look normal\n",
    "Women's heights from NHANES = Normal distribution\n",
    "Mean: 161 cm\n",
    "Standard deviation: 7 cm\n",
    "\n",
    "5. Approximating data with the normal distribution\n",
    "What percent of women are shorter than 154 cm?\n",
    "\n",
    "from scipy.stats import norm\n",
    "norm.cdf(154, 161, 7)\n",
    "\n",
    "`0.158655`\n",
    "\n",
    "*16% of women in the survey are shorter than 154 cm*\n",
    "\n",
    "6. What percent of women are taller than 154 cm?\n",
    "\n",
    "from scipy.stats import norm\n",
    "1 - norm.cdf(154, 161, 7)\n",
    "`0.841345`\n",
    "\n",
    "7. What percent of women are 154-157 cm?\n",
    "\n",
    "norm.cdf(157, 161, 7) - norm.cdf(154, 161, 7)\n",
    "`0.1252`\n",
    "\n",
    "8. What height are 90% of women shorter than?\n",
    "\n",
    "norm.ppf(0.9, 161, 7)\n",
    "`169.97086`\n",
    "\n",
    "9. What height are 90% of women taller than?\n",
    "\n",
    "norm.ppf((1-0.9), 161, 7)\n",
    "`152.029`\n",
    "\n",
    "10. Generating random numbers\n",
    "\n",
    "-- Generate 10 random heights\n",
    "norm.rvs(161, 7, size=10)\n",
    "\n",
    "`array([155.5758223 , 155.13133235, 160.06377097, 168.33345778, 165.92273375, 163.32677057, 165.13280753, 146.36133538, 149.07845021, 160.5790856 ])`\n"
   ]
  },
  {
   "cell_type": "markdown",
   "metadata": {},
   "source": [
    "**Distribution of Amir's sales**\n",
    "\n",
    "Since each deal Amir worked on (both won and lost) was different, each was worth a different amount of money. These values are stored in the `amount` column of `amir_deals` As part of Amir's performance review, you want to be able to estimate the probability of him selling different `amounts`, but before you can do this, you'll need to determine what kind of distribution the amount variable follows.\n",
    "\n",
    "Both `pandas` as `pd` and `matplotlib.pyplot` as `plt` are loaded and `amir_deals` is available.\n",
    "\n",
    "STEPS\n",
    "Create a histogram with 10 bins to visualize the distribution of the amount. Show the plot."
   ]
  },
  {
   "cell_type": "code",
   "execution_count": 212,
   "metadata": {},
   "outputs": [
    {
     "data": {
      "image/png": "[encoded data removed]",
      "text/plain": [
       "<Figure size 640x480 with 1 Axes>"
      ]
     },
     "metadata": {},
     "output_type": "display_data"
    }
   ],
   "source": [
    "# Histogram of amount with 10 bins and show plot\n",
    "amir_deals['amount'].hist(bins=10)\n",
    "plt.show()"
   ]
  },
  {
   "cell_type": "markdown",
   "metadata": {},
   "source": [
    "**Probabilities from the normal distribution**\n",
    "\n",
    "Since each deal Amir worked on (both won and lost) was different, each was worth a different amount of money. These values are stored in the `amount` column of `amir_deals` and follow a normal distribution with a mean of 5000 dollars and a standard deviation of 2000 dollars. As part of his performance metrics, you want to calculate the probability of Amir closing a deal worth various amounts.\n",
    "\n",
    "`norm` from `scipy.stats` is imported as well as pandas as `pd`. The DataFrame `amir_deals` is loaded.\n",
    "\n",
    "STEP 01\n",
    "What's the probability of Amir closing a deal worth less than $7500?\n",
    "\n",
    "STEP 02\n",
    "What's the probability of Amir closing a deal worth more than $1000?\n",
    "\n",
    "STEP 03\n",
    "What's the probability of Amir closing a deal worth between $3000 and $7000?\n",
    "\n",
    "STEP 04\n",
    "What amount will 25% of Amir's sales be less than?"
   ]
  },
  {
   "cell_type": "code",
   "execution_count": 213,
   "metadata": {},
   "outputs": [
    {
     "name": "stdout",
     "output_type": "stream",
     "text": [
      "0.8943502263331446\n",
      "0.9772498680518208\n",
      "0.6826894921370859\n",
      "3651.0204996078364\n"
     ]
    }
   ],
   "source": [
    "from scipy.stats import norm\n",
    "# Probability of deal < 7500\n",
    "prob_less_7500 = norm.cdf(7500, 5000, 2000)\n",
    "\n",
    "print(prob_less_7500)\n",
    "\n",
    "# Probability of deal > 1000\n",
    "prob_over_1000 = 1 - norm.cdf(1000, 5000, 2000)\n",
    "\n",
    "print(prob_over_1000)\n",
    "\n",
    "# Probability of deal between 3000 and 7000\n",
    "prob_3000_to_7000 = norm.cdf(7000, 5000, 2000) - norm.cdf(3000, 5000, 2000)\n",
    "\n",
    "print(prob_3000_to_7000)\n",
    "\n",
    "# Calculate amount that 25% of deals will be less than\n",
    "pct_25 = norm.ppf(0.25, 5000, 2000)\n",
    "\n",
    "print(pct_25)"
   ]
  },
  {
   "cell_type": "markdown",
   "metadata": {},
   "source": [
    "**Simulating sales under new market conditions**\n",
    "\n",
    "The company's financial analyst is predicting that next quarter, the worth of each sale will increase by 20% and the volatility, or standard deviation, of each sale's worth will increase by 30%. To see what Amir's sales might look like next quarter under these new market conditions, you'll simulate new sales amounts using the normal distribution and store these in the `new_sales` DataFrame, which has already been created for you.\n",
    "\n",
    "In addition, `norm` from `scipy.stats`, `pandas` as `pd`, and `matplotlib.pyplot` as `plt` are loaded.\n",
    "\n",
    "STEPS\n",
    "-Currently, Amir's average sale amount is $5000. Calculate what his new average amount will be if it increases by 20% and store this in new_mean.\n",
    "-Amir's current standard deviation is $2000. Calculate what his new standard deviation will be if it increases by 30% and store this in new_sd.\n",
    "-Create a variable called new_sales, which contains 36 simulated amounts from a normal distribution with a mean of new_mean and a standard deviation of new_sd.\n",
    "-Plot the distribution of the new_sales amounts using a histogram and show the plot."
   ]
  },
  {
   "cell_type": "code",
   "execution_count": 214,
   "metadata": {},
   "outputs": [
    {
     "data": {
      "image/png": "[encoded data removed]",
      "text/plain": [
       "<Figure size 640x480 with 1 Axes>"
      ]
     },
     "metadata": {},
     "output_type": "display_data"
    }
   ],
   "source": [
    "# Calculate new average amount\n",
    "new_mean = 5000 + (5000*0.2)\n",
    "\n",
    "# Calculate new standard deviation\n",
    "new_sd = 2000 + (2000*0.3)\n",
    "\n",
    "# Simulate 36 new sales\n",
    "new_sales = norm.rvs(new_mean, new_sd, size=36)\n",
    "\n",
    "# Create histogram and show\n",
    "plt.hist(new_sales)\n",
    "plt.show()"
   ]
  },
  {
   "cell_type": "markdown",
   "metadata": {},
   "source": [
    "#### **The normal distribution**\n",
    "\n",
    "1. Rolling the dice 5 times"
   ]
  },
  {
   "cell_type": "code",
   "execution_count": 215,
   "metadata": {},
   "outputs": [
    {
     "name": "stdout",
     "output_type": "stream",
     "text": [
      "2    3\n",
      "5    6\n",
      "2    3\n",
      "3    4\n",
      "0    1\n",
      "dtype: int64\n"
     ]
    },
    {
     "data": {
      "text/plain": [
       "3.4"
      ]
     },
     "execution_count": 215,
     "metadata": {},
     "output_type": "execute_result"
    }
   ],
   "source": [
    "die = pd.Series([1, 2, 3, 4, 5, 6])\n",
    "# Roll 5 times\n",
    "samp_5 = die.sample(5, replace=True)\n",
    "print(samp_5)\n",
    "np.mean(samp_5)"
   ]
  },
  {
   "cell_type": "markdown",
   "metadata": {},
   "source": [
    "2. Rolling the dice 5 times 10 times\n",
    "Repeat 10 times:\n",
    "Roll 5 times\n",
    "Take the mean"
   ]
  },
  {
   "cell_type": "code",
   "execution_count": 216,
   "metadata": {},
   "outputs": [
    {
     "name": "stdout",
     "output_type": "stream",
     "text": [
      "[4.8, 4.4, 2.8, 3.6, 3.8, 3.2, 4.0, 2.6, 4.2, 2.6]\n"
     ]
    },
    {
     "data": {
      "text/plain": [
       "<function matplotlib.pyplot.show(close=None, block=None)>"
      ]
     },
     "execution_count": 216,
     "metadata": {},
     "output_type": "execute_result"
    },
    {
     "data": {
      "image/png": "[encoded data removed]",
      "text/plain": [
       "<Figure size 640x480 with 1 Axes>"
      ]
     },
     "metadata": {},
     "output_type": "display_data"
    }
   ],
   "source": [
    "sample_means = []\n",
    "for i in range(10):\n",
    "    samp_5 = die.sample(5, replace=True)\n",
    "    sample_means.append(np.mean(samp_5))\n",
    "print(sample_means)\n",
    "plt.hist(sample_means)\n",
    "plt.show"
   ]
  },
  {
   "cell_type": "markdown",
   "metadata": {},
   "source": [
    "3. 100 sample means and 1000 sample means"
   ]
  },
  {
   "cell_type": "code",
   "execution_count": 217,
   "metadata": {},
   "outputs": [
    {
     "data": {
      "text/plain": [
       "<function matplotlib.pyplot.show(close=None, block=None)>"
      ]
     },
     "execution_count": 217,
     "metadata": {},
     "output_type": "execute_result"
    },
    {
     "data": {
      "image/png": "[encoded data removed]",
      "text/plain": [
       "<Figure size 640x480 with 1 Axes>"
      ]
     },
     "metadata": {},
     "output_type": "display_data"
    }
   ],
   "source": [
    "sample_means100 = []\n",
    "for i in range(100):\n",
    "    sample_means100.append(np.mean(die.sample(5, replace=True)))\n",
    "plt.hist(sample_means100)\n",
    "plt.show"
   ]
  },
  {
   "cell_type": "code",
   "execution_count": 218,
   "metadata": {},
   "outputs": [
    {
     "data": {
      "text/plain": [
       "<function matplotlib.pyplot.show(close=None, block=None)>"
      ]
     },
     "execution_count": 218,
     "metadata": {},
     "output_type": "execute_result"
    },
    {
     "data": {
      "image/png": "[encoded data removed]",
      "text/plain": [
       "<Figure size 640x480 with 1 Axes>"
      ]
     },
     "metadata": {},
     "output_type": "display_data"
    }
   ],
   "source": [
    "sample_means1000 = []\n",
    "for i in range(1000):\n",
    "    sample_means1000.append(np.mean(die.sample(5, replace=True)))\n",
    "plt.hist(sample_means1000)\n",
    "plt.show"
   ]
  },
  {
   "cell_type": "markdown",
   "metadata": {},
   "source": [
    "4. Central limit theorem\n",
    "*The sampling distribution of a statistic becomes closer to the normal distribution as the number of trials increases.*\n",
    "Samples should be random and independent\n",
    "\n",
    "5. Standard deviation and the CLT"
   ]
  },
  {
   "cell_type": "code",
   "execution_count": 219,
   "metadata": {},
   "outputs": [
    {
     "data": {
      "text/plain": [
       "<function matplotlib.pyplot.show(close=None, block=None)>"
      ]
     },
     "execution_count": 219,
     "metadata": {},
     "output_type": "execute_result"
    },
    {
     "data": {
      "image/png": "[encoded data removed]",
      "text/plain": [
       "<Figure size 640x480 with 1 Axes>"
      ]
     },
     "metadata": {},
     "output_type": "display_data"
    }
   ],
   "source": [
    "sample_sds = []\n",
    "for i in range(1000):\n",
    "    sample_sds.append(np.std(die.sample(5, replace=True)))\n",
    "plt.hist(sample_means1000)\n",
    "plt.show"
   ]
  },
  {
   "cell_type": "markdown",
   "metadata": {},
   "source": [
    "6. Proportions and the CLT"
   ]
  },
  {
   "cell_type": "code",
   "execution_count": 220,
   "metadata": {},
   "outputs": [
    {
     "data": {
      "text/plain": [
       "1     Brian\n",
       "1     Brian\n",
       "3    Damian\n",
       "0      Amir\n",
       "3    Damian\n",
       "0      Amir\n",
       "1     Brian\n",
       "2    Claire\n",
       "2    Claire\n",
       "2    Claire\n",
       "dtype: object"
      ]
     },
     "execution_count": 220,
     "metadata": {},
     "output_type": "execute_result"
    }
   ],
   "source": [
    "sales_team = pd.Series([\"Amir\", \"Brian\", \"Claire\", \"Damian\"])\n",
    "sales_team.sample(10, replace=True)\n"
   ]
  },
  {
   "cell_type": "markdown",
   "metadata": {},
   "source": [
    "7. Sampling distribution of proportion"
   ]
  },
  {
   "cell_type": "code",
   "execution_count": 221,
   "metadata": {},
   "outputs": [
    {
     "data": {
      "text/plain": [
       "3.6"
      ]
     },
     "execution_count": 221,
     "metadata": {},
     "output_type": "execute_result"
    }
   ],
   "source": [
    "sales_team = pd.Series([\"Amir\", \"Brian\", \"Claire\", \"Damian\"])\n",
    "sales_team.sample(10, replace=True)\n",
    "\n",
    "# Estimate expected value of die\n",
    "np.mean(sample_means)"
   ]
  },
  {
   "cell_type": "markdown",
   "metadata": {},
   "source": [
    "Estimate proportion of \"Claire\"s\n",
    "np.mean(sample_props)\n",
    "\n",
    "`0.26`\n",
    "\n",
    "-Estimate characteristics of unknown\n",
    "underlying distribution\n",
    "-More easily estimate characteristics of\n",
    "large populations"
   ]
  },
  {
   "cell_type": "markdown",
   "metadata": {},
   "source": [
    "**The CLT in action**\n",
    "\n",
    "The central limit theorem states that a sampling distribution of a sample statistic approaches the normal distribution as you take more samples, no matter the original distribution being sampled from.\n",
    "\n",
    "In this exercise, you'll focus on the sample mean and see the central limit theorem in action while examining the `num_users` column of `amir_deals` more closely, which contains the number of people who intend to use the product Amir is selling.\n",
    "\n",
    "pandas as `pd`, `numpy` as `np`, and `matplotlib.pyplot` as `plt` are loaded and `amir_deals` is available.\n",
    "\n",
    "STEP 01\n",
    "Create a histogram of the num_users column of amir_deals and show the plot."
   ]
  },
  {
   "cell_type": "code",
   "execution_count": 222,
   "metadata": {},
   "outputs": [
    {
     "data": {
      "image/png": "[encoded data removed]",
      "text/plain": [
       "<Figure size 640x480 with 1 Axes>"
      ]
     },
     "metadata": {},
     "output_type": "display_data"
    }
   ],
   "source": [
    "# Create a histogram of num_users and show\n",
    "amir_deals['num_users'].hist(bins=10)\n",
    "plt.show()"
   ]
  },
  {
   "cell_type": "markdown",
   "metadata": {},
   "source": [
    "STEP 02\n",
    "Set the seed to 104.\n",
    "Take a sample of size 20 with replacement from the num_users column of amir_deals, and take the mean.\n",
    "\n",
    "STEP 03\n",
    "Repeat this 100 times using a for loop and store as sample_means. This will take 100 different samples and calculate the mean of each."
   ]
  },
  {
   "cell_type": "code",
   "execution_count": 223,
   "metadata": {},
   "outputs": [
    {
     "name": "stdout",
     "output_type": "stream",
     "text": [
      "32.0\n",
      "[31.35, 45.05, 33.55, 38.15, 50.85, 31.85, 34.65, 36.25, 38.9, 44.05, 35.45, 37.6, 37.95, 28.85, 33.3, 31.65, 45.5, 43.2, 24.4, 41.05, 37.2, 39.3, 29.45, 33.55, 45.3, 45.1, 30.95, 36.25, 37.65, 42.55, 34.55, 41.1, 36.9, 42.45, 38.45, 45.9, 42.7, 38.4, 32.55, 30.25, 38.0, 38.75, 49.3, 39.55, 49.05, 42.05, 41.0, 40.6, 58.25, 34.55, 51.2, 34.15, 36.95, 42.45, 41.85, 33.2, 36.15, 37.55, 34.2, 29.75, 42.35, 43.75, 29.0, 32.05, 31.65, 44.6, 30.85, 29.6, 37.7, 33.1, 36.35, 40.65, 45.7, 33.8, 40.1, 39.9, 33.5, 32.65, 32.85, 42.85, 35.4, 31.7, 32.0, 33.85, 36.6, 44.35, 39.9, 37.0, 37.3, 42.5, 38.35, 42.8, 44.55, 30.3, 50.45, 42.35, 40.65, 29.85, 39.3, 33.1]\n"
     ]
    }
   ],
   "source": [
    "# Set seed to 104\n",
    "np.random.seed(104)\n",
    "\n",
    "# Sample 20 num_users with replacement from amir_deals\n",
    "samp_20 = amir_deals['num_users'].sample(20, replace=True)\n",
    "\n",
    "# Take mean of samp_20\n",
    "print(np.mean(samp_20))\n",
    "\n",
    "sample_means = []\n",
    "# Loop 100 times\n",
    "for i in range(100):\n",
    "  # Take sample of 20 num_users\n",
    "  samp_20 = amir_deals['num_users'].sample(20, replace=True)\n",
    "  # Calculate mean of samp_20\n",
    "  samp_20_mean = np.mean(samp_20)\n",
    "  # Append samp_20_mean to sample_means\n",
    "  sample_means.append(samp_20_mean)\n",
    "  \n",
    "print(sample_means)"
   ]
  },
  {
   "cell_type": "markdown",
   "metadata": {},
   "source": [
    "STEP 04\n",
    "Convert sample_means into a pd.Series, create a histogram of the sample_means, and show the plot."
   ]
  },
  {
   "cell_type": "code",
   "execution_count": 241,
   "metadata": {},
   "outputs": [
    {
     "data": {
      "image/png": "[encoded data removed]",
      "text/plain": [
       "<Figure size 640x480 with 1 Axes>"
      ]
     },
     "metadata": {},
     "output_type": "display_data"
    }
   ],
   "source": [
    "# Set seed to 104\n",
    "np.random.seed(104)\n",
    "\n",
    "sample_means = []\n",
    "# Loop 100 times\n",
    "for i in range(100):\n",
    "  # Take sample of 20 num_users\n",
    "  samp_20 = amir_deals['num_users'].sample(20, replace=True)\n",
    "  # Calculate mean of samp_20\n",
    "  samp_20_mean = np.mean(samp_20)\n",
    "  # Append samp_20_mean to sample_means\n",
    "  sample_means.append(samp_20_mean)\n",
    "  \n",
    "# Convert to Series and plot histogram\n",
    "sample_means_series = pd.Series(sample_means)\n",
    "sample_means_series.hist()\n",
    "# Show plot\n",
    "plt.show()"
   ]
  },
  {
   "cell_type": "markdown",
   "metadata": {},
   "source": [
    "**The mean of means**\n",
    "\n",
    "You want to know what the average number of users (num_users) is per deal, but you want to know this number for the entire company so that you can see if Amir's deals have more or fewer users than the company's average deal. The problem is that over the past year, the company has worked on more than ten thousand deals, so it's not realistic to compile all the data. Instead, you'll estimate the mean by taking several random samples of deals, since this is much easier than collecting data from everyone in the company.\n",
    "\n",
    "`amir_deals` is available and the user data for all the company's deals is available in `all_deals`. Both pandas as `pd` and numpy as `np` are loaded.\n",
    "\n",
    "STPES\n",
    "-Set the random seed to 321.\n",
    "-Take 30 samples (with replacement) of size 20 from all_deals['num_users'] and take the mean of each sample. Store the sample means in sample_means.\n",
    "-Print the mean of sample_means.\n",
    "-Print the mean of the num_users column of amir_deals."
   ]
  },
  {
   "cell_type": "code",
   "execution_count": 250,
   "metadata": {},
   "outputs": [
    {
     "name": "stdout",
     "output_type": "stream",
     "text": [
      "0     38\n",
      "1     86\n",
      "2    174\n",
      "3    166\n",
      "4     34\n",
      "Name: num_users, dtype: object\n"
     ]
    }
   ],
   "source": [
    "#print(amir_deals.head(5))\n",
    "all_deals['num_users'] = amir_deals['num_users']*1.09\n",
    "print(all_deals.head(5))"
   ]
  },
  {
   "cell_type": "code",
   "execution_count": 251,
   "metadata": {},
   "outputs": [
    {
     "name": "stdout",
     "output_type": "stream",
     "text": [
      "42.31561666666666\n",
      "37.651685393258425\n"
     ]
    }
   ],
   "source": [
    "# Set seed to 321\n",
    "np.random.seed(321)\n",
    "\n",
    "sample_means = []\n",
    "# Loop 30 times to take 30 means\n",
    "for i in range(30):\n",
    "  # Take sample of size 20 from num_users col of all_deals with replacement\n",
    "  cur_sample = all_deals['num_users'].sample(20, replace=True)\n",
    "  # Take mean of cur_sample\n",
    "  cur_mean = np.mean(cur_sample)\n",
    "  # Append cur_mean to sample_means\n",
    "  sample_means.append(cur_mean)\n",
    "\n",
    "# Print mean of sample_means\n",
    "print(np.mean(sample_means))\n",
    "\n",
    "# Print mean of num_users in amir_deals\n",
    "print(np.mean(amir_deals['num_users']))"
   ]
  },
  {
   "cell_type": "markdown",
   "metadata": {},
   "source": [
    "#### **The Poisson distribution**\n",
    "\n",
    "1. Poisson processes\n",
    "\n",
    "Events appear to happen at a certain rate, but completely at random\n",
    "\n",
    "*Examples*\n",
    "- Number of animals adopted from an animal shelter per week.\n",
    "- Number of people arriving at a restaurant per hour\n",
    "- Number of earthquakes in California per year\n",
    "\n",
    "Time unit is irrelevant, as long as you use the same unit when talking about the same situation.\n",
    "\n",
    "2. Poisson distribution\n",
    "\n",
    "Probability of some # of events occurring over a fixed period of time\n",
    "\n",
    "*Examples*\n",
    "- Probability of ≥ 5 animals adopted from an animal shelter per week\n",
    "- Probability of 12 people arriving at a restaurant per hour\n",
    "- Probability of < 20 earthquakes in California per year\n",
    "\n",
    "3. Lambda (λ)\n",
    "\n",
    "*λ* = average number of events per time interval \n",
    "- Average number of adoptions per week = 8\n",
    "- *Lambda is the distribution's peak*\n",
    "\n",
    "4. Probability of a single value\n",
    "\n",
    "If the average number of adoptions per week is 8, what is P (# adoptions in a week = 5)?\n",
    "\n",
    "from scipy.stats import poisson\n",
    "poisson.pmf(5, 8)\n",
    "`0.09160366`\n",
    "\n",
    "5. Probability of less than or equal to\n",
    "\n",
    "If the average number of adoptions per week is 8, what is P (# adoptions in a week ≤ 5)?\n",
    "\n",
    "from scipy.stats import poisson\n",
    "poisson.cdf(5, 8)\n",
    "`0.1912361`\n",
    "\n",
    "6. Probability of greater than\n",
    "\n",
    "If the average number of adoptions per week is 8, what is P (# adoptions in a week > 5)?\n",
    "\n",
    "1 - poisson.cdf(5, 8)\n",
    "`0.8087639`\n",
    "\n",
    "If the average number of adoptions per week is 10, what is P (# adoptions in a week > 5)?\n",
    "\n",
    "1 - poisson.cdf(5, 10)\n",
    "`0.932914`\n",
    "\n",
    "7. Sampling from a Poisson distribution\n",
    "\n",
    "from scipy.stats import poisson\n",
    "poisson.rvs(8, size=10)\n",
    "`array([ 9, 9, 8, 7, 11, 3, 10, 6, 8, 14])`\n",
    "\n",
    "8. The CLT still applies! with larger numbers of sample data"
   ]
  },
  {
   "cell_type": "markdown",
   "metadata": {},
   "source": [
    "**Tracking lead responses**\n",
    "\n",
    "Your company uses sales software to keep track of new sales leads. It organizes them into a queue so that anyone can follow up on one when they have a bit of free time. Since the number of lead responses is a countable outcome over a period of time, this scenario corresponds to a Poisson distribution. On average, Amir responds to 4 leads each day. In this exercise, you'll calculate probabilities of Amir responding to different numbers of leads.\n",
    "\n",
    "STEP 01\n",
    "Import `poisson` from `scipy.stats` and calculate the probability that Amir responds to 5 leads in a day, given that he responds to an average of 4.\n",
    "\n",
    "STEP 02\n",
    "Amir's coworker responds to an average of 5.5 leads per day. What is the probability that she answers 5 leads in a day?\n",
    "\n",
    "STEP 03\n",
    "What's the probability that Amir responds to 2 or fewer leads in a day?\n",
    "\n",
    "STEP 04\n",
    "What's the probability that Amir responds to more than 10 leads in a day?"
   ]
  },
  {
   "cell_type": "code",
   "execution_count": 255,
   "metadata": {},
   "outputs": [
    {
     "name": "stdout",
     "output_type": "stream",
     "text": [
      "0.1562934518505317\n",
      "0.17140068409793663\n",
      "0.23810330555354436\n",
      "0.0028397661205137315\n"
     ]
    }
   ],
   "source": [
    "# Import poisson from scipy.stats\n",
    "from scipy.stats import poisson\n",
    "\n",
    "# Probability of 5 responses\n",
    "prob_5 = poisson.pmf(5, 4)\n",
    "\n",
    "print(prob_5)\n",
    "\n",
    "# Probability of 5 responses\n",
    "prob_coworker = poisson.pmf(5, 5.5)\n",
    "\n",
    "print(prob_coworker)\n",
    "\n",
    "# Probability of 2 or fewer responses\n",
    "prob_2_or_less = poisson.cdf(2, 4)\n",
    "\n",
    "print(prob_2_or_less)\n",
    "\n",
    "# Probability of > 10 responses\n",
    "prob_over_10 = 1 - poisson.cdf(10, 4)\n",
    "\n",
    "print(prob_over_10)"
   ]
  },
  {
   "cell_type": "markdown",
   "metadata": {},
   "source": [
    "#### **More probability distributions**\n",
    "\n",
    "1. Exponential distribution\n",
    "\n",
    "Probability of time between Poisson events\n",
    "*Examples*\n",
    "- Probability of > 1 day between adoptions\n",
    "- Probability of < 10 minutes between restaurant arrivals\n",
    "- Probability of 6-8 months between earthquakes\n",
    "Also uses lambda (rate)\n",
    "Continuous (time)\n",
    "\n",
    "2. Customer service requests\n",
    "\n",
    "On average, one customer service ticket is created every 2 minutes \n",
    "λ = 0.5 customer service tickets created each minute\n",
    "Lambda in exponential distribution\n",
    "\n",
    "3. Expected value of exponential distributions\n",
    "\n",
    "In terms of rate (Poisson):\n",
    "λ = 0.5 requests per minute\n",
    "\n",
    "In terms of time (exponential):\n",
    "1/λ = 1 request per 2 minutes\n",
    "\n",
    "4. How long until a new request is created?\n",
    "\n",
    "from scipy.stats import expon\n",
    "\n",
    "P (wait > 3 min) =\n",
    "1- expon.cdf(3, scale=0.5)\n",
    "`0.0024787521766663767`\n",
    "\n",
    "P (wait < 1 min) =\n",
    "expon.cdf(1, scale=0.5)\n",
    "`0.8646647167633873`\n",
    "\n",
    "P (1 min < wait < 3 min) =\n",
    "expon.cdf(3, scale=0.5) - expon.cdf(1, scale=0.5)\n",
    "`0.13285653105994633`\n",
    "\n",
    "5. (Student's) t-distribution\n",
    "Similar shape as the normal distribution\n",
    "\n",
    "Degrees of freedom\n",
    "Has parameter degrees of freedom (df) which a(ects the thickness of the tails\n",
    "Lower df = thicker tails, higher standard deviation\n",
    "Higher df = closer to normal distribution\n",
    "\n",
    "from scipy.stats import t\n",
    "-- generate random values from t distribution with df=6 and sample size=10\n",
    "t.rvs(df=6, size=10)\n",
    "`array([-3.95799716, -0.01099963, -0.55953846, -1.53420055, -1.41775611, -0.45384974, -0.2767931 , -0.40177789, -0.3602592 ,  0.38262431])`\n",
    "\n",
    "-- calculate p-value\n",
    "t.cdf(x=-1.5, df=10)\n",
    "`0.08225366322272008`\n",
    "\n",
    "6. Log-normal distribution\n",
    "\n",
    "Variable whose logarithm is normally\n",
    "distributed\n",
    "\n",
    "*Examples*\n",
    "-Length of chess games\n",
    "-Adult blood pressure\n",
    "-Number of hospitalizations in the 2003 SARS outbreak\n",
    "\n",
    "from scipy.stats import lognorm\n",
    "--make this example reproducible\n",
    "np.random.seed(1)\n",
    "\n",
    "--generate log-normal distributed random variable with 1000 values\n",
    "lognorm_values = lognorm.rvs(s=1, scale=math.exp(1), size=1000)\n",
    "\n",
    "--view first five values\n",
    "lognorm_values[:5]\n",
    "\n",
    "`array([13.79554017,  1.47438888,  1.60292205,  0.92963   ,  6.45856805])`"
   ]
  },
  {
   "cell_type": "markdown",
   "metadata": {},
   "source": [
    "**Modeling time between leads**\n",
    "\n",
    "To further evaluate Amir's performance, you want to know how much time it takes him to respond to a lead after he opens it. On average, it takes 2.5 hours for him to respond. In this exercise, you'll calculate probabilities of different amounts of time passing between Amir receiving a lead and sending a response.\n",
    "\n",
    "STEP 01\n",
    "Import *expon* from *scipy.stats*. What's the probability it takes Amir less than an hour to respond to a lead?\n",
    "STEP 02\n",
    "What's the probability it takes Amir more than 4 hours to respond to a lead?\n",
    "STEP 03\n",
    "What's the probability it takes Amir 3-4 hours to respond to a lead?"
   ]
  },
  {
   "cell_type": "code",
   "execution_count": 259,
   "metadata": {},
   "outputs": [
    {
     "name": "stdout",
     "output_type": "stream",
     "text": [
      "0.3296799539643607\n",
      "0.20189651799465536\n",
      "0.09929769391754684\n"
     ]
    }
   ],
   "source": [
    "# Import expon from scipy.stats\n",
    "from scipy.stats import expon\n",
    "\n",
    "# Print probability response takes < 1 hour\n",
    "print(expon.cdf(1, scale=2.5))\n",
    "\n",
    "# Print probability response takes > 4 hours\n",
    "print(1 - expon.cdf(4, scale=2.5))\n",
    "\n",
    "# Print probability response takes 3-4 hours\n",
    "print(expon.cdf(4, scale=2.5) - expon.cdf(3, scale=2.5))"
   ]
  },
  {
   "cell_type": "markdown",
   "metadata": {},
   "source": [
    "## **Correlation and Experimental Design  (Module 04-041)**"
   ]
  },
  {
   "cell_type": "markdown",
   "metadata": {},
   "source": [
    "#### **Correlation**\n",
    "\n",
    "1. "
   ]
  },
  {
   "cell_type": "markdown",
   "metadata": {},
   "source": []
  },
  {
   "cell_type": "markdown",
   "metadata": {},
   "source": [
    "# END"
   ]
  }
 ],
 "metadata": {
  "kernelspec": {
   "display_name": "Python 3.10.0 64-bit",
   "language": "python",
   "name": "python3"
  },
  "language_info": {
   "codemirror_mode": {
    "name": "ipython",
    "version": 3
   },
   "file_extension": ".py",
   "mimetype": "text/x-python",
   "name": "python",
   "nbconvert_exporter": "python",
   "pygments_lexer": "ipython3",
   "version": "3.10.0"
  },
  "orig_nbformat": 4,
  "vscode": {
   "interpreter": {
    "hash": "26de051ba29f2982a8de78e945f0abaf191376122a1563185a90213a26c5da77"
   }
  }
 },
 "nbformat": 4,
 "nbformat_minor": 2
}
