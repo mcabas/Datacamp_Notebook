{
 "cells": [
  {
   "cell_type": "markdown",
   "metadata": {},
   "source": [
    "# **DataCamp.Course_041_Introduction to Statistics in Python**\n",
    "\n",
    "### **Course Description**\n",
    "\n",
    "Course Description\n",
    "\n",
    "Statistics is the study of how to collect, analyze, and draw conclusions from data. It’s a hugely valuable tool that you can use to bring the future into focus and infer the answer to tons of questions. For example, what is the likelihood of someone purchasing your product, how many calls will your support team receive, and how many jeans sizes should you manufacture to fit 95% of the population? In this course, you'll discover how to answer questions like these as you grow your statistical skills and learn how to calculate averages, use scatterplots to show the relationship between numeric values, and calculate correlation. You'll also tackle probability, the backbone of statistical reasoning, and learn how to use Python to conduct a well-designed study to draw your own conclusions from data."
   ]
  },
  {
   "cell_type": "markdown",
   "metadata": {},
   "source": [
    "## **Summary Statistics (Module 01-041)**"
   ]
  },
  {
   "cell_type": "markdown",
   "metadata": {},
   "source": [
    "#### **What is statistics?**\n",
    "\n",
    "*The field of statistics* - the practice and study of collecting and analyzing data\n",
    "*A summary statistic* - a fact about or summary of some data\n",
    "\n",
    "*What can statistics do?*\n",
    "\n",
    "- How likely is someone to purchase a product? Are people more likely to purchase it if they can use a di(erent payment system?\n",
    "- How many occupants will your hotel have? How can you optimize occupancy?\n",
    "- How many sizes of jeans need to be manufactured so they can ,t 95% of the population?\n",
    "- Should the same number of each size be produced?\n",
    "- A/B tests: Which ad is more e(ective in getting people to purchase a product?\n",
    "\n",
    "*Types of statistics*\n",
    "\n",
    "1. Descriptive statistics: Describe and summarize data\n",
    "2. Inferential statistics: Use a sample of data to make inferences about a larger population\n",
    "\n",
    "*Types of data*\n",
    "\n",
    "1. Numeric (Quantitative)\n",
    "1.1. Continuous (Measured)\n",
    "1.2. Discrete (Counted)\n",
    "2. Categorical (Qualitative)\n",
    "2.1. Nominal (Unordered)\n",
    "2.2. Ordinal (Ordered)\n",
    "\n",
    "#### **Measures of center**\n",
    "\n",
    "1. Mean \n",
    "`import numpy as np`\n",
    "`np.mean(msleep['sleep_total'])`\n",
    "\n",
    "2. Median\n",
    "`np.median(msleep['sleep_total'])`\n",
    "\n",
    "3. Mode\n",
    "`import statistics`\n",
    "`statistics.mode(msleep['vore'])`\n",
    "\n",
    "Adding an outlier\n",
    "\n",
    "`msleep[msleep['vore'] == 'insecti']`\n",
    "`msleep[msleep['vore'] == \"insecti\"]['sleep_total'].agg([np.mean, np.median])`"
   ]
  },
  {
   "cell_type": "markdown",
   "metadata": {},
   "source": [
    "**Mean and median**\n",
    "\n",
    "In this chapter, you'll be working with the [2018 Food Carbon Footprint Index from nu3](https://www.nu3.de/blogs/nutrition/food-carbon-footprint-index-2018). The `food_consumption` dataset contains information about the kilograms of food consumed per person per year in each country in each food category (`consumption`) as well as information about the carbon footprint of that food category (`co2_emissions`) measured in kilograms of carbon dioxide, or CO2, per person per year in each country.\n",
    "\n",
    "In this exercise, you'll compute measures of center to compare food consumption in the US and Belgium using your `pandas` and `numpy` skills.\n",
    "\n",
    "`pandas` is imported as `pd` for you and `food_consumption` is pre-loaded.\n",
    "\n",
    "STEP 01\n",
    "    Import numpy with the alias np.\n",
    "    Create two DataFrames: one that holds the rows of food_consumption for 'Belgium' and another that holds rows for 'USA'. Call these be_consumption and usa_consumption.\n",
    "    Calculate the mean and median of kilograms of food consumed per person per year for both countries."
   ]
  },
  {
   "cell_type": "code",
   "execution_count": 24,
   "metadata": {},
   "outputs": [
    {
     "name": "stdout",
     "output_type": "stream",
     "text": [
      "42.13272727272727\n",
      "12.59\n",
      "44.650000000000006\n",
      "14.58\n"
     ]
    }
   ],
   "source": [
    "# Import pandas with alias pd\n",
    "import pandas as pd\n",
    "\n",
    "#Load Data\n",
    "food_consumption = pd.read_csv('datasets/food_consumption.csv')\n",
    "\n",
    "# Import numpy with alias np\n",
    "import numpy as np\n",
    "\n",
    "# Filter for Belgium\n",
    "be_consumption = food_consumption[food_consumption['country'] == 'Belgium']\n",
    "\n",
    "# Filter for USA\n",
    "usa_consumption = food_consumption[food_consumption['country'] == 'USA']\n",
    "\n",
    "# Calculate mean and median consumption in Belgium\n",
    "print(np.mean(be_consumption['consumption']))\n",
    "print(np.median(be_consumption['consumption']))\n",
    "\n",
    "# Calculate mean and median consumption in USA\n",
    "print(np.mean(usa_consumption['consumption']))\n",
    "print(np.median(usa_consumption['consumption']))"
   ]
  },
  {
   "cell_type": "markdown",
   "metadata": {},
   "source": [
    "STEP 02\n",
    "    Subset food_consumption for rows with data about Belgium and the USA.\n",
    "    Group the subsetted data by country and select only the consumption column.\n",
    "    Calculate the mean and median of the kilograms of food consumed per person per year in each country using .agg()."
   ]
  },
  {
   "cell_type": "code",
   "execution_count": 25,
   "metadata": {},
   "outputs": [
    {
     "name": "stdout",
     "output_type": "stream",
     "text": [
      "              mean  median\n",
      "country                   \n",
      "Belgium  42.132727   12.59\n",
      "USA      44.650000   14.58\n"
     ]
    }
   ],
   "source": [
    "# Import numpy as np\n",
    "import numpy as np\n",
    "\n",
    "# Subset for Belgium and USA only\n",
    "be_and_usa_list = ['Belgium','USA']\n",
    "be_and_usa = food_consumption[food_consumption['country'].isin(be_and_usa_list)]\n",
    "#df[df['Country Name'].isin(country_list)]\n",
    "\n",
    "# Group by country, select consumption column, and compute mean and median\n",
    "print(be_and_usa.groupby('country')['consumption'].agg([np.mean, np.median]))"
   ]
  },
  {
   "cell_type": "markdown",
   "metadata": {},
   "source": [
    "**Mean vs. median**\n",
    "\n",
    "In the video, you learned that the mean is the sum of all the data points divided by the total number of data points, and the median is the middle value of the dataset where 50% of the data is less than the median, and 50% of the data is greater than the median. In this exercise, you'll compare these two measures of center.\n",
    "\n",
    "`pandas` is loaded as `pd`, `numpy` is loaded as `np`, and `food_consumption` is available.\n",
    "\n",
    "STEP 01\n",
    "    Import matplotlib.pyplot with the alias plt.\n",
    "    Subset food_consumption to get the rows where food_category is 'rice'.\n",
    "    Create a histogram of co2_emission for rice and show the plot."
   ]
  },
  {
   "cell_type": "code",
   "execution_count": 26,
   "metadata": {},
   "outputs": [
    {
     "data": {
      "image/png": "[encoded data removed]",
      "text/plain": [
       "<Figure size 640x480 with 1 Axes>"
      ]
     },
     "metadata": {},
     "output_type": "display_data"
    }
   ],
   "source": [
    "# Import matplotlib.pyplot with alias plt\n",
    "import matplotlib.pyplot as plt\n",
    "\n",
    "# Subset for food_category equals rice\n",
    "rice_consumption = food_consumption[food_consumption['food_category'] == 'rice']\n",
    "\n",
    "# Histogram of co2_emission for rice and show plot\n",
    "plt.hist(rice_consumption['co2_emission'])\n",
    "plt.show()"
   ]
  },
  {
   "cell_type": "markdown",
   "metadata": {},
   "source": [
    "STEP02\n",
    "Question\n",
    "\n",
    "Take a look at the histogram you just created of different countries' CO2 emissions for rice. Which of the following terms best describes the shape of the data?\n",
    "\n",
    "*Possible Answer: Right-skewed*\n",
    "\n",
    "STEP03\n",
    "Use .agg() to calculate the mean and median of co2_emission for rice."
   ]
  },
  {
   "cell_type": "code",
   "execution_count": 27,
   "metadata": {},
   "outputs": [
    {
     "name": "stdout",
     "output_type": "stream",
     "text": [
      "mean      37.591615\n",
      "median    15.200000\n",
      "Name: co2_emission, dtype: float64\n"
     ]
    }
   ],
   "source": [
    "# Subset for food_category equals rice\n",
    "rice_consumption = food_consumption[food_consumption['food_category'] == 'rice']\n",
    "\n",
    "# Calculate mean and median of co2_emission with .agg()\n",
    "print(rice_consumption['co2_emission'].agg([np.mean, np.median]))"
   ]
  },
  {
   "cell_type": "markdown",
   "metadata": {},
   "source": [
    "Question\n",
    "\n",
    "Given the skew of this data, what measure of central tendency best summarizes the kilograms of CO2 emissions per person per year for rice?\n",
    "\n",
    "*Possible Answer: median*"
   ]
  },
  {
   "cell_type": "markdown",
   "metadata": {},
   "source": [
    "#### **Measures of spread**\n",
    "\n",
    "1. Variance: Average distance from each data point to the data's mean. Use np.var()\n",
    "\n",
    "`np.var(msleep['sleep_total'], ddof=1)`\n",
    "\n",
    "Without ddof=1 , population variance is\n",
    "calculated instead of sample variance:\n",
    "\n",
    "`np.var(msleep['sleep_total'])`\n",
    "\n",
    "2. Standard deviation\n",
    "\n",
    "`np.std(msleep['sleep_total'], ddof=1)`\n",
    "\n",
    "3. Mean absolute deviation\n",
    "\n",
    "`dists = msleep['sleep_total'] - mean(msleep$sleep_total)`\n",
    "`np.mean(np.abs(dists))`\n",
    "\n",
    "Standard deviation vs. mean absolute deviation\n",
    "Standard deviation squares distances, penalizing longer distances more than shorter ones.\n",
    "Mean absolute deviation penalizes each distance equally.\n",
    "One isn't better than the other, but SD is more common than MAD.\n",
    "\n",
    "4. Quantiles\n",
    "\n",
    "0.5 quantile = median\n",
    "`np.quantile(msleep['sleep_total'], 0.5)`\n",
    "\n",
    "Quartiles: \n",
    "`np.quantile(msleep['sleep_total'], [0, 0.25, 0.5, 0.75, 1])`\n",
    "\n",
    "5. Boxplots use quartiles\n",
    "\n",
    "`import matplotlib.pyplot as plt`\n",
    "`plt.boxplot(msleep['sleep_total'])`\n",
    "`plt.show()`\n",
    "\n",
    "6. Quantiles using np.linspace()\n",
    "\n",
    "`np.quantile(msleep['sleep_total'], [0, 0.2, 0.4, 0.6, 0.8, 1])`\n",
    "array([ 1.9 , 6.24, 9.48, 11.14, 14.4 , 19.9 ])\n",
    "\n",
    "`np.linspace(start, stop, num)`\n",
    "\n",
    "`np.quantile(msleep['sleep_total'], np.linspace(0, 1, 5))`\n",
    "array([ 1.9 , 7.85, 10.1 , 13.75, 19.9 ])\n",
    "\n",
    "7. Interquartile range (IQR): Height of the box in a boxplot\n",
    "\n",
    "`np.quantile(msleep['sleep_total'], 0.75) - np.quantile(msleep['sleep_total'], 0.25)`\n",
    "\n",
    "`from scipy.stats import iqr`\n",
    "`iqr(msleep['sleep_total'])`\n",
    "\n",
    "8. Outliers: data point that is substantially different from the others\n",
    "\n",
    "How do we know what a substantial di(erence is? A data point is an outlier if:\n",
    "\n",
    "data < Q1 − 1.5 × IQR or\n",
    "data > Q3 + 1.5 × IQR\n",
    "\n",
    "Finding outliers:\n",
    "\n",
    "`from scipy.stats import iqr`\n",
    "`iqr = iqr(msleep['bodywt'])`\n",
    "`lower_threshold = np.quantile(msleep['bodywt'], 0.25) - 1.5 * iqr`\n",
    "`upper_threshold = np.quantile(msleep['bodywt'], 0.75) + 1.5 * iqr`\n",
    "`msleep[(msleep['bodywt'] < lower_threshold) | (msleep['bodywt'] > upper_threshold)]`\n",
    "\n",
    "9. **All in one go**\n",
    "\n",
    "`msleep['bodywt'].describe()`\n"
   ]
  },
  {
   "cell_type": "markdown",
   "metadata": {},
   "source": [
    "**Quartiles, quantiles, and quintiles**\n",
    "\n",
    "Quantiles are a great way of summarizing numerical data since they can be used to measure center and spread, as well as to get a sense of where a data point stands in relation to the rest of the data set. For example, you might want to give a discount to the 10% most active users on a website.\n",
    "\n",
    "In this exercise, you'll calculate quartiles, quintiles, and deciles, which split up a dataset into 4, 5, and 10 pieces, respectively.\n",
    "\n",
    "Both `pandas` as `pd` and `numpy` as `np` are loaded and `food_consumption` is available.\n",
    "\n",
    "STEP01\n",
    "\n",
    "Calculate the quartiles of the co2_emission column of food_consumption"
   ]
  },
  {
   "cell_type": "code",
   "execution_count": 28,
   "metadata": {},
   "outputs": [
    {
     "name": "stdout",
     "output_type": "stream",
     "text": [
      "[   0.        5.21     16.53     62.5975 1712.    ]\n"
     ]
    }
   ],
   "source": [
    "# Calculate the quartiles of co2_emission\n",
    "print(np.quantile(food_consumption['co2_emission'], [0, 0.25, 0.5, 0.75, 1]))"
   ]
  },
  {
   "cell_type": "markdown",
   "metadata": {},
   "source": [
    "STEP 02\n",
    "\n",
    "Calculate the six quantiles that split up the data into 5 pieces (quintiles) of the co2_emission column of food_consumption."
   ]
  },
  {
   "cell_type": "code",
   "execution_count": 29,
   "metadata": {},
   "outputs": [
    {
     "name": "stdout",
     "output_type": "stream",
     "text": [
      "[   0.       3.54    11.026   25.59    99.978 1712.   ]\n"
     ]
    }
   ],
   "source": [
    "# Calculate the quintiles of co2_emission\n",
    "print(np.quantile(food_consumption['co2_emission'], [0, 0.2, 0.4, 0.6, 0.8, 1]))"
   ]
  },
  {
   "cell_type": "markdown",
   "metadata": {},
   "source": [
    "STEP 03\n",
    "\n",
    "Calculate the eleven quantiles of co2_emission that split up the data into ten pieces (deciles)."
   ]
  },
  {
   "cell_type": "code",
   "execution_count": 30,
   "metadata": {},
   "outputs": [
    {
     "name": "stdout",
     "output_type": "stream",
     "text": [
      "[0.00000e+00 6.68000e-01 3.54000e+00 7.04000e+00 1.10260e+01 1.65300e+01\n",
      " 2.55900e+01 4.42710e+01 9.99780e+01 2.03629e+02 1.71200e+03]\n"
     ]
    }
   ],
   "source": [
    "print(np.quantile(food_consumption['co2_emission'], np.linspace(0, 1, 11)))"
   ]
  },
  {
   "cell_type": "markdown",
   "metadata": {},
   "source": [
    "**Variance and standard deviation**\n",
    "\n",
    "Variance and standard deviation are two of the most common ways to measure the spread of a variable, and you'll practice calculating these in this exercise. Spread is important since it can help inform expectations. For example, if a salesperson sells a mean of 20 products a day, but has a standard deviation of 10 products, there will probably be days where they sell 40 products, but also days where they only sell one or two. Information like this is important, especially when making predictions.\n",
    "\n",
    "Both `pandas` as `pd` and `numpy` as `np` are loaded, and `food_consumption` is available."
   ]
  },
  {
   "cell_type": "code",
   "execution_count": 31,
   "metadata": {},
   "outputs": [
    {
     "name": "stdout",
     "output_type": "stream",
     "text": [
      "                        var         std\n",
      "food_category                          \n",
      "beef           88748.408132  297.906710\n",
      "dairy          17671.891985  132.935669\n",
      "eggs              21.371819    4.622966\n",
      "fish             921.637349   30.358481\n",
      "lamb_goat      16475.518363  128.356996\n",
      "nuts              35.639652    5.969895\n",
      "pork            3094.963537   55.632396\n",
      "poultry          245.026801   15.653332\n",
      "rice            2281.376243   47.763754\n",
      "soybeans           0.879882    0.938020\n",
      "wheat             71.023937    8.427570\n"
     ]
    },
    {
     "data": {
      "image/png": "[encoded data removed]",
      "text/plain": [
       "<Figure size 640x480 with 1 Axes>"
      ]
     },
     "metadata": {},
     "output_type": "display_data"
    },
    {
     "data": {
      "image/png": "[encoded data removed]",
      "text/plain": [
       "<Figure size 640x480 with 1 Axes>"
      ]
     },
     "metadata": {},
     "output_type": "display_data"
    }
   ],
   "source": [
    "# Print variance and sd of co2_emission for each food_category\n",
    "print(food_consumption.groupby('food_category')['co2_emission'].agg([np.var, np.std]))\n",
    "\n",
    "# Import matplotlib.pyplot with alias plt\n",
    "import matplotlib.pyplot as plt\n",
    "\n",
    "# Create histogram of co2_emission for food_category 'beef'\n",
    "plt.hist(food_consumption[food_consumption['food_category'] == 'beef']['co2_emission'])\n",
    "# Show plot\n",
    "plt.show()\n",
    "\n",
    "# Create histogram of co2_emission for food_category 'eggs'\n",
    "plt.hist(food_consumption[food_consumption['food_category'] == 'eggs']['co2_emission'])\n",
    "# Show plot\n",
    "plt.show()"
   ]
  },
  {
   "cell_type": "markdown",
   "metadata": {},
   "source": [
    "**Finding outliers using IQR**\n",
    "\n",
    "Outliers can have big effects on statistics like mean, as well as statistics that rely on the mean, such as variance and standard deviation. Interquartile range, or IQR, is another way of measuring spread that's less influenced by outliers. IQR is also often used to find outliers. \n",
    "If a value is less than **Q1 -1.5 x IQR** or greater than **Q3 +1.5 x IQR**, it's considered an outlier. In fact, this is how the lengths of the whiskers in a matplotlib box plot are calculated.\n",
    "\n",
    "![Diagram of a box plot showing median, quartiles, and outliers](/'datasets/iqr.png')\n",
    "\n",
    "In this exercise, you'll calculate IQR and use it to find some outliers. `pandas` as `pd` and `numpy` as `np` are loaded and `food_consumption` is available.\n",
    "\n",
    "STEP 01\n",
    "Calculate the total co2_emission per country by grouping by country and taking the sum of co2_emission. Store the resulting DataFrame as emissions_by_country.\n",
    "\n",
    "STEP 02\n",
    "Compute the first and third quartiles of emissions_by_country and store these as q1 and q3.\n",
    "Calculate the interquartile range of emissions_by_country and store it as iqr.\n",
    "\n",
    "STEP 03\n",
    "Calculate the lower and upper cutoffs for outliers of emissions_by_country, and store these as lower and upper.\n",
    "\n",
    "STEP 04\n",
    "Subset emissions_by_country to get countries with a total emission greater than the upper cutoff or a total emission less than the lower cutoff."
   ]
  },
  {
   "cell_type": "code",
   "execution_count": 32,
   "metadata": {},
   "outputs": [
    {
     "name": "stdout",
     "output_type": "stream",
     "text": [
      "country\n",
      "Albania      1777.85\n",
      "Algeria       707.88\n",
      "Angola        412.99\n",
      "Argentina    2172.40\n",
      "Armenia      1109.93\n",
      "              ...   \n",
      "Uruguay      1634.91\n",
      "Venezuela    1104.10\n",
      "Vietnam       641.51\n",
      "Zambia        225.30\n",
      "Zimbabwe      350.33\n",
      "Name: co2_emission, Length: 130, dtype: float64\n"
     ]
    }
   ],
   "source": [
    "# Calculate total co2_emission per country: emissions_by_country\n",
    "emissions_by_country = food_consumption.groupby('country')['co2_emission'].sum()\n",
    "\n",
    "print(emissions_by_country)"
   ]
  },
  {
   "cell_type": "code",
   "execution_count": 33,
   "metadata": {},
   "outputs": [],
   "source": [
    "# Calculate total co2_emission per country: emissions_by_country\n",
    "emissions_by_country = food_consumption.groupby('country')['co2_emission'].sum()\n",
    "\n",
    "# Compute the first and third quartiles and IQR of emissions_by_country\n",
    "q1 = np.quantile(emissions_by_country, 0.25)\n",
    "q3 = np.quantile(emissions_by_country, 0.75)\n",
    "iqr = q3 - q1"
   ]
  },
  {
   "cell_type": "code",
   "execution_count": 34,
   "metadata": {},
   "outputs": [],
   "source": [
    "# Calculate total co2_emission per country: emissions_by_country\n",
    "emissions_by_country = food_consumption.groupby('country')['co2_emission'].sum()\n",
    "\n",
    "# Compute the first and third quantiles and IQR of emissions_by_country\n",
    "q1 = np.quantile(emissions_by_country, 0.25)\n",
    "q3 = np.quantile(emissions_by_country, 0.75)\n",
    "iqr = q3 - q1\n",
    "\n",
    "# Calculate the lower and upper cutoffs for outliers\n",
    "lower = q1 - 1.5 * iqr\n",
    "upper = q3 + 1.5 * iqr"
   ]
  },
  {
   "cell_type": "code",
   "execution_count": 35,
   "metadata": {},
   "outputs": [
    {
     "name": "stdout",
     "output_type": "stream",
     "text": [
      "country\n",
      "Argentina    2172.4\n",
      "Name: co2_emission, dtype: float64\n"
     ]
    }
   ],
   "source": [
    "# Calculate total co2_emission per country: emissions_by_country\n",
    "emissions_by_country = food_consumption.groupby('country')['co2_emission'].sum()\n",
    "\n",
    "# Compute the first and third quantiles and IQR of emissions_by_country\n",
    "q1 = np.quantile(emissions_by_country, 0.25)\n",
    "q3 = np.quantile(emissions_by_country, 0.75)\n",
    "iqr = q3 - q1\n",
    "\n",
    "# Calculate the lower and upper cutoffs for outliers\n",
    "lower = q1 - 1.5 * iqr\n",
    "upper = q3 + 1.5 * iqr\n",
    "\n",
    "# Subset emissions_by_country to find outliers\n",
    "outliers = emissions_by_country[(emissions_by_country < lower) | (emissions_by_country > upper)]\n",
    "print(outliers)"
   ]
  },
  {
   "cell_type": "markdown",
   "metadata": {},
   "source": [
    "## **Random Numbers and Probability (Module 02-041)**"
   ]
  },
  {
   "cell_type": "markdown",
   "metadata": {},
   "source": [
    "#### **What are the chances?**\n",
    "\n",
    "Measuring chance\n",
    "What's the probability of an event?\n",
    "\n",
    "P (event) = # ways event can happen / total # of possible outcomes\n",
    "\n",
    "Example: a coin flip\n",
    "P (heads) = 1 way to get heads / 2 possible outcomes = 1 / 2 = 0.5 = 50% chance of getting heads\n",
    "\n",
    "Example: a coin \n",
    "\n",
    "Example 2: sales people\n",
    "\n",
    "Sales = [Amir, Brian, Claire, Damian]\n",
    "\n",
    "P(Brian) = 1 / 4 = 25% change of selecting Brian\n",
    "\n",
    "1. Sampling from a DataFrame\n",
    "\n",
    "`print(sales_counts)`\n",
    "\n",
    "`sales_counts.sample()`\n",
    "\n",
    "2. Setting a random seed\n",
    "\n",
    "`np.random.seed(10)`\n",
    "\n",
    "`sales_counts.sample()`\n",
    "\n",
    "3. Sampling without replacement\n",
    "\n",
    "A second meeting happen when Brian was bussy\n",
    "\n",
    "Sales = [Amir, Claire, Damian]\n",
    "\n",
    "P(Claire) = 1 / 3 = 33% change of selecting Claire\n",
    "\n",
    "Sampling twice in Python\n",
    "\n",
    "`sales_counts.sample(2)`\n",
    "\n",
    "4. Sampling with replacement\n",
    "\n",
    "A second meeting happen when Brian was available\n",
    "\n",
    "Sales = [Amir, Brian, Claire, Damian]\n",
    "\n",
    "P(Claire) = 1 / 4 = 25% change of selecting Claire\n",
    "\n",
    "Sampling with/without replacement in Python\n",
    "\n",
    "`sales_counts.sample(5, replace = True)`\n",
    "\n",
    "5. Independent events\n",
    "\n",
    "Two events are independent if the probability of the second event isn't a(ected by the outcome of the first event.\n",
    "\n",
    "Sampling with replacement = each pick is independent\n",
    "\n",
    "6. Dependent events\n",
    "\n",
    "Two events are dependent if the probability of the second event is a(ected by the outcome of the first event.\n",
    "\n",
    "Sampling without replacement = each pick is dependent\n"
   ]
  },
  {
   "cell_type": "markdown",
   "metadata": {},
   "source": [
    "**Calculating probabilities**\n",
    "\n",
    "You're in charge of the sales team, and it's time for performance reviews, starting with Amir. As part of the review, you want to randomly select a few of the deals that he's worked on over the past year so that you can look at them more deeply. Before you start selecting deals, you'll first figure out what the chances are of selecting certain deals.\n",
    "\n",
    "Recall that the probability of an event can be calculated by\n",
    "\n",
    "P (event) = # ways event can happen / total # of possible outcomes\n",
    "\n",
    "Both `pandas` as `pd` and `numpy` as `np` are loaded and `amir_deals` is available.\n",
    "\n",
    "STEP 01\n",
    "Count the number of deals Amir worked on for each product type and store in counts.\n",
    "\n",
    "STEP 02\n",
    "Calculate the probability of selecting a deal for the different product types by dividing the counts by the total number of deals Amir worked on. Save this as probs.\n"
   ]
  },
  {
   "cell_type": "code",
   "execution_count": 36,
   "metadata": {},
   "outputs": [
    {
     "name": "stdout",
     "output_type": "stream",
     "text": [
      "Product B    0.348315\n",
      "Product D    0.224719\n",
      "Product A    0.129213\n",
      "Product C    0.084270\n",
      "Product F    0.061798\n",
      "Product H    0.044944\n",
      "Product I    0.039326\n",
      "Product E    0.028090\n",
      "Product N    0.016854\n",
      "Product G    0.011236\n",
      "Product J    0.011236\n",
      "Name: product, dtype: float64\n"
     ]
    }
   ],
   "source": [
    "#Load Data\n",
    "amir_deals = pd.read_csv('datasets/amir_deals.csv')\n",
    "\n",
    "# Count the deals for each product\n",
    "counts = amir_deals['product'].value_counts()\n",
    "\n",
    "# Calculate probability of picking a deal with each product\n",
    "probs = counts / counts.sum()\n",
    "print(probs)"
   ]
  },
  {
   "cell_type": "markdown",
   "metadata": {},
   "source": [
    "**Sampling deals**\n",
    "\n",
    "In the previous exercise, you counted the deals Amir worked on. Now it's time to randomly pick five deals so that you can reach out to each customer and ask if they were satisfied with the service they received. You'll try doing this both with and without replacement.\n",
    "\n",
    "Additionally, you want to make sure this is done randomly and that it can be reproduced in case you get asked how you chose the deals, so you'll need to set the random seed before sampling from the deals.\n",
    "\n",
    "Both `pandas` as `pd` and `numpy` as `np` are loaded and `amir_deals` is available.\n",
    "\n",
    "STEP01\n",
    "Set the random seed to 24.\n",
    "Take a sample of 5 deals without replacement and store them as sample_without_replacement.\n"
   ]
  },
  {
   "cell_type": "code",
   "execution_count": 37,
   "metadata": {},
   "outputs": [
    {
     "name": "stdout",
     "output_type": "stream",
     "text": [
      "     Unnamed: 0    product   client status   amount  num_users\n",
      "127         128  Product B  Current    Won  2070.25          7\n",
      "148         149  Product D  Current    Won  3485.48         52\n",
      "77           78  Product B  Current    Won  6252.30         27\n",
      "104         105  Product D  Current    Won  4110.98         39\n",
      "166         167  Product C      New   Lost  3779.86         11\n"
     ]
    }
   ],
   "source": [
    "# Set random seed\n",
    "np.random.seed(24)\n",
    "\n",
    "# Sample 5 deals without replacement\n",
    "sample_without_replacement = amir_deals.sample(5)\n",
    "print(sample_without_replacement)"
   ]
  },
  {
   "cell_type": "markdown",
   "metadata": {},
   "source": [
    "STEP 02\n",
    "Take a sample of 5 deals with replacement and save as sample_with_replacement."
   ]
  },
  {
   "cell_type": "code",
   "execution_count": 38,
   "metadata": {},
   "outputs": [
    {
     "name": "stdout",
     "output_type": "stream",
     "text": [
      "     Unnamed: 0    product   client status   amount  num_users\n",
      "162         163  Product D  Current    Won  6755.66         59\n",
      "131         132  Product B  Current    Won  6872.29         25\n",
      "87           88  Product C  Current    Won  3579.63          3\n",
      "145         146  Product A  Current    Won  4682.94         63\n",
      "145         146  Product A  Current    Won  4682.94         63\n"
     ]
    }
   ],
   "source": [
    "# Set random seed\n",
    "np.random.seed(24)\n",
    "\n",
    "# Sample 5 deals with replacement\n",
    "sample_with_replacement = amir_deals.sample(5, replace = True)\n",
    "print(sample_with_replacement)"
   ]
  },
  {
   "cell_type": "markdown",
   "metadata": {},
   "source": [
    "#### **Discrete distributions**\n",
    "\n",
    "Probability distribution: Describes the probability of each possible outcome in a scenario\n",
    "Expected value: mean of a probability distribution\n",
    "\n",
    "Discrete probability distributions: Describe probabilities for discrete outcomes\n",
    "\n",
    "1. Sampling from discrete distributions\n",
    "\n",
    "print(die)\n",
    "\n",
    "np.mean(die['number'])\n",
    "\n",
    "rolls_10 = die.sample(10, replace = True)\n",
    "\n",
    "rolls_10\n",
    "\n",
    "2. Visualizing a sample\n",
    "\n",
    "rolls_10['number'].hist(bins=np.linspace(1,7,7))\n",
    "plt.show()\n",
    "\n",
    "4. Sample distribution vs. theoretical distribution\n",
    "\n",
    "TEORICAL\n",
    "mean(die['number']) = 3.5\n",
    "\n",
    "SAMPLE\n",
    "np.mean(rolls_10['number']) = 3.0\n",
    "np.mean(rolls_100['number']) = 3.4\n",
    "np.mean(rolls_1000['number']) = 3.48\n",
    "\n",
    "5. Law of large numbers\n",
    "As the size of your sample increases, the sample mean will approach the expected value."
   ]
  },
  {
   "cell_type": "markdown",
   "metadata": {},
   "source": [
    "**Creating a probability distribution**\n",
    "\n",
    "A new restaurant opened a few months ago, and the restaurant's management wants to optimize its seating space based on the size of the groups that come most often. On one night, there are 10 groups of people waiting to be seated at the restaurant, but instead of being called in the order they arrived, they will be called randomly. In this exercise, you'll investigate the probability of groups of different sizes getting picked first. Data on each of the ten groups is contained in the `restaurant_groups` DataFrame.\n",
    "\n",
    "Remember that expected value can be calculated by multiplying each possible outcome with its corresponding probability and taking the sum. The `restaurant_groups` data is available. `pandas` is loaded as `pd`, `numpy` is loaded as `np`, and `matplotlib.pyplot` is loaded as `plt`.\n",
    "\n",
    "STEP 01\n",
    "\n",
    "Create a histogram of the `group_size` column of `restaurant_groups`, setting `bins` to `[2, 3, 4, 5, 6]`. Remember to show the plot."
   ]
  },
  {
   "cell_type": "code",
   "execution_count": 39,
   "metadata": {},
   "outputs": [
    {
     "data": {
      "image/png": "[encoded data removed]",
      "text/plain": [
       "<Figure size 640x480 with 1 Axes>"
      ]
     },
     "metadata": {},
     "output_type": "display_data"
    }
   ],
   "source": [
    "restaurantg = {'group_size' : [2,2,2,2,2,2,3,4,4,5], 'col2':[1,2,3,4,5,6,7,8,9,10]}\n",
    "restaurant_groups = pd.DataFrame(data=restaurantg)\n",
    "\n",
    "# Create a histogram of restaurant_groups and show plot\n",
    "restaurant_groups['group_size'].hist(bins=[2, 3, 4, 5, 6])\n",
    "plt.show()"
   ]
  },
  {
   "cell_type": "markdown",
   "metadata": {},
   "source": [
    "STEP 02\n",
    "\n",
    "Count the number of each group_size in restaurant_groups, then divide by the number of rows in restaurant_groups to calculate the probability of randomly selecting a group of each size. Save as size_dist.\n",
    "Reset the index of size_dist.\n",
    "Rename the columns of size_dist to group_size and prob."
   ]
  },
  {
   "cell_type": "code",
   "execution_count": 43,
   "metadata": {},
   "outputs": [
    {
     "name": "stdout",
     "output_type": "stream",
     "text": [
      "   group_size  prob\n",
      "0           2   0.6\n",
      "1           4   0.2\n",
      "2           3   0.1\n",
      "3           5   0.1\n"
     ]
    }
   ],
   "source": [
    "# Create probability distribution\n",
    "size_dist = restaurant_groups['group_size'].value_counts() / restaurant_groups.shape[0]\n",
    "# Reset index and rename columns\n",
    "size_dist = size_dist.reset_index()\n",
    "size_dist.columns = ['group_size', 'prob']\n",
    "\n",
    "print(size_dist)"
   ]
  },
  {
   "cell_type": "markdown",
   "metadata": {},
   "source": [
    "STEP 03\n",
    "Calculate the expected value of the size_distribution, which represents the expected group size, by multiplying the group_size by the prob and taking the sum."
   ]
  },
  {
   "cell_type": "code",
   "execution_count": 44,
   "metadata": {},
   "outputs": [
    {
     "name": "stdout",
     "output_type": "stream",
     "text": [
      "2.8\n"
     ]
    }
   ],
   "source": [
    "# Create probability distribution\n",
    "size_dist = restaurant_groups['group_size'].value_counts() / restaurant_groups.shape[0]\n",
    "# Reset index and rename columns\n",
    "size_dist = size_dist.reset_index()\n",
    "size_dist.columns = ['group_size', 'prob']\n",
    "\n",
    "# Calculate expected value\n",
    "expected_value = np.sum(size_dist['group_size'] * size_dist['prob'])\n",
    "print(expected_value)"
   ]
  },
  {
   "cell_type": "markdown",
   "metadata": {},
   "source": [
    "STEP 04\n",
    "Calculate the probability of randomly picking a group of 4 or more people by subsetting for groups of size 4 or more and summing the probabilities of selecting those groups."
   ]
  },
  {
   "cell_type": "code",
   "execution_count": 47,
   "metadata": {},
   "outputs": [
    {
     "name": "stdout",
     "output_type": "stream",
     "text": [
      "0.30000000000000004\n"
     ]
    }
   ],
   "source": [
    "# Create probability distribution\n",
    "size_dist = restaurant_groups['group_size'].value_counts() / restaurant_groups.shape[0]\n",
    "# Reset index and rename columns\n",
    "size_dist = size_dist.reset_index()\n",
    "size_dist.columns = ['group_size', 'prob']\n",
    "\n",
    "# Expected value\n",
    "expected_value = np.sum(size_dist['group_size'] * size_dist['prob'])\n",
    "\n",
    "# Subset groups of size 4 or more\n",
    "groups_4_or_more = size_dist[size_dist['group_size'] >= 4]\n",
    "\n",
    "# Sum the probabilities of groups_4_or_more\n",
    "prob_4_or_more = np.sum(groups_4_or_more['prob'])\n",
    "print(prob_4_or_more)"
   ]
  },
  {
   "cell_type": "markdown",
   "metadata": {},
   "source": [
    "#### **Continuous distributions**\n",
    "\n",
    "1. Waiting for the bus\n",
    "\n",
    "2. Uniform distribution in Python\n",
    "P (wait time ≤ 7)\n",
    "\n",
    "from scipy.stats import uniform\n",
    "uniform.cdf(7, 0, 12)\n",
    "\n",
    "`0.5833333`\n",
    "\n",
    "3. \"Greater than\" probabilities\n",
    "P (wait time ≥ 7) = 1 − P (wait time ≤ 7)\n",
    "\n",
    "from scipy.stats import uniform\n",
    "1 - uniform.cdf(7, 0, 12)\n",
    "\n",
    "`0.4166667`\n",
    "\n",
    "4. in between\n",
    "P (4 ≤ wait time ≤ 7)\n",
    "\n",
    "from scipy.stats import uniform \n",
    "uniform.cdf(7,0,12) - uniform.cdf(4,0,12)\n",
    "\n",
    "`0.25`\n",
    "\n",
    "5. Total area = 1\n",
    "P (0 ≤ wait time ≤ 12) = ?\n",
    "P(0 ≤ outcome ≤ 12) = 12 × 1 / 12 = 1\n",
    "\n",
    "6. Generating random numbers according to uniform distribution\n",
    "\n",
    "from scipy.stats import uniform\n",
    "uniform.rvs(0, 5, size=10)\n",
    "\n",
    "`array([1.89740094, 4.70673196, 0.33224683, 1.0137103 , 2.31641255, 3.49969897, 0.29688598, 0.92057234, 4.71086658, 1.56815855])`\n",
    "\n",
    "7. Other continuous distributions: Normal distribution, Exponential distribution"
   ]
  },
  {
   "cell_type": "markdown",
   "metadata": {},
   "source": [
    "**Data back-ups**\n",
    "\n",
    "The sales software used at your company is set to automatically back itself up, but no one knows exactly what time the back-ups happen. It is known, however, that back-ups happen exactly every 30 minutes. Amir comes back from sales meetings at random times to update the data on the client he just met with. He wants to know how long he'll have to wait for his newly-entered data to get backed up. Use your new knowledge of continuous uniform distributions to model this situation and answer Amir's questions.\n",
    "\n",
    "STEP 01\n",
    "To model how long Amir will wait for a back-up using a continuous uniform distribution, save his lowest possible wait time as min_time and his longest possible wait time as max_time. Remember that back-ups happen every 30 minutes.\n",
    "\n",
    "STEP 02\n",
    "Import uniform from scipy.stats and calculate the probability that Amir has to wait less than 5 minutes, and store in a variable called prob_less_than_5\n",
    "\n",
    "STEP 03\n",
    "Calculate the probability that Amir has to wait more than 5 minutes, and store in a variable called prob_greater_than_5.\n",
    "\n",
    "STEP 04"
   ]
  },
  {
   "cell_type": "code",
   "execution_count": 49,
   "metadata": {},
   "outputs": [
    {
     "name": "stdout",
     "output_type": "stream",
     "text": [
      "0.16666666666666666\n",
      "0.8333333333333334\n",
      "0.3333333333333333\n"
     ]
    }
   ],
   "source": [
    "# Min and max wait times for back-up that happens every 30 min\n",
    "min_time = 0\n",
    "max_time = 30\n",
    "\n",
    "# Import uniform from scipy.stats\n",
    "from scipy.stats import uniform\n",
    "\n",
    "# Calculate probability of waiting less than 5 mins\n",
    "prob_less_than_5 = uniform.cdf(5, 0, 30)\n",
    "print(prob_less_than_5)\n",
    "\n",
    "# Calculate probability of waiting more than 5 mins\n",
    "prob_greater_than_5 = 1 - uniform.cdf(5, 0, 30)\n",
    "print(prob_greater_than_5)\n",
    "\n",
    "# Calculate probability of waiting 10-20 mins\n",
    "prob_between_10_and_20 = uniform.cdf(20, 0, 30) - uniform.cdf(10, 0, 30)\n",
    "print(prob_between_10_and_20)"
   ]
  },
  {
   "cell_type": "markdown",
   "metadata": {},
   "source": [
    "**Simulating wait times**\n",
    "\n",
    "To give Amir a better idea of how long he'll have to wait, you'll simulate Amir waiting 1000 times and create a histogram to show him what he should expect. Recall from the last exercise that his minimum wait time is 0 minutes and his maximum wait time is 30 minutes.\n",
    "\n",
    "As usual, `pandas` as `pd`, `numpy` as `np`, and `matplotlib.pyplot` as `plt` are loaded.\n",
    "\n",
    "step 01\n",
    "Set the random seed to 334.\n",
    "\n",
    "step02\n",
    "Import uniform from scipy.stats.\n",
    "\n",
    "step03\n",
    "Generate 1000 wait times from the continuous uniform distribution that models Amir's wait time. Save this as wait_times.\n",
    "\n",
    "step04\n",
    "Create a histogram of the simulated wait times and show the plot."
   ]
  },
  {
   "cell_type": "code",
   "execution_count": 50,
   "metadata": {},
   "outputs": [
    {
     "data": {
      "image/png": "[encoded data removed]",
      "text/plain": [
       "<Figure size 640x480 with 1 Axes>"
      ]
     },
     "metadata": {},
     "output_type": "display_data"
    }
   ],
   "source": [
    "# Set random seed to 334\n",
    "np.random.seed(334)\n",
    "\n",
    "# Import uniform\n",
    "from scipy.stats import uniform\n",
    "\n",
    "# Generate 1000 wait times between 0 and 30 mins\n",
    "wait_times = uniform.rvs(0, 30, size=1000)\n",
    "\n",
    "# Create a histogram of simulated times and show plot\n",
    "plt.hist(wait_times)\n",
    "plt.show()"
   ]
  },
  {
   "cell_type": "markdown",
   "metadata": {},
   "source": [
    "#### **The binomial distribution**\n",
    "\n",
    "1. Coin flipping (Binary outcomes)\n",
    "\n",
    "A single flip\n",
    "\n",
    "binom.rvs(# of coins, probability of heads/success, size=# of trials)\n",
    "\n",
    "    1 = head\n",
    "    0 = tails\n",
    "\n",
    "from scipy.stats import binom\n",
    "binom.rvs(1, 0.5, size=1)\n",
    "\n",
    "`array([1])`\n",
    "\n",
    "2. One flip many times\n",
    "\n",
    "binom.rvs(1, 0.5, size=8)\n",
    "\n",
    "Flip `1` coin with `50%` chance of success `8` times\n",
    "\n",
    "`array([0, 1, 1, 0, 1, 0, 1, 1])`\n",
    "\n",
    "3. Many flips one time\n",
    "\n",
    "binom.rvs(8, 0.5, size=1)\n",
    "\n",
    "Flip `8` coin with `50%` chance of success `1` times\n",
    "\n",
    "`array([5])`\n",
    "\n",
    "4. Other probabilities\n",
    "\n",
    "25% head and 75% tail\n",
    "\n",
    "binom.rvs(3, 0.25, size=10)\n",
    "\n",
    "`array([1, 1, 1, 1, 0, 0, 2, 0, 1, 0])`\n",
    "\n",
    "5. Binomial distribution\n",
    "\n",
    "*Probability distribution of the number of successes in a sequence of independent trials*\n",
    "\n",
    "E.g. Number of heads in a sequence of coin flips\n",
    "\n",
    "Described by *n* and *p*\n",
    "*n*: total number of trials\n",
    "*p*: probability of success\n",
    "\n",
    "binom.rvs(3, 0.5, size=10)   *[p = 0.5, n = 10]*\n",
    "\n",
    "6. What's the probability of 7 heads?\n",
    "\n",
    "P (heads = 7)\n",
    "\n",
    "**binom.pmf(num heads, num trials, prob of heads)**\n",
    "binom.pmf(7, 10, 0.5)\n",
    "\n",
    "`0.1171875`\n",
    "\n",
    "7. What's the probability of 7 or fewer heads?\n",
    "P (heads ≤ 7)\n",
    "\n",
    "binom.cdf(7, 10, 0.5)\n",
    "`0.9453125`\n",
    "\n",
    "1 - binom.cdf(7, 10, 0.5)\n",
    "`0.0546875`\n",
    "\n",
    "8. Expected value\n",
    "\n",
    "Expected value = *n × p*\n",
    "\n",
    "Expected number of heads out of 10 flips = 10 × 0.5 = 5\n",
    "\n",
    "9. Independence\n",
    "\n",
    "*The binomial distribution is a probability distribution of the number of successes in a sequence of independent trials*\n",
    "Probabilities of second trial are altered due tooutcome of the first\n",
    "*If trials are not independent, the binomial distribution does not apply!*\n"
   ]
  },
  {
   "cell_type": "markdown",
   "metadata": {},
   "source": [
    "**Simulating sales deals**\n",
    "\n",
    "Assume that Amir usually works on 3 deals per week, and overall, he wins 30% of deals he works on. Each deal has a binary outcome: it's either lost, or won, so you can model his sales deals with a binomial distribution. In this exercise, you'll help Amir simulate a year's worth of his deals so he can better understand his performance.\n",
    "\n",
    "`numpy` is imported as `np`.\n",
    "\n",
    "STEP 01\n",
    "\n",
    "Import binom from scipy.stats and set the random seed to 10.\n",
    "\n",
    "STEP 02\n",
    "\n",
    "Simulate 1 deal worked on by Amir, who wins 30% of the deals he works on."
   ]
  },
  {
   "cell_type": "code",
   "execution_count": 51,
   "metadata": {},
   "outputs": [
    {
     "name": "stdout",
     "output_type": "stream",
     "text": [
      "[1]\n"
     ]
    }
   ],
   "source": [
    "# Import binom from scipy.stats\n",
    "from scipy.stats import binom\n",
    "\n",
    "# Set random seed to 10\n",
    "np.random.seed(10)\n",
    "\n",
    "# Simulate a single deal\n",
    "print(binom.rvs(1, 0.3, size=1))"
   ]
  },
  {
   "cell_type": "markdown",
   "metadata": {},
   "source": [
    "STEP 03\n",
    "\n",
    "Simulate a typical week of Amir's deals, or one week of 3 deals."
   ]
  },
  {
   "cell_type": "code",
   "execution_count": 52,
   "metadata": {},
   "outputs": [
    {
     "name": "stdout",
     "output_type": "stream",
     "text": [
      "[1]\n"
     ]
    }
   ],
   "source": [
    "# Import binom from scipy.stats\n",
    "from scipy.stats import binom\n",
    "\n",
    "# Set random seed to 10\n",
    "np.random.seed(10)\n",
    "\n",
    "# Simulate 1 week of 3 deals\n",
    "print(binom.rvs(3, 0.3, size=1))"
   ]
  },
  {
   "cell_type": "markdown",
   "metadata": {},
   "source": [
    "STEP 04 \n",
    "Simulate a year's worth of Amir's deals, or 52 weeks of 3 deals each, and store in deals.\n",
    "Print the mean number of deals he won per week."
   ]
  },
  {
   "cell_type": "code",
   "execution_count": 53,
   "metadata": {},
   "outputs": [
    {
     "name": "stdout",
     "output_type": "stream",
     "text": [
      "0.8269230769230769\n"
     ]
    }
   ],
   "source": [
    "# Import binom from scipy.stats\n",
    "from scipy.stats import binom\n",
    "\n",
    "# Set random seed to 10\n",
    "np.random.seed(10)\n",
    "\n",
    "# Simulate 52 weeks of 3 deals\n",
    "deals = binom.rvs(3, 0.3, size=52)\n",
    "\n",
    "# Print mean deals won per week\n",
    "print(np.mean(deals))"
   ]
  },
  {
   "cell_type": "markdown",
   "metadata": {},
   "source": [
    "**Calculating binomial probabilities**\n",
    "\n",
    "Just as in the last exercise, assume that Amir wins 30% of deals. He wants to get an idea of how likely he is to close a certain number of deals each week. In this exercise, you'll calculate what the chances are of him closing different numbers of deals using the binomial distribution.\n",
    "\n",
    "`binom` is imported from `scipy.stats.`\n",
    "\n",
    "STEP 01 \n",
    "What's the probability that Amir closes all 3 deals in a week? Save this as prob_3.\n",
    "\n",
    "STEP 02\n",
    "What's the probability that Amir closes 1 or fewer deals in a week? Save this as prob_less_than_or_equal_1.\n",
    "\n",
    "STEP 03\n",
    "What's the probability that Amir closes more than 1 deal? Save this as prob_greater_than_1."
   ]
  },
  {
   "cell_type": "code",
   "execution_count": 56,
   "metadata": {},
   "outputs": [
    {
     "name": "stdout",
     "output_type": "stream",
     "text": [
      "0.027\n",
      "0.784\n",
      "0.21599999999999997\n"
     ]
    }
   ],
   "source": [
    "# Probability of closing 3 out of 3 deals\n",
    "prob_3 = binom.pmf(3, 3, 0.3)\n",
    "\n",
    "print(prob_3)\n",
    "\n",
    "# Probability of closing <= 1 deal out of 3 deals\n",
    "prob_less_than_or_equal_1 = prob_3 = binom.cdf(1, 3, 0.3)\n",
    "\n",
    "print(prob_less_than_or_equal_1)\n",
    "\n",
    "# Probability of closing > 1 deal out of 3 deals\n",
    "prob_greater_than_1 = 1 - binom.cdf(1, 3, 0.3)\n",
    "\n",
    "print(prob_greater_than_1)\n"
   ]
  },
  {
   "cell_type": "markdown",
   "metadata": {},
   "source": [
    "**How many sales will be won?**\n",
    "\n",
    "Now Amir wants to know how many deals he can expect to close each week if his win rate changes. Luckily, you can use your binomial distribution knowledge to help him calculate the expected value in different situations. Recall from the video that the expected value of a binomial distribution can be calculated by\n",
    "*.n x p*\n",
    "\n",
    "STEPS\n",
    "Calculate the expected number of sales out of the 3 he works on that Amir will win each week if he maintains his 30% win rate.\n",
    "Calculate the expected number of sales out of the 3 he works on that he'll win if his win rate drops to 25%.\n",
    "Calculate the expected number of sales out of the 3 he works on that he'll win if his win rate rises to 35%."
   ]
  },
  {
   "cell_type": "code",
   "execution_count": 57,
   "metadata": {},
   "outputs": [
    {
     "name": "stdout",
     "output_type": "stream",
     "text": [
      "0.8999999999999999\n",
      "0.75\n",
      "1.0499999999999998\n"
     ]
    }
   ],
   "source": [
    "# Expected number won with 30% win rate\n",
    "won_30pct = 3 * 0.30\n",
    "print(won_30pct)\n",
    "\n",
    "# Expected number won with 25% win rate\n",
    "won_25pct = 3 * 0.25\n",
    "print(won_25pct)\n",
    "\n",
    "# Expected number won with 35% win rate\n",
    "won_35pct = 3 * 0.35\n",
    "print(won_35pct)"
   ]
  },
  {
   "cell_type": "markdown",
   "metadata": {},
   "source": [
    "## **More Distributions and the Central Limit Theorem  (Module 03-041)**"
   ]
  },
  {
   "cell_type": "markdown",
   "metadata": {},
   "source": [
    "#### **The normal distribution**\n",
    "\n",
    "1. What is the normal distribution?\n",
    "- Describe as a bell curve\n",
    "- Symmetrical\n",
    "- Area = 1\n",
    "- Curve never hits 0\n",
    "- Described by mean and standard deviation\n",
    "\n",
    "2. Standard normal distribution\n",
    "Mean: 0 \n",
    "Standard deviation: 1\n",
    "\n",
    "3. Areas under the normal distribution\n",
    "- 68% falls within 1 standard deviation\n",
    "- 95% falls within 2 standard deviations\n",
    "- 99.7% falls within 3 standard deviations\n",
    "\n",
    "4. Lots of histograms look normal\n",
    "Women's heights from NHANES = Normal distribution\n",
    "Mean: 161 cm\n",
    "Standard deviation: 7 cm\n",
    "\n",
    "5. Approximating data with the normal distribution\n",
    "What percent of women are shorter than 154 cm?\n",
    "\n",
    "from scipy.stats import norm\n",
    "norm.cdf(154, 161, 7)\n",
    "\n",
    "`0.158655`\n",
    "\n",
    "*16% of women in the survey are shorter than 154 cm*\n",
    "\n",
    "6. What percent of women are taller than 154 cm?\n",
    "\n",
    "from scipy.stats import norm\n",
    "1 - norm.cdf(154, 161, 7)\n",
    "`0.841345`\n",
    "\n",
    "7. What percent of women are 154-157 cm?\n",
    "\n",
    "norm.cdf(157, 161, 7) - norm.cdf(154, 161, 7)\n",
    "`0.1252`\n",
    "\n",
    "8. What height are 90% of women shorter than?\n",
    "\n",
    "norm.ppf(0.9, 161, 7)\n",
    "`169.97086`\n",
    "\n",
    "9. What height are 90% of women taller than?\n",
    "\n",
    "norm.ppf((1-0.9), 161, 7)\n",
    "`152.029`\n",
    "\n",
    "10. Generating random numbers\n",
    "\n",
    "-- Generate 10 random heights\n",
    "norm.rvs(161, 7, size=10)\n",
    "\n",
    "`array([155.5758223 , 155.13133235, 160.06377097, 168.33345778, 165.92273375, 163.32677057, 165.13280753, 146.36133538, 149.07845021, 160.5790856 ])`\n"
   ]
  },
  {
   "cell_type": "markdown",
   "metadata": {},
   "source": [
    "**Distribution of Amir's sales**\n",
    "\n",
    "Since each deal Amir worked on (both won and lost) was different, each was worth a different amount of money. These values are stored in the `amount` column of `amir_deals` As part of Amir's performance review, you want to be able to estimate the probability of him selling different `amounts`, but before you can do this, you'll need to determine what kind of distribution the amount variable follows.\n",
    "\n",
    "Both `pandas` as `pd` and `matplotlib.pyplot` as `plt` are loaded and `amir_deals` is available.\n",
    "\n",
    "STEPS\n",
    "Create a histogram with 10 bins to visualize the distribution of the amount. Show the plot."
   ]
  },
  {
   "cell_type": "code",
   "execution_count": null,
   "metadata": {},
   "outputs": [],
   "source": []
  },
  {
   "cell_type": "markdown",
   "metadata": {},
   "source": [
    "## **Correlation and Experimental Design  (Module 04-041)**"
   ]
  },
  {
   "cell_type": "markdown",
   "metadata": {},
   "source": [
    "# END"
   ]
  }
 ],
 "metadata": {
  "kernelspec": {
   "display_name": "Python 3.10.0 64-bit",
   "language": "python",
   "name": "python3"
  },
  "language_info": {
   "codemirror_mode": {
    "name": "ipython",
    "version": 3
   },
   "file_extension": ".py",
   "mimetype": "text/x-python",
   "name": "python",
   "nbconvert_exporter": "python",
   "pygments_lexer": "ipython3",
   "version": "3.10.0"
  },
  "orig_nbformat": 4,
  "vscode": {
   "interpreter": {
    "hash": "26de051ba29f2982a8de78e945f0abaf191376122a1563185a90213a26c5da77"
   }
  }
 },
 "nbformat": 4,
 "nbformat_minor": 2
}
