{
 "cells": [
  {
   "cell_type": "markdown",
   "metadata": {},
   "source": [
    "# **DataCamp.Course_044_Introduction to NumPy**\n",
    "\n",
    "### **Course Description**\n",
    "\n",
    "NumPy is an essential Python library. TensorFlow and scikit-learn use NumPy arrays as inputs, and pandas and Matplotlib are built on top of NumPy. In this Introduction to NumPy course, you'll become a master wrangler of NumPy's core object: arrays! Using data from New York City's tree census, you'll create, sort, filter, and update arrays. You'll discover why NumPy is so efficient and use broadcasting and vectorization to make your NumPy code even faster. By the end of the course, you'll be using 3D arrays to alter a Claude Monet painting, and you'll understand why such array alterations are essential tools for machine learning."
   ]
  },
  {
   "cell_type": "markdown",
   "metadata": {},
   "source": [
    "## **Understanding NumPy Arrays (Module 01-044)**"
   ]
  },
  {
   "cell_type": "markdown",
   "metadata": {},
   "source": [
    "#### **Introducing arrays**\n",
    "\n",
    "1. NumPy and the Python ecosystem\n",
    "\n",
    "2. NumPy arrays\n",
    "\n",
    "3. Importing NumPy\n",
    "\n",
    "import numpy as np\n",
    "\n",
    "4. Creating 1D arrays from lists\n",
    "\n",
    "python_list = [3, 2, 5, 8, 4, 9, 7, 6, 1]\n",
    "array = np.array(python_list)\n",
    "array\n",
    "\n",
    "`array([3, 2, 5, 8, 4, 9, 7, 6, 1])`\n",
    "\n",
    "type(array)\n",
    "`numpy.ndarray`\n",
    "\n",
    "5. Creating 2D arrays from lists\n",
    "\n",
    "python_list_of_lists = [[3, 2, 5],\n",
    "[9, 7, 1],\n",
    "[4, 3, 6]]\n",
    "np.array(python_list_of_lists)\n",
    "\n",
    "`array([[3, 2, 5],`\n",
    "`[9, 7, 1],`\n",
    "`[4, 3, 6]])`\n",
    "\n",
    "*Python lists*\n",
    "- Can contain many di(erent data types\n",
    "python_list = [\"beep\", False, 56, .945, [3, 2, 5]]\n",
    "\n",
    "*NumPy arrays*\n",
    "- Can contain only a single data type\n",
    "- Use less space in memory\n",
    "\n",
    "numpy_boolean_array = [[True, False], [True, True], [False, True]]\n",
    "numpy_float_array = [1.9, 5.4, 8.8, 3.6, 3.2]\n",
    "\n",
    "6. Creating arrays from scratch\n",
    "\n",
    "There are many NumPy functions used to create arrays from scratch, including:\n",
    "- np.zeros()\n",
    "- np.random.random()\n",
    "- np.arange() \n",
    "\n",
    "7. Creating arrays: np.zeros()\n",
    "\n",
    "np.zeros((5, 3))\n",
    "\n",
    "8. Creating arrays: np.random.random()\n",
    "\n",
    "np.random.random((2, 4))\n",
    "\n",
    "9. Creating arrays with np.arange()\n",
    "\n",
    "np.arange(-3, 4)\n",
    "`array([-3, -2, -1, 0, 1, 2, 3])`\n",
    "\n",
    "np.arange(4)\n",
    "`array([0, 1, 2, 3])`\n",
    "\n",
    "np.arange(-3, 4, 3)\n",
    "`array([-3, 0, 3])`\n",
    "\n",
    "from matplotlib import pyplot as plt\n",
    "plt.scatter(np.arange(0, 7),\n",
    "np.arange(-3, 4))\n",
    "plt.show()"
   ]
  },
  {
   "cell_type": "markdown",
   "metadata": {},
   "source": [
    "**Your first NumPy array**\n",
    "\n",
    "Once you're comfortable with NumPy, you'll find yourself converting Python lists into NumPy arrays all the time for increased speed and access to NumPy's excellent array methods.\n",
    "\n",
    "`sudoku_list` is a Python list containing a sudoku game:\n",
    "\n",
    "[[0, 0, 4, 3, 0, 0, 2, 0, 9],\n",
    " [0, 0, 5, 0, 0, 9, 0, 0, 1],\n",
    " [0, 7, 0, 0, 6, 0, 0, 4, 3],\n",
    " [0, 0, 6, 0, 0, 2, 0, 8, 7],\n",
    " [1, 9, 0, 0, 0, 7, 4, 0, 0],\n",
    " [0, 5, 0, 0, 8, 3, 0, 0, 0],\n",
    " [6, 0, 0, 0, 0, 0, 1, 0, 5],\n",
    " [0, 0, 3, 5, 0, 8, 6, 9, 0],\n",
    " [0, 4, 2, 9, 1, 0, 3, 0, 0]]\n",
    "\n",
    "You're going to change `sudoku_list` into a NumPy array so you can practice with it in later lessons, for example by creating a 4D array of sudoku games along with their solutions!\n",
    "\n",
    "STEPS\n",
    "    Import NumPy using its generally accepted alias.\n",
    "    Convert sudoku_list into a NumPy array called sudoku_array.\n",
    "    Print the class type() of sudoku_array to check that your code has worked properly."
   ]
  },
  {
   "cell_type": "code",
   "execution_count": 10,
   "metadata": {},
   "outputs": [
    {
     "name": "stdout",
     "output_type": "stream",
     "text": [
      "<class 'numpy.ndarray'>\n"
     ]
    }
   ],
   "source": [
    "# Import NumPy\n",
    "import numpy as np\n",
    "\n",
    "sudoku_list = np.load('G:\\My Drive\\Data Science\\Datacamp_Notebook\\Datacamp_Notebook\\datasets\\sudoku_game.npy')\n",
    "\n",
    "# Convert sudoku_list into an array\n",
    "sudoku_array = np.array(sudoku_list)\n",
    "\n",
    "# Print the type of sudoku_array \n",
    "print(type(sudoku_array))"
   ]
  },
  {
   "cell_type": "markdown",
   "metadata": {},
   "source": [
    "**Creating arrays from scratch**\n",
    "\n",
    "It can be helpful to know how to create quick NumPy arrays from scratch in order to test your code. For example, when you are doing math with large multi-dimensional arrays, it's nice to check whether the math works as expected on small test arrays before applying your code to the larger arrays. NumPy has many options for creating smaller synthetic arrays.\n",
    "\n",
    "With this in mind, it's time for you to create some arrays from scratch! `numpy` is imported for you as `np`.\n",
    "\n",
    "STEP 01\n",
    "    Create and print an array filled with zeros called zero_array, which has two rows and four columns.\n",
    "STEP 02\n",
    "    Create and print an array of random floats between 0 and 1 called random_array, which has three rows and six columns."
   ]
  },
  {
   "cell_type": "code",
   "execution_count": 12,
   "metadata": {},
   "outputs": [
    {
     "name": "stdout",
     "output_type": "stream",
     "text": [
      "[[0. 0. 0. 0.]\n",
      " [0. 0. 0. 0.]]\n",
      "[[6.86298165e-01 8.45963720e-01 7.31451404e-01 4.51979030e-01\n",
      "  1.30154277e-01 6.06984791e-01]\n",
      " [8.15524811e-01 5.35623437e-01 6.51271786e-01 9.46828288e-01\n",
      "  7.68583230e-01 5.60489381e-05]\n",
      " [8.75811571e-01 4.44428666e-02 3.51114583e-01 9.59530216e-01\n",
      "  3.60702214e-01 8.38939137e-01]]\n"
     ]
    }
   ],
   "source": [
    "# Create an array of zeros which has four columns and two rows\n",
    "zero_array = np.zeros((2, 4))\n",
    "print(zero_array)\n",
    "\n",
    "# Create an array of random floats which has six columns and three rows\n",
    "random_array = np.random.random((3, 6))\n",
    "print(random_array)"
   ]
  },
  {
   "cell_type": "markdown",
   "metadata": {},
   "source": [
    "**A range array**\n",
    "\n",
    "`np.arange()` has especially useful applications in graphing. Your task is to create a scatter plot with the values from `doubling_array` on the y-axis.\n",
    "\n",
    "`doubling_array = [1, 2, 4, 8, 16, 32, 64, 128, 256, 512]`\n",
    "\n",
    "Recall that a scatter plot can be created using the following code:\n",
    "\n",
    "`plt.scatter(x_values, y_values)`\n",
    "\n",
    "`plt.show()`\n",
    "\n",
    "With `doubling_array` on the y-axis, you now need values for the x-axis, which you can create with `np.arange()`!\n",
    "\n",
    "`numpy` is loaded for you as `np`, and `matplotlib.pyplot` is imported as `plt`."
   ]
  },
  {
   "cell_type": "code",
   "execution_count": 15,
   "metadata": {},
   "outputs": [
    {
     "data": {
      "image/png": "[encoded data removed]",
      "text/plain": [
       "<Figure size 640x480 with 1 Axes>"
      ]
     },
     "metadata": {},
     "output_type": "display_data"
    }
   ],
   "source": [
    "import matplotlib.pyplot as plt\n",
    "\n",
    "doubling_array1 = [1, 2, 4, 8, 16, 32, 64, 128, 256, 512]\n",
    "doubling_array = np.array(doubling_array1)\n",
    "\n",
    "# Create an array of integers from one to ten\n",
    "one_to_ten = np.arange(1, 11)\n",
    "\n",
    "# Create your scatterplot\n",
    "plt.scatter(one_to_ten, doubling_array )\n",
    "plt.show()"
   ]
  },
  {
   "cell_type": "markdown",
   "metadata": {},
   "source": [
    "#### **Array dimensionality**\n",
    "\n",
    "1. "
   ]
  },
  {
   "cell_type": "markdown",
   "metadata": {},
   "source": [
    "## **Selecting and Updating Data (Module 02-044)**"
   ]
  },
  {
   "cell_type": "markdown",
   "metadata": {},
   "source": [
    "## **Array Mathematics! (Module 03-044)**"
   ]
  },
  {
   "cell_type": "markdown",
   "metadata": {},
   "source": [
    "## **Array Transformations (Module 04-044)**"
   ]
  },
  {
   "cell_type": "code",
   "execution_count": 2,
   "metadata": {},
   "outputs": [
    {
     "name": "stdout",
     "output_type": "stream",
     "text": [
      "hello\n"
     ]
    }
   ],
   "source": [
    "print(\"hello\")"
   ]
  }
 ],
 "metadata": {
  "kernelspec": {
   "display_name": "Python 3.10.0 64-bit",
   "language": "python",
   "name": "python3"
  },
  "language_info": {
   "codemirror_mode": {
    "name": "ipython",
    "version": 3
   },
   "file_extension": ".py",
   "mimetype": "text/x-python",
   "name": "python",
   "nbconvert_exporter": "python",
   "pygments_lexer": "ipython3",
   "version": "3.10.0"
  },
  "orig_nbformat": 4,
  "vscode": {
   "interpreter": {
    "hash": "26de051ba29f2982a8de78e945f0abaf191376122a1563185a90213a26c5da77"
   }
  }
 },
 "nbformat": 4,
 "nbformat_minor": 2
}
