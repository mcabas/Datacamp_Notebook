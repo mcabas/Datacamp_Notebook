{
 "cells": [
  {
   "cell_type": "markdown",
   "metadata": {},
   "source": [
    "# **DataCamp.Course_044_Introduction to NumPy**\n",
    "\n",
    "### **Course Description**\n",
    "\n",
    "NumPy is an essential Python library. TensorFlow and scikit-learn use NumPy arrays as inputs, and pandas and Matplotlib are built on top of NumPy. In this Introduction to NumPy course, you'll become a master wrangler of NumPy's core object: arrays! Using data from New York City's tree census, you'll create, sort, filter, and update arrays. You'll discover why NumPy is so efficient and use broadcasting and vectorization to make your NumPy code even faster. By the end of the course, you'll be using 3D arrays to alter a Claude Monet painting, and you'll understand why such array alterations are essential tools for machine learning."
   ]
  },
  {
   "cell_type": "markdown",
   "metadata": {},
   "source": [
    "## **Understanding NumPy Arrays (Module 01-044)**"
   ]
  },
  {
   "cell_type": "markdown",
   "metadata": {},
   "source": [
    "#### **Introducing arrays**\n",
    "\n",
    "1. NumPy and the Python ecosystem\n",
    "\n",
    "2. NumPy arrays\n",
    "\n",
    "3. Importing NumPy\n",
    "\n",
    "import numpy as np\n",
    "\n",
    "4. Creating 1D arrays from lists\n",
    "\n",
    "python_list = [3, 2, 5, 8, 4, 9, 7, 6, 1]\n",
    "array = np.array(python_list)\n",
    "array\n",
    "\n",
    "`array([3, 2, 5, 8, 4, 9, 7, 6, 1])`\n",
    "\n",
    "type(array)\n",
    "`numpy.ndarray`\n",
    "\n",
    "5. Creating 2D arrays from lists\n",
    "\n",
    "python_list_of_lists = [[3, 2, 5],\n",
    "[9, 7, 1],\n",
    "[4, 3, 6]]\n",
    "np.array(python_list_of_lists)\n",
    "\n",
    "`array([[3, 2, 5],`\n",
    "`[9, 7, 1],`\n",
    "`[4, 3, 6]])`\n",
    "\n",
    "*Python lists*\n",
    "- Can contain many di(erent data types\n",
    "python_list = [\"beep\", False, 56, .945, [3, 2, 5]]\n",
    "\n",
    "*NumPy arrays*\n",
    "- Can contain only a single data type\n",
    "- Use less space in memory\n",
    "\n",
    "numpy_boolean_array = [[True, False], [True, True], [False, True]]\n",
    "numpy_float_array = [1.9, 5.4, 8.8, 3.6, 3.2]\n",
    "\n",
    "6. Creating arrays from scratch\n",
    "\n",
    "There are many NumPy functions used to create arrays from scratch, including:\n",
    "- np.zeros()\n",
    "- np.random.random()\n",
    "- np.arange() \n",
    "\n",
    "7. Creating arrays: np.zeros()\n",
    "\n",
    "np.zeros((5, 3))\n",
    "\n",
    "8. Creating arrays: np.random.random()\n",
    "\n",
    "np.random.random((2, 4))\n",
    "\n",
    "9. Creating arrays with np.arange()\n",
    "\n",
    "np.arange(-3, 4)\n",
    "`array([-3, -2, -1, 0, 1, 2, 3])`\n",
    "\n",
    "np.arange(4)\n",
    "`array([0, 1, 2, 3])`\n",
    "\n",
    "np.arange(-3, 4, 3)\n",
    "`array([-3, 0, 3])`\n",
    "\n",
    "from matplotlib import pyplot as plt\n",
    "plt.scatter(np.arange(0, 7),\n",
    "np.arange(-3, 4))\n",
    "plt.show()"
   ]
  },
  {
   "cell_type": "markdown",
   "metadata": {},
   "source": [
    "**Your first NumPy array**\n",
    "\n",
    "Once you're comfortable with NumPy, you'll find yourself converting Python lists into NumPy arrays all the time for increased speed and access to NumPy's excellent array methods.\n",
    "\n",
    "`sudoku_list` is a Python list containing a sudoku game:\n",
    "\n",
    "[[0, 0, 4, 3, 0, 0, 2, 0, 9],\n",
    " [0, 0, 5, 0, 0, 9, 0, 0, 1],\n",
    " [0, 7, 0, 0, 6, 0, 0, 4, 3],\n",
    " [0, 0, 6, 0, 0, 2, 0, 8, 7],\n",
    " [1, 9, 0, 0, 0, 7, 4, 0, 0],\n",
    " [0, 5, 0, 0, 8, 3, 0, 0, 0],\n",
    " [6, 0, 0, 0, 0, 0, 1, 0, 5],\n",
    " [0, 0, 3, 5, 0, 8, 6, 9, 0],\n",
    " [0, 4, 2, 9, 1, 0, 3, 0, 0]]\n",
    "\n",
    "You're going to change `sudoku_list` into a NumPy array so you can practice with it in later lessons, for example by creating a 4D array of sudoku games along with their solutions!\n",
    "\n",
    "STEPS\n",
    "    Import NumPy using its generally accepted alias.\n",
    "    Convert sudoku_list into a NumPy array called sudoku_array.\n",
    "    Print the class type() of sudoku_array to check that your code has worked properly."
   ]
  },
  {
   "cell_type": "code",
   "execution_count": 3,
   "metadata": {},
   "outputs": [
    {
     "name": "stdout",
     "output_type": "stream",
     "text": [
      "<class 'numpy.ndarray'>\n"
     ]
    }
   ],
   "source": [
    "# Import NumPy\n",
    "import numpy as np\n",
    "\n",
    "sudoku_game = np.load('G:\\My Drive\\Data Science\\Datacamp_Notebook\\Datacamp_Notebook\\datasets\\sudoku_game.npy')\n",
    "\n",
    "# Convert sudoku_list into an array\n",
    "sudoku_array = np.array(sudoku_game)\n",
    "\n",
    "# Print the type of sudoku_array \n",
    "print(type(sudoku_array))"
   ]
  },
  {
   "cell_type": "markdown",
   "metadata": {},
   "source": [
    "**Creating arrays from scratch**\n",
    "\n",
    "It can be helpful to know how to create quick NumPy arrays from scratch in order to test your code. For example, when you are doing math with large multi-dimensional arrays, it's nice to check whether the math works as expected on small test arrays before applying your code to the larger arrays. NumPy has many options for creating smaller synthetic arrays.\n",
    "\n",
    "With this in mind, it's time for you to create some arrays from scratch! `numpy` is imported for you as `np`.\n",
    "\n",
    "STEP 01\n",
    "    Create and print an array filled with zeros called zero_array, which has two rows and four columns.\n",
    "STEP 02\n",
    "    Create and print an array of random floats between 0 and 1 called random_array, which has three rows and six columns."
   ]
  },
  {
   "cell_type": "code",
   "execution_count": 12,
   "metadata": {},
   "outputs": [
    {
     "name": "stdout",
     "output_type": "stream",
     "text": [
      "[[0. 0. 0. 0.]\n",
      " [0. 0. 0. 0.]]\n",
      "[[6.86298165e-01 8.45963720e-01 7.31451404e-01 4.51979030e-01\n",
      "  1.30154277e-01 6.06984791e-01]\n",
      " [8.15524811e-01 5.35623437e-01 6.51271786e-01 9.46828288e-01\n",
      "  7.68583230e-01 5.60489381e-05]\n",
      " [8.75811571e-01 4.44428666e-02 3.51114583e-01 9.59530216e-01\n",
      "  3.60702214e-01 8.38939137e-01]]\n"
     ]
    }
   ],
   "source": [
    "# Create an array of zeros which has four columns and two rows\n",
    "zero_array = np.zeros((2, 4))\n",
    "print(zero_array)\n",
    "\n",
    "# Create an array of random floats which has six columns and three rows\n",
    "random_array = np.random.random((3, 6))\n",
    "print(random_array)"
   ]
  },
  {
   "cell_type": "markdown",
   "metadata": {},
   "source": [
    "**A range array**\n",
    "\n",
    "`np.arange()` has especially useful applications in graphing. Your task is to create a scatter plot with the values from `doubling_array` on the y-axis.\n",
    "\n",
    "`doubling_array = [1, 2, 4, 8, 16, 32, 64, 128, 256, 512]`\n",
    "\n",
    "Recall that a scatter plot can be created using the following code:\n",
    "\n",
    "`plt.scatter(x_values, y_values)`\n",
    "\n",
    "`plt.show()`\n",
    "\n",
    "With `doubling_array` on the y-axis, you now need values for the x-axis, which you can create with `np.arange()`!\n",
    "\n",
    "`numpy` is loaded for you as `np`, and `matplotlib.pyplot` is imported as `plt`."
   ]
  },
  {
   "cell_type": "code",
   "execution_count": 15,
   "metadata": {},
   "outputs": [
    {
     "data": {
      "image/png": "[encoded data removed]",
      "text/plain": [
       "<Figure size 640x480 with 1 Axes>"
      ]
     },
     "metadata": {},
     "output_type": "display_data"
    }
   ],
   "source": [
    "import matplotlib.pyplot as plt\n",
    "\n",
    "doubling_array1 = [1, 2, 4, 8, 16, 32, 64, 128, 256, 512]\n",
    "doubling_array = np.array(doubling_array1)\n",
    "\n",
    "# Create an array of integers from one to ten\n",
    "one_to_ten = np.arange(1, 11)\n",
    "\n",
    "# Create your scatterplot\n",
    "plt.scatter(one_to_ten, doubling_array )\n",
    "plt.show()"
   ]
  },
  {
   "cell_type": "markdown",
   "metadata": {},
   "source": [
    "#### **Array dimensionality**\n",
    "\n",
    "1. 3D arrays\n",
    "\n",
    "array_1_2D = np.array([[1, 2], [5, 7]])\n",
    "array_2_2D = np.array([[8, 9], [5, 7]])\n",
    "array_3_2D = np.array([[1, 2], [5, 7]])\n",
    "array_3D = np.array([array_1_2D, array_2_2D, array_3_2D])\n",
    "\n",
    "2. 4D arrays\n",
    "\n",
    "array_4D = np.array([array_A_3D, array_B_3D, array_C_3D, array_D_3D, array_E_3D,\n",
    "array_F_3D, array_G_3D, array_H_3D, array_I_3D])\n",
    "\n",
    "3. Vector arrays\n",
    "\n",
    "- shape (5,)\n",
    "- A vector has one dimension\n",
    "\n",
    "4. Matrix and tensor arrays\n",
    "\n",
    "- A matrix has two dimensions\n",
    "- A tensor has three or more dimensions\n",
    "\n",
    "5. Shapeshifting\n",
    "\n",
    "Array attribute:\n",
    "- `.shape`\n",
    "\n",
    "Arrat methods:\n",
    "- `.flatten()`\n",
    "- `.reshape()`\n",
    "\n",
    "6. Finding an array's shape\n",
    "\n",
    "array = np.zeros((3, 5))\n",
    "print(array)\n",
    "\n",
    "array.shape\n",
    "`(3, 5)`\n",
    "\n",
    "7. Rows and columns\n",
    "\n",
    "In 2D arrays...\n",
    "- Rows are the ,rst dimension\n",
    "- Columns are the second dimension\n",
    "\n",
    "8. Flattening an array\n",
    "\n",
    "array = np.array([[1, 2], [5, 7], [6, 6]])\n",
    "array.flatten()\n",
    "\n",
    "`array([1, 2, 5, 7, 6, 6])`\n",
    "\n",
    "9. Reshaping an array\n",
    "\n",
    "array = np.array([[1, 2], [5, 7], [6, 6]])\n",
    "array.reshape((2, 3))\n",
    "\n",
    "`array([ [1, 2, 5],`\n",
    "        `[7, 6, 6]])`\n",
    "\n",
    "array.reshape((3, 3))\n",
    "*ValueError: cannot reshape array of size 6 into shape (3,3)*"
   ]
  },
  {
   "cell_type": "markdown",
   "metadata": {},
   "source": [
    "**3D array creation**\n",
    "\n",
    "In the first lesson, you created a `sudoku_game` two-dimensional NumPy array. Perhaps you have hundreds of sudoku game arrays, and you'd like to save the solution for this one, `sudoku_solution`, as part of the same array as its corresponding game in order to organize your sudoku data better. You could accomplish this by stacking the two 2D arrays on top of each other to create a 3D array.\n",
    "\n",
    "`numpy` is loaded as `np`, and the `sudoku_game` and `sudoku_solution` arrays are available.\n",
    "\n",
    "STEPS\n",
    "    Create a 3D array called game_and_solution by stacking the two 2D arrays, sudoku_game and sudoku_solution, on top of one another; in the final array, sudoku_game should appear before sudoku_solution.\n",
    "    Print game_and_solution."
   ]
  },
  {
   "cell_type": "code",
   "execution_count": 5,
   "metadata": {},
   "outputs": [
    {
     "name": "stdout",
     "output_type": "stream",
     "text": [
      "[[[0 0 5 0 0 9 0 0 1]\n",
      "  [0 7 0 0 6 0 0 4 3]\n",
      "  [0 0 6 0 0 2 0 8 7]\n",
      "  [1 9 0 0 0 7 4 0 0]\n",
      "  [0 5 0 0 8 3 0 0 0]\n",
      "  [6 0 0 0 0 0 1 0 5]\n",
      "  [0 0 3 5 0 8 6 9 0]\n",
      "  [0 4 2 9 1 0 3 0 0]]\n",
      "\n",
      " [[3 2 5 8 4 9 7 6 1]\n",
      "  [9 7 1 2 6 5 8 4 3]\n",
      "  [4 3 6 1 9 2 5 8 7]\n",
      "  [1 9 8 6 5 7 4 3 2]\n",
      "  [2 5 7 4 8 3 9 1 6]\n",
      "  [6 8 9 7 3 4 1 2 5]\n",
      "  [7 1 3 5 2 8 6 9 4]\n",
      "  [5 4 2 9 1 6 3 7 8]]]\n"
     ]
    }
   ],
   "source": [
    "# Import NumPy\n",
    "import numpy as np\n",
    "\n",
    "sudoku_solution = np.load('G:\\My Drive\\Data Science\\Datacamp_Notebook\\Datacamp_Notebook\\datasets\\sudoku_solution.npy')\n",
    "\n",
    "# Create the game_and_solution 3D array\n",
    "game_and_solution = np.array([sudoku_game, sudoku_solution])\n",
    "\n",
    "# Print game_and_solution\n",
    "print(game_and_solution) "
   ]
  },
  {
   "cell_type": "markdown",
   "metadata": {},
   "source": [
    "**The fourth dimension**\n",
    "\n",
    "Printing arrays is a good way to check code output for small arrays like `sudoku_game_and_solution`, but it becomes unwieldy when dealing with bigger arrays and those with higher dimensions. Another important check is to look at the array's `.shape`.\n",
    "\n",
    "Now, you'll create a 4D array that contains two sudoku games and their solutions. `numpy` is loaded as `np`. The `game_and_solution` 3D array you created in the previous example is available, along with `new_sudoku_game` and `new_sudoku_solution`.\n",
    "\n",
    "STEPS\n",
    "    Create another 3D array called new_game_and_solution with a different 2D game and 2D solution pair: new_sudoku_game and new_sudoku_solution. new_sudoku_game should appear before new_sudoku_solution.\n",
    "    Create a 4D array called games_and_solutions by making an array out of the two 3D arrays: game_and_solution and new_game_and_solution, in that order.\n",
    "    Print the shape of games_and_solutions."
   ]
  },
  {
   "cell_type": "code",
   "execution_count": 8,
   "metadata": {},
   "outputs": [
    {
     "name": "stdout",
     "output_type": "stream",
     "text": [
      "(2, 2, 8, 9)\n"
     ]
    }
   ],
   "source": [
    "new_sudoku_game = np.load('G:\\My Drive\\Data Science\\Datacamp_Notebook\\Datacamp_Notebook\\datasets\\sudoku_game.npy')\n",
    "new_sudoku_solution = np.load('G:\\My Drive\\Data Science\\Datacamp_Notebook\\Datacamp_Notebook\\datasets\\sudoku_solution.npy')\n",
    "# Create a second 3D array of another game and its solution \n",
    "new_game_and_solution = np.array([new_sudoku_game, new_sudoku_solution])\n",
    "\n",
    "# Create a 4D array of both game and solution 3D arrays\n",
    "games_and_solutions = np.array([game_and_solution, new_game_and_solution])\n",
    "\n",
    "# Print the shape of your 4D array\n",
    "print(games_and_solutions.shape)"
   ]
  },
  {
   "cell_type": "markdown",
   "metadata": {},
   "source": [
    "**Flattening and reshaping**\n",
    "\n",
    "You've learned to change not only array shape but also the number of dimensions that an array has. To test these skills, you'll change `sudoku_game` from a 2D array to a 1D array and back again. Can we trust NumPy to keep the array elements in the same order after being flattened and reshaped? Time to find out.\n",
    "\n",
    "`numpy` is imported as `np`, and `sudoku_game` is loaded for you.\n",
    "\n",
    "STEP 01\n",
    "    Flatten sudoku_game so that it is a 1D array, and save it as flattened_game.\n",
    "    Print the .shape of flattened_game.\n",
    "STEP 02\n",
    "    Reshape the flattened_game back to its original shape of nine rows and nine columns; save the new array as reshaped_game."
   ]
  },
  {
   "cell_type": "code",
   "execution_count": 11,
   "metadata": {},
   "outputs": [
    {
     "name": "stdout",
     "output_type": "stream",
     "text": [
      "(72,)\n",
      "[[0 0 5 0 0 9 0 0 1]\n",
      " [0 7 0 0 6 0 0 4 3]\n",
      " [0 0 6 0 0 2 0 8 7]\n",
      " [1 9 0 0 0 7 4 0 0]\n",
      " [0 5 0 0 8 3 0 0 0]\n",
      " [6 0 0 0 0 0 1 0 5]\n",
      " [0 0 3 5 0 8 6 9 0]\n",
      " [0 4 2 9 1 0 3 0 0]]\n",
      "[[0 0 5 0 0 9 0 0]\n",
      " [1 0 7 0 0 6 0 0]\n",
      " [4 3 0 0 6 0 0 2]\n",
      " [0 8 7 1 9 0 0 0]\n",
      " [7 4 0 0 0 5 0 0]\n",
      " [8 3 0 0 0 6 0 0]\n",
      " [0 0 0 1 0 5 0 0]\n",
      " [3 5 0 8 6 9 0 0]\n",
      " [4 2 9 1 0 3 0 0]]\n"
     ]
    }
   ],
   "source": [
    "# Flatten sudoku_game\n",
    "flattened_game = sudoku_game.flatten()\n",
    "\n",
    "# Print the shape of flattened_game\n",
    "print(flattened_game.shape)\n",
    "\n",
    "# Reshape flattened_game back to a nine by nine array\n",
    "reshaped_game = flattened_game.reshape((9, 8))\n",
    "\n",
    "# Print sudoku_game and reshaped_game\n",
    "print(sudoku_game)\n",
    "print(reshaped_game)"
   ]
  },
  {
   "cell_type": "markdown",
   "metadata": {},
   "source": [
    "#### **NumPy data types**\n",
    "\n",
    "1. NumPy vs. Python data types\n",
    "\n",
    "- Sample Python data types:\n",
    "int\n",
    "float\n",
    "- Sample NumPy data types:\n",
    "np.int64\n",
    "np.int32\n",
    "np.float64\n",
    "np.float32\n",
    "\n",
    "2. Bits and bytes\n",
    "\n",
    "The number 10436 represented in binary is: 8 bits = 1 byte\n",
    "\n",
    "np.int32 can store 4,294,967,296 integers: 2^32\n",
    "\n",
    "3. The .dtype attribute\n",
    "\n",
    "np.array([1.32, 5.78, 175.55]).dtype\n",
    "`dtype('float64')`\n",
    "\n",
    "4. Default data types\n",
    "\n",
    "- Integer\n",
    "\n",
    "int_array = np.array([[1, 2, 3], [4, 5, 6]])\n",
    "int_array.dtype\n",
    "`dtype('int64')`\n",
    "\n",
    "- String data\n",
    "\n",
    "np.array([\"Introduction\", \"to\", \"NumPy\"]).dtype\n",
    "`dtype('<U12')`\n",
    "\n",
    "5. dtype as an argument\n",
    "\n",
    "float32_array = np.array([1.32, 5.78, 175.55], dtype=np.float32)\n",
    "float32_array.dtype\n",
    "`dtype('float32')`\n",
    "\n",
    "6. Type conversion\n",
    "\n",
    "boolean_array = np.array([[True, False], [False, False]], dtype=np.bool_)\n",
    "boolean_array.astype(np.int32)\n",
    "`array([[1, 0],`\n",
    "`[0, 0]], dtype=int32)`\n",
    "\n",
    "7. Type coercion\n",
    "\n",
    "np.array([True, \"Boop\", 42, 42.42])\n",
    "\n",
    "`array(['True', 'Boop', '42', '42.42'], dtype='<U5')`\n",
    "\n",
    "8. Type coercion hierarchy\n",
    "\n",
    "Adding a float to an array of integers will change all integers into floats:\n",
    "np.array([0, 42, 42.42]).dtype\n",
    "`dtype('float64')`\n",
    "\n",
    "Adding an integer to an array of booleans will change all booleans in to integers:\n",
    "np.array([True, False, 42]).dtype\n",
    "`dtype('int64')`"
   ]
  },
  {
   "cell_type": "markdown",
   "metadata": {},
   "source": [
    "**The dtype argument**\n",
    "\n",
    "One way to control the data type of a NumPy array is to declare it when the array is created using the `dtype` keyword argument. Take a look at the data type NumPy uses by default when creating an array with `np.zeros()`. Could it be updated?\n",
    "\n",
    "`numpy` is loaded as `np`.\n",
    "\n",
    "STEP 01\n",
    "    Using np.zeros(), create an array of zeros that has three rows and two columns; call it zero_array.\n",
    "    Print the data type of zero_array.\n",
    "STEP 02\n",
    "    Create a new array of zeros called zero_int_array, which will also have three rows and two columns, but the data type should be np.int32.\n",
    "    Print the data type of zero_int_array."
   ]
  },
  {
   "cell_type": "code",
   "execution_count": 13,
   "metadata": {},
   "outputs": [
    {
     "name": "stdout",
     "output_type": "stream",
     "text": [
      "float64\n",
      "int32\n"
     ]
    }
   ],
   "source": [
    "# Create an array of zeros with three rows and two columns\n",
    "zero_array = np.zeros((3, 2))\n",
    "\n",
    "# Print the data type of zero_array\n",
    "print(zero_array.dtype)\n",
    "\n",
    "# Create a new array of int32 zeros with three rows and two columns\n",
    "zero_int_array = np.zeros((3, 2),dtype=np.int32)\n",
    "\n",
    "# Print the data type of zero_int_array\n",
    "print(zero_int_array.dtype)"
   ]
  },
  {
   "cell_type": "markdown",
   "metadata": {},
   "source": [
    "**A smaller sudoku game**\n",
    "\n",
    "NumPy data types, which emphasize speed, are more specific than Python data types, which emphasize flexibility. When working with large amounts of data in NumPy, it's good practice to check the data type and consider whether a smaller data type is large enough for your data, since smaller data types use less memory.\n",
    "\n",
    "It's time to make your sudoku game more memory-efficient using your knowledge of data types! `sudoku_game` has been loaded for you as a NumPy array. `numpy` is imported as `np`."
   ]
  },
  {
   "cell_type": "code",
   "execution_count": 15,
   "metadata": {},
   "outputs": [
    {
     "name": "stdout",
     "output_type": "stream",
     "text": [
      "int64\n",
      "int8\n"
     ]
    }
   ],
   "source": [
    "# Print the data type of sudoku_game\n",
    "print(sudoku_game.dtype)\n",
    "\n",
    "# Change the data type of sudoku_game to int8\n",
    "small_sudoku_game = sudoku_game.astype(np.int8)\n",
    "\n",
    "# Print the data type of small_sudoku_game\n",
    "print(small_sudoku_game.dtype)"
   ]
  },
  {
   "cell_type": "markdown",
   "metadata": {},
   "source": [
    "## **Selecting and Updating Data (Module 02-044)**"
   ]
  },
  {
   "cell_type": "markdown",
   "metadata": {},
   "source": [
    "#### **Indexing and slicing arrays**\n",
    "\n",
    "1. Indexing 1D arrays\n",
    "\n",
    "array = np.array([2, 4, 6, 8, 10])\n",
    "array[3]\n",
    "`8`\n",
    "\n",
    "2. Indexing elements in 2D\n",
    "\n",
    "sudoku_game[2, 4]\n",
    "`6`\n",
    "\n",
    "3. Indexing rows in 2D\n",
    "\n",
    "sudoku_game[0]\n",
    "`array([0, 0, 4, 3, 0, 0, 2, 0, 9])`\n",
    "\n",
    "4. Indexing columns in 2D\n",
    "\n",
    "sudoku_game[:, 3]\n",
    "`array([3, 0, 0, 0, 0, 0, 0, 5, 9])`\n",
    "\n",
    "5. Slicing 1D arrays\n",
    "\n",
    "array = np.array([2, 4, 6, 8, 10])\n",
    "array[2:4]\n",
    "`array([6, 8])`\n",
    "\n",
    "6. Slicing 2D arrays\n",
    "\n",
    "sudoku_game[3:6, 3:6]\n",
    "`array([[0, 0, 2],`\n",
    "`[0, 0, 7],`\n",
    "`[0, 8, 3]])`\n",
    "\n",
    "7. Slicing with steps\n",
    "\n",
    "sudoku_game[3:6:2, 3:6:2]\n",
    "`array([[0, 2],`\n",
    "`[0, 3]])`\n",
    "\n",
    "8. Sorting arrays\n",
    "\n",
    "np.sort(sudoku_game)\n",
    "\n",
    "`array([[0, 0, 0, 0, 0, 2, 3, 4, 9],`\n",
    "`[0, 0, 0, 0, 0, 0, 1, 5, 9],`\n",
    "`[0, 0, 0, 0, 0, 3, 4, 6, 7],`\n",
    "`[0, 0, 0, 0, 0, 2, 6, 7, 8],`\n",
    "`[0, 0, 0, 0, 0, 1, 4, 7, 9],`\n",
    "`[0, 0, 0, 0, 0, 0, 3, 5, 8],`\n",
    "`[0, 0, 0, 0, 0, 0, 1, 5, 6],`\n",
    "`[0, 0, 0, 0, 3, 5, 6, 8, 9],`\n",
    "`[0, 0, 0, 0, 1, 2, 3, 4, 9]])`\n",
    "\n",
    "9. Axis order\n",
    "\n",
    "axis 0 = rows\n",
    "axis 1 = columns\n",
    "\n",
    "10. Sorting by axis\n",
    "\n",
    "np.sort(sudoku_game, axis=0)\n",
    "`array([[0, 0, 0, 0, 0, 0, 0, 0, 0],`\n",
    "`[0, 0, 0, 0, 0, 0, 0, 0, 0],`\n",
    "`[0, 0, 0, 0, 0, 0, 0, 0, 0],`\n",
    "`[0, 0, 0, 0, 0, 0, 0, 0, 0],`\n",
    "`[0, 0, 2, 0, 0, 2, 1, 0, 1],`\n",
    "`[0, 4, 3, 0, 0, 3, 2, 0, 3],`\n",
    "`[0, 5, 4, 3, 1, 7, 3, 4, 5],`\n",
    "`[1, 7, 5, 5, 6, 8, 4, 8, 7],`\n",
    "`[6, 9, 6, 9, 8, 9, 6, 9, 9]])`"
   ]
  },
  {
   "cell_type": "markdown",
   "metadata": {},
   "source": [
    "**Slicing and indexing trees**\n",
    "\n",
    "Imagine you are a researcher working with data from New York City's tree census. Each row of the `tree_census` 2D array lists information for a different tree: the tree ID, block ID, trunk diameter, and stump diameter in that order. Living trees do not have stump diameters, which explains why there are so many zeros in that column. Column order is important because NumPy does not have column names! The first and last three rows of `tree_census` are shown below.\n",
    "\n",
    "`array([[     3, 501451,     24,      0],`\n",
    "`       [     4, 501451,     20,      0],`\n",
    "`       [     7, 501911,      3,      0],`\n",
    "`       ...,`\n",
    "`       [  1198, 227387,     11,      0],`\n",
    "`       [  1199, 227387,     11,      0],`\n",
    "`       [  1210, 227386,      6,      0]])`\n",
    "\n",
    "In this exercise, you'll be working specifically with the second column, representing block IDs: your research requires you to select specific city blocks for further analysis using NumPy slicing and indexing. `numpy` is loaded as `np`, and the `tree_census` 2D array is available.\n",
    "\n",
    "STEP 01\n",
    "    Select all rows of data from the second column, representing block IDs; save the resulting array as block_ids.\n",
    "    Print the first five block IDs from block_ids.\n",
    "STEP 02\n",
    "    Select the tenth block ID from block_ids, saving the result as tenth_block_id.\n",
    "STEP 03\n",
    "    Select five consecutive block IDs from block_ids, starting with the tenth ID, and save as block_id_slice"
   ]
  },
  {
   "cell_type": "code",
   "execution_count": 27,
   "metadata": {},
   "outputs": [
    {
     "name": "stdout",
     "output_type": "stream",
     "text": [
      "[501451 501451 501911 501911 501911]\n",
      "501911\n",
      "[501911 501911 501911 501909 501909]\n"
     ]
    }
   ],
   "source": [
    "tree_census = np.load('G:\\My Drive\\Data Science\\Datacamp_Notebook\\Datacamp_Notebook\\datasets\\ppptree_census.npy')\n",
    "\n",
    "# Select all rows of block ID data from the second column\n",
    "block_ids = tree_census[:, 1]\n",
    "\n",
    "# Print the first five block_ids\n",
    "print(block_ids[0:5])\n",
    "\n",
    "# Select the tenth block ID from block_ids\n",
    "tenth_block_id = block_ids[9]\n",
    "print(tenth_block_id)\n",
    "\n",
    "# Select five block IDs from block_ids starting with the tenth ID\n",
    "block_id_slice = block_ids[9:14]\n",
    "print(block_id_slice)"
   ]
  },
  {
   "cell_type": "markdown",
   "metadata": {},
   "source": [
    "**Stepping into 2D**\n",
    "\n",
    "Now assume that your research requires you to take an admittedly unrepresentative sample of trunk diameters, which are located in the third column of `tree_census`. Getting just a selection of trunk diameters can be done with NumPy's slicing and stepping functionality.\n",
    "\n",
    "`numpy` is loaded as `np`, and the `tree_census` 2D array is available.\n",
    "\n",
    "STEP 01\n",
    "Create an array called hundred_diameters which contains the first 100 trunk diameters in tree_census.\n",
    "STEP 02\n",
    "Create an array,every_other_diameter, which contains only trunk diameters for trees with even row indices from 50 to 100, inclusive."
   ]
  },
  {
   "cell_type": "code",
   "execution_count": 29,
   "metadata": {},
   "outputs": [
    {
     "name": "stdout",
     "output_type": "stream",
     "text": [
      "[24 20  3  3  4  4  4  4  4  3  3  4  2  2  3  4  4  4  0 14  3  4  7  8\n",
      "  7  8  7  5  6  5  5 17  0 19 21 18  4  5  3  4  3  4 13 13 13  5  4  4\n",
      "  4 11  5  4  5  8 51  7  4 15  3  8  6  6  3  4  3  2  3  3  6  5  5  5\n",
      "  5  9  4  4  7  7  6  5  4  4  5  5  5  7  3  5  3  3  6  6  8  7  4  5\n",
      "  4  4  4  4]\n",
      "[ 5  5 51  4  3  6  3  3  3  6  5  5  4  7  6  4  5  5  3  3  6  8  4  4\n",
      "  4  6]\n"
     ]
    }
   ],
   "source": [
    "# Create an array of the first 100 trunk diameters from tree_census\n",
    "hundred_diameters = tree_census[0:100, 2]\n",
    "print(hundred_diameters)\n",
    "\n",
    "# Create an array of trunk diameters with even row indices from 50 to 100 inclusive\n",
    "every_other_diameter = tree_census[50:101:2, 2]\n",
    "print(every_other_diameter)"
   ]
  },
  {
   "cell_type": "markdown",
   "metadata": {},
   "source": [
    "**Sorting trees**\n",
    "\n",
    "Sometimes it's easiest to understand data when it is sorted according to the value you are most interested in. Your new research task is to create an array containing the trunk diameters in the New York City tree census, sorted in order from smallest to largest.\n",
    "\n",
    "`numpy` is loaded as `np`, and the `tree_census` 2D array is available."
   ]
  },
  {
   "cell_type": "code",
   "execution_count": 31,
   "metadata": {},
   "outputs": [
    {
     "name": "stdout",
     "output_type": "stream",
     "text": [
      "[ 0  0  2  2  2  3  3  3  3  3  3  3  3  3  3  3  3  3  3  3  3  4  4  4\n",
      "  4  4  4  4  4  4  4  4  4  4  4  4  4  4  4  4  4  4  4  4  4  4  4  4\n",
      "  4  5  5  5  5  5  5  5  5  5  5  5  5  5  5  5  5  5  6  6  6  6  6  6\n",
      "  6  7  7  7  7  7  7  7  7  8  8  8  8  8  9 11 13 13 13 14 15 17 18 19\n",
      " 20 21 24 51]\n"
     ]
    }
   ],
   "source": [
    "# Extract trunk diameters information and sort from smallest to largest\n",
    "sorted_trunk_diameters = np.sort(tree_census[0:100, 2])\n",
    "print(sorted_trunk_diameters)"
   ]
  },
  {
   "cell_type": "markdown",
   "metadata": {},
   "source": [
    "#### **Filtering arrays**\n",
    "\n",
    "1. Two ways to filter\n",
    "\n",
    "- Masks and fancy indexing\n",
    "- np.where()\n",
    "\n",
    "2. Boolean masks\n",
    "\n",
    "one_to_five = np.arange(1, 6)\n",
    "one_to_five\n",
    "`array([1, 2, 3, 4, 5])`\n",
    "\n",
    "mask = one_to_five % 2 == 0\n",
    "mask\n",
    "`array([False, True, False, True, False])`\n",
    "\n",
    "3. Filtering with fancy indexing\n",
    "\n",
    "one_to_five = np.arange(1, 6)\n",
    "mask = one_to_five % 2 == 0\n",
    "one_to_five[mask]\n",
    "`array([2, 4])`\n",
    "\n",
    "4. 2D fancy indexing\n",
    "\n",
    "classroom_ids_and_sizes = np.array([[1, 22], [2, 21], [3, 27], [4, 26]])\n",
    "classroom_ids_and_sizes\n",
    "\n",
    "`array([[ 1, 22],`\n",
    "`[ 2, 21],`\n",
    "`[ 3, 27],`\n",
    "`[ 4, 26]])`\n",
    "\n",
    "classroom_ids_and_sizes[:, 1] % 2 == 0\n",
    "\n",
    "classroom_ids_and_sizes[:,0][classroom_ids_and_sizes[:, 1] % 2 == 0]\n",
    "`array([1, 4])`\n",
    "\n",
    "5. Fancy indexing vs. np.where()\n",
    "\n",
    "- Fancy indexing\n",
    "Returns array of elements\n",
    "\n",
    "- np.where()\n",
    "Returns array of indices\n",
    "Can create an array based on whether elements do or don't meet condition\n",
    "\n",
    "6. Filtering with np.where()\n",
    "\n",
    "classroom_ids_and_sizes\n",
    "\n",
    "`array([[ 1, 22],`\n",
    "`[ 2, 21],`\n",
    "`[ 3, 27],`\n",
    "`[ 4, 26]])`\n",
    "\n",
    "np.where(classroom_ids_and_sizes[:, 1] % 2 == 0)\n",
    "`(array([0, 3]),)`\n",
    "\n",
    "7. np.where() element retrieval A tuple of indices\n",
    "\n",
    "sudoku_game\n",
    "row_ind, column_ind = np.where(sudoku_game == 0)\n",
    "row_ind, column_ind\n",
    "\n",
    "(array([0, 0, 0, 0, 0, 1, 1, 1, 1, 1, 1, 2, 2, 2, 2, 2, 3, 3, 3, 3, 3, 4,\n",
    "4, 4, 4, 4, 5, 5, 5, 5, 5, 5, 6, 6, 6, 6, 6, 6, 7, 7, 7, 7, 8, 8,\n",
    "8, 8]),\n",
    "array([0, 1, 4, 5, 7, 0, 1, 3, 4, 6, 7, 0, 2, 3, 5, 6, 0, 1, 3, 4, 6, 2,\n",
    "3, 4, 7, 8, 0, 2, 3, 6, 7, 8, 1, 2, 3, 4, 5, 7, 0, 1, 4, 8, 0, 5,\n",
    "7, 8]))\n",
    "\n",
    "8. Find and replace\n",
    "\n",
    "np.where(sudoku_game == 0, \"\", sudoku_game)\n",
    "\n",
    "array([['', '', '4', '3', '', '', '2', '', '9'],\n",
    "['', '', '5', '', '', '9', '', '', '1'],\n",
    "['', '7', '', '', '6', '', '', '4', '3'],\n",
    "['', '', '6', '', '', '2', '', '8', '7'],\n",
    "['1', '9', '', '', '', '7', '4', '', ''],\n",
    "['', '5', '', '', '8', '3', '', '', ''],\n",
    "['6', '', '', '', '', '', '1', '', '5'],\n",
    "['', '', '3', '5', '', '8', '6', '9', ''],\n",
    "['', '4', '2', '9', '1', '', '3', '', '']])"
   ]
  },
  {
   "cell_type": "markdown",
   "metadata": {},
   "source": [
    "**Filtering with masks**\n",
    "\n",
    "In the last lesson, you sorted trees from smallest to largest. Now, you'll use fancy indexing to return the row of data representing the largest tree in `tree_census`. You'll also examine other trees located on the same block as the largest tree: are they also large?\n",
    "\n",
    "`numpy` is loaded as `np`, and the `tree_census` array is available. As a reminder, the `tree_census` columns in order refer to a tree's ID, its block ID, its trunk diameter, and its stump diameter.\n",
    "\n",
    "STEP 01\n",
    "Using Boolean indexing, create an array, largest_tree_data, which contains the row of data on the largest tree in tree_census corresponding to the tree with a diameter of 51.\n",
    "STEP 02\n",
    "Slice largest_tree_data to retrieve only the block id of the block the largest tree is located on; save this block id as largest_tree_block_id.\n",
    "STEP 03\n",
    "using fancy indexing, create an array called trees_on_largest_tree_block which contains data on all trees with the same block ID as the largest tree."
   ]
  },
  {
   "cell_type": "code",
   "execution_count": 35,
   "metadata": {},
   "outputs": [
    {
     "name": "stdout",
     "output_type": "stream",
     "text": [
      "[[    61 501882     51      0]]\n",
      "[501882]\n",
      "[[    60 501882      8      0]\n",
      " [    61 501882     51      0]\n",
      " [    62 501882      7      0]\n",
      " [    63 501882      4      0]\n",
      " [    64 501882     15      0]\n",
      " [    65 501882      3      0]\n",
      " [    66 501882      8      0]\n",
      " [    67 501882      6      0]\n",
      " [    68 501882      6      0]\n",
      " [    69 501882      3      0]]\n"
     ]
    }
   ],
   "source": [
    "# Create an array which contains row data on the largest tree in tree_census\n",
    "largest_tree_data = tree_census[tree_census[:, 2] == 51]\n",
    "print(largest_tree_data)\n",
    "\n",
    "# Slice largest_tree_data to get only the block ID\n",
    "largest_tree_block_id = largest_tree_data[:, 1]\n",
    "print(largest_tree_block_id)\n",
    "\n",
    "# Create an array which contains row data on all trees with largest_tree_block_id\n",
    "trees_on_largest_tree_block = tree_census[tree_census[:, 1] == largest_tree_block_id]\n",
    "print(trees_on_largest_tree_block)"
   ]
  },
  {
   "cell_type": "markdown",
   "metadata": {},
   "source": [
    "**Fancy indexing vs. np.where()**\n",
    "\n",
    "You and your tree research team are double-checking collection data by visiting a few trees in person to confirm their measurements. You've been assigned to check the data for trees on block 313879, and you'd like to make a small array of just the tree data that relates to your work.\n",
    "\n",
    "`numpy` is loaded as `np`, and the `tree_census` array is available. As a reminder, the `tree_census` columns in order refer to a tree's ID, its block ID, its trunk diameter, and its stump diameter.\n",
    "\n",
    "STEP 01 \n",
    "Using fancy indexing, create an array called block_313879 which only contains data for trees with a block ID of 313879.\n",
    "STEP 02\n",
    "    Using np.where(), create an array of row_indices for trees with a block ID of 313879.\n",
    "    Using row_indices, create block_313879, which contains data for trees on block 313879."
   ]
  },
  {
   "cell_type": "code",
   "execution_count": 37,
   "metadata": {},
   "outputs": [
    {
     "name": "stdout",
     "output_type": "stream",
     "text": [
      "[[  1115 313879      3      0]\n",
      " [  1116 313879     17      0]]\n",
      "[[  1115 313879      3      0]\n",
      " [  1116 313879     17      0]]\n"
     ]
    }
   ],
   "source": [
    "# Create the block_313879 array containing trees on block 313879\n",
    "block_313879 = tree_census[tree_census[:, 1] == 313879]\n",
    "print(block_313879)\n",
    "\n",
    "# Create an array of row_indices for trees on block 313879\n",
    "row_indices = np.where(tree_census[:, 1] == 313879)\n",
    "\n",
    "# Create an array which only contains data for trees on block 313879\n",
    "block_313879 = tree_census[row_indices]\n",
    "print(block_313879)"
   ]
  },
  {
   "cell_type": "markdown",
   "metadata": {},
   "source": [
    "**Creating arrays from conditions**\n",
    "\n",
    "Currently, the stump diameter and trunk diameter values in `tree_census` are in two different columns. Living trees have a stump diameter of zero while stumps have a trunk diameter of zero. If you'd like to include both living trees and stumps in certain research calculations, it might be useful to have their diameters together in just one column.\n",
    "\n",
    "`numpy` is loaded as `np`, and the `tree_census` array is available. As a reminder, the tree census columns in order refer to a tree's ID, its block ID, its trunk diameter, and its stump diameter.\n",
    "\n",
    "STEPS\n",
    "Create and print a 1D array called trunk_stump_diameters, which replaces a tree's trunk diameter with its stump diameter if the trunk diameter is zero."
   ]
  },
  {
   "cell_type": "code",
   "execution_count": 38,
   "metadata": {},
   "outputs": [
    {
     "name": "stdout",
     "output_type": "stream",
     "text": [
      "[24 20  3  3  4  4  4  4  4  3  3  4  2  2  3  4  4  4  3 14  3  4  7  8\n",
      "  7  8  7  5  6  5  5 17 31 19 21 18  4  5  3  4  3  4 13 13 13  5  4  4\n",
      "  4 11  5  4  5  8 51  7  4 15  3  8  6  6  3  4  3  2  3  3  6  5  5  5\n",
      "  5  9  4  4  7  7  6  5  4  4  5  5  5  7  3  5  3  3  6  6  8  7  4  5\n",
      "  4  4  4  4  6  5  3  4 12 12 12  5  6  6  6  6  6  5  5  6  7  7 25  5\n",
      "  5  4  6  6  7 11  6 17 13 14 14 20 15 13  7  7 10 17 14  4  6  7  8  7\n",
      "  7  6  7  5  2  2  2  2 26 25  2 15  6 20  5  9 15 13 15  3  2 13  6 12\n",
      " 15 18 22 18 18 15 17  7  3  7  8  4 12 11 12  3  9 12 11 10  8  6  6  7\n",
      "  7  3 15 12 12  4  5  5  5  4  4  5  4  9  2  4  4  6  5  5  2  5  5  4\n",
      "  4  5  5  6 11  4  5  7  3 14 11 10  7 15 10  5  6 10 10  6  5  4  4  3\n",
      "  5  4 14 12 11  8 14 12  9 12 11  7  8 10 10 12 11 12  5  5  6  9  9  8\n",
      "  5  5  5  6  6 12 12 11 12  8  9  5  5  5  8  2  2  2 14 18 14 14 22 15\n",
      " 19 14 18  7  7  7  8  8  5 10 14  2  2  2  2 11 12 12  3  3  3  3  3  6\n",
      "  6  8  2  2 11 11 11  9 11 12 13  9 11  6  4  5  5  2  2  8 10  7  9 11\n",
      " 11  1  2 26  4 13  2  4  3  4  4  4  4  3  4  2  2 12 13  5  4  2  3  3\n",
      " 25 11 11 14 22  2  3 10  2  2 13 19 26 21 19 14 14  5 19 15 11 15  6 19\n",
      " 17 12 13 15 12  2 16  2  2  2 25  2 21  2 15 16 14 13 11  8 11 13 12  7\n",
      " 24 19  3  3  4  6 11 17 19 19 17 15 13 15 27 16 15 20 17 16  4 10  9 14\n",
      " 11 12  8  9  9 13 14  7 11 14  3  7 16 17 13 14 16 12  4  5  3 16 11  9\n",
      "  9 10  8 10 11 11  8 11 11 11  9 11 10  9  5 12 11 13  9 15 16 12  7 10\n",
      "  6  9  5  9  6  6  3  3  5  4  4  4  4  6  4  7  6  7  6  5  7  8 20  9\n",
      " 11 11 10  9 11 12 10 18  7  4  4  4  4  3 19 12  3  4  5  4  4 17 15  8\n",
      "  4  5  6 25  6 11  3  3 15  4 14 12 15  2  3  2 11 11 14 12 15 12  8  9\n",
      "  9  8  7 12 15  4 11 10  6  7  9 38  6  3 15 11  5  4  2 13 21 26  4 18\n",
      " 10 17 20 19 21 19 18 18 17 24 27 22 21  9 17 17 19 28 21 11 23 28  7 33\n",
      " 30  5 26 27 22  2  2  2  3  4  3  3 12 17 15  2  3  3  6  6  6  6 18 13\n",
      " 25 25 22 25 21 19  3  3  3  4  4 19  4  4 24 27 20  3 19  5 12 26 13  7\n",
      " 13  4 20  5 14 20 11  3  4 19  4 17 22 24 15  7  5  4  5  5  4  4  4  8\n",
      "  4  4  7  6 10  8 11  2  9  8  4  3  3  2  2 22 22 24 23 20 21  5  6  7\n",
      "  4  2 15 19 20  4  4  7  2 17 10  3 11  2 10 11  4  4  3 13  3  3  3  3\n",
      "  4  3  3  3 14  3  9  9  9 10 20 14 19 16 22 22 17 18  9  9  7  9  3 14\n",
      " 13 15 16 18 21  3  8  3  9  8 11  9 10  5  5 11 16  3  4  3  4  5  4 10\n",
      " 10 12  9  9 13 11 10  3  3  3  4  3  4  4 10 25  5  5  1 34  1  1  1 15\n",
      " 11 11 13  7  7 12 13  3 17 14 18 15 17 14 13 20  9 11  4  9 13  9 19 20\n",
      "  8  8 20 19 13 44 17 25 14 12 14 15  6  6  7  5  5  5  5  3  9  9 17 13\n",
      "  3 13 20 20 18 18 21 20 19 22 18 21 25 21 21 18 20 18 23 23 23 18 24 22\n",
      "  2  7  2 11 19 21 14 20 13  2 18  2  2 31 25 31 25 11 22  2 18 17 18 21\n",
      " 22 16 16 18 15 23  5  6 13 19  7 16 16 20 15 18  1 15 10 24 18  2  3  2\n",
      " 17 12 14 17 23 18 12 13 23  3 17  8  8  8  4  9 22  2 14 23 20 23  3  7\n",
      "  3  6  4 12  4  4  2  6  4  3 17 19  4 19 15 14 17 20  2 16  3 12 10 11\n",
      "  4 11  4 30  8  4 39  3  7 11 18 22 19 21  7 21  2 16 11 20 21 22  8 16\n",
      "  2 23 14 14 13 20 21 15 19 28 17 16 12 11 11  6]\n"
     ]
    }
   ],
   "source": [
    "# Create and print a 1D array of tree and stump diameters\n",
    "trunk_stump_diameters = np.where(tree_census[:, 2] == 0, tree_census[:, 3], tree_census[:, 2])\n",
    "print(trunk_stump_diameters)"
   ]
  },
  {
   "cell_type": "markdown",
   "metadata": {},
   "source": [
    "#### **Adding and removing data**\n",
    "\n",
    "1. Concatenating in NumPy\n",
    "\n",
    "matrix(3,3) + matrix(3,2) = matrix(3,5)\n",
    "\n",
    "2. Concatenating rows\n",
    "\n",
    "classroom_ids_and_sizes = np.array([[1, 22], [2, 21], [3, 27], [4, 26]])\n",
    "new_classrooms = np.array([[5, 30], [5, 17]])\n",
    "np.concatenate((classroom_ids_and_sizes, new_classrooms))\n",
    "\n",
    "`array([[ 1, 22],`\n",
    "`[ 2, 21],`\n",
    "`[ 3, 27],`\n",
    "`[ 4, 26],`\n",
    "`[ 5, 30],`\n",
    "`[ 5, 17]])`\n",
    "\n",
    "*np.concatenate() concatenates along the first axis by default*\n",
    "\n",
    "3. Concatenating columns\n",
    "\n",
    "classroom_ids_and_sizes = np.array([[1, 22], [2, 21], [3, 27], [4, 26]])\n",
    "grade_levels_and_teachers = np.array([[1, \"James\"], [1, \"George\"], [3,\"Amy\"],\n",
    "[3, \"Meehir\"]])\n",
    "\n",
    "np.concatenate((classroom_ids_and_sizes, grade_levels_and_teachers), axis=1)\n",
    "\n",
    "`array([['1', '22', '1', 'James'],`\n",
    "`['2', '21', '1', 'George'],`\n",
    "`['3', '27', '3', 'Amy'],`\n",
    "`['4', '26', '3', 'Meehir']])`\n",
    "\n",
    "4. Shape compatibility\n",
    "\n",
    "matrix(3,3) + matrix(4,2) = *ValueError: all the input array dim for the concat must match exactly*\n",
    "\n",
    "matrix(3,3) + matrix(3,2) = matrix(3,5)\n",
    "\n",
    "5. Dimension compatibility\n",
    "\n",
    "shape (3,3) + shape (3,) = matrix(3,3) + vector(3) = *ValueError: all the input array must have same number of dimensions*\n",
    "\n",
    "shape (3,3) + shape (3,1) = matrix(3,3) + matrix(3,1) = matrix(3,4)\n",
    "\n",
    "6. Creating compatibility\n",
    "\n",
    "array_1D = np.array([1, 2, 3])\n",
    "column_array_2D = array_1D.reshape((3, 1))\n",
    "column_array_2D\n",
    "`array([[1],`\n",
    "`[2],`\n",
    "`[3]])`\n",
    "\n",
    "row_array_2D = array_1D.reshape((1, 3))\n",
    "row_array_2D\n",
    "`array([[1, 2, 3]])`\n",
    "\n",
    "7. Concatenating new dimensions\n",
    "\n",
    "Se puede hacer pero no con esta funcion\n",
    "\n",
    "8. Deleting with np.delete()\n",
    "\n",
    "classroom_data\n",
    "\n",
    "`array([['1', '22', '1', 'James'],`\n",
    "`['2', '21', '1', 'George'],`\n",
    "`['3', '27', '3', 'Amy'],`\n",
    "`['4', '26', '3', 'Meehir']],)`\n",
    "\n",
    "np.delete(classroom_data, 1, axis=0)\n",
    "\n",
    "`array([['1', '22', '1', 'James'],`\n",
    "`['3', '27', '3', 'Amy'],`\n",
    "`['4', '26', '3', 'Meehir']])`\n",
    "\n",
    "9. Deleting columns\n",
    "\n",
    "np.delete(classroom_data, 1, axis=1)\n",
    "\n",
    "`array([['1', '1', 'James'],`\n",
    "`['2', '1', 'George']`,\n",
    "`['3', '3', 'Amy'],`\n",
    "`['4', '3', 'Meehir']]')`\n",
    "\n",
    "10. Deleting without an axis\n",
    "\n",
    "classroom_data\n",
    "\n",
    "`array([['1', '22', '1', 'James'],`\n",
    "`['2', '21', '1', 'George'],`\n",
    "`['3', '27', '3', 'Amy'],`\n",
    "`['4', '26', '3', 'Meehir']],)`\n",
    "\n",
    "np.delete(classroom_data, 1)\n",
    "\n",
    "`array(['1', '1', 'James', '2', '21', '1', 'George', '3', '27', '3', 'Amy','4', '26', '3', 'Meehir'])`"
   ]
  },
  {
   "cell_type": "markdown",
   "metadata": {},
   "source": [
    "**Adding rows**\n",
    "\n",
    "The research team has discovered two trees that were left off the `tree_census`. Your task is to add rows containing the data for these new trees to the end of the `tree_census` array. The new trees' data is saved in a 2D array called `new_trees`:\n",
    "\n",
    "`new_trees = np.array([[1211, 227386, 20, 0], [1212, 227386, 8, 0]])`\n",
    "\n",
    "`numpy` is loaded as `np`, and the `tree_census` and `new_trees` arrays are available."
   ]
  },
  {
   "cell_type": "code",
   "execution_count": 41,
   "metadata": {},
   "outputs": [
    {
     "name": "stdout",
     "output_type": "stream",
     "text": [
      "(1000, 4) (2, 4)\n",
      "[[     3 501451     24      0]\n",
      " [     4 501451     20      0]\n",
      " [     7 501911      3      0]\n",
      " ...\n",
      " [  1210 227386      6      0]\n",
      " [  1211 227386     20      0]\n",
      " [  1212 227386      8      0]]\n"
     ]
    }
   ],
   "source": [
    "# Print the shapes of tree_census and new_trees\n",
    "print(tree_census.shape, new_trees.shape)\n",
    "\n",
    "# Add rows to tree_census which contain data for the new trees\n",
    "updated_tree_census = np.concatenate((tree_census, new_trees))\n",
    "print(updated_tree_census)"
   ]
  },
  {
   "cell_type": "markdown",
   "metadata": {},
   "source": [
    "**Adding columns**\n",
    "\n",
    "You finished the last set of exercises by creating an array called `trunk_stump_diameters`, which combined data from the trunk diameter and stump diameter columns into a 1D array. Now, you'll add that 1D array as a column to the `tree_census` array.\n",
    "\n",
    "`numpy` is loaded as `np`, and both the `tree_census` and `trunk_stump_diameters` arrays are available."
   ]
  },
  {
   "cell_type": "code",
   "execution_count": 43,
   "metadata": {},
   "outputs": [
    {
     "name": "stdout",
     "output_type": "stream",
     "text": [
      "(1000,) (1000, 4)\n",
      "[[     3 501451     24      0     24]\n",
      " [     4 501451     20      0     20]\n",
      " [     7 501911      3      0      3]\n",
      " ...\n",
      " [  1198 227387     11      0     11]\n",
      " [  1199 227387     11      0     11]\n",
      " [  1210 227386      6      0      6]]\n"
     ]
    }
   ],
   "source": [
    "# Print the shapes of tree_census and trunk_stump_diameters\n",
    "print(trunk_stump_diameters.shape, tree_census.shape)\n",
    "\n",
    "# Reshape trunk_stump_diameters\n",
    "reshaped_diameters = trunk_stump_diameters.reshape((1000, 1))\n",
    "\n",
    "# Concatenate reshaped_diameters to tree_census as the last column\n",
    "concatenated_tree_census = np.concatenate((tree_census, reshaped_diameters), axis=1)\n",
    "print(concatenated_tree_census)"
   ]
  },
  {
   "cell_type": "markdown",
   "metadata": {},
   "source": [
    "**Deleting with np.delete()**\n",
    "\n",
    "What if your tree research focuses only on living trees on publicly-owned city blocks? It might be helpful to delete some unneeded data like the stump diameter column and some trees located on private blocks.\n",
    "\n",
    "You've learned that NumPy's `np.delete()` function takes three arguments: the original array, the index or indices to be deleted, and the axis to delete along. If you don't know the index or indices of the array you'd like to delete, recall that when it is only passed one argument,`np.where() `returns an array of indices where a condition is met!\n",
    "\n",
    "`numpy` is loaded as `np`, and the `tree_census` 2D array is available. The columns in order refer to a tree's ID, block number, trunk diameter, and stump diameter."
   ]
  },
  {
   "cell_type": "code",
   "execution_count": 44,
   "metadata": {},
   "outputs": [
    {
     "name": "stdout",
     "output_type": "stream",
     "text": [
      "(998, 3)\n"
     ]
    }
   ],
   "source": [
    "# Delete the stump diameter column from tree_census\n",
    "tree_census_no_stumps = np.delete(tree_census, 3, axis=1)\n",
    "\n",
    "# Save the indices of the trees on block 313879\n",
    "private_block_indices = np.where(tree_census[:,1] == 313879)\n",
    "\n",
    "# Delete the rows for trees on block 313879 from tree_census_no_stumps\n",
    "tree_census_clean = np.delete(tree_census_no_stumps, private_block_indices, axis=0)\n",
    "\n",
    "# Print the shape of tree_census_clean\n",
    "print(tree_census_clean.shape)"
   ]
  },
  {
   "cell_type": "markdown",
   "metadata": {},
   "source": [
    "## **Array Mathematics! (Module 03-044)**"
   ]
  },
  {
   "cell_type": "markdown",
   "metadata": {},
   "source": [
    "#### **Summarizing data**\n",
    "\n",
    "1. Aggregating methods\n",
    "\n",
    ".sum()\n",
    ".min()\n",
    ".max()\n",
    ".mean()\n",
    ".cumsum()\n",
    "\n",
    "2. Our data\n",
    "\n",
    "security_breaches\n",
    "`array([[0, 5, 1],`\n",
    "`[0, 2, 0],`\n",
    "`[1, 1, 2],`\n",
    "`[2, 2, 1],`\n",
    "`[0, 0, 0]])`\n",
    "\n",
    "3. Summing data\n",
    "\n",
    "security_breaches.sum()\n",
    "`17`\n",
    "\n",
    "4. Aggregating rows\n",
    "\n",
    "security_breaches.sum(axis=0)\n",
    "`array([ 3, 10, 4])`\n",
    "\n",
    "5. Aggregating columns\n",
    "\n",
    "security_breaches.sum(axis=1)\n",
    "`array([6, 2, 4, 5, 0])`\n",
    "\n",
    "6. Making sense of the axis argument\n",
    "\n",
    "7. Minimum and maximum values \n",
    "\n",
    "security_breaches.min()\n",
    "`0`\n",
    "security_breaches.max()\n",
    "`5`\n",
    "security_breaches.min(axis=1)\n",
    "`array([0, 0, 1, 1, 0])`\n",
    "\n",
    "8. Finding the mean\n",
    "\n",
    "security_breaches.mean()\n",
    "`1.1333333333333333`\n",
    "security_breaches.mean(axis=1)\n",
    "`array([2., 0.6667, 1.3333, 1.6667, 0.])`\n",
    "\n",
    "9. The keepdims argument\n",
    "\n",
    "security_breaches.sum(axis=1)\n",
    "\n",
    "`array([6, 2, 4, 5, 0])`\n",
    "\n",
    "security_breaches.sum(axis=1, keepdims=True)\n",
    "\n",
    "`array([[6],`\n",
    "`[2],`\n",
    "`[4],`\n",
    "`[5],`\n",
    "`[0]])`\n",
    "\n",
    "10. Cumulative sums\n",
    "\n",
    "security_breaches.cumsum(axis=0)\n",
    "`array([[ 0, 5, 1],`\n",
    "`[ 0, 7, 1],`\n",
    "`[ 1, 8, 3],`\n",
    "`[ 3, 10, 4],`\n",
    "`[ 3, 10, 4]])`\n",
    "\n",
    "11. Graphing summary values\n",
    "\n",
    "cum_sums_by_client = security_breaches.cumsum(axis=0)\n",
    "plt.plot(np.arange(1, 6), cum_sums_by_client[:, 0], label=\"Client 1\")\n",
    "plt.plot(np.arange(1, 6), cum_sums_by_client.mean(axis=1), label=\"Average\")\n",
    "plt.legend()\n",
    "plt.show()"
   ]
  },
  {
   "cell_type": "markdown",
   "metadata": {},
   "source": [
    "**Sales totals**\n",
    "\n",
    "The dataset you'll be working with during this chapter is one year's sales data by month for three different industries. Each row in this `monthly_sales` array represents a month from January to December. The first column has monthly sales data for liquor stores, the second column has data for restaurants, and the last column tracks sales for department stores.\n",
    "\n",
    "array([[ 4134, 23925,  8657],\n",
    "       [ 4116, 23875,  9142],\n",
    "       [ 4673, 27197, 10645],\n",
    "       [ 4580, 25637, 10456],\n",
    "       [ 5109, 27995, 11299],\n",
    "       [ 5011, 27419, 10625],\n",
    "       [ 5245, 27305, 10630],\n",
    "       [ 5270, 27760, 11550],\n",
    "       [ 4680, 24988,  9762],\n",
    "       [ 4913, 25802, 10456],\n",
    "       [ 5312, 25405, 13401],\n",
    "       [ 6630, 27797, 18403]])\n",
    "\n",
    "Your task is to create an array with all the information from `monthly_sales` as well as a fourth column which totals the monthly sales across industries for each month.\n",
    "\n",
    "`numpy` is loaded for you as `np`, and the `monthly_sales` array is available."
   ]
  },
  {
   "cell_type": "code",
   "execution_count": null,
   "metadata": {},
   "outputs": [],
   "source": []
  },
  {
   "cell_type": "markdown",
   "metadata": {},
   "source": [
    "## **Array Transformations (Module 04-044)**"
   ]
  },
  {
   "cell_type": "code",
   "execution_count": 2,
   "metadata": {},
   "outputs": [
    {
     "name": "stdout",
     "output_type": "stream",
     "text": [
      "hello\n"
     ]
    }
   ],
   "source": [
    "print(\"hello\")"
   ]
  }
 ],
 "metadata": {
  "kernelspec": {
   "display_name": "Python 3.10.0 64-bit",
   "language": "python",
   "name": "python3"
  },
  "language_info": {
   "codemirror_mode": {
    "name": "ipython",
    "version": 3
   },
   "file_extension": ".py",
   "mimetype": "text/x-python",
   "name": "python",
   "nbconvert_exporter": "python",
   "pygments_lexer": "ipython3",
   "version": "3.10.0"
  },
  "orig_nbformat": 4,
  "vscode": {
   "interpreter": {
    "hash": "26de051ba29f2982a8de78e945f0abaf191376122a1563185a90213a26c5da77"
   }
  }
 },
 "nbformat": 4,
 "nbformat_minor": 2
}
