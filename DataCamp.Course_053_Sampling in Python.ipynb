{
 "cells": [
  {
   "attachments": {},
   "cell_type": "markdown",
   "metadata": {},
   "source": [
    "# **DataCamp.Course_053_Sampling in Python**\n",
    "\n",
    "### **Course Description**\n",
    "\n",
    "Sampling in Python is the cornerstone of inference statistics and hypothesis testing. It's a powerful skill used in survey analysis and experimental design to draw conclusions without surveying an entire population. In this Sampling in Python course, you’ll discover when to use sampling and how to perform common types of sampling—from simple random sampling to more complex methods like stratified and cluster sampling. Using real-world datasets, including coffee ratings, Spotify songs, and employee attrition, you’ll learn to estimate population statistics and quantify uncertainty in your estimates by generating sampling distributions and bootstrap distributions.\n"
   ]
  },
  {
   "cell_type": "code",
   "execution_count": 85,
   "metadata": {},
   "outputs": [
    {
     "name": "stdout",
     "output_type": "stream",
     "text": [
      "   total_cup_points  species                     owner country_of_origin  \\\n",
      "0             90.58  Arabica                 metad plc          Ethiopia   \n",
      "1             89.92  Arabica                 metad plc          Ethiopia   \n",
      "2             89.75  Arabica  grounds for health admin         Guatemala   \n",
      "3             89.00  Arabica       yidnekachew dabessa          Ethiopia   \n",
      "4             88.83  Arabica                 metad plc          Ethiopia   \n",
      "\n",
      "                                  farm_name lot_number       mill ico_number  \\\n",
      "0                                 metad plc       None  metad plc  2014/2015   \n",
      "1                                 metad plc       None  metad plc  2014/2015   \n",
      "2  san marcos barrancas \"san cristobal cuch       None       None       None   \n",
      "3     yidnekachew dabessa coffee plantation       None    wolensu       None   \n",
      "4                                 metad plc       None  metad plc  2014/2015   \n",
      "\n",
      "                                 company       altitude  ...  color  \\\n",
      "0      metad agricultural developmet plc      1950-2200  ...  Green   \n",
      "1      metad agricultural developmet plc      1950-2200  ...  Green   \n",
      "2                                   None  1600 - 1800 m  ...   None   \n",
      "3  yidnekachew debessa coffee plantation      1800-2200  ...  Green   \n",
      "4      metad agricultural developmet plc      1950-2200  ...  Green   \n",
      "\n",
      "  category_two_defects        expiration                  certification_body  \\\n",
      "0                  0.0   April 3rd, 2016  METAD Agricultural Development plc   \n",
      "1                  1.0   April 3rd, 2016  METAD Agricultural Development plc   \n",
      "2                  0.0    May 31st, 2011        Specialty Coffee Association   \n",
      "3                  2.0  March 25th, 2016  METAD Agricultural Development plc   \n",
      "4                  2.0   April 3rd, 2016  METAD Agricultural Development plc   \n",
      "\n",
      "                      certification_address  \\\n",
      "0  309fcf77415a3661ae83e027f7e5f05dad786e44   \n",
      "1  309fcf77415a3661ae83e027f7e5f05dad786e44   \n",
      "2  36d0d00a3724338ba7937c52a378d085f2172daa   \n",
      "3  309fcf77415a3661ae83e027f7e5f05dad786e44   \n",
      "4  309fcf77415a3661ae83e027f7e5f05dad786e44   \n",
      "\n",
      "                      certification_contact unit_of_measurement  \\\n",
      "0  19fef5a731de2db57d16da10287413f5f99bc2dd                   m   \n",
      "1  19fef5a731de2db57d16da10287413f5f99bc2dd                   m   \n",
      "2  0878a7d4b9d35ddbf0fe2ce69a2062cceb45a660                   m   \n",
      "3  19fef5a731de2db57d16da10287413f5f99bc2dd                   m   \n",
      "4  19fef5a731de2db57d16da10287413f5f99bc2dd                   m   \n",
      "\n",
      "  altitude_low_meters altitude_high_meters altitude_mean_meters  \n",
      "0              1950.0               2200.0               2075.0  \n",
      "1              1950.0               2200.0               2075.0  \n",
      "2              1600.0               1800.0               1700.0  \n",
      "3              1800.0               2200.0               2000.0  \n",
      "4              1950.0               2200.0               2075.0  \n",
      "\n",
      "[5 rows x 43 columns]\n"
     ]
    }
   ],
   "source": [
    "# read_feather function\n",
    "\n",
    "import os\n",
    "import pandas as pd\n",
    "folder_name = 'datasets'\n",
    "dir = r'C:\\Users\\mcaba\\OneDrive\\Escritorio\\Data Science\\Datacamp_Notebook\\Datacamp_Notebook\\{}'.format(folder_name)\n",
    "\n",
    "def read_feather_fun(folder_name,file_name, path):\n",
    "    path = dir\n",
    "    os.chdir(path)\n",
    "    df = pd.read_feather('{}.feather'.format(file_name))\n",
    "    return df\n",
    "\n",
    "coffee_ratings = read_feather_fun('datasets','coffee_ratings_full', dir)\n",
    "print(coffee_ratings.head(5))"
   ]
  },
  {
   "cell_type": "code",
   "execution_count": 86,
   "metadata": {},
   "outputs": [
    {
     "name": "stdout",
     "output_type": "stream",
     "text": [
      "   acousticness          artists  danceability  duration_ms  duration_minutes  \\\n",
      "0       0.97200  ['David Bauer']         0.567     313293.0          5.221550   \n",
      "1       0.32100   ['Etta James']         0.821     360240.0          6.004000   \n",
      "2       0.00659    ['Quasimoto']         0.706     202507.0          3.375117   \n",
      "3       0.00390  ['Millencolin']         0.368     173360.0          2.889333   \n",
      "4       0.12200   ['Steve Chou']         0.501     344200.0          5.736667   \n",
      "\n",
      "   energy  explicit                      id  instrumentalness   key  liveness  \\\n",
      "0   0.227       0.0  0w0D8H1ubRerCXHWYJkinO          0.601000  10.0     0.110   \n",
      "1   0.418       0.0  4JVeqfE2tpi7Pv63LJZtPh          0.000372   9.0     0.222   \n",
      "2   0.602       1.0  5pxtdhLAi0RTh1gNqhGMNA          0.000138  11.0     0.400   \n",
      "3   0.977       0.0  3jRsoe4Vkxa4BMYqGHX8L0          0.000000  11.0     0.350   \n",
      "4   0.511       0.0  4mronxcllhfyhBRqyZi8kU          0.000000   7.0     0.279   \n",
      "\n",
      "   loudness  mode                   name  popularity release_date  \\\n",
      "0   -13.441   1.0      Shout to the Lord        47.0         2000   \n",
      "1    -9.841   0.0               Miss You        51.0   2000-12-12   \n",
      "2    -8.306   0.0              Real Eyes        44.0   2000-06-13   \n",
      "3    -2.757   0.0  Penguins & Polarbears        52.0   2000-02-22   \n",
      "4    -9.836   0.0                     黃昏        53.0   2000-12-25   \n",
      "\n",
      "   speechiness    tempo  valence    year  \n",
      "0       0.0290  136.123   0.0396  2000.0  \n",
      "1       0.0407  117.382   0.8030  2000.0  \n",
      "2       0.3420   89.692   0.4790  2000.0  \n",
      "3       0.1270  165.889   0.5480  2000.0  \n",
      "4       0.0291   78.045   0.1130  2000.0  \n"
     ]
    }
   ],
   "source": [
    "spotify_population = read_feather_fun('datasets','spotify_2000_2020', dir)\n",
    "print(spotify_population.head(5))"
   ]
  },
  {
   "cell_type": "code",
   "execution_count": 87,
   "metadata": {},
   "outputs": [
    {
     "name": "stdout",
     "output_type": "stream",
     "text": [
      "   Age  Attrition     BusinessTravel  DailyRate            Department  \\\n",
      "0   21        0.0      Travel_Rarely        391  Research_Development   \n",
      "1   19        1.0      Travel_Rarely        528                 Sales   \n",
      "2   18        1.0      Travel_Rarely        230  Research_Development   \n",
      "3   18        0.0      Travel_Rarely        812                 Sales   \n",
      "4   18        1.0  Travel_Frequently       1306                 Sales   \n",
      "\n",
      "   DistanceFromHome      Education EducationField EnvironmentSatisfaction  \\\n",
      "0                15        College  Life_Sciences                    High   \n",
      "1                22  Below_College      Marketing               Very_High   \n",
      "2                 3       Bachelor  Life_Sciences                    High   \n",
      "3                10       Bachelor        Medical               Very_High   \n",
      "4                 5       Bachelor      Marketing                  Medium   \n",
      "\n",
      "   Gender  ...  PerformanceRating RelationshipSatisfaction  StockOptionLevel  \\\n",
      "0    Male  ...          Excellent                Very_High                 0   \n",
      "1    Male  ...          Excellent                Very_High                 0   \n",
      "2    Male  ...          Excellent                     High                 0   \n",
      "3  Female  ...          Excellent                      Low                 0   \n",
      "4    Male  ...          Excellent                Very_High                 0   \n",
      "\n",
      "  TotalWorkingYears TrainingTimesLastYear WorkLifeBalance  YearsAtCompany  \\\n",
      "0                 0                     6          Better               0   \n",
      "1                 0                     2            Good               0   \n",
      "2                 0                     2          Better               0   \n",
      "3                 0                     2          Better               0   \n",
      "4                 0                     3          Better               0   \n",
      "\n",
      "   YearsInCurrentRole  YearsSinceLastPromotion YearsWithCurrManager  \n",
      "0                   0                        0                    0  \n",
      "1                   0                        0                    0  \n",
      "2                   0                        0                    0  \n",
      "3                   0                        0                    0  \n",
      "4                   0                        0                    0  \n",
      "\n",
      "[5 rows x 31 columns]\n"
     ]
    }
   ],
   "source": [
    "attrition_pop = read_feather_fun('datasets','attrition', dir)\n",
    "print(attrition_pop.head(5))"
   ]
  },
  {
   "attachments": {},
   "cell_type": "markdown",
   "metadata": {},
   "source": [
    "## **Introduction to Sampling (Module 01-053)**"
   ]
  },
  {
   "attachments": {},
   "cell_type": "markdown",
   "metadata": {},
   "source": [
    "#### **Sampling and point estimates**\n",
    "\n",
    "1. Sampling households\n",
    "Cheaper to ask a small number of households\n",
    "and use statistics to estimate the population\n",
    "Working with a subset of the whole population\n",
    "is called sampling\n",
    "2. Population vs. sample\n",
    "The population is the complete dataset\n",
    "Doesn't have to refer to people\n",
    "Typically, don't know what the whole population is\n",
    "The sample is the subset of data you calculate on\n",
    "3. Coffee rating dataset\n",
    "Each row represents 1 coffee\n",
    "1338 rows\n",
    "We'll treat this as the population\n",
    "4. Points vs. flavor: population\n",
    "pts_vs_flavor_pop = coffee_ratings[[\"total_cup_points\", \"flavor\"]]\n",
    "5. Points vs. flavor: 10 row sample\n",
    "pts_vs_flavor_samp = pts_vs_flavor_pop.sample(n=10)\n",
    "6. Python sampling for Series\n",
    "cup_points_samp = coffee_ratings['total_cup_points'].sample(n=10)\n",
    "7. Population parameters & point estimates\n",
    "import numpy as np\n",
    "np.mean(pts_vs_flavor_pop['total_cup_points'])\n",
    "np.mean(cup_points_samp)\n",
    "8. Point estimates with pandas\n",
    "pts_vs_flavor_pop['flavor'].mean()\n",
    "pts_vs_flavor_samp['flavor'].mean()"
   ]
  },
  {
   "cell_type": "code",
   "execution_count": 88,
   "metadata": {},
   "outputs": [
    {
     "name": "stdout",
     "output_type": "stream",
     "text": [
      "      total_cup_points  flavor\n",
      "0                90.58    8.83\n",
      "1                89.92    8.67\n",
      "2                89.75    8.50\n",
      "3                89.00    8.58\n",
      "4                88.83    8.50\n",
      "...                ...     ...\n",
      "1333             78.75    7.58\n",
      "1334             78.08    7.67\n",
      "1335             77.17    7.33\n",
      "1336             75.08    6.83\n",
      "1337             73.75    6.67\n",
      "\n",
      "[1338 rows x 2 columns]\n",
      "      total_cup_points  flavor\n",
      "1196             79.08    7.25\n",
      "233              84.08    7.67\n",
      "498              83.00    7.67\n",
      "250              84.00    7.75\n",
      "896              81.58    7.42\n",
      "1154             79.75    7.25\n",
      "571              82.83    7.50\n",
      "34               86.25    8.08\n",
      "1114             80.08    7.17\n",
      "857              81.83    7.50\n",
      "1144    79.75\n",
      "585     82.75\n",
      "1058    80.67\n",
      "651     82.58\n",
      "1142    79.83\n",
      "479     83.08\n",
      "238     84.08\n",
      "968     81.25\n",
      "734     82.25\n",
      "447     83.17\n",
      "Name: total_cup_points, dtype: float64\n"
     ]
    }
   ],
   "source": [
    "pts_vs_flavor_pop = coffee_ratings[[\"total_cup_points\", \"flavor\"]]\n",
    "print(pts_vs_flavor_pop)\n",
    "pts_vs_flavor_samp = pts_vs_flavor_pop.sample(n=10)\n",
    "print(pts_vs_flavor_samp)\n",
    "cup_points_samp = coffee_ratings['total_cup_points'].sample(n=10)\n",
    "print(cup_points_samp)\n"
   ]
  },
  {
   "cell_type": "code",
   "execution_count": 89,
   "metadata": {},
   "outputs": [
    {
     "data": {
      "text/plain": [
       "82.15120328849028"
      ]
     },
     "metadata": {},
     "output_type": "display_data"
    },
    {
     "data": {
      "text/plain": [
       "81.941"
      ]
     },
     "metadata": {},
     "output_type": "display_data"
    },
    {
     "data": {
      "text/plain": [
       "7.526046337817639"
      ]
     },
     "metadata": {},
     "output_type": "display_data"
    },
    {
     "data": {
      "text/plain": [
       "7.526000000000001"
      ]
     },
     "metadata": {},
     "output_type": "display_data"
    }
   ],
   "source": [
    "import numpy as np\n",
    "display(\n",
    "    np.mean(pts_vs_flavor_pop['total_cup_points'])\n",
    ")\n",
    "display(\n",
    "    np.mean(cup_points_samp)\n",
    ")\n",
    "display(\n",
    "    pts_vs_flavor_pop['flavor'].mean()\n",
    ")\n",
    "display(\n",
    "    pts_vs_flavor_samp['flavor'].mean()\n",
    ")"
   ]
  },
  {
   "cell_type": "markdown",
   "metadata": {},
   "source": [
    "Simple sampling with pandas\n",
    "Throughout this chapter, you'll be exploring song data from Spotify. Each row of this population dataset represents a song, and there are over 40,000 rows. Columns include the song name, the artists who performed it, the release year, and attributes of the song like its duration, tempo, and danceability. You'll start by looking at the durations.\n",
    "\n",
    "Your first task is to sample the Spotify dataset and compare the mean duration of the population with the sample.\n",
    "\n",
    "spotify_population is available and pandas is loaded as pd."
   ]
  },
  {
   "cell_type": "code",
   "execution_count": 90,
   "metadata": {},
   "outputs": [
    {
     "name": "stdout",
     "output_type": "stream",
     "text": [
      "       acousticness                                            artists  \\\n",
      "26615      0.000021                        ['Five Finger Death Punch']   \n",
      "13917      0.958000                               ['Imaginary Future']   \n",
      "10760      0.230000                            ['Benjy Davis Project']   \n",
      "15824      0.000014                        ['Five Finger Death Punch']   \n",
      "20111      0.078900                                            ['BTS']   \n",
      "...             ...                                                ...   \n",
      "39256      0.016900  ['League of Legends', 'The Glitch Mob', 'Mako'...   \n",
      "15821      0.994000                          ['Native American Flute']   \n",
      "33637      0.165000                                  ['Stevie Wonder']   \n",
      "29995      0.932000                                ['Amanda Seyfried']   \n",
      "22789      0.051300                                       ['Rod Wave']   \n",
      "\n",
      "       danceability  duration_ms  duration_minutes  energy  explicit  \\\n",
      "26615         0.485     224906.0          3.748433   0.987       1.0   \n",
      "13917         0.643     210202.0          3.503367   0.117       0.0   \n",
      "10760         0.681     193093.0          3.218217   0.655       0.0   \n",
      "15824         0.468     218133.0          3.635550   0.996       1.0   \n",
      "20111         0.564     205061.0          3.417683   0.945       0.0   \n",
      "...             ...          ...               ...     ...       ...   \n",
      "39256         0.459     192881.0          3.214683   0.663       0.0   \n",
      "15821         0.218     262000.0          4.366667   0.034       0.0   \n",
      "33637         0.685     222733.0          3.712217   0.823       0.0   \n",
      "29995         0.527     224107.0          3.735117   0.134       0.0   \n",
      "22789         0.733     159670.0          2.661167   0.389       1.0   \n",
      "\n",
      "                           id  instrumentalness   key  liveness  loudness  \\\n",
      "26615  6AKWOVOJ81OQfsgxZbJ6QN          0.000000   4.0    0.2670    -3.100   \n",
      "13917  6r44uyKRo3jKFRkThTZBXu          0.000342   3.0    0.1080   -13.048   \n",
      "10760  3rts9sVLm6KQkVOacdE6jg          0.000000   7.0    0.2890    -9.017   \n",
      "15824  6c6uAJ0wpgmTgCM4gQQNyT          0.000000  11.0    0.2600    -3.027   \n",
      "20111  1yFEQO3mOtDAje6rOyj2Cf          0.000000  11.0    0.0873    -3.110   \n",
      "...                       ...               ...   ...       ...       ...   \n",
      "39256  69Sy7207dnixZ6w7RSV9Kb          0.000000   8.0    0.0621    -5.939   \n",
      "15821  09n5OYAlgClYFQFYtXjVwS          0.744000   4.0    0.0746   -25.723   \n",
      "33637  798bKohvGZenetnHsKzUC6          0.000000  10.0    0.0796    -6.901   \n",
      "29995  64yJ0tpcSveze3KJAdZGKe          0.000000   4.0    0.1030   -11.264   \n",
      "22789  6fWa5CRgy0z30OeGZyMBvD          0.000000  10.0    0.1410    -8.468   \n",
      "\n",
      "       mode                                               name  popularity  \\\n",
      "26615   1.0                                   Wash It All Away        62.0   \n",
      "13917   1.0                          I Knew This Would Be Love        54.0   \n",
      "10760   1.0                           Louisiana Saturday Night        37.0   \n",
      "15824   0.0                                  Under and Over It        43.0   \n",
      "20111   0.0                                       Paldogangsan        53.0   \n",
      "...     ...                                                ...         ...   \n",
      "39256   0.0                                               RISE        73.0   \n",
      "15821   0.0  Lullaby with Flute & Crickets - Soothing Crick...        45.0   \n",
      "33637   0.0                   Part-Time Lover - Single Version        55.0   \n",
      "29995   1.0  Thank You For The Music - From 'Mamma Mia!' Or...        60.0   \n",
      "22789   0.0                                       Heart On Ice        82.0   \n",
      "\n",
      "      release_date  speechiness    tempo  valence    year  \n",
      "26615   2015-09-04       0.0738  123.576    0.272  2015.0  \n",
      "13917   2013-05-14       0.0355  120.611    0.501  2013.0  \n",
      "10760   2002-06-11       0.0472  116.555    0.701  2002.0  \n",
      "15824   2011-10-11       0.1790   75.978    0.094  2011.0  \n",
      "20111   2013-09-11       0.2430  105.018    0.871  2013.0  \n",
      "...            ...          ...      ...      ...     ...  \n",
      "39256   2018-09-28       0.1000  176.791    0.412  2018.0  \n",
      "15821   2011-12-05       0.0397   66.617    0.163  2011.0  \n",
      "33637   2002-10-29       0.0524  174.491    0.947  2002.0  \n",
      "29995   2008-01-01       0.0348   98.879    0.479  2008.0  \n",
      "22789   2019-06-14       0.0738  157.878    0.244  2019.0  \n",
      "\n",
      "[1000 rows x 20 columns]\n",
      "3.8521519140900073\n",
      "3.8471203166666665\n"
     ]
    }
   ],
   "source": [
    "# Sample 1000 rows from spotify_population\n",
    "spotify_sample = spotify_population.sample(n=1000)\n",
    "\n",
    "# Print the sample\n",
    "print(spotify_sample)\n",
    "\n",
    "# Calculate the mean duration in mins from spotify_population\n",
    "mean_dur_pop = spotify_population['duration_minutes'].mean()\n",
    "\n",
    "# Calculate the mean duration in mins from spotify_sample\n",
    "mean_dur_samp = spotify_sample['duration_minutes'].mean()\n",
    "\n",
    "# Print the means\n",
    "print(mean_dur_pop)\n",
    "print(mean_dur_samp)\n"
   ]
  },
  {
   "cell_type": "markdown",
   "metadata": {},
   "source": [
    "Simple sampling and calculating with NumPy\n",
    "You can also use numpy to calculate parameters or statistics from a list or pandas Series.\n",
    "\n",
    "You'll be turning it up to eleven and looking at the loudness property of each song.\n",
    "\n",
    "spotify_population is available and numpy is loaded as np."
   ]
  },
  {
   "cell_type": "code",
   "execution_count": 91,
   "metadata": {},
   "outputs": [
    {
     "name": "stdout",
     "output_type": "stream",
     "text": [
      "-7.366856851353947\n",
      "-7.441619999999998\n"
     ]
    }
   ],
   "source": [
    "# Create a pandas Series from the loudness column of spotify_population\n",
    "loudness_pop = spotify_population['loudness']\n",
    "\n",
    "# Sample 100 values of loudness_pop\n",
    "loudness_samp = loudness_pop.sample(n=100)\n",
    "\n",
    "# Calculate the mean of loudness_pop\n",
    "mean_loudness_pop = np.mean(loudness_pop)\n",
    "\n",
    "# Calculate the mean of loudness_samp\n",
    "mean_loudness_samp = np.mean(loudness_samp)\n",
    "\n",
    "print(mean_loudness_pop)\n",
    "print(mean_loudness_samp)"
   ]
  },
  {
   "attachments": {},
   "cell_type": "markdown",
   "metadata": {},
   "source": [
    "#### **Convenience sampling**\n",
    "\n",
    "1. The Literary Digest election prediction\n",
    "Prediction: Landon gets 57%; Roosevelt gets 43%\n",
    "Actual results: Landon got 38%; Roosevelt got 62%\n",
    "Sample not representative of population, causing sample bias\n",
    "Collecting data by the easiest method is called convenience sampling\n",
    "2. Convenience sampling coffee ratings\n",
    "coffee_ratings[\"total_cup_points\"].mean()\n",
    "coffee_ratings_first10 = coffee_ratings.head(10)\n",
    "coffee_ratings_first10[\"total_cup_points\"].mean()\n",
    "3. Visualizing selection bias\n",
    "import matplotlib.pyplot as plt\n",
    "import numpy as np\n",
    "coffee_ratings[\"total_cup_points\"].hist(bins=np.arange(59, 93, 2))\n",
    "plt.show()\n",
    "\n",
    "coffee_ratings_first10[\"total_cup_points\"].hist(bins=np.arange(59, 93, 2))\n",
    "plt.show()\n",
    "4. Visualizing selection bias for a random sample\n",
    "coffee_sample = coffee_ratings.sample(n=10)\n",
    "coffee_sample[\"total_cup_points\"].hist(bins=np.arange(59, 93, 2))\n",
    "plt.show()"
   ]
  },
  {
   "cell_type": "code",
   "execution_count": 92,
   "metadata": {},
   "outputs": [
    {
     "data": {
      "text/plain": [
       "82.15120328849028"
      ]
     },
     "metadata": {},
     "output_type": "display_data"
    },
    {
     "data": {
      "text/plain": [
       "89.1"
      ]
     },
     "execution_count": 92,
     "metadata": {},
     "output_type": "execute_result"
    }
   ],
   "source": [
    "display(\n",
    "coffee_ratings[\"total_cup_points\"].mean()\n",
    ")\n",
    "\n",
    "display(\n",
    "coffee_ratings_first10 = coffee_ratings.head(10)\n",
    ")\n",
    "\n",
    "\n",
    "coffee_ratings_first10 = coffee_ratings.head(10)\n",
    "coffee_ratings_first10[\"total_cup_points\"].mean()\n"
   ]
  },
  {
   "cell_type": "code",
   "execution_count": 93,
   "metadata": {},
   "outputs": [
    {
     "data": {
      "image/png": "[encoded data removed]",
      "text/plain": [
       "<Figure size 640x480 with 1 Axes>"
      ]
     },
     "metadata": {},
     "output_type": "display_data"
    },
    {
     "data": {
      "image/png": "[encoded data removed]",
      "text/plain": [
       "<Figure size 640x480 with 1 Axes>"
      ]
     },
     "metadata": {},
     "output_type": "display_data"
    },
    {
     "data": {
      "image/png": "[encoded data removed]",
      "text/plain": [
       "<Figure size 640x480 with 1 Axes>"
      ]
     },
     "metadata": {},
     "output_type": "display_data"
    }
   ],
   "source": [
    "import matplotlib.pyplot as plt\n",
    "import numpy as np\n",
    "coffee_ratings[\"total_cup_points\"].hist(bins=np.arange(59, 93, 2))\n",
    "plt.show()\n",
    "\n",
    "coffee_ratings_first10[\"total_cup_points\"].hist(bins=np.arange(59, 93, 2))\n",
    "plt.show()\n",
    "\n",
    "coffee_sample = coffee_ratings.sample(n=10)\n",
    "coffee_sample[\"total_cup_points\"].hist(bins=np.arange(59, 93, 2))\n",
    "plt.show()"
   ]
  },
  {
   "cell_type": "markdown",
   "metadata": {},
   "source": [
    "Are findings from the sample generalizable?\n",
    "You just saw how convenience sampling—collecting data using the easiest method—can result in samples that aren't representative of the population. Equivalently, this means findings from the sample are not generalizable to the population. Visualizing the distributions of the population and the sample can help determine whether or not the sample is representative of the population.\n",
    "\n",
    "The Spotify dataset contains an acousticness column, which is a confidence measure from zero to one of whether the track was made with instruments that aren't plugged in. You'll compare the acousticness distribution of the total population of songs with a sample of those songs.\n",
    "\n",
    "spotify_population and spotify_mysterious_sample are available; pandas as pd, matplotlib.pyplot as plt, and numpy as np are loaded."
   ]
  },
  {
   "cell_type": "code",
   "execution_count": 94,
   "metadata": {},
   "outputs": [
    {
     "data": {
      "image/png": "[encoded data removed]",
      "text/plain": [
       "<Figure size 640x480 with 1 Axes>"
      ]
     },
     "metadata": {},
     "output_type": "display_data"
    }
   ],
   "source": [
    "# Visualize the distribution of acousticness with a histogram\n",
    "spotify_population[\"acousticness\"].hist(bins=np.arange(0, 1.01, 0.01))\n",
    "plt.show()"
   ]
  },
  {
   "cell_type": "markdown",
   "metadata": {},
   "source": [
    "Are these findings generalizable?\n",
    "Let's look at another sample to see if it is representative of the population. This time, you'll look at the duration_minutes column of the Spotify dataset, which contains the length of the song in minutes.\n",
    "\n",
    "spotify_population and spotify_mysterious_sample2 are available; pandas, matplotlib.pyplot, and numpy are loaded using their standard aliases."
   ]
  },
  {
   "cell_type": "code",
   "execution_count": 95,
   "metadata": {},
   "outputs": [
    {
     "data": {
      "image/png": "[encoded data removed]",
      "text/plain": [
       "<Figure size 640x480 with 1 Axes>"
      ]
     },
     "metadata": {},
     "output_type": "display_data"
    },
    {
     "data": {
      "image/png": "[encoded data removed]",
      "text/plain": [
       "<Figure size 640x480 with 1 Axes>"
      ]
     },
     "metadata": {},
     "output_type": "display_data"
    }
   ],
   "source": [
    "# Visualize the distribution of duration_minutes as a histogram\n",
    "spotify_population['duration_minutes'].hist(bins=np.arange(0, 15.5, 0.5))\n",
    "plt.show()\n",
    "\n",
    "spotify_population_sample = spotify_population.sample(n=1000)\n",
    "spotify_population_sample['duration_minutes'].hist(bins=np.arange(0, 15.5, 0.5))\n",
    "plt.show()"
   ]
  },
  {
   "cell_type": "markdown",
   "metadata": {},
   "source": [
    "#### **Pseudo-random number generation**\n",
    "\n",
    "1. What does random mean?\n",
    "{adjective} made, done, happening, or chosen without method or conscious decision.\n",
    "2. True random numbers\n",
    "Generated from physical processes, like flipping coins\n",
    "Hotbits uses radioactive decay\n",
    "RANDOM.ORG uses atmospheric noise\n",
    "True randomness is expensive\n",
    "3. Pseudo-random number generation\n",
    "Pseudo-random number generation is cheap and fast\n",
    "Next \"random\" number calculated from previous \"random\" number\n",
    "The first \"random\" number calculated from a seed\n",
    "The same seed value yields the same random numbers\n",
    "4. Pseudo-random number generation example\n",
    "seed = 1\n",
    "calc_next_random(seed)\n",
    "calc_next_random(3)\n",
    "calc_next_random(2)\n",
    "\n",
    "5. Random number generating functions\n",
    "Prepend with numpy.random , such as numpy.random.beta()\n",
    "\n",
    "function            distribution    \n",
    ".beta               Beta            \n",
    ".binomial           Binomial \n",
    ".chisquare          Chi-squared \n",
    ".exponential        Exponential \n",
    ".f                  F \n",
    ".gamma              Gamma \n",
    ".geometric          Geometric \n",
    ".hypergeometric     Hypergeometric\n",
    ".lognormal          Lognormal\n",
    ".negative_binomial  Negative binomial\n",
    ".normal             Normal\n",
    ".standard_t         t\n",
    ".uniform            Uniform\n",
    ".poisson            Poisson\n",
    "\n",
    "6. Visualizing random numbers\n",
    "randoms = np.random.beta(a=2, b=2, size=5000)\n",
    "randoms\n",
    "plt.hist(randoms, bins=np.arange(0, 1, 0.05))\n",
    "plt.show()\n",
    "\n",
    "7. Random numbers seeds\n",
    "np.random.seed(20000229)\n",
    "np.random.normal(loc=2, scale=1.5, size=2)\n",
    "np.random.normal(loc=2, scale=1.5, size=2)"
   ]
  },
  {
   "cell_type": "code",
   "execution_count": 96,
   "metadata": {},
   "outputs": [
    {
     "data": {
      "text/plain": [
       "array([0.6646709 , 0.31606437, 0.07733931, ..., 0.38157405, 0.49186245,\n",
       "       0.49232446])"
      ]
     },
     "execution_count": 96,
     "metadata": {},
     "output_type": "execute_result"
    }
   ],
   "source": [
    "randoms = np.random.beta(a=2, b=2, size=5000)\n",
    "randoms"
   ]
  },
  {
   "cell_type": "code",
   "execution_count": 97,
   "metadata": {},
   "outputs": [
    {
     "data": {
      "image/png": "[encoded data removed]",
      "text/plain": [
       "<Figure size 640x480 with 1 Axes>"
      ]
     },
     "metadata": {},
     "output_type": "display_data"
    }
   ],
   "source": [
    "plt.hist(randoms, bins=np.arange(0, 1, 0.05))\n",
    "plt.show()"
   ]
  },
  {
   "cell_type": "code",
   "execution_count": 98,
   "metadata": {},
   "outputs": [
    {
     "data": {
      "text/plain": [
       "array([-0.59030264,  1.87821258])"
      ]
     },
     "metadata": {},
     "output_type": "display_data"
    },
    {
     "data": {
      "text/plain": [
       "array([2.52619561, 4.9684949 ])"
      ]
     },
     "metadata": {},
     "output_type": "display_data"
    }
   ],
   "source": [
    "np.random.seed(20000229)\n",
    "display(np.random.normal(loc=2, scale=1.5, size=2))\n",
    "display(np.random.normal(loc=2, scale=1.5, size=2))"
   ]
  },
  {
   "cell_type": "code",
   "execution_count": 99,
   "metadata": {},
   "outputs": [
    {
     "data": {
      "text/plain": [
       "array([1.09364337, 4.55285159])"
      ]
     },
     "metadata": {},
     "output_type": "display_data"
    },
    {
     "data": {
      "text/plain": [
       "array([2.67038916, 2.36677492])"
      ]
     },
     "metadata": {},
     "output_type": "display_data"
    }
   ],
   "source": [
    "np.random.seed(20041004)\n",
    "display(np.random.normal(loc=2, scale=1.5, size=2))\n",
    "display(np.random.normal(loc=2, scale=1.5, size=2))"
   ]
  },
  {
   "cell_type": "markdown",
   "metadata": {},
   "source": [
    "Generating random numbers\n",
    "You've used .sample() to generate pseudo-random numbers from a set of values in a DataFrame. A related task is to generate random numbers that follow a statistical distribution, like the uniform distribution or the normal distribution.\n",
    "\n",
    "Each random number generation function has distribution-specific arguments and an argument for specifying the number of random numbers to generate.\n",
    "\n",
    "matplotlib.pyplot is loaded as plt, and numpy is loaded as np."
   ]
  },
  {
   "cell_type": "code",
   "execution_count": 100,
   "metadata": {},
   "outputs": [
    {
     "name": "stdout",
     "output_type": "stream",
     "text": [
      "[1.31207896 2.65406494 0.16554078 ... 0.32216778 1.19004017 1.5796729 ]\n"
     ]
    }
   ],
   "source": [
    "# Generate random numbers from a Uniform(-3, 3)\n",
    "uniforms = np.random.uniform (low=-3, high=3, size=5000)\n",
    "\n",
    "# Print uniforms\n",
    "print(uniforms)"
   ]
  },
  {
   "cell_type": "code",
   "execution_count": 101,
   "metadata": {},
   "outputs": [
    {
     "name": "stdout",
     "output_type": "stream",
     "text": [
      "[8.77033628 6.84321057 7.47245163 ... 1.48283423 4.66959453 1.66179071]\n"
     ]
    }
   ],
   "source": [
    "# Generate random numbers from a Uniform(-3, 3)\n",
    "uniforms = np.random.uniform(low=-3, high=3, size=5000)\n",
    "\n",
    "# Generate random numbers from a Normal(5, 2)\n",
    "normals = np.random.normal(loc=5, scale=2, size=5000)\n",
    "\n",
    "# Print normals\n",
    "print(normals)"
   ]
  },
  {
   "cell_type": "code",
   "execution_count": 102,
   "metadata": {},
   "outputs": [
    {
     "data": {
      "image/png": "[encoded data removed]",
      "text/plain": [
       "<Figure size 640x480 with 1 Axes>"
      ]
     },
     "metadata": {},
     "output_type": "display_data"
    }
   ],
   "source": [
    "# Generate random numbers from a Uniform(-3, 3)\n",
    "uniforms = np.random.uniform(low=-3, high=3, size=5000)\n",
    "\n",
    "# Plot a histogram of uniform values, binwidth 0.25\n",
    "plt.hist(uniforms, bins=np.arange(-3, 3.25, 0.25))\n",
    "plt.show()"
   ]
  },
  {
   "cell_type": "code",
   "execution_count": 103,
   "metadata": {},
   "outputs": [
    {
     "data": {
      "image/png": "[encoded data removed]",
      "text/plain": [
       "<Figure size 640x480 with 1 Axes>"
      ]
     },
     "metadata": {},
     "output_type": "display_data"
    }
   ],
   "source": [
    "# Generate random numbers from a Normal(5, 2)\n",
    "normals = np.random.normal(loc=5, scale=2, size=5000)\n",
    "\n",
    "# Plot a histogram of normal values, binwidth 0.5\n",
    "plt.hist(normals, bins=np.arange(-2, 13.5, 0.5))\n",
    "plt.show()"
   ]
  },
  {
   "cell_type": "markdown",
   "metadata": {},
   "source": [
    "Understanding random seeds\n",
    "While random numbers are important for many analyses, they create a problem: the results you get can vary slightly. This can cause awkward conversations with your boss when your script for calculating the sales forecast gives different answers each time.\n",
    "\n",
    "Setting the seed for numpy's random number generator helps avoid such problems by making the random number generation reproducible."
   ]
  },
  {
   "cell_type": "code",
   "execution_count": 104,
   "metadata": {},
   "outputs": [
    {
     "name": "stdout",
     "output_type": "stream",
     "text": [
      "[-1.0856306   0.99734545  0.2829785  -1.50629471 -0.57860025]\n"
     ]
    },
    {
     "data": {
      "text/plain": [
       "None"
      ]
     },
     "metadata": {},
     "output_type": "display_data"
    },
    {
     "name": "stdout",
     "output_type": "stream",
     "text": [
      "[ 1.65143654 -2.42667924 -0.42891263  1.26593626 -0.8667404 ]\n"
     ]
    },
    {
     "data": {
      "text/plain": [
       "None"
      ]
     },
     "metadata": {},
     "output_type": "display_data"
    }
   ],
   "source": [
    "import numpy as np\n",
    "np.random.seed(123)\n",
    "x = np.random.normal(size=5)\n",
    "y = np.random.normal(size=5)\n",
    "display(print(x))\n",
    "display(print(y))"
   ]
  },
  {
   "cell_type": "code",
   "execution_count": 105,
   "metadata": {},
   "outputs": [
    {
     "name": "stdout",
     "output_type": "stream",
     "text": [
      "[-1.0856306   0.99734545  0.2829785  -1.50629471 -0.57860025]\n"
     ]
    },
    {
     "data": {
      "text/plain": [
       "None"
      ]
     },
     "metadata": {},
     "output_type": "display_data"
    },
    {
     "name": "stdout",
     "output_type": "stream",
     "text": [
      "[-1.0856306   0.99734545  0.2829785  -1.50629471 -0.57860025]\n"
     ]
    },
    {
     "data": {
      "text/plain": [
       "None"
      ]
     },
     "metadata": {},
     "output_type": "display_data"
    }
   ],
   "source": [
    "import numpy as np\n",
    "np.random.seed(123)\n",
    "x = np.random.normal(size=5)\n",
    "np.random.seed(123)\n",
    "y = np.random.normal(size=5)\n",
    "display(print(x))\n",
    "display(print(y))"
   ]
  },
  {
   "cell_type": "code",
   "execution_count": 106,
   "metadata": {},
   "outputs": [
    {
     "name": "stdout",
     "output_type": "stream",
     "text": [
      "[-1.0856306   0.99734545  0.2829785  -1.50629471 -0.57860025]\n"
     ]
    },
    {
     "data": {
      "text/plain": [
       "None"
      ]
     },
     "metadata": {},
     "output_type": "display_data"
    },
    {
     "name": "stdout",
     "output_type": "stream",
     "text": [
      "[-0.6681285  -0.49820952  0.61857582  0.56869225  1.35050948]\n"
     ]
    },
    {
     "data": {
      "text/plain": [
       "None"
      ]
     },
     "metadata": {},
     "output_type": "display_data"
    }
   ],
   "source": [
    "import numpy as np\n",
    "np.random.seed(123)\n",
    "x = np.random.normal(size=5)\n",
    "np.random.seed(456)\n",
    "y = np.random.normal(size=5)\n",
    "display(print(x))\n",
    "display(print(y))"
   ]
  },
  {
   "attachments": {},
   "cell_type": "markdown",
   "metadata": {},
   "source": [
    "## **Sampling Methods (Module 02-053)**"
   ]
  },
  {
   "attachments": {},
   "cell_type": "markdown",
   "metadata": {},
   "source": [
    "#### **Simple random and systematic sampling**\n",
    "\n",
    "1. Simple random sampling with pandas\n",
    "coffee_ratings.sample(n=5, random_state=19000113)\n",
    "\n",
    "2. Systematic sampling - defining the interval\n",
    "sample_size = 5\n",
    "pop_size = len(coffee_ratings)\n",
    "print(pop_size)\n",
    "interval = pop_size // sample_size\n",
    "print(interval)\n",
    "\n",
    "3. Systematic sampling - selecting the rows //The trouble with systematic sampling\n",
    "\n",
    "coffee_ratings.iloc[::interval]\n",
    "\n",
    "coffee_ratings_with_id = coffee_ratings.reset_index()\n",
    "coffee_ratings_with_id.plot(x=\"index\", y=\"aftertaste\", kind=\"scatter\")\n",
    "plt.show()\n",
    "\n",
    "4. Making systematic sampling safe\n",
    "\n",
    "shuffled = coffee_ratings.sample(frac=1)\n",
    "shuffled = shuffled.reset_index(drop=True).reset_index()\n",
    "shuffled.plot(x=\"index\", y=\"aftertaste\", kind=\"scatter\")\n",
    "plt.show()"
   ]
  },
  {
   "cell_type": "code",
   "execution_count": 107,
   "metadata": {},
   "outputs": [
    {
     "data": {
      "text/html": [
       "<div>\n",
       "<style scoped>\n",
       "    .dataframe tbody tr th:only-of-type {\n",
       "        vertical-align: middle;\n",
       "    }\n",
       "\n",
       "    .dataframe tbody tr th {\n",
       "        vertical-align: top;\n",
       "    }\n",
       "\n",
       "    .dataframe thead th {\n",
       "        text-align: right;\n",
       "    }\n",
       "</style>\n",
       "<table border=\"1\" class=\"dataframe\">\n",
       "  <thead>\n",
       "    <tr style=\"text-align: right;\">\n",
       "      <th></th>\n",
       "      <th>total_cup_points</th>\n",
       "      <th>species</th>\n",
       "      <th>owner</th>\n",
       "      <th>country_of_origin</th>\n",
       "      <th>farm_name</th>\n",
       "      <th>lot_number</th>\n",
       "      <th>mill</th>\n",
       "      <th>ico_number</th>\n",
       "      <th>company</th>\n",
       "      <th>altitude</th>\n",
       "      <th>...</th>\n",
       "      <th>color</th>\n",
       "      <th>category_two_defects</th>\n",
       "      <th>expiration</th>\n",
       "      <th>certification_body</th>\n",
       "      <th>certification_address</th>\n",
       "      <th>certification_contact</th>\n",
       "      <th>unit_of_measurement</th>\n",
       "      <th>altitude_low_meters</th>\n",
       "      <th>altitude_high_meters</th>\n",
       "      <th>altitude_mean_meters</th>\n",
       "    </tr>\n",
       "  </thead>\n",
       "  <tbody>\n",
       "    <tr>\n",
       "      <th>437</th>\n",
       "      <td>83.25</td>\n",
       "      <td>Arabica</td>\n",
       "      <td>exportadora de cafe condor s.a</td>\n",
       "      <td>Colombia</td>\n",
       "      <td>None</td>\n",
       "      <td>None</td>\n",
       "      <td>trilladora bonanza - armenia quindioa</td>\n",
       "      <td>3-68-0205</td>\n",
       "      <td>None</td>\n",
       "      <td>1600-1800msnm</td>\n",
       "      <td>...</td>\n",
       "      <td>None</td>\n",
       "      <td>0.0</td>\n",
       "      <td>June 13th, 2012</td>\n",
       "      <td>Almacafé</td>\n",
       "      <td>e493c36c2d076bf273064f7ac23ad562af257a25</td>\n",
       "      <td>70d3c0c26f89e00fdae6fb39ff54f0d2eb1c38ab</td>\n",
       "      <td>m</td>\n",
       "      <td>1600.0</td>\n",
       "      <td>1800.0</td>\n",
       "      <td>1700.0</td>\n",
       "    </tr>\n",
       "    <tr>\n",
       "      <th>285</th>\n",
       "      <td>83.83</td>\n",
       "      <td>Arabica</td>\n",
       "      <td>ipanema coffees</td>\n",
       "      <td>Brazil</td>\n",
       "      <td>fazenda rio verde</td>\n",
       "      <td>None</td>\n",
       "      <td>ipanema coffees</td>\n",
       "      <td>002/4177/0121</td>\n",
       "      <td>ipanema coffees</td>\n",
       "      <td>1260</td>\n",
       "      <td>...</td>\n",
       "      <td>Green</td>\n",
       "      <td>0.0</td>\n",
       "      <td>December 26th, 2014</td>\n",
       "      <td>Specialty Coffee Association</td>\n",
       "      <td>36d0d00a3724338ba7937c52a378d085f2172daa</td>\n",
       "      <td>0878a7d4b9d35ddbf0fe2ce69a2062cceb45a660</td>\n",
       "      <td>m</td>\n",
       "      <td>1260.0</td>\n",
       "      <td>1260.0</td>\n",
       "      <td>1260.0</td>\n",
       "    </tr>\n",
       "    <tr>\n",
       "      <th>784</th>\n",
       "      <td>82.08</td>\n",
       "      <td>Arabica</td>\n",
       "      <td>cafe politico</td>\n",
       "      <td>Colombia</td>\n",
       "      <td>None</td>\n",
       "      <td>None</td>\n",
       "      <td>None</td>\n",
       "      <td>3-59-1656</td>\n",
       "      <td>cafe politico</td>\n",
       "      <td>None</td>\n",
       "      <td>...</td>\n",
       "      <td>Green</td>\n",
       "      <td>0.0</td>\n",
       "      <td>September 12th, 2015</td>\n",
       "      <td>Specialty Coffee Association</td>\n",
       "      <td>36d0d00a3724338ba7937c52a378d085f2172daa</td>\n",
       "      <td>0878a7d4b9d35ddbf0fe2ce69a2062cceb45a660</td>\n",
       "      <td>m</td>\n",
       "      <td>NaN</td>\n",
       "      <td>NaN</td>\n",
       "      <td>NaN</td>\n",
       "    </tr>\n",
       "    <tr>\n",
       "      <th>648</th>\n",
       "      <td>82.58</td>\n",
       "      <td>Arabica</td>\n",
       "      <td>exportadora de cafe condor s.a</td>\n",
       "      <td>Colombia</td>\n",
       "      <td>None</td>\n",
       "      <td>None</td>\n",
       "      <td>trilladora boananza</td>\n",
       "      <td>3-68-0140</td>\n",
       "      <td>exportadora de cafe condor s.a</td>\n",
       "      <td>1750 msnm</td>\n",
       "      <td>...</td>\n",
       "      <td>Green</td>\n",
       "      <td>0.0</td>\n",
       "      <td>February 27th, 2014</td>\n",
       "      <td>Almacafé</td>\n",
       "      <td>e493c36c2d076bf273064f7ac23ad562af257a25</td>\n",
       "      <td>70d3c0c26f89e00fdae6fb39ff54f0d2eb1c38ab</td>\n",
       "      <td>m</td>\n",
       "      <td>1750.0</td>\n",
       "      <td>1750.0</td>\n",
       "      <td>1750.0</td>\n",
       "    </tr>\n",
       "    <tr>\n",
       "      <th>155</th>\n",
       "      <td>84.58</td>\n",
       "      <td>Arabica</td>\n",
       "      <td>exportadora de cafe condor s.a</td>\n",
       "      <td>Colombia</td>\n",
       "      <td>various</td>\n",
       "      <td>None</td>\n",
       "      <td>trilladora boananza</td>\n",
       "      <td>3-68-0005</td>\n",
       "      <td>exportadora de cafe condor s.a</td>\n",
       "      <td>1800 msnm</td>\n",
       "      <td>...</td>\n",
       "      <td>Green</td>\n",
       "      <td>6.0</td>\n",
       "      <td>October 9th, 2013</td>\n",
       "      <td>Almacafé</td>\n",
       "      <td>e493c36c2d076bf273064f7ac23ad562af257a25</td>\n",
       "      <td>70d3c0c26f89e00fdae6fb39ff54f0d2eb1c38ab</td>\n",
       "      <td>m</td>\n",
       "      <td>1800.0</td>\n",
       "      <td>1800.0</td>\n",
       "      <td>1800.0</td>\n",
       "    </tr>\n",
       "  </tbody>\n",
       "</table>\n",
       "<p>5 rows × 43 columns</p>\n",
       "</div>"
      ],
      "text/plain": [
       "     total_cup_points  species                           owner  \\\n",
       "437             83.25  Arabica  exportadora de cafe condor s.a   \n",
       "285             83.83  Arabica                 ipanema coffees   \n",
       "784             82.08  Arabica                   cafe politico   \n",
       "648             82.58  Arabica  exportadora de cafe condor s.a   \n",
       "155             84.58  Arabica  exportadora de cafe condor s.a   \n",
       "\n",
       "    country_of_origin          farm_name lot_number  \\\n",
       "437          Colombia               None       None   \n",
       "285            Brazil  fazenda rio verde       None   \n",
       "784          Colombia               None       None   \n",
       "648          Colombia               None       None   \n",
       "155          Colombia            various       None   \n",
       "\n",
       "                                      mill     ico_number  \\\n",
       "437  trilladora bonanza - armenia quindioa      3-68-0205   \n",
       "285                        ipanema coffees  002/4177/0121   \n",
       "784                                   None      3-59-1656   \n",
       "648                    trilladora boananza      3-68-0140   \n",
       "155                    trilladora boananza      3-68-0005   \n",
       "\n",
       "                            company       altitude  ...  color  \\\n",
       "437                            None  1600-1800msnm  ...   None   \n",
       "285                 ipanema coffees           1260  ...  Green   \n",
       "784                   cafe politico           None  ...  Green   \n",
       "648  exportadora de cafe condor s.a      1750 msnm  ...  Green   \n",
       "155  exportadora de cafe condor s.a      1800 msnm  ...  Green   \n",
       "\n",
       "    category_two_defects            expiration            certification_body  \\\n",
       "437                  0.0       June 13th, 2012                      Almacafé   \n",
       "285                  0.0   December 26th, 2014  Specialty Coffee Association   \n",
       "784                  0.0  September 12th, 2015  Specialty Coffee Association   \n",
       "648                  0.0   February 27th, 2014                      Almacafé   \n",
       "155                  6.0     October 9th, 2013                      Almacafé   \n",
       "\n",
       "                        certification_address  \\\n",
       "437  e493c36c2d076bf273064f7ac23ad562af257a25   \n",
       "285  36d0d00a3724338ba7937c52a378d085f2172daa   \n",
       "784  36d0d00a3724338ba7937c52a378d085f2172daa   \n",
       "648  e493c36c2d076bf273064f7ac23ad562af257a25   \n",
       "155  e493c36c2d076bf273064f7ac23ad562af257a25   \n",
       "\n",
       "                        certification_contact unit_of_measurement  \\\n",
       "437  70d3c0c26f89e00fdae6fb39ff54f0d2eb1c38ab                   m   \n",
       "285  0878a7d4b9d35ddbf0fe2ce69a2062cceb45a660                   m   \n",
       "784  0878a7d4b9d35ddbf0fe2ce69a2062cceb45a660                   m   \n",
       "648  70d3c0c26f89e00fdae6fb39ff54f0d2eb1c38ab                   m   \n",
       "155  70d3c0c26f89e00fdae6fb39ff54f0d2eb1c38ab                   m   \n",
       "\n",
       "    altitude_low_meters altitude_high_meters altitude_mean_meters  \n",
       "437              1600.0               1800.0               1700.0  \n",
       "285              1260.0               1260.0               1260.0  \n",
       "784                 NaN                  NaN                  NaN  \n",
       "648              1750.0               1750.0               1750.0  \n",
       "155              1800.0               1800.0               1800.0  \n",
       "\n",
       "[5 rows x 43 columns]"
      ]
     },
     "metadata": {},
     "output_type": "display_data"
    }
   ],
   "source": [
    "display(\n",
    "coffee_ratings.sample(n=5, random_state=19000113)\n",
    ")\n"
   ]
  },
  {
   "cell_type": "code",
   "execution_count": 108,
   "metadata": {},
   "outputs": [
    {
     "name": "stdout",
     "output_type": "stream",
     "text": [
      "1338\n",
      "267\n"
     ]
    },
    {
     "data": {
      "text/html": [
       "<div>\n",
       "<style scoped>\n",
       "    .dataframe tbody tr th:only-of-type {\n",
       "        vertical-align: middle;\n",
       "    }\n",
       "\n",
       "    .dataframe tbody tr th {\n",
       "        vertical-align: top;\n",
       "    }\n",
       "\n",
       "    .dataframe thead th {\n",
       "        text-align: right;\n",
       "    }\n",
       "</style>\n",
       "<table border=\"1\" class=\"dataframe\">\n",
       "  <thead>\n",
       "    <tr style=\"text-align: right;\">\n",
       "      <th></th>\n",
       "      <th>total_cup_points</th>\n",
       "      <th>species</th>\n",
       "      <th>owner</th>\n",
       "      <th>country_of_origin</th>\n",
       "      <th>farm_name</th>\n",
       "      <th>lot_number</th>\n",
       "      <th>mill</th>\n",
       "      <th>ico_number</th>\n",
       "      <th>company</th>\n",
       "      <th>altitude</th>\n",
       "      <th>...</th>\n",
       "      <th>color</th>\n",
       "      <th>category_two_defects</th>\n",
       "      <th>expiration</th>\n",
       "      <th>certification_body</th>\n",
       "      <th>certification_address</th>\n",
       "      <th>certification_contact</th>\n",
       "      <th>unit_of_measurement</th>\n",
       "      <th>altitude_low_meters</th>\n",
       "      <th>altitude_high_meters</th>\n",
       "      <th>altitude_mean_meters</th>\n",
       "    </tr>\n",
       "  </thead>\n",
       "  <tbody>\n",
       "    <tr>\n",
       "      <th>0</th>\n",
       "      <td>90.58</td>\n",
       "      <td>Arabica</td>\n",
       "      <td>metad plc</td>\n",
       "      <td>Ethiopia</td>\n",
       "      <td>metad plc</td>\n",
       "      <td>None</td>\n",
       "      <td>metad plc</td>\n",
       "      <td>2014/2015</td>\n",
       "      <td>metad agricultural developmet plc</td>\n",
       "      <td>1950-2200</td>\n",
       "      <td>...</td>\n",
       "      <td>Green</td>\n",
       "      <td>0.0</td>\n",
       "      <td>April 3rd, 2016</td>\n",
       "      <td>METAD Agricultural Development plc</td>\n",
       "      <td>309fcf77415a3661ae83e027f7e5f05dad786e44</td>\n",
       "      <td>19fef5a731de2db57d16da10287413f5f99bc2dd</td>\n",
       "      <td>m</td>\n",
       "      <td>1950.0</td>\n",
       "      <td>2200.0</td>\n",
       "      <td>2075.0</td>\n",
       "    </tr>\n",
       "    <tr>\n",
       "      <th>267</th>\n",
       "      <td>83.92</td>\n",
       "      <td>Arabica</td>\n",
       "      <td>federacion nacional de cafeteros</td>\n",
       "      <td>Colombia</td>\n",
       "      <td>None</td>\n",
       "      <td>None</td>\n",
       "      <td>None</td>\n",
       "      <td>01-1969</td>\n",
       "      <td>federacion nacional de cafeteros</td>\n",
       "      <td>None</td>\n",
       "      <td>...</td>\n",
       "      <td>None</td>\n",
       "      <td>1.0</td>\n",
       "      <td>March 11th, 2016</td>\n",
       "      <td>Almacafé</td>\n",
       "      <td>e493c36c2d076bf273064f7ac23ad562af257a25</td>\n",
       "      <td>70d3c0c26f89e00fdae6fb39ff54f0d2eb1c38ab</td>\n",
       "      <td>m</td>\n",
       "      <td>NaN</td>\n",
       "      <td>NaN</td>\n",
       "      <td>NaN</td>\n",
       "    </tr>\n",
       "    <tr>\n",
       "      <th>534</th>\n",
       "      <td>82.92</td>\n",
       "      <td>Arabica</td>\n",
       "      <td>consejo salvadoreño del café</td>\n",
       "      <td>El Salvador</td>\n",
       "      <td>santa josefita</td>\n",
       "      <td>1-198</td>\n",
       "      <td>beneficio cuzcachapa</td>\n",
       "      <td>09-030-273</td>\n",
       "      <td>soc. coop. cuzcachapa de r.l.</td>\n",
       "      <td>1350</td>\n",
       "      <td>...</td>\n",
       "      <td>Green</td>\n",
       "      <td>1.0</td>\n",
       "      <td>August 28th, 2018</td>\n",
       "      <td>Salvadoran Coffee Council</td>\n",
       "      <td>3d4987e3b91399dbb3938b5bdf53893b6ef45be1</td>\n",
       "      <td>27b21e368fb8291cbea02c60623fe6c98f84524d</td>\n",
       "      <td>m</td>\n",
       "      <td>1350.0</td>\n",
       "      <td>1350.0</td>\n",
       "      <td>1350.0</td>\n",
       "    </tr>\n",
       "    <tr>\n",
       "      <th>801</th>\n",
       "      <td>82.00</td>\n",
       "      <td>Arabica</td>\n",
       "      <td>lin, che-hao krude 林哲豪</td>\n",
       "      <td>Taiwan</td>\n",
       "      <td>you siang coffee farmtainan, taiwan 台灣台南優香咖啡</td>\n",
       "      <td>None</td>\n",
       "      <td>you siang coffee farmtainan, taiwan 台灣台南優香咖啡</td>\n",
       "      <td>Taiwan</td>\n",
       "      <td>red on tree co., ltd.</td>\n",
       "      <td>600m</td>\n",
       "      <td>...</td>\n",
       "      <td>Green</td>\n",
       "      <td>0.0</td>\n",
       "      <td>July 22nd, 2015</td>\n",
       "      <td>Specialty Coffee Association</td>\n",
       "      <td>36d0d00a3724338ba7937c52a378d085f2172daa</td>\n",
       "      <td>0878a7d4b9d35ddbf0fe2ce69a2062cceb45a660</td>\n",
       "      <td>m</td>\n",
       "      <td>600.0</td>\n",
       "      <td>600.0</td>\n",
       "      <td>600.0</td>\n",
       "    </tr>\n",
       "    <tr>\n",
       "      <th>1068</th>\n",
       "      <td>80.50</td>\n",
       "      <td>Arabica</td>\n",
       "      <td>cqi taiwan icp cqi台灣合作夥伴</td>\n",
       "      <td>Taiwan</td>\n",
       "      <td>王秋金</td>\n",
       "      <td>1</td>\n",
       "      <td>non</td>\n",
       "      <td>None</td>\n",
       "      <td>王秋金</td>\n",
       "      <td>50</td>\n",
       "      <td>...</td>\n",
       "      <td>Blue-Green</td>\n",
       "      <td>0.0</td>\n",
       "      <td>December 8th, 2018</td>\n",
       "      <td>Blossom Valley International</td>\n",
       "      <td>fc45352eee499d8470cf94c9827922fb745bf815</td>\n",
       "      <td>de73fc9412358b523d3a641501e542f31d2668b0</td>\n",
       "      <td>m</td>\n",
       "      <td>50.0</td>\n",
       "      <td>50.0</td>\n",
       "      <td>50.0</td>\n",
       "    </tr>\n",
       "    <tr>\n",
       "      <th>1335</th>\n",
       "      <td>77.17</td>\n",
       "      <td>Robusta</td>\n",
       "      <td>james moore</td>\n",
       "      <td>United States</td>\n",
       "      <td>fazenda cazengo</td>\n",
       "      <td>None</td>\n",
       "      <td>cafe cazengo</td>\n",
       "      <td>None</td>\n",
       "      <td>global opportunity fund</td>\n",
       "      <td>795 meters</td>\n",
       "      <td>...</td>\n",
       "      <td>None</td>\n",
       "      <td>6.0</td>\n",
       "      <td>December 23rd, 2015</td>\n",
       "      <td>Specialty Coffee Association</td>\n",
       "      <td>ff7c18ad303d4b603ac3f8cff7e611ffc735e720</td>\n",
       "      <td>352d0cf7f3e9be14dad7df644ad65efc27605ae2</td>\n",
       "      <td>m</td>\n",
       "      <td>795.0</td>\n",
       "      <td>795.0</td>\n",
       "      <td>795.0</td>\n",
       "    </tr>\n",
       "  </tbody>\n",
       "</table>\n",
       "<p>6 rows × 43 columns</p>\n",
       "</div>"
      ],
      "text/plain": [
       "      total_cup_points  species                             owner  \\\n",
       "0                90.58  Arabica                         metad plc   \n",
       "267              83.92  Arabica  federacion nacional de cafeteros   \n",
       "534              82.92  Arabica      consejo salvadoreño del café   \n",
       "801              82.00  Arabica            lin, che-hao krude 林哲豪   \n",
       "1068             80.50  Arabica          cqi taiwan icp cqi台灣合作夥伴   \n",
       "1335             77.17  Robusta                       james moore   \n",
       "\n",
       "     country_of_origin                                     farm_name  \\\n",
       "0             Ethiopia                                     metad plc   \n",
       "267           Colombia                                          None   \n",
       "534        El Salvador                                santa josefita   \n",
       "801             Taiwan  you siang coffee farmtainan, taiwan 台灣台南優香咖啡   \n",
       "1068            Taiwan                                           王秋金   \n",
       "1335     United States                               fazenda cazengo   \n",
       "\n",
       "     lot_number                                          mill  ico_number  \\\n",
       "0          None                                     metad plc   2014/2015   \n",
       "267        None                                          None     01-1969   \n",
       "534       1-198                          beneficio cuzcachapa  09-030-273   \n",
       "801        None  you siang coffee farmtainan, taiwan 台灣台南優香咖啡      Taiwan   \n",
       "1068          1                                           non        None   \n",
       "1335       None                                  cafe cazengo        None   \n",
       "\n",
       "                                company    altitude  ...       color  \\\n",
       "0     metad agricultural developmet plc   1950-2200  ...       Green   \n",
       "267    federacion nacional de cafeteros        None  ...        None   \n",
       "534       soc. coop. cuzcachapa de r.l.        1350  ...       Green   \n",
       "801               red on tree co., ltd.        600m  ...       Green   \n",
       "1068                                王秋金          50  ...  Blue-Green   \n",
       "1335            global opportunity fund  795 meters  ...        None   \n",
       "\n",
       "     category_two_defects           expiration  \\\n",
       "0                     0.0      April 3rd, 2016   \n",
       "267                   1.0     March 11th, 2016   \n",
       "534                   1.0    August 28th, 2018   \n",
       "801                   0.0      July 22nd, 2015   \n",
       "1068                  0.0   December 8th, 2018   \n",
       "1335                  6.0  December 23rd, 2015   \n",
       "\n",
       "                      certification_body  \\\n",
       "0     METAD Agricultural Development plc   \n",
       "267                             Almacafé   \n",
       "534            Salvadoran Coffee Council   \n",
       "801         Specialty Coffee Association   \n",
       "1068        Blossom Valley International   \n",
       "1335        Specialty Coffee Association   \n",
       "\n",
       "                         certification_address  \\\n",
       "0     309fcf77415a3661ae83e027f7e5f05dad786e44   \n",
       "267   e493c36c2d076bf273064f7ac23ad562af257a25   \n",
       "534   3d4987e3b91399dbb3938b5bdf53893b6ef45be1   \n",
       "801   36d0d00a3724338ba7937c52a378d085f2172daa   \n",
       "1068  fc45352eee499d8470cf94c9827922fb745bf815   \n",
       "1335  ff7c18ad303d4b603ac3f8cff7e611ffc735e720   \n",
       "\n",
       "                         certification_contact unit_of_measurement  \\\n",
       "0     19fef5a731de2db57d16da10287413f5f99bc2dd                   m   \n",
       "267   70d3c0c26f89e00fdae6fb39ff54f0d2eb1c38ab                   m   \n",
       "534   27b21e368fb8291cbea02c60623fe6c98f84524d                   m   \n",
       "801   0878a7d4b9d35ddbf0fe2ce69a2062cceb45a660                   m   \n",
       "1068  de73fc9412358b523d3a641501e542f31d2668b0                   m   \n",
       "1335  352d0cf7f3e9be14dad7df644ad65efc27605ae2                   m   \n",
       "\n",
       "     altitude_low_meters altitude_high_meters altitude_mean_meters  \n",
       "0                 1950.0               2200.0               2075.0  \n",
       "267                  NaN                  NaN                  NaN  \n",
       "534               1350.0               1350.0               1350.0  \n",
       "801                600.0                600.0                600.0  \n",
       "1068                50.0                 50.0                 50.0  \n",
       "1335               795.0                795.0                795.0  \n",
       "\n",
       "[6 rows x 43 columns]"
      ]
     },
     "execution_count": 108,
     "metadata": {},
     "output_type": "execute_result"
    }
   ],
   "source": [
    "sample_size = 5\n",
    "pop_size = len(coffee_ratings)\n",
    "print(pop_size)\n",
    "interval = pop_size // sample_size\n",
    "print(interval)\n",
    "coffee_ratings.iloc[::interval]\n"
   ]
  },
  {
   "cell_type": "code",
   "execution_count": 109,
   "metadata": {},
   "outputs": [
    {
     "data": {
      "image/png": "[encoded data removed]",
      "text/plain": [
       "<Figure size 640x480 with 1 Axes>"
      ]
     },
     "metadata": {},
     "output_type": "display_data"
    }
   ],
   "source": [
    "coffee_ratings_with_id = coffee_ratings.reset_index()\n",
    "coffee_ratings_with_id.plot(x=\"index\", y=\"aftertaste\", kind=\"scatter\")\n",
    "plt.show()"
   ]
  },
  {
   "cell_type": "code",
   "execution_count": 110,
   "metadata": {},
   "outputs": [
    {
     "data": {
      "image/png": "[encoded data removed]",
      "text/plain": [
       "<Figure size 640x480 with 1 Axes>"
      ]
     },
     "metadata": {},
     "output_type": "display_data"
    }
   ],
   "source": [
    "shuffled = coffee_ratings.sample(frac=1)\n",
    "shuffled = shuffled.reset_index(drop=True).reset_index()\n",
    "shuffled.plot(x=\"index\", y=\"aftertaste\", kind=\"scatter\")\n",
    "plt.show()"
   ]
  },
  {
   "cell_type": "markdown",
   "metadata": {},
   "source": [
    "Simple random sampling\n",
    "The simplest method of sampling a population is the one you've seen already. It is known as simple random sampling (sometimes abbreviated to \"SRS\"), and involves picking rows at random, one at a time, where each row has the same chance of being picked as any other.\n",
    "\n",
    "In this chapter, you'll apply sampling methods to a synthetic (fictional) employee attrition dataset from IBM, where \"attrition\" in this context means leaving the company.\n",
    "\n",
    "attrition_pop is available; pandas as pd is loaded."
   ]
  },
  {
   "cell_type": "code",
   "execution_count": 111,
   "metadata": {},
   "outputs": [
    {
     "name": "stdout",
     "output_type": "stream",
     "text": [
      "      Age  Attrition     BusinessTravel  DailyRate            Department  \\\n",
      "1134   35        0.0      Travel_Rarely        583  Research_Development   \n",
      "1150   52        0.0         Non-Travel        585                 Sales   \n",
      "531    33        0.0      Travel_Rarely        931  Research_Development   \n",
      "395    31        0.0      Travel_Rarely       1332  Research_Development   \n",
      "392    29        0.0      Travel_Rarely        942  Research_Development   \n",
      "...   ...        ...                ...        ...                   ...   \n",
      "361    27        0.0  Travel_Frequently       1410                 Sales   \n",
      "1180   36        0.0      Travel_Rarely        530                 Sales   \n",
      "230    26        0.0      Travel_Rarely       1443                 Sales   \n",
      "211    29        0.0  Travel_Frequently        410  Research_Development   \n",
      "890    30        0.0  Travel_Frequently       1312  Research_Development   \n",
      "\n",
      "      DistanceFromHome      Education    EducationField  \\\n",
      "1134                25         Master           Medical   \n",
      "1150                29         Master     Life_Sciences   \n",
      "531                 14       Bachelor           Medical   \n",
      "395                 11        College           Medical   \n",
      "392                 15  Below_College     Life_Sciences   \n",
      "...                ...            ...               ...   \n",
      "361                  3  Below_College           Medical   \n",
      "1180                 2         Master     Life_Sciences   \n",
      "230                 23       Bachelor         Marketing   \n",
      "211                  2  Below_College     Life_Sciences   \n",
      "890                  2         Master  Technical_Degree   \n",
      "\n",
      "     EnvironmentSatisfaction  Gender  ...  PerformanceRating  \\\n",
      "1134                    High  Female  ...          Excellent   \n",
      "1150                     Low    Male  ...          Excellent   \n",
      "531                Very_High  Female  ...          Excellent   \n",
      "395                     High    Male  ...          Excellent   \n",
      "392                   Medium  Female  ...          Excellent   \n",
      "...                      ...     ...  ...                ...   \n",
      "361                Very_High  Female  ...        Outstanding   \n",
      "1180                    High  Female  ...          Excellent   \n",
      "230                     High  Female  ...          Excellent   \n",
      "211                Very_High  Female  ...          Excellent   \n",
      "890                Very_High  Female  ...          Excellent   \n",
      "\n",
      "     RelationshipSatisfaction  StockOptionLevel TotalWorkingYears  \\\n",
      "1134                     High                 1                16   \n",
      "1150                   Medium                 2                16   \n",
      "531                 Very_High                 1                 8   \n",
      "395                 Very_High                 0                 6   \n",
      "392                       Low                 1                 6   \n",
      "...                       ...               ...               ...   \n",
      "361                    Medium                 2                 6   \n",
      "1180                     High                 0                17   \n",
      "230                      High                 1                 5   \n",
      "211                      High                 3                 4   \n",
      "890                 Very_High                 0                10   \n",
      "\n",
      "     TrainingTimesLastYear WorkLifeBalance  YearsAtCompany  \\\n",
      "1134                     3            Good              16   \n",
      "1150                     3            Good               9   \n",
      "531                      5          Better               8   \n",
      "395                      2            Good               6   \n",
      "392                      2            Good               5   \n",
      "...                    ...             ...             ...   \n",
      "361                      3          Better               6   \n",
      "1180                     2            Good              13   \n",
      "230                      2            Good               2   \n",
      "211                      3          Better               3   \n",
      "890                      2          Better               9   \n",
      "\n",
      "      YearsInCurrentRole  YearsSinceLastPromotion YearsWithCurrManager  \n",
      "1134                  10                       10                    1  \n",
      "1150                   8                        0                    0  \n",
      "531                    7                        1                    6  \n",
      "395                    5                        0                    1  \n",
      "392                    4                        1                    3  \n",
      "...                  ...                      ...                  ...  \n",
      "361                    5                        0                    4  \n",
      "1180                   7                        6                    7  \n",
      "230                    2                        0                    0  \n",
      "211                    2                        0                    2  \n",
      "890                    7                        0                    7  \n",
      "\n",
      "[70 rows x 31 columns]\n"
     ]
    }
   ],
   "source": [
    "# Sample 70 rows using simple random sampling and set the seed\n",
    "attrition_samp = attrition_pop.sample(n=70, random_state=18900217)\n",
    "\n",
    "# Print the sample\n",
    "print(attrition_samp)"
   ]
  },
  {
   "cell_type": "markdown",
   "metadata": {},
   "source": [
    "Systematic sampling\n",
    "One sampling method that avoids randomness is called systematic sampling. Here, you pick rows from the population at regular intervals.\n",
    "\n",
    "For example, if the population dataset had one thousand rows, and you wanted a sample size of five, you could pick rows 0, 200, 400, 600, and 800.\n",
    "\n",
    "attrition_pop is available; pandas has been pre-loaded as pd."
   ]
  },
  {
   "cell_type": "code",
   "execution_count": 112,
   "metadata": {},
   "outputs": [
    {
     "name": "stdout",
     "output_type": "stream",
     "text": [
      "1470\n",
      "21\n",
      "      Age  Attrition BusinessTravel  DailyRate            Department  \\\n",
      "0      21        0.0  Travel_Rarely        391  Research_Development   \n",
      "21     19        0.0  Travel_Rarely       1181  Research_Development   \n",
      "42     45        0.0  Travel_Rarely        252  Research_Development   \n",
      "63     23        0.0  Travel_Rarely        373  Research_Development   \n",
      "84     30        1.0  Travel_Rarely        945                 Sales   \n",
      "...   ...        ...            ...        ...                   ...   \n",
      "1365   48        0.0  Travel_Rarely        715  Research_Development   \n",
      "1386   48        0.0  Travel_Rarely       1355  Research_Development   \n",
      "1407   50        0.0  Travel_Rarely        989  Research_Development   \n",
      "1428   50        0.0     Non-Travel        881  Research_Development   \n",
      "1449   52        0.0  Travel_Rarely        699  Research_Development   \n",
      "\n",
      "      DistanceFromHome      Education EducationField EnvironmentSatisfaction  \\\n",
      "0                   15        College  Life_Sciences                    High   \n",
      "21                   3  Below_College        Medical                  Medium   \n",
      "42                   2       Bachelor  Life_Sciences                  Medium   \n",
      "63                   1        College  Life_Sciences               Very_High   \n",
      "84                   9       Bachelor        Medical                  Medium   \n",
      "...                ...            ...            ...                     ...   \n",
      "1365                 1       Bachelor  Life_Sciences               Very_High   \n",
      "1386                 4         Master  Life_Sciences                    High   \n",
      "1407                 7        College        Medical                  Medium   \n",
      "1428                 2         Master  Life_Sciences                     Low   \n",
      "1449                 1         Master  Life_Sciences                    High   \n",
      "\n",
      "      Gender  ...  PerformanceRating RelationshipSatisfaction  \\\n",
      "0       Male  ...          Excellent                Very_High   \n",
      "21    Female  ...          Excellent                Very_High   \n",
      "42    Female  ...          Excellent                Very_High   \n",
      "63      Male  ...        Outstanding                Very_High   \n",
      "84      Male  ...          Excellent                     High   \n",
      "...      ...  ...                ...                      ...   \n",
      "1365    Male  ...          Excellent                     High   \n",
      "1386    Male  ...          Excellent                   Medium   \n",
      "1407  Female  ...          Excellent                Very_High   \n",
      "1428    Male  ...          Excellent                Very_High   \n",
      "1449    Male  ...          Excellent                      Low   \n",
      "\n",
      "      StockOptionLevel TotalWorkingYears TrainingTimesLastYear  \\\n",
      "0                    0                 0                     6   \n",
      "21                   0                 1                     3   \n",
      "42                   0                 1                     3   \n",
      "63                   1                 1                     2   \n",
      "84                   0                 1                     3   \n",
      "...                ...               ...                   ...   \n",
      "1365                 0                25                     3   \n",
      "1386                 0                27                     3   \n",
      "1407                 1                29                     2   \n",
      "1428                 1                31                     3   \n",
      "1449                 1                34                     5   \n",
      "\n",
      "     WorkLifeBalance  YearsAtCompany  YearsInCurrentRole  \\\n",
      "0             Better               0                   0   \n",
      "21            Better               1                   0   \n",
      "42            Better               1                   0   \n",
      "63            Better               1                   0   \n",
      "84              Good               1                   0   \n",
      "...              ...             ...                 ...   \n",
      "1365            Best               1                   0   \n",
      "1386          Better              15                  11   \n",
      "1407            Good              27                   3   \n",
      "1428          Better              31                   6   \n",
      "1449          Better              33                  18   \n",
      "\n",
      "      YearsSinceLastPromotion YearsWithCurrManager  \n",
      "0                           0                    0  \n",
      "21                          0                    0  \n",
      "42                          0                    0  \n",
      "63                          0                    1  \n",
      "84                          0                    0  \n",
      "...                       ...                  ...  \n",
      "1365                        0                    0  \n",
      "1386                        4                    8  \n",
      "1407                       13                    8  \n",
      "1428                       14                    7  \n",
      "1449                       11                    9  \n",
      "\n",
      "[70 rows x 31 columns]\n"
     ]
    }
   ],
   "source": [
    "# Set the sample size to 70\n",
    "sample_size = 70\n",
    "\n",
    "# Calculate the population size from attrition_pop\n",
    "pop_size = len(attrition_pop)\n",
    "print(pop_size)\n",
    "# Calculate the interval\n",
    "interval = pop_size // sample_size\n",
    "print(interval)\n",
    "\n",
    "# Systematically sample 70 rows\n",
    "attrition_sys_samp = attrition_pop.iloc[::interval]\n",
    "\n",
    "# Print the sample\n",
    "print(attrition_sys_samp)"
   ]
  },
  {
   "cell_type": "markdown",
   "metadata": {},
   "source": [
    "Is systematic sampling OK?\n",
    "Systematic sampling has a problem: if the data has been sorted, or there is some sort of pattern or meaning behind the row order, then the resulting sample may not be representative of the whole population. The problem can be solved by shuffling the rows, but then systematic sampling is equivalent to simple random sampling.\n",
    "\n",
    "Here you'll look at how to determine whether or not there is a problem.\n",
    "\n",
    "attrition_pop is available; pandas is loaded as pd, and matplotlib.pyplot as plt."
   ]
  },
  {
   "cell_type": "code",
   "execution_count": 113,
   "metadata": {},
   "outputs": [
    {
     "data": {
      "image/png": "[encoded data removed]",
      "text/plain": [
       "<Figure size 640x480 with 1 Axes>"
      ]
     },
     "metadata": {},
     "output_type": "display_data"
    }
   ],
   "source": [
    "# Add an index column to attrition_pop\n",
    "attrition_pop_id = attrition_pop.reset_index()\n",
    "\n",
    "# Plot YearsAtCompany vs. index for attrition_pop_id\n",
    "attrition_pop_id.plot(x=\"index\", y=\"YearsAtCompany\", kind=\"scatter\")\n",
    "plt.show()"
   ]
  },
  {
   "cell_type": "code",
   "execution_count": 114,
   "metadata": {},
   "outputs": [
    {
     "data": {
      "image/png": "[encoded data removed]",
      "text/plain": [
       "<Figure size 640x480 with 1 Axes>"
      ]
     },
     "metadata": {},
     "output_type": "display_data"
    }
   ],
   "source": [
    "# Shuffle the rows of attrition_pop\n",
    "attrition_shuffled = attrition_pop.sample(frac=1)\n",
    "\n",
    "# Reset the row indexes and create an index column\n",
    "attrition_shuffled = attrition_shuffled.reset_index(drop=True).reset_index()\n",
    "\n",
    "# Plot YearsAtCompany vs. index for attrition_shuffled\n",
    "attrition_shuffled.plot(x=\"index\", y=\"YearsAtCompany\", kind=\"scatter\")\n",
    "plt.show()"
   ]
  },
  {
   "attachments": {},
   "cell_type": "markdown",
   "metadata": {},
   "source": [
    "#### **Stratified and weighted random sampling**\n",
    "\n",
    "1. Coffees by country\n",
    "top_counts = coffee_ratings['country_of_origin'].value_counts()\n",
    "top_counts.head(6)\n",
    "2. Filtering for 6 countries\n",
    "top_counted_countries = [\"Mexico\", \"Colombia\", \"Guatemala\",\n",
    "\"Brazil\", \"Taiwan\", \"United States (Hawaii)\"]\n",
    "top_counted_subset = coffee_ratings['country_of_origin'].isin(top_counted_countries)\n",
    "coffee_ratings_top = coffee_ratings[top_counted_subset]\n",
    "3. Counts of a simple random sample\n",
    "coffee_ratings_samp = coffee_ratings_top.sample(frac=0.1, random_state=2021)\n",
    "coffee_ratings_samp['country_of_origin'].value_counts(normalize=True)\n",
    "\n",
    "4. Proportional stratified sampling\n",
    "coffee_ratings_strat = coffee_ratings_top.groupby(\"country_of_origin\")\\\n",
    ".sample(frac=0.1, random_state=2021)\n",
    "\n",
    "coffee_ratings_strat['country_of_origin'].value_counts(normalize=True)\n",
    "5. Equal counts stratified sampling\n",
    "coffee_ratings_eq = coffee_ratings_top.groupby(\"country_of_origin\")\\\n",
    ".sample(n=15, random_state=2021)\n",
    "\n",
    "coffee_ratings_eq['country_of_origin'].value_counts(normalize=True)\n",
    "\n",
    "6. Weighted random sampling\n",
    "import numpy as np\n",
    "coffee_ratings_weight = coffee_ratings_top\n",
    "condition = coffee_ratings_weight['country_of_origin'] == \"Taiwan\"\n",
    "\n",
    "coffee_ratings_weight['weight'] = np.where(condition, 2, 1)\n",
    "\n",
    "coffee_ratings_weight = coffee_ratings_weight.sample(frac=0.1, weights=\"weight\")\n",
    "coffee_ratings_weight['country_of_origin'].value_counts(normalize=True)"
   ]
  },
  {
   "cell_type": "code",
   "execution_count": 115,
   "metadata": {},
   "outputs": [
    {
     "data": {
      "text/plain": [
       "Mexico                    236\n",
       "Colombia                  183\n",
       "Guatemala                 181\n",
       "Brazil                    132\n",
       "Taiwan                     75\n",
       "United States (Hawaii)     73\n",
       "Name: country_of_origin, dtype: int64"
      ]
     },
     "execution_count": 115,
     "metadata": {},
     "output_type": "execute_result"
    }
   ],
   "source": [
    "top_counts = coffee_ratings['country_of_origin'].value_counts()\n",
    "top_counts.head(6)"
   ]
  },
  {
   "cell_type": "code",
   "execution_count": 116,
   "metadata": {},
   "outputs": [
    {
     "data": {
      "text/plain": [
       "Mexico                    0.250000\n",
       "Guatemala                 0.204545\n",
       "Colombia                  0.181818\n",
       "Brazil                    0.181818\n",
       "United States (Hawaii)    0.102273\n",
       "Taiwan                    0.079545\n",
       "Name: country_of_origin, dtype: float64"
      ]
     },
     "execution_count": 116,
     "metadata": {},
     "output_type": "execute_result"
    }
   ],
   "source": [
    "top_counted_countries = [\"Mexico\", \"Colombia\", \"Guatemala\",\n",
    "\"Brazil\", \"Taiwan\", \"United States (Hawaii)\"]\n",
    "top_counted_subset = coffee_ratings['country_of_origin'].isin(top_counted_countries)\n",
    "coffee_ratings_top = coffee_ratings[top_counted_subset]\n",
    "\n",
    "coffee_ratings_samp = coffee_ratings_top.sample(frac=0.1, random_state=2021)\n",
    "coffee_ratings_samp['country_of_origin'].value_counts(normalize=True)"
   ]
  },
  {
   "cell_type": "code",
   "execution_count": 117,
   "metadata": {},
   "outputs": [
    {
     "data": {
      "text/plain": [
       "Mexico                    0.272727\n",
       "Colombia                  0.204545\n",
       "Guatemala                 0.204545\n",
       "Brazil                    0.147727\n",
       "Taiwan                    0.090909\n",
       "United States (Hawaii)    0.079545\n",
       "Name: country_of_origin, dtype: float64"
      ]
     },
     "execution_count": 117,
     "metadata": {},
     "output_type": "execute_result"
    }
   ],
   "source": [
    "coffee_ratings_strat = coffee_ratings_top.groupby(\"country_of_origin\")\\\n",
    ".sample(frac=0.1, random_state=2021)\n",
    "\n",
    "coffee_ratings_strat['country_of_origin'].value_counts(normalize=True)\n"
   ]
  },
  {
   "cell_type": "code",
   "execution_count": 118,
   "metadata": {},
   "outputs": [
    {
     "data": {
      "text/plain": [
       "Brazil                    0.166667\n",
       "Colombia                  0.166667\n",
       "Guatemala                 0.166667\n",
       "Mexico                    0.166667\n",
       "Taiwan                    0.166667\n",
       "United States (Hawaii)    0.166667\n",
       "Name: country_of_origin, dtype: float64"
      ]
     },
     "execution_count": 118,
     "metadata": {},
     "output_type": "execute_result"
    }
   ],
   "source": [
    "coffee_ratings_eq = coffee_ratings_top.groupby(\"country_of_origin\")\\\n",
    ".sample(n=15, random_state=2021)\n",
    "\n",
    "coffee_ratings_eq['country_of_origin'].value_counts(normalize=True)\n"
   ]
  },
  {
   "cell_type": "code",
   "execution_count": 119,
   "metadata": {},
   "outputs": [
    {
     "name": "stderr",
     "output_type": "stream",
     "text": [
      "C:\\Users\\mcaba\\AppData\\Local\\Temp\\ipykernel_16104\\2890812173.py:5: SettingWithCopyWarning: \n",
      "A value is trying to be set on a copy of a slice from a DataFrame.\n",
      "Try using .loc[row_indexer,col_indexer] = value instead\n",
      "\n",
      "See the caveats in the documentation: https://pandas.pydata.org/pandas-docs/stable/user_guide/indexing.html#returning-a-view-versus-a-copy\n",
      "  coffee_ratings_weight['weight'] = np.where(condition, 2, 1)\n"
     ]
    },
    {
     "data": {
      "text/plain": [
       "Mexico                    0.306818\n",
       "Taiwan                    0.193182\n",
       "Brazil                    0.147727\n",
       "Colombia                  0.136364\n",
       "Guatemala                 0.136364\n",
       "United States (Hawaii)    0.079545\n",
       "Name: country_of_origin, dtype: float64"
      ]
     },
     "execution_count": 119,
     "metadata": {},
     "output_type": "execute_result"
    }
   ],
   "source": [
    "import numpy as np\n",
    "coffee_ratings_weight = coffee_ratings_top\n",
    "condition = coffee_ratings_weight['country_of_origin'] == \"Taiwan\"\n",
    "\n",
    "coffee_ratings_weight['weight'] = np.where(condition, 2, 1)\n",
    "\n",
    "coffee_ratings_weight = coffee_ratings_weight.sample(frac=0.1, weights=\"weight\")\n",
    "coffee_ratings_weight['country_of_origin'].value_counts(normalize=True)"
   ]
  },
  {
   "cell_type": "markdown",
   "metadata": {},
   "source": [
    "Proportional stratified sampling\n",
    "If you are interested in subgroups within the population, then you may need to carefully control the counts of each subgroup within the population. Proportional stratified sampling results in subgroup sizes within the sample that are representative of the subgroup sizes within the population. It is equivalent to performing a simple random sample on each subgroup.\n",
    "\n",
    "attrition_pop is available; pandas is loaded with its usual alias."
   ]
  },
  {
   "cell_type": "code",
   "execution_count": 120,
   "metadata": {},
   "outputs": [
    {
     "name": "stdout",
     "output_type": "stream",
     "text": [
      "Bachelor         0.389116\n",
      "Master           0.270748\n",
      "College          0.191837\n",
      "Below_College    0.115646\n",
      "Doctor           0.032653\n",
      "Name: Education, dtype: float64\n",
      "      Age  Attrition     BusinessTravel  DailyRate            Department  \\\n",
      "1191   53        0.0      Travel_Rarely        238                 Sales   \n",
      "407    29        0.0  Travel_Frequently        995  Research_Development   \n",
      "1233   59        0.0  Travel_Frequently       1225                 Sales   \n",
      "366    37        0.0      Travel_Rarely        571  Research_Development   \n",
      "702    31        0.0  Travel_Frequently        163  Research_Development   \n",
      "...   ...        ...                ...        ...                   ...   \n",
      "733    38        0.0  Travel_Frequently        653  Research_Development   \n",
      "1061   44        0.0  Travel_Frequently        602       Human_Resources   \n",
      "1307   41        0.0      Travel_Rarely       1276                 Sales   \n",
      "1060   33        0.0      Travel_Rarely        516  Research_Development   \n",
      "177    29        0.0      Travel_Rarely        738  Research_Development   \n",
      "\n",
      "      DistanceFromHome      Education    EducationField  \\\n",
      "1191                 1  Below_College           Medical   \n",
      "407                  2  Below_College     Life_Sciences   \n",
      "1233                 1  Below_College     Life_Sciences   \n",
      "366                 10  Below_College     Life_Sciences   \n",
      "702                 24  Below_College  Technical_Degree   \n",
      "...                ...            ...               ...   \n",
      "733                 29         Doctor     Life_Sciences   \n",
      "1061                 1         Doctor   Human_Resources   \n",
      "1307                 2         Doctor     Life_Sciences   \n",
      "1060                 8         Doctor     Life_Sciences   \n",
      "177                  9         Doctor             Other   \n",
      "\n",
      "     EnvironmentSatisfaction  Gender  ...  PerformanceRating  \\\n",
      "1191               Very_High  Female  ...        Outstanding   \n",
      "407                      Low    Male  ...          Excellent   \n",
      "1233                     Low  Female  ...          Excellent   \n",
      "366                Very_High  Female  ...          Excellent   \n",
      "702                Very_High  Female  ...        Outstanding   \n",
      "...                      ...     ...  ...                ...   \n",
      "733                Very_High  Female  ...          Excellent   \n",
      "1061                     Low    Male  ...          Excellent   \n",
      "1307                  Medium  Female  ...          Excellent   \n",
      "1060               Very_High    Male  ...          Excellent   \n",
      "177                   Medium    Male  ...          Excellent   \n",
      "\n",
      "     RelationshipSatisfaction  StockOptionLevel TotalWorkingYears  \\\n",
      "1191                Very_High                 0                18   \n",
      "407                 Very_High                 1                 6   \n",
      "1233                Very_High                 0                20   \n",
      "366                    Medium                 2                 6   \n",
      "702                 Very_High                 0                 9   \n",
      "...                       ...               ...               ...   \n",
      "733                 Very_High                 0                10   \n",
      "1061                     High                 0                14   \n",
      "1307                   Medium                 1                22   \n",
      "1060                      Low                 0                14   \n",
      "177                      High                 0                 4   \n",
      "\n",
      "     TrainingTimesLastYear WorkLifeBalance  YearsAtCompany  \\\n",
      "1191                     2            Best              14   \n",
      "407                      0            Best               6   \n",
      "1233                     2            Good               4   \n",
      "366                      3            Good               5   \n",
      "702                      3            Good               5   \n",
      "...                    ...             ...             ...   \n",
      "733                      2          Better              10   \n",
      "1061                     3          Better              10   \n",
      "1307                     2          Better              18   \n",
      "1060                     6          Better               0   \n",
      "177                      2          Better               3   \n",
      "\n",
      "      YearsInCurrentRole  YearsSinceLastPromotion YearsWithCurrManager  \n",
      "1191                   7                        8                   10  \n",
      "407                    4                        1                    3  \n",
      "1233                   3                        1                    3  \n",
      "366                    3                        4                    3  \n",
      "702                    4                        1                    4  \n",
      "...                  ...                      ...                  ...  \n",
      "733                    3                        9                    9  \n",
      "1061                   7                        0                    2  \n",
      "1307                  16                       11                    8  \n",
      "1060                   0                        0                    0  \n",
      "177                    2                        2                    2  \n",
      "\n",
      "[588 rows x 31 columns]\n"
     ]
    }
   ],
   "source": [
    "# Proportion of employees by Education level\n",
    "education_counts_pop = attrition_pop['Education'].value_counts(normalize=True)\n",
    "\n",
    "# Print education_counts_pop\n",
    "print(education_counts_pop)\n",
    "\n",
    "# Proportional stratified sampling for 40% of each Education group\n",
    "attrition_strat = attrition_pop.groupby(\"Education\")\\\n",
    ".sample(frac=0.4, random_state=2022)\n",
    "\n",
    "\n",
    "# Print the sample\n",
    "print(attrition_strat)\n",
    "\n"
   ]
  },
  {
   "cell_type": "code",
   "execution_count": 121,
   "metadata": {},
   "outputs": [
    {
     "name": "stdout",
     "output_type": "stream",
     "text": [
      "Bachelor         0.389456\n",
      "Master           0.270408\n",
      "College          0.192177\n",
      "Below_College    0.115646\n",
      "Doctor           0.032313\n",
      "Name: Education, dtype: float64\n"
     ]
    }
   ],
   "source": [
    "# Calculate the Education level proportions from attrition_strat\n",
    "education_counts_strat = attrition_strat['Education'].value_counts(normalize=True)\n",
    "\n",
    "# Print education_counts_strat\n",
    "print(education_counts_strat)\n"
   ]
  },
  {
   "cell_type": "markdown",
   "metadata": {},
   "source": [
    "Equal counts stratified sampling\n",
    "If one subgroup is larger than another subgroup in the population, but you don't want to reflect that difference in your analysis, then you can use equal counts stratified sampling to generate samples where each subgroup has the same amount of data. For example, if you are analyzing blood types, O is the most common blood type worldwide, but you may wish to have equal amounts of O, A, B, and AB in your sample.\n",
    "\n",
    "attrition_pop is available; pandas is loaded with its usual alias."
   ]
  },
  {
   "cell_type": "code",
   "execution_count": 122,
   "metadata": {},
   "outputs": [
    {
     "name": "stdout",
     "output_type": "stream",
     "text": [
      "      Age  Attrition     BusinessTravel  DailyRate            Department  \\\n",
      "1191   53        0.0      Travel_Rarely        238                 Sales   \n",
      "407    29        0.0  Travel_Frequently        995  Research_Development   \n",
      "1233   59        0.0  Travel_Frequently       1225                 Sales   \n",
      "366    37        0.0      Travel_Rarely        571  Research_Development   \n",
      "702    31        0.0  Travel_Frequently        163  Research_Development   \n",
      "...   ...        ...                ...        ...                   ...   \n",
      "774    33        0.0      Travel_Rarely        922  Research_Development   \n",
      "869    45        0.0      Travel_Rarely       1015  Research_Development   \n",
      "530    32        0.0      Travel_Rarely        120  Research_Development   \n",
      "1049   48        0.0      Travel_Rarely        163                 Sales   \n",
      "350    29        1.0      Travel_Rarely        408  Research_Development   \n",
      "\n",
      "      DistanceFromHome      Education    EducationField  \\\n",
      "1191                 1  Below_College           Medical   \n",
      "407                  2  Below_College     Life_Sciences   \n",
      "1233                 1  Below_College     Life_Sciences   \n",
      "366                 10  Below_College     Life_Sciences   \n",
      "702                 24  Below_College  Technical_Degree   \n",
      "...                ...            ...               ...   \n",
      "774                  1         Doctor           Medical   \n",
      "869                  5         Doctor           Medical   \n",
      "530                  6         Doctor     Life_Sciences   \n",
      "1049                 2         Doctor         Marketing   \n",
      "350                 25         Doctor  Technical_Degree   \n",
      "\n",
      "     EnvironmentSatisfaction  Gender  ...  PerformanceRating  \\\n",
      "1191               Very_High  Female  ...        Outstanding   \n",
      "407                      Low    Male  ...          Excellent   \n",
      "1233                     Low  Female  ...          Excellent   \n",
      "366                Very_High  Female  ...          Excellent   \n",
      "702                Very_High  Female  ...        Outstanding   \n",
      "...                      ...     ...  ...                ...   \n",
      "774                      Low  Female  ...          Excellent   \n",
      "869                     High  Female  ...          Excellent   \n",
      "530                     High    Male  ...        Outstanding   \n",
      "1049                  Medium  Female  ...          Excellent   \n",
      "350                     High  Female  ...          Excellent   \n",
      "\n",
      "     RelationshipSatisfaction  StockOptionLevel TotalWorkingYears  \\\n",
      "1191                Very_High                 0                18   \n",
      "407                 Very_High                 1                 6   \n",
      "1233                Very_High                 0                20   \n",
      "366                    Medium                 2                 6   \n",
      "702                 Very_High                 0                 9   \n",
      "...                       ...               ...               ...   \n",
      "774                      High                 1                10   \n",
      "869                       Low                 0                10   \n",
      "530                       Low                 0                 8   \n",
      "1049                      Low                 1                14   \n",
      "350                    Medium                 0                 6   \n",
      "\n",
      "     TrainingTimesLastYear WorkLifeBalance  YearsAtCompany  \\\n",
      "1191                     2            Best              14   \n",
      "407                      0            Best               6   \n",
      "1233                     2            Good               4   \n",
      "366                      3            Good               5   \n",
      "702                      3            Good               5   \n",
      "...                    ...             ...             ...   \n",
      "774                      2          Better               6   \n",
      "869                      3          Better              10   \n",
      "530                      2          Better               5   \n",
      "1049                     2          Better               9   \n",
      "350                      2            Best               2   \n",
      "\n",
      "      YearsInCurrentRole  YearsSinceLastPromotion YearsWithCurrManager  \n",
      "1191                   7                        8                   10  \n",
      "407                    4                        1                    3  \n",
      "1233                   3                        1                    3  \n",
      "366                    3                        4                    3  \n",
      "702                    4                        1                    4  \n",
      "...                  ...                      ...                  ...  \n",
      "774                    1                        0                    5  \n",
      "869                    7                        1                    4  \n",
      "530                    4                        1                    4  \n",
      "1049                   7                        6                    7  \n",
      "350                    2                        1                    1  \n",
      "\n",
      "[150 rows x 31 columns]\n"
     ]
    }
   ],
   "source": [
    "# Get 30 employees from each Education group\n",
    "attrition_eq = attrition_pop.groupby(\"Education\")\\\n",
    ".sample(n=30, random_state=2022)\n",
    "\n",
    "\n",
    "\n",
    "# Print the sample\n",
    "print(attrition_eq)"
   ]
  },
  {
   "cell_type": "code",
   "execution_count": 123,
   "metadata": {},
   "outputs": [
    {
     "name": "stdout",
     "output_type": "stream",
     "text": [
      "Below_College    0.2\n",
      "College          0.2\n",
      "Bachelor         0.2\n",
      "Master           0.2\n",
      "Doctor           0.2\n",
      "Name: Education, dtype: float64\n"
     ]
    }
   ],
   "source": [
    "# Get 30 employees from each Education group\n",
    "attrition_eq = attrition_pop.groupby('Education')\\\n",
    "\t.sample(n=30, random_state=2022)      \n",
    "\n",
    "# Get the proportions from attrition_eq\n",
    "education_counts_eq = attrition_eq['Education'].value_counts(normalize=True)\n",
    "\n",
    "# Print the results\n",
    "print(education_counts_eq)"
   ]
  },
  {
   "cell_type": "markdown",
   "metadata": {},
   "source": [
    "Weighted sampling\n",
    "Stratified sampling provides rules about the probability of picking rows from your dataset at the subgroup level. A generalization of this is weighted sampling, which lets you specify rules about the probability of picking rows at the row level. The probability of picking any given row is proportional to the weight value for that row.\n",
    "\n",
    "attrition_pop is available; pandas, matplotlib.pyplot, and numpy are loaded with their usual aliases."
   ]
  },
  {
   "cell_type": "code",
   "execution_count": 124,
   "metadata": {},
   "outputs": [
    {
     "data": {
      "image/png": "[encoded data removed]",
      "text/plain": [
       "<Figure size 640x480 with 1 Axes>"
      ]
     },
     "metadata": {},
     "output_type": "display_data"
    }
   ],
   "source": [
    "# Plot YearsAtCompany from attrition_pop as a histogram\n",
    "attrition_pop[\"YearsAtCompany\"].hist(bins=np.arange(0, 41, 1))\n",
    "plt.show()"
   ]
  },
  {
   "cell_type": "code",
   "execution_count": 127,
   "metadata": {},
   "outputs": [
    {
     "data": {
      "image/png": "[encoded data removed]",
      "text/plain": [
       "<Figure size 640x480 with 1 Axes>"
      ]
     },
     "metadata": {},
     "output_type": "display_data"
    },
    {
     "data": {
      "image/png": "[encoded data removed]",
      "text/plain": [
       "<Figure size 640x480 with 1 Axes>"
      ]
     },
     "metadata": {},
     "output_type": "display_data"
    }
   ],
   "source": [
    "# Plot YearsAtCompany from attrition_pop as a histogram\n",
    "attrition_pop['YearsAtCompany'].hist(bins=np.arange(0, 41, 1))\n",
    "plt.show()\n",
    "\n",
    "# Sample 400 employees weighted by YearsAtCompany\n",
    "attrition_weight = attrition_pop.sample(n=400, weights=\"YearsAtCompany\")\n",
    "\n",
    "# Plot YearsAtCompany from attrition_weight as a histogram\n",
    "attrition_weight['YearsAtCompany'].hist(bins=np.arange(0, 41, 1))\n",
    "plt.show()\n",
    "\n"
   ]
  },
  {
   "cell_type": "markdown",
   "metadata": {},
   "source": [
    "#### **Cluster sampling**\n",
    "\n",
    "1. Stratified sampling vs. cluster sampling\n",
    "Stratified sampling\n",
    "    Split the population into subgroups\n",
    "    Use simple random sampling on every subgroup\n",
    "Cluster sampling\n",
    "    Use simple random sampling to pick some subgroups\n",
    "    Use simple random sampling on only those subgroups\n",
    "2. Varieties of coffee\n",
    "varieties_pop = list(coffee_ratings['variety'].unique())\n",
    "\n",
    "[None, 'Other', 'Bourbon', 'Catimor',\n",
    "'Ethiopian Yirgacheffe','Caturra',\n",
    "'SL14', 'Sumatra', 'SL34', 'Hawaiian Kona',\n",
    "'Yellow Bourbon', 'SL28', 'Gesha', 'Catuai',\n",
    "'Pacamara', 'Typica', 'Sumatra Lintong',\n",
    "'Mundo Novo', 'Java', 'Peaberry', 'Pacas',\n",
    "'Mandheling', 'Ruiru 11', 'Arusha',\n",
    "'Ethiopian Heirlooms', 'Moka Peaberry',\n",
    "'Sulawesi', 'Blue Mountain', 'Marigojipe',\n",
    "'Pache Comun']\n",
    "3. Stage 1: sampling for subgroups\n",
    "import random\n",
    "varieties_samp = random.sample(varieties_pop, k=3)\n",
    "\n",
    "['Hawaiian Kona', 'Bourbon', 'SL28']\n",
    "4. Stage 2: sampling each groupStage 2: sampling each group\n",
    "variety_condition = coffee_ratings['variety'].isin(varieties_samp)\n",
    "coffee_ratings_cluster = coffee_ratings[variety_condition]\n",
    "coffee_ratings_cluster['variety'] = coffee_ratings_cluster['variety'].cat.remove_unused_categories()\n",
    "coffee_ratings_cluster.groupby(\"variety\")\\\n",
    ".sample(n=5, random_state=2021)\n",
    "\n",
    "5. Multistage sampling\n",
    "Cluster sampling is a type of multistage sampling\n",
    "Can have > 2 stages\n",
    "E.g., countrywide surveys may sample states, counties, cities, and neighborhoods"
   ]
  },
  {
   "cell_type": "code",
   "execution_count": null,
   "metadata": {},
   "outputs": [
    {
     "name": "stdout",
     "output_type": "stream",
     "text": [
      "[None, 'Other', 'Bourbon', 'Catimor', 'Ethiopian Yirgacheffe', 'Caturra', 'SL14', 'Sumatra', 'SL34', 'Hawaiian Kona', 'Yellow Bourbon', 'SL28', 'Gesha', 'Catuai', 'Pacamara', 'Typica', 'Sumatra Lintong', 'Mundo Novo', 'Java', 'Peaberry', 'Pacas', 'Mandheling', 'Ruiru 11', 'Arusha', 'Ethiopian Heirlooms', 'Moka Peaberry', 'Sulawesi', 'Blue Mountain', 'Marigojipe', 'Pache Comun']\n"
     ]
    }
   ],
   "source": [
    "varieties_pop = list(coffee_ratings['variety'].unique())\n",
    "print(varieties_pop)\n"
   ]
  },
  {
   "cell_type": "code",
   "execution_count": 139,
   "metadata": {},
   "outputs": [
    {
     "name": "stdout",
     "output_type": "stream",
     "text": [
      "['Hawaiian Kona', 'Bourbon', 'Yellow Bourbon']\n"
     ]
    }
   ],
   "source": [
    "import random\n",
    "varieties_samp = random.sample(varieties_pop, k=3)\n",
    "print(varieties_samp)"
   ]
  },
  {
   "cell_type": "code",
   "execution_count": 143,
   "metadata": {},
   "outputs": [
    {
     "name": "stderr",
     "output_type": "stream",
     "text": [
      "C:\\Users\\mcaba\\AppData\\Local\\Temp\\ipykernel_16104\\325015625.py:3: SettingWithCopyWarning: \n",
      "A value is trying to be set on a copy of a slice from a DataFrame.\n",
      "Try using .loc[row_indexer,col_indexer] = value instead\n",
      "\n",
      "See the caveats in the documentation: https://pandas.pydata.org/pandas-docs/stable/user_guide/indexing.html#returning-a-view-versus-a-copy\n",
      "  coffee_ratings_cluster['variety'] = coffee_ratings_cluster['variety'].astype('category')\n",
      "C:\\Users\\mcaba\\AppData\\Local\\Temp\\ipykernel_16104\\325015625.py:4: SettingWithCopyWarning: \n",
      "A value is trying to be set on a copy of a slice from a DataFrame.\n",
      "Try using .loc[row_indexer,col_indexer] = value instead\n",
      "\n",
      "See the caveats in the documentation: https://pandas.pydata.org/pandas-docs/stable/user_guide/indexing.html#returning-a-view-versus-a-copy\n",
      "  coffee_ratings_cluster['variety'] = coffee_ratings_cluster['variety'].cat.remove_unused_categories()\n"
     ]
    },
    {
     "data": {
      "text/html": [
       "<div>\n",
       "<style scoped>\n",
       "    .dataframe tbody tr th:only-of-type {\n",
       "        vertical-align: middle;\n",
       "    }\n",
       "\n",
       "    .dataframe tbody tr th {\n",
       "        vertical-align: top;\n",
       "    }\n",
       "\n",
       "    .dataframe thead th {\n",
       "        text-align: right;\n",
       "    }\n",
       "</style>\n",
       "<table border=\"1\" class=\"dataframe\">\n",
       "  <thead>\n",
       "    <tr style=\"text-align: right;\">\n",
       "      <th></th>\n",
       "      <th>total_cup_points</th>\n",
       "      <th>species</th>\n",
       "      <th>owner</th>\n",
       "      <th>country_of_origin</th>\n",
       "      <th>farm_name</th>\n",
       "      <th>lot_number</th>\n",
       "      <th>mill</th>\n",
       "      <th>ico_number</th>\n",
       "      <th>company</th>\n",
       "      <th>altitude</th>\n",
       "      <th>...</th>\n",
       "      <th>color</th>\n",
       "      <th>category_two_defects</th>\n",
       "      <th>expiration</th>\n",
       "      <th>certification_body</th>\n",
       "      <th>certification_address</th>\n",
       "      <th>certification_contact</th>\n",
       "      <th>unit_of_measurement</th>\n",
       "      <th>altitude_low_meters</th>\n",
       "      <th>altitude_high_meters</th>\n",
       "      <th>altitude_mean_meters</th>\n",
       "    </tr>\n",
       "  </thead>\n",
       "  <tbody>\n",
       "    <tr>\n",
       "      <th>575</th>\n",
       "      <td>82.83</td>\n",
       "      <td>Arabica</td>\n",
       "      <td>juan luis alvarado romero</td>\n",
       "      <td>Guatemala</td>\n",
       "      <td>agropecuaria quiagral</td>\n",
       "      <td>None</td>\n",
       "      <td>beneficio ixchel</td>\n",
       "      <td>11/23/0934</td>\n",
       "      <td>unex guatemala, s.a.</td>\n",
       "      <td>4300</td>\n",
       "      <td>...</td>\n",
       "      <td>Green</td>\n",
       "      <td>10.0</td>\n",
       "      <td>July 9th, 2013</td>\n",
       "      <td>Asociacion Nacional Del Café</td>\n",
       "      <td>b1f20fe3a819fd6b2ee0eb8fdc3da256604f1e53</td>\n",
       "      <td>724f04ad10ed31dbb9d260f0dfd221ba48be8a95</td>\n",
       "      <td>ft</td>\n",
       "      <td>1310.64</td>\n",
       "      <td>1310.64</td>\n",
       "      <td>1310.64</td>\n",
       "    </tr>\n",
       "    <tr>\n",
       "      <th>560</th>\n",
       "      <td>82.83</td>\n",
       "      <td>Arabica</td>\n",
       "      <td>juan luis alvarado romero</td>\n",
       "      <td>Guatemala</td>\n",
       "      <td>piamonte</td>\n",
       "      <td>11/23/0513</td>\n",
       "      <td>beneficio ixchel</td>\n",
       "      <td>11/23/0513</td>\n",
       "      <td>unex guatemala, s.a.</td>\n",
       "      <td>1700</td>\n",
       "      <td>...</td>\n",
       "      <td>Green</td>\n",
       "      <td>2.0</td>\n",
       "      <td>June 22nd, 2018</td>\n",
       "      <td>Asociacion Nacional Del Café</td>\n",
       "      <td>b1f20fe3a819fd6b2ee0eb8fdc3da256604f1e53</td>\n",
       "      <td>724f04ad10ed31dbb9d260f0dfd221ba48be8a95</td>\n",
       "      <td>m</td>\n",
       "      <td>1700.00</td>\n",
       "      <td>1700.00</td>\n",
       "      <td>1700.00</td>\n",
       "    </tr>\n",
       "    <tr>\n",
       "      <th>524</th>\n",
       "      <td>83.00</td>\n",
       "      <td>Arabica</td>\n",
       "      <td>juan luis alvarado romero</td>\n",
       "      <td>Guatemala</td>\n",
       "      <td>la igualdad</td>\n",
       "      <td>None</td>\n",
       "      <td>beneficio la igualdad</td>\n",
       "      <td>11/194/07</td>\n",
       "      <td>nuevos mercados, s.a.</td>\n",
       "      <td>4500</td>\n",
       "      <td>...</td>\n",
       "      <td>Green</td>\n",
       "      <td>2.0</td>\n",
       "      <td>April 27th, 2013</td>\n",
       "      <td>Asociacion Nacional Del Café</td>\n",
       "      <td>b1f20fe3a819fd6b2ee0eb8fdc3da256604f1e53</td>\n",
       "      <td>724f04ad10ed31dbb9d260f0dfd221ba48be8a95</td>\n",
       "      <td>ft</td>\n",
       "      <td>1371.60</td>\n",
       "      <td>1371.60</td>\n",
       "      <td>1371.60</td>\n",
       "    </tr>\n",
       "    <tr>\n",
       "      <th>1140</th>\n",
       "      <td>79.83</td>\n",
       "      <td>Arabica</td>\n",
       "      <td>juan luis alvarado romero</td>\n",
       "      <td>Guatemala</td>\n",
       "      <td>piamonte</td>\n",
       "      <td>11/23/0639</td>\n",
       "      <td>beneficio ixchel</td>\n",
       "      <td>11/23/0639</td>\n",
       "      <td>unex guatemala, s.a.</td>\n",
       "      <td>1700</td>\n",
       "      <td>...</td>\n",
       "      <td>Green</td>\n",
       "      <td>2.0</td>\n",
       "      <td>August 22nd, 2018</td>\n",
       "      <td>Asociacion Nacional Del Café</td>\n",
       "      <td>b1f20fe3a819fd6b2ee0eb8fdc3da256604f1e53</td>\n",
       "      <td>724f04ad10ed31dbb9d260f0dfd221ba48be8a95</td>\n",
       "      <td>m</td>\n",
       "      <td>1700.00</td>\n",
       "      <td>1700.00</td>\n",
       "      <td>1700.00</td>\n",
       "    </tr>\n",
       "    <tr>\n",
       "      <th>318</th>\n",
       "      <td>83.67</td>\n",
       "      <td>Arabica</td>\n",
       "      <td>ipanema coffees</td>\n",
       "      <td>Brazil</td>\n",
       "      <td>capoeirinha</td>\n",
       "      <td>008/16A</td>\n",
       "      <td>dry mill</td>\n",
       "      <td>002/1660/0106</td>\n",
       "      <td>ipanema coffees</td>\n",
       "      <td>934</td>\n",
       "      <td>...</td>\n",
       "      <td>Green</td>\n",
       "      <td>3.0</td>\n",
       "      <td>August 16th, 2017</td>\n",
       "      <td>Brazil Specialty Coffee Association</td>\n",
       "      <td>3297cfa4c538e3dd03f72cc4082c54f7999e1f9d</td>\n",
       "      <td>8900f0bf1d0b2bafe6807a73562c7677d57eb980</td>\n",
       "      <td>m</td>\n",
       "      <td>934.00</td>\n",
       "      <td>934.00</td>\n",
       "      <td>934.00</td>\n",
       "    </tr>\n",
       "    <tr>\n",
       "      <th>308</th>\n",
       "      <td>83.75</td>\n",
       "      <td>Arabica</td>\n",
       "      <td>kona pacific farmers cooperative</td>\n",
       "      <td>United States (Hawaii)</td>\n",
       "      <td>None</td>\n",
       "      <td>None</td>\n",
       "      <td>None</td>\n",
       "      <td>K#13150104</td>\n",
       "      <td>kona pacific farmers cooperative</td>\n",
       "      <td>None</td>\n",
       "      <td>...</td>\n",
       "      <td>Bluish-Green</td>\n",
       "      <td>0.0</td>\n",
       "      <td>May 2nd, 2014</td>\n",
       "      <td>Specialty Coffee Association</td>\n",
       "      <td>36d0d00a3724338ba7937c52a378d085f2172daa</td>\n",
       "      <td>0878a7d4b9d35ddbf0fe2ce69a2062cceb45a660</td>\n",
       "      <td>ft</td>\n",
       "      <td>NaN</td>\n",
       "      <td>NaN</td>\n",
       "      <td>NaN</td>\n",
       "    </tr>\n",
       "    <tr>\n",
       "      <th>851</th>\n",
       "      <td>81.83</td>\n",
       "      <td>Arabica</td>\n",
       "      <td>kona pacific farmers cooperative</td>\n",
       "      <td>United States (Hawaii)</td>\n",
       "      <td>None</td>\n",
       "      <td>None</td>\n",
       "      <td>None</td>\n",
       "      <td>KF315210</td>\n",
       "      <td>kona pacific farmers cooperative</td>\n",
       "      <td>None</td>\n",
       "      <td>...</td>\n",
       "      <td>Bluish-Green</td>\n",
       "      <td>1.0</td>\n",
       "      <td>March 6th, 2014</td>\n",
       "      <td>Specialty Coffee Association</td>\n",
       "      <td>36d0d00a3724338ba7937c52a378d085f2172daa</td>\n",
       "      <td>0878a7d4b9d35ddbf0fe2ce69a2062cceb45a660</td>\n",
       "      <td>ft</td>\n",
       "      <td>NaN</td>\n",
       "      <td>NaN</td>\n",
       "      <td>NaN</td>\n",
       "    </tr>\n",
       "    <tr>\n",
       "      <th>405</th>\n",
       "      <td>83.33</td>\n",
       "      <td>Arabica</td>\n",
       "      <td>eileen koyanagi</td>\n",
       "      <td>United States (Hawaii)</td>\n",
       "      <td>None</td>\n",
       "      <td>None</td>\n",
       "      <td>None</td>\n",
       "      <td>KP012314</td>\n",
       "      <td>kona pacific farmers cooperative</td>\n",
       "      <td>None</td>\n",
       "      <td>...</td>\n",
       "      <td>Bluish-Green</td>\n",
       "      <td>1.0</td>\n",
       "      <td>February 25th, 2015</td>\n",
       "      <td>Specialty Coffee Association</td>\n",
       "      <td>36d0d00a3724338ba7937c52a378d085f2172daa</td>\n",
       "      <td>0878a7d4b9d35ddbf0fe2ce69a2062cceb45a660</td>\n",
       "      <td>ft</td>\n",
       "      <td>NaN</td>\n",
       "      <td>NaN</td>\n",
       "      <td>NaN</td>\n",
       "    </tr>\n",
       "    <tr>\n",
       "      <th>176</th>\n",
       "      <td>84.42</td>\n",
       "      <td>Arabica</td>\n",
       "      <td>kona pacific farmers cooperative</td>\n",
       "      <td>United States (Hawaii)</td>\n",
       "      <td>None</td>\n",
       "      <td>None</td>\n",
       "      <td>None</td>\n",
       "      <td>2234501 KONA FANCY</td>\n",
       "      <td>kona pacific farmers cooperative</td>\n",
       "      <td>None</td>\n",
       "      <td>...</td>\n",
       "      <td>Blue-Green</td>\n",
       "      <td>1.0</td>\n",
       "      <td>January 21st, 2014</td>\n",
       "      <td>Specialty Coffee Association</td>\n",
       "      <td>36d0d00a3724338ba7937c52a378d085f2172daa</td>\n",
       "      <td>0878a7d4b9d35ddbf0fe2ce69a2062cceb45a660</td>\n",
       "      <td>ft</td>\n",
       "      <td>NaN</td>\n",
       "      <td>NaN</td>\n",
       "      <td>NaN</td>\n",
       "    </tr>\n",
       "    <tr>\n",
       "      <th>430</th>\n",
       "      <td>83.25</td>\n",
       "      <td>Arabica</td>\n",
       "      <td>kona pacific farmers cooperative</td>\n",
       "      <td>United States (Hawaii)</td>\n",
       "      <td>None</td>\n",
       "      <td>None</td>\n",
       "      <td>None</td>\n",
       "      <td>KF313630</td>\n",
       "      <td>kona pacific farmers cooperative</td>\n",
       "      <td>None</td>\n",
       "      <td>...</td>\n",
       "      <td>Bluish-Green</td>\n",
       "      <td>4.0</td>\n",
       "      <td>March 21st, 2014</td>\n",
       "      <td>Specialty Coffee Association</td>\n",
       "      <td>36d0d00a3724338ba7937c52a378d085f2172daa</td>\n",
       "      <td>0878a7d4b9d35ddbf0fe2ce69a2062cceb45a660</td>\n",
       "      <td>ft</td>\n",
       "      <td>NaN</td>\n",
       "      <td>NaN</td>\n",
       "      <td>NaN</td>\n",
       "    </tr>\n",
       "    <tr>\n",
       "      <th>1000</th>\n",
       "      <td>81.00</td>\n",
       "      <td>Arabica</td>\n",
       "      <td>bourbon specialty coffees</td>\n",
       "      <td>Brazil</td>\n",
       "      <td>cachoeira da grama farm</td>\n",
       "      <td>43103820 - K24258 - 030/16</td>\n",
       "      <td>dry mill</td>\n",
       "      <td>002/4542/0966</td>\n",
       "      <td>bourbon specialty coffees</td>\n",
       "      <td>None</td>\n",
       "      <td>...</td>\n",
       "      <td>Bluish-Green</td>\n",
       "      <td>3.0</td>\n",
       "      <td>September 9th, 2017</td>\n",
       "      <td>Brazil Specialty Coffee Association</td>\n",
       "      <td>3297cfa4c538e3dd03f72cc4082c54f7999e1f9d</td>\n",
       "      <td>8900f0bf1d0b2bafe6807a73562c7677d57eb980</td>\n",
       "      <td>m</td>\n",
       "      <td>NaN</td>\n",
       "      <td>NaN</td>\n",
       "      <td>NaN</td>\n",
       "    </tr>\n",
       "    <tr>\n",
       "      <th>955</th>\n",
       "      <td>81.33</td>\n",
       "      <td>Arabica</td>\n",
       "      <td>jacques pereira carneiro</td>\n",
       "      <td>Brazil</td>\n",
       "      <td>sertao farm</td>\n",
       "      <td>None</td>\n",
       "      <td>carapina</td>\n",
       "      <td>002/135-2/0076</td>\n",
       "      <td>exportadora de cafés carmo de minas ltda</td>\n",
       "      <td>1200</td>\n",
       "      <td>...</td>\n",
       "      <td>Green</td>\n",
       "      <td>6.0</td>\n",
       "      <td>December 16th, 2015</td>\n",
       "      <td>Brazil Specialty Coffee Association</td>\n",
       "      <td>3297cfa4c538e3dd03f72cc4082c54f7999e1f9d</td>\n",
       "      <td>8900f0bf1d0b2bafe6807a73562c7677d57eb980</td>\n",
       "      <td>m</td>\n",
       "      <td>1200.00</td>\n",
       "      <td>1200.00</td>\n",
       "      <td>1200.00</td>\n",
       "    </tr>\n",
       "    <tr>\n",
       "      <th>41</th>\n",
       "      <td>86.17</td>\n",
       "      <td>Arabica</td>\n",
       "      <td>jacques pereira carneiro</td>\n",
       "      <td>Brazil</td>\n",
       "      <td>pereira estate coffee</td>\n",
       "      <td>None</td>\n",
       "      <td>cocarive</td>\n",
       "      <td>002/1352/0045</td>\n",
       "      <td>None</td>\n",
       "      <td>1.2</td>\n",
       "      <td>...</td>\n",
       "      <td>None</td>\n",
       "      <td>2.0</td>\n",
       "      <td>January 4th, 2012</td>\n",
       "      <td>Specialty Coffee Association</td>\n",
       "      <td>36d0d00a3724338ba7937c52a378d085f2172daa</td>\n",
       "      <td>0878a7d4b9d35ddbf0fe2ce69a2062cceb45a660</td>\n",
       "      <td>m</td>\n",
       "      <td>12.00</td>\n",
       "      <td>12.00</td>\n",
       "      <td>12.00</td>\n",
       "    </tr>\n",
       "    <tr>\n",
       "      <th>683</th>\n",
       "      <td>82.42</td>\n",
       "      <td>Arabica</td>\n",
       "      <td>ipanema coffees</td>\n",
       "      <td>Brazil</td>\n",
       "      <td>rio verde</td>\n",
       "      <td>None</td>\n",
       "      <td>ipanema comercial e exportadora sa</td>\n",
       "      <td>002/4177/0150</td>\n",
       "      <td>ipanema coffees</td>\n",
       "      <td>1</td>\n",
       "      <td>...</td>\n",
       "      <td>Green</td>\n",
       "      <td>0.0</td>\n",
       "      <td>October 7th, 2016</td>\n",
       "      <td>Brazil Specialty Coffee Association</td>\n",
       "      <td>3297cfa4c538e3dd03f72cc4082c54f7999e1f9d</td>\n",
       "      <td>8900f0bf1d0b2bafe6807a73562c7677d57eb980</td>\n",
       "      <td>m</td>\n",
       "      <td>1.00</td>\n",
       "      <td>1.00</td>\n",
       "      <td>1.00</td>\n",
       "    </tr>\n",
       "    <tr>\n",
       "      <th>187</th>\n",
       "      <td>84.33</td>\n",
       "      <td>Arabica</td>\n",
       "      <td>nucoffee</td>\n",
       "      <td>Brazil</td>\n",
       "      <td>santa alina</td>\n",
       "      <td>None</td>\n",
       "      <td>None</td>\n",
       "      <td>None</td>\n",
       "      <td>None</td>\n",
       "      <td>1200m to 1350m</td>\n",
       "      <td>...</td>\n",
       "      <td>None</td>\n",
       "      <td>4.0</td>\n",
       "      <td>October 27th, 2012</td>\n",
       "      <td>NUCOFFEE</td>\n",
       "      <td>567f200bcc17a90070cb952647bf88141ad9c80c</td>\n",
       "      <td>aa2ff513ffb9c844462a1fb07c599bce7f3bb53d</td>\n",
       "      <td>m</td>\n",
       "      <td>1200.00</td>\n",
       "      <td>1350.00</td>\n",
       "      <td>1275.00</td>\n",
       "    </tr>\n",
       "  </tbody>\n",
       "</table>\n",
       "<p>15 rows × 43 columns</p>\n",
       "</div>"
      ],
      "text/plain": [
       "      total_cup_points  species                             owner  \\\n",
       "575              82.83  Arabica         juan luis alvarado romero   \n",
       "560              82.83  Arabica         juan luis alvarado romero   \n",
       "524              83.00  Arabica         juan luis alvarado romero   \n",
       "1140             79.83  Arabica         juan luis alvarado romero   \n",
       "318              83.67  Arabica                   ipanema coffees   \n",
       "308              83.75  Arabica  kona pacific farmers cooperative   \n",
       "851              81.83  Arabica  kona pacific farmers cooperative   \n",
       "405              83.33  Arabica                   eileen koyanagi   \n",
       "176              84.42  Arabica  kona pacific farmers cooperative   \n",
       "430              83.25  Arabica  kona pacific farmers cooperative   \n",
       "1000             81.00  Arabica         bourbon specialty coffees   \n",
       "955              81.33  Arabica          jacques pereira carneiro   \n",
       "41               86.17  Arabica          jacques pereira carneiro   \n",
       "683              82.42  Arabica                   ipanema coffees   \n",
       "187              84.33  Arabica                          nucoffee   \n",
       "\n",
       "           country_of_origin                farm_name  \\\n",
       "575                Guatemala    agropecuaria quiagral   \n",
       "560                Guatemala                 piamonte   \n",
       "524                Guatemala              la igualdad   \n",
       "1140               Guatemala                 piamonte   \n",
       "318                   Brazil              capoeirinha   \n",
       "308   United States (Hawaii)                     None   \n",
       "851   United States (Hawaii)                     None   \n",
       "405   United States (Hawaii)                     None   \n",
       "176   United States (Hawaii)                     None   \n",
       "430   United States (Hawaii)                     None   \n",
       "1000                  Brazil  cachoeira da grama farm   \n",
       "955                   Brazil              sertao farm   \n",
       "41                    Brazil    pereira estate coffee   \n",
       "683                   Brazil                rio verde   \n",
       "187                   Brazil              santa alina   \n",
       "\n",
       "                      lot_number                                mill  \\\n",
       "575                         None                    beneficio ixchel   \n",
       "560                   11/23/0513                    beneficio ixchel   \n",
       "524                         None               beneficio la igualdad   \n",
       "1140                  11/23/0639                    beneficio ixchel   \n",
       "318                      008/16A                            dry mill   \n",
       "308                         None                                None   \n",
       "851                         None                                None   \n",
       "405                         None                                None   \n",
       "176                         None                                None   \n",
       "430                         None                                None   \n",
       "1000  43103820 - K24258 - 030/16                            dry mill   \n",
       "955                         None                            carapina   \n",
       "41                          None                            cocarive   \n",
       "683                         None  ipanema comercial e exportadora sa   \n",
       "187                         None                                None   \n",
       "\n",
       "              ico_number                                   company  \\\n",
       "575           11/23/0934                      unex guatemala, s.a.   \n",
       "560           11/23/0513                      unex guatemala, s.a.   \n",
       "524            11/194/07                     nuevos mercados, s.a.   \n",
       "1140          11/23/0639                      unex guatemala, s.a.   \n",
       "318        002/1660/0106                           ipanema coffees   \n",
       "308           K#13150104          kona pacific farmers cooperative   \n",
       "851             KF315210          kona pacific farmers cooperative   \n",
       "405             KP012314          kona pacific farmers cooperative   \n",
       "176   2234501 KONA FANCY          kona pacific farmers cooperative   \n",
       "430             KF313630          kona pacific farmers cooperative   \n",
       "1000       002/4542/0966                 bourbon specialty coffees   \n",
       "955       002/135-2/0076  exportadora de cafés carmo de minas ltda   \n",
       "41         002/1352/0045                                      None   \n",
       "683        002/4177/0150                           ipanema coffees   \n",
       "187                 None                                      None   \n",
       "\n",
       "            altitude  ...         color category_two_defects  \\\n",
       "575             4300  ...         Green                 10.0   \n",
       "560             1700  ...         Green                  2.0   \n",
       "524             4500  ...         Green                  2.0   \n",
       "1140            1700  ...         Green                  2.0   \n",
       "318              934  ...         Green                  3.0   \n",
       "308             None  ...  Bluish-Green                  0.0   \n",
       "851             None  ...  Bluish-Green                  1.0   \n",
       "405             None  ...  Bluish-Green                  1.0   \n",
       "176             None  ...    Blue-Green                  1.0   \n",
       "430             None  ...  Bluish-Green                  4.0   \n",
       "1000            None  ...  Bluish-Green                  3.0   \n",
       "955             1200  ...         Green                  6.0   \n",
       "41               1.2  ...          None                  2.0   \n",
       "683                1  ...         Green                  0.0   \n",
       "187   1200m to 1350m  ...          None                  4.0   \n",
       "\n",
       "               expiration                   certification_body  \\\n",
       "575        July 9th, 2013         Asociacion Nacional Del Café   \n",
       "560       June 22nd, 2018         Asociacion Nacional Del Café   \n",
       "524      April 27th, 2013         Asociacion Nacional Del Café   \n",
       "1140    August 22nd, 2018         Asociacion Nacional Del Café   \n",
       "318     August 16th, 2017  Brazil Specialty Coffee Association   \n",
       "308         May 2nd, 2014         Specialty Coffee Association   \n",
       "851       March 6th, 2014         Specialty Coffee Association   \n",
       "405   February 25th, 2015         Specialty Coffee Association   \n",
       "176    January 21st, 2014         Specialty Coffee Association   \n",
       "430      March 21st, 2014         Specialty Coffee Association   \n",
       "1000  September 9th, 2017  Brazil Specialty Coffee Association   \n",
       "955   December 16th, 2015  Brazil Specialty Coffee Association   \n",
       "41      January 4th, 2012         Specialty Coffee Association   \n",
       "683     October 7th, 2016  Brazil Specialty Coffee Association   \n",
       "187    October 27th, 2012                             NUCOFFEE   \n",
       "\n",
       "                         certification_address  \\\n",
       "575   b1f20fe3a819fd6b2ee0eb8fdc3da256604f1e53   \n",
       "560   b1f20fe3a819fd6b2ee0eb8fdc3da256604f1e53   \n",
       "524   b1f20fe3a819fd6b2ee0eb8fdc3da256604f1e53   \n",
       "1140  b1f20fe3a819fd6b2ee0eb8fdc3da256604f1e53   \n",
       "318   3297cfa4c538e3dd03f72cc4082c54f7999e1f9d   \n",
       "308   36d0d00a3724338ba7937c52a378d085f2172daa   \n",
       "851   36d0d00a3724338ba7937c52a378d085f2172daa   \n",
       "405   36d0d00a3724338ba7937c52a378d085f2172daa   \n",
       "176   36d0d00a3724338ba7937c52a378d085f2172daa   \n",
       "430   36d0d00a3724338ba7937c52a378d085f2172daa   \n",
       "1000  3297cfa4c538e3dd03f72cc4082c54f7999e1f9d   \n",
       "955   3297cfa4c538e3dd03f72cc4082c54f7999e1f9d   \n",
       "41    36d0d00a3724338ba7937c52a378d085f2172daa   \n",
       "683   3297cfa4c538e3dd03f72cc4082c54f7999e1f9d   \n",
       "187   567f200bcc17a90070cb952647bf88141ad9c80c   \n",
       "\n",
       "                         certification_contact unit_of_measurement  \\\n",
       "575   724f04ad10ed31dbb9d260f0dfd221ba48be8a95                  ft   \n",
       "560   724f04ad10ed31dbb9d260f0dfd221ba48be8a95                   m   \n",
       "524   724f04ad10ed31dbb9d260f0dfd221ba48be8a95                  ft   \n",
       "1140  724f04ad10ed31dbb9d260f0dfd221ba48be8a95                   m   \n",
       "318   8900f0bf1d0b2bafe6807a73562c7677d57eb980                   m   \n",
       "308   0878a7d4b9d35ddbf0fe2ce69a2062cceb45a660                  ft   \n",
       "851   0878a7d4b9d35ddbf0fe2ce69a2062cceb45a660                  ft   \n",
       "405   0878a7d4b9d35ddbf0fe2ce69a2062cceb45a660                  ft   \n",
       "176   0878a7d4b9d35ddbf0fe2ce69a2062cceb45a660                  ft   \n",
       "430   0878a7d4b9d35ddbf0fe2ce69a2062cceb45a660                  ft   \n",
       "1000  8900f0bf1d0b2bafe6807a73562c7677d57eb980                   m   \n",
       "955   8900f0bf1d0b2bafe6807a73562c7677d57eb980                   m   \n",
       "41    0878a7d4b9d35ddbf0fe2ce69a2062cceb45a660                   m   \n",
       "683   8900f0bf1d0b2bafe6807a73562c7677d57eb980                   m   \n",
       "187   aa2ff513ffb9c844462a1fb07c599bce7f3bb53d                   m   \n",
       "\n",
       "     altitude_low_meters altitude_high_meters altitude_mean_meters  \n",
       "575              1310.64              1310.64              1310.64  \n",
       "560              1700.00              1700.00              1700.00  \n",
       "524              1371.60              1371.60              1371.60  \n",
       "1140             1700.00              1700.00              1700.00  \n",
       "318               934.00               934.00               934.00  \n",
       "308                  NaN                  NaN                  NaN  \n",
       "851                  NaN                  NaN                  NaN  \n",
       "405                  NaN                  NaN                  NaN  \n",
       "176                  NaN                  NaN                  NaN  \n",
       "430                  NaN                  NaN                  NaN  \n",
       "1000                 NaN                  NaN                  NaN  \n",
       "955              1200.00              1200.00              1200.00  \n",
       "41                 12.00                12.00                12.00  \n",
       "683                 1.00                 1.00                 1.00  \n",
       "187              1200.00              1350.00              1275.00  \n",
       "\n",
       "[15 rows x 43 columns]"
      ]
     },
     "execution_count": 143,
     "metadata": {},
     "output_type": "execute_result"
    }
   ],
   "source": [
    "variety_condition = coffee_ratings['variety'].isin(varieties_samp)\n",
    "coffee_ratings_cluster = coffee_ratings[variety_condition]\n",
    "coffee_ratings_cluster['variety'] = coffee_ratings_cluster['variety'].astype('category')\n",
    "coffee_ratings_cluster['variety'] = coffee_ratings_cluster['variety'].cat.remove_unused_categories()\n",
    "\n",
    "coffee_ratings_cluster.groupby(\"variety\")\\\n",
    ".sample(n=5, random_state=2021)"
   ]
  },
  {
   "cell_type": "markdown",
   "metadata": {},
   "source": [
    "Performing cluster sampling\n",
    "Now that you know when to use cluster sampling, it's time to put it into action. In this exercise, you'll explore the JobRole column of the attrition dataset. You can think of each job role as a subgroup of the whole population of employees.\n",
    "\n",
    "attrition_pop is available; pandas is loaded with its usual alias, and the random package is available. A seed of 19790801 has also been set with random.seed()."
   ]
  },
  {
   "cell_type": "code",
   "execution_count": null,
   "metadata": {},
   "outputs": [],
   "source": []
  },
  {
   "attachments": {},
   "cell_type": "markdown",
   "metadata": {},
   "source": [
    "## **Sampling Distributions (Module 03-053)**"
   ]
  },
  {
   "attachments": {},
   "cell_type": "markdown",
   "metadata": {},
   "source": [
    "#### **xxxx**\n",
    "\n",
    "1. xxx\n",
    "\n",
    "2. xxx\n",
    "\n",
    "3. xxx\n",
    "\n",
    "4. xxx"
   ]
  },
  {
   "cell_type": "code",
   "execution_count": null,
   "metadata": {},
   "outputs": [],
   "source": [
    "display(\n",
    "\n",
    ")\n",
    "\n",
    "display(\n",
    "\n",
    ")\n",
    "\n",
    "display(\n",
    "\n",
    ")"
   ]
  },
  {
   "attachments": {},
   "cell_type": "markdown",
   "metadata": {},
   "source": [
    "#### **xxxx**\n",
    "\n",
    "1. xxx\n",
    "\n",
    "2. xxx\n",
    "\n",
    "3. xxx\n",
    "\n",
    "4. xxx"
   ]
  },
  {
   "cell_type": "code",
   "execution_count": null,
   "metadata": {},
   "outputs": [],
   "source": [
    "display(\n",
    "\n",
    ")\n",
    "\n",
    "display(\n",
    "\n",
    ")\n",
    "\n",
    "display(\n",
    "\n",
    ")"
   ]
  },
  {
   "attachments": {},
   "cell_type": "markdown",
   "metadata": {},
   "source": [
    "## **Bootstrap Distributions (Module 04-053)**"
   ]
  },
  {
   "attachments": {},
   "cell_type": "markdown",
   "metadata": {},
   "source": [
    "#### **xxxx**\n",
    "\n",
    "1. xxx\n",
    "\n",
    "2. xxx\n",
    "\n",
    "3. xxx\n",
    "\n",
    "4. xxx"
   ]
  },
  {
   "cell_type": "code",
   "execution_count": null,
   "metadata": {},
   "outputs": [],
   "source": [
    "display(\n",
    "\n",
    ")\n",
    "\n",
    "display(\n",
    "\n",
    ")\n",
    "\n",
    "display(\n",
    "\n",
    ")"
   ]
  },
  {
   "attachments": {},
   "cell_type": "markdown",
   "metadata": {},
   "source": [
    "#### **xxxx**\n",
    "\n",
    "1. xxx\n",
    "\n",
    "2. xxx\n",
    "\n",
    "3. xxx\n",
    "\n",
    "4. xxx"
   ]
  },
  {
   "cell_type": "code",
   "execution_count": null,
   "metadata": {},
   "outputs": [],
   "source": [
    "display(\n",
    "\n",
    ")\n",
    "\n",
    "display(\n",
    "\n",
    ")\n",
    "\n",
    "display(\n",
    "\n",
    ")"
   ]
  },
  {
   "attachments": {},
   "cell_type": "markdown",
   "metadata": {},
   "source": [
    "## **XXX (Module 05-XXX)**"
   ]
  },
  {
   "attachments": {},
   "cell_type": "markdown",
   "metadata": {},
   "source": [
    "#### **xxxx**\n",
    "\n",
    "1. xxx\n",
    "\n",
    "2. xxx\n",
    "\n",
    "3. xxx\n",
    "\n",
    "4. xxx"
   ]
  },
  {
   "cell_type": "code",
   "execution_count": null,
   "metadata": {},
   "outputs": [],
   "source": [
    "display(\n",
    "\n",
    ")\n",
    "\n",
    "display(\n",
    "\n",
    ")\n",
    "\n",
    "display(\n",
    "\n",
    ")"
   ]
  },
  {
   "attachments": {},
   "cell_type": "markdown",
   "metadata": {},
   "source": [
    "#### **xxxx**\n",
    "\n",
    "1. xxx\n",
    "\n",
    "2. xxx\n",
    "\n",
    "3. xxx\n",
    "\n",
    "4. xxx"
   ]
  },
  {
   "cell_type": "code",
   "execution_count": null,
   "metadata": {},
   "outputs": [],
   "source": [
    "display(\n",
    "\n",
    ")\n",
    "\n",
    "display(\n",
    "\n",
    ")\n",
    "\n",
    "display(\n",
    "\n",
    ")"
   ]
  },
  {
   "cell_type": "code",
   "execution_count": 1,
   "metadata": {},
   "outputs": [
    {
     "name": "stdout",
     "output_type": "stream",
     "text": [
      "Perrenque!\n"
     ]
    }
   ],
   "source": [
    "print('Perrenque!')"
   ]
  }
 ],
 "metadata": {
  "kernelspec": {
   "display_name": "Python 3",
   "language": "python",
   "name": "python3"
  },
  "language_info": {
   "codemirror_mode": {
    "name": "ipython",
    "version": 3
   },
   "file_extension": ".py",
   "mimetype": "text/x-python",
   "name": "python",
   "nbconvert_exporter": "python",
   "pygments_lexer": "ipython3",
   "version": "3.10.0"
  },
  "orig_nbformat": 4,
  "vscode": {
   "interpreter": {
    "hash": "26de051ba29f2982a8de78e945f0abaf191376122a1563185a90213a26c5da77"
   }
  }
 },
 "nbformat": 4,
 "nbformat_minor": 2
}
