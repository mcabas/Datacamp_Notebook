{
 "cells": [
  {
   "attachments": {},
   "cell_type": "markdown",
   "metadata": {},
   "source": [
    "# **DataCamp.Course_053_Sampling in Python**\n",
    "\n",
    "### **Course Description**\n",
    "\n",
    "Sampling in Python is the cornerstone of inference statistics and hypothesis testing. It's a powerful skill used in survey analysis and experimental design to draw conclusions without surveying an entire population. In this Sampling in Python course, you’ll discover when to use sampling and how to perform common types of sampling—from simple random sampling to more complex methods like stratified and cluster sampling. Using real-world datasets, including coffee ratings, Spotify songs, and employee attrition, you’ll learn to estimate population statistics and quantify uncertainty in your estimates by generating sampling distributions and bootstrap distributions.\n"
   ]
  },
  {
   "cell_type": "code",
   "execution_count": 2,
   "metadata": {},
   "outputs": [
    {
     "name": "stdout",
     "output_type": "stream",
     "text": [
      "   total_cup_points  species                     owner country_of_origin  \\\n",
      "0             90.58  Arabica                 metad plc          Ethiopia   \n",
      "1             89.92  Arabica                 metad plc          Ethiopia   \n",
      "2             89.75  Arabica  grounds for health admin         Guatemala   \n",
      "3             89.00  Arabica       yidnekachew dabessa          Ethiopia   \n",
      "4             88.83  Arabica                 metad plc          Ethiopia   \n",
      "\n",
      "                                  farm_name lot_number       mill ico_number  \\\n",
      "0                                 metad plc       None  metad plc  2014/2015   \n",
      "1                                 metad plc       None  metad plc  2014/2015   \n",
      "2  san marcos barrancas \"san cristobal cuch       None       None       None   \n",
      "3     yidnekachew dabessa coffee plantation       None    wolensu       None   \n",
      "4                                 metad plc       None  metad plc  2014/2015   \n",
      "\n",
      "                                 company       altitude  ...  color  \\\n",
      "0      metad agricultural developmet plc      1950-2200  ...  Green   \n",
      "1      metad agricultural developmet plc      1950-2200  ...  Green   \n",
      "2                                   None  1600 - 1800 m  ...   None   \n",
      "3  yidnekachew debessa coffee plantation      1800-2200  ...  Green   \n",
      "4      metad agricultural developmet plc      1950-2200  ...  Green   \n",
      "\n",
      "  category_two_defects        expiration                  certification_body  \\\n",
      "0                  0.0   April 3rd, 2016  METAD Agricultural Development plc   \n",
      "1                  1.0   April 3rd, 2016  METAD Agricultural Development plc   \n",
      "2                  0.0    May 31st, 2011        Specialty Coffee Association   \n",
      "3                  2.0  March 25th, 2016  METAD Agricultural Development plc   \n",
      "4                  2.0   April 3rd, 2016  METAD Agricultural Development plc   \n",
      "\n",
      "                      certification_address  \\\n",
      "0  309fcf77415a3661ae83e027f7e5f05dad786e44   \n",
      "1  309fcf77415a3661ae83e027f7e5f05dad786e44   \n",
      "2  36d0d00a3724338ba7937c52a378d085f2172daa   \n",
      "3  309fcf77415a3661ae83e027f7e5f05dad786e44   \n",
      "4  309fcf77415a3661ae83e027f7e5f05dad786e44   \n",
      "\n",
      "                      certification_contact unit_of_measurement  \\\n",
      "0  19fef5a731de2db57d16da10287413f5f99bc2dd                   m   \n",
      "1  19fef5a731de2db57d16da10287413f5f99bc2dd                   m   \n",
      "2  0878a7d4b9d35ddbf0fe2ce69a2062cceb45a660                   m   \n",
      "3  19fef5a731de2db57d16da10287413f5f99bc2dd                   m   \n",
      "4  19fef5a731de2db57d16da10287413f5f99bc2dd                   m   \n",
      "\n",
      "  altitude_low_meters altitude_high_meters altitude_mean_meters  \n",
      "0              1950.0               2200.0               2075.0  \n",
      "1              1950.0               2200.0               2075.0  \n",
      "2              1600.0               1800.0               1700.0  \n",
      "3              1800.0               2200.0               2000.0  \n",
      "4              1950.0               2200.0               2075.0  \n",
      "\n",
      "[5 rows x 43 columns]\n"
     ]
    }
   ],
   "source": [
    "# read_feather function\n",
    "\n",
    "import os\n",
    "import pandas as pd\n",
    "folder_name = 'datasets'\n",
    "dir = r'C:\\Users\\mcaba\\OneDrive\\Escritorio\\Data Science\\Datacamp_Notebook\\Datacamp_Notebook\\{}'.format(folder_name)\n",
    "\n",
    "def read_feather_fun(folder_name,file_name, path):\n",
    "    path = dir\n",
    "    os.chdir(path)\n",
    "    df = pd.read_feather('{}.feather'.format(file_name))\n",
    "    return df\n",
    "\n",
    "coffee_ratings = read_feather_fun('datasets','coffee_ratings_full', dir)\n",
    "print(coffee_ratings.head(5))"
   ]
  },
  {
   "cell_type": "code",
   "execution_count": 3,
   "metadata": {},
   "outputs": [
    {
     "name": "stdout",
     "output_type": "stream",
     "text": [
      "   acousticness          artists  danceability  duration_ms  duration_minutes  \\\n",
      "0       0.97200  ['David Bauer']         0.567     313293.0          5.221550   \n",
      "1       0.32100   ['Etta James']         0.821     360240.0          6.004000   \n",
      "2       0.00659    ['Quasimoto']         0.706     202507.0          3.375117   \n",
      "3       0.00390  ['Millencolin']         0.368     173360.0          2.889333   \n",
      "4       0.12200   ['Steve Chou']         0.501     344200.0          5.736667   \n",
      "\n",
      "   energy  explicit                      id  instrumentalness   key  liveness  \\\n",
      "0   0.227       0.0  0w0D8H1ubRerCXHWYJkinO          0.601000  10.0     0.110   \n",
      "1   0.418       0.0  4JVeqfE2tpi7Pv63LJZtPh          0.000372   9.0     0.222   \n",
      "2   0.602       1.0  5pxtdhLAi0RTh1gNqhGMNA          0.000138  11.0     0.400   \n",
      "3   0.977       0.0  3jRsoe4Vkxa4BMYqGHX8L0          0.000000  11.0     0.350   \n",
      "4   0.511       0.0  4mronxcllhfyhBRqyZi8kU          0.000000   7.0     0.279   \n",
      "\n",
      "   loudness  mode                   name  popularity release_date  \\\n",
      "0   -13.441   1.0      Shout to the Lord        47.0         2000   \n",
      "1    -9.841   0.0               Miss You        51.0   2000-12-12   \n",
      "2    -8.306   0.0              Real Eyes        44.0   2000-06-13   \n",
      "3    -2.757   0.0  Penguins & Polarbears        52.0   2000-02-22   \n",
      "4    -9.836   0.0                     黃昏        53.0   2000-12-25   \n",
      "\n",
      "   speechiness    tempo  valence    year  \n",
      "0       0.0290  136.123   0.0396  2000.0  \n",
      "1       0.0407  117.382   0.8030  2000.0  \n",
      "2       0.3420   89.692   0.4790  2000.0  \n",
      "3       0.1270  165.889   0.5480  2000.0  \n",
      "4       0.0291   78.045   0.1130  2000.0  \n"
     ]
    }
   ],
   "source": [
    "spotify_population = read_feather_fun('datasets','spotify_2000_2020', dir)\n",
    "print(spotify_population.head(5))"
   ]
  },
  {
   "cell_type": "code",
   "execution_count": 4,
   "metadata": {},
   "outputs": [
    {
     "name": "stdout",
     "output_type": "stream",
     "text": [
      "   Age  Attrition     BusinessTravel  DailyRate            Department  \\\n",
      "0   21        0.0      Travel_Rarely        391  Research_Development   \n",
      "1   19        1.0      Travel_Rarely        528                 Sales   \n",
      "2   18        1.0      Travel_Rarely        230  Research_Development   \n",
      "3   18        0.0      Travel_Rarely        812                 Sales   \n",
      "4   18        1.0  Travel_Frequently       1306                 Sales   \n",
      "\n",
      "   DistanceFromHome      Education EducationField EnvironmentSatisfaction  \\\n",
      "0                15        College  Life_Sciences                    High   \n",
      "1                22  Below_College      Marketing               Very_High   \n",
      "2                 3       Bachelor  Life_Sciences                    High   \n",
      "3                10       Bachelor        Medical               Very_High   \n",
      "4                 5       Bachelor      Marketing                  Medium   \n",
      "\n",
      "   Gender  ...  PerformanceRating RelationshipSatisfaction  StockOptionLevel  \\\n",
      "0    Male  ...          Excellent                Very_High                 0   \n",
      "1    Male  ...          Excellent                Very_High                 0   \n",
      "2    Male  ...          Excellent                     High                 0   \n",
      "3  Female  ...          Excellent                      Low                 0   \n",
      "4    Male  ...          Excellent                Very_High                 0   \n",
      "\n",
      "  TotalWorkingYears TrainingTimesLastYear WorkLifeBalance  YearsAtCompany  \\\n",
      "0                 0                     6          Better               0   \n",
      "1                 0                     2            Good               0   \n",
      "2                 0                     2          Better               0   \n",
      "3                 0                     2          Better               0   \n",
      "4                 0                     3          Better               0   \n",
      "\n",
      "   YearsInCurrentRole  YearsSinceLastPromotion YearsWithCurrManager  \n",
      "0                   0                        0                    0  \n",
      "1                   0                        0                    0  \n",
      "2                   0                        0                    0  \n",
      "3                   0                        0                    0  \n",
      "4                   0                        0                    0  \n",
      "\n",
      "[5 rows x 31 columns]\n"
     ]
    }
   ],
   "source": [
    "attrition_pop = read_feather_fun('datasets','attrition', dir)\n",
    "print(attrition_pop.head(5))"
   ]
  },
  {
   "cell_type": "code",
   "execution_count": 153,
   "metadata": {},
   "outputs": [
    {
     "name": "stdout",
     "output_type": "stream",
     "text": [
      "   total_cup_points  species                     owner country_of_origin  \\\n",
      "0             90.58  Arabica                 metad plc          Ethiopia   \n",
      "1             89.92  Arabica                 metad plc          Ethiopia   \n",
      "2             89.75  Arabica  grounds for health admin         Guatemala   \n",
      "3             89.00  Arabica       yidnekachew dabessa          Ethiopia   \n",
      "4             88.83  Arabica                 metad plc          Ethiopia   \n",
      "\n",
      "                                  farm_name lot_number       mill ico_number  \\\n",
      "0                                 metad plc       None  metad plc  2014/2015   \n",
      "1                                 metad plc       None  metad plc  2014/2015   \n",
      "2  san marcos barrancas \"san cristobal cuch       None       None       None   \n",
      "3     yidnekachew dabessa coffee plantation       None    wolensu       None   \n",
      "4                                 metad plc       None  metad plc  2014/2015   \n",
      "\n",
      "                                 company       altitude  ...  color  \\\n",
      "0      metad agricultural developmet plc      1950-2200  ...  Green   \n",
      "1      metad agricultural developmet plc      1950-2200  ...  Green   \n",
      "2                                   None  1600 - 1800 m  ...   None   \n",
      "3  yidnekachew debessa coffee plantation      1800-2200  ...  Green   \n",
      "4      metad agricultural developmet plc      1950-2200  ...  Green   \n",
      "\n",
      "  category_two_defects        expiration                  certification_body  \\\n",
      "0                  0.0   April 3rd, 2016  METAD Agricultural Development plc   \n",
      "1                  1.0   April 3rd, 2016  METAD Agricultural Development plc   \n",
      "2                  0.0    May 31st, 2011        Specialty Coffee Association   \n",
      "3                  2.0  March 25th, 2016  METAD Agricultural Development plc   \n",
      "4                  2.0   April 3rd, 2016  METAD Agricultural Development plc   \n",
      "\n",
      "                      certification_address  \\\n",
      "0  309fcf77415a3661ae83e027f7e5f05dad786e44   \n",
      "1  309fcf77415a3661ae83e027f7e5f05dad786e44   \n",
      "2  36d0d00a3724338ba7937c52a378d085f2172daa   \n",
      "3  309fcf77415a3661ae83e027f7e5f05dad786e44   \n",
      "4  309fcf77415a3661ae83e027f7e5f05dad786e44   \n",
      "\n",
      "                      certification_contact unit_of_measurement  \\\n",
      "0  19fef5a731de2db57d16da10287413f5f99bc2dd                   m   \n",
      "1  19fef5a731de2db57d16da10287413f5f99bc2dd                   m   \n",
      "2  0878a7d4b9d35ddbf0fe2ce69a2062cceb45a660                   m   \n",
      "3  19fef5a731de2db57d16da10287413f5f99bc2dd                   m   \n",
      "4  19fef5a731de2db57d16da10287413f5f99bc2dd                   m   \n",
      "\n",
      "  altitude_low_meters altitude_high_meters altitude_mean_meters  \n",
      "0              1950.0               2200.0               2075.0  \n",
      "1              1950.0               2200.0               2075.0  \n",
      "2              1600.0               1800.0               1700.0  \n",
      "3              1800.0               2200.0               2000.0  \n",
      "4              1950.0               2200.0               2075.0  \n",
      "\n",
      "[5 rows x 43 columns]\n"
     ]
    }
   ],
   "source": [
    "spotify_population = read_feather_fun('datasets','coffee_ratings_full', dir)\n",
    "print(spotify_population.head(5))"
   ]
  },
  {
   "attachments": {},
   "cell_type": "markdown",
   "metadata": {},
   "source": [
    "## **Introduction to Sampling (Module 01-053)**"
   ]
  },
  {
   "attachments": {},
   "cell_type": "markdown",
   "metadata": {},
   "source": [
    "#### **Sampling and point estimates**\n",
    "\n",
    "1. Sampling households\n",
    "Cheaper to ask a small number of households\n",
    "and use statistics to estimate the population\n",
    "Working with a subset of the whole population\n",
    "is called sampling\n",
    "2. Population vs. sample\n",
    "The population is the complete dataset\n",
    "Doesn't have to refer to people\n",
    "Typically, don't know what the whole population is\n",
    "The sample is the subset of data you calculate on\n",
    "3. Coffee rating dataset\n",
    "Each row represents 1 coffee\n",
    "1338 rows\n",
    "We'll treat this as the population\n",
    "4. Points vs. flavor: population\n",
    "pts_vs_flavor_pop = coffee_ratings[[\"total_cup_points\", \"flavor\"]]\n",
    "5. Points vs. flavor: 10 row sample\n",
    "pts_vs_flavor_samp = pts_vs_flavor_pop.sample(n=10)\n",
    "6. Python sampling for Series\n",
    "cup_points_samp = coffee_ratings['total_cup_points'].sample(n=10)\n",
    "7. Population parameters & point estimates\n",
    "import numpy as np\n",
    "np.mean(pts_vs_flavor_pop['total_cup_points'])\n",
    "np.mean(cup_points_samp)\n",
    "8. Point estimates with pandas\n",
    "pts_vs_flavor_pop['flavor'].mean()\n",
    "pts_vs_flavor_samp['flavor'].mean()"
   ]
  },
  {
   "cell_type": "code",
   "execution_count": 5,
   "metadata": {},
   "outputs": [
    {
     "name": "stdout",
     "output_type": "stream",
     "text": [
      "      total_cup_points  flavor\n",
      "0                90.58    8.83\n",
      "1                89.92    8.67\n",
      "2                89.75    8.50\n",
      "3                89.00    8.58\n",
      "4                88.83    8.50\n",
      "...                ...     ...\n",
      "1333             78.75    7.58\n",
      "1334             78.08    7.67\n",
      "1335             77.17    7.33\n",
      "1336             75.08    6.83\n",
      "1337             73.75    6.67\n",
      "\n",
      "[1338 rows x 2 columns]\n",
      "      total_cup_points  flavor\n",
      "992              81.08    7.75\n",
      "90               85.08    8.00\n",
      "1049             80.67    7.08\n",
      "230              84.17    7.75\n",
      "328              83.67    7.75\n",
      "561              82.83    7.58\n",
      "1235             78.00    7.08\n",
      "720              82.33    7.50\n",
      "726              82.33    7.50\n",
      "1046             80.75    7.33\n",
      "903     81.58\n",
      "738     82.25\n",
      "1158    79.67\n",
      "26      86.92\n",
      "1276    75.50\n",
      "85      85.25\n",
      "1110    80.17\n",
      "1003    81.00\n",
      "922     81.50\n",
      "80      85.33\n",
      "Name: total_cup_points, dtype: float64\n"
     ]
    }
   ],
   "source": [
    "pts_vs_flavor_pop = coffee_ratings[[\"total_cup_points\", \"flavor\"]]\n",
    "print(pts_vs_flavor_pop)\n",
    "pts_vs_flavor_samp = pts_vs_flavor_pop.sample(n=10)\n",
    "print(pts_vs_flavor_samp)\n",
    "cup_points_samp = coffee_ratings['total_cup_points'].sample(n=10)\n",
    "print(cup_points_samp)\n"
   ]
  },
  {
   "cell_type": "code",
   "execution_count": 6,
   "metadata": {},
   "outputs": [
    {
     "data": {
      "text/plain": [
       "82.15120328849028"
      ]
     },
     "metadata": {},
     "output_type": "display_data"
    },
    {
     "data": {
      "text/plain": [
       "81.917"
      ]
     },
     "metadata": {},
     "output_type": "display_data"
    },
    {
     "data": {
      "text/plain": [
       "7.526046337817639"
      ]
     },
     "metadata": {},
     "output_type": "display_data"
    },
    {
     "data": {
      "text/plain": [
       "7.531999999999999"
      ]
     },
     "metadata": {},
     "output_type": "display_data"
    }
   ],
   "source": [
    "import numpy as np\n",
    "display(\n",
    "    np.mean(pts_vs_flavor_pop['total_cup_points'])\n",
    ")\n",
    "display(\n",
    "    np.mean(cup_points_samp)\n",
    ")\n",
    "display(\n",
    "    pts_vs_flavor_pop['flavor'].mean()\n",
    ")\n",
    "display(\n",
    "    pts_vs_flavor_samp['flavor'].mean()\n",
    ")"
   ]
  },
  {
   "cell_type": "markdown",
   "metadata": {},
   "source": [
    "Simple sampling with pandas\n",
    "Throughout this chapter, you'll be exploring song data from Spotify. Each row of this population dataset represents a song, and there are over 40,000 rows. Columns include the song name, the artists who performed it, the release year, and attributes of the song like its duration, tempo, and danceability. You'll start by looking at the durations.\n",
    "\n",
    "Your first task is to sample the Spotify dataset and compare the mean duration of the population with the sample.\n",
    "\n",
    "spotify_population is available and pandas is loaded as pd."
   ]
  },
  {
   "cell_type": "code",
   "execution_count": 7,
   "metadata": {},
   "outputs": [
    {
     "name": "stdout",
     "output_type": "stream",
     "text": [
      "       acousticness                                           artists  \\\n",
      "12512       0.22100       ['A Boogie Wit da Hoodie', 'Summer Walker']   \n",
      "33394       0.96800                                   ['Fred Mollin']   \n",
      "25450       0.05150                                 ['Darryl Worley']   \n",
      "119         0.83000                                 ['Nicole Kidman']   \n",
      "701         0.00754  ['Ali Tabatabaee', 'Matty Lewis from Zebrahead']   \n",
      "...             ...                                               ...   \n",
      "28883       0.04220                             ['Sabrina Carpenter']   \n",
      "13542       0.45200                                   ['Danny Jacob']   \n",
      "24834       0.46500                                         ['Bazzi']   \n",
      "26274       0.92300                              ['Sleeping At Last']   \n",
      "18868       0.12900                      ['Mariah Carey', 'Mystikal']   \n",
      "\n",
      "       danceability  duration_ms  duration_minutes  energy  explicit  \\\n",
      "12512         0.579     183703.0          3.061717   0.612       1.0   \n",
      "33394         0.238     137853.0          2.297550   0.142       0.0   \n",
      "25450         0.478     242293.0          4.038217   0.625       0.0   \n",
      "119           0.120     198560.0          3.309333   0.074       0.0   \n",
      "701           0.359     279867.0          4.664450   0.978       0.0   \n",
      "...             ...          ...               ...     ...       ...   \n",
      "28883         0.460     179227.0          2.987117   0.809       0.0   \n",
      "13542         0.633      62227.0          1.037117   0.708       0.0   \n",
      "24834         0.745     167553.0          2.792550   0.561       0.0   \n",
      "26274         0.307     255893.0          4.264883   0.371       0.0   \n",
      "18868         0.827     217640.0          3.627333   0.812       0.0   \n",
      "\n",
      "                           id  instrumentalness  key  liveness  loudness  \\\n",
      "12512  1U5pPF8f6APVCoc6t2KfIB          0.000000  9.0    0.1080    -4.685   \n",
      "33394  2EcTJUGL3Tj3MsAon57vpQ          0.923000  5.0    0.0888   -18.397   \n",
      "25450  5JWuz7zukN8z9JLNm29U5K          0.000000  7.0    0.1160    -5.975   \n",
      "119    4EguJW77TxbT5ze7v9DRG3          0.000420  1.0    0.2440   -13.732   \n",
      "701    4taauPrbJNPCJUK9RBu6h1          0.000000  6.0    0.3670    -3.895   \n",
      "...                       ...               ...  ...       ...       ...   \n",
      "28883  3WVhkjB7Y4xFruqoCAajBb          0.000050  6.0    0.1380    -5.415   \n",
      "13542  2fnchtKvtMy4QDWjWkKWPG          0.000000  9.0    0.1400    -6.111   \n",
      "24834  5YLHLxoZsodDWjqSgjhBf3          0.000001  9.0    0.0338    -5.513   \n",
      "26274  2kfGoV9a5dbSKCNmUWH2ZF          0.025300  3.0    0.1100    -8.498   \n",
      "18868  7e5PmxlrXcTODQoW1W6B6D          0.000008  5.0    0.5500    -3.336   \n",
      "\n",
      "       mode                                               name  popularity  \\\n",
      "12512   1.0      Calm Down (Bittersweet) [feat. Summer Walker]        64.0   \n",
      "33394   1.0                          When You Wish Upon a Star        45.0   \n",
      "25450   1.0                                Have You Forgotten?        52.0   \n",
      "119     0.0  One Day I'll Fly Away - From \"Moulin Rouge\" So...        42.0   \n",
      "701     1.0            His World -Theme of Sonic The Hedgehog-        50.0   \n",
      "...     ...                                                ...         ...   \n",
      "28883   1.0                                             Sue Me        74.0   \n",
      "13542   1.0                                         My Nemesis        42.0   \n",
      "24834   0.0                                             Myself        79.0   \n",
      "26274   1.0                                       Turning Page        68.0   \n",
      "18868   0.0                     Don't Stop (Funkin' 4 Jamaica)        42.0   \n",
      "\n",
      "      release_date  speechiness    tempo  valence    year  \n",
      "12512   2020-02-14       0.1110  133.366   0.4250  2020.0  \n",
      "33394   2000-08-08       0.0352   81.776   0.0963  2000.0  \n",
      "25450   2003-01-01       0.0341  160.196   0.3430  2003.0  \n",
      "119     2001-01-01       0.0382   86.373   0.0762  2001.0  \n",
      "701     2007-01-10       0.0905  178.082   0.5550  2007.0  \n",
      "...            ...          ...      ...      ...     ...  \n",
      "28883   2018-11-09       0.3260  157.184   0.6090  2018.0  \n",
      "13542   2009-01-01       0.0316  141.924   0.9680  2009.0  \n",
      "24834   2018-04-12       0.0720  195.918   0.9020  2018.0  \n",
      "26274   2012-06-18       0.0288  115.241   0.1890  2012.0  \n",
      "18868   2001-09-11       0.2250  110.015   0.7030  2001.0  \n",
      "\n",
      "[1000 rows x 20 columns]\n",
      "3.8521519140900073\n",
      "3.8118817833333334\n"
     ]
    }
   ],
   "source": [
    "# Sample 1000 rows from spotify_population\n",
    "spotify_sample = spotify_population.sample(n=1000)\n",
    "\n",
    "# Print the sample\n",
    "print(spotify_sample)\n",
    "\n",
    "# Calculate the mean duration in mins from spotify_population\n",
    "mean_dur_pop = spotify_population['duration_minutes'].mean()\n",
    "\n",
    "# Calculate the mean duration in mins from spotify_sample\n",
    "mean_dur_samp = spotify_sample['duration_minutes'].mean()\n",
    "\n",
    "# Print the means\n",
    "print(mean_dur_pop)\n",
    "print(mean_dur_samp)\n"
   ]
  },
  {
   "cell_type": "markdown",
   "metadata": {},
   "source": [
    "Simple sampling and calculating with NumPy\n",
    "You can also use numpy to calculate parameters or statistics from a list or pandas Series.\n",
    "\n",
    "You'll be turning it up to eleven and looking at the loudness property of each song.\n",
    "\n",
    "spotify_population is available and numpy is loaded as np."
   ]
  },
  {
   "cell_type": "code",
   "execution_count": 8,
   "metadata": {},
   "outputs": [
    {
     "name": "stdout",
     "output_type": "stream",
     "text": [
      "-7.366856851353947\n",
      "-7.339130000000001\n"
     ]
    }
   ],
   "source": [
    "# Create a pandas Series from the loudness column of spotify_population\n",
    "loudness_pop = spotify_population['loudness']\n",
    "\n",
    "# Sample 100 values of loudness_pop\n",
    "loudness_samp = loudness_pop.sample(n=100)\n",
    "\n",
    "# Calculate the mean of loudness_pop\n",
    "mean_loudness_pop = np.mean(loudness_pop)\n",
    "\n",
    "# Calculate the mean of loudness_samp\n",
    "mean_loudness_samp = np.mean(loudness_samp)\n",
    "\n",
    "print(mean_loudness_pop)\n",
    "print(mean_loudness_samp)"
   ]
  },
  {
   "attachments": {},
   "cell_type": "markdown",
   "metadata": {},
   "source": [
    "#### **Convenience sampling**\n",
    "\n",
    "1. The Literary Digest election prediction\n",
    "Prediction: Landon gets 57%; Roosevelt gets 43%\n",
    "Actual results: Landon got 38%; Roosevelt got 62%\n",
    "Sample not representative of population, causing sample bias\n",
    "Collecting data by the easiest method is called convenience sampling\n",
    "2. Convenience sampling coffee ratings\n",
    "coffee_ratings[\"total_cup_points\"].mean()\n",
    "coffee_ratings_first10 = coffee_ratings.head(10)\n",
    "coffee_ratings_first10[\"total_cup_points\"].mean()\n",
    "3. Visualizing selection bias\n",
    "import matplotlib.pyplot as plt\n",
    "import numpy as np\n",
    "coffee_ratings[\"total_cup_points\"].hist(bins=np.arange(59, 93, 2))\n",
    "plt.show()\n",
    "\n",
    "coffee_ratings_first10[\"total_cup_points\"].hist(bins=np.arange(59, 93, 2))\n",
    "plt.show()\n",
    "4. Visualizing selection bias for a random sample\n",
    "coffee_sample = coffee_ratings.sample(n=10)\n",
    "coffee_sample[\"total_cup_points\"].hist(bins=np.arange(59, 93, 2))\n",
    "plt.show()"
   ]
  },
  {
   "cell_type": "code",
   "execution_count": 9,
   "metadata": {},
   "outputs": [
    {
     "data": {
      "text/plain": [
       "82.15120328849028"
      ]
     },
     "metadata": {},
     "output_type": "display_data"
    },
    {
     "data": {
      "text/plain": [
       "89.1"
      ]
     },
     "execution_count": 9,
     "metadata": {},
     "output_type": "execute_result"
    }
   ],
   "source": [
    "display(\n",
    "coffee_ratings[\"total_cup_points\"].mean()\n",
    ")\n",
    "\n",
    "display(\n",
    "coffee_ratings_first10 = coffee_ratings.head(10)\n",
    ")\n",
    "\n",
    "\n",
    "coffee_ratings_first10 = coffee_ratings.head(10)\n",
    "coffee_ratings_first10[\"total_cup_points\"].mean()\n"
   ]
  },
  {
   "cell_type": "code",
   "execution_count": 10,
   "metadata": {},
   "outputs": [
    {
     "data": {
      "image/png": "[encoded data removed]",
      "text/plain": [
       "<Figure size 640x480 with 1 Axes>"
      ]
     },
     "metadata": {},
     "output_type": "display_data"
    },
    {
     "data": {
      "image/png": "[encoded data removed]",
      "text/plain": [
       "<Figure size 640x480 with 1 Axes>"
      ]
     },
     "metadata": {},
     "output_type": "display_data"
    },
    {
     "data": {
      "image/png": "[encoded data removed]",
      "text/plain": [
       "<Figure size 640x480 with 1 Axes>"
      ]
     },
     "metadata": {},
     "output_type": "display_data"
    }
   ],
   "source": [
    "import matplotlib.pyplot as plt\n",
    "import numpy as np\n",
    "coffee_ratings[\"total_cup_points\"].hist(bins=np.arange(59, 93, 2))\n",
    "plt.show()\n",
    "\n",
    "coffee_ratings_first10[\"total_cup_points\"].hist(bins=np.arange(59, 93, 2))\n",
    "plt.show()\n",
    "\n",
    "coffee_sample = coffee_ratings.sample(n=10)\n",
    "coffee_sample[\"total_cup_points\"].hist(bins=np.arange(59, 93, 2))\n",
    "plt.show()"
   ]
  },
  {
   "cell_type": "markdown",
   "metadata": {},
   "source": [
    "Are findings from the sample generalizable?\n",
    "You just saw how convenience sampling—collecting data using the easiest method—can result in samples that aren't representative of the population. Equivalently, this means findings from the sample are not generalizable to the population. Visualizing the distributions of the population and the sample can help determine whether or not the sample is representative of the population.\n",
    "\n",
    "The Spotify dataset contains an acousticness column, which is a confidence measure from zero to one of whether the track was made with instruments that aren't plugged in. You'll compare the acousticness distribution of the total population of songs with a sample of those songs.\n",
    "\n",
    "spotify_population and spotify_mysterious_sample are available; pandas as pd, matplotlib.pyplot as plt, and numpy as np are loaded."
   ]
  },
  {
   "cell_type": "code",
   "execution_count": 11,
   "metadata": {},
   "outputs": [
    {
     "data": {
      "image/png": "[encoded data removed]",
      "text/plain": [
       "<Figure size 640x480 with 1 Axes>"
      ]
     },
     "metadata": {},
     "output_type": "display_data"
    }
   ],
   "source": [
    "# Visualize the distribution of acousticness with a histogram\n",
    "spotify_population[\"acousticness\"].hist(bins=np.arange(0, 1.01, 0.01))\n",
    "plt.show()"
   ]
  },
  {
   "cell_type": "markdown",
   "metadata": {},
   "source": [
    "Are these findings generalizable?\n",
    "Let's look at another sample to see if it is representative of the population. This time, you'll look at the duration_minutes column of the Spotify dataset, which contains the length of the song in minutes.\n",
    "\n",
    "spotify_population and spotify_mysterious_sample2 are available; pandas, matplotlib.pyplot, and numpy are loaded using their standard aliases."
   ]
  },
  {
   "cell_type": "code",
   "execution_count": 12,
   "metadata": {},
   "outputs": [
    {
     "data": {
      "image/png": "[encoded data removed]",
      "text/plain": [
       "<Figure size 640x480 with 1 Axes>"
      ]
     },
     "metadata": {},
     "output_type": "display_data"
    },
    {
     "data": {
      "image/png": "[encoded data removed]",
      "text/plain": [
       "<Figure size 640x480 with 1 Axes>"
      ]
     },
     "metadata": {},
     "output_type": "display_data"
    }
   ],
   "source": [
    "# Visualize the distribution of duration_minutes as a histogram\n",
    "spotify_population['duration_minutes'].hist(bins=np.arange(0, 15.5, 0.5))\n",
    "plt.show()\n",
    "\n",
    "spotify_population_sample = spotify_population.sample(n=1000)\n",
    "spotify_population_sample['duration_minutes'].hist(bins=np.arange(0, 15.5, 0.5))\n",
    "plt.show()"
   ]
  },
  {
   "cell_type": "markdown",
   "metadata": {},
   "source": [
    "#### **Pseudo-random number generation**\n",
    "\n",
    "1. What does random mean?\n",
    "{adjective} made, done, happening, or chosen without method or conscious decision.\n",
    "2. True random numbers\n",
    "Generated from physical processes, like flipping coins\n",
    "Hotbits uses radioactive decay\n",
    "RANDOM.ORG uses atmospheric noise\n",
    "True randomness is expensive\n",
    "3. Pseudo-random number generation\n",
    "Pseudo-random number generation is cheap and fast\n",
    "Next \"random\" number calculated from previous \"random\" number\n",
    "The first \"random\" number calculated from a seed\n",
    "The same seed value yields the same random numbers\n",
    "4. Pseudo-random number generation example\n",
    "seed = 1\n",
    "calc_next_random(seed)\n",
    "calc_next_random(3)\n",
    "calc_next_random(2)\n",
    "\n",
    "5. Random number generating functions\n",
    "Prepend with numpy.random , such as numpy.random.beta()\n",
    "\n",
    "function            distribution    \n",
    ".beta               Beta            \n",
    ".binomial           Binomial \n",
    ".chisquare          Chi-squared \n",
    ".exponential        Exponential \n",
    ".f                  F \n",
    ".gamma              Gamma \n",
    ".geometric          Geometric \n",
    ".hypergeometric     Hypergeometric\n",
    ".lognormal          Lognormal\n",
    ".negative_binomial  Negative binomial\n",
    ".normal             Normal\n",
    ".standard_t         t\n",
    ".uniform            Uniform\n",
    ".poisson            Poisson\n",
    "\n",
    "6. Visualizing random numbers\n",
    "randoms = np.random.beta(a=2, b=2, size=5000)\n",
    "randoms\n",
    "plt.hist(randoms, bins=np.arange(0, 1, 0.05))\n",
    "plt.show()\n",
    "\n",
    "7. Random numbers seeds\n",
    "np.random.seed(20000229)\n",
    "np.random.normal(loc=2, scale=1.5, size=2)\n",
    "np.random.normal(loc=2, scale=1.5, size=2)"
   ]
  },
  {
   "cell_type": "code",
   "execution_count": 13,
   "metadata": {},
   "outputs": [
    {
     "data": {
      "text/plain": [
       "array([0.60666895, 0.30597116, 0.70976211, ..., 0.43173308, 0.25218278,\n",
       "       0.39416965])"
      ]
     },
     "execution_count": 13,
     "metadata": {},
     "output_type": "execute_result"
    }
   ],
   "source": [
    "randoms = np.random.beta(a=2, b=2, size=5000)\n",
    "randoms"
   ]
  },
  {
   "cell_type": "code",
   "execution_count": 14,
   "metadata": {},
   "outputs": [
    {
     "data": {
      "image/png": "[encoded data removed]",
      "text/plain": [
       "<Figure size 640x480 with 1 Axes>"
      ]
     },
     "metadata": {},
     "output_type": "display_data"
    }
   ],
   "source": [
    "plt.hist(randoms, bins=np.arange(0, 1, 0.05))\n",
    "plt.show()"
   ]
  },
  {
   "cell_type": "code",
   "execution_count": 15,
   "metadata": {},
   "outputs": [
    {
     "data": {
      "text/plain": [
       "array([-0.59030264,  1.87821258])"
      ]
     },
     "metadata": {},
     "output_type": "display_data"
    },
    {
     "data": {
      "text/plain": [
       "array([2.52619561, 4.9684949 ])"
      ]
     },
     "metadata": {},
     "output_type": "display_data"
    }
   ],
   "source": [
    "np.random.seed(20000229)\n",
    "display(np.random.normal(loc=2, scale=1.5, size=2))\n",
    "display(np.random.normal(loc=2, scale=1.5, size=2))"
   ]
  },
  {
   "cell_type": "code",
   "execution_count": 16,
   "metadata": {},
   "outputs": [
    {
     "data": {
      "text/plain": [
       "array([1.09364337, 4.55285159])"
      ]
     },
     "metadata": {},
     "output_type": "display_data"
    },
    {
     "data": {
      "text/plain": [
       "array([2.67038916, 2.36677492])"
      ]
     },
     "metadata": {},
     "output_type": "display_data"
    }
   ],
   "source": [
    "np.random.seed(20041004)\n",
    "display(np.random.normal(loc=2, scale=1.5, size=2))\n",
    "display(np.random.normal(loc=2, scale=1.5, size=2))"
   ]
  },
  {
   "cell_type": "markdown",
   "metadata": {},
   "source": [
    "Generating random numbers\n",
    "You've used .sample() to generate pseudo-random numbers from a set of values in a DataFrame. A related task is to generate random numbers that follow a statistical distribution, like the uniform distribution or the normal distribution.\n",
    "\n",
    "Each random number generation function has distribution-specific arguments and an argument for specifying the number of random numbers to generate.\n",
    "\n",
    "matplotlib.pyplot is loaded as plt, and numpy is loaded as np."
   ]
  },
  {
   "cell_type": "code",
   "execution_count": 17,
   "metadata": {},
   "outputs": [
    {
     "name": "stdout",
     "output_type": "stream",
     "text": [
      "[1.31207896 2.65406494 0.16554078 ... 0.32216778 1.19004017 1.5796729 ]\n"
     ]
    }
   ],
   "source": [
    "# Generate random numbers from a Uniform(-3, 3)\n",
    "uniforms = np.random.uniform (low=-3, high=3, size=5000)\n",
    "\n",
    "# Print uniforms\n",
    "print(uniforms)"
   ]
  },
  {
   "cell_type": "code",
   "execution_count": 18,
   "metadata": {},
   "outputs": [
    {
     "name": "stdout",
     "output_type": "stream",
     "text": [
      "[8.77033628 6.84321057 7.47245163 ... 1.48283423 4.66959453 1.66179071]\n"
     ]
    }
   ],
   "source": [
    "# Generate random numbers from a Uniform(-3, 3)\n",
    "uniforms = np.random.uniform(low=-3, high=3, size=5000)\n",
    "\n",
    "# Generate random numbers from a Normal(5, 2)\n",
    "normals = np.random.normal(loc=5, scale=2, size=5000)\n",
    "\n",
    "# Print normals\n",
    "print(normals)"
   ]
  },
  {
   "cell_type": "code",
   "execution_count": 19,
   "metadata": {},
   "outputs": [
    {
     "data": {
      "image/png": "[encoded data removed]",
      "text/plain": [
       "<Figure size 640x480 with 1 Axes>"
      ]
     },
     "metadata": {},
     "output_type": "display_data"
    }
   ],
   "source": [
    "# Generate random numbers from a Uniform(-3, 3)\n",
    "uniforms = np.random.uniform(low=-3, high=3, size=5000)\n",
    "\n",
    "# Plot a histogram of uniform values, binwidth 0.25\n",
    "plt.hist(uniforms, bins=np.arange(-3, 3.25, 0.25))\n",
    "plt.show()"
   ]
  },
  {
   "cell_type": "code",
   "execution_count": 20,
   "metadata": {},
   "outputs": [
    {
     "data": {
      "image/png": "[encoded data removed]",
      "text/plain": [
       "<Figure size 640x480 with 1 Axes>"
      ]
     },
     "metadata": {},
     "output_type": "display_data"
    }
   ],
   "source": [
    "# Generate random numbers from a Normal(5, 2)\n",
    "normals = np.random.normal(loc=5, scale=2, size=5000)\n",
    "\n",
    "# Plot a histogram of normal values, binwidth 0.5\n",
    "plt.hist(normals, bins=np.arange(-2, 13.5, 0.5))\n",
    "plt.show()"
   ]
  },
  {
   "cell_type": "markdown",
   "metadata": {},
   "source": [
    "Understanding random seeds\n",
    "While random numbers are important for many analyses, they create a problem: the results you get can vary slightly. This can cause awkward conversations with your boss when your script for calculating the sales forecast gives different answers each time.\n",
    "\n",
    "Setting the seed for numpy's random number generator helps avoid such problems by making the random number generation reproducible."
   ]
  },
  {
   "cell_type": "code",
   "execution_count": 21,
   "metadata": {},
   "outputs": [
    {
     "name": "stdout",
     "output_type": "stream",
     "text": [
      "[-1.0856306   0.99734545  0.2829785  -1.50629471 -0.57860025]\n"
     ]
    },
    {
     "data": {
      "text/plain": [
       "None"
      ]
     },
     "metadata": {},
     "output_type": "display_data"
    },
    {
     "name": "stdout",
     "output_type": "stream",
     "text": [
      "[ 1.65143654 -2.42667924 -0.42891263  1.26593626 -0.8667404 ]\n"
     ]
    },
    {
     "data": {
      "text/plain": [
       "None"
      ]
     },
     "metadata": {},
     "output_type": "display_data"
    }
   ],
   "source": [
    "import numpy as np\n",
    "np.random.seed(123)\n",
    "x = np.random.normal(size=5)\n",
    "y = np.random.normal(size=5)\n",
    "display(print(x))\n",
    "display(print(y))"
   ]
  },
  {
   "cell_type": "code",
   "execution_count": 22,
   "metadata": {},
   "outputs": [
    {
     "name": "stdout",
     "output_type": "stream",
     "text": [
      "[-1.0856306   0.99734545  0.2829785  -1.50629471 -0.57860025]\n"
     ]
    },
    {
     "data": {
      "text/plain": [
       "None"
      ]
     },
     "metadata": {},
     "output_type": "display_data"
    },
    {
     "name": "stdout",
     "output_type": "stream",
     "text": [
      "[-1.0856306   0.99734545  0.2829785  -1.50629471 -0.57860025]\n"
     ]
    },
    {
     "data": {
      "text/plain": [
       "None"
      ]
     },
     "metadata": {},
     "output_type": "display_data"
    }
   ],
   "source": [
    "import numpy as np\n",
    "np.random.seed(123)\n",
    "x = np.random.normal(size=5)\n",
    "np.random.seed(123)\n",
    "y = np.random.normal(size=5)\n",
    "display(print(x))\n",
    "display(print(y))"
   ]
  },
  {
   "cell_type": "code",
   "execution_count": 23,
   "metadata": {},
   "outputs": [
    {
     "name": "stdout",
     "output_type": "stream",
     "text": [
      "[-1.0856306   0.99734545  0.2829785  -1.50629471 -0.57860025]\n"
     ]
    },
    {
     "data": {
      "text/plain": [
       "None"
      ]
     },
     "metadata": {},
     "output_type": "display_data"
    },
    {
     "name": "stdout",
     "output_type": "stream",
     "text": [
      "[-0.6681285  -0.49820952  0.61857582  0.56869225  1.35050948]\n"
     ]
    },
    {
     "data": {
      "text/plain": [
       "None"
      ]
     },
     "metadata": {},
     "output_type": "display_data"
    }
   ],
   "source": [
    "import numpy as np\n",
    "np.random.seed(123)\n",
    "x = np.random.normal(size=5)\n",
    "np.random.seed(456)\n",
    "y = np.random.normal(size=5)\n",
    "display(print(x))\n",
    "display(print(y))"
   ]
  },
  {
   "attachments": {},
   "cell_type": "markdown",
   "metadata": {},
   "source": [
    "## **Sampling Methods (Module 02-053)**"
   ]
  },
  {
   "attachments": {},
   "cell_type": "markdown",
   "metadata": {},
   "source": [
    "#### **Simple random and systematic sampling**\n",
    "\n",
    "1. Simple random sampling with pandas\n",
    "coffee_ratings.sample(n=5, random_state=19000113)\n",
    "\n",
    "2. Systematic sampling - defining the interval\n",
    "sample_size = 5\n",
    "pop_size = len(coffee_ratings)\n",
    "print(pop_size)\n",
    "interval = pop_size // sample_size\n",
    "print(interval)\n",
    "\n",
    "3. Systematic sampling - selecting the rows //The trouble with systematic sampling\n",
    "\n",
    "coffee_ratings.iloc[::interval]\n",
    "\n",
    "coffee_ratings_with_id = coffee_ratings.reset_index()\n",
    "coffee_ratings_with_id.plot(x=\"index\", y=\"aftertaste\", kind=\"scatter\")\n",
    "plt.show()\n",
    "\n",
    "4. Making systematic sampling safe\n",
    "\n",
    "shuffled = coffee_ratings.sample(frac=1)\n",
    "shuffled = shuffled.reset_index(drop=True).reset_index()\n",
    "shuffled.plot(x=\"index\", y=\"aftertaste\", kind=\"scatter\")\n",
    "plt.show()"
   ]
  },
  {
   "cell_type": "code",
   "execution_count": 24,
   "metadata": {},
   "outputs": [
    {
     "data": {
      "text/html": [
       "<div>\n",
       "<style scoped>\n",
       "    .dataframe tbody tr th:only-of-type {\n",
       "        vertical-align: middle;\n",
       "    }\n",
       "\n",
       "    .dataframe tbody tr th {\n",
       "        vertical-align: top;\n",
       "    }\n",
       "\n",
       "    .dataframe thead th {\n",
       "        text-align: right;\n",
       "    }\n",
       "</style>\n",
       "<table border=\"1\" class=\"dataframe\">\n",
       "  <thead>\n",
       "    <tr style=\"text-align: right;\">\n",
       "      <th></th>\n",
       "      <th>total_cup_points</th>\n",
       "      <th>species</th>\n",
       "      <th>owner</th>\n",
       "      <th>country_of_origin</th>\n",
       "      <th>farm_name</th>\n",
       "      <th>lot_number</th>\n",
       "      <th>mill</th>\n",
       "      <th>ico_number</th>\n",
       "      <th>company</th>\n",
       "      <th>altitude</th>\n",
       "      <th>...</th>\n",
       "      <th>color</th>\n",
       "      <th>category_two_defects</th>\n",
       "      <th>expiration</th>\n",
       "      <th>certification_body</th>\n",
       "      <th>certification_address</th>\n",
       "      <th>certification_contact</th>\n",
       "      <th>unit_of_measurement</th>\n",
       "      <th>altitude_low_meters</th>\n",
       "      <th>altitude_high_meters</th>\n",
       "      <th>altitude_mean_meters</th>\n",
       "    </tr>\n",
       "  </thead>\n",
       "  <tbody>\n",
       "    <tr>\n",
       "      <th>437</th>\n",
       "      <td>83.25</td>\n",
       "      <td>Arabica</td>\n",
       "      <td>exportadora de cafe condor s.a</td>\n",
       "      <td>Colombia</td>\n",
       "      <td>None</td>\n",
       "      <td>None</td>\n",
       "      <td>trilladora bonanza - armenia quindioa</td>\n",
       "      <td>3-68-0205</td>\n",
       "      <td>None</td>\n",
       "      <td>1600-1800msnm</td>\n",
       "      <td>...</td>\n",
       "      <td>None</td>\n",
       "      <td>0.0</td>\n",
       "      <td>June 13th, 2012</td>\n",
       "      <td>Almacafé</td>\n",
       "      <td>e493c36c2d076bf273064f7ac23ad562af257a25</td>\n",
       "      <td>70d3c0c26f89e00fdae6fb39ff54f0d2eb1c38ab</td>\n",
       "      <td>m</td>\n",
       "      <td>1600.0</td>\n",
       "      <td>1800.0</td>\n",
       "      <td>1700.0</td>\n",
       "    </tr>\n",
       "    <tr>\n",
       "      <th>285</th>\n",
       "      <td>83.83</td>\n",
       "      <td>Arabica</td>\n",
       "      <td>ipanema coffees</td>\n",
       "      <td>Brazil</td>\n",
       "      <td>fazenda rio verde</td>\n",
       "      <td>None</td>\n",
       "      <td>ipanema coffees</td>\n",
       "      <td>002/4177/0121</td>\n",
       "      <td>ipanema coffees</td>\n",
       "      <td>1260</td>\n",
       "      <td>...</td>\n",
       "      <td>Green</td>\n",
       "      <td>0.0</td>\n",
       "      <td>December 26th, 2014</td>\n",
       "      <td>Specialty Coffee Association</td>\n",
       "      <td>36d0d00a3724338ba7937c52a378d085f2172daa</td>\n",
       "      <td>0878a7d4b9d35ddbf0fe2ce69a2062cceb45a660</td>\n",
       "      <td>m</td>\n",
       "      <td>1260.0</td>\n",
       "      <td>1260.0</td>\n",
       "      <td>1260.0</td>\n",
       "    </tr>\n",
       "    <tr>\n",
       "      <th>784</th>\n",
       "      <td>82.08</td>\n",
       "      <td>Arabica</td>\n",
       "      <td>cafe politico</td>\n",
       "      <td>Colombia</td>\n",
       "      <td>None</td>\n",
       "      <td>None</td>\n",
       "      <td>None</td>\n",
       "      <td>3-59-1656</td>\n",
       "      <td>cafe politico</td>\n",
       "      <td>None</td>\n",
       "      <td>...</td>\n",
       "      <td>Green</td>\n",
       "      <td>0.0</td>\n",
       "      <td>September 12th, 2015</td>\n",
       "      <td>Specialty Coffee Association</td>\n",
       "      <td>36d0d00a3724338ba7937c52a378d085f2172daa</td>\n",
       "      <td>0878a7d4b9d35ddbf0fe2ce69a2062cceb45a660</td>\n",
       "      <td>m</td>\n",
       "      <td>NaN</td>\n",
       "      <td>NaN</td>\n",
       "      <td>NaN</td>\n",
       "    </tr>\n",
       "    <tr>\n",
       "      <th>648</th>\n",
       "      <td>82.58</td>\n",
       "      <td>Arabica</td>\n",
       "      <td>exportadora de cafe condor s.a</td>\n",
       "      <td>Colombia</td>\n",
       "      <td>None</td>\n",
       "      <td>None</td>\n",
       "      <td>trilladora boananza</td>\n",
       "      <td>3-68-0140</td>\n",
       "      <td>exportadora de cafe condor s.a</td>\n",
       "      <td>1750 msnm</td>\n",
       "      <td>...</td>\n",
       "      <td>Green</td>\n",
       "      <td>0.0</td>\n",
       "      <td>February 27th, 2014</td>\n",
       "      <td>Almacafé</td>\n",
       "      <td>e493c36c2d076bf273064f7ac23ad562af257a25</td>\n",
       "      <td>70d3c0c26f89e00fdae6fb39ff54f0d2eb1c38ab</td>\n",
       "      <td>m</td>\n",
       "      <td>1750.0</td>\n",
       "      <td>1750.0</td>\n",
       "      <td>1750.0</td>\n",
       "    </tr>\n",
       "    <tr>\n",
       "      <th>155</th>\n",
       "      <td>84.58</td>\n",
       "      <td>Arabica</td>\n",
       "      <td>exportadora de cafe condor s.a</td>\n",
       "      <td>Colombia</td>\n",
       "      <td>various</td>\n",
       "      <td>None</td>\n",
       "      <td>trilladora boananza</td>\n",
       "      <td>3-68-0005</td>\n",
       "      <td>exportadora de cafe condor s.a</td>\n",
       "      <td>1800 msnm</td>\n",
       "      <td>...</td>\n",
       "      <td>Green</td>\n",
       "      <td>6.0</td>\n",
       "      <td>October 9th, 2013</td>\n",
       "      <td>Almacafé</td>\n",
       "      <td>e493c36c2d076bf273064f7ac23ad562af257a25</td>\n",
       "      <td>70d3c0c26f89e00fdae6fb39ff54f0d2eb1c38ab</td>\n",
       "      <td>m</td>\n",
       "      <td>1800.0</td>\n",
       "      <td>1800.0</td>\n",
       "      <td>1800.0</td>\n",
       "    </tr>\n",
       "  </tbody>\n",
       "</table>\n",
       "<p>5 rows × 43 columns</p>\n",
       "</div>"
      ],
      "text/plain": [
       "     total_cup_points  species                           owner  \\\n",
       "437             83.25  Arabica  exportadora de cafe condor s.a   \n",
       "285             83.83  Arabica                 ipanema coffees   \n",
       "784             82.08  Arabica                   cafe politico   \n",
       "648             82.58  Arabica  exportadora de cafe condor s.a   \n",
       "155             84.58  Arabica  exportadora de cafe condor s.a   \n",
       "\n",
       "    country_of_origin          farm_name lot_number  \\\n",
       "437          Colombia               None       None   \n",
       "285            Brazil  fazenda rio verde       None   \n",
       "784          Colombia               None       None   \n",
       "648          Colombia               None       None   \n",
       "155          Colombia            various       None   \n",
       "\n",
       "                                      mill     ico_number  \\\n",
       "437  trilladora bonanza - armenia quindioa      3-68-0205   \n",
       "285                        ipanema coffees  002/4177/0121   \n",
       "784                                   None      3-59-1656   \n",
       "648                    trilladora boananza      3-68-0140   \n",
       "155                    trilladora boananza      3-68-0005   \n",
       "\n",
       "                            company       altitude  ...  color  \\\n",
       "437                            None  1600-1800msnm  ...   None   \n",
       "285                 ipanema coffees           1260  ...  Green   \n",
       "784                   cafe politico           None  ...  Green   \n",
       "648  exportadora de cafe condor s.a      1750 msnm  ...  Green   \n",
       "155  exportadora de cafe condor s.a      1800 msnm  ...  Green   \n",
       "\n",
       "    category_two_defects            expiration            certification_body  \\\n",
       "437                  0.0       June 13th, 2012                      Almacafé   \n",
       "285                  0.0   December 26th, 2014  Specialty Coffee Association   \n",
       "784                  0.0  September 12th, 2015  Specialty Coffee Association   \n",
       "648                  0.0   February 27th, 2014                      Almacafé   \n",
       "155                  6.0     October 9th, 2013                      Almacafé   \n",
       "\n",
       "                        certification_address  \\\n",
       "437  e493c36c2d076bf273064f7ac23ad562af257a25   \n",
       "285  36d0d00a3724338ba7937c52a378d085f2172daa   \n",
       "784  36d0d00a3724338ba7937c52a378d085f2172daa   \n",
       "648  e493c36c2d076bf273064f7ac23ad562af257a25   \n",
       "155  e493c36c2d076bf273064f7ac23ad562af257a25   \n",
       "\n",
       "                        certification_contact unit_of_measurement  \\\n",
       "437  70d3c0c26f89e00fdae6fb39ff54f0d2eb1c38ab                   m   \n",
       "285  0878a7d4b9d35ddbf0fe2ce69a2062cceb45a660                   m   \n",
       "784  0878a7d4b9d35ddbf0fe2ce69a2062cceb45a660                   m   \n",
       "648  70d3c0c26f89e00fdae6fb39ff54f0d2eb1c38ab                   m   \n",
       "155  70d3c0c26f89e00fdae6fb39ff54f0d2eb1c38ab                   m   \n",
       "\n",
       "    altitude_low_meters altitude_high_meters altitude_mean_meters  \n",
       "437              1600.0               1800.0               1700.0  \n",
       "285              1260.0               1260.0               1260.0  \n",
       "784                 NaN                  NaN                  NaN  \n",
       "648              1750.0               1750.0               1750.0  \n",
       "155              1800.0               1800.0               1800.0  \n",
       "\n",
       "[5 rows x 43 columns]"
      ]
     },
     "metadata": {},
     "output_type": "display_data"
    }
   ],
   "source": [
    "display(\n",
    "coffee_ratings.sample(n=5, random_state=19000113)\n",
    ")\n"
   ]
  },
  {
   "cell_type": "code",
   "execution_count": 25,
   "metadata": {},
   "outputs": [
    {
     "name": "stdout",
     "output_type": "stream",
     "text": [
      "1338\n",
      "267\n"
     ]
    },
    {
     "data": {
      "text/html": [
       "<div>\n",
       "<style scoped>\n",
       "    .dataframe tbody tr th:only-of-type {\n",
       "        vertical-align: middle;\n",
       "    }\n",
       "\n",
       "    .dataframe tbody tr th {\n",
       "        vertical-align: top;\n",
       "    }\n",
       "\n",
       "    .dataframe thead th {\n",
       "        text-align: right;\n",
       "    }\n",
       "</style>\n",
       "<table border=\"1\" class=\"dataframe\">\n",
       "  <thead>\n",
       "    <tr style=\"text-align: right;\">\n",
       "      <th></th>\n",
       "      <th>total_cup_points</th>\n",
       "      <th>species</th>\n",
       "      <th>owner</th>\n",
       "      <th>country_of_origin</th>\n",
       "      <th>farm_name</th>\n",
       "      <th>lot_number</th>\n",
       "      <th>mill</th>\n",
       "      <th>ico_number</th>\n",
       "      <th>company</th>\n",
       "      <th>altitude</th>\n",
       "      <th>...</th>\n",
       "      <th>color</th>\n",
       "      <th>category_two_defects</th>\n",
       "      <th>expiration</th>\n",
       "      <th>certification_body</th>\n",
       "      <th>certification_address</th>\n",
       "      <th>certification_contact</th>\n",
       "      <th>unit_of_measurement</th>\n",
       "      <th>altitude_low_meters</th>\n",
       "      <th>altitude_high_meters</th>\n",
       "      <th>altitude_mean_meters</th>\n",
       "    </tr>\n",
       "  </thead>\n",
       "  <tbody>\n",
       "    <tr>\n",
       "      <th>0</th>\n",
       "      <td>90.58</td>\n",
       "      <td>Arabica</td>\n",
       "      <td>metad plc</td>\n",
       "      <td>Ethiopia</td>\n",
       "      <td>metad plc</td>\n",
       "      <td>None</td>\n",
       "      <td>metad plc</td>\n",
       "      <td>2014/2015</td>\n",
       "      <td>metad agricultural developmet plc</td>\n",
       "      <td>1950-2200</td>\n",
       "      <td>...</td>\n",
       "      <td>Green</td>\n",
       "      <td>0.0</td>\n",
       "      <td>April 3rd, 2016</td>\n",
       "      <td>METAD Agricultural Development plc</td>\n",
       "      <td>309fcf77415a3661ae83e027f7e5f05dad786e44</td>\n",
       "      <td>19fef5a731de2db57d16da10287413f5f99bc2dd</td>\n",
       "      <td>m</td>\n",
       "      <td>1950.0</td>\n",
       "      <td>2200.0</td>\n",
       "      <td>2075.0</td>\n",
       "    </tr>\n",
       "    <tr>\n",
       "      <th>267</th>\n",
       "      <td>83.92</td>\n",
       "      <td>Arabica</td>\n",
       "      <td>federacion nacional de cafeteros</td>\n",
       "      <td>Colombia</td>\n",
       "      <td>None</td>\n",
       "      <td>None</td>\n",
       "      <td>None</td>\n",
       "      <td>01-1969</td>\n",
       "      <td>federacion nacional de cafeteros</td>\n",
       "      <td>None</td>\n",
       "      <td>...</td>\n",
       "      <td>None</td>\n",
       "      <td>1.0</td>\n",
       "      <td>March 11th, 2016</td>\n",
       "      <td>Almacafé</td>\n",
       "      <td>e493c36c2d076bf273064f7ac23ad562af257a25</td>\n",
       "      <td>70d3c0c26f89e00fdae6fb39ff54f0d2eb1c38ab</td>\n",
       "      <td>m</td>\n",
       "      <td>NaN</td>\n",
       "      <td>NaN</td>\n",
       "      <td>NaN</td>\n",
       "    </tr>\n",
       "    <tr>\n",
       "      <th>534</th>\n",
       "      <td>82.92</td>\n",
       "      <td>Arabica</td>\n",
       "      <td>consejo salvadoreño del café</td>\n",
       "      <td>El Salvador</td>\n",
       "      <td>santa josefita</td>\n",
       "      <td>1-198</td>\n",
       "      <td>beneficio cuzcachapa</td>\n",
       "      <td>09-030-273</td>\n",
       "      <td>soc. coop. cuzcachapa de r.l.</td>\n",
       "      <td>1350</td>\n",
       "      <td>...</td>\n",
       "      <td>Green</td>\n",
       "      <td>1.0</td>\n",
       "      <td>August 28th, 2018</td>\n",
       "      <td>Salvadoran Coffee Council</td>\n",
       "      <td>3d4987e3b91399dbb3938b5bdf53893b6ef45be1</td>\n",
       "      <td>27b21e368fb8291cbea02c60623fe6c98f84524d</td>\n",
       "      <td>m</td>\n",
       "      <td>1350.0</td>\n",
       "      <td>1350.0</td>\n",
       "      <td>1350.0</td>\n",
       "    </tr>\n",
       "    <tr>\n",
       "      <th>801</th>\n",
       "      <td>82.00</td>\n",
       "      <td>Arabica</td>\n",
       "      <td>lin, che-hao krude 林哲豪</td>\n",
       "      <td>Taiwan</td>\n",
       "      <td>you siang coffee farmtainan, taiwan 台灣台南優香咖啡</td>\n",
       "      <td>None</td>\n",
       "      <td>you siang coffee farmtainan, taiwan 台灣台南優香咖啡</td>\n",
       "      <td>Taiwan</td>\n",
       "      <td>red on tree co., ltd.</td>\n",
       "      <td>600m</td>\n",
       "      <td>...</td>\n",
       "      <td>Green</td>\n",
       "      <td>0.0</td>\n",
       "      <td>July 22nd, 2015</td>\n",
       "      <td>Specialty Coffee Association</td>\n",
       "      <td>36d0d00a3724338ba7937c52a378d085f2172daa</td>\n",
       "      <td>0878a7d4b9d35ddbf0fe2ce69a2062cceb45a660</td>\n",
       "      <td>m</td>\n",
       "      <td>600.0</td>\n",
       "      <td>600.0</td>\n",
       "      <td>600.0</td>\n",
       "    </tr>\n",
       "    <tr>\n",
       "      <th>1068</th>\n",
       "      <td>80.50</td>\n",
       "      <td>Arabica</td>\n",
       "      <td>cqi taiwan icp cqi台灣合作夥伴</td>\n",
       "      <td>Taiwan</td>\n",
       "      <td>王秋金</td>\n",
       "      <td>1</td>\n",
       "      <td>non</td>\n",
       "      <td>None</td>\n",
       "      <td>王秋金</td>\n",
       "      <td>50</td>\n",
       "      <td>...</td>\n",
       "      <td>Blue-Green</td>\n",
       "      <td>0.0</td>\n",
       "      <td>December 8th, 2018</td>\n",
       "      <td>Blossom Valley International</td>\n",
       "      <td>fc45352eee499d8470cf94c9827922fb745bf815</td>\n",
       "      <td>de73fc9412358b523d3a641501e542f31d2668b0</td>\n",
       "      <td>m</td>\n",
       "      <td>50.0</td>\n",
       "      <td>50.0</td>\n",
       "      <td>50.0</td>\n",
       "    </tr>\n",
       "    <tr>\n",
       "      <th>1335</th>\n",
       "      <td>77.17</td>\n",
       "      <td>Robusta</td>\n",
       "      <td>james moore</td>\n",
       "      <td>United States</td>\n",
       "      <td>fazenda cazengo</td>\n",
       "      <td>None</td>\n",
       "      <td>cafe cazengo</td>\n",
       "      <td>None</td>\n",
       "      <td>global opportunity fund</td>\n",
       "      <td>795 meters</td>\n",
       "      <td>...</td>\n",
       "      <td>None</td>\n",
       "      <td>6.0</td>\n",
       "      <td>December 23rd, 2015</td>\n",
       "      <td>Specialty Coffee Association</td>\n",
       "      <td>ff7c18ad303d4b603ac3f8cff7e611ffc735e720</td>\n",
       "      <td>352d0cf7f3e9be14dad7df644ad65efc27605ae2</td>\n",
       "      <td>m</td>\n",
       "      <td>795.0</td>\n",
       "      <td>795.0</td>\n",
       "      <td>795.0</td>\n",
       "    </tr>\n",
       "  </tbody>\n",
       "</table>\n",
       "<p>6 rows × 43 columns</p>\n",
       "</div>"
      ],
      "text/plain": [
       "      total_cup_points  species                             owner  \\\n",
       "0                90.58  Arabica                         metad plc   \n",
       "267              83.92  Arabica  federacion nacional de cafeteros   \n",
       "534              82.92  Arabica      consejo salvadoreño del café   \n",
       "801              82.00  Arabica            lin, che-hao krude 林哲豪   \n",
       "1068             80.50  Arabica          cqi taiwan icp cqi台灣合作夥伴   \n",
       "1335             77.17  Robusta                       james moore   \n",
       "\n",
       "     country_of_origin                                     farm_name  \\\n",
       "0             Ethiopia                                     metad plc   \n",
       "267           Colombia                                          None   \n",
       "534        El Salvador                                santa josefita   \n",
       "801             Taiwan  you siang coffee farmtainan, taiwan 台灣台南優香咖啡   \n",
       "1068            Taiwan                                           王秋金   \n",
       "1335     United States                               fazenda cazengo   \n",
       "\n",
       "     lot_number                                          mill  ico_number  \\\n",
       "0          None                                     metad plc   2014/2015   \n",
       "267        None                                          None     01-1969   \n",
       "534       1-198                          beneficio cuzcachapa  09-030-273   \n",
       "801        None  you siang coffee farmtainan, taiwan 台灣台南優香咖啡      Taiwan   \n",
       "1068          1                                           non        None   \n",
       "1335       None                                  cafe cazengo        None   \n",
       "\n",
       "                                company    altitude  ...       color  \\\n",
       "0     metad agricultural developmet plc   1950-2200  ...       Green   \n",
       "267    federacion nacional de cafeteros        None  ...        None   \n",
       "534       soc. coop. cuzcachapa de r.l.        1350  ...       Green   \n",
       "801               red on tree co., ltd.        600m  ...       Green   \n",
       "1068                                王秋金          50  ...  Blue-Green   \n",
       "1335            global opportunity fund  795 meters  ...        None   \n",
       "\n",
       "     category_two_defects           expiration  \\\n",
       "0                     0.0      April 3rd, 2016   \n",
       "267                   1.0     March 11th, 2016   \n",
       "534                   1.0    August 28th, 2018   \n",
       "801                   0.0      July 22nd, 2015   \n",
       "1068                  0.0   December 8th, 2018   \n",
       "1335                  6.0  December 23rd, 2015   \n",
       "\n",
       "                      certification_body  \\\n",
       "0     METAD Agricultural Development plc   \n",
       "267                             Almacafé   \n",
       "534            Salvadoran Coffee Council   \n",
       "801         Specialty Coffee Association   \n",
       "1068        Blossom Valley International   \n",
       "1335        Specialty Coffee Association   \n",
       "\n",
       "                         certification_address  \\\n",
       "0     309fcf77415a3661ae83e027f7e5f05dad786e44   \n",
       "267   e493c36c2d076bf273064f7ac23ad562af257a25   \n",
       "534   3d4987e3b91399dbb3938b5bdf53893b6ef45be1   \n",
       "801   36d0d00a3724338ba7937c52a378d085f2172daa   \n",
       "1068  fc45352eee499d8470cf94c9827922fb745bf815   \n",
       "1335  ff7c18ad303d4b603ac3f8cff7e611ffc735e720   \n",
       "\n",
       "                         certification_contact unit_of_measurement  \\\n",
       "0     19fef5a731de2db57d16da10287413f5f99bc2dd                   m   \n",
       "267   70d3c0c26f89e00fdae6fb39ff54f0d2eb1c38ab                   m   \n",
       "534   27b21e368fb8291cbea02c60623fe6c98f84524d                   m   \n",
       "801   0878a7d4b9d35ddbf0fe2ce69a2062cceb45a660                   m   \n",
       "1068  de73fc9412358b523d3a641501e542f31d2668b0                   m   \n",
       "1335  352d0cf7f3e9be14dad7df644ad65efc27605ae2                   m   \n",
       "\n",
       "     altitude_low_meters altitude_high_meters altitude_mean_meters  \n",
       "0                 1950.0               2200.0               2075.0  \n",
       "267                  NaN                  NaN                  NaN  \n",
       "534               1350.0               1350.0               1350.0  \n",
       "801                600.0                600.0                600.0  \n",
       "1068                50.0                 50.0                 50.0  \n",
       "1335               795.0                795.0                795.0  \n",
       "\n",
       "[6 rows x 43 columns]"
      ]
     },
     "execution_count": 25,
     "metadata": {},
     "output_type": "execute_result"
    }
   ],
   "source": [
    "sample_size = 5\n",
    "pop_size = len(coffee_ratings)\n",
    "print(pop_size)\n",
    "interval = pop_size // sample_size\n",
    "print(interval)\n",
    "coffee_ratings.iloc[::interval]\n"
   ]
  },
  {
   "cell_type": "code",
   "execution_count": 26,
   "metadata": {},
   "outputs": [
    {
     "data": {
      "image/png": "[encoded data removed]",
      "text/plain": [
       "<Figure size 640x480 with 1 Axes>"
      ]
     },
     "metadata": {},
     "output_type": "display_data"
    }
   ],
   "source": [
    "coffee_ratings_with_id = coffee_ratings.reset_index()\n",
    "coffee_ratings_with_id.plot(x=\"index\", y=\"aftertaste\", kind=\"scatter\")\n",
    "plt.show()"
   ]
  },
  {
   "cell_type": "code",
   "execution_count": 27,
   "metadata": {},
   "outputs": [
    {
     "data": {
      "image/png": "[encoded data removed]",
      "text/plain": [
       "<Figure size 640x480 with 1 Axes>"
      ]
     },
     "metadata": {},
     "output_type": "display_data"
    }
   ],
   "source": [
    "shuffled = coffee_ratings.sample(frac=1)\n",
    "shuffled = shuffled.reset_index(drop=True).reset_index()\n",
    "shuffled.plot(x=\"index\", y=\"aftertaste\", kind=\"scatter\")\n",
    "plt.show()"
   ]
  },
  {
   "cell_type": "markdown",
   "metadata": {},
   "source": [
    "Simple random sampling\n",
    "The simplest method of sampling a population is the one you've seen already. It is known as simple random sampling (sometimes abbreviated to \"SRS\"), and involves picking rows at random, one at a time, where each row has the same chance of being picked as any other.\n",
    "\n",
    "In this chapter, you'll apply sampling methods to a synthetic (fictional) employee attrition dataset from IBM, where \"attrition\" in this context means leaving the company.\n",
    "\n",
    "attrition_pop is available; pandas as pd is loaded."
   ]
  },
  {
   "cell_type": "code",
   "execution_count": 28,
   "metadata": {},
   "outputs": [
    {
     "name": "stdout",
     "output_type": "stream",
     "text": [
      "      Age  Attrition     BusinessTravel  DailyRate            Department  \\\n",
      "1134   35        0.0      Travel_Rarely        583  Research_Development   \n",
      "1150   52        0.0         Non-Travel        585                 Sales   \n",
      "531    33        0.0      Travel_Rarely        931  Research_Development   \n",
      "395    31        0.0      Travel_Rarely       1332  Research_Development   \n",
      "392    29        0.0      Travel_Rarely        942  Research_Development   \n",
      "...   ...        ...                ...        ...                   ...   \n",
      "361    27        0.0  Travel_Frequently       1410                 Sales   \n",
      "1180   36        0.0      Travel_Rarely        530                 Sales   \n",
      "230    26        0.0      Travel_Rarely       1443                 Sales   \n",
      "211    29        0.0  Travel_Frequently        410  Research_Development   \n",
      "890    30        0.0  Travel_Frequently       1312  Research_Development   \n",
      "\n",
      "      DistanceFromHome      Education    EducationField  \\\n",
      "1134                25         Master           Medical   \n",
      "1150                29         Master     Life_Sciences   \n",
      "531                 14       Bachelor           Medical   \n",
      "395                 11        College           Medical   \n",
      "392                 15  Below_College     Life_Sciences   \n",
      "...                ...            ...               ...   \n",
      "361                  3  Below_College           Medical   \n",
      "1180                 2         Master     Life_Sciences   \n",
      "230                 23       Bachelor         Marketing   \n",
      "211                  2  Below_College     Life_Sciences   \n",
      "890                  2         Master  Technical_Degree   \n",
      "\n",
      "     EnvironmentSatisfaction  Gender  ...  PerformanceRating  \\\n",
      "1134                    High  Female  ...          Excellent   \n",
      "1150                     Low    Male  ...          Excellent   \n",
      "531                Very_High  Female  ...          Excellent   \n",
      "395                     High    Male  ...          Excellent   \n",
      "392                   Medium  Female  ...          Excellent   \n",
      "...                      ...     ...  ...                ...   \n",
      "361                Very_High  Female  ...        Outstanding   \n",
      "1180                    High  Female  ...          Excellent   \n",
      "230                     High  Female  ...          Excellent   \n",
      "211                Very_High  Female  ...          Excellent   \n",
      "890                Very_High  Female  ...          Excellent   \n",
      "\n",
      "     RelationshipSatisfaction  StockOptionLevel TotalWorkingYears  \\\n",
      "1134                     High                 1                16   \n",
      "1150                   Medium                 2                16   \n",
      "531                 Very_High                 1                 8   \n",
      "395                 Very_High                 0                 6   \n",
      "392                       Low                 1                 6   \n",
      "...                       ...               ...               ...   \n",
      "361                    Medium                 2                 6   \n",
      "1180                     High                 0                17   \n",
      "230                      High                 1                 5   \n",
      "211                      High                 3                 4   \n",
      "890                 Very_High                 0                10   \n",
      "\n",
      "     TrainingTimesLastYear WorkLifeBalance  YearsAtCompany  \\\n",
      "1134                     3            Good              16   \n",
      "1150                     3            Good               9   \n",
      "531                      5          Better               8   \n",
      "395                      2            Good               6   \n",
      "392                      2            Good               5   \n",
      "...                    ...             ...             ...   \n",
      "361                      3          Better               6   \n",
      "1180                     2            Good              13   \n",
      "230                      2            Good               2   \n",
      "211                      3          Better               3   \n",
      "890                      2          Better               9   \n",
      "\n",
      "      YearsInCurrentRole  YearsSinceLastPromotion YearsWithCurrManager  \n",
      "1134                  10                       10                    1  \n",
      "1150                   8                        0                    0  \n",
      "531                    7                        1                    6  \n",
      "395                    5                        0                    1  \n",
      "392                    4                        1                    3  \n",
      "...                  ...                      ...                  ...  \n",
      "361                    5                        0                    4  \n",
      "1180                   7                        6                    7  \n",
      "230                    2                        0                    0  \n",
      "211                    2                        0                    2  \n",
      "890                    7                        0                    7  \n",
      "\n",
      "[70 rows x 31 columns]\n"
     ]
    }
   ],
   "source": [
    "# Sample 70 rows using simple random sampling and set the seed\n",
    "attrition_samp = attrition_pop.sample(n=70, random_state=18900217)\n",
    "\n",
    "# Print the sample\n",
    "print(attrition_samp)"
   ]
  },
  {
   "cell_type": "markdown",
   "metadata": {},
   "source": [
    "Systematic sampling\n",
    "One sampling method that avoids randomness is called systematic sampling. Here, you pick rows from the population at regular intervals.\n",
    "\n",
    "For example, if the population dataset had one thousand rows, and you wanted a sample size of five, you could pick rows 0, 200, 400, 600, and 800.\n",
    "\n",
    "attrition_pop is available; pandas has been pre-loaded as pd."
   ]
  },
  {
   "cell_type": "code",
   "execution_count": 29,
   "metadata": {},
   "outputs": [
    {
     "name": "stdout",
     "output_type": "stream",
     "text": [
      "1470\n",
      "21\n",
      "      Age  Attrition BusinessTravel  DailyRate            Department  \\\n",
      "0      21        0.0  Travel_Rarely        391  Research_Development   \n",
      "21     19        0.0  Travel_Rarely       1181  Research_Development   \n",
      "42     45        0.0  Travel_Rarely        252  Research_Development   \n",
      "63     23        0.0  Travel_Rarely        373  Research_Development   \n",
      "84     30        1.0  Travel_Rarely        945                 Sales   \n",
      "...   ...        ...            ...        ...                   ...   \n",
      "1365   48        0.0  Travel_Rarely        715  Research_Development   \n",
      "1386   48        0.0  Travel_Rarely       1355  Research_Development   \n",
      "1407   50        0.0  Travel_Rarely        989  Research_Development   \n",
      "1428   50        0.0     Non-Travel        881  Research_Development   \n",
      "1449   52        0.0  Travel_Rarely        699  Research_Development   \n",
      "\n",
      "      DistanceFromHome      Education EducationField EnvironmentSatisfaction  \\\n",
      "0                   15        College  Life_Sciences                    High   \n",
      "21                   3  Below_College        Medical                  Medium   \n",
      "42                   2       Bachelor  Life_Sciences                  Medium   \n",
      "63                   1        College  Life_Sciences               Very_High   \n",
      "84                   9       Bachelor        Medical                  Medium   \n",
      "...                ...            ...            ...                     ...   \n",
      "1365                 1       Bachelor  Life_Sciences               Very_High   \n",
      "1386                 4         Master  Life_Sciences                    High   \n",
      "1407                 7        College        Medical                  Medium   \n",
      "1428                 2         Master  Life_Sciences                     Low   \n",
      "1449                 1         Master  Life_Sciences                    High   \n",
      "\n",
      "      Gender  ...  PerformanceRating RelationshipSatisfaction  \\\n",
      "0       Male  ...          Excellent                Very_High   \n",
      "21    Female  ...          Excellent                Very_High   \n",
      "42    Female  ...          Excellent                Very_High   \n",
      "63      Male  ...        Outstanding                Very_High   \n",
      "84      Male  ...          Excellent                     High   \n",
      "...      ...  ...                ...                      ...   \n",
      "1365    Male  ...          Excellent                     High   \n",
      "1386    Male  ...          Excellent                   Medium   \n",
      "1407  Female  ...          Excellent                Very_High   \n",
      "1428    Male  ...          Excellent                Very_High   \n",
      "1449    Male  ...          Excellent                      Low   \n",
      "\n",
      "      StockOptionLevel TotalWorkingYears TrainingTimesLastYear  \\\n",
      "0                    0                 0                     6   \n",
      "21                   0                 1                     3   \n",
      "42                   0                 1                     3   \n",
      "63                   1                 1                     2   \n",
      "84                   0                 1                     3   \n",
      "...                ...               ...                   ...   \n",
      "1365                 0                25                     3   \n",
      "1386                 0                27                     3   \n",
      "1407                 1                29                     2   \n",
      "1428                 1                31                     3   \n",
      "1449                 1                34                     5   \n",
      "\n",
      "     WorkLifeBalance  YearsAtCompany  YearsInCurrentRole  \\\n",
      "0             Better               0                   0   \n",
      "21            Better               1                   0   \n",
      "42            Better               1                   0   \n",
      "63            Better               1                   0   \n",
      "84              Good               1                   0   \n",
      "...              ...             ...                 ...   \n",
      "1365            Best               1                   0   \n",
      "1386          Better              15                  11   \n",
      "1407            Good              27                   3   \n",
      "1428          Better              31                   6   \n",
      "1449          Better              33                  18   \n",
      "\n",
      "      YearsSinceLastPromotion YearsWithCurrManager  \n",
      "0                           0                    0  \n",
      "21                          0                    0  \n",
      "42                          0                    0  \n",
      "63                          0                    1  \n",
      "84                          0                    0  \n",
      "...                       ...                  ...  \n",
      "1365                        0                    0  \n",
      "1386                        4                    8  \n",
      "1407                       13                    8  \n",
      "1428                       14                    7  \n",
      "1449                       11                    9  \n",
      "\n",
      "[70 rows x 31 columns]\n"
     ]
    }
   ],
   "source": [
    "# Set the sample size to 70\n",
    "sample_size = 70\n",
    "\n",
    "# Calculate the population size from attrition_pop\n",
    "pop_size = len(attrition_pop)\n",
    "print(pop_size)\n",
    "# Calculate the interval\n",
    "interval = pop_size // sample_size\n",
    "print(interval)\n",
    "\n",
    "# Systematically sample 70 rows\n",
    "attrition_sys_samp = attrition_pop.iloc[::interval]\n",
    "\n",
    "# Print the sample\n",
    "print(attrition_sys_samp)"
   ]
  },
  {
   "cell_type": "markdown",
   "metadata": {},
   "source": [
    "Is systematic sampling OK?\n",
    "Systematic sampling has a problem: if the data has been sorted, or there is some sort of pattern or meaning behind the row order, then the resulting sample may not be representative of the whole population. The problem can be solved by shuffling the rows, but then systematic sampling is equivalent to simple random sampling.\n",
    "\n",
    "Here you'll look at how to determine whether or not there is a problem.\n",
    "\n",
    "attrition_pop is available; pandas is loaded as pd, and matplotlib.pyplot as plt."
   ]
  },
  {
   "cell_type": "code",
   "execution_count": 30,
   "metadata": {},
   "outputs": [
    {
     "data": {
      "image/png": "[encoded data removed]",
      "text/plain": [
       "<Figure size 640x480 with 1 Axes>"
      ]
     },
     "metadata": {},
     "output_type": "display_data"
    }
   ],
   "source": [
    "# Add an index column to attrition_pop\n",
    "attrition_pop_id = attrition_pop.reset_index()\n",
    "\n",
    "# Plot YearsAtCompany vs. index for attrition_pop_id\n",
    "attrition_pop_id.plot(x=\"index\", y=\"YearsAtCompany\", kind=\"scatter\")\n",
    "plt.show()"
   ]
  },
  {
   "cell_type": "code",
   "execution_count": 31,
   "metadata": {},
   "outputs": [
    {
     "data": {
      "image/png": "[encoded data removed]",
      "text/plain": [
       "<Figure size 640x480 with 1 Axes>"
      ]
     },
     "metadata": {},
     "output_type": "display_data"
    }
   ],
   "source": [
    "# Shuffle the rows of attrition_pop\n",
    "attrition_shuffled = attrition_pop.sample(frac=1)\n",
    "\n",
    "# Reset the row indexes and create an index column\n",
    "attrition_shuffled = attrition_shuffled.reset_index(drop=True).reset_index()\n",
    "\n",
    "# Plot YearsAtCompany vs. index for attrition_shuffled\n",
    "attrition_shuffled.plot(x=\"index\", y=\"YearsAtCompany\", kind=\"scatter\")\n",
    "plt.show()"
   ]
  },
  {
   "attachments": {},
   "cell_type": "markdown",
   "metadata": {},
   "source": [
    "#### **Stratified and weighted random sampling**\n",
    "\n",
    "1. Coffees by country\n",
    "top_counts = coffee_ratings['country_of_origin'].value_counts()\n",
    "top_counts.head(6)\n",
    "2. Filtering for 6 countries\n",
    "top_counted_countries = [\"Mexico\", \"Colombia\", \"Guatemala\",\n",
    "\"Brazil\", \"Taiwan\", \"United States (Hawaii)\"]\n",
    "top_counted_subset = coffee_ratings['country_of_origin'].isin(top_counted_countries)\n",
    "coffee_ratings_top = coffee_ratings[top_counted_subset]\n",
    "3. Counts of a simple random sample\n",
    "coffee_ratings_samp = coffee_ratings_top.sample(frac=0.1, random_state=2021)\n",
    "coffee_ratings_samp['country_of_origin'].value_counts(normalize=True)\n",
    "\n",
    "4. Proportional stratified sampling\n",
    "coffee_ratings_strat = coffee_ratings_top.groupby(\"country_of_origin\")\\\n",
    ".sample(frac=0.1, random_state=2021)\n",
    "\n",
    "coffee_ratings_strat['country_of_origin'].value_counts(normalize=True)\n",
    "5. Equal counts stratified sampling\n",
    "coffee_ratings_eq = coffee_ratings_top.groupby(\"country_of_origin\")\\\n",
    ".sample(n=15, random_state=2021)\n",
    "\n",
    "coffee_ratings_eq['country_of_origin'].value_counts(normalize=True)\n",
    "\n",
    "6. Weighted random sampling\n",
    "import numpy as np\n",
    "coffee_ratings_weight = coffee_ratings_top\n",
    "condition = coffee_ratings_weight['country_of_origin'] == \"Taiwan\"\n",
    "\n",
    "coffee_ratings_weight['weight'] = np.where(condition, 2, 1)\n",
    "\n",
    "coffee_ratings_weight = coffee_ratings_weight.sample(frac=0.1, weights=\"weight\")\n",
    "coffee_ratings_weight['country_of_origin'].value_counts(normalize=True)"
   ]
  },
  {
   "cell_type": "code",
   "execution_count": 32,
   "metadata": {},
   "outputs": [
    {
     "data": {
      "text/plain": [
       "Mexico                    236\n",
       "Colombia                  183\n",
       "Guatemala                 181\n",
       "Brazil                    132\n",
       "Taiwan                     75\n",
       "United States (Hawaii)     73\n",
       "Name: country_of_origin, dtype: int64"
      ]
     },
     "execution_count": 32,
     "metadata": {},
     "output_type": "execute_result"
    }
   ],
   "source": [
    "top_counts = coffee_ratings['country_of_origin'].value_counts()\n",
    "top_counts.head(6)"
   ]
  },
  {
   "cell_type": "code",
   "execution_count": 33,
   "metadata": {},
   "outputs": [
    {
     "data": {
      "text/plain": [
       "Mexico                    0.250000\n",
       "Guatemala                 0.204545\n",
       "Colombia                  0.181818\n",
       "Brazil                    0.181818\n",
       "United States (Hawaii)    0.102273\n",
       "Taiwan                    0.079545\n",
       "Name: country_of_origin, dtype: float64"
      ]
     },
     "execution_count": 33,
     "metadata": {},
     "output_type": "execute_result"
    }
   ],
   "source": [
    "top_counted_countries = [\"Mexico\", \"Colombia\", \"Guatemala\",\n",
    "\"Brazil\", \"Taiwan\", \"United States (Hawaii)\"]\n",
    "top_counted_subset = coffee_ratings['country_of_origin'].isin(top_counted_countries)\n",
    "coffee_ratings_top = coffee_ratings[top_counted_subset]\n",
    "\n",
    "coffee_ratings_samp = coffee_ratings_top.sample(frac=0.1, random_state=2021)\n",
    "coffee_ratings_samp['country_of_origin'].value_counts(normalize=True)"
   ]
  },
  {
   "cell_type": "code",
   "execution_count": 34,
   "metadata": {},
   "outputs": [
    {
     "data": {
      "text/plain": [
       "Mexico                    0.272727\n",
       "Colombia                  0.204545\n",
       "Guatemala                 0.204545\n",
       "Brazil                    0.147727\n",
       "Taiwan                    0.090909\n",
       "United States (Hawaii)    0.079545\n",
       "Name: country_of_origin, dtype: float64"
      ]
     },
     "execution_count": 34,
     "metadata": {},
     "output_type": "execute_result"
    }
   ],
   "source": [
    "coffee_ratings_strat = coffee_ratings_top.groupby(\"country_of_origin\")\\\n",
    ".sample(frac=0.1, random_state=2021)\n",
    "\n",
    "coffee_ratings_strat['country_of_origin'].value_counts(normalize=True)\n"
   ]
  },
  {
   "cell_type": "code",
   "execution_count": 35,
   "metadata": {},
   "outputs": [
    {
     "data": {
      "text/plain": [
       "Brazil                    0.166667\n",
       "Colombia                  0.166667\n",
       "Guatemala                 0.166667\n",
       "Mexico                    0.166667\n",
       "Taiwan                    0.166667\n",
       "United States (Hawaii)    0.166667\n",
       "Name: country_of_origin, dtype: float64"
      ]
     },
     "execution_count": 35,
     "metadata": {},
     "output_type": "execute_result"
    }
   ],
   "source": [
    "coffee_ratings_eq = coffee_ratings_top.groupby(\"country_of_origin\")\\\n",
    ".sample(n=15, random_state=2021)\n",
    "\n",
    "coffee_ratings_eq['country_of_origin'].value_counts(normalize=True)\n"
   ]
  },
  {
   "cell_type": "code",
   "execution_count": 36,
   "metadata": {},
   "outputs": [
    {
     "name": "stderr",
     "output_type": "stream",
     "text": [
      "C:\\Users\\mcaba\\AppData\\Local\\Temp\\ipykernel_7900\\2890812173.py:5: SettingWithCopyWarning: \n",
      "A value is trying to be set on a copy of a slice from a DataFrame.\n",
      "Try using .loc[row_indexer,col_indexer] = value instead\n",
      "\n",
      "See the caveats in the documentation: https://pandas.pydata.org/pandas-docs/stable/user_guide/indexing.html#returning-a-view-versus-a-copy\n",
      "  coffee_ratings_weight['weight'] = np.where(condition, 2, 1)\n"
     ]
    },
    {
     "data": {
      "text/plain": [
       "Mexico                    0.306818\n",
       "Taiwan                    0.193182\n",
       "Brazil                    0.147727\n",
       "Colombia                  0.136364\n",
       "Guatemala                 0.136364\n",
       "United States (Hawaii)    0.079545\n",
       "Name: country_of_origin, dtype: float64"
      ]
     },
     "execution_count": 36,
     "metadata": {},
     "output_type": "execute_result"
    }
   ],
   "source": [
    "import numpy as np\n",
    "coffee_ratings_weight = coffee_ratings_top\n",
    "condition = coffee_ratings_weight['country_of_origin'] == \"Taiwan\"\n",
    "\n",
    "coffee_ratings_weight['weight'] = np.where(condition, 2, 1)\n",
    "\n",
    "coffee_ratings_weight = coffee_ratings_weight.sample(frac=0.1, weights=\"weight\")\n",
    "coffee_ratings_weight['country_of_origin'].value_counts(normalize=True)"
   ]
  },
  {
   "cell_type": "markdown",
   "metadata": {},
   "source": [
    "Proportional stratified sampling\n",
    "If you are interested in subgroups within the population, then you may need to carefully control the counts of each subgroup within the population. Proportional stratified sampling results in subgroup sizes within the sample that are representative of the subgroup sizes within the population. It is equivalent to performing a simple random sample on each subgroup.\n",
    "\n",
    "attrition_pop is available; pandas is loaded with its usual alias."
   ]
  },
  {
   "cell_type": "code",
   "execution_count": 37,
   "metadata": {},
   "outputs": [
    {
     "name": "stdout",
     "output_type": "stream",
     "text": [
      "Bachelor         0.389116\n",
      "Master           0.270748\n",
      "College          0.191837\n",
      "Below_College    0.115646\n",
      "Doctor           0.032653\n",
      "Name: Education, dtype: float64\n",
      "      Age  Attrition     BusinessTravel  DailyRate            Department  \\\n",
      "1191   53        0.0      Travel_Rarely        238                 Sales   \n",
      "407    29        0.0  Travel_Frequently        995  Research_Development   \n",
      "1233   59        0.0  Travel_Frequently       1225                 Sales   \n",
      "366    37        0.0      Travel_Rarely        571  Research_Development   \n",
      "702    31        0.0  Travel_Frequently        163  Research_Development   \n",
      "...   ...        ...                ...        ...                   ...   \n",
      "733    38        0.0  Travel_Frequently        653  Research_Development   \n",
      "1061   44        0.0  Travel_Frequently        602       Human_Resources   \n",
      "1307   41        0.0      Travel_Rarely       1276                 Sales   \n",
      "1060   33        0.0      Travel_Rarely        516  Research_Development   \n",
      "177    29        0.0      Travel_Rarely        738  Research_Development   \n",
      "\n",
      "      DistanceFromHome      Education    EducationField  \\\n",
      "1191                 1  Below_College           Medical   \n",
      "407                  2  Below_College     Life_Sciences   \n",
      "1233                 1  Below_College     Life_Sciences   \n",
      "366                 10  Below_College     Life_Sciences   \n",
      "702                 24  Below_College  Technical_Degree   \n",
      "...                ...            ...               ...   \n",
      "733                 29         Doctor     Life_Sciences   \n",
      "1061                 1         Doctor   Human_Resources   \n",
      "1307                 2         Doctor     Life_Sciences   \n",
      "1060                 8         Doctor     Life_Sciences   \n",
      "177                  9         Doctor             Other   \n",
      "\n",
      "     EnvironmentSatisfaction  Gender  ...  PerformanceRating  \\\n",
      "1191               Very_High  Female  ...        Outstanding   \n",
      "407                      Low    Male  ...          Excellent   \n",
      "1233                     Low  Female  ...          Excellent   \n",
      "366                Very_High  Female  ...          Excellent   \n",
      "702                Very_High  Female  ...        Outstanding   \n",
      "...                      ...     ...  ...                ...   \n",
      "733                Very_High  Female  ...          Excellent   \n",
      "1061                     Low    Male  ...          Excellent   \n",
      "1307                  Medium  Female  ...          Excellent   \n",
      "1060               Very_High    Male  ...          Excellent   \n",
      "177                   Medium    Male  ...          Excellent   \n",
      "\n",
      "     RelationshipSatisfaction  StockOptionLevel TotalWorkingYears  \\\n",
      "1191                Very_High                 0                18   \n",
      "407                 Very_High                 1                 6   \n",
      "1233                Very_High                 0                20   \n",
      "366                    Medium                 2                 6   \n",
      "702                 Very_High                 0                 9   \n",
      "...                       ...               ...               ...   \n",
      "733                 Very_High                 0                10   \n",
      "1061                     High                 0                14   \n",
      "1307                   Medium                 1                22   \n",
      "1060                      Low                 0                14   \n",
      "177                      High                 0                 4   \n",
      "\n",
      "     TrainingTimesLastYear WorkLifeBalance  YearsAtCompany  \\\n",
      "1191                     2            Best              14   \n",
      "407                      0            Best               6   \n",
      "1233                     2            Good               4   \n",
      "366                      3            Good               5   \n",
      "702                      3            Good               5   \n",
      "...                    ...             ...             ...   \n",
      "733                      2          Better              10   \n",
      "1061                     3          Better              10   \n",
      "1307                     2          Better              18   \n",
      "1060                     6          Better               0   \n",
      "177                      2          Better               3   \n",
      "\n",
      "      YearsInCurrentRole  YearsSinceLastPromotion YearsWithCurrManager  \n",
      "1191                   7                        8                   10  \n",
      "407                    4                        1                    3  \n",
      "1233                   3                        1                    3  \n",
      "366                    3                        4                    3  \n",
      "702                    4                        1                    4  \n",
      "...                  ...                      ...                  ...  \n",
      "733                    3                        9                    9  \n",
      "1061                   7                        0                    2  \n",
      "1307                  16                       11                    8  \n",
      "1060                   0                        0                    0  \n",
      "177                    2                        2                    2  \n",
      "\n",
      "[588 rows x 31 columns]\n"
     ]
    }
   ],
   "source": [
    "# Proportion of employees by Education level\n",
    "education_counts_pop = attrition_pop['Education'].value_counts(normalize=True)\n",
    "\n",
    "# Print education_counts_pop\n",
    "print(education_counts_pop)\n",
    "\n",
    "# Proportional stratified sampling for 40% of each Education group\n",
    "attrition_strat = attrition_pop.groupby(\"Education\")\\\n",
    ".sample(frac=0.4, random_state=2022)\n",
    "\n",
    "\n",
    "# Print the sample\n",
    "print(attrition_strat)\n",
    "\n"
   ]
  },
  {
   "cell_type": "code",
   "execution_count": 38,
   "metadata": {},
   "outputs": [
    {
     "name": "stdout",
     "output_type": "stream",
     "text": [
      "Bachelor         0.389456\n",
      "Master           0.270408\n",
      "College          0.192177\n",
      "Below_College    0.115646\n",
      "Doctor           0.032313\n",
      "Name: Education, dtype: float64\n"
     ]
    }
   ],
   "source": [
    "# Calculate the Education level proportions from attrition_strat\n",
    "education_counts_strat = attrition_strat['Education'].value_counts(normalize=True)\n",
    "\n",
    "# Print education_counts_strat\n",
    "print(education_counts_strat)\n"
   ]
  },
  {
   "cell_type": "markdown",
   "metadata": {},
   "source": [
    "Equal counts stratified sampling\n",
    "If one subgroup is larger than another subgroup in the population, but you don't want to reflect that difference in your analysis, then you can use equal counts stratified sampling to generate samples where each subgroup has the same amount of data. For example, if you are analyzing blood types, O is the most common blood type worldwide, but you may wish to have equal amounts of O, A, B, and AB in your sample.\n",
    "\n",
    "attrition_pop is available; pandas is loaded with its usual alias."
   ]
  },
  {
   "cell_type": "code",
   "execution_count": 39,
   "metadata": {},
   "outputs": [
    {
     "name": "stdout",
     "output_type": "stream",
     "text": [
      "      Age  Attrition     BusinessTravel  DailyRate            Department  \\\n",
      "1191   53        0.0      Travel_Rarely        238                 Sales   \n",
      "407    29        0.0  Travel_Frequently        995  Research_Development   \n",
      "1233   59        0.0  Travel_Frequently       1225                 Sales   \n",
      "366    37        0.0      Travel_Rarely        571  Research_Development   \n",
      "702    31        0.0  Travel_Frequently        163  Research_Development   \n",
      "...   ...        ...                ...        ...                   ...   \n",
      "774    33        0.0      Travel_Rarely        922  Research_Development   \n",
      "869    45        0.0      Travel_Rarely       1015  Research_Development   \n",
      "530    32        0.0      Travel_Rarely        120  Research_Development   \n",
      "1049   48        0.0      Travel_Rarely        163                 Sales   \n",
      "350    29        1.0      Travel_Rarely        408  Research_Development   \n",
      "\n",
      "      DistanceFromHome      Education    EducationField  \\\n",
      "1191                 1  Below_College           Medical   \n",
      "407                  2  Below_College     Life_Sciences   \n",
      "1233                 1  Below_College     Life_Sciences   \n",
      "366                 10  Below_College     Life_Sciences   \n",
      "702                 24  Below_College  Technical_Degree   \n",
      "...                ...            ...               ...   \n",
      "774                  1         Doctor           Medical   \n",
      "869                  5         Doctor           Medical   \n",
      "530                  6         Doctor     Life_Sciences   \n",
      "1049                 2         Doctor         Marketing   \n",
      "350                 25         Doctor  Technical_Degree   \n",
      "\n",
      "     EnvironmentSatisfaction  Gender  ...  PerformanceRating  \\\n",
      "1191               Very_High  Female  ...        Outstanding   \n",
      "407                      Low    Male  ...          Excellent   \n",
      "1233                     Low  Female  ...          Excellent   \n",
      "366                Very_High  Female  ...          Excellent   \n",
      "702                Very_High  Female  ...        Outstanding   \n",
      "...                      ...     ...  ...                ...   \n",
      "774                      Low  Female  ...          Excellent   \n",
      "869                     High  Female  ...          Excellent   \n",
      "530                     High    Male  ...        Outstanding   \n",
      "1049                  Medium  Female  ...          Excellent   \n",
      "350                     High  Female  ...          Excellent   \n",
      "\n",
      "     RelationshipSatisfaction  StockOptionLevel TotalWorkingYears  \\\n",
      "1191                Very_High                 0                18   \n",
      "407                 Very_High                 1                 6   \n",
      "1233                Very_High                 0                20   \n",
      "366                    Medium                 2                 6   \n",
      "702                 Very_High                 0                 9   \n",
      "...                       ...               ...               ...   \n",
      "774                      High                 1                10   \n",
      "869                       Low                 0                10   \n",
      "530                       Low                 0                 8   \n",
      "1049                      Low                 1                14   \n",
      "350                    Medium                 0                 6   \n",
      "\n",
      "     TrainingTimesLastYear WorkLifeBalance  YearsAtCompany  \\\n",
      "1191                     2            Best              14   \n",
      "407                      0            Best               6   \n",
      "1233                     2            Good               4   \n",
      "366                      3            Good               5   \n",
      "702                      3            Good               5   \n",
      "...                    ...             ...             ...   \n",
      "774                      2          Better               6   \n",
      "869                      3          Better              10   \n",
      "530                      2          Better               5   \n",
      "1049                     2          Better               9   \n",
      "350                      2            Best               2   \n",
      "\n",
      "      YearsInCurrentRole  YearsSinceLastPromotion YearsWithCurrManager  \n",
      "1191                   7                        8                   10  \n",
      "407                    4                        1                    3  \n",
      "1233                   3                        1                    3  \n",
      "366                    3                        4                    3  \n",
      "702                    4                        1                    4  \n",
      "...                  ...                      ...                  ...  \n",
      "774                    1                        0                    5  \n",
      "869                    7                        1                    4  \n",
      "530                    4                        1                    4  \n",
      "1049                   7                        6                    7  \n",
      "350                    2                        1                    1  \n",
      "\n",
      "[150 rows x 31 columns]\n"
     ]
    }
   ],
   "source": [
    "# Get 30 employees from each Education group\n",
    "attrition_eq = attrition_pop.groupby(\"Education\")\\\n",
    ".sample(n=30, random_state=2022)\n",
    "\n",
    "\n",
    "\n",
    "# Print the sample\n",
    "print(attrition_eq)"
   ]
  },
  {
   "cell_type": "code",
   "execution_count": 40,
   "metadata": {},
   "outputs": [
    {
     "name": "stdout",
     "output_type": "stream",
     "text": [
      "Below_College    0.2\n",
      "College          0.2\n",
      "Bachelor         0.2\n",
      "Master           0.2\n",
      "Doctor           0.2\n",
      "Name: Education, dtype: float64\n"
     ]
    }
   ],
   "source": [
    "# Get 30 employees from each Education group\n",
    "attrition_eq = attrition_pop.groupby('Education')\\\n",
    "\t.sample(n=30, random_state=2022)      \n",
    "\n",
    "# Get the proportions from attrition_eq\n",
    "education_counts_eq = attrition_eq['Education'].value_counts(normalize=True)\n",
    "\n",
    "# Print the results\n",
    "print(education_counts_eq)"
   ]
  },
  {
   "cell_type": "markdown",
   "metadata": {},
   "source": [
    "Weighted sampling\n",
    "Stratified sampling provides rules about the probability of picking rows from your dataset at the subgroup level. A generalization of this is weighted sampling, which lets you specify rules about the probability of picking rows at the row level. The probability of picking any given row is proportional to the weight value for that row.\n",
    "\n",
    "attrition_pop is available; pandas, matplotlib.pyplot, and numpy are loaded with their usual aliases."
   ]
  },
  {
   "cell_type": "code",
   "execution_count": 41,
   "metadata": {},
   "outputs": [
    {
     "data": {
      "image/png": "[encoded data removed]",
      "text/plain": [
       "<Figure size 640x480 with 1 Axes>"
      ]
     },
     "metadata": {},
     "output_type": "display_data"
    }
   ],
   "source": [
    "# Plot YearsAtCompany from attrition_pop as a histogram\n",
    "attrition_pop[\"YearsAtCompany\"].hist(bins=np.arange(0, 41, 1))\n",
    "plt.show()"
   ]
  },
  {
   "cell_type": "code",
   "execution_count": 42,
   "metadata": {},
   "outputs": [
    {
     "data": {
      "image/png": "[encoded data removed]",
      "text/plain": [
       "<Figure size 640x480 with 1 Axes>"
      ]
     },
     "metadata": {},
     "output_type": "display_data"
    },
    {
     "data": {
      "image/png": "[encoded data removed]",
      "text/plain": [
       "<Figure size 640x480 with 1 Axes>"
      ]
     },
     "metadata": {},
     "output_type": "display_data"
    }
   ],
   "source": [
    "# Plot YearsAtCompany from attrition_pop as a histogram\n",
    "attrition_pop['YearsAtCompany'].hist(bins=np.arange(0, 41, 1))\n",
    "plt.show()\n",
    "\n",
    "# Sample 400 employees weighted by YearsAtCompany\n",
    "attrition_weight = attrition_pop.sample(n=400, weights=\"YearsAtCompany\")\n",
    "\n",
    "# Plot YearsAtCompany from attrition_weight as a histogram\n",
    "attrition_weight['YearsAtCompany'].hist(bins=np.arange(0, 41, 1))\n",
    "plt.show()\n",
    "\n"
   ]
  },
  {
   "cell_type": "markdown",
   "metadata": {},
   "source": [
    "#### **Cluster sampling**\n",
    "\n",
    "1. Stratified sampling vs. cluster sampling\n",
    "Stratified sampling\n",
    "    Split the population into subgroups\n",
    "    Use simple random sampling on every subgroup\n",
    "Cluster sampling\n",
    "    Use simple random sampling to pick some subgroups\n",
    "    Use simple random sampling on only those subgroups\n",
    "2. Varieties of coffee\n",
    "varieties_pop = list(coffee_ratings['variety'].unique())\n",
    "\n",
    "[None, 'Other', 'Bourbon', 'Catimor',\n",
    "'Ethiopian Yirgacheffe','Caturra',\n",
    "'SL14', 'Sumatra', 'SL34', 'Hawaiian Kona',\n",
    "'Yellow Bourbon', 'SL28', 'Gesha', 'Catuai',\n",
    "'Pacamara', 'Typica', 'Sumatra Lintong',\n",
    "'Mundo Novo', 'Java', 'Peaberry', 'Pacas',\n",
    "'Mandheling', 'Ruiru 11', 'Arusha',\n",
    "'Ethiopian Heirlooms', 'Moka Peaberry',\n",
    "'Sulawesi', 'Blue Mountain', 'Marigojipe',\n",
    "'Pache Comun']\n",
    "3. Stage 1: sampling for subgroups\n",
    "import random\n",
    "varieties_samp = random.sample(varieties_pop, k=3)\n",
    "\n",
    "['Hawaiian Kona', 'Bourbon', 'SL28']\n",
    "4. Stage 2: sampling each groupStage 2: sampling each group\n",
    "variety_condition = coffee_ratings['variety'].isin(varieties_samp)\n",
    "coffee_ratings_cluster = coffee_ratings[variety_condition]\n",
    "coffee_ratings_cluster['variety'] = coffee_ratings_cluster['variety'].cat.remove_unused_categories()\n",
    "coffee_ratings_cluster.groupby(\"variety\")\\\n",
    ".sample(n=5, random_state=2021)\n",
    "\n",
    "5. Multistage sampling\n",
    "Cluster sampling is a type of multistage sampling\n",
    "Can have > 2 stages\n",
    "E.g., countrywide surveys may sample states, counties, cities, and neighborhoods"
   ]
  },
  {
   "cell_type": "code",
   "execution_count": 43,
   "metadata": {},
   "outputs": [
    {
     "name": "stdout",
     "output_type": "stream",
     "text": [
      "[None, 'Other', 'Bourbon', 'Catimor', 'Ethiopian Yirgacheffe', 'Caturra', 'SL14', 'Sumatra', 'SL34', 'Hawaiian Kona', 'Yellow Bourbon', 'SL28', 'Gesha', 'Catuai', 'Pacamara', 'Typica', 'Sumatra Lintong', 'Mundo Novo', 'Java', 'Peaberry', 'Pacas', 'Mandheling', 'Ruiru 11', 'Arusha', 'Ethiopian Heirlooms', 'Moka Peaberry', 'Sulawesi', 'Blue Mountain', 'Marigojipe', 'Pache Comun']\n"
     ]
    }
   ],
   "source": [
    "varieties_pop = list(coffee_ratings['variety'].unique())\n",
    "print(varieties_pop)\n"
   ]
  },
  {
   "cell_type": "code",
   "execution_count": 44,
   "metadata": {},
   "outputs": [
    {
     "name": "stdout",
     "output_type": "stream",
     "text": [
      "['Catuai', 'Bourbon', 'Typica']\n"
     ]
    }
   ],
   "source": [
    "import random\n",
    "varieties_samp = random.sample(varieties_pop, k=3)\n",
    "print(varieties_samp)"
   ]
  },
  {
   "cell_type": "code",
   "execution_count": 45,
   "metadata": {},
   "outputs": [
    {
     "name": "stderr",
     "output_type": "stream",
     "text": [
      "C:\\Users\\mcaba\\AppData\\Local\\Temp\\ipykernel_7900\\773719370.py:3: SettingWithCopyWarning: \n",
      "A value is trying to be set on a copy of a slice from a DataFrame.\n",
      "Try using .loc[row_indexer,col_indexer] = value instead\n",
      "\n",
      "See the caveats in the documentation: https://pandas.pydata.org/pandas-docs/stable/user_guide/indexing.html#returning-a-view-versus-a-copy\n",
      "  coffee_ratings_cluster['variety'] = coffee_ratings_cluster['variety'].astype('category')\n",
      "C:\\Users\\mcaba\\AppData\\Local\\Temp\\ipykernel_7900\\773719370.py:4: SettingWithCopyWarning: \n",
      "A value is trying to be set on a copy of a slice from a DataFrame.\n",
      "Try using .loc[row_indexer,col_indexer] = value instead\n",
      "\n",
      "See the caveats in the documentation: https://pandas.pydata.org/pandas-docs/stable/user_guide/indexing.html#returning-a-view-versus-a-copy\n",
      "  coffee_ratings_cluster['variety'] = coffee_ratings_cluster['variety'].cat.remove_unused_categories()\n"
     ]
    },
    {
     "data": {
      "text/html": [
       "<div>\n",
       "<style scoped>\n",
       "    .dataframe tbody tr th:only-of-type {\n",
       "        vertical-align: middle;\n",
       "    }\n",
       "\n",
       "    .dataframe tbody tr th {\n",
       "        vertical-align: top;\n",
       "    }\n",
       "\n",
       "    .dataframe thead th {\n",
       "        text-align: right;\n",
       "    }\n",
       "</style>\n",
       "<table border=\"1\" class=\"dataframe\">\n",
       "  <thead>\n",
       "    <tr style=\"text-align: right;\">\n",
       "      <th></th>\n",
       "      <th>total_cup_points</th>\n",
       "      <th>species</th>\n",
       "      <th>owner</th>\n",
       "      <th>country_of_origin</th>\n",
       "      <th>farm_name</th>\n",
       "      <th>lot_number</th>\n",
       "      <th>mill</th>\n",
       "      <th>ico_number</th>\n",
       "      <th>company</th>\n",
       "      <th>altitude</th>\n",
       "      <th>...</th>\n",
       "      <th>color</th>\n",
       "      <th>category_two_defects</th>\n",
       "      <th>expiration</th>\n",
       "      <th>certification_body</th>\n",
       "      <th>certification_address</th>\n",
       "      <th>certification_contact</th>\n",
       "      <th>unit_of_measurement</th>\n",
       "      <th>altitude_low_meters</th>\n",
       "      <th>altitude_high_meters</th>\n",
       "      <th>altitude_mean_meters</th>\n",
       "    </tr>\n",
       "  </thead>\n",
       "  <tbody>\n",
       "    <tr>\n",
       "      <th>575</th>\n",
       "      <td>82.83</td>\n",
       "      <td>Arabica</td>\n",
       "      <td>juan luis alvarado romero</td>\n",
       "      <td>Guatemala</td>\n",
       "      <td>agropecuaria quiagral</td>\n",
       "      <td>None</td>\n",
       "      <td>beneficio ixchel</td>\n",
       "      <td>11/23/0934</td>\n",
       "      <td>unex guatemala, s.a.</td>\n",
       "      <td>4300</td>\n",
       "      <td>...</td>\n",
       "      <td>Green</td>\n",
       "      <td>10.0</td>\n",
       "      <td>July 9th, 2013</td>\n",
       "      <td>Asociacion Nacional Del Café</td>\n",
       "      <td>b1f20fe3a819fd6b2ee0eb8fdc3da256604f1e53</td>\n",
       "      <td>724f04ad10ed31dbb9d260f0dfd221ba48be8a95</td>\n",
       "      <td>ft</td>\n",
       "      <td>1310.64</td>\n",
       "      <td>1310.64</td>\n",
       "      <td>1310.64</td>\n",
       "    </tr>\n",
       "    <tr>\n",
       "      <th>560</th>\n",
       "      <td>82.83</td>\n",
       "      <td>Arabica</td>\n",
       "      <td>juan luis alvarado romero</td>\n",
       "      <td>Guatemala</td>\n",
       "      <td>piamonte</td>\n",
       "      <td>11/23/0513</td>\n",
       "      <td>beneficio ixchel</td>\n",
       "      <td>11/23/0513</td>\n",
       "      <td>unex guatemala, s.a.</td>\n",
       "      <td>1700</td>\n",
       "      <td>...</td>\n",
       "      <td>Green</td>\n",
       "      <td>2.0</td>\n",
       "      <td>June 22nd, 2018</td>\n",
       "      <td>Asociacion Nacional Del Café</td>\n",
       "      <td>b1f20fe3a819fd6b2ee0eb8fdc3da256604f1e53</td>\n",
       "      <td>724f04ad10ed31dbb9d260f0dfd221ba48be8a95</td>\n",
       "      <td>m</td>\n",
       "      <td>1700.00</td>\n",
       "      <td>1700.00</td>\n",
       "      <td>1700.00</td>\n",
       "    </tr>\n",
       "    <tr>\n",
       "      <th>524</th>\n",
       "      <td>83.00</td>\n",
       "      <td>Arabica</td>\n",
       "      <td>juan luis alvarado romero</td>\n",
       "      <td>Guatemala</td>\n",
       "      <td>la igualdad</td>\n",
       "      <td>None</td>\n",
       "      <td>beneficio la igualdad</td>\n",
       "      <td>11/194/07</td>\n",
       "      <td>nuevos mercados, s.a.</td>\n",
       "      <td>4500</td>\n",
       "      <td>...</td>\n",
       "      <td>Green</td>\n",
       "      <td>2.0</td>\n",
       "      <td>April 27th, 2013</td>\n",
       "      <td>Asociacion Nacional Del Café</td>\n",
       "      <td>b1f20fe3a819fd6b2ee0eb8fdc3da256604f1e53</td>\n",
       "      <td>724f04ad10ed31dbb9d260f0dfd221ba48be8a95</td>\n",
       "      <td>ft</td>\n",
       "      <td>1371.60</td>\n",
       "      <td>1371.60</td>\n",
       "      <td>1371.60</td>\n",
       "    </tr>\n",
       "    <tr>\n",
       "      <th>1140</th>\n",
       "      <td>79.83</td>\n",
       "      <td>Arabica</td>\n",
       "      <td>juan luis alvarado romero</td>\n",
       "      <td>Guatemala</td>\n",
       "      <td>piamonte</td>\n",
       "      <td>11/23/0639</td>\n",
       "      <td>beneficio ixchel</td>\n",
       "      <td>11/23/0639</td>\n",
       "      <td>unex guatemala, s.a.</td>\n",
       "      <td>1700</td>\n",
       "      <td>...</td>\n",
       "      <td>Green</td>\n",
       "      <td>2.0</td>\n",
       "      <td>August 22nd, 2018</td>\n",
       "      <td>Asociacion Nacional Del Café</td>\n",
       "      <td>b1f20fe3a819fd6b2ee0eb8fdc3da256604f1e53</td>\n",
       "      <td>724f04ad10ed31dbb9d260f0dfd221ba48be8a95</td>\n",
       "      <td>m</td>\n",
       "      <td>1700.00</td>\n",
       "      <td>1700.00</td>\n",
       "      <td>1700.00</td>\n",
       "    </tr>\n",
       "    <tr>\n",
       "      <th>318</th>\n",
       "      <td>83.67</td>\n",
       "      <td>Arabica</td>\n",
       "      <td>ipanema coffees</td>\n",
       "      <td>Brazil</td>\n",
       "      <td>capoeirinha</td>\n",
       "      <td>008/16A</td>\n",
       "      <td>dry mill</td>\n",
       "      <td>002/1660/0106</td>\n",
       "      <td>ipanema coffees</td>\n",
       "      <td>934</td>\n",
       "      <td>...</td>\n",
       "      <td>Green</td>\n",
       "      <td>3.0</td>\n",
       "      <td>August 16th, 2017</td>\n",
       "      <td>Brazil Specialty Coffee Association</td>\n",
       "      <td>3297cfa4c538e3dd03f72cc4082c54f7999e1f9d</td>\n",
       "      <td>8900f0bf1d0b2bafe6807a73562c7677d57eb980</td>\n",
       "      <td>m</td>\n",
       "      <td>934.00</td>\n",
       "      <td>934.00</td>\n",
       "      <td>934.00</td>\n",
       "    </tr>\n",
       "    <tr>\n",
       "      <th>1032</th>\n",
       "      <td>80.83</td>\n",
       "      <td>Arabica</td>\n",
       "      <td>luis roberto fermoso beltran</td>\n",
       "      <td>Mexico</td>\n",
       "      <td>la victoria pante nubes</td>\n",
       "      <td>None</td>\n",
       "      <td>predio santo domingo</td>\n",
       "      <td>1506717737</td>\n",
       "      <td>productora rural la victoria s.p.r. de r.l.</td>\n",
       "      <td>1210</td>\n",
       "      <td>...</td>\n",
       "      <td>Green</td>\n",
       "      <td>7.0</td>\n",
       "      <td>August 30th, 2013</td>\n",
       "      <td>AMECAFE</td>\n",
       "      <td>59e396ad6e22a1c22b248f958e1da2bd8af85272</td>\n",
       "      <td>0eb4ee5b3f47b20b049548a2fd1e7d4a2b70d0a7</td>\n",
       "      <td>m</td>\n",
       "      <td>1210.00</td>\n",
       "      <td>1210.00</td>\n",
       "      <td>1210.00</td>\n",
       "    </tr>\n",
       "    <tr>\n",
       "      <th>566</th>\n",
       "      <td>82.83</td>\n",
       "      <td>Arabica</td>\n",
       "      <td>cafebras</td>\n",
       "      <td>Brazil</td>\n",
       "      <td>santa fé 2</td>\n",
       "      <td>None</td>\n",
       "      <td>via seca</td>\n",
       "      <td>002/1495/0695</td>\n",
       "      <td>cafebras comercio de cafés do brasil sa</td>\n",
       "      <td>900</td>\n",
       "      <td>...</td>\n",
       "      <td>Green</td>\n",
       "      <td>6.0</td>\n",
       "      <td>May 25th, 2016</td>\n",
       "      <td>Brazil Specialty Coffee Association</td>\n",
       "      <td>3297cfa4c538e3dd03f72cc4082c54f7999e1f9d</td>\n",
       "      <td>8900f0bf1d0b2bafe6807a73562c7677d57eb980</td>\n",
       "      <td>m</td>\n",
       "      <td>900.00</td>\n",
       "      <td>900.00</td>\n",
       "      <td>900.00</td>\n",
       "    </tr>\n",
       "    <tr>\n",
       "      <th>965</th>\n",
       "      <td>81.25</td>\n",
       "      <td>Arabica</td>\n",
       "      <td>cadexsa</td>\n",
       "      <td>Honduras</td>\n",
       "      <td>cerro bueno</td>\n",
       "      <td>None</td>\n",
       "      <td>cadexsa</td>\n",
       "      <td>13-63-301</td>\n",
       "      <td>cadexsa</td>\n",
       "      <td>1400 msn</td>\n",
       "      <td>...</td>\n",
       "      <td>Green</td>\n",
       "      <td>1.0</td>\n",
       "      <td>May 11th, 2016</td>\n",
       "      <td>Instituto Hondureño del Café</td>\n",
       "      <td>b4660a57e9f8cc613ae5b8f02bfce8634c763ab4</td>\n",
       "      <td>7f521ca403540f81ec99daec7da19c2788393880</td>\n",
       "      <td>m</td>\n",
       "      <td>1400.00</td>\n",
       "      <td>1400.00</td>\n",
       "      <td>1400.00</td>\n",
       "    </tr>\n",
       "    <tr>\n",
       "      <th>1135</th>\n",
       "      <td>79.92</td>\n",
       "      <td>Arabica</td>\n",
       "      <td>montegrande</td>\n",
       "      <td>Mexico</td>\n",
       "      <td>finca monte grande</td>\n",
       "      <td>None</td>\n",
       "      <td>finca montegrande, jaltenango</td>\n",
       "      <td>0</td>\n",
       "      <td>None</td>\n",
       "      <td>1100</td>\n",
       "      <td>...</td>\n",
       "      <td>Green</td>\n",
       "      <td>3.0</td>\n",
       "      <td>July 26th, 2013</td>\n",
       "      <td>AMECAFE</td>\n",
       "      <td>59e396ad6e22a1c22b248f958e1da2bd8af85272</td>\n",
       "      <td>0eb4ee5b3f47b20b049548a2fd1e7d4a2b70d0a7</td>\n",
       "      <td>m</td>\n",
       "      <td>1100.00</td>\n",
       "      <td>1100.00</td>\n",
       "      <td>1100.00</td>\n",
       "    </tr>\n",
       "    <tr>\n",
       "      <th>58</th>\n",
       "      <td>85.83</td>\n",
       "      <td>Arabica</td>\n",
       "      <td>juan luis alvarado romero</td>\n",
       "      <td>Guatemala</td>\n",
       "      <td>finca el limon</td>\n",
       "      <td>None</td>\n",
       "      <td>beneficio serben</td>\n",
       "      <td>11-853-155</td>\n",
       "      <td>unicafe</td>\n",
       "      <td>4650</td>\n",
       "      <td>...</td>\n",
       "      <td>Bluish-Green</td>\n",
       "      <td>1.0</td>\n",
       "      <td>June 5th, 2013</td>\n",
       "      <td>Asociacion Nacional Del Café</td>\n",
       "      <td>b1f20fe3a819fd6b2ee0eb8fdc3da256604f1e53</td>\n",
       "      <td>724f04ad10ed31dbb9d260f0dfd221ba48be8a95</td>\n",
       "      <td>ft</td>\n",
       "      <td>1417.32</td>\n",
       "      <td>1417.32</td>\n",
       "      <td>1417.32</td>\n",
       "    </tr>\n",
       "    <tr>\n",
       "      <th>960</th>\n",
       "      <td>81.33</td>\n",
       "      <td>Arabica</td>\n",
       "      <td>hector gabriel barreda nader</td>\n",
       "      <td>Mexico</td>\n",
       "      <td>cruz verde</td>\n",
       "      <td>None</td>\n",
       "      <td>cruz verde</td>\n",
       "      <td>0</td>\n",
       "      <td>None</td>\n",
       "      <td>1000</td>\n",
       "      <td>...</td>\n",
       "      <td>None</td>\n",
       "      <td>4.0</td>\n",
       "      <td>July 11th, 2013</td>\n",
       "      <td>AMECAFE</td>\n",
       "      <td>59e396ad6e22a1c22b248f958e1da2bd8af85272</td>\n",
       "      <td>0eb4ee5b3f47b20b049548a2fd1e7d4a2b70d0a7</td>\n",
       "      <td>m</td>\n",
       "      <td>1000.00</td>\n",
       "      <td>1000.00</td>\n",
       "      <td>1000.00</td>\n",
       "    </tr>\n",
       "    <tr>\n",
       "      <th>1196</th>\n",
       "      <td>79.08</td>\n",
       "      <td>Arabica</td>\n",
       "      <td>balbino ramirez flores</td>\n",
       "      <td>Mexico</td>\n",
       "      <td>el desmoronado</td>\n",
       "      <td>None</td>\n",
       "      <td>el desmoronado</td>\n",
       "      <td>0</td>\n",
       "      <td>None</td>\n",
       "      <td>1200</td>\n",
       "      <td>...</td>\n",
       "      <td>Bluish-Green</td>\n",
       "      <td>0.0</td>\n",
       "      <td>July 3rd, 2013</td>\n",
       "      <td>AMECAFE</td>\n",
       "      <td>59e396ad6e22a1c22b248f958e1da2bd8af85272</td>\n",
       "      <td>0eb4ee5b3f47b20b049548a2fd1e7d4a2b70d0a7</td>\n",
       "      <td>m</td>\n",
       "      <td>1200.00</td>\n",
       "      <td>1200.00</td>\n",
       "      <td>1200.00</td>\n",
       "    </tr>\n",
       "    <tr>\n",
       "      <th>897</th>\n",
       "      <td>81.58</td>\n",
       "      <td>Arabica</td>\n",
       "      <td>lin, che-hao krude 林哲豪</td>\n",
       "      <td>Taiwan</td>\n",
       "      <td>baishengcun coffee 百勝村咖啡莊園</td>\n",
       "      <td>2016 Washed</td>\n",
       "      <td>baishengcun coffee 百勝村咖啡莊園</td>\n",
       "      <td>Taiwan</td>\n",
       "      <td>taiwan coffee laboratory</td>\n",
       "      <td>800</td>\n",
       "      <td>...</td>\n",
       "      <td>Blue-Green</td>\n",
       "      <td>0.0</td>\n",
       "      <td>July 15th, 2017</td>\n",
       "      <td>Specialty Coffee Association</td>\n",
       "      <td>36d0d00a3724338ba7937c52a378d085f2172daa</td>\n",
       "      <td>0878a7d4b9d35ddbf0fe2ce69a2062cceb45a660</td>\n",
       "      <td>m</td>\n",
       "      <td>800.00</td>\n",
       "      <td>800.00</td>\n",
       "      <td>800.00</td>\n",
       "    </tr>\n",
       "    <tr>\n",
       "      <th>423</th>\n",
       "      <td>83.25</td>\n",
       "      <td>Arabica</td>\n",
       "      <td>productos y servicios chilindron s.a. de c.v.</td>\n",
       "      <td>Mexico</td>\n",
       "      <td>los charcos</td>\n",
       "      <td>None</td>\n",
       "      <td>la yerba</td>\n",
       "      <td>3</td>\n",
       "      <td>productos y servicios chilindron s.a. de c.v.</td>\n",
       "      <td>1261</td>\n",
       "      <td>...</td>\n",
       "      <td>Bluish-Green</td>\n",
       "      <td>2.0</td>\n",
       "      <td>July 13th, 2016</td>\n",
       "      <td>Asociación Mexicana De Cafés y Cafeterías De E...</td>\n",
       "      <td>3441698871fa609a44ce947e8944ee42eb4428b9</td>\n",
       "      <td>9894541e8065ee718165a1d432389d114defc38c</td>\n",
       "      <td>m</td>\n",
       "      <td>1261.00</td>\n",
       "      <td>1261.00</td>\n",
       "      <td>1261.00</td>\n",
       "    </tr>\n",
       "    <tr>\n",
       "      <th>470</th>\n",
       "      <td>83.17</td>\n",
       "      <td>Arabica</td>\n",
       "      <td>alfredo bojalil</td>\n",
       "      <td>Mexico</td>\n",
       "      <td>finca nueva linda</td>\n",
       "      <td>None</td>\n",
       "      <td>agroindustrias unidas de mexico</td>\n",
       "      <td>2222</td>\n",
       "      <td>ecomtrading</td>\n",
       "      <td>1380</td>\n",
       "      <td>...</td>\n",
       "      <td>None</td>\n",
       "      <td>5.0</td>\n",
       "      <td>June 6th, 2013</td>\n",
       "      <td>AMECAFE</td>\n",
       "      <td>59e396ad6e22a1c22b248f958e1da2bd8af85272</td>\n",
       "      <td>0eb4ee5b3f47b20b049548a2fd1e7d4a2b70d0a7</td>\n",
       "      <td>m</td>\n",
       "      <td>1380.00</td>\n",
       "      <td>1380.00</td>\n",
       "      <td>1380.00</td>\n",
       "    </tr>\n",
       "  </tbody>\n",
       "</table>\n",
       "<p>15 rows × 43 columns</p>\n",
       "</div>"
      ],
      "text/plain": [
       "      total_cup_points  species  \\\n",
       "575              82.83  Arabica   \n",
       "560              82.83  Arabica   \n",
       "524              83.00  Arabica   \n",
       "1140             79.83  Arabica   \n",
       "318              83.67  Arabica   \n",
       "1032             80.83  Arabica   \n",
       "566              82.83  Arabica   \n",
       "965              81.25  Arabica   \n",
       "1135             79.92  Arabica   \n",
       "58               85.83  Arabica   \n",
       "960              81.33  Arabica   \n",
       "1196             79.08  Arabica   \n",
       "897              81.58  Arabica   \n",
       "423              83.25  Arabica   \n",
       "470              83.17  Arabica   \n",
       "\n",
       "                                              owner country_of_origin  \\\n",
       "575                       juan luis alvarado romero         Guatemala   \n",
       "560                       juan luis alvarado romero         Guatemala   \n",
       "524                       juan luis alvarado romero         Guatemala   \n",
       "1140                      juan luis alvarado romero         Guatemala   \n",
       "318                                 ipanema coffees            Brazil   \n",
       "1032                   luis roberto fermoso beltran            Mexico   \n",
       "566                                        cafebras            Brazil   \n",
       "965                                         cadexsa          Honduras   \n",
       "1135                                    montegrande            Mexico   \n",
       "58                        juan luis alvarado romero         Guatemala   \n",
       "960                    hector gabriel barreda nader            Mexico   \n",
       "1196                         balbino ramirez flores            Mexico   \n",
       "897                          lin, che-hao krude 林哲豪            Taiwan   \n",
       "423   productos y servicios chilindron s.a. de c.v.            Mexico   \n",
       "470                                 alfredo bojalil            Mexico   \n",
       "\n",
       "                       farm_name   lot_number  \\\n",
       "575        agropecuaria quiagral         None   \n",
       "560                     piamonte   11/23/0513   \n",
       "524                  la igualdad         None   \n",
       "1140                    piamonte   11/23/0639   \n",
       "318                  capoeirinha      008/16A   \n",
       "1032     la victoria pante nubes         None   \n",
       "566                   santa fé 2         None   \n",
       "965                  cerro bueno         None   \n",
       "1135          finca monte grande         None   \n",
       "58                finca el limon         None   \n",
       "960                   cruz verde         None   \n",
       "1196              el desmoronado         None   \n",
       "897   baishengcun coffee 百勝村咖啡莊園  2016 Washed   \n",
       "423                  los charcos         None   \n",
       "470            finca nueva linda         None   \n",
       "\n",
       "                                 mill     ico_number  \\\n",
       "575                  beneficio ixchel     11/23/0934   \n",
       "560                  beneficio ixchel     11/23/0513   \n",
       "524             beneficio la igualdad      11/194/07   \n",
       "1140                 beneficio ixchel     11/23/0639   \n",
       "318                          dry mill  002/1660/0106   \n",
       "1032             predio santo domingo     1506717737   \n",
       "566                          via seca  002/1495/0695   \n",
       "965                           cadexsa      13-63-301   \n",
       "1135    finca montegrande, jaltenango              0   \n",
       "58                   beneficio serben     11-853-155   \n",
       "960                        cruz verde              0   \n",
       "1196                   el desmoronado              0   \n",
       "897        baishengcun coffee 百勝村咖啡莊園         Taiwan   \n",
       "423                          la yerba              3   \n",
       "470   agroindustrias unidas de mexico           2222   \n",
       "\n",
       "                                            company  altitude  ...  \\\n",
       "575                            unex guatemala, s.a.      4300  ...   \n",
       "560                            unex guatemala, s.a.      1700  ...   \n",
       "524                           nuevos mercados, s.a.      4500  ...   \n",
       "1140                           unex guatemala, s.a.      1700  ...   \n",
       "318                                 ipanema coffees       934  ...   \n",
       "1032    productora rural la victoria s.p.r. de r.l.      1210  ...   \n",
       "566         cafebras comercio de cafés do brasil sa       900  ...   \n",
       "965                                         cadexsa  1400 msn  ...   \n",
       "1135                                           None      1100  ...   \n",
       "58                                          unicafe      4650  ...   \n",
       "960                                            None      1000  ...   \n",
       "1196                                           None      1200  ...   \n",
       "897                        taiwan coffee laboratory       800  ...   \n",
       "423   productos y servicios chilindron s.a. de c.v.      1261  ...   \n",
       "470                                     ecomtrading      1380  ...   \n",
       "\n",
       "             color category_two_defects         expiration  \\\n",
       "575          Green                 10.0     July 9th, 2013   \n",
       "560          Green                  2.0    June 22nd, 2018   \n",
       "524          Green                  2.0   April 27th, 2013   \n",
       "1140         Green                  2.0  August 22nd, 2018   \n",
       "318          Green                  3.0  August 16th, 2017   \n",
       "1032         Green                  7.0  August 30th, 2013   \n",
       "566          Green                  6.0     May 25th, 2016   \n",
       "965          Green                  1.0     May 11th, 2016   \n",
       "1135         Green                  3.0    July 26th, 2013   \n",
       "58    Bluish-Green                  1.0     June 5th, 2013   \n",
       "960           None                  4.0    July 11th, 2013   \n",
       "1196  Bluish-Green                  0.0     July 3rd, 2013   \n",
       "897     Blue-Green                  0.0    July 15th, 2017   \n",
       "423   Bluish-Green                  2.0    July 13th, 2016   \n",
       "470           None                  5.0     June 6th, 2013   \n",
       "\n",
       "                                     certification_body  \\\n",
       "575                        Asociacion Nacional Del Café   \n",
       "560                        Asociacion Nacional Del Café   \n",
       "524                        Asociacion Nacional Del Café   \n",
       "1140                       Asociacion Nacional Del Café   \n",
       "318                 Brazil Specialty Coffee Association   \n",
       "1032                                            AMECAFE   \n",
       "566                 Brazil Specialty Coffee Association   \n",
       "965                        Instituto Hondureño del Café   \n",
       "1135                                            AMECAFE   \n",
       "58                         Asociacion Nacional Del Café   \n",
       "960                                             AMECAFE   \n",
       "1196                                            AMECAFE   \n",
       "897                        Specialty Coffee Association   \n",
       "423   Asociación Mexicana De Cafés y Cafeterías De E...   \n",
       "470                                             AMECAFE   \n",
       "\n",
       "                         certification_address  \\\n",
       "575   b1f20fe3a819fd6b2ee0eb8fdc3da256604f1e53   \n",
       "560   b1f20fe3a819fd6b2ee0eb8fdc3da256604f1e53   \n",
       "524   b1f20fe3a819fd6b2ee0eb8fdc3da256604f1e53   \n",
       "1140  b1f20fe3a819fd6b2ee0eb8fdc3da256604f1e53   \n",
       "318   3297cfa4c538e3dd03f72cc4082c54f7999e1f9d   \n",
       "1032  59e396ad6e22a1c22b248f958e1da2bd8af85272   \n",
       "566   3297cfa4c538e3dd03f72cc4082c54f7999e1f9d   \n",
       "965   b4660a57e9f8cc613ae5b8f02bfce8634c763ab4   \n",
       "1135  59e396ad6e22a1c22b248f958e1da2bd8af85272   \n",
       "58    b1f20fe3a819fd6b2ee0eb8fdc3da256604f1e53   \n",
       "960   59e396ad6e22a1c22b248f958e1da2bd8af85272   \n",
       "1196  59e396ad6e22a1c22b248f958e1da2bd8af85272   \n",
       "897   36d0d00a3724338ba7937c52a378d085f2172daa   \n",
       "423   3441698871fa609a44ce947e8944ee42eb4428b9   \n",
       "470   59e396ad6e22a1c22b248f958e1da2bd8af85272   \n",
       "\n",
       "                         certification_contact unit_of_measurement  \\\n",
       "575   724f04ad10ed31dbb9d260f0dfd221ba48be8a95                  ft   \n",
       "560   724f04ad10ed31dbb9d260f0dfd221ba48be8a95                   m   \n",
       "524   724f04ad10ed31dbb9d260f0dfd221ba48be8a95                  ft   \n",
       "1140  724f04ad10ed31dbb9d260f0dfd221ba48be8a95                   m   \n",
       "318   8900f0bf1d0b2bafe6807a73562c7677d57eb980                   m   \n",
       "1032  0eb4ee5b3f47b20b049548a2fd1e7d4a2b70d0a7                   m   \n",
       "566   8900f0bf1d0b2bafe6807a73562c7677d57eb980                   m   \n",
       "965   7f521ca403540f81ec99daec7da19c2788393880                   m   \n",
       "1135  0eb4ee5b3f47b20b049548a2fd1e7d4a2b70d0a7                   m   \n",
       "58    724f04ad10ed31dbb9d260f0dfd221ba48be8a95                  ft   \n",
       "960   0eb4ee5b3f47b20b049548a2fd1e7d4a2b70d0a7                   m   \n",
       "1196  0eb4ee5b3f47b20b049548a2fd1e7d4a2b70d0a7                   m   \n",
       "897   0878a7d4b9d35ddbf0fe2ce69a2062cceb45a660                   m   \n",
       "423   9894541e8065ee718165a1d432389d114defc38c                   m   \n",
       "470   0eb4ee5b3f47b20b049548a2fd1e7d4a2b70d0a7                   m   \n",
       "\n",
       "     altitude_low_meters altitude_high_meters altitude_mean_meters  \n",
       "575              1310.64              1310.64              1310.64  \n",
       "560              1700.00              1700.00              1700.00  \n",
       "524              1371.60              1371.60              1371.60  \n",
       "1140             1700.00              1700.00              1700.00  \n",
       "318               934.00               934.00               934.00  \n",
       "1032             1210.00              1210.00              1210.00  \n",
       "566               900.00               900.00               900.00  \n",
       "965              1400.00              1400.00              1400.00  \n",
       "1135             1100.00              1100.00              1100.00  \n",
       "58               1417.32              1417.32              1417.32  \n",
       "960              1000.00              1000.00              1000.00  \n",
       "1196             1200.00              1200.00              1200.00  \n",
       "897               800.00               800.00               800.00  \n",
       "423              1261.00              1261.00              1261.00  \n",
       "470              1380.00              1380.00              1380.00  \n",
       "\n",
       "[15 rows x 43 columns]"
      ]
     },
     "execution_count": 45,
     "metadata": {},
     "output_type": "execute_result"
    }
   ],
   "source": [
    "variety_condition = coffee_ratings['variety'].isin(varieties_samp)\n",
    "coffee_ratings_cluster = coffee_ratings[variety_condition]\n",
    "coffee_ratings_cluster['variety'] = coffee_ratings_cluster['variety'].astype('category')\n",
    "coffee_ratings_cluster['variety'] = coffee_ratings_cluster['variety'].cat.remove_unused_categories()\n",
    "\n",
    "coffee_ratings_cluster.groupby(\"variety\")\\\n",
    ".sample(n=5, random_state=2021)"
   ]
  },
  {
   "cell_type": "markdown",
   "metadata": {},
   "source": [
    "Performing cluster sampling\n",
    "Now that you know when to use cluster sampling, it's time to put it into action. In this exercise, you'll explore the JobRole column of the attrition dataset. You can think of each job role as a subgroup of the whole population of employees.\n",
    "\n",
    "attrition_pop is available; pandas is loaded with its usual alias, and the random package is available. A seed of 19790801 has also been set with random.seed()."
   ]
  },
  {
   "cell_type": "code",
   "execution_count": 46,
   "metadata": {},
   "outputs": [
    {
     "name": "stdout",
     "output_type": "stream",
     "text": [
      "['Research_Scientist', 'Sales_Representative', 'Laboratory_Technician', 'Human_Resources', 'Sales_Executive', 'Manufacturing_Director', 'Healthcare_Representative', 'Research_Director', 'Manager']\n",
      "['Research_Director', 'Research_Scientist', 'Human_Resources', 'Manager']\n"
     ]
    }
   ],
   "source": [
    "random.seed(19790801)\n",
    "\n",
    "# Create a list of unique JobRole values\n",
    "job_roles_pop = list(attrition_pop['JobRole'].unique())\n",
    "print(job_roles_pop)\n",
    "\n",
    "# Randomly sample four JobRole values\n",
    "job_roles_samp = random.sample(job_roles_pop, k=4)\n",
    "\n",
    "# Print the result\n",
    "print(job_roles_samp)"
   ]
  },
  {
   "cell_type": "code",
   "execution_count": 47,
   "metadata": {},
   "outputs": [
    {
     "name": "stdout",
     "output_type": "stream",
     "text": [
      "      Age  Attrition     BusinessTravel  DailyRate            Department  \\\n",
      "30     19        1.0      Travel_Rarely        489       Human_Resources   \n",
      "77     24        1.0      Travel_Rarely        240       Human_Resources   \n",
      "81     29        0.0      Travel_Rarely        352       Human_Resources   \n",
      "88     27        1.0  Travel_Frequently       1337       Human_Resources   \n",
      "116    34        1.0      Travel_Rarely       1107       Human_Resources   \n",
      "...   ...        ...                ...        ...                   ...   \n",
      "1458   56        0.0  Travel_Frequently        906                 Sales   \n",
      "1459   54        0.0      Travel_Rarely        685  Research_Development   \n",
      "1467   58        0.0      Travel_Rarely        682                 Sales   \n",
      "1468   58        1.0      Travel_Rarely        147  Research_Development   \n",
      "1469   58        1.0      Travel_Rarely        286  Research_Development   \n",
      "\n",
      "      DistanceFromHome      Education    EducationField  \\\n",
      "30                   2        College  Technical_Degree   \n",
      "77                  22  Below_College   Human_Resources   \n",
      "81                   6  Below_College           Medical   \n",
      "88                  22       Bachelor   Human_Resources   \n",
      "116                  9         Master  Technical_Degree   \n",
      "...                ...            ...               ...   \n",
      "1458                 6       Bachelor     Life_Sciences   \n",
      "1459                 3       Bachelor     Life_Sciences   \n",
      "1467                10         Master           Medical   \n",
      "1468                23         Master           Medical   \n",
      "1469                 2         Master     Life_Sciences   \n",
      "\n",
      "     EnvironmentSatisfaction  Gender  ...  PerformanceRating  \\\n",
      "30                       Low    Male  ...          Excellent   \n",
      "77                 Very_High    Male  ...          Excellent   \n",
      "81                 Very_High    Male  ...          Excellent   \n",
      "88                       Low  Female  ...          Excellent   \n",
      "116                      Low  Female  ...          Excellent   \n",
      "...                      ...     ...  ...                ...   \n",
      "1458                    High  Female  ...          Excellent   \n",
      "1459               Very_High    Male  ...          Excellent   \n",
      "1467               Very_High    Male  ...          Excellent   \n",
      "1468               Very_High  Female  ...          Excellent   \n",
      "1469               Very_High    Male  ...          Excellent   \n",
      "\n",
      "     RelationshipSatisfaction  StockOptionLevel TotalWorkingYears  \\\n",
      "30                       High                 0                 1   \n",
      "77                       High                 1                 1   \n",
      "81                  Very_High                 0                 1   \n",
      "88                        Low                 0                 1   \n",
      "116                 Very_High                 0                 2   \n",
      "...                       ...               ...               ...   \n",
      "1458                Very_High                 3                36   \n",
      "1459                      Low                 0                36   \n",
      "1467                     High                 0                38   \n",
      "1468                Very_High                 1                40   \n",
      "1469                Very_High                 0                40   \n",
      "\n",
      "     TrainingTimesLastYear WorkLifeBalance  YearsAtCompany  \\\n",
      "30                       3            Best               1   \n",
      "77                       2          Better               1   \n",
      "81                       3          Better               1   \n",
      "88                       2          Better               1   \n",
      "116                      0          Better               2   \n",
      "...                    ...             ...             ...   \n",
      "1458                     0            Good               7   \n",
      "1459                     2          Better              10   \n",
      "1467                     1            Good              37   \n",
      "1468                     3            Good              40   \n",
      "1469                     2          Better              31   \n",
      "\n",
      "      YearsInCurrentRole  YearsSinceLastPromotion YearsWithCurrManager  \n",
      "30                     0                        0                    0  \n",
      "77                     0                        0                    0  \n",
      "81                     0                        0                    0  \n",
      "88                     0                        0                    0  \n",
      "116                    2                        2                    2  \n",
      "...                  ...                      ...                  ...  \n",
      "1458                   7                        7                    7  \n",
      "1459                   9                        0                    9  \n",
      "1467                  10                        1                    8  \n",
      "1468                  10                       15                    6  \n",
      "1469                  15                       13                    8  \n",
      "\n",
      "[589 rows x 31 columns]\n"
     ]
    }
   ],
   "source": [
    "# Create a list of unique JobRole values\n",
    "job_roles_pop = list(attrition_pop['JobRole'].unique())\n",
    "\n",
    "# Randomly sample four JobRole values\n",
    "job_roles_samp = random.sample(job_roles_pop, k=4)\n",
    "\n",
    "# Filter for rows where JobRole is in job_roles_samp\n",
    "jobrole_condition = attrition_pop['JobRole'].isin(job_roles_samp)\n",
    "attrition_filtered = attrition_pop[jobrole_condition]\n",
    "\n",
    "# Print the result\n",
    "print(attrition_filtered)"
   ]
  },
  {
   "cell_type": "code",
   "execution_count": 48,
   "metadata": {},
   "outputs": [
    {
     "name": "stdout",
     "output_type": "stream",
     "text": [
      "      Age  Attrition     BusinessTravel  DailyRate            Department  \\\n",
      "1380   44        0.0      Travel_Rarely       1099                 Sales   \n",
      "1395   46        0.0      Travel_Rarely        488                 Sales   \n",
      "1300   42        0.0      Travel_Rarely        532  Research_Development   \n",
      "1271   39        0.0      Travel_Rarely        117  Research_Development   \n",
      "1354   42        0.0      Travel_Rarely       1059  Research_Development   \n",
      "858    32        0.0      Travel_Rarely        495  Research_Development   \n",
      "1417   59        0.0         Non-Travel       1420       Human_Resources   \n",
      "1307   41        0.0      Travel_Rarely       1276                 Sales   \n",
      "1377   52        0.0      Travel_Rarely       1053  Research_Development   \n",
      "1388   50        0.0      Travel_Rarely        264                 Sales   \n",
      "1463   56        0.0      Travel_Rarely       1400  Research_Development   \n",
      "464    46        0.0         Non-Travel       1144  Research_Development   \n",
      "1313   54        0.0      Travel_Rarely       1441  Research_Development   \n",
      "1203   36        0.0      Travel_Rarely        429  Research_Development   \n",
      "1427   52        0.0  Travel_Frequently        890  Research_Development   \n",
      "1188   37        0.0      Travel_Rarely       1305  Research_Development   \n",
      "453    49        0.0         Non-Travel       1002  Research_Development   \n",
      "1200   43        0.0  Travel_Frequently       1082  Research_Development   \n",
      "876    38        0.0      Travel_Rarely        397  Research_Development   \n",
      "1176   36        0.0      Travel_Rarely        363  Research_Development   \n",
      "1344   54        0.0      Travel_Rarely        821  Research_Development   \n",
      "1126   42        0.0      Travel_Rarely        810  Research_Development   \n",
      "1437   50        0.0      Travel_Rarely       1126  Research_Development   \n",
      "1252   42        0.0  Travel_Frequently        458  Research_Development   \n",
      "1457   55        0.0      Travel_Rarely        692  Research_Development   \n",
      "664    27        0.0      Travel_Rarely        269  Research_Development   \n",
      "1216   38        0.0      Travel_Rarely        849  Research_Development   \n",
      "1362   43        0.0      Travel_Rarely        982  Research_Development   \n",
      "790    36        0.0         Non-Travel        427  Research_Development   \n",
      "1335   44        0.0      Travel_Rarely       1313  Research_Development   \n",
      "268    29        1.0      Travel_Rarely        341                 Sales   \n",
      "1011   37        0.0  Travel_Frequently        319                 Sales   \n",
      "406    35        0.0      Travel_Rarely       1402                 Sales   \n",
      "154    31        1.0  Travel_Frequently        703                 Sales   \n",
      "109    20        0.0      Travel_Rarely        654                 Sales   \n",
      "104    20        1.0  Travel_Frequently        769                 Sales   \n",
      "169    41        1.0      Travel_Rarely       1356                 Sales   \n",
      "330    34        0.0  Travel_Frequently        303                 Sales   \n",
      "1256   38        0.0      Travel_Rarely        723                 Sales   \n",
      "3      18        0.0      Travel_Rarely        812                 Sales   \n",
      "\n",
      "      DistanceFromHome      Education    EducationField  \\\n",
      "1380                 5       Bachelor         Marketing   \n",
      "1395                 2       Bachelor  Technical_Degree   \n",
      "1300                 4        College  Technical_Degree   \n",
      "1271                10  Below_College           Medical   \n",
      "1354                 9        College             Other   \n",
      "858                 10       Bachelor           Medical   \n",
      "1417                 2         Master   Human_Resources   \n",
      "1307                 2         Doctor     Life_Sciences   \n",
      "1377                 1        College     Life_Sciences   \n",
      "1388                 9       Bachelor         Marketing   \n",
      "1463                 7       Bachelor     Life_Sciences   \n",
      "464                  7         Master           Medical   \n",
      "1313                17       Bachelor  Technical_Degree   \n",
      "1203                 2         Master     Life_Sciences   \n",
      "1427                25         Master           Medical   \n",
      "1188                10         Master     Life_Sciences   \n",
      "453                 18         Master     Life_Sciences   \n",
      "1200                27       Bachelor     Life_Sciences   \n",
      "876                  2        College           Medical   \n",
      "1176                 1       Bachelor  Technical_Degree   \n",
      "1344                 5        College           Medical   \n",
      "1126                23         Doctor     Life_Sciences   \n",
      "1437                 1        College           Medical   \n",
      "1252                26         Doctor           Medical   \n",
      "1457                14         Master           Medical   \n",
      "664                  5  Below_College  Technical_Degree   \n",
      "1216                25        College     Life_Sciences   \n",
      "1362                12       Bachelor     Life_Sciences   \n",
      "790                  8       Bachelor     Life_Sciences   \n",
      "1335                 7       Bachelor           Medical   \n",
      "268                  1       Bachelor           Medical   \n",
      "1011                 4         Master         Marketing   \n",
      "406                 28         Master     Life_Sciences   \n",
      "154                  2       Bachelor     Life_Sciences   \n",
      "109                 21       Bachelor         Marketing   \n",
      "104                  9       Bachelor         Marketing   \n",
      "169                 20        College         Marketing   \n",
      "330                  2         Master         Marketing   \n",
      "1256                 2         Master         Marketing   \n",
      "3                   10       Bachelor           Medical   \n",
      "\n",
      "     EnvironmentSatisfaction  Gender  ...  PerformanceRating  \\\n",
      "1380                  Medium    Male  ...          Excellent   \n",
      "1395                    High  Female  ...          Excellent   \n",
      "1300                    High    Male  ...          Excellent   \n",
      "1271                    High    Male  ...          Excellent   \n",
      "1354               Very_High    Male  ...        Outstanding   \n",
      "858                     High    Male  ...        Outstanding   \n",
      "1417                    High  Female  ...        Outstanding   \n",
      "1307                  Medium  Female  ...          Excellent   \n",
      "1377               Very_High    Male  ...          Excellent   \n",
      "1388                    High    Male  ...          Excellent   \n",
      "1463               Very_High    Male  ...          Excellent   \n",
      "464                     High  Female  ...          Excellent   \n",
      "1313                    High  Female  ...          Excellent   \n",
      "1203                    High  Female  ...          Excellent   \n",
      "1427                    High  Female  ...        Outstanding   \n",
      "1188                    High    Male  ...          Excellent   \n",
      "453                Very_High    Male  ...          Excellent   \n",
      "1200                    High  Female  ...          Excellent   \n",
      "876                Very_High  Female  ...          Excellent   \n",
      "1176                    High  Female  ...        Outstanding   \n",
      "1344                     Low    Male  ...          Excellent   \n",
      "1126                     Low  Female  ...          Excellent   \n",
      "1437               Very_High    Male  ...        Outstanding   \n",
      "1252                     Low  Female  ...          Excellent   \n",
      "1457                    High    Male  ...          Excellent   \n",
      "664                     High    Male  ...          Excellent   \n",
      "1216                     Low  Female  ...          Excellent   \n",
      "1362                     Low    Male  ...          Excellent   \n",
      "790                      Low  Female  ...          Excellent   \n",
      "1335                  Medium  Female  ...          Excellent   \n",
      "268                   Medium  Female  ...          Excellent   \n",
      "1011                     Low    Male  ...          Excellent   \n",
      "406                   Medium  Female  ...        Outstanding   \n",
      "154                     High  Female  ...          Excellent   \n",
      "109                     High    Male  ...          Excellent   \n",
      "104                Very_High  Female  ...          Excellent   \n",
      "169                   Medium  Female  ...        Outstanding   \n",
      "330                     High  Female  ...          Excellent   \n",
      "1256                  Medium  Female  ...        Outstanding   \n",
      "3                  Very_High  Female  ...          Excellent   \n",
      "\n",
      "     RelationshipSatisfaction  StockOptionLevel TotalWorkingYears  \\\n",
      "1380                     High                 1                26   \n",
      "1395                   Medium                 1                28   \n",
      "1300                Very_High                 0                22   \n",
      "1271                Very_High                 0                21   \n",
      "1354                Very_High                 0                24   \n",
      "858                    Medium                 0                10   \n",
      "1417                Very_High                 1                30   \n",
      "1307                   Medium                 1                22   \n",
      "1377                   Medium                 1                26   \n",
      "1388                     High                 1                27   \n",
      "1463                      Low                 0                37   \n",
      "464                      High                 0                 7   \n",
      "1313                     High                 1                22   \n",
      "1203                Very_High                 0                18   \n",
      "1427                     High                 0                31   \n",
      "1188                Very_High                 0                18   \n",
      "453                       Low                 2                 7   \n",
      "1200                     High                 1                18   \n",
      "876                 Very_High                 1                10   \n",
      "1176                     High                 1                17   \n",
      "1344                     High                 1                24   \n",
      "1126                   Medium                 0                16   \n",
      "1437                     High                 1                32   \n",
      "1252                     High                 0                20   \n",
      "1457                Very_High                 0                36   \n",
      "664                    Medium                 1                 9   \n",
      "1216                     High                 1                19   \n",
      "1362                     High                 1                25   \n",
      "790                       Low                 1                10   \n",
      "1335                Very_High                 1                23   \n",
      "268                      High                 3                 5   \n",
      "1011                     High                 1                13   \n",
      "406                       Low                 2                 6   \n",
      "154                      High                 0                 3   \n",
      "109                 Very_High                 0                 2   \n",
      "104                    Medium                 0                 2   \n",
      "169                 Very_High                 0                 4   \n",
      "330                 Very_High                 1                 6   \n",
      "1256                      Low                 2                20   \n",
      "3                         Low                 0                 0   \n",
      "\n",
      "     TrainingTimesLastYear WorkLifeBalance  YearsAtCompany  \\\n",
      "1380                     5          Better              22   \n",
      "1395                     2            Good               7   \n",
      "1300                     3          Better              22   \n",
      "1271                     3          Better              21   \n",
      "1354                     2          Better               1   \n",
      "858                      5            Best               5   \n",
      "1417                     3          Better               3   \n",
      "1307                     2          Better              18   \n",
      "1377                     2            Good               9   \n",
      "1388                     2          Better               1   \n",
      "1463                     3            Good               6   \n",
      "464                      2            Best               1   \n",
      "1313                     2          Better              10   \n",
      "1203                     2          Better              16   \n",
      "1427                     3          Better               9   \n",
      "1188                     2            Good               1   \n",
      "453                      0          Better               7   \n",
      "1200                     1          Better               8   \n",
      "876                      6            Best               5   \n",
      "1176                     2          Better               7   \n",
      "1344                     4            Good               4   \n",
      "1126                     2          Better               1   \n",
      "1437                     1            Good               5   \n",
      "1252                     6          Better               1   \n",
      "1457                     3          Better              24   \n",
      "664                      3          Better               9   \n",
      "1216                     2          Better              10   \n",
      "1362                     3          Better              25   \n",
      "790                      2          Better               8   \n",
      "1335                     4            Good              22   \n",
      "268                      3          Better               3   \n",
      "1011                     2          Better               9   \n",
      "406                      5          Better               5   \n",
      "154                      3            Best               1   \n",
      "109                      2          Better               2   \n",
      "104                      3          Better               2   \n",
      "169                      5            Good               4   \n",
      "330                      3          Better               4   \n",
      "1256                     4            Good               4   \n",
      "3                        2          Better               0   \n",
      "\n",
      "      YearsInCurrentRole  YearsSinceLastPromotion YearsWithCurrManager  \n",
      "1380                   9                        3                   10  \n",
      "1395                   7                        7                    7  \n",
      "1300                  17                       11                   15  \n",
      "1271                   9                       11                   10  \n",
      "1354                   0                        0                    1  \n",
      "858                    2                        0                    0  \n",
      "1417                   2                        2                    2  \n",
      "1307                  16                       11                    8  \n",
      "1377                   8                        7                    8  \n",
      "1388                   0                        0                    0  \n",
      "1463                   4                        0                    2  \n",
      "464                    0                        0                    0  \n",
      "1313                   7                        0                    8  \n",
      "1203                  14                        5                   12  \n",
      "1427                   8                        0                    0  \n",
      "1188                   0                        0                    1  \n",
      "453                    7                        1                    7  \n",
      "1200                   7                        0                    1  \n",
      "876                    4                        0                    2  \n",
      "1176                   7                        7                    7  \n",
      "1344                   2                        1                    2  \n",
      "1126                   0                        0                    0  \n",
      "1437                   4                        1                    3  \n",
      "1252                   0                        0                    0  \n",
      "1457                  15                        2                   15  \n",
      "664                    8                        0                    8  \n",
      "1216                   8                        0                    1  \n",
      "1362                  10                        3                    9  \n",
      "790                    7                        0                    5  \n",
      "1335                   7                        1                   10  \n",
      "268                    2                        0                    2  \n",
      "1011                   8                        5                    8  \n",
      "406                    3                        4                    2  \n",
      "154                    0                        0                    0  \n",
      "109                    1                        2                    2  \n",
      "104                    2                        0                    2  \n",
      "169                    3                        0                    2  \n",
      "330                    3                        1                    2  \n",
      "1256                   2                        0                    3  \n",
      "3                      0                        0                    0  \n",
      "\n",
      "[40 rows x 31 columns]\n"
     ]
    },
    {
     "name": "stderr",
     "output_type": "stream",
     "text": [
      "C:\\Users\\mcaba\\AppData\\Local\\Temp\\ipykernel_7900\\2079348606.py:12: SettingWithCopyWarning: \n",
      "A value is trying to be set on a copy of a slice from a DataFrame.\n",
      "Try using .loc[row_indexer,col_indexer] = value instead\n",
      "\n",
      "See the caveats in the documentation: https://pandas.pydata.org/pandas-docs/stable/user_guide/indexing.html#returning-a-view-versus-a-copy\n",
      "  attrition_filtered['JobRole'] = attrition_filtered['JobRole'].cat.remove_unused_categories()\n"
     ]
    }
   ],
   "source": [
    "# Create a list of unique JobRole values\n",
    "job_roles_pop = list(attrition_pop['JobRole'].unique())\n",
    "\n",
    "# Randomly sample four JobRole values\n",
    "job_roles_samp = random.sample(job_roles_pop, k=4)\n",
    "\n",
    "# Filter for rows where JobRole is in job_roles_samp\n",
    "jobrole_condition = attrition_pop['JobRole'].isin(job_roles_samp)\n",
    "attrition_filtered = attrition_pop[jobrole_condition]\n",
    "\n",
    "# Remove categories with no rows\n",
    "attrition_filtered['JobRole'] = attrition_filtered['JobRole'].cat.remove_unused_categories()\n",
    "\n",
    "# Randomly sample 10 employees from each sampled job role\n",
    "attrition_clust = attrition_filtered.groupby(\"JobRole\")\\\n",
    ".sample(n=10, random_state=2022)\n",
    "\n",
    "\n",
    "\n",
    "# Print the sample\n",
    "print(attrition_clust)"
   ]
  },
  {
   "cell_type": "markdown",
   "metadata": {},
   "source": [
    "#### **Comparing sampling methods**\n",
    "\n",
    "1. Review of sampling techniques - setup\n",
    "top_counted_countries = [\"Mexico\", \"Colombia\", \"Guatemala\",\n",
    "\"Brazil\", \"Taiwan\", \"United States (Hawaii)\"]\n",
    "subset_condition = coffee_ratings['country_of_origin'].isin(top_counted_countries)\n",
    "coffee_ratings_top = coffee_ratings[subset_condition]\n",
    "coffee_ratings_top.shape\n",
    "2. Review of simple random sampling\n",
    "coffee_ratings_srs = coffee_ratings_top.sample(frac=1/3, random_state=2021)\n",
    "coffee_ratings_srs.shape\n",
    "3. Review of stratified sampling\n",
    "coffee_ratings_strat = coffee_ratings_top.groupby(\"country_of_origin\")\\\n",
    ".sample(frac=1/3, random_state=2021)\n",
    "coffee_ratings_strat.shape\n",
    "4. Review of cluster sampling\n",
    "import random\n",
    "top_countries_samp = random.sample(top_counted_countries, k=2)\n",
    "top_condition = coffee_ratings_top['country_of_origin'].isin(top_countries_samp)\n",
    "coffee_ratings_cluster = coffee_ratings_top[top_condition]\n",
    "coffee_ratings_cluster['country_of_origin'] = coffee_ratings_cluster['country_of_origin']\\\n",
    ".cat.remove_unused_categories()\n",
    "coffee_ratings_clust = coffee_ratings_cluster.groupby(\"country_of_origin\")\\\n",
    ".sample(n=len(coffee_ratings_top) // 6)\n",
    "coffee_ratings_clust.shape\n",
    "5. Calculating mean cup points\n",
    "Population\n",
    "coffee_ratings_top['total_cup_points'].mean()\n",
    "\n",
    "Simple random sample\n",
    "coffee_ratings_srs['total_cup_points'].mean()\n",
    "\n",
    "Stratified sample\n",
    "coffee_ratings_strat['total_cup_points'].mean()\n",
    "\n",
    "Cluster sample\n",
    "coffee_ratings_clust['total_cup_points'].mean()\n",
    "6. Mean cup points by country: simple random\n",
    "Population\n",
    "coffee_ratings_top.groupby(\"country_of_origin\")\\\n",
    "['total_cup_points'].mean()\n",
    "\n",
    "Simple random sample:\n",
    "coffee_ratings_srs.groupby(\"country_of_origin\")\\\n",
    "['total_cup_points'].mean()\n",
    "\n",
    "Stratified sample:\n",
    "coffee_ratings_strat.groupby(\"country_of_origin\")\\ \n",
    "['total_cup_points'].mean()\n",
    "\n",
    "Cluster sample:\n",
    "coffee_ratings_clust.groupby(\"country_of_origin\")\\ \n",
    "['total_cup_points'].mean()"
   ]
  },
  {
   "cell_type": "code",
   "execution_count": 49,
   "metadata": {},
   "outputs": [
    {
     "data": {
      "text/plain": [
       "(880, 43)"
      ]
     },
     "execution_count": 49,
     "metadata": {},
     "output_type": "execute_result"
    }
   ],
   "source": [
    "top_counted_countries = [\"Mexico\", \"Colombia\", \"Guatemala\",\n",
    "\"Brazil\", \"Taiwan\", \"United States (Hawaii)\"]\n",
    "subset_condition = coffee_ratings['country_of_origin'].isin(top_counted_countries)\n",
    "coffee_ratings_top = coffee_ratings[subset_condition]\n",
    "coffee_ratings_top.shape"
   ]
  },
  {
   "cell_type": "code",
   "execution_count": 50,
   "metadata": {},
   "outputs": [
    {
     "data": {
      "text/plain": [
       "(293, 43)"
      ]
     },
     "execution_count": 50,
     "metadata": {},
     "output_type": "execute_result"
    }
   ],
   "source": [
    "coffee_ratings_srs = coffee_ratings_top.sample(frac=1/3, random_state=2021)\n",
    "coffee_ratings_srs.shape"
   ]
  },
  {
   "cell_type": "code",
   "execution_count": 51,
   "metadata": {},
   "outputs": [
    {
     "data": {
      "text/plain": [
       "(293, 43)"
      ]
     },
     "execution_count": 51,
     "metadata": {},
     "output_type": "execute_result"
    }
   ],
   "source": [
    "coffee_ratings_strat = coffee_ratings_top.groupby(\"country_of_origin\")\\\n",
    ".sample(frac=1/3, random_state=2021)\n",
    "coffee_ratings_strat.shape"
   ]
  },
  {
   "cell_type": "code",
   "execution_count": 52,
   "metadata": {},
   "outputs": [
    {
     "name": "stderr",
     "output_type": "stream",
     "text": [
      "C:\\Users\\mcaba\\AppData\\Local\\Temp\\ipykernel_7900\\1576403616.py:6: SettingWithCopyWarning: \n",
      "A value is trying to be set on a copy of a slice from a DataFrame.\n",
      "Try using .loc[row_indexer,col_indexer] = value instead\n",
      "\n",
      "See the caveats in the documentation: https://pandas.pydata.org/pandas-docs/stable/user_guide/indexing.html#returning-a-view-versus-a-copy\n",
      "  coffee_ratings_cluster['country_of_origin'] = coffee_ratings_cluster['country_of_origin'].astype('category')\n",
      "C:\\Users\\mcaba\\AppData\\Local\\Temp\\ipykernel_7900\\1576403616.py:8: SettingWithCopyWarning: \n",
      "A value is trying to be set on a copy of a slice from a DataFrame.\n",
      "Try using .loc[row_indexer,col_indexer] = value instead\n",
      "\n",
      "See the caveats in the documentation: https://pandas.pydata.org/pandas-docs/stable/user_guide/indexing.html#returning-a-view-versus-a-copy\n",
      "  coffee_ratings_cluster['country_of_origin'] = coffee_ratings_cluster['country_of_origin']\\\n"
     ]
    },
    {
     "data": {
      "text/plain": [
       "(110, 43)"
      ]
     },
     "execution_count": 52,
     "metadata": {},
     "output_type": "execute_result"
    }
   ],
   "source": [
    "import random\n",
    "top_countries_samp = random.sample(top_counted_countries, k=2)\n",
    "top_condition = coffee_ratings_top['country_of_origin'].isin(top_countries_samp)\n",
    "coffee_ratings_cluster = coffee_ratings_top[top_condition]\n",
    "\n",
    "coffee_ratings_cluster['country_of_origin'] = coffee_ratings_cluster['country_of_origin'].astype('category')\n",
    "\n",
    "coffee_ratings_cluster['country_of_origin'] = coffee_ratings_cluster['country_of_origin']\\\n",
    ".cat.remove_unused_categories()\n",
    "yellowcard = len(coffee_ratings_top) // 16\n",
    "coffee_ratings_clust = coffee_ratings_cluster.groupby(\"country_of_origin\")\\\n",
    ".sample(n=yellowcard)\n",
    "coffee_ratings_clust.shape"
   ]
  },
  {
   "cell_type": "code",
   "execution_count": 53,
   "metadata": {},
   "outputs": [
    {
     "data": {
      "text/plain": [
       "81.94700000000002"
      ]
     },
     "metadata": {},
     "output_type": "display_data"
    },
    {
     "data": {
      "text/plain": [
       "81.91331058020478"
      ]
     },
     "metadata": {},
     "output_type": "display_data"
    },
    {
     "data": {
      "text/plain": [
       "81.92566552901025"
      ]
     },
     "metadata": {},
     "output_type": "display_data"
    },
    {
     "data": {
      "text/plain": [
       "82.15372727272727"
      ]
     },
     "metadata": {},
     "output_type": "display_data"
    }
   ],
   "source": [
    "##Population\n",
    "display(coffee_ratings_top['total_cup_points'].mean())\n",
    "\n",
    "##Simple random sample\n",
    "display(coffee_ratings_srs['total_cup_points'].mean())\n",
    "\n",
    "##Stratified sample\n",
    "display(coffee_ratings_strat['total_cup_points'].mean())\n",
    "\n",
    "##Cluster sample\n",
    "display(coffee_ratings_clust['total_cup_points'].mean())"
   ]
  },
  {
   "cell_type": "code",
   "execution_count": 54,
   "metadata": {},
   "outputs": [
    {
     "data": {
      "text/plain": [
       "country_of_origin\n",
       "Brazil                    82.405909\n",
       "Colombia                  83.106557\n",
       "Guatemala                 81.846575\n",
       "Mexico                    80.890085\n",
       "Taiwan                    82.001333\n",
       "United States (Hawaii)    81.820411\n",
       "Name: total_cup_points, dtype: float64"
      ]
     },
     "metadata": {},
     "output_type": "display_data"
    },
    {
     "data": {
      "text/plain": [
       "country_of_origin\n",
       "Brazil                    82.251875\n",
       "Colombia                  82.961014\n",
       "Guatemala                 81.392917\n",
       "Mexico                    81.152000\n",
       "Taiwan                    81.957391\n",
       "United States (Hawaii)    81.766400\n",
       "Name: total_cup_points, dtype: float64"
      ]
     },
     "metadata": {},
     "output_type": "display_data"
    },
    {
     "data": {
      "text/plain": [
       "country_of_origin\n",
       "Brazil                    82.499773\n",
       "Colombia                  83.288197\n",
       "Guatemala                 81.727667\n",
       "Mexico                    80.994684\n",
       "Taiwan                    81.846800\n",
       "United States (Hawaii)    81.051667\n",
       "Name: total_cup_points, dtype: float64"
      ]
     },
     "metadata": {},
     "output_type": "display_data"
    },
    {
     "data": {
      "text/plain": [
       "country_of_origin\n",
       "Brazil                    82.469818\n",
       "United States (Hawaii)    81.837636\n",
       "Name: total_cup_points, dtype: float64"
      ]
     },
     "metadata": {},
     "output_type": "display_data"
    }
   ],
   "source": [
    "##Population\n",
    "display(coffee_ratings_top.groupby(\"country_of_origin\")['total_cup_points'].mean())\n",
    "\n",
    "##Simple random sample\n",
    "display(coffee_ratings_srs.groupby(\"country_of_origin\")['total_cup_points'].mean())\n",
    "\n",
    "##Stratified sample\n",
    "display(coffee_ratings_strat.groupby(\"country_of_origin\")['total_cup_points'].mean())\n",
    "\n",
    "##Cluster sample\n",
    "display(coffee_ratings_clust.groupby(\"country_of_origin\")['total_cup_points'].mean())"
   ]
  },
  {
   "cell_type": "markdown",
   "metadata": {},
   "source": [
    "3 kinds of sampling\n",
    "You're going to compare the performance of point estimates using simple, stratified, and cluster sampling. Before doing that, you'll have to set up the samples.\n",
    "\n",
    "You'll use the RelationshipSatisfaction column of the attrition_pop dataset, which categorizes the employee's relationship with the company. It has four levels: Low, Medium, High, and Very_High. pandas has been loaded with its usual alias, and the random package has been loaded."
   ]
  },
  {
   "cell_type": "code",
   "execution_count": 55,
   "metadata": {},
   "outputs": [
    {
     "data": {
      "text/plain": [
       "(368, 31)"
      ]
     },
     "execution_count": 55,
     "metadata": {},
     "output_type": "execute_result"
    }
   ],
   "source": [
    "# Perform simple random sampling to get 0.25 of the population\n",
    "attrition_srs = attrition_pop.sample(frac=1/4, random_state=2022)\n",
    "attrition_srs.shape"
   ]
  },
  {
   "cell_type": "code",
   "execution_count": 56,
   "metadata": {},
   "outputs": [
    {
     "data": {
      "text/plain": [
       "(368, 31)"
      ]
     },
     "execution_count": 56,
     "metadata": {},
     "output_type": "execute_result"
    }
   ],
   "source": [
    "# Perform stratified sampling to get 0.25 of each relationship group\n",
    "attrition_strat = attrition_pop.groupby(\"RelationshipSatisfaction\").sample(frac=1/4, random_state=2022)\n",
    "attrition_strat.shape"
   ]
  },
  {
   "cell_type": "code",
   "execution_count": 57,
   "metadata": {},
   "outputs": [
    {
     "name": "stderr",
     "output_type": "stream",
     "text": [
      "C:\\Users\\mcaba\\AppData\\Local\\Temp\\ipykernel_7900\\1976045936.py:10: SettingWithCopyWarning: \n",
      "A value is trying to be set on a copy of a slice from a DataFrame.\n",
      "Try using .loc[row_indexer,col_indexer] = value instead\n",
      "\n",
      "See the caveats in the documentation: https://pandas.pydata.org/pandas-docs/stable/user_guide/indexing.html#returning-a-view-versus-a-copy\n",
      "  attrition_clust_prep['RelationshipSatisfaction'] = attrition_clust_prep['RelationshipSatisfaction'].cat.remove_unused_categories()\n"
     ]
    }
   ],
   "source": [
    "# Create a list of unique RelationshipSatisfaction values\n",
    "satisfaction_unique = list(attrition_pop['RelationshipSatisfaction'].unique())\n",
    "\n",
    "# Randomly sample 2 unique satisfaction values\n",
    "satisfaction_samp = random.sample(satisfaction_unique, k=2)\n",
    "\n",
    "# Filter for satisfaction_samp and clear unused categories from RelationshipSatisfaction\n",
    "satis_condition = attrition_pop['RelationshipSatisfaction'].isin(satisfaction_samp)\n",
    "attrition_clust_prep = attrition_pop[satis_condition]\n",
    "attrition_clust_prep['RelationshipSatisfaction'] = attrition_clust_prep['RelationshipSatisfaction'].cat.remove_unused_categories()\n",
    "\n",
    "# Perform cluster sampling on the selected group, getting 0.25 of attrition_pop\n",
    "attrition_clust = attrition_clust_prep.groupby(\"RelationshipSatisfaction\").sample(n=(len(attrition_pop) // 12), random_state=2022)\n"
   ]
  },
  {
   "cell_type": "markdown",
   "metadata": {},
   "source": [
    "Comparing point estimates\n",
    "Now that you have three types of sample (simple, stratified, and cluster), you can compare point estimates from each sample to the population parameter. That is, you can calculate the same summary statistic on each sample and see how it compares to the summary statistic for the population.\n",
    "\n",
    "Here, we'll look at how satisfaction with the company affects whether or not the employee leaves the company. That is, you'll calculate the proportion of employees who left the company (they have an Attrition value of 1) for each value of RelationshipSatisfaction.\n",
    "\n",
    "attrition_pop, attrition_srs, attrition_strat, and attrition_clust are available; pandas is loaded with its usual alias."
   ]
  },
  {
   "cell_type": "code",
   "execution_count": 58,
   "metadata": {},
   "outputs": [
    {
     "name": "stdout",
     "output_type": "stream",
     "text": [
      "RelationshipSatisfaction\n",
      "Low          0.206522\n",
      "Medium       0.148515\n",
      "High         0.154684\n",
      "Very_High    0.148148\n",
      "Name: Attrition, dtype: float64\n"
     ]
    }
   ],
   "source": [
    "# Mean Attrition by RelationshipSatisfaction group\n",
    "mean_attrition_pop = attrition_pop.groupby(\"RelationshipSatisfaction\")['Attrition'].mean()\n",
    "\n",
    "# Print the result\n",
    "print(mean_attrition_pop)"
   ]
  },
  {
   "cell_type": "code",
   "execution_count": 59,
   "metadata": {},
   "outputs": [
    {
     "name": "stdout",
     "output_type": "stream",
     "text": [
      "RelationshipSatisfaction\n",
      "Low          0.134328\n",
      "Medium       0.164179\n",
      "High         0.160000\n",
      "Very_High    0.155963\n",
      "Name: Attrition, dtype: float64\n"
     ]
    }
   ],
   "source": [
    "# Calculate the same thing for the simple random sample \n",
    "mean_attrition_srs = attrition_srs.groupby(\"RelationshipSatisfaction\")['Attrition'].mean()\n",
    "\n",
    "# Print the result\n",
    "print(mean_attrition_srs)"
   ]
  },
  {
   "cell_type": "code",
   "execution_count": 60,
   "metadata": {},
   "outputs": [
    {
     "name": "stdout",
     "output_type": "stream",
     "text": [
      "RelationshipSatisfaction\n",
      "Low          0.144928\n",
      "Medium       0.078947\n",
      "High         0.165217\n",
      "Very_High    0.129630\n",
      "Name: Attrition, dtype: float64\n"
     ]
    }
   ],
   "source": [
    "# Calculate the same thing for the stratified sample \n",
    "mean_attrition_strat = attrition_strat.groupby(\"RelationshipSatisfaction\")['Attrition'].mean()\n",
    "\n",
    "# Print the result\n",
    "print(mean_attrition_strat)"
   ]
  },
  {
   "cell_type": "code",
   "execution_count": 61,
   "metadata": {},
   "outputs": [
    {
     "name": "stdout",
     "output_type": "stream",
     "text": [
      "RelationshipSatisfaction\n",
      "Low          0.245902\n",
      "Very_High    0.106557\n",
      "Name: Attrition, dtype: float64\n"
     ]
    }
   ],
   "source": [
    "# Calculate the same thing for the cluster sample \n",
    "mean_attrition_clust = attrition_clust.groupby(\"RelationshipSatisfaction\")['Attrition'].mean()\n",
    "\n",
    "# Print the result\n",
    "print(mean_attrition_clust)"
   ]
  },
  {
   "attachments": {},
   "cell_type": "markdown",
   "metadata": {},
   "source": [
    "## **Sampling Distributions (Module 03-053)**"
   ]
  },
  {
   "attachments": {},
   "cell_type": "markdown",
   "metadata": {},
   "source": [
    "#### **Relative error of point estimates**\n",
    "\n",
    "1. Sample size is number of rows\n",
    "len(coffee_ratings.sample(n=300))\n",
    "len(coffee_ratings.sample(frac=0.25))\n",
    "2. Various sample sizes\n",
    "coffee_ratings['total_cup_points'].mean()\n",
    "coffee_ratings.sample(n=10)['total_cup_points'].mean()\n",
    "coffee_ratings.sample(n=100)['total_cup_points'].mean()\n",
    "coffee_ratings.sample(n=1000)['total_cup_points'].mean()\n",
    "3. Relative errors\n",
    "Population parameter:\n",
    "population_mean = coffee_ratings['total_cup_points'].mean()\n",
    "Point estimate:\n",
    "sample_mean = coffee_ratings.sample(n=sample_size)['total_cup_points'].mean()\n",
    "Relative error as a percentage:\n",
    "rel_error_pct = 100 * abs(population_mean-sample_mean) / population_mean\n",
    "4. Relative error vs. sample size\n",
    "import matplotlib.pyplot as plt\n",
    "errors.plot(x=\"sample_size\",\n",
    "y=\"relative_error\",\n",
    "kind=\"line\")\n",
    "plt.show()\n",
    "\n",
    "\n",
    "Properties:\n",
    "Really noise, particularly for small samples\n",
    "Amplitude is initially steep, then flattens\n",
    "Relative error decreases to zero (when the\n",
    "sample size = population)"
   ]
  },
  {
   "cell_type": "code",
   "execution_count": 62,
   "metadata": {},
   "outputs": [
    {
     "data": {
      "text/plain": [
       "300"
      ]
     },
     "metadata": {},
     "output_type": "display_data"
    },
    {
     "data": {
      "text/plain": [
       "334"
      ]
     },
     "metadata": {},
     "output_type": "display_data"
    }
   ],
   "source": [
    "display(\n",
    "len(coffee_ratings.sample(n=300))\n",
    ")\n",
    "\n",
    "display(\n",
    "len(coffee_ratings.sample(frac=0.25))\n",
    ")"
   ]
  },
  {
   "cell_type": "code",
   "execution_count": 63,
   "metadata": {},
   "outputs": [
    {
     "data": {
      "text/plain": [
       "82.15120328849028"
      ]
     },
     "metadata": {},
     "output_type": "display_data"
    },
    {
     "data": {
      "text/plain": [
       "83.21000000000001"
      ]
     },
     "metadata": {},
     "output_type": "display_data"
    },
    {
     "data": {
      "text/plain": [
       "81.64569999999999"
      ]
     },
     "metadata": {},
     "output_type": "display_data"
    },
    {
     "data": {
      "text/plain": [
       "82.2164"
      ]
     },
     "metadata": {},
     "output_type": "display_data"
    }
   ],
   "source": [
    "display(\n",
    "coffee_ratings['total_cup_points'].mean()\n",
    ")\n",
    "\n",
    "display(\n",
    "coffee_ratings.sample(n=10)['total_cup_points'].mean()\n",
    ")\n",
    "\n",
    "display(\n",
    "coffee_ratings.sample(n=100)['total_cup_points'].mean()\n",
    ")\n",
    "\n",
    "display(\n",
    "coffee_ratings.sample(n=1000)['total_cup_points'].mean()\n",
    ")"
   ]
  },
  {
   "cell_type": "code",
   "execution_count": 64,
   "metadata": {},
   "outputs": [
    {
     "name": "stdout",
     "output_type": "stream",
     "text": [
      "82.15120328849028 82.18142857142857 0.036792258333876525 70\n"
     ]
    }
   ],
   "source": [
    "\n",
    "population_mean = coffee_ratings['total_cup_points'].mean()\n",
    "\n",
    "sample_mean = coffee_ratings.sample(n=sample_size)['total_cup_points'].mean()\n",
    "\n",
    "rel_error_pct = 100 * abs(population_mean-sample_mean) / population_mean\n",
    "\n",
    "print(population_mean,sample_mean,rel_error_pct,sample_size)\n"
   ]
  },
  {
   "cell_type": "code",
   "execution_count": 65,
   "metadata": {},
   "outputs": [
    {
     "data": {
      "image/png": "[encoded data removed]",
      "text/plain": [
       "<Figure size 640x480 with 1 Axes>"
      ]
     },
     "metadata": {},
     "output_type": "display_data"
    }
   ],
   "source": [
    "import pandas as pd\n",
    "import numpy as np\n",
    "import matplotlib.pyplot as plt\n",
    "\n",
    "# Assuming coffee_ratings is your DataFrame and 'total_cup_points' is the column of interest\n",
    "# Example: coffee_ratings = pd.read_csv('coffee_ratings.csv')\n",
    "\n",
    "# Step 1: Define the population mean (you need to calculate or know this value)\n",
    "population_mean = coffee_ratings['total_cup_points'].mean()\n",
    "\n",
    "# Step 2: Create a list of sample sizes (from 1 to 1500)\n",
    "sample_sizes = list(range(1, 1301))\n",
    "\n",
    "# Step 3: Initialize lists to store sample sizes and relative errors\n",
    "sample_size_list = []\n",
    "relative_error_list = []\n",
    "\n",
    "# Step 4: Calculate the relative error for each sample size\n",
    "for sample_size in sample_sizes:\n",
    "    sample_mean = coffee_ratings.sample(n=sample_size, replace=True)['total_cup_points'].mean()\n",
    "    relative_error = 100 * abs(population_mean - sample_mean) / population_mean\n",
    "    \n",
    "    sample_size_list.append(sample_size)\n",
    "    relative_error_list.append(relative_error)\n",
    "\n",
    "# Step 5: Create the errors DataFrame\n",
    "errors = pd.DataFrame({\n",
    "    'sample_size': sample_size_list,\n",
    "    'relative_error': relative_error_list\n",
    "})\n",
    "\n",
    "# Step 6: Plot the results\n",
    "errors.plot(x=\"sample_size\", y=\"relative_error\", kind=\"line\")\n",
    "plt.xlabel(\"Sample Size\")\n",
    "plt.ylabel(\"Relative Error (%)\")\n",
    "plt.title(\"Relative Error vs Sample Size\")\n",
    "plt.show()"
   ]
  },
  {
   "cell_type": "markdown",
   "metadata": {},
   "source": [
    "Calculating relative errors\n",
    "The size of the sample you take affects how accurately the point estimates reflect the corresponding population parameter. For example, when you calculate a sample mean, you want it to be close to the population mean. However, if your sample is too small, this might not be the case.\n",
    "\n",
    "The most common metric for assessing accuracy is relative error. This is the absolute difference between the population parameter and the point estimate, all divided by the population parameter. It is sometimes expressed as a percentage.\n",
    "\n",
    "attrition_pop and mean_attrition_pop (the mean of the Attrition column of attrition_pop) are available; pandas is loaded as pd."
   ]
  },
  {
   "cell_type": "code",
   "execution_count": 66,
   "metadata": {},
   "outputs": [
    {
     "name": "stdout",
     "output_type": "stream",
     "text": [
      "RelationshipSatisfaction\n",
      "Low          70.947368\n",
      "Medium       59.600000\n",
      "High         61.211268\n",
      "Very_High    59.500000\n",
      "Name: Attrition, dtype: float64\n"
     ]
    }
   ],
   "source": [
    "# Generate a simple random sample of 50 rows, with seed 2022\n",
    "attrition_srs50 = attrition_pop.sample(n=50, random_state=2022)\n",
    "\n",
    "# Calculate the mean employee attrition in the sample\n",
    "mean_attrition_srs50 = attrition_srs50['Attrition'].mean()\n",
    "\n",
    "# Calculate the relative error percentage\n",
    "rel_error_pct50 = 100 * abs(mean_attrition_pop-mean_attrition_srs50) / mean_attrition_pop\n",
    "\n",
    "# Print rel_error_pct50\n",
    "print(rel_error_pct50)"
   ]
  },
  {
   "cell_type": "code",
   "execution_count": 67,
   "metadata": {},
   "outputs": [
    {
     "name": "stdout",
     "output_type": "stream",
     "text": [
      "RelationshipSatisfaction\n",
      "Low          27.368421\n",
      "Medium        1.000000\n",
      "High          3.028169\n",
      "Very_High     1.250000\n",
      "Name: Attrition, dtype: float64\n"
     ]
    }
   ],
   "source": [
    "# Generate a simple random sample of 100 rows, with seed 2022\n",
    "attrition_srs100 = attrition_pop.sample(n=100, random_state=2022)\n",
    "\n",
    "# Calculate the mean employee attrition in the sample\n",
    "mean_attrition_srs100 = attrition_srs100['Attrition'].mean()\n",
    "\n",
    "# Calculate the relative error percentage\n",
    "rel_error_pct100 = 100 * abs(mean_attrition_pop-mean_attrition_srs100) / mean_attrition_pop\n",
    "\n",
    "# Print rel_error_pct100\n",
    "print(rel_error_pct100)"
   ]
  },
  {
   "cell_type": "markdown",
   "metadata": {},
   "source": [
    "Relative error vs. sample size\n",
    "The plot shows the relative error in the proportion of employee attritions, using simple random sampling, for sample sizes from 2 to 1470 (the size of the population).\n",
    "\n",
    "Clicking \"Regenerate plot\" will select new samples for each sample size, and calculate the relative errors again.\n",
    "\n",
    "Which statement about relative errors and sample sizes is true?\n",
    "r\n",
    "For small sample sizes, each additional entry in a sample can result in substantial decreases to the relative error."
   ]
  },
  {
   "attachments": {},
   "cell_type": "markdown",
   "metadata": {},
   "source": [
    "#### **Creating a sampling distribution**\n",
    "\n",
    "1. Same code, different answer\n",
    "coffee_ratings.sample(n=30)['total_cup_points'].mean()\n",
    "2. Same code, 1000 times\n",
    "mean_cup_points_1000 = []\n",
    "for i in range(1000):\n",
    "mean_cup_points_1000.append(\n",
    "coffee_ratings.sample(n=30)['total_cup_points'].mean()\n",
    ")\n",
    "print(mean_cup_points_1000)\n",
    "3. Distribution of sample means for size 30\n",
    "import matplotlib.pyplot as plt\n",
    "plt.hist(mean_cup_points_1000, bins=30)\n",
    "plt.show()"
   ]
  },
  {
   "cell_type": "code",
   "execution_count": 68,
   "metadata": {},
   "outputs": [
    {
     "data": {
      "text/plain": [
       "81.52233333333334"
      ]
     },
     "metadata": {},
     "output_type": "display_data"
    },
    {
     "data": {
      "text/plain": [
       "82.44533333333334"
      ]
     },
     "metadata": {},
     "output_type": "display_data"
    },
    {
     "data": {
      "text/plain": [
       "81.44200000000001"
      ]
     },
     "metadata": {},
     "output_type": "display_data"
    },
    {
     "data": {
      "text/plain": [
       "81.49833333333335"
      ]
     },
     "metadata": {},
     "output_type": "display_data"
    }
   ],
   "source": [
    "display(\n",
    "coffee_ratings.sample(n=30)['total_cup_points'].mean()\n",
    ")\n",
    "\n",
    "display(\n",
    "coffee_ratings.sample(n=30)['total_cup_points'].mean()\n",
    ")\n",
    "\n",
    "display(\n",
    "coffee_ratings.sample(n=30)['total_cup_points'].mean()\n",
    ")\n",
    "\n",
    "display(\n",
    "coffee_ratings.sample(n=30)['total_cup_points'].mean()\n",
    ")"
   ]
  },
  {
   "cell_type": "code",
   "execution_count": 70,
   "metadata": {},
   "outputs": [
    {
     "name": "stdout",
     "output_type": "stream",
     "text": [
      "[81.879, 81.47433333333333, 82.49733333333333, 82.06633333333333, 81.74733333333333, 82.65833333333333, 81.97533333333334, 82.747, 82.82433333333331, 81.88300000000001, 81.55, 82.48033333333333, 82.359, 82.42533333333334, 82.58633333333334, 82.25233333333333, 81.56666666666666, 82.13633333333334, 81.63633333333334, 81.06400000000001, 81.60799999999999, 81.93333333333334, 81.96466666666667, 82.78333333333333, 82.386, 82.12866666666667, 81.897, 82.48700000000001, 82.33666666666667, 82.41966666666667, 81.949, 82.40866666666668, 82.82533333333332, 82.417, 81.933, 81.96733333333333, 82.225, 82.90066666666668, 82.65533333333333, 82.525, 82.13033333333333, 81.792, 82.40633333333334, 83.019, 81.92, 82.467, 82.26766666666667, 82.81733333333334, 82.528, 82.34966666666668, 81.56933333333333, 81.24433333333333, 82.12500000000001, 82.17800000000001, 81.80033333333334, 82.253, 81.61466666666668, 81.1, 82.00066666666666, 81.37233333333333, 81.36899999999999, 81.56099999999999, 82.34733333333334, 82.57066666666667, 82.23333333333333, 82.46433333333334, 82.65766666666666, 82.28933333333335, 81.93666666666667, 82.49733333333333, 81.50866666666667, 81.45299999999999, 82.444, 82.42800000000001, 82.50833333333334, 82.35066666666667, 81.80566666666667, 82.083, 81.28566666666666, 81.784, 82.6, 82.106, 81.819, 82.945, 81.84733333333334, 82.081, 81.84433333333332, 82.20333333333335, 82.28400000000002, 82.44166666666666, 81.86133333333333, 81.41366666666666, 82.057, 82.16366666666666, 81.94166666666666, 82.18366666666667, 81.34166666666667, 82.519, 81.661, 81.80533333333332, 82.21366666666667, 81.93133333333334, 82.74466666666667, 81.61133333333333, 82.356, 81.96966666666665, 81.98299999999999, 81.64500000000001, 81.83533333333334, 81.87266666666666, 82.27033333333334, 81.77033333333334, 81.55866666666667, 82.67966666666666, 82.52633333333334, 82.144, 82.69699999999999, 80.886, 81.164, 81.67766666666667, 81.76733333333333, 82.769, 81.30600000000001, 82.14066666666666, 81.586, 81.61699999999999, 82.27233333333334, 82.20566666666667, 82.22300000000001, 82.831, 80.98633333333332, 81.883, 81.84566666666666, 81.547, 82.19500000000001, 82.65799999999999, 81.89, 82.695, 81.67766666666668, 81.92333333333335, 82.45833333333333, 81.87866666666669, 81.839, 82.28033333333333, 82.01166666666668, 81.26433333333334, 81.68666666666667, 82.13566666666667, 82.26166666666667, 81.85466666666666, 82.253, 82.662, 81.69500000000001, 82.95633333333335, 81.653, 81.71166666666667, 81.72800000000001, 82.61366666666666, 81.60833333333333, 83.05033333333334, 82.162, 82.45566666666667, 82.74166666666666, 81.205, 83.03333333333333, 82.14433333333334, 82.16966666666667, 81.77533333333334, 82.53866666666666, 82.2, 82.64733333333334, 82.60033333333334, 82.16666666666667, 81.605, 81.55533333333332, 81.72533333333334, 82.15566666666668, 82.52266666666668, 82.52533333333334, 81.739, 82.65, 81.378, 82.44166666666666, 82.42766666666667, 82.886, 82.08400000000002, 82.61166666666666, 82.43633333333334, 82.09200000000001, 82.25833333333334, 81.48633333333333, 82.598, 82.42833333333333, 81.46633333333332, 82.20800000000001, 82.28033333333333, 82.64933333333333, 81.53333333333333, 82.73966666666666, 82.26733333333333, 81.94766666666668, 82.26, 82.51700000000001, 82.469, 82.105, 82.41933333333334, 81.89733333333334, 82.23033333333333, 82.49766666666666, 80.35866666666668, 82.94666666666667, 82.69066666666666, 81.45800000000001, 82.08666666666666, 82.63166666666666, 81.634, 82.31766666666667, 82.66933333333333, 82.13166666666667, 82.88066666666667, 81.87533333333333, 81.98033333333333, 81.77199999999999, 82.82833333333333, 81.21333333333334, 82.42200000000001, 82.26899999999999, 82.54, 82.675, 82.77833333333335, 82.25266666666667, 82.36933333333333, 82.21133333333334, 81.62533333333334, 82.06899999999999, 82.20233333333333, 81.10933333333334, 81.59233333333333, 82.41666666666667, 81.545, 82.60466666666666, 81.453, 82.41633333333333, 81.364, 82.54266666666668, 82.30566666666667, 82.87533333333334, 82.12833333333334, 82.39800000000001, 82.176, 81.11899999999999, 80.70833333333333, 82.46566666666666, 81.97466666666666, 82.33033333333333, 82.547, 82.57866666666668, 82.01899999999999, 81.82766666666666, 82.222, 82.50566666666666, 82.07499999999999, 81.35300000000001, 82.109, 81.24633333333333, 82.04733333333334, 81.81466666666667, 82.51700000000001, 82.33633333333333, 82.405, 82.69466666666668, 82.19733333333333, 81.722, 82.59866666666667, 81.777, 82.76366666666667, 80.98666666666668, 83.48333333333333, 82.60799999999999, 82.14233333333333, 81.975, 80.617, 80.97599999999998, 81.77866666666667, 82.542, 81.96900000000001, 82.039, 82.97800000000001, 81.628, 83.29133333333333, 81.739, 82.04733333333334, 82.70066666666668, 82.36133333333333, 82.502, 82.825, 82.56299999999997, 82.167, 82.20966666666666, 81.26433333333333, 81.64699999999999, 82.34166666666667, 82.64933333333333, 82.67766666666667, 82.619, 82.35266666666666, 82.18366666666667, 82.26233333333333, 81.47466666666666, 81.82533333333335, 82.47133333333333, 82.34133333333334, 82.23066666666666, 82.71700000000001, 82.709, 81.99733333333334, 82.71633333333334, 82.06366666666666, 82.31733333333334, 81.98333333333333, 81.634, 81.884, 81.456, 82.20533333333333, 82.492, 82.67166666666667, 82.25866666666667, 81.87999999999998, 82.48066666666666, 82.39133333333332, 81.39266666666667, 82.08333333333333, 82.94366666666666, 82.914, 81.676, 81.75600000000001, 82.275, 81.861, 82.93033333333332, 82.72166666666666, 82.25, 82.02699999999999, 82.66233333333335, 81.73866666666667, 82.77233333333334, 82.15866666666666, 82.42766666666667, 82.12033333333333, 83.08099999999999, 82.23033333333333, 81.81400000000001, 82.51633333333332, 82.47533333333332, 82.55633333333334, 82.49666666666666, 82.15566666666668, 82.10333333333334, 81.86166666666666, 82.23433333333334, 82.39433333333334, 81.361, 81.93033333333332, 82.37033333333333, 81.712, 82.28899999999999, 82.167, 82.02033333333334, 82.173, 82.29966666666665, 81.72533333333334, 81.73066666666666, 81.75500000000001, 81.72766666666666, 82.22533333333332, 81.83099999999999, 82.24166666666669, 82.225, 81.29199999999999, 81.595, 82.486, 82.65833333333333, 81.88666666666667, 81.75166666666668, 82.07033333333334, 82.136, 82.58099999999999, 82.37799999999999, 81.347, 81.67566666666667, 83.15866666666666, 82.71666666666667, 82.761, 82.08933333333333, 82.40233333333332, 83.23566666666666, 81.38933333333333, 81.90666666666668, 81.92433333333334, 81.97533333333332, 82.325, 82.02199999999999, 81.71666666666667, 82.61066666666667, 82.27199999999999, 82.60533333333333, 82.41433333333335, 81.68366666666667, 82.22333333333333, 83.067, 83.52833333333334, 82.44333333333333, 82.11433333333333, 82.02866666666667, 82.23166666666667, 81.99166666666666, 82.10066666666667, 82.32533333333332, 81.38866666666668, 82.29633333333332, 82.259, 81.74533333333333, 82.45800000000001, 82.203, 81.97233333333334, 82.523, 82.45866666666667, 81.89733333333334, 81.47533333333334, 82.36133333333333, 82.24733333333333, 82.54466666666667, 82.55233333333334, 82.42266666666666, 82.04966666666665, 82.21433333333334, 82.07033333333334, 81.71366666666667, 81.13333333333334, 82.29199999999999, 81.94733333333333, 81.36666666666666, 82.31700000000001, 82.16966666666667, 82.64466666666667, 82.472, 82.92999999999999, 82.85233333333332, 82.273, 82.369, 82.63300000000001, 81.92766666666667, 82.009, 82.60566666666666, 81.83566666666667, 82.44133333333335, 81.997, 82.63133333333334, 82.23133333333334, 82.14966666666666, 82.38433333333334, 82.20833333333333, 82.711, 83.0, 82.43666666666668, 82.12866666666667, 82.46033333333334, 81.85799999999999, 82.062, 82.114, 82.26166666666667, 82.57233333333333, 82.461, 81.61899999999999, 81.40933333333334, 81.78633333333333, 82.075, 82.39200000000001, 82.02266666666668, 82.33933333333333, 82.04500000000002, 81.57866666666668, 81.85866666666668, 81.43966666666667, 82.34966666666668, 81.57366666666667, 81.71333333333334, 81.66933333333333, 81.792, 81.466, 81.48433333333334, 82.59500000000001, 82.86899999999999, 81.172, 82.611, 82.04166666666669, 81.88066666666667, 81.525, 82.92133333333332, 82.51966666666667, 82.38866666666668, 82.264, 81.88866666666668, 82.57799999999999, 82.72266666666665, 82.38100000000001, 82.59733333333334, 82.25766666666667, 82.11066666666666, 82.497, 81.36133333333333, 82.77233333333334, 81.528, 82.01433333333334, 82.06966666666666, 82.61066666666666, 82.30300000000001, 82.05300000000001, 81.88966666666667, 82.392, 82.85233333333332, 81.961, 82.38633333333334, 81.32233333333333, 82.25100000000002, 81.759, 81.65233333333335, 82.32000000000001, 82.93133333333334, 82.31133333333334, 81.886, 82.80766666666666, 81.71133333333333, 81.21933333333332, 81.93333333333334, 81.90033333333332, 82.16466666666666, 82.681, 82.48933333333335, 81.828, 82.285, 82.672, 81.44133333333335, 82.092, 82.598, 82.10100000000001, 82.578, 81.83433333333333, 81.66366666666666, 82.39766666666667, 82.40933333333334, 82.39966666666666, 82.30266666666667, 82.64666666666666, 82.27166666666666, 82.67033333333333, 82.37000000000002, 81.81766666666667, 80.90799999999999, 82.86633333333333, 81.76666666666667, 82.12133333333333, 81.34133333333332, 82.96433333333333, 82.87166666666666, 82.35533333333333, 82.20866666666666, 81.61633333333333, 81.77533333333334, 82.34466666666667, 82.55933333333333, 81.30333333333334, 81.86133333333333, 82.31099999999999, 82.02, 81.481, 81.83633333333334, 81.72800000000001, 81.753, 81.93433333333334, 81.85566666666666, 83.05733333333333, 82.39099999999999, 81.05266666666667, 82.83833333333334, 81.617, 81.43166666666667, 83.05066666666667, 82.25366666666667, 81.83133333333333, 82.11433333333335, 81.60066666666668, 81.40833333333333, 82.00066666666666, 81.20833333333333, 81.52166666666668, 82.20566666666667, 82.80833333333334, 82.27333333333334, 82.03633333333333, 81.64766666666667, 82.43599999999999, 82.575, 82.209, 81.67, 82.911, 81.23299999999999, 82.355, 82.25933333333333, 82.05499999999999, 81.86633333333333, 81.73, 82.76433333333333, 82.70033333333335, 82.01533333333333, 82.42233333333334, 82.12100000000001, 82.07533333333335, 82.59133333333334, 82.14399999999999, 82.72, 81.75233333333333, 82.19699999999999, 82.21366666666667, 81.85233333333333, 81.97833333333334, 81.31366666666668, 82.078, 82.83666666666666, 81.56166666666667, 82.68133333333334, 82.34666666666666, 82.64733333333334, 81.78933333333335, 82.048, 82.58633333333334, 81.389, 81.73833333333332, 81.664, 82.414, 81.92833333333333, 81.25833333333334, 82.184, 82.66033333333333, 81.77199999999999, 82.29566666666668, 82.30066666666667, 83.01466666666667, 82.22800000000001, 82.28766666666665, 82.62233333333333, 82.389, 82.75299999999999, 82.68933333333334, 82.63033333333334, 82.33966666666666, 82.23533333333334, 82.639, 82.189, 81.773, 81.74966666666666, 82.41566666666667, 82.35266666666666, 81.57533333333335, 81.72300000000001, 82.60966666666668, 82.48899999999999, 82.10233333333332, 82.99233333333333, 82.15333333333334, 82.925, 81.792, 82.46433333333334, 82.20266666666666, 82.273, 80.753, 82.33933333333334, 82.97766666666666, 82.22466666666668, 82.20533333333333, 82.06633333333333, 82.61566666666666, 82.12133333333334, 82.378, 81.69699999999999, 82.373, 82.54466666666667, 81.903, 82.05566666666667, 82.91733333333335, 82.211, 81.80666666666667, 81.16333333333334, 82.40033333333334, 82.031, 82.084, 82.20866666666666, 81.98833333333332, 82.164, 82.25866666666666, 81.82199999999999, 82.09733333333334, 82.10966666666668, 82.23066666666666, 81.206, 82.06733333333334, 82.00266666666667, 81.26933333333334, 81.62866666666667, 81.937, 82.39233333333333, 81.54299999999999, 82.42233333333334, 81.841, 81.53633333333333, 81.752, 81.359, 82.32233333333333, 82.614, 81.917, 82.65233333333332, 82.54466666666667, 81.86933333333333, 82.3, 81.97366666666667, 81.87866666666667, 81.961, 82.29733333333334, 82.969, 82.65233333333332, 82.13633333333334, 81.14366666666666, 81.99733333333333, 82.33033333333333, 82.12866666666667, 82.045, 82.63833333333332, 82.57033333333334, 82.28633333333333, 82.35866666666668, 81.90566666666668, 82.30566666666667, 82.15566666666665, 82.155, 81.74766666666667, 82.80166666666666, 81.68666666666667, 82.12233333333333, 81.88066666666667, 82.42733333333332, 82.09733333333332, 82.98333333333333, 81.231, 81.92833333333334, 82.714, 81.26666666666667, 82.25266666666667, 82.43599999999999, 82.90633333333334, 82.17800000000001, 82.44633333333333, 81.781, 81.455, 82.13033333333333, 81.84466666666667, 82.275, 81.509, 82.71066666666665, 83.04466666666667, 82.65766666666667, 81.52533333333334, 83.21733333333333, 82.59766666666668, 82.06933333333333, 82.89500000000001, 81.714, 82.59133333333332, 81.85300000000001, 82.016, 81.378, 82.08566666666667, 82.80066666666667, 82.40866666666666, 81.15033333333334, 82.44133333333333, 82.38866666666667, 82.73366666666668, 82.55266666666667, 82.49266666666668, 82.29633333333332, 82.91499999999999, 82.15033333333334, 81.92233333333336, 82.46066666666665, 82.639, 82.05033333333334, 82.82033333333334, 81.78366666666666, 81.54033333333334, 82.406, 83.225, 82.33400000000002, 82.54166666666667, 82.29199999999999, 82.21933333333332, 81.989, 82.54133333333333, 82.17233333333334, 82.69166666666666, 82.76366666666667, 82.93299999999999, 82.18033333333332, 82.44200000000001, 82.43966666666667, 82.57933333333334, 82.07300000000001, 82.29466666666667, 81.52133333333333, 82.33666666666667, 82.45366666666668, 81.33033333333333, 82.22566666666668, 82.68100000000001, 82.05833333333334, 81.95266666666666, 82.11133333333333, 82.34966666666668, 82.11933333333333, 81.994, 82.41633333333334, 82.06400000000001, 81.58300000000001, 82.13933333333333, 81.77466666666666, 82.48933333333335, 80.94433333333333, 82.17266666666667, 82.281, 82.01133333333334, 81.227, 81.10533333333333, 82.42566666666667, 81.836, 81.67233333333334, 81.74433333333333, 82.78666666666666, 81.81466666666667, 82.134, 83.01133333333334, 82.89466666666667, 81.96766666666669, 82.06500000000001, 82.35533333333333, 81.533, 82.50566666666667, 82.19466666666666, 81.217, 82.89766666666667, 82.31066666666666, 81.81166666666667, 83.17333333333333, 81.55900000000001, 81.64699999999999, 82.025, 82.10600000000001, 81.27733333333335, 81.36233333333332, 81.65066666666667, 82.66933333333333, 82.492, 82.585, 82.58566666666665, 82.74766666666666, 82.56933333333333, 81.57900000000001, 82.13833333333332, 82.71366666666667, 82.619, 81.77033333333334, 82.528, 82.65566666666668, 81.50233333333333, 82.24666666666666, 82.57266666666668, 82.32300000000001, 82.24100000000001, 81.97733333333332, 82.73666666666666, 83.0, 82.03833333333334, 82.31166666666667, 81.45333333333335, 81.34466666666667, 81.997, 80.784, 82.422, 83.139, 82.76666666666667, 81.81666666666666, 82.15833333333333, 81.58866666666667, 82.33066666666667, 82.33500000000001, 81.40333333333335, 82.67766666666667, 83.25333333333334, 82.06666666666666, 81.37233333333333, 81.95033333333335, 82.04233333333333, 81.42233333333334, 82.075, 82.20533333333333, 82.54533333333333, 82.06733333333334, 81.617, 82.71733333333333, 81.33933333333333, 81.85333333333334, 82.53666666666666, 81.77199999999999, 81.32233333333333, 80.71933333333332, 82.75566666666666, 81.35799999999999, 81.82533333333332, 82.653, 82.14466666666667, 82.14733333333334, 82.89733333333334, 82.89100000000002, 81.953, 82.19766666666666, 82.16666666666667, 82.61666666666666, 83.10900000000001, 82.30233333333332, 81.15, 82.56633333333335, 82.34233333333334, 82.58766666666665, 82.423, 82.36899999999999, 81.46733333333333, 81.786, 81.79733333333334, 82.10066666666667, 82.01733333333333, 81.81133333333334, 81.12533333333334, 81.65866666666668, 83.05033333333334, 82.06933333333333, 82.26066666666667, 82.81066666666666, 81.83366666666667, 82.34766666666668, 82.02433333333333, 82.012, 81.58266666666667, 82.08933333333334, 82.32266666666668, 82.05600000000001, 82.56166666666667, 82.44800000000002, 82.22233333333334, 82.594, 82.31666666666666, 82.63866666666667, 82.325, 81.73, 82.08633333333334, 82.016, 81.969, 81.392, 82.11666666666666, 82.22866666666667, 82.764, 82.15, 81.48033333333333, 82.47800000000001, 82.23833333333333, 82.85100000000001, 81.29533333333333, 82.264, 82.31633333333335, 82.25066666666666, 82.905, 82.43566666666666, 82.009, 82.79433333333333, 82.16433333333335, 82.106, 80.80866666666667, 81.77233333333334, 82.68033333333332, 83.119, 82.48866666666666, 82.53966666666666, 81.536, 82.51966666666665]\n"
     ]
    }
   ],
   "source": [
    "mean_cup_points_1000 = []\n",
    "for i in range(1000):\n",
    "    mean_cup_points_1000.append(\n",
    "        coffee_ratings.sample(n=30)['total_cup_points'].mean()\n",
    "    )\n",
    "print(mean_cup_points_1000)"
   ]
  },
  {
   "cell_type": "code",
   "execution_count": 71,
   "metadata": {},
   "outputs": [
    {
     "data": {
      "image/png": "[encoded data removed]",
      "text/plain": [
       "<Figure size 640x480 with 1 Axes>"
      ]
     },
     "metadata": {},
     "output_type": "display_data"
    }
   ],
   "source": [
    "import matplotlib.pyplot as plt\n",
    "plt.hist(mean_cup_points_1000, bins=30)\n",
    "plt.show()"
   ]
  },
  {
   "cell_type": "markdown",
   "metadata": {},
   "source": [
    "Replicating samples\n",
    "When you calculate a point estimate such as a sample mean, the value you calculate depends on the rows that were included in the sample. That means that there is some randomness in the answer. In order to quantify the variation caused by this randomness, you can create many samples and calculate the sample mean (or another statistic) for each sample.\n",
    "\n",
    "attrition_pop is available; pandas and matplotlib.pyplot are loaded with their usual aliases."
   ]
  },
  {
   "cell_type": "code",
   "execution_count": 74,
   "metadata": {},
   "outputs": [
    {
     "name": "stdout",
     "output_type": "stream",
     "text": [
      "[0.1, 0.16666666666666666, 0.16666666666666666, 0.18333333333333332, 0.25]\n"
     ]
    }
   ],
   "source": [
    "# Create an empty list\n",
    "mean_attritions = []\n",
    "# Loop 500 times to create 500 sample means\n",
    "for i in range(500):\n",
    "\tmean_attritions.append(\n",
    "    \tattrition_pop.sample(n=60)['Attrition'].mean()\n",
    "\t)\n",
    "  \n",
    "# Print out the first few entries of the list\n",
    "print(mean_attritions[0:5])"
   ]
  },
  {
   "cell_type": "code",
   "execution_count": 77,
   "metadata": {},
   "outputs": [
    {
     "data": {
      "image/png": "[encoded data removed]",
      "text/plain": [
       "<Figure size 640x480 with 1 Axes>"
      ]
     },
     "metadata": {},
     "output_type": "display_data"
    }
   ],
   "source": [
    "# Create an empty list\n",
    "mean_attritions = []\n",
    "# Loop 500 times to create 500 sample means\n",
    "for i in range(500):\n",
    "\tmean_attritions.append(\n",
    "    \tattrition_pop.sample(n=60)['Attrition'].mean()\n",
    "\t)\n",
    "\n",
    "# Create a histogram of the 500 sample means\n",
    "plt.hist(mean_attritions, bins=16)\n",
    "plt.show()"
   ]
  },
  {
   "cell_type": "markdown",
   "metadata": {},
   "source": [
    "#### **Approximate sampling distributions**\n",
    "\n",
    "1. 4 dice\n",
    "dice = expand_grid(\n",
    "{'die1': [1, 2, 3, 4, 5, 6],\n",
    "'die2': [1, 2, 3, 4, 5, 6],\n",
    "'die3': [1, 2, 3, 4, 5, 6],\n",
    "'die4': [1, 2, 3, 4, 5, 6]\n",
    "}\n",
    ")\n",
    "2. Mean roll\n",
    "dice['mean_roll'] = (dice['die1'] +\n",
    "dice['die2'] +\n",
    "dice['die3'] +\n",
    "dice['die4']) / 4\n",
    "print(dice)\n",
    "3. Exact sampling distribution\n",
    "dice['mean_roll'] = dice['mean_roll'].astype('category')\n",
    "dice['mean_roll'].value_counts(sort=False).plot(kind=\"bar\")\n",
    "4. The number of outcomes increases fast\n",
    "n_dice = list(range(1, 101))\n",
    "n_outcomes = []\n",
    "for n in n_dice:\n",
    "n_outcomes.append(6**n)\n",
    "outcomes = pd.DataFrame(\n",
    "{\"n_dice\": n_dice,\n",
    "\"n_outcomes\": n_outcomes})\n",
    "outcomes.plot(x=\"n_dice\",\n",
    "y=\"n_outcomes\",\n",
    "kind=\"scatter\")\n",
    "plt.show()\n",
    "5. Simulating the mean of four dice rolls\n",
    "import numpy as np \n",
    "sample_means_1000 = []\n",
    "for i in range (1000): \n",
    "    sample_means_1000.append(\n",
    "        np.random.choice(list(range(1, 7)), size=4, replace=True).mean()\n",
    "    )\n",
    "print(sample_means_1000)\n",
    "6. Approximate sampling distribution\n",
    "plt.hist(sample_means_1000, bins=20)"
   ]
  },
  {
   "cell_type": "code",
   "execution_count": 81,
   "metadata": {},
   "outputs": [],
   "source": [
    "import itertools\n",
    "import pandas as pd\n",
    "import numpy as np\n",
    "\n",
    "def expand_grid(dictionary):\n",
    "    return pd.DataFrame([row for row in itertools.product(*dictionary.values())], \n",
    "                       columns=dictionary.keys())\n",
    "\n",
    "dice = expand_grid({\n",
    "    'die1': [1, 2, 3, 4, 5, 6],\n",
    "    'die2': [1, 2, 3, 4, 5, 6],\n",
    "    'die3': [1, 2, 3, 4, 5, 6],\n",
    "    'die4': [1, 2, 3, 4, 5, 6]\n",
    "})"
   ]
  },
  {
   "cell_type": "code",
   "execution_count": 82,
   "metadata": {},
   "outputs": [
    {
     "name": "stdout",
     "output_type": "stream",
     "text": [
      "      die1  die2  die3  die4  mean_roll\n",
      "0        1     1     1     1       1.00\n",
      "1        1     1     1     2       1.25\n",
      "2        1     1     1     3       1.50\n",
      "3        1     1     1     4       1.75\n",
      "4        1     1     1     5       2.00\n",
      "...    ...   ...   ...   ...        ...\n",
      "1291     6     6     6     2       5.00\n",
      "1292     6     6     6     3       5.25\n",
      "1293     6     6     6     4       5.50\n",
      "1294     6     6     6     5       5.75\n",
      "1295     6     6     6     6       6.00\n",
      "\n",
      "[1296 rows x 5 columns]\n"
     ]
    }
   ],
   "source": [
    "dice['mean_roll'] = (dice['die1'] +\n",
    "dice['die2'] +\n",
    "dice['die3'] +\n",
    "dice['die4']) / 4\n",
    "print(dice)"
   ]
  },
  {
   "cell_type": "code",
   "execution_count": 83,
   "metadata": {},
   "outputs": [
    {
     "data": {
      "text/plain": [
       "<AxesSubplot: >"
      ]
     },
     "execution_count": 83,
     "metadata": {},
     "output_type": "execute_result"
    },
    {
     "data": {
      "image/png": "[encoded data removed]",
      "text/plain": [
       "<Figure size 640x480 with 1 Axes>"
      ]
     },
     "metadata": {},
     "output_type": "display_data"
    }
   ],
   "source": [
    "dice['mean_roll'] = dice['mean_roll'].astype('category')\n",
    "dice['mean_roll'].value_counts(sort=False).plot(kind=\"bar\")"
   ]
  },
  {
   "cell_type": "code",
   "execution_count": 85,
   "metadata": {},
   "outputs": [
    {
     "data": {
      "image/png": "[encoded data removed]",
      "text/plain": [
       "<Figure size 640x480 with 1 Axes>"
      ]
     },
     "metadata": {},
     "output_type": "display_data"
    }
   ],
   "source": [
    "n_dice = list(range(1, 101))\n",
    "n_outcomes = []\n",
    "for n in n_dice:\n",
    "    n_outcomes.append(6**n)\n",
    "outcomes = pd.DataFrame(\n",
    "{\"n_dice\": n_dice,\n",
    "\"n_outcomes\": n_outcomes})\n",
    "outcomes.plot(x=\"n_dice\",\n",
    "y=\"n_outcomes\",\n",
    "kind=\"scatter\")\n",
    "plt.show()"
   ]
  },
  {
   "cell_type": "code",
   "execution_count": 86,
   "metadata": {},
   "outputs": [
    {
     "data": {
      "text/plain": [
       "3.25"
      ]
     },
     "execution_count": 86,
     "metadata": {},
     "output_type": "execute_result"
    }
   ],
   "source": [
    "import numpy as np\n",
    "np.random.choice(list(range(1, 7)), size=4, replace=True).mean()"
   ]
  },
  {
   "cell_type": "code",
   "execution_count": 88,
   "metadata": {},
   "outputs": [
    {
     "name": "stdout",
     "output_type": "stream",
     "text": [
      "[3.5, 4.5, 4.75, 3.25, 4.0, 3.25, 4.5, 2.0, 4.0, 4.0, 5.0, 3.75, 2.0, 4.25, 2.75, 3.75, 2.75, 4.25, 2.75, 5.0, 4.25, 4.75, 3.25, 3.0, 3.0, 5.75, 4.75, 3.25, 3.0, 1.75, 4.5, 3.5, 3.0, 3.25, 2.0, 4.5, 4.25, 3.25, 2.75, 3.75, 3.0, 4.0, 3.5, 3.5, 4.0, 3.5, 2.5, 3.75, 2.25, 3.5, 2.75, 2.5, 4.25, 3.25, 3.25, 4.0, 3.75, 3.75, 1.75, 2.5, 3.75, 3.75, 2.75, 5.25, 4.0, 3.5, 3.25, 3.5, 2.25, 3.0, 4.5, 3.0, 4.25, 4.0, 3.5, 5.75, 3.25, 4.25, 3.5, 2.75, 3.75, 4.75, 3.25, 4.0, 2.0, 3.5, 3.5, 2.75, 5.0, 3.25, 3.25, 3.0, 3.5, 3.75, 4.0, 3.25, 2.25, 3.0, 3.0, 3.25, 2.75, 3.5, 4.5, 2.75, 3.5, 4.25, 4.5, 3.75, 4.5, 4.25, 3.5, 3.25, 2.5, 3.75, 3.25, 3.25, 3.0, 3.0, 4.0, 4.0, 3.25, 4.0, 3.25, 4.25, 3.0, 4.0, 4.0, 3.25, 3.0, 3.75, 3.5, 4.75, 2.5, 3.75, 3.25, 1.75, 2.5, 4.75, 3.75, 3.25, 3.5, 4.75, 2.75, 2.75, 3.0, 4.5, 3.75, 2.5, 3.5, 3.75, 3.25, 3.5, 3.25, 4.25, 1.75, 2.25, 3.25, 3.5, 1.75, 4.0, 2.75, 2.0, 4.0, 4.5, 5.0, 5.25, 2.5, 3.25, 3.0, 2.75, 4.75, 3.5, 2.75, 3.75, 2.25, 4.0, 4.0, 3.25, 3.0, 3.5, 2.75, 2.75, 3.75, 4.75, 4.75, 2.5, 3.5, 4.25, 4.0, 3.5, 4.5, 3.75, 5.0, 5.0, 4.5, 4.25, 3.5, 2.25, 4.5, 3.25, 3.75, 3.75, 3.0, 4.5, 2.75, 4.25, 4.75, 3.5, 4.25, 2.5, 4.25, 3.5, 3.5, 4.0, 3.25, 4.0, 3.0, 5.25, 2.0, 4.75, 5.25, 4.0, 3.25, 3.75, 3.25, 2.25, 2.75, 4.5, 2.25, 2.5, 4.5, 4.0, 3.75, 4.0, 3.75, 4.25, 2.75, 3.0, 3.75, 3.75, 3.0, 3.5, 3.25, 2.25, 3.5, 2.75, 3.25, 4.5, 2.5, 3.5, 3.25, 2.75, 5.25, 1.75, 4.0, 2.75, 5.5, 2.75, 2.75, 2.5, 3.25, 3.5, 2.5, 2.75, 4.25, 3.5, 5.0, 3.5, 3.0, 1.5, 4.75, 4.0, 3.0, 3.75, 3.25, 3.25, 2.0, 2.0, 3.75, 3.25, 3.25, 2.25, 4.5, 2.75, 3.25, 5.5, 4.25, 1.75, 3.25, 2.25, 2.75, 3.75, 5.5, 3.25, 4.25, 3.25, 4.25, 4.0, 3.5, 4.0, 3.25, 4.25, 2.75, 2.5, 3.25, 4.25, 4.5, 4.0, 4.0, 4.25, 2.25, 2.25, 3.25, 3.25, 3.25, 3.75, 1.75, 3.25, 1.75, 3.0, 4.75, 3.5, 4.0, 3.25, 2.5, 3.25, 4.0, 3.25, 3.75, 3.25, 4.25, 3.75, 3.0, 3.0, 3.25, 4.25, 5.25, 4.0, 3.5, 3.5, 3.5, 4.5, 3.5, 3.25, 3.25, 4.0, 2.5, 3.0, 2.75, 3.0, 2.75, 3.0, 3.0, 2.75, 3.75, 5.0, 3.75, 4.0, 4.5, 3.25, 3.25, 4.0, 2.75, 2.75, 3.25, 3.75, 2.5, 4.0, 4.0, 4.25, 4.25, 3.75, 3.25, 3.75, 4.25, 2.75, 4.75, 4.25, 4.75, 4.25, 4.5, 2.5, 3.75, 2.5, 2.75, 2.0, 3.5, 4.0, 3.5, 3.25, 2.5, 4.25, 4.5, 3.25, 4.75, 4.75, 4.0, 2.75, 4.5, 2.5, 2.0, 4.5, 3.0, 4.25, 3.25, 4.25, 5.0, 1.75, 4.25, 1.5, 4.25, 3.0, 1.25, 2.75, 3.75, 3.5, 5.25, 4.25, 3.25, 5.25, 2.5, 4.25, 3.25, 5.0, 4.75, 3.25, 4.0, 3.0, 4.75, 2.5, 2.25, 4.5, 3.75, 3.0, 3.0, 4.0, 4.25, 2.75, 1.75, 3.25, 4.0, 3.5, 2.5, 4.0, 4.0, 2.5, 3.75, 4.75, 3.5, 3.0, 3.0, 2.75, 3.25, 5.5, 3.5, 4.0, 3.75, 3.25, 2.5, 3.0, 3.5, 4.25, 3.75, 4.5, 3.25, 3.75, 3.0, 3.5, 3.25, 2.5, 1.75, 2.0, 4.75, 2.5, 4.75, 2.75, 4.25, 4.0, 4.0, 4.25, 4.5, 3.0, 3.25, 3.0, 3.0, 3.75, 3.75, 2.75, 4.0, 4.75, 2.75, 3.5, 3.25, 3.25, 3.0, 4.0, 3.0, 2.25, 3.75, 3.25, 4.75, 3.75, 4.25, 4.0, 3.5, 3.75, 3.25, 3.0, 3.75, 4.0, 3.75, 4.0, 3.5, 4.5, 4.0, 4.25, 4.0, 3.25, 3.25, 2.75, 2.5, 2.5, 2.75, 3.25, 4.75, 2.25, 3.25, 3.5, 3.5, 2.5, 2.75, 2.0, 3.25, 3.0, 4.25, 2.75, 3.75, 3.25, 2.5, 4.75, 2.25, 2.75, 4.5, 3.5, 2.75, 4.0, 2.25, 2.75, 5.25, 2.25, 5.0, 5.0, 4.0, 3.5, 5.25, 4.25, 3.5, 1.75, 4.5, 3.75, 3.75, 2.25, 4.0, 2.5, 5.25, 4.75, 3.5, 3.5, 4.0, 3.5, 3.0, 3.75, 3.25, 3.25, 2.25, 2.5, 2.0, 4.25, 3.5, 2.25, 2.75, 2.5, 4.5, 3.0, 3.5, 3.75, 4.75, 3.0, 2.0, 2.75, 2.75, 4.5, 4.75, 4.0, 3.75, 4.5, 4.0, 3.25, 2.5, 2.5, 4.5, 3.25, 3.75, 4.25, 2.75, 3.25, 3.25, 3.0, 3.5, 3.25, 3.5, 2.25, 4.5, 1.5, 3.5, 4.5, 3.25, 4.25, 2.5, 3.5, 5.0, 3.0, 3.5, 2.25, 3.5, 2.0, 3.25, 2.75, 5.25, 3.75, 3.0, 3.5, 3.25, 3.25, 2.25, 3.25, 1.75, 2.75, 4.0, 4.5, 4.0, 3.5, 3.25, 3.25, 3.25, 4.0, 4.25, 3.25, 3.0, 2.5, 5.0, 3.25, 2.75, 2.5, 4.0, 3.5, 2.25, 4.25, 4.25, 2.5, 4.0, 3.75, 4.75, 4.0, 2.25, 3.5, 2.5, 2.5, 4.0, 2.5, 4.5, 3.75, 3.25, 3.5, 3.75, 3.75, 2.5, 3.25, 2.75, 4.75, 3.75, 5.0, 3.5, 4.75, 3.0, 4.25, 1.75, 3.5, 2.5, 2.25, 3.0, 1.75, 5.25, 3.25, 3.5, 3.25, 3.5, 3.0, 4.0, 3.75, 3.0, 3.0, 5.5, 4.5, 3.25, 3.5, 2.75, 3.5, 3.75, 3.0, 3.5, 3.5, 4.5, 2.75, 3.0, 3.0, 3.5, 4.0, 2.75, 3.75, 3.25, 2.5, 2.5, 3.0, 2.25, 5.0, 2.25, 4.25, 4.25, 5.0, 3.75, 3.75, 4.25, 4.75, 3.25, 3.75, 3.75, 3.75, 3.5, 2.25, 5.75, 3.25, 4.75, 4.0, 3.25, 3.0, 2.25, 4.5, 2.75, 3.25, 2.75, 2.25, 3.5, 3.75, 2.25, 2.5, 3.25, 4.5, 3.0, 4.25, 3.75, 2.5, 3.0, 3.0, 5.5, 3.5, 4.0, 4.5, 4.0, 3.5, 3.75, 3.0, 4.5, 3.0, 4.75, 3.5, 2.5, 4.0, 5.25, 4.0, 4.75, 2.75, 2.75, 4.75, 3.0, 2.75, 4.0, 3.5, 1.75, 4.5, 3.25, 4.25, 4.0, 3.75, 5.5, 2.5, 3.5, 3.25, 4.75, 3.5, 2.5, 3.75, 4.0, 1.75, 4.0, 4.25, 2.5, 3.75, 3.75, 4.0, 4.0, 1.25, 3.5, 3.0, 4.75, 4.75, 4.25, 4.25, 3.25, 3.5, 3.0, 3.75, 3.25, 4.25, 3.5, 2.5, 2.75, 5.5, 3.0, 3.75, 4.0, 3.5, 1.75, 3.0, 2.5, 2.5, 2.25, 3.75, 4.75, 1.75, 3.5, 3.75, 2.75, 3.75, 2.5, 3.25, 3.0, 3.25, 3.25, 4.0, 2.25, 3.25, 4.0, 5.0, 5.0, 3.75, 3.5, 3.75, 3.0, 3.25, 3.25, 4.5, 4.5, 3.75, 3.5, 3.5, 4.25, 1.75, 4.25, 4.0, 3.5, 3.25, 4.75, 2.5, 3.5, 4.0, 3.25, 2.75, 4.0, 4.0, 5.25, 3.25, 2.5, 3.5, 3.0, 5.0, 3.5, 3.75, 4.5, 4.25, 4.0, 3.0, 4.25, 3.5, 3.5, 4.25, 2.75, 4.75, 2.75, 5.25, 4.0, 3.25, 3.5, 4.5, 3.75, 5.0, 4.5, 2.0, 2.5, 3.75, 3.0, 4.75, 3.75, 4.25, 3.75, 3.75, 3.25, 1.75, 2.0, 4.0, 5.5, 4.0, 4.25, 2.5, 3.25, 3.75, 3.25, 3.75, 4.5, 3.25, 4.25, 3.25, 4.0, 3.75, 4.75, 4.5, 3.75, 2.75, 3.25, 3.0, 3.5, 3.25, 2.75, 4.5, 4.0, 3.5, 3.5, 2.5, 4.0, 2.75, 3.75, 3.0, 3.0, 2.5, 4.25, 1.5, 5.0, 4.5, 4.75, 2.25, 2.0, 2.0, 2.0, 2.25, 3.25, 1.75, 2.5, 2.5, 3.5, 3.5, 3.5, 4.0, 3.0, 3.0, 2.75, 3.75, 4.0, 4.75, 4.5, 3.0, 5.0, 2.5, 3.75, 4.0, 4.5, 2.75, 5.0, 5.0, 3.75, 2.75, 3.0, 3.0, 4.25, 4.25, 2.0, 2.75, 4.75, 4.5, 3.5, 3.0]\n"
     ]
    },
    {
     "data": {
      "text/plain": [
       "(array([  2.,   4.,  23.,  21.,  38.,  68.,  78.,  87., 133.,   0., 112.,\n",
       "        102.,  99.,  73.,  58.,  49.,  25.,  16.,   9.,   3.]),\n",
       " array([1.25 , 1.475, 1.7  , 1.925, 2.15 , 2.375, 2.6  , 2.825, 3.05 ,\n",
       "        3.275, 3.5  , 3.725, 3.95 , 4.175, 4.4  , 4.625, 4.85 , 5.075,\n",
       "        5.3  , 5.525, 5.75 ]),\n",
       " <BarContainer object of 20 artists>)"
      ]
     },
     "execution_count": 88,
     "metadata": {},
     "output_type": "execute_result"
    },
    {
     "data": {
      "image/png": "[encoded data removed]",
      "text/plain": [
       "<Figure size 640x480 with 1 Axes>"
      ]
     },
     "metadata": {},
     "output_type": "display_data"
    }
   ],
   "source": [
    "import numpy as np \n",
    "sample_means_1000 = []\n",
    "for i in range (1000): \n",
    "    sample_means_1000.append(\n",
    "        np.random.choice(list(range(1, 7)), size=4, replace=True).mean()\n",
    "    )\n",
    "print(sample_means_1000)\n",
    "\n",
    "plt.hist(sample_means_1000, bins=20)"
   ]
  },
  {
   "cell_type": "markdown",
   "metadata": {},
   "source": [
    "Exact sampling distribution\n",
    "To quantify how the point estimate (sample statistic) you are interested in varies, you need to know all the possible values it can take and how often. That is, you need to know its distribution.\n",
    "\n",
    "The distribution of a sample statistic is called the sampling distribution. When we can calculate this exactly, rather than using an approximation, it is known as the exact sampling distribution.\n",
    "\n",
    "Let's take another look at the sampling distribution of dice rolls. This time, we'll look at five eight-sided dice. (These have the numbers one to eight.)\n",
    "\n",
    "pandas, numpy, and matplotlib.pyplot are loaded with their usual aliases. The expand_grid() function is also available, which expects a dictionary of key-value pairs as its argument. The definition of the expand_grid() function is provided in the pandas documentation."
   ]
  },
  {
   "cell_type": "code",
   "execution_count": 91,
   "metadata": {},
   "outputs": [
    {
     "data": {
      "image/png": "[encoded data removed]",
      "text/plain": [
       "<Figure size 640x480 with 1 Axes>"
      ]
     },
     "metadata": {},
     "output_type": "display_data"
    }
   ],
   "source": [
    "# Expand a grid representing five 8-sided dice\n",
    "dice = expand_grid(\n",
    "  {'die1': [1, 2, 3, 4, 5, 6, 7, 8],\n",
    "   'die2': [1, 2, 3, 4, 5, 6, 7, 8],\n",
    "   'die3': [1, 2, 3, 4, 5, 6, 7, 8],\n",
    "   'die4': [1, 2, 3, 4, 5, 6, 7, 8],\n",
    "   'die5': [1, 2, 3, 4, 5, 6, 7, 8]\n",
    "  })\n",
    "\n",
    "# Add a column of mean rolls and convert to a categorical\n",
    "dice['mean_roll'] = (dice['die1'] + dice['die2'] + \n",
    "                     dice['die3'] + dice['die4'] + \n",
    "                     dice['die5']) / 5\n",
    "dice['mean_roll'] = dice['mean_roll'].astype('category')\n",
    "\n",
    "# Draw a bar plot of mean_roll\n",
    "dice['mean_roll'].value_counts(sort=False).plot(kind=\"bar\")\n",
    "plt.show()"
   ]
  },
  {
   "cell_type": "markdown",
   "metadata": {},
   "source": [
    "Generating an approximate sampling distribution\n",
    "Calculating the exact sampling distribution is only possible in very simple situations. With just five eight-sided dice, the number of possible rolls is 8**5, which is over thirty thousand. When the dataset is more complicated, for example, where a variable has hundreds or thousands of categories, the number of possible outcomes becomes too difficult to compute exactly.\n",
    "\n",
    "In this situation, you can calculate an approximate sampling distribution by simulating the exact sampling distribution. That is, you can repeat a procedure over and over again to simulate both the sampling process and the sample statistic calculation process.\n",
    "\n",
    "pandas, numpy, and matplotlib.pyplot are loaded with their usual aliases."
   ]
  },
  {
   "cell_type": "code",
   "execution_count": 92,
   "metadata": {},
   "outputs": [
    {
     "name": "stdout",
     "output_type": "stream",
     "text": [
      "4.8\n"
     ]
    }
   ],
   "source": [
    "# Sample one to eight, five times, with replacement\n",
    "five_rolls = np.random.choice(list(range(1, 9)), size=5, replace=True)\n",
    "\n",
    "# Print the mean of five_rolls\n",
    "print(five_rolls.mean())"
   ]
  },
  {
   "cell_type": "code",
   "execution_count": 93,
   "metadata": {},
   "outputs": [
    {
     "name": "stdout",
     "output_type": "stream",
     "text": [
      "[5.2, 4.2, 5.8, 5.2, 2.6, 3.4, 4.0, 4.6, 2.6, 6.0]\n"
     ]
    }
   ],
   "source": [
    "# Replicate the sampling code 1000 times\n",
    "sample_means_1000 = []\n",
    "for i in range (1000):\n",
    "    sample_means_1000.append(\n",
    "  \t\tnp.random.choice(list(range(1, 9)), size=5, replace=True).mean()\n",
    "    )\n",
    "    \n",
    "# Print the first 10 entries of the result\n",
    "print(sample_means_1000[0:10])"
   ]
  },
  {
   "cell_type": "code",
   "execution_count": 94,
   "metadata": {},
   "outputs": [
    {
     "data": {
      "image/png": "[encoded data removed]",
      "text/plain": [
       "<Figure size 640x480 with 1 Axes>"
      ]
     },
     "metadata": {},
     "output_type": "display_data"
    }
   ],
   "source": [
    "# Replicate the sampling code 1000 times\n",
    "sample_means_1000 = []\n",
    "for i in range(1000):\n",
    "    sample_means_1000.append(\n",
    "  \t\tnp.random.choice(list(range(1, 9)), size=5, replace=True).mean()\n",
    "    )\n",
    "\n",
    "# Draw a histogram of sample_means_1000 with 20 bins\n",
    "plt.hist(sample_means_1000, bins=20)\n",
    "plt.show()"
   ]
  },
  {
   "cell_type": "markdown",
   "metadata": {},
   "source": [
    "#### **Standard errors and the Central Limit Theorem*\n",
    "\n",
    "1. Consequences of the central limit theorem\n",
    "Averages of independent samples have approximately normal distributions.\n",
    "As the sample size increases,\n",
    "The distribution of the averages gets closer to being normally distributed\n",
    "The width of the sampling distribution gets narrower\n",
    "2. Population & sampling distribution means\n",
    "coffee_ratings['total_cup_points'].mean()\n",
    "3. Population & sampling distribution standard deviations\n",
    "coffee_ratings['total_cup_points'].std(ddof=0)\n",
    "\n",
    "Specify ddof=0 when calling .std() on\n",
    "populations\n",
    "Specify ddof=1 when calling np.std() on\n",
    "samples or sampling distributions\n",
    "4. Population mean over square root sample size\n",
    "Sample size Std dev sample mean Calculation Result\n",
    "5 1.1886358227738543 2.685858187306438 / sqrt(5) 1.201\n",
    "20 0.5940321141669805 2.685858187306438 / sqrt(20) 0.601\n",
    "80 0.2934024263916487 2.685858187306438 / sqrt(80) 0.300\n",
    "320 0.13095083089190876 2.685858187306438 / sqrt(320) 0.150\n",
    "5. Standard error\n",
    "Standard deviation of the sampling distribution\n",
    "Important tool in understanding sampling variability"
   ]
  },
  {
   "cell_type": "code",
   "execution_count": 97,
   "metadata": {},
   "outputs": [
    {
     "data": {
      "text/plain": [
       "82.15120328849028"
      ]
     },
     "metadata": {},
     "output_type": "display_data"
    },
    {
     "data": {
      "text/plain": [
       "2.685858187306438"
      ]
     },
     "metadata": {},
     "output_type": "display_data"
    }
   ],
   "source": [
    "display(\n",
    "coffee_ratings['total_cup_points'].mean()\n",
    ")\n",
    "\n",
    "display(\n",
    "coffee_ratings['total_cup_points'].std(ddof=0)\n",
    ")"
   ]
  },
  {
   "cell_type": "markdown",
   "metadata": {},
   "source": [
    "Population & sampling distribution means\n",
    "One of the useful features of sampling distributions is that you can quantify them. Specifically, you can calculate summary statistics on them. Here, you'll look at the relationship between the mean of the sampling distribution and the population parameter's mean.\n",
    "\n",
    "Three sampling distributions are provided. For each, the employee attrition dataset was sampled using simple random sampling, then the mean attrition was calculated. This was done 1000 times to get a sampling distribution of mean attritions. One sampling distribution used a sample size of 5 for each replicate, one used 50, and one used 500.\n",
    "\n",
    "attrition_pop, sampling_distribution_5, sampling_distribution_50, and sampling_distribution_500 are available; numpy as np is loaded."
   ]
  },
  {
   "cell_type": "code",
   "execution_count": 107,
   "metadata": {},
   "outputs": [],
   "source": [
    "sampling_distribution_5 = []\n",
    "# Loop 500 times to create 500 sample means\n",
    "for i in range(5):\n",
    "\tsampling_distribution_5.append(\n",
    "    \tattrition_pop.sample(n=5)['Attrition'].mean()\n",
    "\t)"
   ]
  },
  {
   "cell_type": "code",
   "execution_count": 104,
   "metadata": {},
   "outputs": [],
   "source": [
    "sampling_distribution_50 = []\n",
    "# Loop 500 times to create 500 sample means\n",
    "for i in range(50):\n",
    "\tsampling_distribution_50.append(\n",
    "    \tattrition_pop.sample(n=50)['Attrition'].mean()\n",
    "\t)"
   ]
  },
  {
   "cell_type": "code",
   "execution_count": 105,
   "metadata": {},
   "outputs": [],
   "source": [
    "sampling_distribution_500 = []\n",
    "# Loop 500 times to create 500 sample means\n",
    "for i in range(500):\n",
    "\tsampling_distribution_500.append(\n",
    "    \tattrition_pop.sample(n=500)['Attrition'].mean()\n",
    "\t)"
   ]
  },
  {
   "cell_type": "code",
   "execution_count": 112,
   "metadata": {},
   "outputs": [
    {
     "name": "stdout",
     "output_type": "stream",
     "text": [
      "0.08\n",
      "0.1692\n",
      "0.16061999999999999\n"
     ]
    }
   ],
   "source": [
    "# Calculate the mean of the mean attritions for each sampling distribution\n",
    "mean_of_means_5 = np.mean(sampling_distribution_5)\n",
    "mean_of_means_50 = np.mean(sampling_distribution_50)\n",
    "mean_of_means_500 = np.mean(sampling_distribution_500)\n",
    "# Print the results\n",
    "print(mean_of_means_5)\n",
    "print(mean_of_means_50)\n",
    "print(mean_of_means_500)"
   ]
  },
  {
   "cell_type": "markdown",
   "metadata": {},
   "source": [
    "Population & sampling distribution variation\n",
    "You just calculated the mean of the sampling distribution and saw how it is an estimate of the corresponding population parameter. Similarly, as a result of the central limit theorem, the standard deviation of the sampling distribution has an interesting relationship with the population parameter's standard deviation and the sample size.\n",
    "\n",
    "attrition_pop, sampling_distribution_5, sampling_distribution_50, and sampling_distribution_500 are available; numpy is loaded with its usual alias."
   ]
  },
  {
   "cell_type": "code",
   "execution_count": 119,
   "metadata": {},
   "outputs": [
    {
     "name": "stdout",
     "output_type": "stream",
     "text": [
      "0.10954451150103323\n",
      "0.06301408977525647\n",
      "0.013537730248478179\n"
     ]
    }
   ],
   "source": [
    "# Calculate the std. dev. of the mean attritions for each sampling distribution\n",
    "sd_of_means_5 = np.std(sampling_distribution_5, ddof=1)\n",
    "\n",
    "sd_of_means_50 = np.std(sampling_distribution_50, ddof=1)\n",
    "\n",
    "sd_of_means_500 = np.std(sampling_distribution_500, ddof=1)\n",
    "\n",
    "# Print the results\n",
    "print(sd_of_means_5)\n",
    "print(sd_of_means_50)\n",
    "print(sd_of_means_500)"
   ]
  },
  {
   "attachments": {},
   "cell_type": "markdown",
   "metadata": {},
   "source": [
    "## **Bootstrap Distributions (Module 04-053)**"
   ]
  },
  {
   "attachments": {},
   "cell_type": "markdown",
   "metadata": {},
   "source": [
    "#### **Introduction to bootstrapping**\n",
    "\n",
    "1. With or without\n",
    "Sampling without replacement:  poker\n",
    "Sampling with replacement (\"resampling\"): dices\n",
    "2. Why sample with replacement?\n",
    "coffee_ratings : a sample of a larger population of all coffees\n",
    "Each coffee in our sample represents many different hypothetical population coffees\n",
    "Sampling with replacement is a proxy\n",
    "3. Coffee data preparation\n",
    "coffee_focus = coffee_ratings[[\"variety\", \"country_of_origin\", \"flavor\"]]\n",
    "coffee_focus = coffee_focus.reset_index()\n",
    "4. Resampling with .sample()\n",
    "coffee_resamp = coffee_focus.sample(frac=1, replace=True)\n",
    "5. Repeated coffees\n",
    "coffee_resamp[\"index\"].value_counts()\n",
    "6. Missing coffees\n",
    "num_unique_coffees = len(coffee_resamp.drop_duplicates(subset=\"index\"))\n",
    "len(coffee_ratings) - num_unique_coffees\n",
    "\n",
    "7. Bootstrapping\n",
    "The opposite of sampling from a\n",
    "population\n",
    "\n",
    "Sampling: going from a population to a\n",
    "smaller sample\n",
    "\n",
    "Bootstrapping: building up a theoretical\n",
    "population from the sample\n",
    "\n",
    "Bootstrapping use case:\n",
    "Develop understanding of sampling\n",
    "variability using a single sample\n",
    "\n",
    "8. Bootstrapping process\n",
    "\n",
    "1. Make a resample of the same size as the original sample\n",
    "2. Calculate the statistic of interest for this bootstrap sample\n",
    "3. Repeat steps 1 and 2 many times\n",
    "The resulting statistics are bootstrap statistics, and they form a bootstrap distribution\n",
    "\n",
    "9. Bootstrapping coffee mean flavor\n",
    "\n",
    "import numpy as np\n",
    "mean_flavors_1000 = []\n",
    "for i in range(1000):\n",
    "mean_flavors_1000.append(\n",
    "np.mean(coffee_sample.sample(frac=1, replace=True)['flavor'])\n",
    ")"
   ]
  },
  {
   "cell_type": "code",
   "execution_count": 120,
   "metadata": {},
   "outputs": [],
   "source": [
    "coffee_focus = coffee_ratings[[\"variety\", \"country_of_origin\", \"flavor\"]]\n",
    "coffee_focus = coffee_focus.reset_index()"
   ]
  },
  {
   "cell_type": "code",
   "execution_count": 122,
   "metadata": {},
   "outputs": [
    {
     "name": "stdout",
     "output_type": "stream",
     "text": [
      "      index        variety             country_of_origin  flavor\n",
      "373     373           None        United States (Hawaii)    7.67\n",
      "532     532           None                      Thailand    7.25\n",
      "1131   1131  Hawaiian Kona        United States (Hawaii)    7.00\n",
      "549     549        Caturra                      Colombia    7.50\n",
      "879     879          Other  Tanzania, United Republic Of    7.33\n",
      "...     ...            ...                           ...     ...\n",
      "198     198        Caturra                      Colombia    7.67\n",
      "645     645           None                     Guatemala    7.58\n",
      "97       97        Caturra                      Colombia    7.92\n",
      "677     677        Bourbon                     Guatemala    7.50\n",
      "896     896        Bourbon                     Guatemala    7.42\n",
      "\n",
      "[1338 rows x 4 columns]\n"
     ]
    }
   ],
   "source": [
    "coffee_resamp = coffee_focus.sample(frac=1, replace=True)\n",
    "print(coffee_resamp)"
   ]
  },
  {
   "cell_type": "code",
   "execution_count": 123,
   "metadata": {},
   "outputs": [
    {
     "data": {
      "text/plain": [
       "68      5\n",
       "1237    5\n",
       "196     5\n",
       "591     4\n",
       "1319    4\n",
       "       ..\n",
       "356     1\n",
       "583     1\n",
       "563     1\n",
       "272     1\n",
       "677     1\n",
       "Name: index, Length: 847, dtype: int64"
      ]
     },
     "execution_count": 123,
     "metadata": {},
     "output_type": "execute_result"
    }
   ],
   "source": [
    "coffee_resamp[\"index\"].value_counts()"
   ]
  },
  {
   "cell_type": "code",
   "execution_count": 126,
   "metadata": {},
   "outputs": [
    {
     "data": {
      "image/png": "[encoded data removed]",
      "text/plain": [
       "<Figure size 640x480 with 1 Axes>"
      ]
     },
     "metadata": {},
     "output_type": "display_data"
    }
   ],
   "source": [
    "import numpy as np\n",
    "mean_flavors_1000 = []\n",
    "for i in range(1000):\n",
    "    mean_flavors_1000.append(\n",
    "        np.mean(coffee_sample.sample(frac=1, replace=True)['flavor'])\n",
    ")\n",
    "    \n",
    "plt.hist(mean_flavors_1000)\n",
    "plt.show()"
   ]
  },
  {
   "cell_type": "markdown",
   "metadata": {},
   "source": [
    "Generating a bootstrap distribution\n",
    "The process for generating a bootstrap distribution is similar to the process for generating a sampling distribution; only the first step is different.\n",
    "\n",
    "To make a sampling distribution, you start with the population and sample without replacement. To make a bootstrap distribution, you start with a sample and sample that with replacement. After that, the steps are the same: calculate the summary statistic that you are interested in on that sample/resample, then replicate the process many times. In each case, you can visualize the distribution with a histogram.\n",
    "\n",
    "Here, spotify_sample is a subset of the spotify_population dataset. To make it easier to see how resampling works, a row index column called 'index' has been added, and only the artist name, song name, and danceability columns have been included.\n",
    "\n",
    "spotify_sample is available; pandas, numpy, and matplotlib.pyplot are loaded with their usual aliases."
   ]
  },
  {
   "cell_type": "code",
   "execution_count": 128,
   "metadata": {},
   "outputs": [
    {
     "name": "stdout",
     "output_type": "stream",
     "text": [
      "0.5931234\n"
     ]
    }
   ],
   "source": [
    "# Generate 1 bootstrap resample\n",
    "spotify_1_resample = spotify_sample.sample(frac=1, replace=True)\n",
    "\n",
    "# Calculate of the danceability column of spotify_1_resample\n",
    "mean_danceability_1 = np.mean(spotify_1_resample['danceability'])\n",
    "\n",
    "# Print the result\n",
    "print(mean_danceability_1)"
   ]
  },
  {
   "cell_type": "code",
   "execution_count": 130,
   "metadata": {},
   "outputs": [
    {
     "data": {
      "image/png": "[encoded data removed]",
      "text/plain": [
       "<Figure size 640x480 with 1 Axes>"
      ]
     },
     "metadata": {},
     "output_type": "display_data"
    }
   ],
   "source": [
    "# Replicate this 1000 times\n",
    "mean_danceability_1000 = []\n",
    "for i in range(1000):\n",
    "\tmean_danceability_1000.append(\n",
    "        np.mean(spotify_sample.sample(frac=1, replace=True)['danceability'])\n",
    "\t)\n",
    "\n",
    "# Draw a histogram of the resample means\n",
    "plt.hist(mean_danceability_1000)\n",
    "plt.show()"
   ]
  },
  {
   "attachments": {},
   "cell_type": "markdown",
   "metadata": {},
   "source": [
    "#### **Comparing sampling and bootstrap distributions**\n",
    "\n",
    "1. Coffee focused subset\n",
    "coffee_sample = coffee_ratings[[\"variety\", \"country_of_origin\", \"flavor\"]]\\\n",
    ".reset_index().sample(n=500)\n",
    "2. The bootstrap of mean coffee flavors\n",
    "import numpy as np\n",
    "mean_flavors_5000 = []\n",
    "for i in range(5000):\n",
    "mean_flavors_5000.append(\n",
    "np.mean(coffee_sample.sample(frac=1, replace=True)['flavor'])\n",
    ")\n",
    "bootstrap_distn = mean_flavors_5000\n",
    "3. Mean flavor bootstrap distribution\n",
    "import matplotlib.pyplot as plt\n",
    "plt.hist(bootstrap_distn, bins=15)\n",
    "plt.show()\n",
    "4. Sample, bootstrap distribution, population means\n",
    "coffee_sample['flavor'].mean()\n",
    "coffee_ratings['flavor'].mean()\n",
    "np.mean(bootstrap_distn)\n",
    "\n",
    "5. Interpreting the means\n",
    "Bootstrap distribution mean:\n",
    "Usually close to the sample mean\n",
    "May not be a good estimate of the population mean\n",
    "Bootstrapping cannot correct biases from sampling\n",
    "\n",
    "6. Sample sd vs. bootstrap distribution sd\n",
    "Sample standard deviation:\n",
    "coffee_sample['flavor'].std()\n",
    "\n",
    "Estimated population standard deviation?\n",
    "np.std(bootstrap_distn, ddof=1)\n",
    "\n",
    "7. Sample, bootstrap dist'n, pop'n standard deviations\n",
    "Sample standard deviation:\n",
    "coffee_sample['flavor'].std()\n",
    "\n",
    "True standard deviation:\n",
    "coffee_ratings['flavor'].std(ddof=0)\n",
    "\n",
    "Estimated population standard deviation:\n",
    "standard_error = np.std(bootstrap_distn, ddof=1)\n",
    "\n",
    "Standard error is the standard deviation of the\n",
    "statistic of interest\n",
    "\n",
    "standard_error * np.sqrt(500)\n",
    "\n",
    "Standard error times square root of sample\n",
    "size estimates the population standard\n",
    "deviation\n",
    "\n",
    "8. Interpreting the standard errors\n",
    "\n",
    "Estimated standard error → standard deviation of the bootstrap distribution for a sample\n",
    "statistic\n",
    "Population std. dev ≈ Std. Error × √Sample size"
   ]
  },
  {
   "cell_type": "code",
   "execution_count": null,
   "metadata": {},
   "outputs": [],
   "source": [
    "coffee_sample = coffee_ratings[[\"variety\", \"country_of_origin\", \"flavor\"]]\\\n",
    ".reset_index().sample(n=500)"
   ]
  },
  {
   "cell_type": "code",
   "execution_count": 133,
   "metadata": {},
   "outputs": [
    {
     "data": {
      "image/png": "[encoded data removed]",
      "text/plain": [
       "<Figure size 640x480 with 1 Axes>"
      ]
     },
     "metadata": {},
     "output_type": "display_data"
    }
   ],
   "source": [
    "import numpy as np\n",
    "mean_flavors_5000 = []\n",
    "for i in range(5000):\n",
    "    mean_flavors_5000.append(\n",
    "        np.mean(coffee_sample.sample(frac=1, replace=True)['flavor'])\n",
    ")\n",
    "bootstrap_distn = mean_flavors_5000\n",
    "\n",
    "plt.hist(bootstrap_distn, bins=15)\n",
    "plt.show()"
   ]
  },
  {
   "cell_type": "code",
   "execution_count": 134,
   "metadata": {},
   "outputs": [
    {
     "data": {
      "text/plain": [
       "7.51724"
      ]
     },
     "metadata": {},
     "output_type": "display_data"
    },
    {
     "data": {
      "text/plain": [
       "7.526046337817639"
      ]
     },
     "metadata": {},
     "output_type": "display_data"
    },
    {
     "data": {
      "text/plain": [
       "7.51715324"
      ]
     },
     "metadata": {},
     "output_type": "display_data"
    }
   ],
   "source": [
    "display(\n",
    "coffee_sample['flavor'].mean()\n",
    ")\n",
    "\n",
    "display(\n",
    "coffee_ratings['flavor'].mean()\n",
    ")\n",
    "\n",
    "display(\n",
    "np.mean(bootstrap_distn)\n",
    ")"
   ]
  },
  {
   "cell_type": "code",
   "execution_count": 135,
   "metadata": {},
   "outputs": [
    {
     "data": {
      "text/plain": [
       "0.3412319752336285"
      ]
     },
     "metadata": {},
     "output_type": "display_data"
    },
    {
     "data": {
      "text/plain": [
       "0.015352741762901101"
      ]
     },
     "metadata": {},
     "output_type": "display_data"
    }
   ],
   "source": [
    "display(\n",
    "coffee_sample['flavor'].std()\n",
    ")\n",
    "\n",
    "display(\n",
    "np.std(bootstrap_distn, ddof=1)\n",
    ")"
   ]
  },
  {
   "cell_type": "code",
   "execution_count": 136,
   "metadata": {},
   "outputs": [
    {
     "data": {
      "text/plain": [
       "0.3412319752336285"
      ]
     },
     "metadata": {},
     "output_type": "display_data"
    },
    {
     "data": {
      "text/plain": [
       "0.34125481224622645"
      ]
     },
     "metadata": {},
     "output_type": "display_data"
    }
   ],
   "source": [
    "display(\n",
    "coffee_sample['flavor'].std()\n",
    ")\n",
    "\n",
    "display(\n",
    "coffee_ratings['flavor'].std(ddof=0)\n",
    ")"
   ]
  },
  {
   "cell_type": "code",
   "execution_count": 137,
   "metadata": {},
   "outputs": [
    {
     "name": "stdout",
     "output_type": "stream",
     "text": [
      "0.3432977422284682\n"
     ]
    }
   ],
   "source": [
    "standard_error = np.std(bootstrap_distn, ddof=1)\n",
    "print(standard_error * np.sqrt(500))"
   ]
  },
  {
   "cell_type": "markdown",
   "metadata": {},
   "source": [
    "Sampling distribution vs. bootstrap distribution\n",
    "The sampling distribution and bootstrap distribution are closely linked. In situations where you can repeatedly sample from a population (these occasions are rare), it's helpful to generate both the sampling distribution and the bootstrap distribution, one after the other, to see how they are related.\n",
    "\n",
    "Here, the statistic you are interested in is the mean popularity score of the songs.\n",
    "\n",
    "spotify_population (the whole dataset) and spotify_sample (500 randomly sampled rows from spotify_population) are available; pandas and numpy are loaded with their usual aliases."
   ]
  },
  {
   "cell_type": "code",
   "execution_count": 142,
   "metadata": {},
   "outputs": [
    {
     "name": "stdout",
     "output_type": "stream",
     "text": [
      "[54.928, 54.654, 55.292, 55.222, 53.77, 53.942, 54.614, 55.348, 54.99, 54.392, 54.864, 54.796, 54.912, 54.88, 54.864, 54.07, 54.76, 54.946, 55.082, 54.248, 54.508, 54.508, 54.446, 55.074, 55.35, 54.104, 54.832, 55.356, 54.742, 54.104, 55.092, 55.258, 54.216, 54.658, 55.442, 54.892, 54.826, 55.93, 55.362, 54.674, 55.14, 55.11, 54.936, 54.568, 55.088, 54.318, 55.704, 54.306, 54.42, 55.67, 54.528, 56.15, 55.746, 54.702, 54.832, 54.862, 55.312, 54.688, 54.84, 54.806, 54.11, 54.606, 55.08, 54.534, 55.414, 55.424, 55.23, 54.866, 55.322, 54.304, 54.994, 55.16, 54.996, 55.73, 55.286, 55.218, 54.856, 55.202, 54.426, 54.314, 55.28, 55.008, 55.392, 54.884, 54.964, 54.488, 54.424, 54.946, 55.3, 54.854, 55.372, 54.994, 54.298, 54.686, 54.99, 54.128, 55.812, 55.122, 55.112, 54.01, 54.412, 54.144, 54.478, 55.302, 54.498, 55.114, 55.226, 54.712, 55.098, 53.652, 54.794, 54.764, 55.444, 54.98, 54.306, 54.74, 54.304, 54.072, 54.544, 55.078, 54.358, 54.082, 54.992, 54.43, 55.402, 54.68, 54.866, 55.818, 54.902, 55.256, 55.22, 54.846, 55.056, 54.652, 54.508, 55.086, 54.662, 54.848, 55.36, 54.49, 55.448, 55.484, 55.24, 55.674, 54.658, 55.196, 54.362, 54.678, 54.388, 54.616, 54.634, 55.236, 55.038, 54.192, 55.168, 55.062, 55.266, 55.016, 55.31, 54.068, 55.276, 53.866, 55.078, 55.376, 54.958, 55.612, 54.17, 54.758, 54.794, 54.716, 54.898, 55.292, 55.068, 55.032, 55.094, 54.272, 54.694, 54.362, 54.9, 55.528, 55.2, 55.682, 54.31, 55.142, 54.744, 54.576, 54.942, 54.886, 54.482, 55.028, 54.82, 54.732, 54.376, 54.696, 54.416, 54.62, 55.69, 54.582, 55.17, 54.076, 55.8, 54.5, 56.124, 54.564, 55.016, 55.11, 54.994, 55.194, 55.1, 54.964, 54.92, 54.428, 54.3, 55.656, 54.14, 55.092, 54.302, 54.824, 54.538, 54.258, 54.562, 55.054, 54.582, 55.304, 54.456, 55.05, 54.646, 54.444, 54.118, 54.928, 54.708, 54.798, 55.618, 55.27, 54.33, 55.096, 54.478, 54.634, 55.562, 53.932, 54.096, 54.494, 55.448, 54.74, 54.71, 54.32, 54.712, 55.272, 55.168, 54.1, 55.376, 55.718, 54.922, 54.758, 54.548, 54.9, 54.554, 54.364, 54.914, 54.984, 55.596, 55.184, 55.034, 54.712, 54.522, 55.594, 55.534, 56.584, 55.914, 54.31, 55.896, 54.928, 54.486, 55.44, 55.784, 54.728, 54.828, 54.676, 55.222, 54.166, 53.982, 54.436, 55.208, 54.906, 54.56, 54.61, 55.444, 54.75, 54.662, 54.604, 54.412, 55.028, 54.708, 55.052, 54.692, 54.536, 55.956, 55.758, 55.284, 54.264, 55.042, 54.604, 54.9, 54.622, 54.452, 54.658, 54.624, 55.222, 55.318, 55.36, 55.506, 54.67, 55.544, 55.972, 54.37, 55.182, 54.158, 54.54, 54.666, 54.49, 55.24, 54.68, 54.904, 54.346, 54.974, 54.878, 54.586, 54.33, 55.5, 56.136, 54.476, 55.79, 54.884, 54.896, 54.914, 55.144, 54.388, 55.456, 55.286, 54.736, 54.14, 53.806, 54.412, 54.338, 55.296, 54.626, 55.048, 53.996, 54.874, 54.868, 54.052, 54.8, 55.224, 54.396, 54.766, 55.04, 54.604, 55.61, 54.502, 54.312, 54.544, 54.88, 55.322, 54.862, 55.03, 54.568, 55.166, 55.156, 55.434, 54.348, 54.31, 54.89, 54.512, 54.79, 55.09, 55.16, 54.784, 54.666, 54.93, 55.06, 54.566, 54.852, 55.812, 55.042, 55.05, 54.612, 54.532, 54.342, 55.528, 54.512, 55.08, 54.344, 55.856, 54.97, 54.868, 54.046, 54.74, 54.894, 54.63, 54.552, 54.606, 54.652, 55.176, 55.572, 54.53, 54.574, 55.326, 54.654, 54.636, 54.404, 54.97, 55.124, 54.908, 55.188, 54.264, 55.384, 55.476, 54.422, 55.27, 55.474, 55.292, 54.802, 54.794, 55.546, 55.478, 54.046, 53.862, 54.59, 55.188, 54.814, 54.784, 55.22, 55.078, 55.184, 54.53, 54.04, 55.542, 55.274, 54.722, 55.054, 55.298, 55.066, 54.694, 55.774, 54.652, 54.368, 55.492, 54.374, 54.464, 55.166, 55.272, 54.638, 55.322, 55.232, 54.836, 55.312, 55.708, 54.752, 54.28, 54.408, 54.76, 55.038, 55.644, 54.79, 55.0, 55.508, 54.668, 54.61, 54.962, 54.122, 54.236, 54.19, 54.842, 55.972, 54.602, 54.702, 54.292, 55.354, 55.66, 54.048, 55.116, 55.08, 55.258, 55.432, 55.122, 55.412, 55.202, 53.996, 54.458, 54.658, 55.078, 55.012, 54.802, 53.896, 54.298, 55.248, 55.278, 55.146, 54.934, 54.988, 54.25, 55.356, 54.552, 55.004, 55.746, 54.346, 55.012, 55.394, 54.72, 55.028, 54.65, 54.966, 54.95, 54.594, 54.884, 54.982, 54.116, 54.972, 54.8, 54.684, 55.254, 54.53, 55.576, 54.76, 54.818, 54.954, 55.38, 54.826, 54.57, 54.682, 54.734, 55.186, 55.232, 53.71, 54.546, 54.762, 54.834, 54.538, 55.038, 54.212, 55.084, 55.252, 54.41, 53.694, 54.64, 54.796, 54.378, 54.578, 54.268, 55.3, 55.202, 55.274, 55.28, 54.22, 54.872, 55.446, 55.092, 54.868, 54.762, 55.236, 54.768, 53.888, 54.684, 55.228, 54.472, 55.408, 54.944, 54.526, 54.308, 54.862, 55.056, 54.998, 56.048, 54.762, 54.834, 54.34, 55.126, 54.884, 54.654, 55.11, 54.72, 53.922, 55.098, 55.348, 54.562, 55.288, 55.806, 55.616, 54.86, 54.538, 55.008, 53.83, 55.358, 54.914, 55.576, 54.614, 54.516, 54.63, 55.05, 55.386, 54.942, 55.678, 55.638, 55.32, 55.036, 54.942, 55.084, 55.03, 55.042, 55.248, 55.064, 54.562, 54.574, 54.802, 55.052, 54.716, 54.542, 55.796, 54.018, 54.746, 53.568, 54.746, 54.81, 54.716, 54.618, 54.334, 54.392, 54.57, 55.43, 54.772, 54.348, 55.156, 54.792, 55.082, 55.0, 54.586, 54.73, 54.226, 54.532, 54.812, 54.63, 54.17, 54.94, 54.818, 55.152, 54.754, 54.662, 54.384, 55.456, 55.282, 54.398, 54.622, 55.146, 55.588, 55.102, 54.062, 54.926, 55.554, 56.168, 56.124, 54.862, 54.874, 54.49, 54.838, 55.966, 54.598, 54.992, 55.484, 55.288, 54.13, 55.024, 55.902, 54.484, 53.988, 56.368, 55.28, 55.478, 55.11, 54.896, 53.69, 55.038, 54.936, 54.782, 54.772, 55.958, 55.19, 54.858, 55.168, 54.85, 54.6, 55.618, 54.788, 54.714, 55.136, 54.088, 54.728, 54.034, 55.18, 54.5, 55.724, 54.374, 55.246, 55.16, 55.758, 54.524, 55.268, 54.998, 55.222, 55.298, 55.278, 54.222, 55.412, 54.23, 54.624, 55.452, 54.62, 54.632, 54.41, 55.19, 54.734, 54.842, 54.806, 55.396, 54.174, 55.214, 54.684, 55.234, 53.998, 55.104, 54.6, 55.564, 54.684, 55.972, 55.16, 55.102, 55.708, 56.024, 54.444, 54.918, 54.114, 54.324, 55.184, 55.556, 55.406, 54.702, 54.86, 54.724, 54.972, 54.19, 54.866, 54.696, 54.072, 53.852, 55.392, 54.756, 54.526, 55.054, 54.404, 55.336, 54.6, 54.374, 55.38, 55.014, 54.98, 55.812, 55.03, 54.736, 54.786, 55.06, 54.486, 55.122, 54.584, 55.244, 54.92, 54.306, 55.06, 54.622, 54.622, 54.784, 55.464, 53.592, 54.642, 55.54, 54.72, 54.948, 55.128, 54.578, 55.218, 54.454, 54.066, 54.18, 55.738, 55.006, 54.986, 54.714, 55.462, 55.528, 54.386, 55.066, 55.784, 55.218, 54.99, 54.606, 54.278, 54.182, 54.936, 55.082, 55.268, 54.338, 55.516, 55.106, 54.814, 55.462, 54.64, 54.95, 55.124, 55.028, 55.178, 54.388, 54.392, 54.758, 54.202, 55.46, 54.774, 54.868, 55.074, 54.564, 54.132, 54.882, 54.956, 54.294, 54.518, 54.398, 55.65, 55.292, 54.956, 56.192, 54.276, 53.92, 55.168, 55.046, 55.266, 55.012, 54.34, 55.67, 54.914, 54.306, 55.056, 54.422, 54.976, 54.68, 54.544, 53.744, 54.95, 54.472, 54.962, 55.33, 55.486, 55.466, 54.85, 54.394, 54.914, 54.552, 54.476, 54.902, 54.554, 54.826, 55.218, 55.182, 54.884, 54.894, 54.112, 54.788, 55.524, 54.718, 55.1, 55.298, 54.826, 54.952, 55.29, 54.08, 54.716, 55.504, 54.86, 54.462, 54.82, 54.628, 55.264, 54.622, 55.412, 55.084, 55.554, 54.768, 55.13, 54.698, 54.782, 55.33, 54.608, 55.042, 55.29, 55.628, 54.866, 54.558, 54.964, 55.018, 55.68, 54.474, 54.234, 55.852, 54.776, 54.482, 54.744, 54.422, 54.6, 54.606, 55.032, 54.62, 54.096, 53.554, 55.374, 54.46, 54.36, 53.828, 54.564, 54.832, 55.686, 55.128, 54.818, 54.852, 55.542, 54.488, 54.564, 54.22, 55.174, 54.86, 55.008, 54.902, 55.154, 54.768, 54.648, 54.84, 54.272, 55.732, 55.042, 54.996, 54.282, 54.7, 54.758, 54.594, 54.8, 55.598, 54.428, 55.258, 55.02, 54.432, 55.146, 53.762, 55.266, 55.328, 54.838, 54.46, 54.368, 55.222, 56.334, 55.34, 55.144, 54.324, 54.874, 55.188, 54.368, 54.798, 55.076, 55.484, 54.078, 54.374, 54.306, 54.788, 54.548, 55.06, 55.026, 55.148, 55.388, 54.016, 55.324, 54.33, 54.738, 54.1, 55.608, 55.078, 53.724, 54.852, 54.554, 54.58, 55.074, 53.604, 54.422, 55.036, 55.012, 54.54, 55.322, 54.384, 54.676, 55.222, 54.604, 55.304, 54.568, 55.466, 54.866, 54.466, 55.108, 55.038, 54.692, 55.134, 55.258, 55.19, 55.496, 54.38, 55.374, 55.398, 54.208, 54.174, 54.712, 54.35, 54.82, 54.848, 55.486, 55.276, 55.112, 54.378, 54.62, 55.032, 54.874, 54.672, 55.73, 54.95, 55.134, 55.302, 53.934, 54.878, 55.152, 54.476, 55.266, 54.532, 55.072, 55.028, 55.384, 54.87, 55.254, 54.502, 54.366, 54.4, 54.782, 55.248, 55.092, 55.428, 54.926, 54.784, 54.288, 54.094, 54.586, 54.688, 55.74, 55.05, 54.558, 55.856, 55.64, 54.588, 55.242, 55.174, 54.994, 54.08, 55.138, 54.996, 54.418, 54.164, 54.426, 53.6, 54.732, 54.802, 55.172, 55.674, 55.598, 54.548, 54.586, 53.564, 55.032, 54.588, 55.47, 55.748, 55.274, 55.03, 55.606, 54.966, 55.004, 54.354, 55.264, 53.99, 53.926, 54.632, 55.632, 55.422, 54.492, 54.758, 54.666, 54.4, 53.978, 55.072, 54.184, 55.898, 55.078, 55.182, 54.592, 54.94, 55.488, 54.458, 55.484, 54.88, 56.138, 55.296, 54.974, 54.304, 55.472, 54.862, 54.556, 54.504, 54.956, 54.848, 54.694, 54.172, 54.926, 54.814, 55.224, 54.646, 54.36, 54.874, 54.696, 55.328, 55.12, 55.508, 54.088, 55.886, 54.838, 55.284, 54.538, 55.216, 54.99, 54.9, 54.556, 55.066, 54.286, 55.534, 54.92, 54.62, 54.428, 54.81, 54.438, 54.742, 55.698, 54.948, 55.062, 55.282, 53.498, 54.908, 54.756, 55.252, 54.486, 55.286, 54.58, 54.566, 55.398, 53.956, 53.26, 55.556, 55.016, 54.7, 54.756, 53.734, 54.356, 55.294, 54.68, 55.066, 53.602, 55.332, 55.664, 54.354, 54.772, 55.086, 55.19, 54.112, 53.932, 55.484, 55.086, 55.216, 54.86, 55.62, 55.336, 54.568, 55.278, 54.438, 54.612, 55.496, 54.94, 55.036, 55.304, 54.122, 54.266, 54.76, 55.122, 55.382, 55.07, 55.46, 54.4, 55.42, 55.274, 54.626, 55.084, 55.382, 53.868, 54.966, 55.076, 54.238, 55.084, 54.924, 55.118, 55.458, 54.588, 55.518, 55.006, 54.48, 54.38, 55.316, 55.416, 54.326, 55.224, 54.334, 54.938, 54.822, 55.298, 54.272, 54.762, 54.602, 54.218, 53.796, 54.976, 54.614, 55.662, 54.558, 54.206, 54.65, 54.694, 54.946, 55.076, 55.038, 54.728, 54.742, 54.37, 54.016, 54.886, 54.52, 55.158, 55.24, 54.718, 54.408, 55.622, 54.676, 55.02, 54.192, 54.506, 54.322, 55.37, 54.482, 54.934, 54.774, 54.542, 54.348, 55.1, 55.052, 54.56, 54.556, 55.368, 54.842, 53.924, 55.39, 55.422, 54.734, 54.792, 54.16, 55.64, 55.032, 55.336, 55.528, 53.562, 54.966, 54.418, 54.138, 55.942, 55.884, 54.254, 54.906, 54.818, 56.48, 54.464, 55.128, 54.206, 55.43, 55.722, 54.986, 55.506, 54.652, 55.736, 54.742, 55.252, 54.672, 54.748, 55.814, 54.58, 54.752, 55.246, 55.066, 54.89, 54.962, 54.256, 54.888, 55.394, 54.906, 55.14, 55.454, 55.068, 54.556, 56.13, 54.024, 55.244, 54.434, 54.694, 55.168, 55.158, 54.668, 54.616, 54.752, 55.254, 55.41, 54.43, 54.564, 54.9, 54.788, 55.208, 54.498, 55.136, 55.686, 55.308, 54.324, 55.1, 55.134, 55.37, 54.02, 54.2, 55.044, 55.218, 55.64, 54.844, 53.742, 55.334, 55.364, 54.712, 55.224, 55.576, 54.262, 54.93, 54.758, 55.116, 54.086, 54.934, 54.39, 54.8, 53.962, 54.67, 54.892, 54.858, 54.682, 54.618, 55.188, 55.122, 55.148, 54.828, 55.048, 54.668, 54.362, 54.638, 55.184, 54.626, 54.142, 55.37, 55.052, 55.396, 54.714, 54.44, 55.528, 54.968, 55.106, 55.016, 54.504, 55.092, 55.292, 54.838, 54.504, 56.132, 54.634, 54.996, 55.176, 53.412, 54.6, 54.678, 54.72, 55.348, 55.51, 54.122, 55.288, 53.9, 54.958, 54.342, 54.808, 54.58, 54.576, 55.286, 55.144, 54.628, 55.022, 54.726, 54.324, 53.754, 54.24, 55.082, 55.248, 54.444, 55.406, 54.57, 55.56, 54.656, 54.958, 55.394, 54.982, 56.018, 54.564, 55.436, 54.748, 54.146, 54.798, 53.816, 55.932, 54.994, 54.296, 54.328, 55.374, 54.736, 55.408, 55.082, 54.628, 54.978, 54.384, 54.334, 54.144, 55.124, 55.248, 54.184, 55.81, 54.24, 55.284, 55.398, 55.082, 55.7, 54.942, 55.598, 55.052, 55.116, 54.446, 54.94, 55.736, 54.896, 53.662, 54.868, 54.35, 55.512, 54.26, 54.99, 55.584, 54.19, 55.142, 54.938, 55.048, 54.262, 54.514, 55.342, 54.988, 55.152, 55.124, 54.556, 54.662, 54.782, 53.57, 53.942, 54.64, 54.574, 55.206, 54.998, 55.254, 54.842, 55.406, 54.74, 55.088, 55.264, 55.21, 55.132, 54.794, 55.146, 54.23, 54.882, 54.766, 54.852, 55.478, 55.078, 55.458, 54.924, 55.772, 55.232, 54.254, 55.162, 54.728, 54.788, 55.526, 55.052, 55.068, 54.388, 54.482, 54.25, 55.036, 54.328, 54.994, 55.536, 54.304, 54.744, 55.242, 54.546, 55.212, 53.92, 54.538, 54.176, 54.056, 54.468, 54.478, 54.424, 54.5, 54.944, 54.856, 55.45, 54.374, 54.19, 55.394, 55.176, 54.926, 55.498, 55.168, 55.778, 55.182, 55.376, 54.82, 54.324, 54.604, 55.02, 55.558, 55.342, 54.6, 54.694, 55.372, 54.02, 55.172, 55.13, 54.336, 55.294, 55.328, 55.566, 55.01, 55.032, 54.872, 54.486, 55.604, 55.26, 54.424, 54.776, 55.118, 54.738, 54.53, 55.148, 54.382, 55.202, 56.37, 55.064, 55.532, 54.774, 54.418, 54.592, 54.652, 55.132, 55.148, 54.248, 54.46, 54.556, 54.524, 54.11, 54.104, 55.742, 55.388, 55.712, 54.44, 55.536, 54.832, 54.872, 54.59, 54.058, 54.894, 55.03, 54.104, 55.152, 55.142, 54.492, 53.836, 54.764, 53.954, 54.264, 53.808, 54.488, 55.306, 55.978, 54.632, 54.668, 55.034, 54.296, 55.334, 53.758, 55.134, 54.79, 54.83, 54.27, 54.96, 55.194, 54.916, 55.498, 55.244, 54.502, 55.228, 55.0, 54.384, 54.804, 55.006, 54.976, 54.664, 54.632, 54.128, 54.954, 54.694, 54.494, 54.62, 55.492, 54.264, 54.846, 54.48, 54.292, 55.092, 55.23, 54.604, 55.006, 54.504, 55.188, 55.228, 54.95, 55.412, 55.096, 54.708, 54.272, 54.366, 55.192, 54.49, 54.45, 55.666, 55.618, 54.946, 54.996, 55.144, 54.576, 54.298, 55.11, 54.644, 54.728, 54.866, 55.322, 54.48, 55.488, 53.88, 55.162, 55.216, 55.3, 54.966, 54.248, 55.76, 53.57, 54.902, 54.27, 54.94, 53.574, 54.718, 55.302, 54.164, 54.278, 54.904, 55.524, 54.638, 54.766, 54.04, 55.124, 54.71, 54.938, 54.63, 54.554, 54.124, 55.82, 55.086, 55.948, 54.474, 54.752, 55.454, 54.79, 54.908, 54.612, 54.376, 54.21, 53.966, 54.69, 55.406, 54.256, 54.638, 55.354, 54.672, 54.868, 55.45, 54.404, 55.086, 55.152, 54.414, 54.758, 55.72, 54.906, 55.482, 54.864, 54.158, 54.402, 54.572, 54.568, 54.836, 54.686, 55.882, 54.354, 54.516, 53.912, 54.48, 54.24, 54.168, 54.37, 55.754, 55.892, 54.614, 54.304, 55.7, 55.466, 55.312, 55.322, 55.306, 55.694, 55.096, 55.032, 54.402, 55.426, 53.946, 53.392, 54.458, 54.844, 54.36, 55.26, 55.242, 53.95, 54.398, 55.084, 55.71, 54.808, 54.86, 55.106, 54.414, 55.564, 54.482, 54.024, 55.246, 54.412, 54.72, 55.22, 54.648, 55.09, 54.772, 55.112, 54.366, 55.126, 54.866, 54.932, 54.406, 54.738, 54.702, 55.128, 54.534, 54.314, 55.178, 54.282, 54.87, 54.862, 55.424, 54.572, 55.156, 55.01, 54.348, 53.434, 54.948, 55.254, 53.974, 54.842, 54.604, 54.51, 54.992, 54.442, 55.122, 55.226, 54.234, 54.788, 55.39, 54.852, 54.618, 55.596, 54.502, 55.166, 55.584, 54.356, 54.384, 55.086, 54.962, 54.946, 54.47, 55.104, 54.228, 55.07, 54.79, 55.264, 54.8, 54.932, 54.748, 54.65, 55.02, 54.962, 55.666, 55.314, 54.83, 55.378, 54.718, 54.554, 55.202, 55.292, 54.13, 54.996, 55.258, 55.496, 54.912, 54.562, 54.57, 54.424, 55.234, 54.896, 54.638, 54.838, 54.792, 55.386, 55.044, 54.658, 54.914, 55.416, 54.512, 53.724, 55.142, 54.716, 55.342, 53.956, 54.756, 54.886, 54.704, 55.378, 54.51, 54.404, 55.288, 55.25, 55.266, 54.522, 55.49, 54.26, 54.73, 55.352, 54.618, 54.278, 54.966, 55.48, 55.468, 55.264, 54.628, 54.346, 54.516, 55.414, 54.752, 55.328, 55.574, 54.822, 53.734, 55.958, 54.38, 55.198, 53.682, 55.154, 55.354, 54.852, 55.682, 55.372, 54.96, 54.964, 54.274, 54.622, 54.244, 55.088, 54.938, 54.686, 54.67, 54.364, 54.586, 54.466, 54.498, 55.4, 54.954, 53.76, 54.048, 54.154, 54.754, 54.236, 54.794, 55.194, 55.186, 54.586, 55.348, 55.708, 55.018, 54.822, 53.806, 55.294, 55.264, 54.552, 54.444, 54.284, 54.448, 54.722, 54.692, 54.536, 55.076, 54.26, 54.852, 54.582, 54.842, 55.174, 55.552, 54.752, 54.786, 55.118, 54.554, 55.152, 55.098, 55.202, 54.03, 54.502, 54.91, 55.83, 55.558, 54.376, 54.284, 54.652, 55.086, 54.936, 54.908, 54.574, 54.138, 54.752, 54.712, 55.562]\n"
     ]
    }
   ],
   "source": [
    "mean_popularity_2000_boot = []\n",
    "\n",
    "# Generate a bootstrap distribution of 2000 replicates\n",
    "for i in range(2000):\n",
    "    mean_popularity_2000_boot.append(\n",
    "    \t# Resample 500 rows and calculate the mean popularity     \n",
    "    \tspotify_population.sample(n=500, replace=True)['popularity'].mean()\n",
    "    )\n",
    "\n",
    "# Print the bootstrap distribution results\n",
    "print(mean_popularity_2000_boot)"
   ]
  },
  {
   "cell_type": "code",
   "execution_count": 143,
   "metadata": {},
   "outputs": [
    {
     "name": "stdout",
     "output_type": "stream",
     "text": [
      "[53.816, 55.332, 54.134, 55.506, 54.676, 54.99, 54.32, 54.644, 54.788, 55.204, 55.448, 54.48, 54.262, 54.018, 54.798, 54.942, 53.872, 55.098, 54.388, 54.788, 54.698, 54.348, 55.188, 54.92, 54.898, 54.236, 54.124, 54.518, 54.812, 55.188, 54.85, 54.99, 54.892, 54.244, 54.776, 55.128, 54.278, 54.256, 55.206, 54.682, 55.206, 54.804, 54.718, 54.152, 54.834, 54.59, 55.28, 55.012, 54.778, 55.684, 54.796, 54.664, 55.446, 55.132, 53.77, 54.032, 54.66, 55.064, 55.466, 55.21, 54.022, 55.164, 54.822, 55.058, 54.518, 54.892, 54.138, 54.36, 55.344, 54.422, 55.282, 55.112, 55.298, 55.336, 54.412, 55.4, 54.654, 54.45, 54.598, 54.65, 54.168, 55.022, 55.272, 54.64, 54.62, 54.286, 54.02, 54.796, 54.506, 54.776, 54.264, 54.43, 54.218, 55.028, 55.8, 54.724, 54.482, 55.06, 54.492, 54.858, 55.136, 54.604, 54.918, 55.472, 54.394, 55.156, 54.158, 54.442, 54.208, 54.334, 54.262, 54.328, 54.488, 54.37, 54.254, 54.842, 54.804, 54.388, 54.56, 54.006, 54.984, 54.858, 55.554, 54.662, 54.688, 54.18, 54.662, 54.408, 55.116, 54.774, 54.628, 54.022, 53.89, 55.26, 55.566, 54.806, 54.968, 55.654, 54.13, 54.398, 55.714, 55.616, 54.818, 55.614, 55.056, 54.15, 54.966, 55.682, 54.99, 55.234, 54.698, 54.44, 54.906, 54.326, 54.06, 54.674, 54.006, 54.68, 54.316, 55.57, 54.668, 54.874, 53.776, 54.998, 55.35, 55.13, 56.066, 54.002, 54.314, 55.078, 54.49, 54.66, 55.688, 54.514, 54.272, 55.768, 55.554, 53.526, 54.358, 55.196, 55.344, 54.85, 54.638, 55.25, 54.914, 55.252, 54.81, 54.926, 53.99, 54.37, 54.118, 54.614, 55.102, 54.948, 55.404, 55.982, 54.948, 55.064, 54.628, 54.986, 54.334, 53.654, 55.144, 54.958, 54.924, 55.534, 55.136, 55.448, 55.784, 54.1, 55.284, 55.43, 54.036, 54.842, 54.926, 54.452, 54.726, 53.888, 55.198, 55.004, 54.456, 55.558, 54.634, 54.866, 54.148, 54.194, 55.364, 54.862, 53.992, 54.664, 54.992, 54.986, 54.396, 55.22, 55.252, 54.112, 55.03, 54.876, 55.632, 54.582, 54.604, 54.478, 54.986, 55.56, 54.81, 55.09, 54.936, 54.686, 54.138, 54.82, 55.644, 54.564, 54.5, 54.56, 55.038, 54.312, 54.134, 55.378, 54.402, 54.852, 54.408, 55.01, 55.3, 55.818, 54.802, 55.524, 54.474, 55.518, 54.996, 54.894, 54.89, 54.536, 54.764, 54.81, 55.548, 53.958, 54.704, 54.684, 54.028, 54.976, 54.884, 54.466, 54.124, 55.342, 54.302, 55.628, 54.688, 54.866, 55.14, 54.938, 54.892, 55.118, 54.142, 55.01, 55.26, 54.54, 54.166, 54.976, 54.276, 55.046, 54.776, 53.934, 54.806, 54.844, 55.058, 54.83, 54.416, 55.102, 54.332, 54.464, 54.354, 55.126, 54.058, 54.79, 55.066, 54.276, 55.04, 54.932, 53.612, 54.936, 54.732, 54.826, 55.258, 54.492, 56.066, 55.178, 54.55, 55.326, 56.444, 54.236, 55.21, 54.44, 54.216, 54.79, 55.436, 54.932, 54.35, 54.28, 54.96, 54.574, 54.892, 55.534, 54.294, 54.162, 55.704, 54.562, 54.522, 54.33, 54.542, 54.646, 54.468, 54.84, 54.322, 54.314, 55.102, 54.276, 54.744, 55.12, 54.784, 55.088, 55.476, 55.064, 54.562, 55.102, 55.286, 54.23, 55.058, 55.9, 54.886, 54.576, 54.142, 55.116, 54.494, 54.872, 55.558, 54.682, 54.262, 55.002, 54.546, 53.886, 54.776, 54.574, 54.84, 54.974, 54.878, 55.584, 55.28, 54.986, 55.782, 54.514, 54.918, 55.112, 54.962, 54.896, 54.132, 54.814, 54.748, 54.66, 53.906, 54.734, 54.958, 54.604, 54.496, 54.8, 54.668, 54.16, 55.7, 54.8, 54.188, 54.916, 54.676, 54.716, 55.264, 55.0, 54.122, 54.988, 55.03, 55.724, 55.08, 55.072, 54.78, 54.8, 54.262, 55.072, 56.002, 54.29, 54.356, 55.63, 54.232, 55.388, 54.782, 55.01, 54.09, 55.478, 54.24, 54.066, 54.702, 54.068, 54.026, 54.444, 53.954, 55.14, 54.708, 55.334, 54.13, 55.546, 54.562, 54.764, 54.296, 54.526, 54.284, 54.72, 55.256, 55.438, 55.116, 54.144, 55.438, 54.856, 54.48, 54.408, 54.614, 54.668, 53.958, 55.102, 56.088, 55.452, 54.508, 54.72, 55.358, 54.912, 54.94, 53.22, 55.492, 54.764, 54.552, 55.064, 55.654, 55.278, 54.376, 54.798, 54.694, 55.004, 54.798, 55.304, 54.82, 54.834, 54.57, 55.29, 54.84, 54.54, 54.414, 54.66, 54.39, 55.38, 54.958, 55.12, 54.74, 55.378, 54.51, 55.158, 54.356, 54.654, 54.698, 54.16, 55.392, 53.254, 54.704, 55.406, 54.74, 55.284, 54.468, 54.67, 55.248, 53.966, 54.752, 55.244, 54.47, 54.132, 55.556, 54.726, 55.408, 54.794, 55.504, 54.1, 53.888, 54.37, 53.974, 53.986, 55.214, 55.002, 54.422, 54.318, 54.628, 54.934, 54.904, 54.676, 54.402, 54.744, 54.66, 54.758, 54.594, 54.578, 55.606, 54.898, 54.39, 54.994, 54.758, 55.076, 55.13, 54.52, 54.614, 53.52, 55.004, 54.59, 54.886, 55.904, 54.826, 54.796, 54.822, 54.762, 54.822, 55.066, 54.024, 54.996, 54.818, 55.042, 54.884, 54.366, 54.95, 54.952, 54.136, 54.876, 54.658, 54.506, 55.168, 54.782, 55.626, 54.246, 54.086, 55.094, 54.486, 55.142, 55.018, 54.778, 54.864, 55.068, 55.638, 55.216, 54.262, 55.05, 54.644, 55.076, 54.76, 55.392, 54.94, 54.746, 55.16, 55.028, 55.236, 54.85, 54.852, 55.6, 54.564, 54.61, 55.54, 53.996, 54.662, 54.822, 53.226, 54.634, 53.924, 54.782, 54.716, 54.74, 55.82, 54.682, 54.036, 53.888, 55.524, 54.94, 54.262, 55.232, 54.498, 54.282, 55.438, 54.888, 54.966, 55.314, 54.9, 55.032, 54.234, 53.934, 54.97, 54.736, 54.272, 55.39, 54.018, 55.084, 55.536, 54.83, 54.97, 54.726, 55.378, 54.758, 54.128, 54.866, 55.082, 55.02, 55.496, 54.31, 55.308, 55.17, 55.416, 54.282, 54.494, 54.232, 55.418, 55.28, 54.062, 55.184, 54.958, 55.146, 54.742, 54.826, 54.682, 54.926, 55.898, 55.602, 55.19, 54.5, 53.966, 54.882, 54.728, 54.734, 54.71, 53.72, 54.67, 54.604, 54.36, 54.614, 54.864, 55.078, 54.178, 54.512, 55.208, 54.44, 54.524, 55.41, 53.242, 54.746, 54.558, 54.992, 54.326, 54.936, 54.27, 55.254, 55.436, 54.54, 56.868, 54.382, 55.712, 54.476, 54.294, 54.052, 55.316, 54.3, 55.326, 54.986, 55.46, 54.61, 54.23, 54.712, 54.438, 54.692, 55.544, 54.71, 54.13, 54.994, 54.606, 54.77, 54.952, 55.014, 55.166, 54.168, 53.954, 54.982, 54.93, 54.542, 55.212, 54.186, 55.228, 54.968, 54.536, 54.678, 54.488, 55.006, 53.808, 55.384, 54.858, 54.464, 54.72, 55.398, 54.434, 54.516, 54.514, 56.354, 55.832, 54.832, 54.542, 55.666, 54.528, 54.286, 54.092, 54.344, 55.14, 55.396, 55.28, 53.856, 55.606, 55.58, 53.852, 54.34, 54.46, 55.202, 54.288, 54.444, 55.254, 54.81, 54.664, 55.142, 54.826, 54.94, 56.306, 54.958, 55.326, 55.258, 55.03, 54.518, 55.966, 54.898, 54.662, 54.494, 54.884, 54.278, 54.804, 53.706, 54.366, 54.86, 54.814, 54.696, 55.29, 55.046, 54.404, 55.042, 54.152, 54.482, 54.182, 54.812, 55.052, 55.264, 54.908, 54.086, 54.638, 54.004, 54.838, 55.478, 54.594, 55.232, 54.794, 55.06, 54.592, 55.186, 54.122, 54.532, 55.066, 54.698, 54.514, 55.072, 54.982, 55.192, 54.732, 54.628, 55.2, 54.222, 54.276, 54.418, 55.014, 55.606, 54.602, 54.996, 54.324, 54.528, 55.076, 54.942, 54.866, 54.418, 55.384, 54.848, 54.9, 55.31, 54.804, 55.368, 55.096, 54.634, 54.336, 54.702, 54.092, 53.796, 54.926, 55.276, 54.11, 55.2, 54.82, 54.378, 54.764, 54.746, 54.77, 55.372, 55.824, 54.28, 55.702, 55.196, 54.938, 55.53, 55.332, 56.348, 54.908, 54.454, 54.464, 55.168, 54.846, 54.584, 54.624, 53.872, 55.464, 54.17, 54.024, 54.126, 54.484, 53.936, 54.26, 54.186, 54.608, 54.79, 55.432, 54.86, 55.206, 54.022, 54.606, 54.648, 55.488, 54.98, 54.386, 54.688, 54.178, 54.952, 55.786, 54.53, 54.96, 55.132, 54.83, 54.664, 53.994, 54.56, 55.51, 55.262, 54.93, 54.03, 55.562, 54.44, 54.746, 54.808, 55.258, 55.434, 54.59, 54.784, 55.046, 56.036, 54.504, 54.582, 55.726, 55.166, 55.364, 54.542, 54.57, 55.844, 54.088, 53.636, 55.05, 54.734, 54.344, 54.878, 54.218, 55.558, 55.274, 54.762, 55.03, 55.636, 54.88, 54.21, 54.24, 55.492, 55.53, 54.886, 55.11, 55.214, 53.724, 55.48, 55.606, 54.794, 54.736, 54.652, 54.274, 55.226, 55.14, 55.736, 55.222, 54.722, 54.4, 54.028, 55.568, 55.09, 55.518, 54.158, 54.294, 55.408, 54.944, 54.962, 54.988, 54.144, 55.234, 54.916, 54.77, 55.238, 55.212, 54.656, 55.018, 55.784, 54.162, 54.3, 54.8, 54.552, 53.934, 54.21, 55.518, 55.69, 55.434, 54.53, 55.276, 53.824, 55.328, 54.38, 54.192, 54.496, 54.214, 54.364, 55.138, 54.592, 54.804, 55.674, 55.012, 55.712, 54.928, 55.856, 54.356, 54.618, 54.066, 54.32, 55.06, 54.982, 54.546, 54.618, 55.322, 55.72, 55.74, 54.862, 54.686, 54.866, 54.504, 54.644, 54.468, 54.508, 54.374, 54.764, 55.624, 54.172, 54.712, 54.442, 55.402, 54.824, 54.794, 54.84, 55.088, 55.432, 54.944, 54.682, 54.484, 54.718, 55.384, 55.894, 54.116, 54.81, 55.458, 54.418, 54.334, 55.134, 54.276, 54.908, 54.662, 55.47, 54.296, 54.708, 53.572, 54.53, 54.554, 53.806, 54.278, 54.702, 54.836, 54.986, 53.982, 54.99, 54.998, 55.654, 54.172, 54.796, 54.292, 54.96, 54.832, 55.106, 55.272, 54.708, 55.01, 54.666, 54.786, 54.832, 55.046, 54.432, 55.126, 54.38, 54.364, 54.938, 55.388, 55.086, 55.442, 55.542, 53.94, 53.658, 55.12, 54.388, 55.102, 55.064, 54.968, 54.756, 54.456, 54.482, 55.32, 54.712, 54.812, 54.23, 54.788, 55.356, 54.846, 54.538, 55.124, 54.656, 54.388, 54.464, 53.996, 54.972, 54.5, 54.78, 55.736, 54.444, 53.972, 54.446, 54.416, 54.286, 55.276, 54.344, 53.884, 54.944, 54.992, 54.948, 54.412, 55.5, 55.612, 54.31, 55.548, 54.38, 53.432, 54.892, 53.876, 54.026, 55.028, 54.064, 54.232, 54.872, 54.118, 54.92, 53.766, 54.406, 53.934, 54.05, 54.522, 55.214, 54.522, 55.434, 54.548, 54.176, 55.188, 54.356, 54.714, 54.56, 54.026, 54.956, 53.638, 54.5, 54.618, 54.148, 54.856, 54.716, 53.73, 54.98, 54.716, 55.07, 54.71, 55.292, 54.752, 54.35, 55.55, 54.272, 54.642, 55.102, 53.324, 53.97, 54.108, 54.676, 54.844, 54.82, 53.888, 55.17, 54.604, 54.388, 54.804, 54.326, 53.746, 55.348, 55.032, 54.588, 55.062, 54.918, 55.272, 54.304, 54.588, 55.894, 54.582, 54.396, 54.926, 54.806, 54.378, 55.198, 55.002, 55.542, 55.06, 54.408, 54.104, 55.008, 54.758, 54.43, 54.366, 54.852, 54.452, 54.132, 54.242, 54.922, 53.688, 54.584, 55.216, 54.434, 54.608, 54.946, 53.99, 55.36, 54.818, 55.106, 54.532, 54.826, 55.122, 54.818, 54.742, 55.932, 55.896, 54.922, 54.152, 54.87, 55.464, 55.134, 55.602, 55.288, 54.296, 54.738, 55.044, 55.276, 54.582, 54.598, 54.974, 55.066, 54.242, 55.236, 55.436, 54.308, 55.244, 54.542, 54.976, 53.736, 54.996, 55.088, 55.182, 55.212, 54.96, 54.54, 55.896, 54.916, 54.382, 54.196, 54.61, 54.932, 54.94, 54.744, 54.548, 54.8, 54.554, 55.128, 55.496, 55.016, 54.626, 54.158, 55.558, 55.278, 54.684, 54.922, 55.368, 54.934, 54.658, 54.562, 54.732, 54.804, 54.536, 55.0, 54.94, 55.814, 54.378, 55.066, 54.644, 55.316, 54.844, 55.05, 54.748, 54.698, 54.902, 55.164, 55.436, 55.25, 55.516, 55.716, 55.094, 55.076, 54.79, 55.0, 54.818, 54.826, 54.546, 54.934, 54.646, 55.04, 54.6, 54.594, 54.814, 55.254, 54.5, 54.71, 55.03, 54.942, 54.504, 54.66, 53.802, 55.474, 55.324, 54.492, 54.882, 56.088, 55.208, 54.864, 54.276, 54.312, 54.538, 54.208, 54.386, 54.18, 54.664, 55.36, 55.976, 54.656, 54.98, 53.936, 54.112, 54.808, 54.756, 55.318, 54.016, 55.05, 54.582, 54.83, 54.82, 55.64, 54.762, 54.212, 55.23, 54.366, 54.604, 54.104, 54.974, 54.236, 54.904, 54.284, 54.366, 55.422, 54.482, 55.202, 54.71, 54.748, 54.68, 55.214, 55.132, 54.572, 54.21, 54.516, 54.698, 54.878, 54.358, 55.338, 54.792, 55.14, 54.896, 53.534, 55.596, 55.338, 54.634, 55.608, 56.112, 54.654, 54.588, 54.976, 54.67, 55.006, 55.58, 54.546, 54.964, 54.566, 54.678, 55.776, 54.834, 54.662, 54.518, 54.348, 54.324, 54.0, 54.768, 54.558, 55.274, 56.04, 54.952, 54.874, 54.996, 55.62, 54.416, 54.224, 55.312, 54.778, 53.662, 54.87, 54.658, 55.536, 55.552, 55.518, 54.666, 53.936, 55.074, 54.68, 55.148, 55.566, 55.792, 53.604, 54.958, 55.354, 54.216, 54.658, 55.448, 55.374, 54.622, 54.584, 55.712, 53.97, 55.736, 54.888, 55.05, 55.898, 55.116, 53.916, 55.262, 54.512, 55.202, 55.098, 55.312, 54.608, 54.628, 54.866, 55.254, 53.9, 54.142, 54.548, 55.254, 56.262, 54.952, 54.74, 55.036, 54.926, 53.972, 53.894, 55.692, 54.444, 54.876, 54.738, 54.762, 56.042, 54.69, 54.99, 55.196, 55.524, 54.654, 55.378, 54.186, 55.764, 55.41, 54.864, 55.518, 55.442, 53.966, 54.058, 54.482, 54.12, 54.59, 55.024, 55.34, 54.666, 54.808, 54.626, 54.576, 54.868, 54.894, 54.508, 54.72, 54.754, 54.342, 54.822, 54.62, 54.356, 55.16, 54.78, 54.026, 54.21, 54.496, 54.676, 55.194, 55.022, 54.438, 54.324, 54.058, 55.148, 54.792, 54.792, 54.356, 54.296, 53.876, 54.612, 54.812, 53.074, 54.224, 55.122, 54.706, 54.934, 54.538, 54.692, 55.116, 54.354, 53.866, 54.744, 54.408, 54.616, 54.414, 54.236, 55.068, 55.154, 55.126, 54.778, 54.662, 55.596, 54.85, 54.226, 53.624, 53.824, 54.412, 55.188, 54.99, 54.202, 54.614, 54.762, 55.278, 54.992, 54.366, 54.796, 55.11, 54.77, 53.762, 54.47, 54.49, 54.592, 53.804, 55.808, 54.866, 54.962, 54.478, 55.904, 55.04, 54.414, 53.874, 55.08, 54.212, 54.872, 54.864, 54.492, 54.716, 54.878, 54.506, 55.518, 55.154, 54.712, 54.856, 54.802, 54.35, 54.656, 55.02, 55.248, 54.526, 54.482, 54.584, 54.382, 54.672, 54.634, 55.97, 55.488, 54.754, 55.91, 54.638, 55.396, 53.828, 54.88, 55.192, 54.51, 54.242, 54.27, 54.174, 55.456, 55.51, 54.04, 54.326, 55.122, 53.356, 54.402, 54.776, 54.0, 53.096, 55.46, 54.202, 54.862, 55.192, 54.066, 54.656, 54.104, 54.642, 54.308, 54.858, 55.036, 54.062, 54.314, 54.296, 55.332, 54.782, 54.746, 55.714, 54.994, 55.32, 54.16, 54.768, 55.1, 54.602, 54.582, 54.72, 54.3, 54.064, 54.416, 54.55, 53.78, 54.134, 54.242, 54.944, 55.128, 54.826, 54.11, 55.176, 55.356, 54.432, 54.354, 55.842, 54.656, 54.714, 53.608, 55.166, 54.018, 54.996, 54.728, 55.636, 55.614, 54.688, 54.57, 54.576, 55.026, 55.682, 54.814, 55.622, 55.282, 53.824, 54.14, 55.45, 53.882, 55.414, 54.436, 54.782, 54.212, 54.554, 54.29, 54.124, 55.534, 54.786, 54.808, 54.756, 54.56, 55.212, 54.9, 54.984, 54.6, 54.794, 55.572, 54.874, 56.388, 54.688, 54.706, 54.69, 53.776, 53.274, 54.318, 54.572, 54.492, 54.016, 54.494, 54.866, 54.726, 55.416, 54.412, 54.98, 54.5, 54.88, 55.246, 54.842, 54.846, 54.896, 54.332, 54.072, 54.122, 55.482, 55.258, 55.028, 55.128, 56.08, 54.624, 54.936, 55.322, 54.26, 54.214, 54.934, 54.088, 55.248, 54.814, 54.434, 55.416, 54.766, 54.604, 54.574, 54.56, 55.46, 54.578, 54.616, 54.846, 55.016, 55.224, 55.026, 54.968, 54.542, 54.502, 53.792, 54.762, 55.24, 54.172, 54.884, 54.91, 53.964, 55.116, 54.892, 53.444, 54.618, 55.332, 54.286, 55.364, 55.228, 55.798, 54.558, 54.54, 54.196, 54.08, 54.448, 54.78, 55.008, 54.884, 55.408, 55.786, 54.786, 54.978, 54.316, 54.902, 53.89, 54.35, 54.736, 54.484, 54.192, 55.134, 55.28, 54.73, 54.844, 55.89, 55.16, 54.238, 54.528, 54.658, 54.978, 54.398, 55.188, 53.812, 54.422, 54.978, 54.382, 55.394, 55.178, 54.464, 54.83, 54.44, 54.814, 54.718, 55.062, 54.944, 54.742, 54.568, 54.78, 55.426, 55.168, 55.452, 54.746, 55.694, 53.632, 54.632, 54.486, 54.436, 55.08, 54.966, 55.482, 54.74, 53.978, 54.2, 54.954, 54.64, 54.38, 54.222, 54.142, 54.548, 54.108, 55.576, 54.804, 55.944, 54.522, 54.558, 54.736, 54.338, 54.588, 54.02, 55.092, 54.558, 54.638, 55.914, 54.29, 54.49, 54.648, 55.41, 55.258, 55.356, 54.492, 54.944, 55.892, 56.062, 54.804, 54.908, 55.382, 55.502, 54.902, 55.05, 55.01, 54.38, 54.584, 54.514, 54.928, 54.424, 55.406, 54.528, 55.416, 54.868, 54.702, 54.992, 55.086, 55.104, 55.348, 54.394, 54.672, 55.326, 54.164, 55.282, 53.98, 53.998, 54.842, 55.076, 55.122, 54.896, 54.438, 56.06, 54.464, 54.876, 55.714, 55.262, 55.022, 54.904, 54.8, 54.892, 54.874, 55.118, 55.436, 54.31, 54.984, 54.574, 54.374, 55.882, 54.388, 54.522, 55.79, 53.904, 54.876, 55.278, 54.748, 54.932, 55.308, 54.998, 54.572, 54.544, 54.822, 54.522, 54.196, 53.938, 54.688, 54.304, 54.306, 54.572, 55.148, 55.068, 54.634, 54.596, 55.262, 54.162, 53.1, 56.0, 54.85, 55.332, 55.084, 53.894, 54.292, 54.54, 54.16, 54.686, 55.076, 54.826, 55.406, 54.63, 53.966, 55.21, 54.588, 55.246, 54.524, 55.096, 55.118, 55.348, 54.638, 55.298, 54.942, 55.984, 55.132, 54.994, 53.852, 54.168, 55.526, 54.51, 54.836, 55.116, 53.816, 53.84, 54.848, 55.112, 55.488, 54.226, 54.52, 55.116, 55.192, 55.716, 55.07, 55.008, 53.592, 55.126, 54.872, 54.852, 55.188, 55.008, 55.178, 54.548, 54.582, 54.162]\n"
     ]
    }
   ],
   "source": [
    "mean_popularity_2000_boot = []\n",
    "\n",
    "# Generate a bootstrap distribution of 2000 replicates\n",
    "for i in range(2000):\n",
    "    mean_popularity_2000_boot.append(\n",
    "    \t# Resample 500 rows and calculate the mean popularity     \n",
    "    \tspotify_sample.sample(n=500, replace=True)['popularity'].mean()\n",
    "    )\n",
    "\n",
    "# Print the bootstrap distribution results\n",
    "print(mean_popularity_2000_boot)"
   ]
  },
  {
   "cell_type": "markdown",
   "metadata": {},
   "source": [
    "Compare sampling and bootstrap means\n",
    "To make calculation easier, distributions similar to those calculated from the previous exercise have been included, this time using a sample size of 5000.\n",
    "\n",
    "spotify_population, spotify_sample, sampling_distribution, and bootstrap_distribution are available; pandas and numpy are loaded with their usual aliases."
   ]
  },
  {
   "cell_type": "code",
   "execution_count": null,
   "metadata": {},
   "outputs": [
    {
     "name": "stdout",
     "output_type": "stream",
     "text": [
      "[54.837142308430955, 54.807, 54.784508, 54.784508]\n"
     ]
    }
   ],
   "source": [
    "# Calculate the population mean popularity\n",
    "pop_mean = spotify_population['popularity'].mean()\n",
    "\n",
    "# Calculate the original sample mean popularity\n",
    "samp_mean = spotify_sample['popularity'].mean()\n",
    "\n",
    "# Calculate the sampling dist'n estimate of mean popularity\n",
    "samp_distn_mean = np.mean(mean_popularity_2000_boot)\n",
    "\n",
    "boot_distn_mean = np.mean(mean_popularity_2000_boot)\n",
    "\n",
    "# Print the means\n",
    "print([pop_mean, samp_mean, samp_distn_mean, boot_distn_mean])"
   ]
  },
  {
   "cell_type": "markdown",
   "metadata": {},
   "source": [
    "Compare sampling and bootstrap standard deviations\n",
    "In the same way that you looked at how the sampling distribution and bootstrap distribution could be used to estimate the population mean, you'll now take a look at how they can be used to estimate variation, or more specifically, the standard deviation, in the population.\n",
    "\n",
    "Recall that the sample size is 5000.\n",
    "\n",
    "spotify_population, spotify_sample, sampling_distribution, and bootstrap_distribution are available; pandas and numpy are loaded with their usual aliases."
   ]
  },
  {
   "cell_type": "code",
   "execution_count": 151,
   "metadata": {},
   "outputs": [
    {
     "name": "stdout",
     "output_type": "stream",
     "text": [
      "[10.880195870824291, 11.016249407125821, 11.362775862686584, 11.362775862686584]\n"
     ]
    }
   ],
   "source": [
    "# Calculate the population std dev popularity\n",
    "pop_sd = spotify_population['popularity'].std()\n",
    "\n",
    "# Calculate the original sample std dev popularity\n",
    "samp_sd = spotify_sample['popularity'].std(ddof=0)\n",
    "\n",
    "# Calculate the sampling dist'n estimate of std dev popularity\n",
    "samp_distn_sd = np.std(mean_popularity_2000_boot, ddof=1) * np.sqrt(500)\n",
    "\n",
    "# Calculate the bootstrap dist'n estimate of std dev popularity\n",
    "boot_distn_sd = np.std(mean_popularity_2000_boot, ddof=1) * np.sqrt(500)\n",
    "\n",
    "# Print the standard deviations\n",
    "print([pop_sd, samp_sd, samp_distn_sd, boot_distn_sd])"
   ]
  },
  {
   "attachments": {},
   "cell_type": "markdown",
   "metadata": {},
   "source": [
    "#### **Confidence intervals**\n",
    "\n",
    "1. Confidence intervals\n",
    "\"Values within one standard deviation of the mean\" includes a large number of values from\n",
    "each of these distributions\n",
    "We'll define a related concept called a confidence interval\n",
    "\n",
    "2. Predicting the weather\n",
    "Rapid City, South Dakota in the United\n",
    "States has the least predictable weather\n",
    "Our job is to predict the high temperature\n",
    "there tomorrow\n",
    "\n",
    "Point estimate = 47°F (8.3°C)\n",
    "Range of plausible high temperature values = 40 to 54°F (4.4 to 12.8°C)\n",
    "\n",
    "40 to 54°F is a confidence interval\n",
    "Sometimes written as 47 °F (40°F, 54°F) or 47°F [40°F, 54°F]\n",
    "... or, 47 ± 7°F\n",
    "7°F is the margin of error\n",
    "\n",
    "3. Bootstrap distribution of mean flavor\n",
    "import matplotlib.pyplot as plt\n",
    "plt.hist(coffee_boot_distn, bins=15)\n",
    "plt.show()\n",
    "\n",
    "4. Mean of the resamples\n",
    "import numpy as np \n",
    "np.mean(coffee_boot_distn)\n",
    "\n",
    "5. Mean plus or minus one standard deviation\n",
    "np.mean(coffee_boot_distn)\n",
    "np.mean(coffee_boot_distn) - np.std(coffee_boot_distn, ddof=1)\n",
    "np.mean(coffee_boot_distn) + np.std(coffee_boot_distn, ddof=1)\n",
    "\n",
    "6. Quantile method for confidence intervals\n",
    "np.quantile(coffee_boot_distn, 0.025)\n",
    "np.quantile(coffee_boot_distn, 0.975)\n",
    "\n",
    "7. Inverse cumulative distribution function\n",
    "\n",
    "PDF: The bell curve\n",
    "CDF: integrate to get area under bell curve\n",
    "Inv. CDF: flip x and y axes\n",
    "Implemented in Python with\n",
    "\n",
    "from scipy.stats import norm\n",
    "norm.ppf(quantile, loc=0, scale=1)\n",
    "\n",
    "8. Standard error method for confidence interval\n",
    "point_estimate = np.mean(coffee_boot_distn)\n",
    "\n",
    "std_error = np.std(coffee_boot_distn, ddof=1)\n",
    "\n",
    "from scipy.stats import norm\n",
    "lower = norm.ppf(0.025, loc=point_estimate, scale=std_error)\n",
    "upper = norm.ppf(0.975, loc=point_estimate, scale=std_error)\n",
    "print((lower, upper))"
   ]
  },
  {
   "cell_type": "code",
   "execution_count": 156,
   "metadata": {},
   "outputs": [
    {
     "data": {
      "image/png": "[encoded data removed]",
      "text/plain": [
       "<Figure size 640x480 with 1 Axes>"
      ]
     },
     "metadata": {},
     "output_type": "display_data"
    }
   ],
   "source": [
    "coffee_boot_distn = bootstrap_distn\n",
    "\n",
    "plt.hist(bootstrap_distn, bins=15)\n",
    "plt.show()"
   ]
  },
  {
   "cell_type": "code",
   "execution_count": 160,
   "metadata": {},
   "outputs": [
    {
     "data": {
      "text/plain": [
       "7.51715324"
      ]
     },
     "metadata": {},
     "output_type": "display_data"
    },
    {
     "data": {
      "text/plain": [
       "7.501800498237099"
      ]
     },
     "metadata": {},
     "output_type": "display_data"
    },
    {
     "data": {
      "text/plain": [
       "7.532505981762901"
      ]
     },
     "metadata": {},
     "output_type": "display_data"
    },
    {
     "data": {
      "text/plain": [
       "7.486559500000001"
      ]
     },
     "metadata": {},
     "output_type": "display_data"
    },
    {
     "data": {
      "text/plain": [
       "7.547841"
      ]
     },
     "metadata": {},
     "output_type": "display_data"
    }
   ],
   "source": [
    "display(\n",
    "np.mean(coffee_boot_distn)\n",
    ")\n",
    "\n",
    "display(\n",
    "np.mean(coffee_boot_distn) - np.std(coffee_boot_distn, ddof=1)\n",
    ")\n",
    "\n",
    "display(\n",
    "np.mean(coffee_boot_distn) + np.std(coffee_boot_distn, ddof=1)\n",
    ")\n",
    "\n",
    "display(\n",
    "np.quantile(coffee_boot_distn, 0.025)\n",
    ")\n",
    "\n",
    "display(\n",
    "np.quantile(coffee_boot_distn, 0.975)\n",
    ")"
   ]
  },
  {
   "cell_type": "code",
   "execution_count": null,
   "metadata": {},
   "outputs": [
    {
     "data": {
      "text/plain": [
       "nan"
      ]
     },
     "execution_count": 162,
     "metadata": {},
     "output_type": "execute_result"
    }
   ],
   "source": [
    "from scipy.stats import norm\n",
    "norm.ppf(quantile, loc=0, scale=1)"
   ]
  },
  {
   "cell_type": "code",
   "execution_count": 163,
   "metadata": {},
   "outputs": [
    {
     "name": "stdout",
     "output_type": "stream",
     "text": [
      "(7.48706241908077, 7.54724406091923)\n"
     ]
    }
   ],
   "source": [
    "point_estimate = np.mean(coffee_boot_distn)\n",
    "\n",
    "std_error = np.std(coffee_boot_distn, ddof=1)\n",
    "\n",
    "from scipy.stats import norm\n",
    "lower = norm.ppf(0.025, loc=point_estimate, scale=std_error)\n",
    "upper = norm.ppf(0.975, loc=point_estimate, scale=std_error)\n",
    "print((lower, upper))"
   ]
  },
  {
   "cell_type": "markdown",
   "metadata": {},
   "source": [
    "Calculating confidence intervals\n",
    "You have learned about two methods for calculating confidence intervals: the quantile method and the standard error method. The standard error method involves using the inverse cumulative distribution function (inverse CDF) of the normal distribution to calculate confidence intervals. In this exercise, you'll perform these two methods on the Spotify data.\n",
    "\n",
    "spotify_population, spotify_sample, and bootstrap_distribution are available; pandas and numpy are loaded with their usual aliases, and norm has been loaded from scipy.stats."
   ]
  },
  {
   "cell_type": "code",
   "execution_count": 166,
   "metadata": {},
   "outputs": [
    {
     "name": "stdout",
     "output_type": "stream",
     "text": [
      "(7.486559500000001, 7.547841)\n"
     ]
    }
   ],
   "source": [
    "# Generate a 95% confidence interval using the quantile method\n",
    "lower_quant = np.quantile(coffee_boot_distn, 0.025)\n",
    "upper_quant = np.quantile(coffee_boot_distn, 0.975)\n",
    "\n",
    "# Print quantile method confidence interval\n",
    "print((lower_quant, upper_quant))"
   ]
  },
  {
   "cell_type": "code",
   "execution_count": 167,
   "metadata": {},
   "outputs": [
    {
     "name": "stdout",
     "output_type": "stream",
     "text": [
      "(7.48706241908077, 7.54724406091923)\n"
     ]
    }
   ],
   "source": [
    "# Find the mean and std dev of the bootstrap distribution\n",
    "point_estimate = np.mean(coffee_boot_distn)\n",
    "standard_error = np.std(coffee_boot_distn, ddof=1)\n",
    "\n",
    "# Find the lower limit of the confidence interval\n",
    "lower_se = norm.ppf(0.025, loc=point_estimate, scale=standard_error)\n",
    "\n",
    "# Find the upper limit of the confidence interval\n",
    "upper_se = norm.ppf(0.975, loc=point_estimate, scale=standard_error)\n",
    "\n",
    "# Print standard error method confidence interval\n",
    "print((lower_se, upper_se))"
   ]
  },
  {
   "cell_type": "code",
   "execution_count": 168,
   "metadata": {},
   "outputs": [
    {
     "name": "stdout",
     "output_type": "stream",
     "text": [
      "Perrenque!\n"
     ]
    }
   ],
   "source": [
    "print('Perrenque!')"
   ]
  }
 ],
 "metadata": {
  "kernelspec": {
   "display_name": "Python 3",
   "language": "python",
   "name": "python3"
  },
  "language_info": {
   "codemirror_mode": {
    "name": "ipython",
    "version": 3
   },
   "file_extension": ".py",
   "mimetype": "text/x-python",
   "name": "python",
   "nbconvert_exporter": "python",
   "pygments_lexer": "ipython3",
   "version": "3.10.0"
  },
  "orig_nbformat": 4,
  "vscode": {
   "interpreter": {
    "hash": "26de051ba29f2982a8de78e945f0abaf191376122a1563185a90213a26c5da77"
   }
  }
 },
 "nbformat": 4,
 "nbformat_minor": 2
}
