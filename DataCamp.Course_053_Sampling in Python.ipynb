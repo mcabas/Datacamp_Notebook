{
 "cells": [
  {
   "attachments": {},
   "cell_type": "markdown",
   "metadata": {},
   "source": [
    "# **DataCamp.Course_053_Sampling in Python**\n",
    "\n",
    "### **Course Description**\n",
    "\n",
    "Sampling in Python is the cornerstone of inference statistics and hypothesis testing. It's a powerful skill used in survey analysis and experimental design to draw conclusions without surveying an entire population. In this Sampling in Python course, you’ll discover when to use sampling and how to perform common types of sampling—from simple random sampling to more complex methods like stratified and cluster sampling. Using real-world datasets, including coffee ratings, Spotify songs, and employee attrition, you’ll learn to estimate population statistics and quantify uncertainty in your estimates by generating sampling distributions and bootstrap distributions.\n"
   ]
  },
  {
   "cell_type": "code",
   "execution_count": 5,
   "metadata": {},
   "outputs": [
    {
     "name": "stdout",
     "output_type": "stream",
     "text": [
      "   total_cup_points  species                     owner country_of_origin  \\\n",
      "0             90.58  Arabica                 metad plc          Ethiopia   \n",
      "1             89.92  Arabica                 metad plc          Ethiopia   \n",
      "2             89.75  Arabica  grounds for health admin         Guatemala   \n",
      "3             89.00  Arabica       yidnekachew dabessa          Ethiopia   \n",
      "4             88.83  Arabica                 metad plc          Ethiopia   \n",
      "\n",
      "                                  farm_name lot_number       mill ico_number  \\\n",
      "0                                 metad plc       None  metad plc  2014/2015   \n",
      "1                                 metad plc       None  metad plc  2014/2015   \n",
      "2  san marcos barrancas \"san cristobal cuch       None       None       None   \n",
      "3     yidnekachew dabessa coffee plantation       None    wolensu       None   \n",
      "4                                 metad plc       None  metad plc  2014/2015   \n",
      "\n",
      "                                 company       altitude  ...  color  \\\n",
      "0      metad agricultural developmet plc      1950-2200  ...  Green   \n",
      "1      metad agricultural developmet plc      1950-2200  ...  Green   \n",
      "2                                   None  1600 - 1800 m  ...   None   \n",
      "3  yidnekachew debessa coffee plantation      1800-2200  ...  Green   \n",
      "4      metad agricultural developmet plc      1950-2200  ...  Green   \n",
      "\n",
      "  category_two_defects        expiration                  certification_body  \\\n",
      "0                  0.0   April 3rd, 2016  METAD Agricultural Development plc   \n",
      "1                  1.0   April 3rd, 2016  METAD Agricultural Development plc   \n",
      "2                  0.0    May 31st, 2011        Specialty Coffee Association   \n",
      "3                  2.0  March 25th, 2016  METAD Agricultural Development plc   \n",
      "4                  2.0   April 3rd, 2016  METAD Agricultural Development plc   \n",
      "\n",
      "                      certification_address  \\\n",
      "0  309fcf77415a3661ae83e027f7e5f05dad786e44   \n",
      "1  309fcf77415a3661ae83e027f7e5f05dad786e44   \n",
      "2  36d0d00a3724338ba7937c52a378d085f2172daa   \n",
      "3  309fcf77415a3661ae83e027f7e5f05dad786e44   \n",
      "4  309fcf77415a3661ae83e027f7e5f05dad786e44   \n",
      "\n",
      "                      certification_contact unit_of_measurement  \\\n",
      "0  19fef5a731de2db57d16da10287413f5f99bc2dd                   m   \n",
      "1  19fef5a731de2db57d16da10287413f5f99bc2dd                   m   \n",
      "2  0878a7d4b9d35ddbf0fe2ce69a2062cceb45a660                   m   \n",
      "3  19fef5a731de2db57d16da10287413f5f99bc2dd                   m   \n",
      "4  19fef5a731de2db57d16da10287413f5f99bc2dd                   m   \n",
      "\n",
      "  altitude_low_meters altitude_high_meters altitude_mean_meters  \n",
      "0              1950.0               2200.0               2075.0  \n",
      "1              1950.0               2200.0               2075.0  \n",
      "2              1600.0               1800.0               1700.0  \n",
      "3              1800.0               2200.0               2000.0  \n",
      "4              1950.0               2200.0               2075.0  \n",
      "\n",
      "[5 rows x 43 columns]\n"
     ]
    }
   ],
   "source": [
    "# read_feather function\n",
    "\n",
    "import os\n",
    "import pandas as pd\n",
    "folder_name = 'datasets'\n",
    "dir = r'C:\\Users\\mcaba\\OneDrive\\Escritorio\\Data Science\\Datacamp_Notebook\\Datacamp_Notebook\\{}'.format(folder_name)\n",
    "\n",
    "def read_feather_fun(folder_name,file_name, path):\n",
    "    path = dir\n",
    "    os.chdir(path)\n",
    "    df = pd.read_feather('{}.feather'.format(file_name))\n",
    "    return df\n",
    "\n",
    "coffee_ratings = read_feather_fun('datasets','coffee_ratings_full', dir)\n",
    "print(coffee_ratings.head(5))"
   ]
  },
  {
   "cell_type": "code",
   "execution_count": 6,
   "metadata": {},
   "outputs": [
    {
     "name": "stdout",
     "output_type": "stream",
     "text": [
      "   acousticness          artists  danceability  duration_ms  duration_minutes  \\\n",
      "0       0.97200  ['David Bauer']         0.567     313293.0          5.221550   \n",
      "1       0.32100   ['Etta James']         0.821     360240.0          6.004000   \n",
      "2       0.00659    ['Quasimoto']         0.706     202507.0          3.375117   \n",
      "3       0.00390  ['Millencolin']         0.368     173360.0          2.889333   \n",
      "4       0.12200   ['Steve Chou']         0.501     344200.0          5.736667   \n",
      "\n",
      "   energy  explicit                      id  instrumentalness   key  liveness  \\\n",
      "0   0.227       0.0  0w0D8H1ubRerCXHWYJkinO          0.601000  10.0     0.110   \n",
      "1   0.418       0.0  4JVeqfE2tpi7Pv63LJZtPh          0.000372   9.0     0.222   \n",
      "2   0.602       1.0  5pxtdhLAi0RTh1gNqhGMNA          0.000138  11.0     0.400   \n",
      "3   0.977       0.0  3jRsoe4Vkxa4BMYqGHX8L0          0.000000  11.0     0.350   \n",
      "4   0.511       0.0  4mronxcllhfyhBRqyZi8kU          0.000000   7.0     0.279   \n",
      "\n",
      "   loudness  mode                   name  popularity release_date  \\\n",
      "0   -13.441   1.0      Shout to the Lord        47.0         2000   \n",
      "1    -9.841   0.0               Miss You        51.0   2000-12-12   \n",
      "2    -8.306   0.0              Real Eyes        44.0   2000-06-13   \n",
      "3    -2.757   0.0  Penguins & Polarbears        52.0   2000-02-22   \n",
      "4    -9.836   0.0                     黃昏        53.0   2000-12-25   \n",
      "\n",
      "   speechiness    tempo  valence    year  \n",
      "0       0.0290  136.123   0.0396  2000.0  \n",
      "1       0.0407  117.382   0.8030  2000.0  \n",
      "2       0.3420   89.692   0.4790  2000.0  \n",
      "3       0.1270  165.889   0.5480  2000.0  \n",
      "4       0.0291   78.045   0.1130  2000.0  \n"
     ]
    }
   ],
   "source": [
    "spotify_population = read_feather_fun('datasets','spotify_2000_2020', dir)\n",
    "print(spotify_population.head(5))"
   ]
  },
  {
   "cell_type": "code",
   "execution_count": 7,
   "metadata": {},
   "outputs": [
    {
     "name": "stdout",
     "output_type": "stream",
     "text": [
      "   Age  Attrition     BusinessTravel  DailyRate            Department  \\\n",
      "0   21        0.0      Travel_Rarely        391  Research_Development   \n",
      "1   19        1.0      Travel_Rarely        528                 Sales   \n",
      "2   18        1.0      Travel_Rarely        230  Research_Development   \n",
      "3   18        0.0      Travel_Rarely        812                 Sales   \n",
      "4   18        1.0  Travel_Frequently       1306                 Sales   \n",
      "\n",
      "   DistanceFromHome      Education EducationField EnvironmentSatisfaction  \\\n",
      "0                15        College  Life_Sciences                    High   \n",
      "1                22  Below_College      Marketing               Very_High   \n",
      "2                 3       Bachelor  Life_Sciences                    High   \n",
      "3                10       Bachelor        Medical               Very_High   \n",
      "4                 5       Bachelor      Marketing                  Medium   \n",
      "\n",
      "   Gender  ...  PerformanceRating RelationshipSatisfaction  StockOptionLevel  \\\n",
      "0    Male  ...          Excellent                Very_High                 0   \n",
      "1    Male  ...          Excellent                Very_High                 0   \n",
      "2    Male  ...          Excellent                     High                 0   \n",
      "3  Female  ...          Excellent                      Low                 0   \n",
      "4    Male  ...          Excellent                Very_High                 0   \n",
      "\n",
      "  TotalWorkingYears TrainingTimesLastYear WorkLifeBalance  YearsAtCompany  \\\n",
      "0                 0                     6          Better               0   \n",
      "1                 0                     2            Good               0   \n",
      "2                 0                     2          Better               0   \n",
      "3                 0                     2          Better               0   \n",
      "4                 0                     3          Better               0   \n",
      "\n",
      "   YearsInCurrentRole  YearsSinceLastPromotion YearsWithCurrManager  \n",
      "0                   0                        0                    0  \n",
      "1                   0                        0                    0  \n",
      "2                   0                        0                    0  \n",
      "3                   0                        0                    0  \n",
      "4                   0                        0                    0  \n",
      "\n",
      "[5 rows x 31 columns]\n"
     ]
    }
   ],
   "source": [
    "attrition_pop = read_feather_fun('datasets','attrition', dir)\n",
    "print(attrition_pop.head(5))"
   ]
  },
  {
   "attachments": {},
   "cell_type": "markdown",
   "metadata": {},
   "source": [
    "## **Introduction to Sampling (Module 01-053)**"
   ]
  },
  {
   "attachments": {},
   "cell_type": "markdown",
   "metadata": {},
   "source": [
    "#### **Sampling and point estimates**\n",
    "\n",
    "1. Sampling households\n",
    "Cheaper to ask a small number of households\n",
    "and use statistics to estimate the population\n",
    "Working with a subset of the whole population\n",
    "is called sampling\n",
    "2. Population vs. sample\n",
    "The population is the complete dataset\n",
    "Doesn't have to refer to people\n",
    "Typically, don't know what the whole population is\n",
    "The sample is the subset of data you calculate on\n",
    "3. Coffee rating dataset\n",
    "Each row represents 1 coffee\n",
    "1338 rows\n",
    "We'll treat this as the population\n",
    "4. Points vs. flavor: population\n",
    "pts_vs_flavor_pop = coffee_ratings[[\"total_cup_points\", \"flavor\"]]\n",
    "5. Points vs. flavor: 10 row sample\n",
    "pts_vs_flavor_samp = pts_vs_flavor_pop.sample(n=10)\n",
    "6. Python sampling for Series\n",
    "cup_points_samp = coffee_ratings['total_cup_points'].sample(n=10)\n",
    "7. Population parameters & point estimates\n",
    "import numpy as np\n",
    "np.mean(pts_vs_flavor_pop['total_cup_points'])\n",
    "np.mean(cup_points_samp)\n",
    "8. Point estimates with pandas\n",
    "pts_vs_flavor_pop['flavor'].mean()\n",
    "pts_vs_flavor_samp['flavor'].mean()"
   ]
  },
  {
   "cell_type": "code",
   "execution_count": 8,
   "metadata": {},
   "outputs": [
    {
     "name": "stdout",
     "output_type": "stream",
     "text": [
      "      total_cup_points  flavor\n",
      "0                90.58    8.83\n",
      "1                89.92    8.67\n",
      "2                89.75    8.50\n",
      "3                89.00    8.58\n",
      "4                88.83    8.50\n",
      "...                ...     ...\n",
      "1333             78.75    7.58\n",
      "1334             78.08    7.67\n",
      "1335             77.17    7.33\n",
      "1336             75.08    6.83\n",
      "1337             73.75    6.67\n",
      "\n",
      "[1338 rows x 2 columns]\n",
      "      total_cup_points  flavor\n",
      "495              83.08    7.67\n",
      "700              82.42    7.50\n",
      "1019             80.92    7.17\n",
      "556              82.92    7.50\n",
      "1068             80.50    7.17\n",
      "70               85.42    7.83\n",
      "1030             80.83    7.33\n",
      "1086             80.33    7.25\n",
      "776              82.17    7.67\n",
      "12               87.92    8.67\n",
      "581     82.75\n",
      "999     81.00\n",
      "1223    78.50\n",
      "301     83.75\n",
      "956     81.33\n",
      "392     83.42\n",
      "47      86.00\n",
      "355     83.50\n",
      "406     83.33\n",
      "418     83.25\n",
      "Name: total_cup_points, dtype: float64\n"
     ]
    }
   ],
   "source": [
    "pts_vs_flavor_pop = coffee_ratings[[\"total_cup_points\", \"flavor\"]]\n",
    "print(pts_vs_flavor_pop)\n",
    "pts_vs_flavor_samp = pts_vs_flavor_pop.sample(n=10)\n",
    "print(pts_vs_flavor_samp)\n",
    "cup_points_samp = coffee_ratings['total_cup_points'].sample(n=10)\n",
    "print(cup_points_samp)\n"
   ]
  },
  {
   "cell_type": "code",
   "execution_count": 9,
   "metadata": {},
   "outputs": [
    {
     "data": {
      "text/plain": [
       "82.15120328849028"
      ]
     },
     "metadata": {},
     "output_type": "display_data"
    },
    {
     "data": {
      "text/plain": [
       "82.683"
      ]
     },
     "metadata": {},
     "output_type": "display_data"
    },
    {
     "data": {
      "text/plain": [
       "7.526046337817639"
      ]
     },
     "metadata": {},
     "output_type": "display_data"
    },
    {
     "data": {
      "text/plain": [
       "7.5760000000000005"
      ]
     },
     "metadata": {},
     "output_type": "display_data"
    }
   ],
   "source": [
    "import numpy as np\n",
    "display(\n",
    "    np.mean(pts_vs_flavor_pop['total_cup_points'])\n",
    ")\n",
    "display(\n",
    "    np.mean(cup_points_samp)\n",
    ")\n",
    "display(\n",
    "    pts_vs_flavor_pop['flavor'].mean()\n",
    ")\n",
    "display(\n",
    "    pts_vs_flavor_samp['flavor'].mean()\n",
    ")"
   ]
  },
  {
   "cell_type": "markdown",
   "metadata": {},
   "source": [
    "Simple sampling with pandas\n",
    "Throughout this chapter, you'll be exploring song data from Spotify. Each row of this population dataset represents a song, and there are over 40,000 rows. Columns include the song name, the artists who performed it, the release year, and attributes of the song like its duration, tempo, and danceability. You'll start by looking at the durations.\n",
    "\n",
    "Your first task is to sample the Spotify dataset and compare the mean duration of the population with the sample.\n",
    "\n",
    "spotify_population is available and pandas is loaded as pd."
   ]
  },
  {
   "cell_type": "code",
   "execution_count": 10,
   "metadata": {},
   "outputs": [
    {
     "name": "stdout",
     "output_type": "stream",
     "text": [
      "       acousticness                               artists  danceability  \\\n",
      "16852       0.08400                       ['Project Pat']         0.945   \n",
      "34455       0.02530                            ['Eminem']         0.537   \n",
      "18529       0.30000                   ['Grupo Codiciado']         0.732   \n",
      "11621       0.27700                      ['Clams Casino']         0.257   \n",
      "19717       0.01120                         ['Halestorm']         0.440   \n",
      "...             ...                                   ...           ...   \n",
      "22358       0.03710                            ['WILLOW']         0.764   \n",
      "2341        0.06940                 ['Dandy Livingstone']         0.931   \n",
      "8952        0.31100  [\"Margot & The Nuclear So And So's\"]         0.487   \n",
      "26481       0.00922                            ['Eminem']         0.689   \n",
      "2231        0.03090                     ['Radney Foster']         0.482   \n",
      "\n",
      "       duration_ms  duration_minutes  energy  explicit  \\\n",
      "16852     256227.0          4.270450   0.725       1.0   \n",
      "34455     292480.0          4.874667   0.961       1.0   \n",
      "18529     194743.0          3.245717   0.816       0.0   \n",
      "11621     224418.0          3.740300   0.484       0.0   \n",
      "19717     223213.0          3.720217   0.865       0.0   \n",
      "...            ...               ...     ...       ...   \n",
      "22358     196520.0          3.275333   0.705       0.0   \n",
      "2341      168480.0          2.808000   0.390       0.0   \n",
      "8952      224093.0          3.734883   0.578       0.0   \n",
      "26481     320627.0          5.343783   0.735       1.0   \n",
      "2231      248160.0          4.136000   0.806       0.0   \n",
      "\n",
      "                           id  instrumentalness  key  liveness  loudness  \\\n",
      "16852  0jM9PzYT9e6mUzqVUVAyM3          0.000033  5.0    0.3020    -5.612   \n",
      "34455  0ANExk8Iu85oqCgk82rG64          0.000000  0.0    0.3320    -1.498   \n",
      "18529  5LbyrPgyNvJJCsNYeklVor          0.000000  9.0    0.2730    -4.247   \n",
      "11621  7d5v4p5X0Vrf6RZdDigYVa          0.794000  8.0    0.2100   -10.866   \n",
      "19717  1ubMuTK0tZPAA1DqQia1WY          0.000002  9.0    0.2220    -3.656   \n",
      "...                       ...               ...  ...       ...       ...   \n",
      "22358  0y60itmpH0aPKsFiGxmtnh          0.000019  3.0    0.0943    -5.279   \n",
      "2341   4WKQHFv4KqIehRBb3V3a9p          0.115000  9.0    0.0807    -9.959   \n",
      "8952   7jTzPSDHVnxzDYhq4veP1M          0.000207  7.0    0.0723    -5.992   \n",
      "26481  77Ft1RJngppZlq59B6uP0z          0.000720  2.0    0.3650    -4.545   \n",
      "2231   0SJuAzWf0g6VpKLgBUAXjt          0.000000  7.0    0.1950    -5.549   \n",
      "\n",
      "       mode                           name  popularity release_date  \\\n",
      "16852   0.0               Whole Lotta Weed        36.0   2001-02-13   \n",
      "34455   1.0                  Almost Famous        56.0   2010-06-18   \n",
      "18529   1.0  Ni Mis Padres Saben Que Rollo        62.0   2018-02-02   \n",
      "11621   1.0                     All I Need        49.0   2011-08-12   \n",
      "19717   1.0       Bet U Wish U Had Me Back        41.0   2009-02-25   \n",
      "...     ...                            ...         ...          ...   \n",
      "22358   0.0                 Wait a Minute!        83.0   2015-01-11   \n",
      "2341    0.0         Rudy, A Message To You        53.0   2002-12-10   \n",
      "8952    1.0                Talking In Code        40.0         2005   \n",
      "26481   1.0                  Lose Yourself        63.0   2014-11-24   \n",
      "2231    1.0                  Texas In 1880        40.0   2001-06-26   \n",
      "\n",
      "       speechiness    tempo  valence    year  \n",
      "16852       0.0669  136.033   0.1170  2001.0  \n",
      "34455       0.2950   82.440   0.4870  2010.0  \n",
      "18529       0.0431  120.112   0.8060  2018.0  \n",
      "11621       0.0452  105.013   0.0954  2011.0  \n",
      "19717       0.0394  151.907   0.6230  2009.0  \n",
      "...            ...      ...      ...     ...  \n",
      "22358       0.0278  101.003   0.6720  2015.0  \n",
      "2341        0.1020  107.306   0.8780  2002.0  \n",
      "8952        0.0287  128.036   0.2030  2005.0  \n",
      "26481       0.2670  171.403   0.0590  2014.0  \n",
      "2231        0.0338  135.743   0.5930  2001.0  \n",
      "\n",
      "[1000 rows x 20 columns]\n",
      "3.8521519140900073\n",
      "3.93786325\n"
     ]
    }
   ],
   "source": [
    "# Sample 1000 rows from spotify_population\n",
    "spotify_sample = spotify_population.sample(n=1000)\n",
    "\n",
    "# Print the sample\n",
    "print(spotify_sample)\n",
    "\n",
    "# Calculate the mean duration in mins from spotify_population\n",
    "mean_dur_pop = spotify_population['duration_minutes'].mean()\n",
    "\n",
    "# Calculate the mean duration in mins from spotify_sample\n",
    "mean_dur_samp = spotify_sample['duration_minutes'].mean()\n",
    "\n",
    "# Print the means\n",
    "print(mean_dur_pop)\n",
    "print(mean_dur_samp)\n"
   ]
  },
  {
   "cell_type": "markdown",
   "metadata": {},
   "source": [
    "Simple sampling and calculating with NumPy\n",
    "You can also use numpy to calculate parameters or statistics from a list or pandas Series.\n",
    "\n",
    "You'll be turning it up to eleven and looking at the loudness property of each song.\n",
    "\n",
    "spotify_population is available and numpy is loaded as np."
   ]
  },
  {
   "cell_type": "code",
   "execution_count": 11,
   "metadata": {},
   "outputs": [
    {
     "name": "stdout",
     "output_type": "stream",
     "text": [
      "-7.366856851353947\n",
      "-6.793520000000001\n"
     ]
    }
   ],
   "source": [
    "# Create a pandas Series from the loudness column of spotify_population\n",
    "loudness_pop = spotify_population['loudness']\n",
    "\n",
    "# Sample 100 values of loudness_pop\n",
    "loudness_samp = loudness_pop.sample(n=100)\n",
    "\n",
    "# Calculate the mean of loudness_pop\n",
    "mean_loudness_pop = np.mean(loudness_pop)\n",
    "\n",
    "# Calculate the mean of loudness_samp\n",
    "mean_loudness_samp = np.mean(loudness_samp)\n",
    "\n",
    "print(mean_loudness_pop)\n",
    "print(mean_loudness_samp)"
   ]
  },
  {
   "attachments": {},
   "cell_type": "markdown",
   "metadata": {},
   "source": [
    "#### **Convenience sampling**\n",
    "\n",
    "1. The Literary Digest election prediction\n",
    "Prediction: Landon gets 57%; Roosevelt gets 43%\n",
    "Actual results: Landon got 38%; Roosevelt got 62%\n",
    "Sample not representative of population, causing sample bias\n",
    "Collecting data by the easiest method is called convenience sampling\n",
    "2. Convenience sampling coffee ratings\n",
    "coffee_ratings[\"total_cup_points\"].mean()\n",
    "coffee_ratings_first10 = coffee_ratings.head(10)\n",
    "coffee_ratings_first10[\"total_cup_points\"].mean()\n",
    "3. Visualizing selection bias\n",
    "import matplotlib.pyplot as plt\n",
    "import numpy as np\n",
    "coffee_ratings[\"total_cup_points\"].hist(bins=np.arange(59, 93, 2))\n",
    "plt.show()\n",
    "\n",
    "coffee_ratings_first10[\"total_cup_points\"].hist(bins=np.arange(59, 93, 2))\n",
    "plt.show()\n",
    "4. Visualizing selection bias for a random sample\n",
    "coffee_sample = coffee_ratings.sample(n=10)\n",
    "coffee_sample[\"total_cup_points\"].hist(bins=np.arange(59, 93, 2))\n",
    "plt.show()"
   ]
  },
  {
   "cell_type": "code",
   "execution_count": 12,
   "metadata": {},
   "outputs": [
    {
     "data": {
      "text/plain": [
       "82.15120328849028"
      ]
     },
     "metadata": {},
     "output_type": "display_data"
    },
    {
     "data": {
      "text/plain": [
       "89.1"
      ]
     },
     "execution_count": 12,
     "metadata": {},
     "output_type": "execute_result"
    }
   ],
   "source": [
    "display(\n",
    "coffee_ratings[\"total_cup_points\"].mean()\n",
    ")\n",
    "\n",
    "display(\n",
    "coffee_ratings_first10 = coffee_ratings.head(10)\n",
    ")\n",
    "\n",
    "\n",
    "coffee_ratings_first10 = coffee_ratings.head(10)\n",
    "coffee_ratings_first10[\"total_cup_points\"].mean()\n"
   ]
  },
  {
   "cell_type": "code",
   "execution_count": 13,
   "metadata": {},
   "outputs": [
    {
     "data": {
      "image/png": "[encoded data removed]",
      "text/plain": [
       "<Figure size 640x480 with 1 Axes>"
      ]
     },
     "metadata": {},
     "output_type": "display_data"
    },
    {
     "data": {
      "image/png": "[encoded data removed]",
      "text/plain": [
       "<Figure size 640x480 with 1 Axes>"
      ]
     },
     "metadata": {},
     "output_type": "display_data"
    },
    {
     "data": {
      "image/png": "[encoded data removed]",
      "text/plain": [
       "<Figure size 640x480 with 1 Axes>"
      ]
     },
     "metadata": {},
     "output_type": "display_data"
    }
   ],
   "source": [
    "import matplotlib.pyplot as plt\n",
    "import numpy as np\n",
    "coffee_ratings[\"total_cup_points\"].hist(bins=np.arange(59, 93, 2))\n",
    "plt.show()\n",
    "\n",
    "coffee_ratings_first10[\"total_cup_points\"].hist(bins=np.arange(59, 93, 2))\n",
    "plt.show()\n",
    "\n",
    "coffee_sample = coffee_ratings.sample(n=10)\n",
    "coffee_sample[\"total_cup_points\"].hist(bins=np.arange(59, 93, 2))\n",
    "plt.show()"
   ]
  },
  {
   "cell_type": "markdown",
   "metadata": {},
   "source": [
    "Are findings from the sample generalizable?\n",
    "You just saw how convenience sampling—collecting data using the easiest method—can result in samples that aren't representative of the population. Equivalently, this means findings from the sample are not generalizable to the population. Visualizing the distributions of the population and the sample can help determine whether or not the sample is representative of the population.\n",
    "\n",
    "The Spotify dataset contains an acousticness column, which is a confidence measure from zero to one of whether the track was made with instruments that aren't plugged in. You'll compare the acousticness distribution of the total population of songs with a sample of those songs.\n",
    "\n",
    "spotify_population and spotify_mysterious_sample are available; pandas as pd, matplotlib.pyplot as plt, and numpy as np are loaded."
   ]
  },
  {
   "cell_type": "code",
   "execution_count": 14,
   "metadata": {},
   "outputs": [
    {
     "data": {
      "image/png": "[encoded data removed]",
      "text/plain": [
       "<Figure size 640x480 with 1 Axes>"
      ]
     },
     "metadata": {},
     "output_type": "display_data"
    }
   ],
   "source": [
    "# Visualize the distribution of acousticness with a histogram\n",
    "spotify_population[\"acousticness\"].hist(bins=np.arange(0, 1.01, 0.01))\n",
    "plt.show()"
   ]
  },
  {
   "cell_type": "markdown",
   "metadata": {},
   "source": [
    "Are these findings generalizable?\n",
    "Let's look at another sample to see if it is representative of the population. This time, you'll look at the duration_minutes column of the Spotify dataset, which contains the length of the song in minutes.\n",
    "\n",
    "spotify_population and spotify_mysterious_sample2 are available; pandas, matplotlib.pyplot, and numpy are loaded using their standard aliases."
   ]
  },
  {
   "cell_type": "code",
   "execution_count": 15,
   "metadata": {},
   "outputs": [
    {
     "data": {
      "image/png": "[encoded data removed]",
      "text/plain": [
       "<Figure size 640x480 with 1 Axes>"
      ]
     },
     "metadata": {},
     "output_type": "display_data"
    },
    {
     "data": {
      "image/png": "[encoded data removed]",
      "text/plain": [
       "<Figure size 640x480 with 1 Axes>"
      ]
     },
     "metadata": {},
     "output_type": "display_data"
    }
   ],
   "source": [
    "# Visualize the distribution of duration_minutes as a histogram\n",
    "spotify_population['duration_minutes'].hist(bins=np.arange(0, 15.5, 0.5))\n",
    "plt.show()\n",
    "\n",
    "spotify_population_sample = spotify_population.sample(n=1000)\n",
    "spotify_population_sample['duration_minutes'].hist(bins=np.arange(0, 15.5, 0.5))\n",
    "plt.show()"
   ]
  },
  {
   "cell_type": "markdown",
   "metadata": {},
   "source": [
    "#### **Pseudo-random number generation**\n",
    "\n",
    "1. What does random mean?\n",
    "{adjective} made, done, happening, or chosen without method or conscious decision.\n",
    "2. True random numbers\n",
    "Generated from physical processes, like flipping coins\n",
    "Hotbits uses radioactive decay\n",
    "RANDOM.ORG uses atmospheric noise\n",
    "True randomness is expensive\n",
    "3. Pseudo-random number generation\n",
    "Pseudo-random number generation is cheap and fast\n",
    "Next \"random\" number calculated from previous \"random\" number\n",
    "The first \"random\" number calculated from a seed\n",
    "The same seed value yields the same random numbers\n",
    "4. Pseudo-random number generation example\n",
    "seed = 1\n",
    "calc_next_random(seed)\n",
    "calc_next_random(3)\n",
    "calc_next_random(2)\n",
    "\n",
    "5. Random number generating functions\n",
    "Prepend with numpy.random , such as numpy.random.beta()\n",
    "\n",
    "function            distribution    \n",
    ".beta               Beta            \n",
    ".binomial           Binomial \n",
    ".chisquare          Chi-squared \n",
    ".exponential        Exponential \n",
    ".f                  F \n",
    ".gamma              Gamma \n",
    ".geometric          Geometric \n",
    ".hypergeometric     Hypergeometric\n",
    ".lognormal          Lognormal\n",
    ".negative_binomial  Negative binomial\n",
    ".normal             Normal\n",
    ".standard_t         t\n",
    ".uniform            Uniform\n",
    ".poisson            Poisson\n",
    "\n",
    "6. Visualizing random numbers\n",
    "randoms = np.random.beta(a=2, b=2, size=5000)\n",
    "randoms\n",
    "plt.hist(randoms, bins=np.arange(0, 1, 0.05))\n",
    "plt.show()\n",
    "\n",
    "7. Random numbers seeds\n",
    "np.random.seed(20000229)\n",
    "np.random.normal(loc=2, scale=1.5, size=2)\n",
    "np.random.normal(loc=2, scale=1.5, size=2)"
   ]
  },
  {
   "cell_type": "code",
   "execution_count": 16,
   "metadata": {},
   "outputs": [
    {
     "data": {
      "text/plain": [
       "array([0.45054509, 0.48064205, 0.33132623, ..., 0.21089998, 0.52676341,\n",
       "       0.44967035])"
      ]
     },
     "execution_count": 16,
     "metadata": {},
     "output_type": "execute_result"
    }
   ],
   "source": [
    "randoms = np.random.beta(a=2, b=2, size=5000)\n",
    "randoms"
   ]
  },
  {
   "cell_type": "code",
   "execution_count": 17,
   "metadata": {},
   "outputs": [
    {
     "data": {
      "image/png": "[encoded data removed]",
      "text/plain": [
       "<Figure size 640x480 with 1 Axes>"
      ]
     },
     "metadata": {},
     "output_type": "display_data"
    }
   ],
   "source": [
    "plt.hist(randoms, bins=np.arange(0, 1, 0.05))\n",
    "plt.show()"
   ]
  },
  {
   "cell_type": "code",
   "execution_count": 18,
   "metadata": {},
   "outputs": [
    {
     "data": {
      "text/plain": [
       "array([-0.59030264,  1.87821258])"
      ]
     },
     "metadata": {},
     "output_type": "display_data"
    },
    {
     "data": {
      "text/plain": [
       "array([2.52619561, 4.9684949 ])"
      ]
     },
     "metadata": {},
     "output_type": "display_data"
    }
   ],
   "source": [
    "np.random.seed(20000229)\n",
    "display(np.random.normal(loc=2, scale=1.5, size=2))\n",
    "display(np.random.normal(loc=2, scale=1.5, size=2))"
   ]
  },
  {
   "cell_type": "code",
   "execution_count": 19,
   "metadata": {},
   "outputs": [
    {
     "data": {
      "text/plain": [
       "array([1.09364337, 4.55285159])"
      ]
     },
     "metadata": {},
     "output_type": "display_data"
    },
    {
     "data": {
      "text/plain": [
       "array([2.67038916, 2.36677492])"
      ]
     },
     "metadata": {},
     "output_type": "display_data"
    }
   ],
   "source": [
    "np.random.seed(20041004)\n",
    "display(np.random.normal(loc=2, scale=1.5, size=2))\n",
    "display(np.random.normal(loc=2, scale=1.5, size=2))"
   ]
  },
  {
   "cell_type": "markdown",
   "metadata": {},
   "source": [
    "Generating random numbers\n",
    "You've used .sample() to generate pseudo-random numbers from a set of values in a DataFrame. A related task is to generate random numbers that follow a statistical distribution, like the uniform distribution or the normal distribution.\n",
    "\n",
    "Each random number generation function has distribution-specific arguments and an argument for specifying the number of random numbers to generate.\n",
    "\n",
    "matplotlib.pyplot is loaded as plt, and numpy is loaded as np."
   ]
  },
  {
   "cell_type": "code",
   "execution_count": 20,
   "metadata": {},
   "outputs": [
    {
     "name": "stdout",
     "output_type": "stream",
     "text": [
      "[1.31207896 2.65406494 0.16554078 ... 0.32216778 1.19004017 1.5796729 ]\n"
     ]
    }
   ],
   "source": [
    "# Generate random numbers from a Uniform(-3, 3)\n",
    "uniforms = np.random.uniform (low=-3, high=3, size=5000)\n",
    "\n",
    "# Print uniforms\n",
    "print(uniforms)"
   ]
  },
  {
   "cell_type": "code",
   "execution_count": 21,
   "metadata": {},
   "outputs": [
    {
     "name": "stdout",
     "output_type": "stream",
     "text": [
      "[8.77033628 6.84321057 7.47245163 ... 1.48283423 4.66959453 1.66179071]\n"
     ]
    }
   ],
   "source": [
    "# Generate random numbers from a Uniform(-3, 3)\n",
    "uniforms = np.random.uniform(low=-3, high=3, size=5000)\n",
    "\n",
    "# Generate random numbers from a Normal(5, 2)\n",
    "normals = np.random.normal(loc=5, scale=2, size=5000)\n",
    "\n",
    "# Print normals\n",
    "print(normals)"
   ]
  },
  {
   "cell_type": "code",
   "execution_count": 22,
   "metadata": {},
   "outputs": [
    {
     "data": {
      "image/png": "[encoded data removed]",
      "text/plain": [
       "<Figure size 640x480 with 1 Axes>"
      ]
     },
     "metadata": {},
     "output_type": "display_data"
    }
   ],
   "source": [
    "# Generate random numbers from a Uniform(-3, 3)\n",
    "uniforms = np.random.uniform(low=-3, high=3, size=5000)\n",
    "\n",
    "# Plot a histogram of uniform values, binwidth 0.25\n",
    "plt.hist(uniforms, bins=np.arange(-3, 3.25, 0.25))\n",
    "plt.show()"
   ]
  },
  {
   "cell_type": "code",
   "execution_count": 23,
   "metadata": {},
   "outputs": [
    {
     "data": {
      "image/png": "[encoded data removed]",
      "text/plain": [
       "<Figure size 640x480 with 1 Axes>"
      ]
     },
     "metadata": {},
     "output_type": "display_data"
    }
   ],
   "source": [
    "# Generate random numbers from a Normal(5, 2)\n",
    "normals = np.random.normal(loc=5, scale=2, size=5000)\n",
    "\n",
    "# Plot a histogram of normal values, binwidth 0.5\n",
    "plt.hist(normals, bins=np.arange(-2, 13.5, 0.5))\n",
    "plt.show()"
   ]
  },
  {
   "cell_type": "markdown",
   "metadata": {},
   "source": [
    "Understanding random seeds\n",
    "While random numbers are important for many analyses, they create a problem: the results you get can vary slightly. This can cause awkward conversations with your boss when your script for calculating the sales forecast gives different answers each time.\n",
    "\n",
    "Setting the seed for numpy's random number generator helps avoid such problems by making the random number generation reproducible."
   ]
  },
  {
   "cell_type": "code",
   "execution_count": 24,
   "metadata": {},
   "outputs": [
    {
     "name": "stdout",
     "output_type": "stream",
     "text": [
      "[-1.0856306   0.99734545  0.2829785  -1.50629471 -0.57860025]\n"
     ]
    },
    {
     "data": {
      "text/plain": [
       "None"
      ]
     },
     "metadata": {},
     "output_type": "display_data"
    },
    {
     "name": "stdout",
     "output_type": "stream",
     "text": [
      "[ 1.65143654 -2.42667924 -0.42891263  1.26593626 -0.8667404 ]\n"
     ]
    },
    {
     "data": {
      "text/plain": [
       "None"
      ]
     },
     "metadata": {},
     "output_type": "display_data"
    }
   ],
   "source": [
    "import numpy as np\n",
    "np.random.seed(123)\n",
    "x = np.random.normal(size=5)\n",
    "y = np.random.normal(size=5)\n",
    "display(print(x))\n",
    "display(print(y))"
   ]
  },
  {
   "cell_type": "code",
   "execution_count": 25,
   "metadata": {},
   "outputs": [
    {
     "name": "stdout",
     "output_type": "stream",
     "text": [
      "[-1.0856306   0.99734545  0.2829785  -1.50629471 -0.57860025]\n"
     ]
    },
    {
     "data": {
      "text/plain": [
       "None"
      ]
     },
     "metadata": {},
     "output_type": "display_data"
    },
    {
     "name": "stdout",
     "output_type": "stream",
     "text": [
      "[-1.0856306   0.99734545  0.2829785  -1.50629471 -0.57860025]\n"
     ]
    },
    {
     "data": {
      "text/plain": [
       "None"
      ]
     },
     "metadata": {},
     "output_type": "display_data"
    }
   ],
   "source": [
    "import numpy as np\n",
    "np.random.seed(123)\n",
    "x = np.random.normal(size=5)\n",
    "np.random.seed(123)\n",
    "y = np.random.normal(size=5)\n",
    "display(print(x))\n",
    "display(print(y))"
   ]
  },
  {
   "cell_type": "code",
   "execution_count": 26,
   "metadata": {},
   "outputs": [
    {
     "name": "stdout",
     "output_type": "stream",
     "text": [
      "[-1.0856306   0.99734545  0.2829785  -1.50629471 -0.57860025]\n"
     ]
    },
    {
     "data": {
      "text/plain": [
       "None"
      ]
     },
     "metadata": {},
     "output_type": "display_data"
    },
    {
     "name": "stdout",
     "output_type": "stream",
     "text": [
      "[-0.6681285  -0.49820952  0.61857582  0.56869225  1.35050948]\n"
     ]
    },
    {
     "data": {
      "text/plain": [
       "None"
      ]
     },
     "metadata": {},
     "output_type": "display_data"
    }
   ],
   "source": [
    "import numpy as np\n",
    "np.random.seed(123)\n",
    "x = np.random.normal(size=5)\n",
    "np.random.seed(456)\n",
    "y = np.random.normal(size=5)\n",
    "display(print(x))\n",
    "display(print(y))"
   ]
  },
  {
   "attachments": {},
   "cell_type": "markdown",
   "metadata": {},
   "source": [
    "## **Sampling Methods (Module 02-053)**"
   ]
  },
  {
   "attachments": {},
   "cell_type": "markdown",
   "metadata": {},
   "source": [
    "#### **Simple random and systematic sampling**\n",
    "\n",
    "1. Simple random sampling with pandas\n",
    "coffee_ratings.sample(n=5, random_state=19000113)\n",
    "\n",
    "2. Systematic sampling - defining the interval\n",
    "sample_size = 5\n",
    "pop_size = len(coffee_ratings)\n",
    "print(pop_size)\n",
    "interval = pop_size // sample_size\n",
    "print(interval)\n",
    "\n",
    "3. Systematic sampling - selecting the rows //The trouble with systematic sampling\n",
    "\n",
    "coffee_ratings.iloc[::interval]\n",
    "\n",
    "coffee_ratings_with_id = coffee_ratings.reset_index()\n",
    "coffee_ratings_with_id.plot(x=\"index\", y=\"aftertaste\", kind=\"scatter\")\n",
    "plt.show()\n",
    "\n",
    "4. Making systematic sampling safe\n",
    "\n",
    "shuffled = coffee_ratings.sample(frac=1)\n",
    "shuffled = shuffled.reset_index(drop=True).reset_index()\n",
    "shuffled.plot(x=\"index\", y=\"aftertaste\", kind=\"scatter\")\n",
    "plt.show()"
   ]
  },
  {
   "cell_type": "code",
   "execution_count": 27,
   "metadata": {},
   "outputs": [
    {
     "data": {
      "text/html": [
       "<div>\n",
       "<style scoped>\n",
       "    .dataframe tbody tr th:only-of-type {\n",
       "        vertical-align: middle;\n",
       "    }\n",
       "\n",
       "    .dataframe tbody tr th {\n",
       "        vertical-align: top;\n",
       "    }\n",
       "\n",
       "    .dataframe thead th {\n",
       "        text-align: right;\n",
       "    }\n",
       "</style>\n",
       "<table border=\"1\" class=\"dataframe\">\n",
       "  <thead>\n",
       "    <tr style=\"text-align: right;\">\n",
       "      <th></th>\n",
       "      <th>total_cup_points</th>\n",
       "      <th>species</th>\n",
       "      <th>owner</th>\n",
       "      <th>country_of_origin</th>\n",
       "      <th>farm_name</th>\n",
       "      <th>lot_number</th>\n",
       "      <th>mill</th>\n",
       "      <th>ico_number</th>\n",
       "      <th>company</th>\n",
       "      <th>altitude</th>\n",
       "      <th>...</th>\n",
       "      <th>color</th>\n",
       "      <th>category_two_defects</th>\n",
       "      <th>expiration</th>\n",
       "      <th>certification_body</th>\n",
       "      <th>certification_address</th>\n",
       "      <th>certification_contact</th>\n",
       "      <th>unit_of_measurement</th>\n",
       "      <th>altitude_low_meters</th>\n",
       "      <th>altitude_high_meters</th>\n",
       "      <th>altitude_mean_meters</th>\n",
       "    </tr>\n",
       "  </thead>\n",
       "  <tbody>\n",
       "    <tr>\n",
       "      <th>437</th>\n",
       "      <td>83.25</td>\n",
       "      <td>Arabica</td>\n",
       "      <td>exportadora de cafe condor s.a</td>\n",
       "      <td>Colombia</td>\n",
       "      <td>None</td>\n",
       "      <td>None</td>\n",
       "      <td>trilladora bonanza - armenia quindioa</td>\n",
       "      <td>3-68-0205</td>\n",
       "      <td>None</td>\n",
       "      <td>1600-1800msnm</td>\n",
       "      <td>...</td>\n",
       "      <td>None</td>\n",
       "      <td>0.0</td>\n",
       "      <td>June 13th, 2012</td>\n",
       "      <td>Almacafé</td>\n",
       "      <td>e493c36c2d076bf273064f7ac23ad562af257a25</td>\n",
       "      <td>70d3c0c26f89e00fdae6fb39ff54f0d2eb1c38ab</td>\n",
       "      <td>m</td>\n",
       "      <td>1600.0</td>\n",
       "      <td>1800.0</td>\n",
       "      <td>1700.0</td>\n",
       "    </tr>\n",
       "    <tr>\n",
       "      <th>285</th>\n",
       "      <td>83.83</td>\n",
       "      <td>Arabica</td>\n",
       "      <td>ipanema coffees</td>\n",
       "      <td>Brazil</td>\n",
       "      <td>fazenda rio verde</td>\n",
       "      <td>None</td>\n",
       "      <td>ipanema coffees</td>\n",
       "      <td>002/4177/0121</td>\n",
       "      <td>ipanema coffees</td>\n",
       "      <td>1260</td>\n",
       "      <td>...</td>\n",
       "      <td>Green</td>\n",
       "      <td>0.0</td>\n",
       "      <td>December 26th, 2014</td>\n",
       "      <td>Specialty Coffee Association</td>\n",
       "      <td>36d0d00a3724338ba7937c52a378d085f2172daa</td>\n",
       "      <td>0878a7d4b9d35ddbf0fe2ce69a2062cceb45a660</td>\n",
       "      <td>m</td>\n",
       "      <td>1260.0</td>\n",
       "      <td>1260.0</td>\n",
       "      <td>1260.0</td>\n",
       "    </tr>\n",
       "    <tr>\n",
       "      <th>784</th>\n",
       "      <td>82.08</td>\n",
       "      <td>Arabica</td>\n",
       "      <td>cafe politico</td>\n",
       "      <td>Colombia</td>\n",
       "      <td>None</td>\n",
       "      <td>None</td>\n",
       "      <td>None</td>\n",
       "      <td>3-59-1656</td>\n",
       "      <td>cafe politico</td>\n",
       "      <td>None</td>\n",
       "      <td>...</td>\n",
       "      <td>Green</td>\n",
       "      <td>0.0</td>\n",
       "      <td>September 12th, 2015</td>\n",
       "      <td>Specialty Coffee Association</td>\n",
       "      <td>36d0d00a3724338ba7937c52a378d085f2172daa</td>\n",
       "      <td>0878a7d4b9d35ddbf0fe2ce69a2062cceb45a660</td>\n",
       "      <td>m</td>\n",
       "      <td>NaN</td>\n",
       "      <td>NaN</td>\n",
       "      <td>NaN</td>\n",
       "    </tr>\n",
       "    <tr>\n",
       "      <th>648</th>\n",
       "      <td>82.58</td>\n",
       "      <td>Arabica</td>\n",
       "      <td>exportadora de cafe condor s.a</td>\n",
       "      <td>Colombia</td>\n",
       "      <td>None</td>\n",
       "      <td>None</td>\n",
       "      <td>trilladora boananza</td>\n",
       "      <td>3-68-0140</td>\n",
       "      <td>exportadora de cafe condor s.a</td>\n",
       "      <td>1750 msnm</td>\n",
       "      <td>...</td>\n",
       "      <td>Green</td>\n",
       "      <td>0.0</td>\n",
       "      <td>February 27th, 2014</td>\n",
       "      <td>Almacafé</td>\n",
       "      <td>e493c36c2d076bf273064f7ac23ad562af257a25</td>\n",
       "      <td>70d3c0c26f89e00fdae6fb39ff54f0d2eb1c38ab</td>\n",
       "      <td>m</td>\n",
       "      <td>1750.0</td>\n",
       "      <td>1750.0</td>\n",
       "      <td>1750.0</td>\n",
       "    </tr>\n",
       "    <tr>\n",
       "      <th>155</th>\n",
       "      <td>84.58</td>\n",
       "      <td>Arabica</td>\n",
       "      <td>exportadora de cafe condor s.a</td>\n",
       "      <td>Colombia</td>\n",
       "      <td>various</td>\n",
       "      <td>None</td>\n",
       "      <td>trilladora boananza</td>\n",
       "      <td>3-68-0005</td>\n",
       "      <td>exportadora de cafe condor s.a</td>\n",
       "      <td>1800 msnm</td>\n",
       "      <td>...</td>\n",
       "      <td>Green</td>\n",
       "      <td>6.0</td>\n",
       "      <td>October 9th, 2013</td>\n",
       "      <td>Almacafé</td>\n",
       "      <td>e493c36c2d076bf273064f7ac23ad562af257a25</td>\n",
       "      <td>70d3c0c26f89e00fdae6fb39ff54f0d2eb1c38ab</td>\n",
       "      <td>m</td>\n",
       "      <td>1800.0</td>\n",
       "      <td>1800.0</td>\n",
       "      <td>1800.0</td>\n",
       "    </tr>\n",
       "  </tbody>\n",
       "</table>\n",
       "<p>5 rows × 43 columns</p>\n",
       "</div>"
      ],
      "text/plain": [
       "     total_cup_points  species                           owner  \\\n",
       "437             83.25  Arabica  exportadora de cafe condor s.a   \n",
       "285             83.83  Arabica                 ipanema coffees   \n",
       "784             82.08  Arabica                   cafe politico   \n",
       "648             82.58  Arabica  exportadora de cafe condor s.a   \n",
       "155             84.58  Arabica  exportadora de cafe condor s.a   \n",
       "\n",
       "    country_of_origin          farm_name lot_number  \\\n",
       "437          Colombia               None       None   \n",
       "285            Brazil  fazenda rio verde       None   \n",
       "784          Colombia               None       None   \n",
       "648          Colombia               None       None   \n",
       "155          Colombia            various       None   \n",
       "\n",
       "                                      mill     ico_number  \\\n",
       "437  trilladora bonanza - armenia quindioa      3-68-0205   \n",
       "285                        ipanema coffees  002/4177/0121   \n",
       "784                                   None      3-59-1656   \n",
       "648                    trilladora boananza      3-68-0140   \n",
       "155                    trilladora boananza      3-68-0005   \n",
       "\n",
       "                            company       altitude  ...  color  \\\n",
       "437                            None  1600-1800msnm  ...   None   \n",
       "285                 ipanema coffees           1260  ...  Green   \n",
       "784                   cafe politico           None  ...  Green   \n",
       "648  exportadora de cafe condor s.a      1750 msnm  ...  Green   \n",
       "155  exportadora de cafe condor s.a      1800 msnm  ...  Green   \n",
       "\n",
       "    category_two_defects            expiration            certification_body  \\\n",
       "437                  0.0       June 13th, 2012                      Almacafé   \n",
       "285                  0.0   December 26th, 2014  Specialty Coffee Association   \n",
       "784                  0.0  September 12th, 2015  Specialty Coffee Association   \n",
       "648                  0.0   February 27th, 2014                      Almacafé   \n",
       "155                  6.0     October 9th, 2013                      Almacafé   \n",
       "\n",
       "                        certification_address  \\\n",
       "437  e493c36c2d076bf273064f7ac23ad562af257a25   \n",
       "285  36d0d00a3724338ba7937c52a378d085f2172daa   \n",
       "784  36d0d00a3724338ba7937c52a378d085f2172daa   \n",
       "648  e493c36c2d076bf273064f7ac23ad562af257a25   \n",
       "155  e493c36c2d076bf273064f7ac23ad562af257a25   \n",
       "\n",
       "                        certification_contact unit_of_measurement  \\\n",
       "437  70d3c0c26f89e00fdae6fb39ff54f0d2eb1c38ab                   m   \n",
       "285  0878a7d4b9d35ddbf0fe2ce69a2062cceb45a660                   m   \n",
       "784  0878a7d4b9d35ddbf0fe2ce69a2062cceb45a660                   m   \n",
       "648  70d3c0c26f89e00fdae6fb39ff54f0d2eb1c38ab                   m   \n",
       "155  70d3c0c26f89e00fdae6fb39ff54f0d2eb1c38ab                   m   \n",
       "\n",
       "    altitude_low_meters altitude_high_meters altitude_mean_meters  \n",
       "437              1600.0               1800.0               1700.0  \n",
       "285              1260.0               1260.0               1260.0  \n",
       "784                 NaN                  NaN                  NaN  \n",
       "648              1750.0               1750.0               1750.0  \n",
       "155              1800.0               1800.0               1800.0  \n",
       "\n",
       "[5 rows x 43 columns]"
      ]
     },
     "metadata": {},
     "output_type": "display_data"
    }
   ],
   "source": [
    "display(\n",
    "coffee_ratings.sample(n=5, random_state=19000113)\n",
    ")\n"
   ]
  },
  {
   "cell_type": "code",
   "execution_count": 28,
   "metadata": {},
   "outputs": [
    {
     "name": "stdout",
     "output_type": "stream",
     "text": [
      "1338\n",
      "267\n"
     ]
    },
    {
     "data": {
      "text/html": [
       "<div>\n",
       "<style scoped>\n",
       "    .dataframe tbody tr th:only-of-type {\n",
       "        vertical-align: middle;\n",
       "    }\n",
       "\n",
       "    .dataframe tbody tr th {\n",
       "        vertical-align: top;\n",
       "    }\n",
       "\n",
       "    .dataframe thead th {\n",
       "        text-align: right;\n",
       "    }\n",
       "</style>\n",
       "<table border=\"1\" class=\"dataframe\">\n",
       "  <thead>\n",
       "    <tr style=\"text-align: right;\">\n",
       "      <th></th>\n",
       "      <th>total_cup_points</th>\n",
       "      <th>species</th>\n",
       "      <th>owner</th>\n",
       "      <th>country_of_origin</th>\n",
       "      <th>farm_name</th>\n",
       "      <th>lot_number</th>\n",
       "      <th>mill</th>\n",
       "      <th>ico_number</th>\n",
       "      <th>company</th>\n",
       "      <th>altitude</th>\n",
       "      <th>...</th>\n",
       "      <th>color</th>\n",
       "      <th>category_two_defects</th>\n",
       "      <th>expiration</th>\n",
       "      <th>certification_body</th>\n",
       "      <th>certification_address</th>\n",
       "      <th>certification_contact</th>\n",
       "      <th>unit_of_measurement</th>\n",
       "      <th>altitude_low_meters</th>\n",
       "      <th>altitude_high_meters</th>\n",
       "      <th>altitude_mean_meters</th>\n",
       "    </tr>\n",
       "  </thead>\n",
       "  <tbody>\n",
       "    <tr>\n",
       "      <th>0</th>\n",
       "      <td>90.58</td>\n",
       "      <td>Arabica</td>\n",
       "      <td>metad plc</td>\n",
       "      <td>Ethiopia</td>\n",
       "      <td>metad plc</td>\n",
       "      <td>None</td>\n",
       "      <td>metad plc</td>\n",
       "      <td>2014/2015</td>\n",
       "      <td>metad agricultural developmet plc</td>\n",
       "      <td>1950-2200</td>\n",
       "      <td>...</td>\n",
       "      <td>Green</td>\n",
       "      <td>0.0</td>\n",
       "      <td>April 3rd, 2016</td>\n",
       "      <td>METAD Agricultural Development plc</td>\n",
       "      <td>309fcf77415a3661ae83e027f7e5f05dad786e44</td>\n",
       "      <td>19fef5a731de2db57d16da10287413f5f99bc2dd</td>\n",
       "      <td>m</td>\n",
       "      <td>1950.0</td>\n",
       "      <td>2200.0</td>\n",
       "      <td>2075.0</td>\n",
       "    </tr>\n",
       "    <tr>\n",
       "      <th>267</th>\n",
       "      <td>83.92</td>\n",
       "      <td>Arabica</td>\n",
       "      <td>federacion nacional de cafeteros</td>\n",
       "      <td>Colombia</td>\n",
       "      <td>None</td>\n",
       "      <td>None</td>\n",
       "      <td>None</td>\n",
       "      <td>01-1969</td>\n",
       "      <td>federacion nacional de cafeteros</td>\n",
       "      <td>None</td>\n",
       "      <td>...</td>\n",
       "      <td>None</td>\n",
       "      <td>1.0</td>\n",
       "      <td>March 11th, 2016</td>\n",
       "      <td>Almacafé</td>\n",
       "      <td>e493c36c2d076bf273064f7ac23ad562af257a25</td>\n",
       "      <td>70d3c0c26f89e00fdae6fb39ff54f0d2eb1c38ab</td>\n",
       "      <td>m</td>\n",
       "      <td>NaN</td>\n",
       "      <td>NaN</td>\n",
       "      <td>NaN</td>\n",
       "    </tr>\n",
       "    <tr>\n",
       "      <th>534</th>\n",
       "      <td>82.92</td>\n",
       "      <td>Arabica</td>\n",
       "      <td>consejo salvadoreño del café</td>\n",
       "      <td>El Salvador</td>\n",
       "      <td>santa josefita</td>\n",
       "      <td>1-198</td>\n",
       "      <td>beneficio cuzcachapa</td>\n",
       "      <td>09-030-273</td>\n",
       "      <td>soc. coop. cuzcachapa de r.l.</td>\n",
       "      <td>1350</td>\n",
       "      <td>...</td>\n",
       "      <td>Green</td>\n",
       "      <td>1.0</td>\n",
       "      <td>August 28th, 2018</td>\n",
       "      <td>Salvadoran Coffee Council</td>\n",
       "      <td>3d4987e3b91399dbb3938b5bdf53893b6ef45be1</td>\n",
       "      <td>27b21e368fb8291cbea02c60623fe6c98f84524d</td>\n",
       "      <td>m</td>\n",
       "      <td>1350.0</td>\n",
       "      <td>1350.0</td>\n",
       "      <td>1350.0</td>\n",
       "    </tr>\n",
       "    <tr>\n",
       "      <th>801</th>\n",
       "      <td>82.00</td>\n",
       "      <td>Arabica</td>\n",
       "      <td>lin, che-hao krude 林哲豪</td>\n",
       "      <td>Taiwan</td>\n",
       "      <td>you siang coffee farmtainan, taiwan 台灣台南優香咖啡</td>\n",
       "      <td>None</td>\n",
       "      <td>you siang coffee farmtainan, taiwan 台灣台南優香咖啡</td>\n",
       "      <td>Taiwan</td>\n",
       "      <td>red on tree co., ltd.</td>\n",
       "      <td>600m</td>\n",
       "      <td>...</td>\n",
       "      <td>Green</td>\n",
       "      <td>0.0</td>\n",
       "      <td>July 22nd, 2015</td>\n",
       "      <td>Specialty Coffee Association</td>\n",
       "      <td>36d0d00a3724338ba7937c52a378d085f2172daa</td>\n",
       "      <td>0878a7d4b9d35ddbf0fe2ce69a2062cceb45a660</td>\n",
       "      <td>m</td>\n",
       "      <td>600.0</td>\n",
       "      <td>600.0</td>\n",
       "      <td>600.0</td>\n",
       "    </tr>\n",
       "    <tr>\n",
       "      <th>1068</th>\n",
       "      <td>80.50</td>\n",
       "      <td>Arabica</td>\n",
       "      <td>cqi taiwan icp cqi台灣合作夥伴</td>\n",
       "      <td>Taiwan</td>\n",
       "      <td>王秋金</td>\n",
       "      <td>1</td>\n",
       "      <td>non</td>\n",
       "      <td>None</td>\n",
       "      <td>王秋金</td>\n",
       "      <td>50</td>\n",
       "      <td>...</td>\n",
       "      <td>Blue-Green</td>\n",
       "      <td>0.0</td>\n",
       "      <td>December 8th, 2018</td>\n",
       "      <td>Blossom Valley International</td>\n",
       "      <td>fc45352eee499d8470cf94c9827922fb745bf815</td>\n",
       "      <td>de73fc9412358b523d3a641501e542f31d2668b0</td>\n",
       "      <td>m</td>\n",
       "      <td>50.0</td>\n",
       "      <td>50.0</td>\n",
       "      <td>50.0</td>\n",
       "    </tr>\n",
       "    <tr>\n",
       "      <th>1335</th>\n",
       "      <td>77.17</td>\n",
       "      <td>Robusta</td>\n",
       "      <td>james moore</td>\n",
       "      <td>United States</td>\n",
       "      <td>fazenda cazengo</td>\n",
       "      <td>None</td>\n",
       "      <td>cafe cazengo</td>\n",
       "      <td>None</td>\n",
       "      <td>global opportunity fund</td>\n",
       "      <td>795 meters</td>\n",
       "      <td>...</td>\n",
       "      <td>None</td>\n",
       "      <td>6.0</td>\n",
       "      <td>December 23rd, 2015</td>\n",
       "      <td>Specialty Coffee Association</td>\n",
       "      <td>ff7c18ad303d4b603ac3f8cff7e611ffc735e720</td>\n",
       "      <td>352d0cf7f3e9be14dad7df644ad65efc27605ae2</td>\n",
       "      <td>m</td>\n",
       "      <td>795.0</td>\n",
       "      <td>795.0</td>\n",
       "      <td>795.0</td>\n",
       "    </tr>\n",
       "  </tbody>\n",
       "</table>\n",
       "<p>6 rows × 43 columns</p>\n",
       "</div>"
      ],
      "text/plain": [
       "      total_cup_points  species                             owner  \\\n",
       "0                90.58  Arabica                         metad plc   \n",
       "267              83.92  Arabica  federacion nacional de cafeteros   \n",
       "534              82.92  Arabica      consejo salvadoreño del café   \n",
       "801              82.00  Arabica            lin, che-hao krude 林哲豪   \n",
       "1068             80.50  Arabica          cqi taiwan icp cqi台灣合作夥伴   \n",
       "1335             77.17  Robusta                       james moore   \n",
       "\n",
       "     country_of_origin                                     farm_name  \\\n",
       "0             Ethiopia                                     metad plc   \n",
       "267           Colombia                                          None   \n",
       "534        El Salvador                                santa josefita   \n",
       "801             Taiwan  you siang coffee farmtainan, taiwan 台灣台南優香咖啡   \n",
       "1068            Taiwan                                           王秋金   \n",
       "1335     United States                               fazenda cazengo   \n",
       "\n",
       "     lot_number                                          mill  ico_number  \\\n",
       "0          None                                     metad plc   2014/2015   \n",
       "267        None                                          None     01-1969   \n",
       "534       1-198                          beneficio cuzcachapa  09-030-273   \n",
       "801        None  you siang coffee farmtainan, taiwan 台灣台南優香咖啡      Taiwan   \n",
       "1068          1                                           non        None   \n",
       "1335       None                                  cafe cazengo        None   \n",
       "\n",
       "                                company    altitude  ...       color  \\\n",
       "0     metad agricultural developmet plc   1950-2200  ...       Green   \n",
       "267    federacion nacional de cafeteros        None  ...        None   \n",
       "534       soc. coop. cuzcachapa de r.l.        1350  ...       Green   \n",
       "801               red on tree co., ltd.        600m  ...       Green   \n",
       "1068                                王秋金          50  ...  Blue-Green   \n",
       "1335            global opportunity fund  795 meters  ...        None   \n",
       "\n",
       "     category_two_defects           expiration  \\\n",
       "0                     0.0      April 3rd, 2016   \n",
       "267                   1.0     March 11th, 2016   \n",
       "534                   1.0    August 28th, 2018   \n",
       "801                   0.0      July 22nd, 2015   \n",
       "1068                  0.0   December 8th, 2018   \n",
       "1335                  6.0  December 23rd, 2015   \n",
       "\n",
       "                      certification_body  \\\n",
       "0     METAD Agricultural Development plc   \n",
       "267                             Almacafé   \n",
       "534            Salvadoran Coffee Council   \n",
       "801         Specialty Coffee Association   \n",
       "1068        Blossom Valley International   \n",
       "1335        Specialty Coffee Association   \n",
       "\n",
       "                         certification_address  \\\n",
       "0     309fcf77415a3661ae83e027f7e5f05dad786e44   \n",
       "267   e493c36c2d076bf273064f7ac23ad562af257a25   \n",
       "534   3d4987e3b91399dbb3938b5bdf53893b6ef45be1   \n",
       "801   36d0d00a3724338ba7937c52a378d085f2172daa   \n",
       "1068  fc45352eee499d8470cf94c9827922fb745bf815   \n",
       "1335  ff7c18ad303d4b603ac3f8cff7e611ffc735e720   \n",
       "\n",
       "                         certification_contact unit_of_measurement  \\\n",
       "0     19fef5a731de2db57d16da10287413f5f99bc2dd                   m   \n",
       "267   70d3c0c26f89e00fdae6fb39ff54f0d2eb1c38ab                   m   \n",
       "534   27b21e368fb8291cbea02c60623fe6c98f84524d                   m   \n",
       "801   0878a7d4b9d35ddbf0fe2ce69a2062cceb45a660                   m   \n",
       "1068  de73fc9412358b523d3a641501e542f31d2668b0                   m   \n",
       "1335  352d0cf7f3e9be14dad7df644ad65efc27605ae2                   m   \n",
       "\n",
       "     altitude_low_meters altitude_high_meters altitude_mean_meters  \n",
       "0                 1950.0               2200.0               2075.0  \n",
       "267                  NaN                  NaN                  NaN  \n",
       "534               1350.0               1350.0               1350.0  \n",
       "801                600.0                600.0                600.0  \n",
       "1068                50.0                 50.0                 50.0  \n",
       "1335               795.0                795.0                795.0  \n",
       "\n",
       "[6 rows x 43 columns]"
      ]
     },
     "execution_count": 28,
     "metadata": {},
     "output_type": "execute_result"
    }
   ],
   "source": [
    "sample_size = 5\n",
    "pop_size = len(coffee_ratings)\n",
    "print(pop_size)\n",
    "interval = pop_size // sample_size\n",
    "print(interval)\n",
    "coffee_ratings.iloc[::interval]\n"
   ]
  },
  {
   "cell_type": "code",
   "execution_count": 29,
   "metadata": {},
   "outputs": [
    {
     "data": {
      "image/png": "[encoded data removed]",
      "text/plain": [
       "<Figure size 640x480 with 1 Axes>"
      ]
     },
     "metadata": {},
     "output_type": "display_data"
    }
   ],
   "source": [
    "coffee_ratings_with_id = coffee_ratings.reset_index()\n",
    "coffee_ratings_with_id.plot(x=\"index\", y=\"aftertaste\", kind=\"scatter\")\n",
    "plt.show()"
   ]
  },
  {
   "cell_type": "code",
   "execution_count": 30,
   "metadata": {},
   "outputs": [
    {
     "data": {
      "image/png": "[encoded data removed]",
      "text/plain": [
       "<Figure size 640x480 with 1 Axes>"
      ]
     },
     "metadata": {},
     "output_type": "display_data"
    }
   ],
   "source": [
    "shuffled = coffee_ratings.sample(frac=1)\n",
    "shuffled = shuffled.reset_index(drop=True).reset_index()\n",
    "shuffled.plot(x=\"index\", y=\"aftertaste\", kind=\"scatter\")\n",
    "plt.show()"
   ]
  },
  {
   "cell_type": "markdown",
   "metadata": {},
   "source": [
    "Simple random sampling\n",
    "The simplest method of sampling a population is the one you've seen already. It is known as simple random sampling (sometimes abbreviated to \"SRS\"), and involves picking rows at random, one at a time, where each row has the same chance of being picked as any other.\n",
    "\n",
    "In this chapter, you'll apply sampling methods to a synthetic (fictional) employee attrition dataset from IBM, where \"attrition\" in this context means leaving the company.\n",
    "\n",
    "attrition_pop is available; pandas as pd is loaded."
   ]
  },
  {
   "cell_type": "code",
   "execution_count": 31,
   "metadata": {},
   "outputs": [
    {
     "name": "stdout",
     "output_type": "stream",
     "text": [
      "      Age  Attrition     BusinessTravel  DailyRate            Department  \\\n",
      "1134   35        0.0      Travel_Rarely        583  Research_Development   \n",
      "1150   52        0.0         Non-Travel        585                 Sales   \n",
      "531    33        0.0      Travel_Rarely        931  Research_Development   \n",
      "395    31        0.0      Travel_Rarely       1332  Research_Development   \n",
      "392    29        0.0      Travel_Rarely        942  Research_Development   \n",
      "...   ...        ...                ...        ...                   ...   \n",
      "361    27        0.0  Travel_Frequently       1410                 Sales   \n",
      "1180   36        0.0      Travel_Rarely        530                 Sales   \n",
      "230    26        0.0      Travel_Rarely       1443                 Sales   \n",
      "211    29        0.0  Travel_Frequently        410  Research_Development   \n",
      "890    30        0.0  Travel_Frequently       1312  Research_Development   \n",
      "\n",
      "      DistanceFromHome      Education    EducationField  \\\n",
      "1134                25         Master           Medical   \n",
      "1150                29         Master     Life_Sciences   \n",
      "531                 14       Bachelor           Medical   \n",
      "395                 11        College           Medical   \n",
      "392                 15  Below_College     Life_Sciences   \n",
      "...                ...            ...               ...   \n",
      "361                  3  Below_College           Medical   \n",
      "1180                 2         Master     Life_Sciences   \n",
      "230                 23       Bachelor         Marketing   \n",
      "211                  2  Below_College     Life_Sciences   \n",
      "890                  2         Master  Technical_Degree   \n",
      "\n",
      "     EnvironmentSatisfaction  Gender  ...  PerformanceRating  \\\n",
      "1134                    High  Female  ...          Excellent   \n",
      "1150                     Low    Male  ...          Excellent   \n",
      "531                Very_High  Female  ...          Excellent   \n",
      "395                     High    Male  ...          Excellent   \n",
      "392                   Medium  Female  ...          Excellent   \n",
      "...                      ...     ...  ...                ...   \n",
      "361                Very_High  Female  ...        Outstanding   \n",
      "1180                    High  Female  ...          Excellent   \n",
      "230                     High  Female  ...          Excellent   \n",
      "211                Very_High  Female  ...          Excellent   \n",
      "890                Very_High  Female  ...          Excellent   \n",
      "\n",
      "     RelationshipSatisfaction  StockOptionLevel TotalWorkingYears  \\\n",
      "1134                     High                 1                16   \n",
      "1150                   Medium                 2                16   \n",
      "531                 Very_High                 1                 8   \n",
      "395                 Very_High                 0                 6   \n",
      "392                       Low                 1                 6   \n",
      "...                       ...               ...               ...   \n",
      "361                    Medium                 2                 6   \n",
      "1180                     High                 0                17   \n",
      "230                      High                 1                 5   \n",
      "211                      High                 3                 4   \n",
      "890                 Very_High                 0                10   \n",
      "\n",
      "     TrainingTimesLastYear WorkLifeBalance  YearsAtCompany  \\\n",
      "1134                     3            Good              16   \n",
      "1150                     3            Good               9   \n",
      "531                      5          Better               8   \n",
      "395                      2            Good               6   \n",
      "392                      2            Good               5   \n",
      "...                    ...             ...             ...   \n",
      "361                      3          Better               6   \n",
      "1180                     2            Good              13   \n",
      "230                      2            Good               2   \n",
      "211                      3          Better               3   \n",
      "890                      2          Better               9   \n",
      "\n",
      "      YearsInCurrentRole  YearsSinceLastPromotion YearsWithCurrManager  \n",
      "1134                  10                       10                    1  \n",
      "1150                   8                        0                    0  \n",
      "531                    7                        1                    6  \n",
      "395                    5                        0                    1  \n",
      "392                    4                        1                    3  \n",
      "...                  ...                      ...                  ...  \n",
      "361                    5                        0                    4  \n",
      "1180                   7                        6                    7  \n",
      "230                    2                        0                    0  \n",
      "211                    2                        0                    2  \n",
      "890                    7                        0                    7  \n",
      "\n",
      "[70 rows x 31 columns]\n"
     ]
    }
   ],
   "source": [
    "# Sample 70 rows using simple random sampling and set the seed\n",
    "attrition_samp = attrition_pop.sample(n=70, random_state=18900217)\n",
    "\n",
    "# Print the sample\n",
    "print(attrition_samp)"
   ]
  },
  {
   "cell_type": "markdown",
   "metadata": {},
   "source": [
    "Systematic sampling\n",
    "One sampling method that avoids randomness is called systematic sampling. Here, you pick rows from the population at regular intervals.\n",
    "\n",
    "For example, if the population dataset had one thousand rows, and you wanted a sample size of five, you could pick rows 0, 200, 400, 600, and 800.\n",
    "\n",
    "attrition_pop is available; pandas has been pre-loaded as pd."
   ]
  },
  {
   "cell_type": "code",
   "execution_count": 32,
   "metadata": {},
   "outputs": [
    {
     "name": "stdout",
     "output_type": "stream",
     "text": [
      "1470\n",
      "21\n",
      "      Age  Attrition BusinessTravel  DailyRate            Department  \\\n",
      "0      21        0.0  Travel_Rarely        391  Research_Development   \n",
      "21     19        0.0  Travel_Rarely       1181  Research_Development   \n",
      "42     45        0.0  Travel_Rarely        252  Research_Development   \n",
      "63     23        0.0  Travel_Rarely        373  Research_Development   \n",
      "84     30        1.0  Travel_Rarely        945                 Sales   \n",
      "...   ...        ...            ...        ...                   ...   \n",
      "1365   48        0.0  Travel_Rarely        715  Research_Development   \n",
      "1386   48        0.0  Travel_Rarely       1355  Research_Development   \n",
      "1407   50        0.0  Travel_Rarely        989  Research_Development   \n",
      "1428   50        0.0     Non-Travel        881  Research_Development   \n",
      "1449   52        0.0  Travel_Rarely        699  Research_Development   \n",
      "\n",
      "      DistanceFromHome      Education EducationField EnvironmentSatisfaction  \\\n",
      "0                   15        College  Life_Sciences                    High   \n",
      "21                   3  Below_College        Medical                  Medium   \n",
      "42                   2       Bachelor  Life_Sciences                  Medium   \n",
      "63                   1        College  Life_Sciences               Very_High   \n",
      "84                   9       Bachelor        Medical                  Medium   \n",
      "...                ...            ...            ...                     ...   \n",
      "1365                 1       Bachelor  Life_Sciences               Very_High   \n",
      "1386                 4         Master  Life_Sciences                    High   \n",
      "1407                 7        College        Medical                  Medium   \n",
      "1428                 2         Master  Life_Sciences                     Low   \n",
      "1449                 1         Master  Life_Sciences                    High   \n",
      "\n",
      "      Gender  ...  PerformanceRating RelationshipSatisfaction  \\\n",
      "0       Male  ...          Excellent                Very_High   \n",
      "21    Female  ...          Excellent                Very_High   \n",
      "42    Female  ...          Excellent                Very_High   \n",
      "63      Male  ...        Outstanding                Very_High   \n",
      "84      Male  ...          Excellent                     High   \n",
      "...      ...  ...                ...                      ...   \n",
      "1365    Male  ...          Excellent                     High   \n",
      "1386    Male  ...          Excellent                   Medium   \n",
      "1407  Female  ...          Excellent                Very_High   \n",
      "1428    Male  ...          Excellent                Very_High   \n",
      "1449    Male  ...          Excellent                      Low   \n",
      "\n",
      "      StockOptionLevel TotalWorkingYears TrainingTimesLastYear  \\\n",
      "0                    0                 0                     6   \n",
      "21                   0                 1                     3   \n",
      "42                   0                 1                     3   \n",
      "63                   1                 1                     2   \n",
      "84                   0                 1                     3   \n",
      "...                ...               ...                   ...   \n",
      "1365                 0                25                     3   \n",
      "1386                 0                27                     3   \n",
      "1407                 1                29                     2   \n",
      "1428                 1                31                     3   \n",
      "1449                 1                34                     5   \n",
      "\n",
      "     WorkLifeBalance  YearsAtCompany  YearsInCurrentRole  \\\n",
      "0             Better               0                   0   \n",
      "21            Better               1                   0   \n",
      "42            Better               1                   0   \n",
      "63            Better               1                   0   \n",
      "84              Good               1                   0   \n",
      "...              ...             ...                 ...   \n",
      "1365            Best               1                   0   \n",
      "1386          Better              15                  11   \n",
      "1407            Good              27                   3   \n",
      "1428          Better              31                   6   \n",
      "1449          Better              33                  18   \n",
      "\n",
      "      YearsSinceLastPromotion YearsWithCurrManager  \n",
      "0                           0                    0  \n",
      "21                          0                    0  \n",
      "42                          0                    0  \n",
      "63                          0                    1  \n",
      "84                          0                    0  \n",
      "...                       ...                  ...  \n",
      "1365                        0                    0  \n",
      "1386                        4                    8  \n",
      "1407                       13                    8  \n",
      "1428                       14                    7  \n",
      "1449                       11                    9  \n",
      "\n",
      "[70 rows x 31 columns]\n"
     ]
    }
   ],
   "source": [
    "# Set the sample size to 70\n",
    "sample_size = 70\n",
    "\n",
    "# Calculate the population size from attrition_pop\n",
    "pop_size = len(attrition_pop)\n",
    "print(pop_size)\n",
    "# Calculate the interval\n",
    "interval = pop_size // sample_size\n",
    "print(interval)\n",
    "\n",
    "# Systematically sample 70 rows\n",
    "attrition_sys_samp = attrition_pop.iloc[::interval]\n",
    "\n",
    "# Print the sample\n",
    "print(attrition_sys_samp)"
   ]
  },
  {
   "cell_type": "markdown",
   "metadata": {},
   "source": [
    "Is systematic sampling OK?\n",
    "Systematic sampling has a problem: if the data has been sorted, or there is some sort of pattern or meaning behind the row order, then the resulting sample may not be representative of the whole population. The problem can be solved by shuffling the rows, but then systematic sampling is equivalent to simple random sampling.\n",
    "\n",
    "Here you'll look at how to determine whether or not there is a problem.\n",
    "\n",
    "attrition_pop is available; pandas is loaded as pd, and matplotlib.pyplot as plt."
   ]
  },
  {
   "cell_type": "code",
   "execution_count": 33,
   "metadata": {},
   "outputs": [
    {
     "data": {
      "image/png": "[encoded data removed]",
      "text/plain": [
       "<Figure size 640x480 with 1 Axes>"
      ]
     },
     "metadata": {},
     "output_type": "display_data"
    }
   ],
   "source": [
    "# Add an index column to attrition_pop\n",
    "attrition_pop_id = attrition_pop.reset_index()\n",
    "\n",
    "# Plot YearsAtCompany vs. index for attrition_pop_id\n",
    "attrition_pop_id.plot(x=\"index\", y=\"YearsAtCompany\", kind=\"scatter\")\n",
    "plt.show()"
   ]
  },
  {
   "cell_type": "code",
   "execution_count": 34,
   "metadata": {},
   "outputs": [
    {
     "data": {
      "image/png": "[encoded data removed]",
      "text/plain": [
       "<Figure size 640x480 with 1 Axes>"
      ]
     },
     "metadata": {},
     "output_type": "display_data"
    }
   ],
   "source": [
    "# Shuffle the rows of attrition_pop\n",
    "attrition_shuffled = attrition_pop.sample(frac=1)\n",
    "\n",
    "# Reset the row indexes and create an index column\n",
    "attrition_shuffled = attrition_shuffled.reset_index(drop=True).reset_index()\n",
    "\n",
    "# Plot YearsAtCompany vs. index for attrition_shuffled\n",
    "attrition_shuffled.plot(x=\"index\", y=\"YearsAtCompany\", kind=\"scatter\")\n",
    "plt.show()"
   ]
  },
  {
   "attachments": {},
   "cell_type": "markdown",
   "metadata": {},
   "source": [
    "#### **Stratified and weighted random sampling**\n",
    "\n",
    "1. Coffees by country\n",
    "top_counts = coffee_ratings['country_of_origin'].value_counts()\n",
    "top_counts.head(6)\n",
    "2. Filtering for 6 countries\n",
    "top_counted_countries = [\"Mexico\", \"Colombia\", \"Guatemala\",\n",
    "\"Brazil\", \"Taiwan\", \"United States (Hawaii)\"]\n",
    "top_counted_subset = coffee_ratings['country_of_origin'].isin(top_counted_countries)\n",
    "coffee_ratings_top = coffee_ratings[top_counted_subset]\n",
    "3. Counts of a simple random sample\n",
    "coffee_ratings_samp = coffee_ratings_top.sample(frac=0.1, random_state=2021)\n",
    "coffee_ratings_samp['country_of_origin'].value_counts(normalize=True)\n",
    "\n",
    "4. Proportional stratified sampling\n",
    "coffee_ratings_strat = coffee_ratings_top.groupby(\"country_of_origin\")\\\n",
    ".sample(frac=0.1, random_state=2021)\n",
    "\n",
    "coffee_ratings_strat['country_of_origin'].value_counts(normalize=True)\n",
    "5. Equal counts stratified sampling\n",
    "coffee_ratings_eq = coffee_ratings_top.groupby(\"country_of_origin\")\\\n",
    ".sample(n=15, random_state=2021)\n",
    "\n",
    "coffee_ratings_eq['country_of_origin'].value_counts(normalize=True)\n",
    "\n",
    "6. Weighted random sampling\n",
    "import numpy as np\n",
    "coffee_ratings_weight = coffee_ratings_top\n",
    "condition = coffee_ratings_weight['country_of_origin'] == \"Taiwan\"\n",
    "\n",
    "coffee_ratings_weight['weight'] = np.where(condition, 2, 1)\n",
    "\n",
    "coffee_ratings_weight = coffee_ratings_weight.sample(frac=0.1, weights=\"weight\")\n",
    "coffee_ratings_weight['country_of_origin'].value_counts(normalize=True)"
   ]
  },
  {
   "cell_type": "code",
   "execution_count": 35,
   "metadata": {},
   "outputs": [
    {
     "data": {
      "text/plain": [
       "Mexico                    236\n",
       "Colombia                  183\n",
       "Guatemala                 181\n",
       "Brazil                    132\n",
       "Taiwan                     75\n",
       "United States (Hawaii)     73\n",
       "Name: country_of_origin, dtype: int64"
      ]
     },
     "execution_count": 35,
     "metadata": {},
     "output_type": "execute_result"
    }
   ],
   "source": [
    "top_counts = coffee_ratings['country_of_origin'].value_counts()\n",
    "top_counts.head(6)"
   ]
  },
  {
   "cell_type": "code",
   "execution_count": 36,
   "metadata": {},
   "outputs": [
    {
     "data": {
      "text/plain": [
       "Mexico                    0.250000\n",
       "Guatemala                 0.204545\n",
       "Colombia                  0.181818\n",
       "Brazil                    0.181818\n",
       "United States (Hawaii)    0.102273\n",
       "Taiwan                    0.079545\n",
       "Name: country_of_origin, dtype: float64"
      ]
     },
     "execution_count": 36,
     "metadata": {},
     "output_type": "execute_result"
    }
   ],
   "source": [
    "top_counted_countries = [\"Mexico\", \"Colombia\", \"Guatemala\",\n",
    "\"Brazil\", \"Taiwan\", \"United States (Hawaii)\"]\n",
    "top_counted_subset = coffee_ratings['country_of_origin'].isin(top_counted_countries)\n",
    "coffee_ratings_top = coffee_ratings[top_counted_subset]\n",
    "\n",
    "coffee_ratings_samp = coffee_ratings_top.sample(frac=0.1, random_state=2021)\n",
    "coffee_ratings_samp['country_of_origin'].value_counts(normalize=True)"
   ]
  },
  {
   "cell_type": "code",
   "execution_count": 37,
   "metadata": {},
   "outputs": [
    {
     "data": {
      "text/plain": [
       "Mexico                    0.272727\n",
       "Colombia                  0.204545\n",
       "Guatemala                 0.204545\n",
       "Brazil                    0.147727\n",
       "Taiwan                    0.090909\n",
       "United States (Hawaii)    0.079545\n",
       "Name: country_of_origin, dtype: float64"
      ]
     },
     "execution_count": 37,
     "metadata": {},
     "output_type": "execute_result"
    }
   ],
   "source": [
    "coffee_ratings_strat = coffee_ratings_top.groupby(\"country_of_origin\")\\\n",
    ".sample(frac=0.1, random_state=2021)\n",
    "\n",
    "coffee_ratings_strat['country_of_origin'].value_counts(normalize=True)\n"
   ]
  },
  {
   "cell_type": "code",
   "execution_count": 38,
   "metadata": {},
   "outputs": [
    {
     "data": {
      "text/plain": [
       "Brazil                    0.166667\n",
       "Colombia                  0.166667\n",
       "Guatemala                 0.166667\n",
       "Mexico                    0.166667\n",
       "Taiwan                    0.166667\n",
       "United States (Hawaii)    0.166667\n",
       "Name: country_of_origin, dtype: float64"
      ]
     },
     "execution_count": 38,
     "metadata": {},
     "output_type": "execute_result"
    }
   ],
   "source": [
    "coffee_ratings_eq = coffee_ratings_top.groupby(\"country_of_origin\")\\\n",
    ".sample(n=15, random_state=2021)\n",
    "\n",
    "coffee_ratings_eq['country_of_origin'].value_counts(normalize=True)\n"
   ]
  },
  {
   "cell_type": "code",
   "execution_count": 39,
   "metadata": {},
   "outputs": [
    {
     "name": "stderr",
     "output_type": "stream",
     "text": [
      "C:\\Users\\mcaba\\AppData\\Local\\Temp\\ipykernel_23416\\2890812173.py:5: SettingWithCopyWarning: \n",
      "A value is trying to be set on a copy of a slice from a DataFrame.\n",
      "Try using .loc[row_indexer,col_indexer] = value instead\n",
      "\n",
      "See the caveats in the documentation: https://pandas.pydata.org/pandas-docs/stable/user_guide/indexing.html#returning-a-view-versus-a-copy\n",
      "  coffee_ratings_weight['weight'] = np.where(condition, 2, 1)\n"
     ]
    },
    {
     "data": {
      "text/plain": [
       "Mexico                    0.306818\n",
       "Taiwan                    0.193182\n",
       "Brazil                    0.147727\n",
       "Colombia                  0.136364\n",
       "Guatemala                 0.136364\n",
       "United States (Hawaii)    0.079545\n",
       "Name: country_of_origin, dtype: float64"
      ]
     },
     "execution_count": 39,
     "metadata": {},
     "output_type": "execute_result"
    }
   ],
   "source": [
    "import numpy as np\n",
    "coffee_ratings_weight = coffee_ratings_top\n",
    "condition = coffee_ratings_weight['country_of_origin'] == \"Taiwan\"\n",
    "\n",
    "coffee_ratings_weight['weight'] = np.where(condition, 2, 1)\n",
    "\n",
    "coffee_ratings_weight = coffee_ratings_weight.sample(frac=0.1, weights=\"weight\")\n",
    "coffee_ratings_weight['country_of_origin'].value_counts(normalize=True)"
   ]
  },
  {
   "cell_type": "markdown",
   "metadata": {},
   "source": [
    "Proportional stratified sampling\n",
    "If you are interested in subgroups within the population, then you may need to carefully control the counts of each subgroup within the population. Proportional stratified sampling results in subgroup sizes within the sample that are representative of the subgroup sizes within the population. It is equivalent to performing a simple random sample on each subgroup.\n",
    "\n",
    "attrition_pop is available; pandas is loaded with its usual alias."
   ]
  },
  {
   "cell_type": "code",
   "execution_count": 40,
   "metadata": {},
   "outputs": [
    {
     "name": "stdout",
     "output_type": "stream",
     "text": [
      "Bachelor         0.389116\n",
      "Master           0.270748\n",
      "College          0.191837\n",
      "Below_College    0.115646\n",
      "Doctor           0.032653\n",
      "Name: Education, dtype: float64\n",
      "      Age  Attrition     BusinessTravel  DailyRate            Department  \\\n",
      "1191   53        0.0      Travel_Rarely        238                 Sales   \n",
      "407    29        0.0  Travel_Frequently        995  Research_Development   \n",
      "1233   59        0.0  Travel_Frequently       1225                 Sales   \n",
      "366    37        0.0      Travel_Rarely        571  Research_Development   \n",
      "702    31        0.0  Travel_Frequently        163  Research_Development   \n",
      "...   ...        ...                ...        ...                   ...   \n",
      "733    38        0.0  Travel_Frequently        653  Research_Development   \n",
      "1061   44        0.0  Travel_Frequently        602       Human_Resources   \n",
      "1307   41        0.0      Travel_Rarely       1276                 Sales   \n",
      "1060   33        0.0      Travel_Rarely        516  Research_Development   \n",
      "177    29        0.0      Travel_Rarely        738  Research_Development   \n",
      "\n",
      "      DistanceFromHome      Education    EducationField  \\\n",
      "1191                 1  Below_College           Medical   \n",
      "407                  2  Below_College     Life_Sciences   \n",
      "1233                 1  Below_College     Life_Sciences   \n",
      "366                 10  Below_College     Life_Sciences   \n",
      "702                 24  Below_College  Technical_Degree   \n",
      "...                ...            ...               ...   \n",
      "733                 29         Doctor     Life_Sciences   \n",
      "1061                 1         Doctor   Human_Resources   \n",
      "1307                 2         Doctor     Life_Sciences   \n",
      "1060                 8         Doctor     Life_Sciences   \n",
      "177                  9         Doctor             Other   \n",
      "\n",
      "     EnvironmentSatisfaction  Gender  ...  PerformanceRating  \\\n",
      "1191               Very_High  Female  ...        Outstanding   \n",
      "407                      Low    Male  ...          Excellent   \n",
      "1233                     Low  Female  ...          Excellent   \n",
      "366                Very_High  Female  ...          Excellent   \n",
      "702                Very_High  Female  ...        Outstanding   \n",
      "...                      ...     ...  ...                ...   \n",
      "733                Very_High  Female  ...          Excellent   \n",
      "1061                     Low    Male  ...          Excellent   \n",
      "1307                  Medium  Female  ...          Excellent   \n",
      "1060               Very_High    Male  ...          Excellent   \n",
      "177                   Medium    Male  ...          Excellent   \n",
      "\n",
      "     RelationshipSatisfaction  StockOptionLevel TotalWorkingYears  \\\n",
      "1191                Very_High                 0                18   \n",
      "407                 Very_High                 1                 6   \n",
      "1233                Very_High                 0                20   \n",
      "366                    Medium                 2                 6   \n",
      "702                 Very_High                 0                 9   \n",
      "...                       ...               ...               ...   \n",
      "733                 Very_High                 0                10   \n",
      "1061                     High                 0                14   \n",
      "1307                   Medium                 1                22   \n",
      "1060                      Low                 0                14   \n",
      "177                      High                 0                 4   \n",
      "\n",
      "     TrainingTimesLastYear WorkLifeBalance  YearsAtCompany  \\\n",
      "1191                     2            Best              14   \n",
      "407                      0            Best               6   \n",
      "1233                     2            Good               4   \n",
      "366                      3            Good               5   \n",
      "702                      3            Good               5   \n",
      "...                    ...             ...             ...   \n",
      "733                      2          Better              10   \n",
      "1061                     3          Better              10   \n",
      "1307                     2          Better              18   \n",
      "1060                     6          Better               0   \n",
      "177                      2          Better               3   \n",
      "\n",
      "      YearsInCurrentRole  YearsSinceLastPromotion YearsWithCurrManager  \n",
      "1191                   7                        8                   10  \n",
      "407                    4                        1                    3  \n",
      "1233                   3                        1                    3  \n",
      "366                    3                        4                    3  \n",
      "702                    4                        1                    4  \n",
      "...                  ...                      ...                  ...  \n",
      "733                    3                        9                    9  \n",
      "1061                   7                        0                    2  \n",
      "1307                  16                       11                    8  \n",
      "1060                   0                        0                    0  \n",
      "177                    2                        2                    2  \n",
      "\n",
      "[588 rows x 31 columns]\n"
     ]
    }
   ],
   "source": [
    "# Proportion of employees by Education level\n",
    "education_counts_pop = attrition_pop['Education'].value_counts(normalize=True)\n",
    "\n",
    "# Print education_counts_pop\n",
    "print(education_counts_pop)\n",
    "\n",
    "# Proportional stratified sampling for 40% of each Education group\n",
    "attrition_strat = attrition_pop.groupby(\"Education\")\\\n",
    ".sample(frac=0.4, random_state=2022)\n",
    "\n",
    "\n",
    "# Print the sample\n",
    "print(attrition_strat)\n",
    "\n"
   ]
  },
  {
   "cell_type": "code",
   "execution_count": 41,
   "metadata": {},
   "outputs": [
    {
     "name": "stdout",
     "output_type": "stream",
     "text": [
      "Bachelor         0.389456\n",
      "Master           0.270408\n",
      "College          0.192177\n",
      "Below_College    0.115646\n",
      "Doctor           0.032313\n",
      "Name: Education, dtype: float64\n"
     ]
    }
   ],
   "source": [
    "# Calculate the Education level proportions from attrition_strat\n",
    "education_counts_strat = attrition_strat['Education'].value_counts(normalize=True)\n",
    "\n",
    "# Print education_counts_strat\n",
    "print(education_counts_strat)\n"
   ]
  },
  {
   "cell_type": "markdown",
   "metadata": {},
   "source": [
    "Equal counts stratified sampling\n",
    "If one subgroup is larger than another subgroup in the population, but you don't want to reflect that difference in your analysis, then you can use equal counts stratified sampling to generate samples where each subgroup has the same amount of data. For example, if you are analyzing blood types, O is the most common blood type worldwide, but you may wish to have equal amounts of O, A, B, and AB in your sample.\n",
    "\n",
    "attrition_pop is available; pandas is loaded with its usual alias."
   ]
  },
  {
   "cell_type": "code",
   "execution_count": 42,
   "metadata": {},
   "outputs": [
    {
     "name": "stdout",
     "output_type": "stream",
     "text": [
      "      Age  Attrition     BusinessTravel  DailyRate            Department  \\\n",
      "1191   53        0.0      Travel_Rarely        238                 Sales   \n",
      "407    29        0.0  Travel_Frequently        995  Research_Development   \n",
      "1233   59        0.0  Travel_Frequently       1225                 Sales   \n",
      "366    37        0.0      Travel_Rarely        571  Research_Development   \n",
      "702    31        0.0  Travel_Frequently        163  Research_Development   \n",
      "...   ...        ...                ...        ...                   ...   \n",
      "774    33        0.0      Travel_Rarely        922  Research_Development   \n",
      "869    45        0.0      Travel_Rarely       1015  Research_Development   \n",
      "530    32        0.0      Travel_Rarely        120  Research_Development   \n",
      "1049   48        0.0      Travel_Rarely        163                 Sales   \n",
      "350    29        1.0      Travel_Rarely        408  Research_Development   \n",
      "\n",
      "      DistanceFromHome      Education    EducationField  \\\n",
      "1191                 1  Below_College           Medical   \n",
      "407                  2  Below_College     Life_Sciences   \n",
      "1233                 1  Below_College     Life_Sciences   \n",
      "366                 10  Below_College     Life_Sciences   \n",
      "702                 24  Below_College  Technical_Degree   \n",
      "...                ...            ...               ...   \n",
      "774                  1         Doctor           Medical   \n",
      "869                  5         Doctor           Medical   \n",
      "530                  6         Doctor     Life_Sciences   \n",
      "1049                 2         Doctor         Marketing   \n",
      "350                 25         Doctor  Technical_Degree   \n",
      "\n",
      "     EnvironmentSatisfaction  Gender  ...  PerformanceRating  \\\n",
      "1191               Very_High  Female  ...        Outstanding   \n",
      "407                      Low    Male  ...          Excellent   \n",
      "1233                     Low  Female  ...          Excellent   \n",
      "366                Very_High  Female  ...          Excellent   \n",
      "702                Very_High  Female  ...        Outstanding   \n",
      "...                      ...     ...  ...                ...   \n",
      "774                      Low  Female  ...          Excellent   \n",
      "869                     High  Female  ...          Excellent   \n",
      "530                     High    Male  ...        Outstanding   \n",
      "1049                  Medium  Female  ...          Excellent   \n",
      "350                     High  Female  ...          Excellent   \n",
      "\n",
      "     RelationshipSatisfaction  StockOptionLevel TotalWorkingYears  \\\n",
      "1191                Very_High                 0                18   \n",
      "407                 Very_High                 1                 6   \n",
      "1233                Very_High                 0                20   \n",
      "366                    Medium                 2                 6   \n",
      "702                 Very_High                 0                 9   \n",
      "...                       ...               ...               ...   \n",
      "774                      High                 1                10   \n",
      "869                       Low                 0                10   \n",
      "530                       Low                 0                 8   \n",
      "1049                      Low                 1                14   \n",
      "350                    Medium                 0                 6   \n",
      "\n",
      "     TrainingTimesLastYear WorkLifeBalance  YearsAtCompany  \\\n",
      "1191                     2            Best              14   \n",
      "407                      0            Best               6   \n",
      "1233                     2            Good               4   \n",
      "366                      3            Good               5   \n",
      "702                      3            Good               5   \n",
      "...                    ...             ...             ...   \n",
      "774                      2          Better               6   \n",
      "869                      3          Better              10   \n",
      "530                      2          Better               5   \n",
      "1049                     2          Better               9   \n",
      "350                      2            Best               2   \n",
      "\n",
      "      YearsInCurrentRole  YearsSinceLastPromotion YearsWithCurrManager  \n",
      "1191                   7                        8                   10  \n",
      "407                    4                        1                    3  \n",
      "1233                   3                        1                    3  \n",
      "366                    3                        4                    3  \n",
      "702                    4                        1                    4  \n",
      "...                  ...                      ...                  ...  \n",
      "774                    1                        0                    5  \n",
      "869                    7                        1                    4  \n",
      "530                    4                        1                    4  \n",
      "1049                   7                        6                    7  \n",
      "350                    2                        1                    1  \n",
      "\n",
      "[150 rows x 31 columns]\n"
     ]
    }
   ],
   "source": [
    "# Get 30 employees from each Education group\n",
    "attrition_eq = attrition_pop.groupby(\"Education\")\\\n",
    ".sample(n=30, random_state=2022)\n",
    "\n",
    "\n",
    "\n",
    "# Print the sample\n",
    "print(attrition_eq)"
   ]
  },
  {
   "cell_type": "code",
   "execution_count": 43,
   "metadata": {},
   "outputs": [
    {
     "name": "stdout",
     "output_type": "stream",
     "text": [
      "Below_College    0.2\n",
      "College          0.2\n",
      "Bachelor         0.2\n",
      "Master           0.2\n",
      "Doctor           0.2\n",
      "Name: Education, dtype: float64\n"
     ]
    }
   ],
   "source": [
    "# Get 30 employees from each Education group\n",
    "attrition_eq = attrition_pop.groupby('Education')\\\n",
    "\t.sample(n=30, random_state=2022)      \n",
    "\n",
    "# Get the proportions from attrition_eq\n",
    "education_counts_eq = attrition_eq['Education'].value_counts(normalize=True)\n",
    "\n",
    "# Print the results\n",
    "print(education_counts_eq)"
   ]
  },
  {
   "cell_type": "markdown",
   "metadata": {},
   "source": [
    "Weighted sampling\n",
    "Stratified sampling provides rules about the probability of picking rows from your dataset at the subgroup level. A generalization of this is weighted sampling, which lets you specify rules about the probability of picking rows at the row level. The probability of picking any given row is proportional to the weight value for that row.\n",
    "\n",
    "attrition_pop is available; pandas, matplotlib.pyplot, and numpy are loaded with their usual aliases."
   ]
  },
  {
   "cell_type": "code",
   "execution_count": 45,
   "metadata": {},
   "outputs": [
    {
     "data": {
      "image/png": "[encoded data removed]",
      "text/plain": [
       "<Figure size 640x480 with 1 Axes>"
      ]
     },
     "metadata": {},
     "output_type": "display_data"
    }
   ],
   "source": [
    "# Plot YearsAtCompany from attrition_pop as a histogram\n",
    "attrition_pop[\"YearsAtCompany\"].hist(bins=np.arange(0, 41, 1))\n",
    "plt.show()"
   ]
  },
  {
   "cell_type": "code",
   "execution_count": 46,
   "metadata": {},
   "outputs": [
    {
     "data": {
      "image/png": "[encoded data removed]",
      "text/plain": [
       "<Figure size 640x480 with 1 Axes>"
      ]
     },
     "metadata": {},
     "output_type": "display_data"
    },
    {
     "data": {
      "image/png": "[encoded data removed]",
      "text/plain": [
       "<Figure size 640x480 with 1 Axes>"
      ]
     },
     "metadata": {},
     "output_type": "display_data"
    }
   ],
   "source": [
    "# Plot YearsAtCompany from attrition_pop as a histogram\n",
    "attrition_pop['YearsAtCompany'].hist(bins=np.arange(0, 41, 1))\n",
    "plt.show()\n",
    "\n",
    "# Sample 400 employees weighted by YearsAtCompany\n",
    "attrition_weight = attrition_pop.sample(n=400, weights=\"YearsAtCompany\")\n",
    "\n",
    "# Plot YearsAtCompany from attrition_weight as a histogram\n",
    "attrition_weight['YearsAtCompany'].hist(bins=np.arange(0, 41, 1))\n",
    "plt.show()\n",
    "\n"
   ]
  },
  {
   "cell_type": "markdown",
   "metadata": {},
   "source": [
    "#### **Cluster sampling**\n",
    "\n",
    "1. Stratified sampling vs. cluster sampling\n",
    "Stratified sampling\n",
    "    Split the population into subgroups\n",
    "    Use simple random sampling on every subgroup\n",
    "Cluster sampling\n",
    "    Use simple random sampling to pick some subgroups\n",
    "    Use simple random sampling on only those subgroups\n",
    "2. Varieties of coffee\n",
    "varieties_pop = list(coffee_ratings['variety'].unique())\n",
    "\n",
    "[None, 'Other', 'Bourbon', 'Catimor',\n",
    "'Ethiopian Yirgacheffe','Caturra',\n",
    "'SL14', 'Sumatra', 'SL34', 'Hawaiian Kona',\n",
    "'Yellow Bourbon', 'SL28', 'Gesha', 'Catuai',\n",
    "'Pacamara', 'Typica', 'Sumatra Lintong',\n",
    "'Mundo Novo', 'Java', 'Peaberry', 'Pacas',\n",
    "'Mandheling', 'Ruiru 11', 'Arusha',\n",
    "'Ethiopian Heirlooms', 'Moka Peaberry',\n",
    "'Sulawesi', 'Blue Mountain', 'Marigojipe',\n",
    "'Pache Comun']\n",
    "3. Stage 1: sampling for subgroups\n",
    "import random\n",
    "varieties_samp = random.sample(varieties_pop, k=3)\n",
    "\n",
    "['Hawaiian Kona', 'Bourbon', 'SL28']\n",
    "4. Stage 2: sampling each groupStage 2: sampling each group\n",
    "variety_condition = coffee_ratings['variety'].isin(varieties_samp)\n",
    "coffee_ratings_cluster = coffee_ratings[variety_condition]\n",
    "coffee_ratings_cluster['variety'] = coffee_ratings_cluster['variety'].cat.remove_unused_categories()\n",
    "coffee_ratings_cluster.groupby(\"variety\")\\\n",
    ".sample(n=5, random_state=2021)\n",
    "\n",
    "5. Multistage sampling\n",
    "Cluster sampling is a type of multistage sampling\n",
    "Can have > 2 stages\n",
    "E.g., countrywide surveys may sample states, counties, cities, and neighborhoods"
   ]
  },
  {
   "cell_type": "code",
   "execution_count": 47,
   "metadata": {},
   "outputs": [
    {
     "name": "stdout",
     "output_type": "stream",
     "text": [
      "[None, 'Other', 'Bourbon', 'Catimor', 'Ethiopian Yirgacheffe', 'Caturra', 'SL14', 'Sumatra', 'SL34', 'Hawaiian Kona', 'Yellow Bourbon', 'SL28', 'Gesha', 'Catuai', 'Pacamara', 'Typica', 'Sumatra Lintong', 'Mundo Novo', 'Java', 'Peaberry', 'Pacas', 'Mandheling', 'Ruiru 11', 'Arusha', 'Ethiopian Heirlooms', 'Moka Peaberry', 'Sulawesi', 'Blue Mountain', 'Marigojipe', 'Pache Comun']\n"
     ]
    }
   ],
   "source": [
    "varieties_pop = list(coffee_ratings['variety'].unique())\n",
    "print(varieties_pop)\n"
   ]
  },
  {
   "cell_type": "code",
   "execution_count": 48,
   "metadata": {},
   "outputs": [
    {
     "name": "stdout",
     "output_type": "stream",
     "text": [
      "['Pache Comun', 'Catuai', 'Yellow Bourbon']\n"
     ]
    }
   ],
   "source": [
    "import random\n",
    "varieties_samp = random.sample(varieties_pop, k=3)\n",
    "print(varieties_samp)"
   ]
  },
  {
   "cell_type": "code",
   "execution_count": 60,
   "metadata": {},
   "outputs": [
    {
     "name": "stderr",
     "output_type": "stream",
     "text": [
      "C:\\Users\\mcaba\\AppData\\Local\\Temp\\ipykernel_23416\\773719370.py:3: SettingWithCopyWarning: \n",
      "A value is trying to be set on a copy of a slice from a DataFrame.\n",
      "Try using .loc[row_indexer,col_indexer] = value instead\n",
      "\n",
      "See the caveats in the documentation: https://pandas.pydata.org/pandas-docs/stable/user_guide/indexing.html#returning-a-view-versus-a-copy\n",
      "  coffee_ratings_cluster['variety'] = coffee_ratings_cluster['variety'].astype('category')\n",
      "C:\\Users\\mcaba\\AppData\\Local\\Temp\\ipykernel_23416\\773719370.py:4: SettingWithCopyWarning: \n",
      "A value is trying to be set on a copy of a slice from a DataFrame.\n",
      "Try using .loc[row_indexer,col_indexer] = value instead\n",
      "\n",
      "See the caveats in the documentation: https://pandas.pydata.org/pandas-docs/stable/user_guide/indexing.html#returning-a-view-versus-a-copy\n",
      "  coffee_ratings_cluster['variety'] = coffee_ratings_cluster['variety'].cat.remove_unused_categories()\n"
     ]
    },
    {
     "ename": "ValueError",
     "evalue": "Cannot take a larger sample than population when 'replace=False'",
     "output_type": "error",
     "traceback": [
      "\u001b[1;31m---------------------------------------------------------------------------\u001b[0m",
      "\u001b[1;31mValueError\u001b[0m                                Traceback (most recent call last)",
      "Cell \u001b[1;32mIn [60], line 6\u001b[0m\n\u001b[0;32m      3\u001b[0m coffee_ratings_cluster[\u001b[38;5;124m'\u001b[39m\u001b[38;5;124mvariety\u001b[39m\u001b[38;5;124m'\u001b[39m] \u001b[38;5;241m=\u001b[39m coffee_ratings_cluster[\u001b[38;5;124m'\u001b[39m\u001b[38;5;124mvariety\u001b[39m\u001b[38;5;124m'\u001b[39m]\u001b[38;5;241m.\u001b[39mastype(\u001b[38;5;124m'\u001b[39m\u001b[38;5;124mcategory\u001b[39m\u001b[38;5;124m'\u001b[39m)\n\u001b[0;32m      4\u001b[0m coffee_ratings_cluster[\u001b[38;5;124m'\u001b[39m\u001b[38;5;124mvariety\u001b[39m\u001b[38;5;124m'\u001b[39m] \u001b[38;5;241m=\u001b[39m coffee_ratings_cluster[\u001b[38;5;124m'\u001b[39m\u001b[38;5;124mvariety\u001b[39m\u001b[38;5;124m'\u001b[39m]\u001b[38;5;241m.\u001b[39mcat\u001b[38;5;241m.\u001b[39mremove_unused_categories()\n\u001b[1;32m----> 6\u001b[0m \u001b[43mcoffee_ratings_cluster\u001b[49m\u001b[38;5;241;43m.\u001b[39;49m\u001b[43mgroupby\u001b[49m\u001b[43m(\u001b[49m\u001b[38;5;124;43m\"\u001b[39;49m\u001b[38;5;124;43mvariety\u001b[39;49m\u001b[38;5;124;43m\"\u001b[39;49m\u001b[43m)\u001b[49m\u001b[43m\\\u001b[49m\n\u001b[0;32m      7\u001b[0m \u001b[38;5;241;43m.\u001b[39;49m\u001b[43msample\u001b[49m\u001b[43m(\u001b[49m\u001b[43mn\u001b[49m\u001b[38;5;241;43m=\u001b[39;49m\u001b[38;5;241;43m5\u001b[39;49m\u001b[43m,\u001b[49m\u001b[43m \u001b[49m\u001b[43mrandom_state\u001b[49m\u001b[38;5;241;43m=\u001b[39;49m\u001b[38;5;241;43m2021\u001b[39;49m\u001b[43m)\u001b[49m\n",
      "File \u001b[1;32m~\\AppData\\Roaming\\Python\\Python310\\site-packages\\pandas\\core\\groupby\\groupby.py:4327\u001b[0m, in \u001b[0;36mGroupBy.sample\u001b[1;34m(self, n, frac, replace, weights, random_state)\u001b[0m\n\u001b[0;32m   4324\u001b[0m         \u001b[38;5;28;01massert\u001b[39;00m frac \u001b[38;5;129;01mis\u001b[39;00m \u001b[38;5;129;01mnot\u001b[39;00m \u001b[38;5;28;01mNone\u001b[39;00m\n\u001b[0;32m   4325\u001b[0m         sample_size \u001b[38;5;241m=\u001b[39m \u001b[38;5;28mround\u001b[39m(frac \u001b[38;5;241m*\u001b[39m group_size)\n\u001b[1;32m-> 4327\u001b[0m     grp_sample \u001b[38;5;241m=\u001b[39m \u001b[43msample\u001b[49m\u001b[38;5;241;43m.\u001b[39;49m\u001b[43msample\u001b[49m\u001b[43m(\u001b[49m\n\u001b[0;32m   4328\u001b[0m \u001b[43m        \u001b[49m\u001b[43mgroup_size\u001b[49m\u001b[43m,\u001b[49m\n\u001b[0;32m   4329\u001b[0m \u001b[43m        \u001b[49m\u001b[43msize\u001b[49m\u001b[38;5;241;43m=\u001b[39;49m\u001b[43msample_size\u001b[49m\u001b[43m,\u001b[49m\n\u001b[0;32m   4330\u001b[0m \u001b[43m        \u001b[49m\u001b[43mreplace\u001b[49m\u001b[38;5;241;43m=\u001b[39;49m\u001b[43mreplace\u001b[49m\u001b[43m,\u001b[49m\n\u001b[0;32m   4331\u001b[0m \u001b[43m        \u001b[49m\u001b[43mweights\u001b[49m\u001b[38;5;241;43m=\u001b[39;49m\u001b[38;5;28;43;01mNone\u001b[39;49;00m\u001b[43m \u001b[49m\u001b[38;5;28;43;01mif\u001b[39;49;00m\u001b[43m \u001b[49m\u001b[43mweights\u001b[49m\u001b[43m \u001b[49m\u001b[38;5;129;43;01mis\u001b[39;49;00m\u001b[43m \u001b[49m\u001b[38;5;28;43;01mNone\u001b[39;49;00m\u001b[43m \u001b[49m\u001b[38;5;28;43;01melse\u001b[39;49;00m\u001b[43m \u001b[49m\u001b[43mweights_arr\u001b[49m\u001b[43m[\u001b[49m\u001b[43mgrp_indices\u001b[49m\u001b[43m]\u001b[49m\u001b[43m,\u001b[49m\n\u001b[0;32m   4332\u001b[0m \u001b[43m        \u001b[49m\u001b[43mrandom_state\u001b[49m\u001b[38;5;241;43m=\u001b[39;49m\u001b[43mrandom_state\u001b[49m\u001b[43m,\u001b[49m\n\u001b[0;32m   4333\u001b[0m \u001b[43m    \u001b[49m\u001b[43m)\u001b[49m\n\u001b[0;32m   4334\u001b[0m     sampled_indices\u001b[38;5;241m.\u001b[39mappend(grp_indices[grp_sample])\n\u001b[0;32m   4336\u001b[0m sampled_indices \u001b[38;5;241m=\u001b[39m np\u001b[38;5;241m.\u001b[39mconcatenate(sampled_indices)\n",
      "File \u001b[1;32m~\\AppData\\Roaming\\Python\\Python310\\site-packages\\pandas\\core\\sample.py:150\u001b[0m, in \u001b[0;36msample\u001b[1;34m(obj_len, size, replace, weights, random_state)\u001b[0m\n\u001b[0;32m    147\u001b[0m     \u001b[38;5;28;01melse\u001b[39;00m:\n\u001b[0;32m    148\u001b[0m         \u001b[38;5;28;01mraise\u001b[39;00m \u001b[38;5;167;01mValueError\u001b[39;00m(\u001b[38;5;124m\"\u001b[39m\u001b[38;5;124mInvalid weights: weights sum to zero\u001b[39m\u001b[38;5;124m\"\u001b[39m)\n\u001b[1;32m--> 150\u001b[0m \u001b[38;5;28;01mreturn\u001b[39;00m \u001b[43mrandom_state\u001b[49m\u001b[38;5;241;43m.\u001b[39;49m\u001b[43mchoice\u001b[49m\u001b[43m(\u001b[49m\u001b[43mobj_len\u001b[49m\u001b[43m,\u001b[49m\u001b[43m \u001b[49m\u001b[43msize\u001b[49m\u001b[38;5;241;43m=\u001b[39;49m\u001b[43msize\u001b[49m\u001b[43m,\u001b[49m\u001b[43m \u001b[49m\u001b[43mreplace\u001b[49m\u001b[38;5;241;43m=\u001b[39;49m\u001b[43mreplace\u001b[49m\u001b[43m,\u001b[49m\u001b[43m \u001b[49m\u001b[43mp\u001b[49m\u001b[38;5;241;43m=\u001b[39;49m\u001b[43mweights\u001b[49m\u001b[43m)\u001b[49m\u001b[38;5;241m.\u001b[39mastype(\n\u001b[0;32m    151\u001b[0m     np\u001b[38;5;241m.\u001b[39mintp, copy\u001b[38;5;241m=\u001b[39m\u001b[38;5;28;01mFalse\u001b[39;00m\n\u001b[0;32m    152\u001b[0m )\n",
      "File \u001b[1;32mmtrand.pyx:965\u001b[0m, in \u001b[0;36mnumpy.random.mtrand.RandomState.choice\u001b[1;34m()\u001b[0m\n",
      "\u001b[1;31mValueError\u001b[0m: Cannot take a larger sample than population when 'replace=False'"
     ]
    }
   ],
   "source": [
    "variety_condition = coffee_ratings['variety'].isin(varieties_samp)\n",
    "coffee_ratings_cluster = coffee_ratings[variety_condition]\n",
    "coffee_ratings_cluster['variety'] = coffee_ratings_cluster['variety'].astype('category')\n",
    "coffee_ratings_cluster['variety'] = coffee_ratings_cluster['variety'].cat.remove_unused_categories()\n",
    "\n",
    "coffee_ratings_cluster.groupby(\"variety\")\\\n",
    ".sample(n=5, random_state=2021)"
   ]
  },
  {
   "cell_type": "markdown",
   "metadata": {},
   "source": [
    "Performing cluster sampling\n",
    "Now that you know when to use cluster sampling, it's time to put it into action. In this exercise, you'll explore the JobRole column of the attrition dataset. You can think of each job role as a subgroup of the whole population of employees.\n",
    "\n",
    "attrition_pop is available; pandas is loaded with its usual alias, and the random package is available. A seed of 19790801 has also been set with random.seed()."
   ]
  },
  {
   "cell_type": "code",
   "execution_count": 50,
   "metadata": {},
   "outputs": [
    {
     "name": "stdout",
     "output_type": "stream",
     "text": [
      "['Research_Scientist', 'Sales_Representative', 'Laboratory_Technician', 'Human_Resources', 'Sales_Executive', 'Manufacturing_Director', 'Healthcare_Representative', 'Research_Director', 'Manager']\n",
      "['Research_Director', 'Research_Scientist', 'Human_Resources', 'Manager']\n"
     ]
    }
   ],
   "source": [
    "random.seed(19790801)\n",
    "\n",
    "# Create a list of unique JobRole values\n",
    "job_roles_pop = list(attrition_pop['JobRole'].unique())\n",
    "print(job_roles_pop)\n",
    "\n",
    "# Randomly sample four JobRole values\n",
    "job_roles_samp = random.sample(job_roles_pop, k=4)\n",
    "\n",
    "# Print the result\n",
    "print(job_roles_samp)"
   ]
  },
  {
   "cell_type": "code",
   "execution_count": 51,
   "metadata": {},
   "outputs": [
    {
     "name": "stdout",
     "output_type": "stream",
     "text": [
      "      Age  Attrition     BusinessTravel  DailyRate            Department  \\\n",
      "30     19        1.0      Travel_Rarely        489       Human_Resources   \n",
      "77     24        1.0      Travel_Rarely        240       Human_Resources   \n",
      "81     29        0.0      Travel_Rarely        352       Human_Resources   \n",
      "88     27        1.0  Travel_Frequently       1337       Human_Resources   \n",
      "116    34        1.0      Travel_Rarely       1107       Human_Resources   \n",
      "...   ...        ...                ...        ...                   ...   \n",
      "1458   56        0.0  Travel_Frequently        906                 Sales   \n",
      "1459   54        0.0      Travel_Rarely        685  Research_Development   \n",
      "1467   58        0.0      Travel_Rarely        682                 Sales   \n",
      "1468   58        1.0      Travel_Rarely        147  Research_Development   \n",
      "1469   58        1.0      Travel_Rarely        286  Research_Development   \n",
      "\n",
      "      DistanceFromHome      Education    EducationField  \\\n",
      "30                   2        College  Technical_Degree   \n",
      "77                  22  Below_College   Human_Resources   \n",
      "81                   6  Below_College           Medical   \n",
      "88                  22       Bachelor   Human_Resources   \n",
      "116                  9         Master  Technical_Degree   \n",
      "...                ...            ...               ...   \n",
      "1458                 6       Bachelor     Life_Sciences   \n",
      "1459                 3       Bachelor     Life_Sciences   \n",
      "1467                10         Master           Medical   \n",
      "1468                23         Master           Medical   \n",
      "1469                 2         Master     Life_Sciences   \n",
      "\n",
      "     EnvironmentSatisfaction  Gender  ...  PerformanceRating  \\\n",
      "30                       Low    Male  ...          Excellent   \n",
      "77                 Very_High    Male  ...          Excellent   \n",
      "81                 Very_High    Male  ...          Excellent   \n",
      "88                       Low  Female  ...          Excellent   \n",
      "116                      Low  Female  ...          Excellent   \n",
      "...                      ...     ...  ...                ...   \n",
      "1458                    High  Female  ...          Excellent   \n",
      "1459               Very_High    Male  ...          Excellent   \n",
      "1467               Very_High    Male  ...          Excellent   \n",
      "1468               Very_High  Female  ...          Excellent   \n",
      "1469               Very_High    Male  ...          Excellent   \n",
      "\n",
      "     RelationshipSatisfaction  StockOptionLevel TotalWorkingYears  \\\n",
      "30                       High                 0                 1   \n",
      "77                       High                 1                 1   \n",
      "81                  Very_High                 0                 1   \n",
      "88                        Low                 0                 1   \n",
      "116                 Very_High                 0                 2   \n",
      "...                       ...               ...               ...   \n",
      "1458                Very_High                 3                36   \n",
      "1459                      Low                 0                36   \n",
      "1467                     High                 0                38   \n",
      "1468                Very_High                 1                40   \n",
      "1469                Very_High                 0                40   \n",
      "\n",
      "     TrainingTimesLastYear WorkLifeBalance  YearsAtCompany  \\\n",
      "30                       3            Best               1   \n",
      "77                       2          Better               1   \n",
      "81                       3          Better               1   \n",
      "88                       2          Better               1   \n",
      "116                      0          Better               2   \n",
      "...                    ...             ...             ...   \n",
      "1458                     0            Good               7   \n",
      "1459                     2          Better              10   \n",
      "1467                     1            Good              37   \n",
      "1468                     3            Good              40   \n",
      "1469                     2          Better              31   \n",
      "\n",
      "      YearsInCurrentRole  YearsSinceLastPromotion YearsWithCurrManager  \n",
      "30                     0                        0                    0  \n",
      "77                     0                        0                    0  \n",
      "81                     0                        0                    0  \n",
      "88                     0                        0                    0  \n",
      "116                    2                        2                    2  \n",
      "...                  ...                      ...                  ...  \n",
      "1458                   7                        7                    7  \n",
      "1459                   9                        0                    9  \n",
      "1467                  10                        1                    8  \n",
      "1468                  10                       15                    6  \n",
      "1469                  15                       13                    8  \n",
      "\n",
      "[589 rows x 31 columns]\n"
     ]
    }
   ],
   "source": [
    "# Create a list of unique JobRole values\n",
    "job_roles_pop = list(attrition_pop['JobRole'].unique())\n",
    "\n",
    "# Randomly sample four JobRole values\n",
    "job_roles_samp = random.sample(job_roles_pop, k=4)\n",
    "\n",
    "# Filter for rows where JobRole is in job_roles_samp\n",
    "jobrole_condition = attrition_pop['JobRole'].isin(job_roles_samp)\n",
    "attrition_filtered = attrition_pop[jobrole_condition]\n",
    "\n",
    "# Print the result\n",
    "print(attrition_filtered)"
   ]
  },
  {
   "cell_type": "code",
   "execution_count": null,
   "metadata": {},
   "outputs": [
    {
     "name": "stdout",
     "output_type": "stream",
     "text": [
      "      Age  Attrition     BusinessTravel  DailyRate            Department  \\\n",
      "1380   44        0.0      Travel_Rarely       1099                 Sales   \n",
      "1395   46        0.0      Travel_Rarely        488                 Sales   \n",
      "1300   42        0.0      Travel_Rarely        532  Research_Development   \n",
      "1271   39        0.0      Travel_Rarely        117  Research_Development   \n",
      "1354   42        0.0      Travel_Rarely       1059  Research_Development   \n",
      "858    32        0.0      Travel_Rarely        495  Research_Development   \n",
      "1417   59        0.0         Non-Travel       1420       Human_Resources   \n",
      "1307   41        0.0      Travel_Rarely       1276                 Sales   \n",
      "1377   52        0.0      Travel_Rarely       1053  Research_Development   \n",
      "1388   50        0.0      Travel_Rarely        264                 Sales   \n",
      "1463   56        0.0      Travel_Rarely       1400  Research_Development   \n",
      "464    46        0.0         Non-Travel       1144  Research_Development   \n",
      "1313   54        0.0      Travel_Rarely       1441  Research_Development   \n",
      "1203   36        0.0      Travel_Rarely        429  Research_Development   \n",
      "1427   52        0.0  Travel_Frequently        890  Research_Development   \n",
      "1188   37        0.0      Travel_Rarely       1305  Research_Development   \n",
      "453    49        0.0         Non-Travel       1002  Research_Development   \n",
      "1200   43        0.0  Travel_Frequently       1082  Research_Development   \n",
      "876    38        0.0      Travel_Rarely        397  Research_Development   \n",
      "1176   36        0.0      Travel_Rarely        363  Research_Development   \n",
      "1344   54        0.0      Travel_Rarely        821  Research_Development   \n",
      "1126   42        0.0      Travel_Rarely        810  Research_Development   \n",
      "1437   50        0.0      Travel_Rarely       1126  Research_Development   \n",
      "1252   42        0.0  Travel_Frequently        458  Research_Development   \n",
      "1457   55        0.0      Travel_Rarely        692  Research_Development   \n",
      "664    27        0.0      Travel_Rarely        269  Research_Development   \n",
      "1216   38        0.0      Travel_Rarely        849  Research_Development   \n",
      "1362   43        0.0      Travel_Rarely        982  Research_Development   \n",
      "790    36        0.0         Non-Travel        427  Research_Development   \n",
      "1335   44        0.0      Travel_Rarely       1313  Research_Development   \n",
      "268    29        1.0      Travel_Rarely        341                 Sales   \n",
      "1011   37        0.0  Travel_Frequently        319                 Sales   \n",
      "406    35        0.0      Travel_Rarely       1402                 Sales   \n",
      "154    31        1.0  Travel_Frequently        703                 Sales   \n",
      "109    20        0.0      Travel_Rarely        654                 Sales   \n",
      "104    20        1.0  Travel_Frequently        769                 Sales   \n",
      "169    41        1.0      Travel_Rarely       1356                 Sales   \n",
      "330    34        0.0  Travel_Frequently        303                 Sales   \n",
      "1256   38        0.0      Travel_Rarely        723                 Sales   \n",
      "3      18        0.0      Travel_Rarely        812                 Sales   \n",
      "\n",
      "      DistanceFromHome      Education    EducationField  \\\n",
      "1380                 5       Bachelor         Marketing   \n",
      "1395                 2       Bachelor  Technical_Degree   \n",
      "1300                 4        College  Technical_Degree   \n",
      "1271                10  Below_College           Medical   \n",
      "1354                 9        College             Other   \n",
      "858                 10       Bachelor           Medical   \n",
      "1417                 2         Master   Human_Resources   \n",
      "1307                 2         Doctor     Life_Sciences   \n",
      "1377                 1        College     Life_Sciences   \n",
      "1388                 9       Bachelor         Marketing   \n",
      "1463                 7       Bachelor     Life_Sciences   \n",
      "464                  7         Master           Medical   \n",
      "1313                17       Bachelor  Technical_Degree   \n",
      "1203                 2         Master     Life_Sciences   \n",
      "1427                25         Master           Medical   \n",
      "1188                10         Master     Life_Sciences   \n",
      "453                 18         Master     Life_Sciences   \n",
      "1200                27       Bachelor     Life_Sciences   \n",
      "876                  2        College           Medical   \n",
      "1176                 1       Bachelor  Technical_Degree   \n",
      "1344                 5        College           Medical   \n",
      "1126                23         Doctor     Life_Sciences   \n",
      "1437                 1        College           Medical   \n",
      "1252                26         Doctor           Medical   \n",
      "1457                14         Master           Medical   \n",
      "664                  5  Below_College  Technical_Degree   \n",
      "1216                25        College     Life_Sciences   \n",
      "1362                12       Bachelor     Life_Sciences   \n",
      "790                  8       Bachelor     Life_Sciences   \n",
      "1335                 7       Bachelor           Medical   \n",
      "268                  1       Bachelor           Medical   \n",
      "1011                 4         Master         Marketing   \n",
      "406                 28         Master     Life_Sciences   \n",
      "154                  2       Bachelor     Life_Sciences   \n",
      "109                 21       Bachelor         Marketing   \n",
      "104                  9       Bachelor         Marketing   \n",
      "169                 20        College         Marketing   \n",
      "330                  2         Master         Marketing   \n",
      "1256                 2         Master         Marketing   \n",
      "3                   10       Bachelor           Medical   \n",
      "\n",
      "     EnvironmentSatisfaction  Gender  ...  PerformanceRating  \\\n",
      "1380                  Medium    Male  ...          Excellent   \n",
      "1395                    High  Female  ...          Excellent   \n",
      "1300                    High    Male  ...          Excellent   \n",
      "1271                    High    Male  ...          Excellent   \n",
      "1354               Very_High    Male  ...        Outstanding   \n",
      "858                     High    Male  ...        Outstanding   \n",
      "1417                    High  Female  ...        Outstanding   \n",
      "1307                  Medium  Female  ...          Excellent   \n",
      "1377               Very_High    Male  ...          Excellent   \n",
      "1388                    High    Male  ...          Excellent   \n",
      "1463               Very_High    Male  ...          Excellent   \n",
      "464                     High  Female  ...          Excellent   \n",
      "1313                    High  Female  ...          Excellent   \n",
      "1203                    High  Female  ...          Excellent   \n",
      "1427                    High  Female  ...        Outstanding   \n",
      "1188                    High    Male  ...          Excellent   \n",
      "453                Very_High    Male  ...          Excellent   \n",
      "1200                    High  Female  ...          Excellent   \n",
      "876                Very_High  Female  ...          Excellent   \n",
      "1176                    High  Female  ...        Outstanding   \n",
      "1344                     Low    Male  ...          Excellent   \n",
      "1126                     Low  Female  ...          Excellent   \n",
      "1437               Very_High    Male  ...        Outstanding   \n",
      "1252                     Low  Female  ...          Excellent   \n",
      "1457                    High    Male  ...          Excellent   \n",
      "664                     High    Male  ...          Excellent   \n",
      "1216                     Low  Female  ...          Excellent   \n",
      "1362                     Low    Male  ...          Excellent   \n",
      "790                      Low  Female  ...          Excellent   \n",
      "1335                  Medium  Female  ...          Excellent   \n",
      "268                   Medium  Female  ...          Excellent   \n",
      "1011                     Low    Male  ...          Excellent   \n",
      "406                   Medium  Female  ...        Outstanding   \n",
      "154                     High  Female  ...          Excellent   \n",
      "109                     High    Male  ...          Excellent   \n",
      "104                Very_High  Female  ...          Excellent   \n",
      "169                   Medium  Female  ...        Outstanding   \n",
      "330                     High  Female  ...          Excellent   \n",
      "1256                  Medium  Female  ...        Outstanding   \n",
      "3                  Very_High  Female  ...          Excellent   \n",
      "\n",
      "     RelationshipSatisfaction  StockOptionLevel TotalWorkingYears  \\\n",
      "1380                     High                 1                26   \n",
      "1395                   Medium                 1                28   \n",
      "1300                Very_High                 0                22   \n",
      "1271                Very_High                 0                21   \n",
      "1354                Very_High                 0                24   \n",
      "858                    Medium                 0                10   \n",
      "1417                Very_High                 1                30   \n",
      "1307                   Medium                 1                22   \n",
      "1377                   Medium                 1                26   \n",
      "1388                     High                 1                27   \n",
      "1463                      Low                 0                37   \n",
      "464                      High                 0                 7   \n",
      "1313                     High                 1                22   \n",
      "1203                Very_High                 0                18   \n",
      "1427                     High                 0                31   \n",
      "1188                Very_High                 0                18   \n",
      "453                       Low                 2                 7   \n",
      "1200                     High                 1                18   \n",
      "876                 Very_High                 1                10   \n",
      "1176                     High                 1                17   \n",
      "1344                     High                 1                24   \n",
      "1126                   Medium                 0                16   \n",
      "1437                     High                 1                32   \n",
      "1252                     High                 0                20   \n",
      "1457                Very_High                 0                36   \n",
      "664                    Medium                 1                 9   \n",
      "1216                     High                 1                19   \n",
      "1362                     High                 1                25   \n",
      "790                       Low                 1                10   \n",
      "1335                Very_High                 1                23   \n",
      "268                      High                 3                 5   \n",
      "1011                     High                 1                13   \n",
      "406                       Low                 2                 6   \n",
      "154                      High                 0                 3   \n",
      "109                 Very_High                 0                 2   \n",
      "104                    Medium                 0                 2   \n",
      "169                 Very_High                 0                 4   \n",
      "330                 Very_High                 1                 6   \n",
      "1256                      Low                 2                20   \n",
      "3                         Low                 0                 0   \n",
      "\n",
      "     TrainingTimesLastYear WorkLifeBalance  YearsAtCompany  \\\n",
      "1380                     5          Better              22   \n",
      "1395                     2            Good               7   \n",
      "1300                     3          Better              22   \n",
      "1271                     3          Better              21   \n",
      "1354                     2          Better               1   \n",
      "858                      5            Best               5   \n",
      "1417                     3          Better               3   \n",
      "1307                     2          Better              18   \n",
      "1377                     2            Good               9   \n",
      "1388                     2          Better               1   \n",
      "1463                     3            Good               6   \n",
      "464                      2            Best               1   \n",
      "1313                     2          Better              10   \n",
      "1203                     2          Better              16   \n",
      "1427                     3          Better               9   \n",
      "1188                     2            Good               1   \n",
      "453                      0          Better               7   \n",
      "1200                     1          Better               8   \n",
      "876                      6            Best               5   \n",
      "1176                     2          Better               7   \n",
      "1344                     4            Good               4   \n",
      "1126                     2          Better               1   \n",
      "1437                     1            Good               5   \n",
      "1252                     6          Better               1   \n",
      "1457                     3          Better              24   \n",
      "664                      3          Better               9   \n",
      "1216                     2          Better              10   \n",
      "1362                     3          Better              25   \n",
      "790                      2          Better               8   \n",
      "1335                     4            Good              22   \n",
      "268                      3          Better               3   \n",
      "1011                     2          Better               9   \n",
      "406                      5          Better               5   \n",
      "154                      3            Best               1   \n",
      "109                      2          Better               2   \n",
      "104                      3          Better               2   \n",
      "169                      5            Good               4   \n",
      "330                      3          Better               4   \n",
      "1256                     4            Good               4   \n",
      "3                        2          Better               0   \n",
      "\n",
      "      YearsInCurrentRole  YearsSinceLastPromotion YearsWithCurrManager  \n",
      "1380                   9                        3                   10  \n",
      "1395                   7                        7                    7  \n",
      "1300                  17                       11                   15  \n",
      "1271                   9                       11                   10  \n",
      "1354                   0                        0                    1  \n",
      "858                    2                        0                    0  \n",
      "1417                   2                        2                    2  \n",
      "1307                  16                       11                    8  \n",
      "1377                   8                        7                    8  \n",
      "1388                   0                        0                    0  \n",
      "1463                   4                        0                    2  \n",
      "464                    0                        0                    0  \n",
      "1313                   7                        0                    8  \n",
      "1203                  14                        5                   12  \n",
      "1427                   8                        0                    0  \n",
      "1188                   0                        0                    1  \n",
      "453                    7                        1                    7  \n",
      "1200                   7                        0                    1  \n",
      "876                    4                        0                    2  \n",
      "1176                   7                        7                    7  \n",
      "1344                   2                        1                    2  \n",
      "1126                   0                        0                    0  \n",
      "1437                   4                        1                    3  \n",
      "1252                   0                        0                    0  \n",
      "1457                  15                        2                   15  \n",
      "664                    8                        0                    8  \n",
      "1216                   8                        0                    1  \n",
      "1362                  10                        3                    9  \n",
      "790                    7                        0                    5  \n",
      "1335                   7                        1                   10  \n",
      "268                    2                        0                    2  \n",
      "1011                   8                        5                    8  \n",
      "406                    3                        4                    2  \n",
      "154                    0                        0                    0  \n",
      "109                    1                        2                    2  \n",
      "104                    2                        0                    2  \n",
      "169                    3                        0                    2  \n",
      "330                    3                        1                    2  \n",
      "1256                   2                        0                    3  \n",
      "3                      0                        0                    0  \n",
      "\n",
      "[40 rows x 31 columns]\n"
     ]
    },
    {
     "name": "stderr",
     "output_type": "stream",
     "text": [
      "C:\\Users\\mcaba\\AppData\\Local\\Temp\\ipykernel_23416\\2079348606.py:12: SettingWithCopyWarning: \n",
      "A value is trying to be set on a copy of a slice from a DataFrame.\n",
      "Try using .loc[row_indexer,col_indexer] = value instead\n",
      "\n",
      "See the caveats in the documentation: https://pandas.pydata.org/pandas-docs/stable/user_guide/indexing.html#returning-a-view-versus-a-copy\n",
      "  attrition_filtered['JobRole'] = attrition_filtered['JobRole'].cat.remove_unused_categories()\n"
     ]
    }
   ],
   "source": [
    "# Create a list of unique JobRole values\n",
    "job_roles_pop = list(attrition_pop['JobRole'].unique())\n",
    "\n",
    "# Randomly sample four JobRole values\n",
    "job_roles_samp = random.sample(job_roles_pop, k=4)\n",
    "\n",
    "# Filter for rows where JobRole is in job_roles_samp\n",
    "jobrole_condition = attrition_pop['JobRole'].isin(job_roles_samp)\n",
    "attrition_filtered = attrition_pop[jobrole_condition]\n",
    "\n",
    "# Remove categories with no rows\n",
    "attrition_filtered['JobRole'] = attrition_filtered['JobRole'].cat.remove_unused_categories()\n",
    "\n",
    "# Randomly sample 10 employees from each sampled job role\n",
    "attrition_clust = attrition_filtered.groupby(\"JobRole\")\\\n",
    ".sample(n=10, random_state=2022)\n",
    "\n",
    "\n",
    "\n",
    "# Print the sample\n",
    "print(attrition_clust)"
   ]
  },
  {
   "cell_type": "markdown",
   "metadata": {},
   "source": [
    "#### **Comparing sampling methods**\n",
    "\n",
    "1. Review of sampling techniques - setup\n",
    "top_counted_countries = [\"Mexico\", \"Colombia\", \"Guatemala\",\n",
    "\"Brazil\", \"Taiwan\", \"United States (Hawaii)\"]\n",
    "subset_condition = coffee_ratings['country_of_origin'].isin(top_counted_countries)\n",
    "coffee_ratings_top = coffee_ratings[subset_condition]\n",
    "coffee_ratings_top.shape\n",
    "2. Review of simple random sampling\n",
    "coffee_ratings_srs = coffee_ratings_top.sample(frac=1/3, random_state=2021)\n",
    "coffee_ratings_srs.shape\n",
    "3. Review of stratified sampling\n",
    "coffee_ratings_strat = coffee_ratings_top.groupby(\"country_of_origin\")\\\n",
    ".sample(frac=1/3, random_state=2021)\n",
    "coffee_ratings_strat.shape\n",
    "4. Review of cluster sampling\n",
    "import random\n",
    "top_countries_samp = random.sample(top_counted_countries, k=2)\n",
    "top_condition = coffee_ratings_top['country_of_origin'].isin(top_countries_samp)\n",
    "coffee_ratings_cluster = coffee_ratings_top[top_condition]\n",
    "coffee_ratings_cluster['country_of_origin'] = coffee_ratings_cluster['country_of_origin']\\\n",
    ".cat.remove_unused_categories()\n",
    "coffee_ratings_clust = coffee_ratings_cluster.groupby(\"country_of_origin\")\\\n",
    ".sample(n=len(coffee_ratings_top) // 6)\n",
    "coffee_ratings_clust.shape\n",
    "5. Calculating mean cup points\n",
    "Population\n",
    "coffee_ratings_top['total_cup_points'].mean()\n",
    "\n",
    "Simple random sample\n",
    "coffee_ratings_srs['total_cup_points'].mean()\n",
    "\n",
    "Stratified sample\n",
    "coffee_ratings_strat['total_cup_points'].mean()\n",
    "\n",
    "Cluster sample\n",
    "coffee_ratings_clust['total_cup_points'].mean()\n",
    "6. Mean cup points by country: simple random\n",
    "Population\n",
    "coffee_ratings_top.groupby(\"country_of_origin\")\\\n",
    "['total_cup_points'].mean()\n",
    "\n",
    "Simple random sample:\n",
    "coffee_ratings_srs.groupby(\"country_of_origin\")\\\n",
    "['total_cup_points'].mean()\n",
    "\n",
    "Stratified sample:\n",
    "coffee_ratings_strat.groupby(\"country_of_origin\")\\ \n",
    "['total_cup_points'].mean()\n",
    "\n",
    "Cluster sample:\n",
    "coffee_ratings_clust.groupby(\"country_of_origin\")\\ \n",
    "['total_cup_points'].mean()"
   ]
  },
  {
   "cell_type": "code",
   "execution_count": 53,
   "metadata": {},
   "outputs": [
    {
     "data": {
      "text/plain": [
       "(880, 43)"
      ]
     },
     "execution_count": 53,
     "metadata": {},
     "output_type": "execute_result"
    }
   ],
   "source": [
    "top_counted_countries = [\"Mexico\", \"Colombia\", \"Guatemala\",\n",
    "\"Brazil\", \"Taiwan\", \"United States (Hawaii)\"]\n",
    "subset_condition = coffee_ratings['country_of_origin'].isin(top_counted_countries)\n",
    "coffee_ratings_top = coffee_ratings[subset_condition]\n",
    "coffee_ratings_top.shape"
   ]
  },
  {
   "cell_type": "code",
   "execution_count": 54,
   "metadata": {},
   "outputs": [
    {
     "data": {
      "text/plain": [
       "(293, 43)"
      ]
     },
     "execution_count": 54,
     "metadata": {},
     "output_type": "execute_result"
    }
   ],
   "source": [
    "coffee_ratings_srs = coffee_ratings_top.sample(frac=1/3, random_state=2021)\n",
    "coffee_ratings_srs.shape"
   ]
  },
  {
   "cell_type": "code",
   "execution_count": 55,
   "metadata": {},
   "outputs": [
    {
     "data": {
      "text/plain": [
       "(293, 43)"
      ]
     },
     "execution_count": 55,
     "metadata": {},
     "output_type": "execute_result"
    }
   ],
   "source": [
    "coffee_ratings_strat = coffee_ratings_top.groupby(\"country_of_origin\")\\\n",
    ".sample(frac=1/3, random_state=2021)\n",
    "coffee_ratings_strat.shape"
   ]
  },
  {
   "cell_type": "code",
   "execution_count": 57,
   "metadata": {},
   "outputs": [
    {
     "name": "stderr",
     "output_type": "stream",
     "text": [
      "C:\\Users\\mcaba\\AppData\\Local\\Temp\\ipykernel_23416\\1576403616.py:6: SettingWithCopyWarning: \n",
      "A value is trying to be set on a copy of a slice from a DataFrame.\n",
      "Try using .loc[row_indexer,col_indexer] = value instead\n",
      "\n",
      "See the caveats in the documentation: https://pandas.pydata.org/pandas-docs/stable/user_guide/indexing.html#returning-a-view-versus-a-copy\n",
      "  coffee_ratings_cluster['country_of_origin'] = coffee_ratings_cluster['country_of_origin'].astype('category')\n",
      "C:\\Users\\mcaba\\AppData\\Local\\Temp\\ipykernel_23416\\1576403616.py:8: SettingWithCopyWarning: \n",
      "A value is trying to be set on a copy of a slice from a DataFrame.\n",
      "Try using .loc[row_indexer,col_indexer] = value instead\n",
      "\n",
      "See the caveats in the documentation: https://pandas.pydata.org/pandas-docs/stable/user_guide/indexing.html#returning-a-view-versus-a-copy\n",
      "  coffee_ratings_cluster['country_of_origin'] = coffee_ratings_cluster['country_of_origin']\\\n"
     ]
    },
    {
     "data": {
      "text/plain": [
       "(110, 43)"
      ]
     },
     "execution_count": 57,
     "metadata": {},
     "output_type": "execute_result"
    }
   ],
   "source": [
    "import random\n",
    "top_countries_samp = random.sample(top_counted_countries, k=2)\n",
    "top_condition = coffee_ratings_top['country_of_origin'].isin(top_countries_samp)\n",
    "coffee_ratings_cluster = coffee_ratings_top[top_condition]\n",
    "\n",
    "coffee_ratings_cluster['country_of_origin'] = coffee_ratings_cluster['country_of_origin'].astype('category')\n",
    "\n",
    "coffee_ratings_cluster['country_of_origin'] = coffee_ratings_cluster['country_of_origin']\\\n",
    ".cat.remove_unused_categories()\n",
    "yellowcard = len(coffee_ratings_top) // 16\n",
    "coffee_ratings_clust = coffee_ratings_cluster.groupby(\"country_of_origin\")\\\n",
    ".sample(n=yellowcard)\n",
    "coffee_ratings_clust.shape"
   ]
  },
  {
   "cell_type": "code",
   "execution_count": 63,
   "metadata": {},
   "outputs": [
    {
     "data": {
      "text/plain": [
       "81.94700000000002"
      ]
     },
     "metadata": {},
     "output_type": "display_data"
    },
    {
     "data": {
      "text/plain": [
       "81.91331058020478"
      ]
     },
     "metadata": {},
     "output_type": "display_data"
    },
    {
     "data": {
      "text/plain": [
       "81.92566552901025"
      ]
     },
     "metadata": {},
     "output_type": "display_data"
    },
    {
     "data": {
      "text/plain": [
       "81.90127272727273"
      ]
     },
     "metadata": {},
     "output_type": "display_data"
    }
   ],
   "source": [
    "##Population\n",
    "display(coffee_ratings_top['total_cup_points'].mean())\n",
    "\n",
    "##Simple random sample\n",
    "display(coffee_ratings_srs['total_cup_points'].mean())\n",
    "\n",
    "##Stratified sample\n",
    "display(coffee_ratings_strat['total_cup_points'].mean())\n",
    "\n",
    "##Cluster sample\n",
    "display(coffee_ratings_clust['total_cup_points'].mean())"
   ]
  },
  {
   "cell_type": "code",
   "execution_count": 65,
   "metadata": {},
   "outputs": [
    {
     "data": {
      "text/plain": [
       "country_of_origin\n",
       "Brazil                    82.405909\n",
       "Colombia                  83.106557\n",
       "Guatemala                 81.846575\n",
       "Mexico                    80.890085\n",
       "Taiwan                    82.001333\n",
       "United States (Hawaii)    81.820411\n",
       "Name: total_cup_points, dtype: float64"
      ]
     },
     "metadata": {},
     "output_type": "display_data"
    },
    {
     "data": {
      "text/plain": [
       "country_of_origin\n",
       "Brazil                    82.251875\n",
       "Colombia                  82.961014\n",
       "Guatemala                 81.392917\n",
       "Mexico                    81.152000\n",
       "Taiwan                    81.957391\n",
       "United States (Hawaii)    81.766400\n",
       "Name: total_cup_points, dtype: float64"
      ]
     },
     "metadata": {},
     "output_type": "display_data"
    },
    {
     "data": {
      "text/plain": [
       "country_of_origin\n",
       "Brazil                    82.499773\n",
       "Colombia                  83.288197\n",
       "Guatemala                 81.727667\n",
       "Mexico                    80.994684\n",
       "Taiwan                    81.846800\n",
       "United States (Hawaii)    81.051667\n",
       "Name: total_cup_points, dtype: float64"
      ]
     },
     "metadata": {},
     "output_type": "display_data"
    },
    {
     "data": {
      "text/plain": [
       "country_of_origin\n",
       "Taiwan                    82.084727\n",
       "United States (Hawaii)    81.717818\n",
       "Name: total_cup_points, dtype: float64"
      ]
     },
     "metadata": {},
     "output_type": "display_data"
    }
   ],
   "source": [
    "##Population\n",
    "display(coffee_ratings_top.groupby(\"country_of_origin\")['total_cup_points'].mean())\n",
    "\n",
    "##Simple random sample\n",
    "display(coffee_ratings_srs.groupby(\"country_of_origin\")['total_cup_points'].mean())\n",
    "\n",
    "##Stratified sample\n",
    "display(coffee_ratings_strat.groupby(\"country_of_origin\")['total_cup_points'].mean())\n",
    "\n",
    "##Cluster sample\n",
    "display(coffee_ratings_clust.groupby(\"country_of_origin\")['total_cup_points'].mean())"
   ]
  },
  {
   "cell_type": "markdown",
   "metadata": {},
   "source": [
    "3 kinds of sampling\n",
    "You're going to compare the performance of point estimates using simple, stratified, and cluster sampling. Before doing that, you'll have to set up the samples.\n",
    "\n",
    "You'll use the RelationshipSatisfaction column of the attrition_pop dataset, which categorizes the employee's relationship with the company. It has four levels: Low, Medium, High, and Very_High. pandas has been loaded with its usual alias, and the random package has been loaded."
   ]
  },
  {
   "cell_type": "code",
   "execution_count": 67,
   "metadata": {},
   "outputs": [
    {
     "data": {
      "text/plain": [
       "(368, 31)"
      ]
     },
     "execution_count": 67,
     "metadata": {},
     "output_type": "execute_result"
    }
   ],
   "source": [
    "# Perform simple random sampling to get 0.25 of the population\n",
    "attrition_srs = attrition_pop.sample(frac=1/4, random_state=2022)\n",
    "attrition_srs.shape"
   ]
  },
  {
   "cell_type": "code",
   "execution_count": 68,
   "metadata": {},
   "outputs": [
    {
     "data": {
      "text/plain": [
       "(368, 31)"
      ]
     },
     "execution_count": 68,
     "metadata": {},
     "output_type": "execute_result"
    }
   ],
   "source": [
    "# Perform stratified sampling to get 0.25 of each relationship group\n",
    "attrition_strat = attrition_pop.groupby(\"RelationshipSatisfaction\").sample(frac=1/4, random_state=2022)\n",
    "attrition_strat.shape"
   ]
  },
  {
   "cell_type": "code",
   "execution_count": 72,
   "metadata": {},
   "outputs": [
    {
     "name": "stderr",
     "output_type": "stream",
     "text": [
      "C:\\Users\\mcaba\\AppData\\Local\\Temp\\ipykernel_23416\\1976045936.py:10: SettingWithCopyWarning: \n",
      "A value is trying to be set on a copy of a slice from a DataFrame.\n",
      "Try using .loc[row_indexer,col_indexer] = value instead\n",
      "\n",
      "See the caveats in the documentation: https://pandas.pydata.org/pandas-docs/stable/user_guide/indexing.html#returning-a-view-versus-a-copy\n",
      "  attrition_clust_prep['RelationshipSatisfaction'] = attrition_clust_prep['RelationshipSatisfaction'].cat.remove_unused_categories()\n"
     ]
    }
   ],
   "source": [
    "# Create a list of unique RelationshipSatisfaction values\n",
    "satisfaction_unique = list(attrition_pop['RelationshipSatisfaction'].unique())\n",
    "\n",
    "# Randomly sample 2 unique satisfaction values\n",
    "satisfaction_samp = random.sample(satisfaction_unique, k=2)\n",
    "\n",
    "# Filter for satisfaction_samp and clear unused categories from RelationshipSatisfaction\n",
    "satis_condition = attrition_pop['RelationshipSatisfaction'].isin(satisfaction_samp)\n",
    "attrition_clust_prep = attrition_pop[satis_condition]\n",
    "attrition_clust_prep['RelationshipSatisfaction'] = attrition_clust_prep['RelationshipSatisfaction'].cat.remove_unused_categories()\n",
    "\n",
    "# Perform cluster sampling on the selected group, getting 0.25 of attrition_pop\n",
    "attrition_clust = attrition_clust_prep.groupby(\"RelationshipSatisfaction\").sample(n=(len(attrition_pop) // 12), random_state=2022)\n"
   ]
  },
  {
   "cell_type": "markdown",
   "metadata": {},
   "source": [
    "Comparing point estimates\n",
    "Now that you have three types of sample (simple, stratified, and cluster), you can compare point estimates from each sample to the population parameter. That is, you can calculate the same summary statistic on each sample and see how it compares to the summary statistic for the population.\n",
    "\n",
    "Here, we'll look at how satisfaction with the company affects whether or not the employee leaves the company. That is, you'll calculate the proportion of employees who left the company (they have an Attrition value of 1) for each value of RelationshipSatisfaction.\n",
    "\n",
    "attrition_pop, attrition_srs, attrition_strat, and attrition_clust are available; pandas is loaded with its usual alias."
   ]
  },
  {
   "cell_type": "code",
   "execution_count": 73,
   "metadata": {},
   "outputs": [
    {
     "name": "stdout",
     "output_type": "stream",
     "text": [
      "RelationshipSatisfaction\n",
      "Low          0.206522\n",
      "Medium       0.148515\n",
      "High         0.154684\n",
      "Very_High    0.148148\n",
      "Name: Attrition, dtype: float64\n"
     ]
    }
   ],
   "source": [
    "# Mean Attrition by RelationshipSatisfaction group\n",
    "mean_attrition_pop = attrition_pop.groupby(\"RelationshipSatisfaction\")['Attrition'].mean()\n",
    "\n",
    "# Print the result\n",
    "print(mean_attrition_pop)"
   ]
  },
  {
   "cell_type": "code",
   "execution_count": 74,
   "metadata": {},
   "outputs": [
    {
     "name": "stdout",
     "output_type": "stream",
     "text": [
      "RelationshipSatisfaction\n",
      "Low          0.134328\n",
      "Medium       0.164179\n",
      "High         0.160000\n",
      "Very_High    0.155963\n",
      "Name: Attrition, dtype: float64\n"
     ]
    }
   ],
   "source": [
    "# Calculate the same thing for the simple random sample \n",
    "mean_attrition_srs = attrition_srs.groupby(\"RelationshipSatisfaction\")['Attrition'].mean()\n",
    "\n",
    "# Print the result\n",
    "print(mean_attrition_srs)"
   ]
  },
  {
   "cell_type": "code",
   "execution_count": 75,
   "metadata": {},
   "outputs": [
    {
     "name": "stdout",
     "output_type": "stream",
     "text": [
      "RelationshipSatisfaction\n",
      "Low          0.144928\n",
      "Medium       0.078947\n",
      "High         0.165217\n",
      "Very_High    0.129630\n",
      "Name: Attrition, dtype: float64\n"
     ]
    }
   ],
   "source": [
    "# Calculate the same thing for the stratified sample \n",
    "mean_attrition_strat = attrition_strat.groupby(\"RelationshipSatisfaction\")['Attrition'].mean()\n",
    "\n",
    "# Print the result\n",
    "print(mean_attrition_strat)"
   ]
  },
  {
   "cell_type": "code",
   "execution_count": 76,
   "metadata": {},
   "outputs": [
    {
     "name": "stdout",
     "output_type": "stream",
     "text": [
      "RelationshipSatisfaction\n",
      "Medium       0.131148\n",
      "Very_High    0.098361\n",
      "Name: Attrition, dtype: float64\n"
     ]
    }
   ],
   "source": [
    "# Calculate the same thing for the cluster sample \n",
    "mean_attrition_clust = attrition_clust.groupby(\"RelationshipSatisfaction\")['Attrition'].mean()\n",
    "\n",
    "# Print the result\n",
    "print(mean_attrition_clust)"
   ]
  },
  {
   "attachments": {},
   "cell_type": "markdown",
   "metadata": {},
   "source": [
    "## **Sampling Distributions (Module 03-053)**"
   ]
  },
  {
   "attachments": {},
   "cell_type": "markdown",
   "metadata": {},
   "source": [
    "#### **Relative error of point estimates**\n",
    "\n",
    "1. Sample size is number of rows\n",
    "len(coffee_ratings.sample(n=300))\n",
    "len(coffee_ratings.sample(frac=0.25))\n",
    "2. Various sample sizes\n",
    "coffee_ratings['total_cup_points'].mean()\n",
    "coffee_ratings.sample(n=10)['total_cup_points'].mean()\n",
    "coffee_ratings.sample(n=100)['total_cup_points'].mean()\n",
    "coffee_ratings.sample(n=1000)['total_cup_points'].mean()\n",
    "3. Relative errors\n",
    "Population parameter:\n",
    "population_mean = coffee_ratings['total_cup_points'].mean()\n",
    "Point estimate:\n",
    "sample_mean = coffee_ratings.sample(n=sample_size)['total_cup_points'].mean()\n",
    "Relative error as a percentage:\n",
    "rel_error_pct = 100 * abs(population_mean-sample_mean) / population_mean\n",
    "4. Relative error vs. sample size\n",
    "import matplotlib.pyplot as plt\n",
    "errors.plot(x=\"sample_size\",\n",
    "y=\"relative_error\",\n",
    "kind=\"line\")\n",
    "plt.show()\n",
    "\n",
    "\n",
    "Properties:\n",
    "Really noise, particularly for small samples\n",
    "Amplitude is initially steep, then flattens\n",
    "Relative error decreases to zero (when the\n",
    "sample size = population)"
   ]
  },
  {
   "cell_type": "code",
   "execution_count": 77,
   "metadata": {},
   "outputs": [
    {
     "data": {
      "text/plain": [
       "300"
      ]
     },
     "metadata": {},
     "output_type": "display_data"
    },
    {
     "data": {
      "text/plain": [
       "334"
      ]
     },
     "metadata": {},
     "output_type": "display_data"
    }
   ],
   "source": [
    "display(\n",
    "len(coffee_ratings.sample(n=300))\n",
    ")\n",
    "\n",
    "display(\n",
    "len(coffee_ratings.sample(frac=0.25))\n",
    ")"
   ]
  },
  {
   "cell_type": "code",
   "execution_count": 78,
   "metadata": {},
   "outputs": [
    {
     "data": {
      "text/plain": [
       "82.15120328849028"
      ]
     },
     "metadata": {},
     "output_type": "display_data"
    },
    {
     "data": {
      "text/plain": [
       "81.741"
      ]
     },
     "metadata": {},
     "output_type": "display_data"
    },
    {
     "data": {
      "text/plain": [
       "82.20729999999999"
      ]
     },
     "metadata": {},
     "output_type": "display_data"
    },
    {
     "data": {
      "text/plain": [
       "82.18188999999998"
      ]
     },
     "metadata": {},
     "output_type": "display_data"
    }
   ],
   "source": [
    "display(\n",
    "coffee_ratings['total_cup_points'].mean()\n",
    ")\n",
    "\n",
    "display(\n",
    "coffee_ratings.sample(n=10)['total_cup_points'].mean()\n",
    ")\n",
    "\n",
    "display(\n",
    "coffee_ratings.sample(n=100)['total_cup_points'].mean()\n",
    ")\n",
    "\n",
    "display(\n",
    "coffee_ratings.sample(n=1000)['total_cup_points'].mean()\n",
    ")"
   ]
  },
  {
   "cell_type": "code",
   "execution_count": 82,
   "metadata": {},
   "outputs": [
    {
     "name": "stdout",
     "output_type": "stream",
     "text": [
      "82.15120328849028 82.20042857142857 0.059920343181621455 70\n"
     ]
    }
   ],
   "source": [
    "\n",
    "population_mean = coffee_ratings['total_cup_points'].mean()\n",
    "\n",
    "sample_mean = coffee_ratings.sample(n=sample_size)['total_cup_points'].mean()\n",
    "\n",
    "rel_error_pct = 100 * abs(population_mean-sample_mean) / population_mean\n",
    "\n",
    "print(population_mean,sample_mean,rel_error_pct,sample_size)\n"
   ]
  },
  {
   "cell_type": "code",
   "execution_count": 87,
   "metadata": {},
   "outputs": [
    {
     "data": {
      "image/png": "[encoded data removed]",
      "text/plain": [
       "<Figure size 640x480 with 1 Axes>"
      ]
     },
     "metadata": {},
     "output_type": "display_data"
    }
   ],
   "source": [
    "import pandas as pd\n",
    "import numpy as np\n",
    "import matplotlib.pyplot as plt\n",
    "\n",
    "# Assuming coffee_ratings is your DataFrame and 'total_cup_points' is the column of interest\n",
    "# Example: coffee_ratings = pd.read_csv('coffee_ratings.csv')\n",
    "\n",
    "# Step 1: Define the population mean (you need to calculate or know this value)\n",
    "population_mean = coffee_ratings['total_cup_points'].mean()\n",
    "\n",
    "# Step 2: Create a list of sample sizes (from 1 to 1500)\n",
    "sample_sizes = list(range(1, 1301))\n",
    "\n",
    "# Step 3: Initialize lists to store sample sizes and relative errors\n",
    "sample_size_list = []\n",
    "relative_error_list = []\n",
    "\n",
    "# Step 4: Calculate the relative error for each sample size\n",
    "for sample_size in sample_sizes:\n",
    "    sample_mean = coffee_ratings.sample(n=sample_size, replace=True)['total_cup_points'].mean()\n",
    "    relative_error = 100 * abs(population_mean - sample_mean) / population_mean\n",
    "    \n",
    "    sample_size_list.append(sample_size)\n",
    "    relative_error_list.append(relative_error)\n",
    "\n",
    "# Step 5: Create the errors DataFrame\n",
    "errors = pd.DataFrame({\n",
    "    'sample_size': sample_size_list,\n",
    "    'relative_error': relative_error_list\n",
    "})\n",
    "\n",
    "# Step 6: Plot the results\n",
    "errors.plot(x=\"sample_size\", y=\"relative_error\", kind=\"line\")\n",
    "plt.xlabel(\"Sample Size\")\n",
    "plt.ylabel(\"Relative Error (%)\")\n",
    "plt.title(\"Relative Error vs Sample Size\")\n",
    "plt.show()"
   ]
  },
  {
   "cell_type": "markdown",
   "metadata": {},
   "source": [
    "Calculating relative errors\n",
    "The size of the sample you take affects how accurately the point estimates reflect the corresponding population parameter. For example, when you calculate a sample mean, you want it to be close to the population mean. However, if your sample is too small, this might not be the case.\n",
    "\n",
    "The most common metric for assessing accuracy is relative error. This is the absolute difference between the population parameter and the point estimate, all divided by the population parameter. It is sometimes expressed as a percentage.\n",
    "\n",
    "attrition_pop and mean_attrition_pop (the mean of the Attrition column of attrition_pop) are available; pandas is loaded as pd."
   ]
  },
  {
   "cell_type": "code",
   "execution_count": 88,
   "metadata": {},
   "outputs": [
    {
     "name": "stdout",
     "output_type": "stream",
     "text": [
      "RelationshipSatisfaction\n",
      "Low          70.947368\n",
      "Medium       59.600000\n",
      "High         61.211268\n",
      "Very_High    59.500000\n",
      "Name: Attrition, dtype: float64\n"
     ]
    }
   ],
   "source": [
    "# Generate a simple random sample of 50 rows, with seed 2022\n",
    "attrition_srs50 = attrition_pop.sample(n=50, random_state=2022)\n",
    "\n",
    "# Calculate the mean employee attrition in the sample\n",
    "mean_attrition_srs50 = attrition_srs50['Attrition'].mean()\n",
    "\n",
    "# Calculate the relative error percentage\n",
    "rel_error_pct50 = 100 * abs(mean_attrition_pop-mean_attrition_srs50) / mean_attrition_pop\n",
    "\n",
    "# Print rel_error_pct50\n",
    "print(rel_error_pct50)"
   ]
  },
  {
   "cell_type": "code",
   "execution_count": 89,
   "metadata": {},
   "outputs": [
    {
     "name": "stdout",
     "output_type": "stream",
     "text": [
      "RelationshipSatisfaction\n",
      "Low          27.368421\n",
      "Medium        1.000000\n",
      "High          3.028169\n",
      "Very_High     1.250000\n",
      "Name: Attrition, dtype: float64\n"
     ]
    }
   ],
   "source": [
    "# Generate a simple random sample of 100 rows, with seed 2022\n",
    "attrition_srs100 = attrition_pop.sample(n=100, random_state=2022)\n",
    "\n",
    "# Calculate the mean employee attrition in the sample\n",
    "mean_attrition_srs100 = attrition_srs100['Attrition'].mean()\n",
    "\n",
    "# Calculate the relative error percentage\n",
    "rel_error_pct100 = 100 * abs(mean_attrition_pop-mean_attrition_srs100) / mean_attrition_pop\n",
    "\n",
    "# Print rel_error_pct100\n",
    "print(rel_error_pct100)"
   ]
  },
  {
   "cell_type": "markdown",
   "metadata": {},
   "source": [
    "Relative error vs. sample size\n",
    "The plot shows the relative error in the proportion of employee attritions, using simple random sampling, for sample sizes from 2 to 1470 (the size of the population).\n",
    "\n",
    "Clicking \"Regenerate plot\" will select new samples for each sample size, and calculate the relative errors again.\n",
    "\n",
    "Which statement about relative errors and sample sizes is true?\n",
    "r\n",
    "For small sample sizes, each additional entry in a sample can result in substantial decreases to the relative error."
   ]
  },
  {
   "cell_type": "markdown",
   "metadata": {},
   "source": []
  },
  {
   "attachments": {},
   "cell_type": "markdown",
   "metadata": {},
   "source": [
    "#### **xxxx**\n",
    "\n",
    "1. xxx\n",
    "\n",
    "2. xxx\n",
    "\n",
    "3. xxx\n",
    "\n",
    "4. xxx"
   ]
  },
  {
   "cell_type": "code",
   "execution_count": null,
   "metadata": {},
   "outputs": [],
   "source": [
    "display(\n",
    "\n",
    ")\n",
    "\n",
    "display(\n",
    "\n",
    ")\n",
    "\n",
    "display(\n",
    "\n",
    ")"
   ]
  },
  {
   "attachments": {},
   "cell_type": "markdown",
   "metadata": {},
   "source": [
    "## **Bootstrap Distributions (Module 04-053)**"
   ]
  },
  {
   "attachments": {},
   "cell_type": "markdown",
   "metadata": {},
   "source": [
    "#### **xxxx**\n",
    "\n",
    "1. xxx\n",
    "\n",
    "2. xxx\n",
    "\n",
    "3. xxx\n",
    "\n",
    "4. xxx"
   ]
  },
  {
   "cell_type": "code",
   "execution_count": null,
   "metadata": {},
   "outputs": [],
   "source": [
    "display(\n",
    "\n",
    ")\n",
    "\n",
    "display(\n",
    "\n",
    ")\n",
    "\n",
    "display(\n",
    "\n",
    ")"
   ]
  },
  {
   "attachments": {},
   "cell_type": "markdown",
   "metadata": {},
   "source": [
    "#### **xxxx**\n",
    "\n",
    "1. xxx\n",
    "\n",
    "2. xxx\n",
    "\n",
    "3. xxx\n",
    "\n",
    "4. xxx"
   ]
  },
  {
   "cell_type": "code",
   "execution_count": null,
   "metadata": {},
   "outputs": [],
   "source": [
    "display(\n",
    "\n",
    ")\n",
    "\n",
    "display(\n",
    "\n",
    ")\n",
    "\n",
    "display(\n",
    "\n",
    ")"
   ]
  },
  {
   "attachments": {},
   "cell_type": "markdown",
   "metadata": {},
   "source": [
    "## **XXX (Module 05-XXX)**"
   ]
  },
  {
   "attachments": {},
   "cell_type": "markdown",
   "metadata": {},
   "source": [
    "#### **xxxx**\n",
    "\n",
    "1. xxx\n",
    "\n",
    "2. xxx\n",
    "\n",
    "3. xxx\n",
    "\n",
    "4. xxx"
   ]
  },
  {
   "cell_type": "code",
   "execution_count": null,
   "metadata": {},
   "outputs": [],
   "source": [
    "display(\n",
    "\n",
    ")\n",
    "\n",
    "display(\n",
    "\n",
    ")\n",
    "\n",
    "display(\n",
    "\n",
    ")"
   ]
  },
  {
   "attachments": {},
   "cell_type": "markdown",
   "metadata": {},
   "source": [
    "#### **xxxx**\n",
    "\n",
    "1. xxx\n",
    "\n",
    "2. xxx\n",
    "\n",
    "3. xxx\n",
    "\n",
    "4. xxx"
   ]
  },
  {
   "cell_type": "code",
   "execution_count": null,
   "metadata": {},
   "outputs": [],
   "source": [
    "display(\n",
    "\n",
    ")\n",
    "\n",
    "display(\n",
    "\n",
    ")\n",
    "\n",
    "display(\n",
    "\n",
    ")"
   ]
  },
  {
   "cell_type": "code",
   "execution_count": 1,
   "metadata": {},
   "outputs": [
    {
     "name": "stdout",
     "output_type": "stream",
     "text": [
      "Perrenque!\n"
     ]
    }
   ],
   "source": [
    "print('Perrenque!')"
   ]
  }
 ],
 "metadata": {
  "kernelspec": {
   "display_name": "Python 3",
   "language": "python",
   "name": "python3"
  },
  "language_info": {
   "codemirror_mode": {
    "name": "ipython",
    "version": 3
   },
   "file_extension": ".py",
   "mimetype": "text/x-python",
   "name": "python",
   "nbconvert_exporter": "python",
   "pygments_lexer": "ipython3",
   "version": "3.10.0"
  },
  "orig_nbformat": 4,
  "vscode": {
   "interpreter": {
    "hash": "26de051ba29f2982a8de78e945f0abaf191376122a1563185a90213a26c5da77"
   }
  }
 },
 "nbformat": 4,
 "nbformat_minor": 2
}
