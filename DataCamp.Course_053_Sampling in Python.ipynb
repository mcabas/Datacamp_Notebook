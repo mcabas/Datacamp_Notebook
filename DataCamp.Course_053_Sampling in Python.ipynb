{
 "cells": [
  {
   "attachments": {},
   "cell_type": "markdown",
   "metadata": {},
   "source": [
    "# **DataCamp.Course_053_Sampling in Python**\n",
    "\n",
    "### **Course Description**\n",
    "\n",
    "Sampling in Python is the cornerstone of inference statistics and hypothesis testing. It's a powerful skill used in survey analysis and experimental design to draw conclusions without surveying an entire population. In this Sampling in Python course, you’ll discover when to use sampling and how to perform common types of sampling—from simple random sampling to more complex methods like stratified and cluster sampling. Using real-world datasets, including coffee ratings, Spotify songs, and employee attrition, you’ll learn to estimate population statistics and quantify uncertainty in your estimates by generating sampling distributions and bootstrap distributions.\n"
   ]
  },
  {
   "cell_type": "code",
   "execution_count": null,
   "metadata": {},
   "outputs": [],
   "source": [
    "# read_csv function\n",
    "\n",
    "import os\n",
    "import pandas as pd\n",
    "folder_name = 'datasets'\n",
    "dir = r'G:\\My Drive\\Data Science\\Datacamp_Notebook\\Datacamp_Notebook\\{}'.format(folder_name)\n",
    "\n",
    "def read_csv_fun(folder_name,file_name, path):\n",
    "    path = dir\n",
    "    os.chdir(path)\n",
    "    df = pd.read_csv('{}.csv'.format(file_name), sep=',', low_memory=False, on_bad_lines='skip')\n",
    "    return df\n",
    "\n",
    "df_show = read_csv_fun('datasets','daily_show_guests_cleaned', dir)\n",
    "print(df_show.head(5))"
   ]
  },
  {
   "attachments": {},
   "cell_type": "markdown",
   "metadata": {},
   "source": [
    "## **Introduction to Sampling (Module 01-053)**"
   ]
  },
  {
   "attachments": {},
   "cell_type": "markdown",
   "metadata": {},
   "source": [
    "#### **xxxx**\n",
    "\n",
    "1. xxx\n",
    "\n",
    "2. xxx\n",
    "\n",
    "3. xxx\n",
    "\n",
    "4. xxx"
   ]
  },
  {
   "cell_type": "code",
   "execution_count": null,
   "metadata": {},
   "outputs": [],
   "source": [
    "display(\n",
    "\n",
    ")\n",
    "\n",
    "display(\n",
    "\n",
    ")\n",
    "\n",
    "display(\n",
    "\n",
    ")"
   ]
  },
  {
   "attachments": {},
   "cell_type": "markdown",
   "metadata": {},
   "source": [
    "#### **xxxx**\n",
    "\n",
    "1. xxx\n",
    "\n",
    "2. xxx\n",
    "\n",
    "3. xxx\n",
    "\n",
    "4. xxx"
   ]
  },
  {
   "cell_type": "code",
   "execution_count": null,
   "metadata": {},
   "outputs": [],
   "source": [
    "display(\n",
    "\n",
    ")\n",
    "\n",
    "display(\n",
    "\n",
    ")\n",
    "\n",
    "display(\n",
    "\n",
    ")"
   ]
  },
  {
   "attachments": {},
   "cell_type": "markdown",
   "metadata": {},
   "source": [
    "## **Sampling Methods (Module 02-053)**"
   ]
  },
  {
   "attachments": {},
   "cell_type": "markdown",
   "metadata": {},
   "source": [
    "#### **xxxx**\n",
    "\n",
    "1. xxx\n",
    "\n",
    "2. xxx\n",
    "\n",
    "3. xxx\n",
    "\n",
    "4. xxx"
   ]
  },
  {
   "cell_type": "code",
   "execution_count": null,
   "metadata": {},
   "outputs": [],
   "source": [
    "display(\n",
    "\n",
    ")\n",
    "\n",
    "display(\n",
    "\n",
    ")\n",
    "\n",
    "display(\n",
    "\n",
    ")"
   ]
  },
  {
   "attachments": {},
   "cell_type": "markdown",
   "metadata": {},
   "source": [
    "#### **xxxx**\n",
    "\n",
    "1. xxx\n",
    "\n",
    "2. xxx\n",
    "\n",
    "3. xxx\n",
    "\n",
    "4. xxx"
   ]
  },
  {
   "cell_type": "code",
   "execution_count": null,
   "metadata": {},
   "outputs": [],
   "source": [
    "display(\n",
    "\n",
    ")\n",
    "\n",
    "display(\n",
    "\n",
    ")\n",
    "\n",
    "display(\n",
    "\n",
    ")"
   ]
  },
  {
   "attachments": {},
   "cell_type": "markdown",
   "metadata": {},
   "source": [
    "## **Sampling Distributions (Module 03-053)**"
   ]
  },
  {
   "attachments": {},
   "cell_type": "markdown",
   "metadata": {},
   "source": [
    "#### **xxxx**\n",
    "\n",
    "1. xxx\n",
    "\n",
    "2. xxx\n",
    "\n",
    "3. xxx\n",
    "\n",
    "4. xxx"
   ]
  },
  {
   "cell_type": "code",
   "execution_count": null,
   "metadata": {},
   "outputs": [],
   "source": [
    "display(\n",
    "\n",
    ")\n",
    "\n",
    "display(\n",
    "\n",
    ")\n",
    "\n",
    "display(\n",
    "\n",
    ")"
   ]
  },
  {
   "attachments": {},
   "cell_type": "markdown",
   "metadata": {},
   "source": [
    "#### **xxxx**\n",
    "\n",
    "1. xxx\n",
    "\n",
    "2. xxx\n",
    "\n",
    "3. xxx\n",
    "\n",
    "4. xxx"
   ]
  },
  {
   "cell_type": "code",
   "execution_count": null,
   "metadata": {},
   "outputs": [],
   "source": [
    "display(\n",
    "\n",
    ")\n",
    "\n",
    "display(\n",
    "\n",
    ")\n",
    "\n",
    "display(\n",
    "\n",
    ")"
   ]
  },
  {
   "attachments": {},
   "cell_type": "markdown",
   "metadata": {},
   "source": [
    "## **Bootstrap Distributions (Module 04-053)**"
   ]
  },
  {
   "attachments": {},
   "cell_type": "markdown",
   "metadata": {},
   "source": [
    "#### **xxxx**\n",
    "\n",
    "1. xxx\n",
    "\n",
    "2. xxx\n",
    "\n",
    "3. xxx\n",
    "\n",
    "4. xxx"
   ]
  },
  {
   "cell_type": "code",
   "execution_count": null,
   "metadata": {},
   "outputs": [],
   "source": [
    "display(\n",
    "\n",
    ")\n",
    "\n",
    "display(\n",
    "\n",
    ")\n",
    "\n",
    "display(\n",
    "\n",
    ")"
   ]
  },
  {
   "attachments": {},
   "cell_type": "markdown",
   "metadata": {},
   "source": [
    "#### **xxxx**\n",
    "\n",
    "1. xxx\n",
    "\n",
    "2. xxx\n",
    "\n",
    "3. xxx\n",
    "\n",
    "4. xxx"
   ]
  },
  {
   "cell_type": "code",
   "execution_count": null,
   "metadata": {},
   "outputs": [],
   "source": [
    "display(\n",
    "\n",
    ")\n",
    "\n",
    "display(\n",
    "\n",
    ")\n",
    "\n",
    "display(\n",
    "\n",
    ")"
   ]
  },
  {
   "attachments": {},
   "cell_type": "markdown",
   "metadata": {},
   "source": [
    "## **XXX (Module 05-XXX)**"
   ]
  },
  {
   "attachments": {},
   "cell_type": "markdown",
   "metadata": {},
   "source": [
    "#### **xxxx**\n",
    "\n",
    "1. xxx\n",
    "\n",
    "2. xxx\n",
    "\n",
    "3. xxx\n",
    "\n",
    "4. xxx"
   ]
  },
  {
   "cell_type": "code",
   "execution_count": null,
   "metadata": {},
   "outputs": [],
   "source": [
    "display(\n",
    "\n",
    ")\n",
    "\n",
    "display(\n",
    "\n",
    ")\n",
    "\n",
    "display(\n",
    "\n",
    ")"
   ]
  },
  {
   "attachments": {},
   "cell_type": "markdown",
   "metadata": {},
   "source": [
    "#### **xxxx**\n",
    "\n",
    "1. xxx\n",
    "\n",
    "2. xxx\n",
    "\n",
    "3. xxx\n",
    "\n",
    "4. xxx"
   ]
  },
  {
   "cell_type": "code",
   "execution_count": null,
   "metadata": {},
   "outputs": [],
   "source": [
    "display(\n",
    "\n",
    ")\n",
    "\n",
    "display(\n",
    "\n",
    ")\n",
    "\n",
    "display(\n",
    "\n",
    ")"
   ]
  },
  {
   "cell_type": "code",
   "execution_count": 1,
   "metadata": {},
   "outputs": [
    {
     "name": "stdout",
     "output_type": "stream",
     "text": [
      "Perrenque!\n"
     ]
    }
   ],
   "source": [
    "print('Perrenque!')"
   ]
  }
 ],
 "metadata": {
  "kernelspec": {
   "display_name": "Python 3",
   "language": "python",
   "name": "python3"
  },
  "language_info": {
   "codemirror_mode": {
    "name": "ipython",
    "version": 3
   },
   "file_extension": ".py",
   "mimetype": "text/x-python",
   "name": "python",
   "nbconvert_exporter": "python",
   "pygments_lexer": "ipython3",
   "version": "3.10.0"
  },
  "orig_nbformat": 4,
  "vscode": {
   "interpreter": {
    "hash": "26de051ba29f2982a8de78e945f0abaf191376122a1563185a90213a26c5da77"
   }
  }
 },
 "nbformat": 4,
 "nbformat_minor": 2
}
