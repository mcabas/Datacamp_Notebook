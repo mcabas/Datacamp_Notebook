{
 "cells": [
  {
   "attachments": {},
   "cell_type": "markdown",
   "metadata": {},
   "source": [
    "# **DataCamp.Course_054_Hypothesis Testing in Python**\n",
    "\n",
    "### **Course Description**\n",
    "\n",
    "Hypothesis testing lets you answer questions about your datasets in a statistically rigorous way. In this course, you'll grow your Python analytical skills as you learn how and when to use common tests like t-tests, proportion tests, and chi-square tests. Working with real-world data, including Stack Overflow user feedback and supply-chain data for medical supply shipments, you'll gain a deep understanding of how these tests work and the key assumptions that underpin them. You'll also discover how non-parametric tests can be used to go beyond the limitations of traditional hypothesis tests."
   ]
  },
  {
   "cell_type": "code",
   "execution_count": 2,
   "metadata": {},
   "outputs": [
    {
     "data": {
      "text/html": [
       "<div>\n",
       "<style scoped>\n",
       "    .dataframe tbody tr th:only-of-type {\n",
       "        vertical-align: middle;\n",
       "    }\n",
       "\n",
       "    .dataframe tbody tr th {\n",
       "        vertical-align: top;\n",
       "    }\n",
       "\n",
       "    .dataframe thead th {\n",
       "        text-align: right;\n",
       "    }\n",
       "</style>\n",
       "<table border=\"1\" class=\"dataframe\">\n",
       "  <thead>\n",
       "    <tr style=\"text-align: right;\">\n",
       "      <th></th>\n",
       "      <th>respondent</th>\n",
       "      <th>main_branch</th>\n",
       "      <th>hobbyist</th>\n",
       "      <th>age</th>\n",
       "      <th>age_1st_code</th>\n",
       "      <th>age_first_code_cut</th>\n",
       "      <th>comp_freq</th>\n",
       "      <th>comp_total</th>\n",
       "      <th>converted_comp</th>\n",
       "      <th>country</th>\n",
       "      <th>...</th>\n",
       "      <th>survey_length</th>\n",
       "      <th>trans</th>\n",
       "      <th>undergrad_major</th>\n",
       "      <th>webframe_desire_next_year</th>\n",
       "      <th>webframe_worked_with</th>\n",
       "      <th>welcome_change</th>\n",
       "      <th>work_week_hrs</th>\n",
       "      <th>years_code</th>\n",
       "      <th>years_code_pro</th>\n",
       "      <th>age_cat</th>\n",
       "    </tr>\n",
       "  </thead>\n",
       "  <tbody>\n",
       "    <tr>\n",
       "      <th>0</th>\n",
       "      <td>36.0</td>\n",
       "      <td>I am not primarily a developer, but I write co...</td>\n",
       "      <td>Yes</td>\n",
       "      <td>34.0</td>\n",
       "      <td>30.0</td>\n",
       "      <td>adult</td>\n",
       "      <td>Yearly</td>\n",
       "      <td>60000.0</td>\n",
       "      <td>77556.0</td>\n",
       "      <td>United Kingdom</td>\n",
       "      <td>...</td>\n",
       "      <td>Appropriate in length</td>\n",
       "      <td>No</td>\n",
       "      <td>Computer science, computer engineering, or sof...</td>\n",
       "      <td>Express;React.js</td>\n",
       "      <td>Express;React.js</td>\n",
       "      <td>Just as welcome now as I felt last year</td>\n",
       "      <td>40.0</td>\n",
       "      <td>4.0</td>\n",
       "      <td>3.0</td>\n",
       "      <td>At least 30</td>\n",
       "    </tr>\n",
       "    <tr>\n",
       "      <th>1</th>\n",
       "      <td>47.0</td>\n",
       "      <td>I am a developer by profession</td>\n",
       "      <td>Yes</td>\n",
       "      <td>53.0</td>\n",
       "      <td>10.0</td>\n",
       "      <td>child</td>\n",
       "      <td>Yearly</td>\n",
       "      <td>58000.0</td>\n",
       "      <td>74970.0</td>\n",
       "      <td>United Kingdom</td>\n",
       "      <td>...</td>\n",
       "      <td>Appropriate in length</td>\n",
       "      <td>No</td>\n",
       "      <td>A natural science (such as biology, chemistry,...</td>\n",
       "      <td>Flask;Spring</td>\n",
       "      <td>Flask;Spring</td>\n",
       "      <td>Just as welcome now as I felt last year</td>\n",
       "      <td>40.0</td>\n",
       "      <td>43.0</td>\n",
       "      <td>28.0</td>\n",
       "      <td>At least 30</td>\n",
       "    </tr>\n",
       "  </tbody>\n",
       "</table>\n",
       "<p>2 rows × 63 columns</p>\n",
       "</div>"
      ],
      "text/plain": [
       "   respondent                                        main_branch hobbyist  \\\n",
       "0        36.0  I am not primarily a developer, but I write co...      Yes   \n",
       "1        47.0                     I am a developer by profession      Yes   \n",
       "\n",
       "    age  age_1st_code age_first_code_cut comp_freq  comp_total  \\\n",
       "0  34.0          30.0              adult    Yearly     60000.0   \n",
       "1  53.0          10.0              child    Yearly     58000.0   \n",
       "\n",
       "   converted_comp         country  ...          survey_length trans  \\\n",
       "0         77556.0  United Kingdom  ...  Appropriate in length    No   \n",
       "1         74970.0  United Kingdom  ...  Appropriate in length    No   \n",
       "\n",
       "                                     undergrad_major  \\\n",
       "0  Computer science, computer engineering, or sof...   \n",
       "1  A natural science (such as biology, chemistry,...   \n",
       "\n",
       "  webframe_desire_next_year webframe_worked_with  \\\n",
       "0          Express;React.js     Express;React.js   \n",
       "1              Flask;Spring         Flask;Spring   \n",
       "\n",
       "                            welcome_change work_week_hrs years_code  \\\n",
       "0  Just as welcome now as I felt last year          40.0        4.0   \n",
       "1  Just as welcome now as I felt last year          40.0       43.0   \n",
       "\n",
       "  years_code_pro      age_cat  \n",
       "0            3.0  At least 30  \n",
       "1           28.0  At least 30  \n",
       "\n",
       "[2 rows x 63 columns]"
      ]
     },
     "metadata": {},
     "output_type": "display_data"
    }
   ],
   "source": [
    "# read_feather function\n",
    "\n",
    "import os\n",
    "import pandas as pd\n",
    "folder_name = 'datasets'\n",
    "dir = r'C:\\Users\\mcaba\\OneDrive\\Escritorio\\Data Science\\Datacamp_Notebook\\Datacamp_Notebook\\{}'.format(folder_name)\n",
    "\n",
    "def read_feather_fun(folder_name,file_name, path):\n",
    "    path = dir\n",
    "    os.chdir(path)\n",
    "    df = pd.read_feather('{}.feather'.format(file_name))\n",
    "    return df\n",
    "\n",
    "stack_overflow = read_feather_fun('datasets','stack_overflow', dir)\n",
    "display(stack_overflow.head(2))"
   ]
  },
  {
   "cell_type": "code",
   "execution_count": 3,
   "metadata": {},
   "outputs": [
    {
     "data": {
      "text/html": [
       "<div>\n",
       "<style scoped>\n",
       "    .dataframe tbody tr th:only-of-type {\n",
       "        vertical-align: middle;\n",
       "    }\n",
       "\n",
       "    .dataframe tbody tr th {\n",
       "        vertical-align: top;\n",
       "    }\n",
       "\n",
       "    .dataframe thead th {\n",
       "        text-align: right;\n",
       "    }\n",
       "</style>\n",
       "<table border=\"1\" class=\"dataframe\">\n",
       "  <thead>\n",
       "    <tr style=\"text-align: right;\">\n",
       "      <th></th>\n",
       "      <th>state</th>\n",
       "      <th>county</th>\n",
       "      <th>dem_percent_12</th>\n",
       "      <th>dem_percent_16</th>\n",
       "    </tr>\n",
       "  </thead>\n",
       "  <tbody>\n",
       "    <tr>\n",
       "      <th>0</th>\n",
       "      <td>Alabama</td>\n",
       "      <td>Bullock</td>\n",
       "      <td>76.305900</td>\n",
       "      <td>74.946921</td>\n",
       "    </tr>\n",
       "    <tr>\n",
       "      <th>1</th>\n",
       "      <td>Alabama</td>\n",
       "      <td>Chilton</td>\n",
       "      <td>19.453671</td>\n",
       "      <td>15.847352</td>\n",
       "    </tr>\n",
       "  </tbody>\n",
       "</table>\n",
       "</div>"
      ],
      "text/plain": [
       "     state   county  dem_percent_12  dem_percent_16\n",
       "0  Alabama  Bullock       76.305900       74.946921\n",
       "1  Alabama  Chilton       19.453671       15.847352"
      ]
     },
     "metadata": {},
     "output_type": "display_data"
    }
   ],
   "source": [
    "dem_votes_potus_12_16 = read_feather_fun('datasets','dem_votes_potus_12_16', dir)\n",
    "display(dem_votes_potus_12_16.head(2))"
   ]
  },
  {
   "cell_type": "code",
   "execution_count": 4,
   "metadata": {},
   "outputs": [
    {
     "data": {
      "text/html": [
       "<div>\n",
       "<style scoped>\n",
       "    .dataframe tbody tr th:only-of-type {\n",
       "        vertical-align: middle;\n",
       "    }\n",
       "\n",
       "    .dataframe tbody tr th {\n",
       "        vertical-align: top;\n",
       "    }\n",
       "\n",
       "    .dataframe thead th {\n",
       "        text-align: right;\n",
       "    }\n",
       "</style>\n",
       "<table border=\"1\" class=\"dataframe\">\n",
       "  <thead>\n",
       "    <tr style=\"text-align: right;\">\n",
       "      <th></th>\n",
       "      <th>id</th>\n",
       "      <th>country</th>\n",
       "      <th>managed_by</th>\n",
       "      <th>fulfill_via</th>\n",
       "      <th>vendor_inco_term</th>\n",
       "      <th>shipment_mode</th>\n",
       "      <th>late_delivery</th>\n",
       "      <th>late</th>\n",
       "      <th>product_group</th>\n",
       "      <th>sub_classification</th>\n",
       "      <th>...</th>\n",
       "      <th>line_item_quantity</th>\n",
       "      <th>line_item_value</th>\n",
       "      <th>pack_price</th>\n",
       "      <th>unit_price</th>\n",
       "      <th>manufacturing_site</th>\n",
       "      <th>first_line_designation</th>\n",
       "      <th>weight_kilograms</th>\n",
       "      <th>freight_cost_usd</th>\n",
       "      <th>freight_cost_groups</th>\n",
       "      <th>line_item_insurance_usd</th>\n",
       "    </tr>\n",
       "  </thead>\n",
       "  <tbody>\n",
       "    <tr>\n",
       "      <th>0</th>\n",
       "      <td>36203.0</td>\n",
       "      <td>Nigeria</td>\n",
       "      <td>PMO - US</td>\n",
       "      <td>Direct Drop</td>\n",
       "      <td>EXW</td>\n",
       "      <td>Air</td>\n",
       "      <td>1.0</td>\n",
       "      <td>Yes</td>\n",
       "      <td>HRDT</td>\n",
       "      <td>HIV test</td>\n",
       "      <td>...</td>\n",
       "      <td>2996.0</td>\n",
       "      <td>266644.0</td>\n",
       "      <td>89.0</td>\n",
       "      <td>0.89</td>\n",
       "      <td>Alere Medical Co., Ltd.</td>\n",
       "      <td>Yes</td>\n",
       "      <td>1426.0</td>\n",
       "      <td>33279.83</td>\n",
       "      <td>expensive</td>\n",
       "      <td>373.83</td>\n",
       "    </tr>\n",
       "    <tr>\n",
       "      <th>1</th>\n",
       "      <td>30998.0</td>\n",
       "      <td>Botswana</td>\n",
       "      <td>PMO - US</td>\n",
       "      <td>Direct Drop</td>\n",
       "      <td>EXW</td>\n",
       "      <td>Air</td>\n",
       "      <td>0.0</td>\n",
       "      <td>No</td>\n",
       "      <td>HRDT</td>\n",
       "      <td>HIV test</td>\n",
       "      <td>...</td>\n",
       "      <td>25.0</td>\n",
       "      <td>800.0</td>\n",
       "      <td>32.0</td>\n",
       "      <td>1.60</td>\n",
       "      <td>Trinity Biotech, Plc</td>\n",
       "      <td>Yes</td>\n",
       "      <td>10.0</td>\n",
       "      <td>559.89</td>\n",
       "      <td>reasonable</td>\n",
       "      <td>1.72</td>\n",
       "    </tr>\n",
       "  </tbody>\n",
       "</table>\n",
       "<p>2 rows × 27 columns</p>\n",
       "</div>"
      ],
      "text/plain": [
       "        id   country managed_by  fulfill_via vendor_inco_term shipment_mode  \\\n",
       "0  36203.0   Nigeria   PMO - US  Direct Drop              EXW           Air   \n",
       "1  30998.0  Botswana   PMO - US  Direct Drop              EXW           Air   \n",
       "\n",
       "   late_delivery late product_group sub_classification  ...  \\\n",
       "0            1.0  Yes          HRDT           HIV test  ...   \n",
       "1            0.0   No          HRDT           HIV test  ...   \n",
       "\n",
       "  line_item_quantity line_item_value pack_price unit_price  \\\n",
       "0             2996.0        266644.0       89.0       0.89   \n",
       "1               25.0           800.0       32.0       1.60   \n",
       "\n",
       "        manufacturing_site first_line_designation  weight_kilograms  \\\n",
       "0  Alere Medical Co., Ltd.                    Yes            1426.0   \n",
       "1     Trinity Biotech, Plc                    Yes              10.0   \n",
       "\n",
       "   freight_cost_usd  freight_cost_groups  line_item_insurance_usd  \n",
       "0          33279.83            expensive                   373.83  \n",
       "1            559.89           reasonable                     1.72  \n",
       "\n",
       "[2 rows x 27 columns]"
      ]
     },
     "metadata": {},
     "output_type": "display_data"
    }
   ],
   "source": [
    "late_shipments = read_feather_fun('datasets','late_shipments', dir)\n",
    "display(late_shipments.head(2))"
   ]
  },
  {
   "cell_type": "code",
   "execution_count": 5,
   "metadata": {},
   "outputs": [
    {
     "data": {
      "text/html": [
       "<div>\n",
       "<style scoped>\n",
       "    .dataframe tbody tr th:only-of-type {\n",
       "        vertical-align: middle;\n",
       "    }\n",
       "\n",
       "    .dataframe tbody tr th {\n",
       "        vertical-align: top;\n",
       "    }\n",
       "\n",
       "    .dataframe thead th {\n",
       "        text-align: right;\n",
       "    }\n",
       "</style>\n",
       "<table border=\"1\" class=\"dataframe\">\n",
       "  <thead>\n",
       "    <tr style=\"text-align: right;\">\n",
       "      <th></th>\n",
       "      <th>state</th>\n",
       "      <th>county</th>\n",
       "      <th>repub_percent_08</th>\n",
       "      <th>repub_percent_12</th>\n",
       "    </tr>\n",
       "  </thead>\n",
       "  <tbody>\n",
       "    <tr>\n",
       "      <th>0</th>\n",
       "      <td>Alabama</td>\n",
       "      <td>Hale</td>\n",
       "      <td>38.957877</td>\n",
       "      <td>37.139882</td>\n",
       "    </tr>\n",
       "    <tr>\n",
       "      <th>1</th>\n",
       "      <td>Arkansas</td>\n",
       "      <td>Nevada</td>\n",
       "      <td>56.726272</td>\n",
       "      <td>58.983452</td>\n",
       "    </tr>\n",
       "  </tbody>\n",
       "</table>\n",
       "</div>"
      ],
      "text/plain": [
       "      state  county  repub_percent_08  repub_percent_12\n",
       "0   Alabama    Hale         38.957877         37.139882\n",
       "1  Arkansas  Nevada         56.726272         58.983452"
      ]
     },
     "metadata": {},
     "output_type": "display_data"
    }
   ],
   "source": [
    "repub_votes_potus_08_12 = read_feather_fun('datasets','repub_votes_potus_08_12', dir)\n",
    "display(repub_votes_potus_08_12.head(2))"
   ]
  },
  {
   "attachments": {},
   "cell_type": "markdown",
   "metadata": {},
   "source": [
    "## **Hypothesis Testing Fundamentals (Module 01-054)**"
   ]
  },
  {
   "attachments": {},
   "cell_type": "markdown",
   "metadata": {},
   "source": [
    "#### **Hypothesis tests and z-scores**\n",
    "\n",
    "1. A/B testing\n",
    "In 2013, Electronic Arts (EA) released SimCity 5\n",
    "    They wanted to increase pre-orders of the\n",
    "    game\n",
    "    They used A/B testing to test different\n",
    "    advertising scenarios\n",
    "    This involves splitting users into control and\n",
    "    treatment groups\n",
    "\n",
    "A/B test results\n",
    "The treatment group (no ad) got 43.4% more purchases than the control group (with ad)\n",
    "    Intuition that \"showing an ad would increase sales\" was false\n",
    "    Was this result statistically significant or just chance?\n",
    "    Need EA's data to determine this\n",
    "    Techniques from Sampling in Python + this course to do so\n",
    "\n",
    "2. Stack Overflow Developer Survey 2020\n",
    "\n",
    "import pandas as pd\n",
    "print(stack_overflow)\n",
    "\n",
    "3. Hypothesizing about the mean\n",
    "\n",
    "A hypothesis:\n",
    "The mean annual compensation of the population of data scientists is $110,000\n",
    "The point estimate (sample statistic):\n",
    "mean_comp_samp = stack_overflow['converted_comp'].mean()\n",
    "\n",
    "4. Generating a bootstrap distribution\n",
    "\n",
    "import numpy as np\n",
    "# Step 3. Repeat steps 1 & 2 many times, appending to a list\n",
    "so_boot_distn = []\n",
    "for i in range(5000):\n",
    "    so_boot_distn.append(\n",
    "    # Step 2. Calculate point estimate\n",
    "        np.mean(\n",
    "            # Step 1. Resample\n",
    "            stack_overflow.sample(frac=1, replace=True)['converted_comp']\n",
    "        )\n",
    ")\n",
    "\n",
    "5. Visualizing the bootstrap distribution\n",
    "\n",
    "import matplotlib.pyplot as plt\n",
    "plt.hist(so_boot_distn, bins=50)\n",
    "plt.show()\n",
    "\n",
    "6. Standard error\n",
    "\n",
    "std_error = np.std(so_boot_distn, ddof=1)\n",
    "\n",
    "7. z-scores\n",
    "\n",
    "standardized value = (value)-(mean) / (standard deviation)\n",
    "\n",
    "z = (sample stat)-(hypoth.param.value) / (standard error)\n",
    "\n",
    "stack_overflow['converted_comp'].mean()\n",
    "\n",
    "mean_comp_hyp = 110000\n",
    "\n",
    "z_score = (mean_comp_samp - mean_comp_hyp) / std_error\n",
    "\n",
    "8. Testing the hypothesis\n",
    "\n",
    "Is 1.707 a high or low number?\n",
    "This is the goal of the course!\n",
    "Hypothesis testing use case:\n",
    "Determine whether sample statistics are close to or far \n",
    "away from expected (or\"hypothesized\" values)\n",
    "\n",
    "9. Standard normal (z) distribution\n",
    "\n",
    "Standard normal distribution: normal distribution with mean = 0 + standard deviation = 1"
   ]
  },
  {
   "cell_type": "code",
   "execution_count": 6,
   "metadata": {},
   "outputs": [
    {
     "name": "stdout",
     "output_type": "stream",
     "text": [
      "119574.71738168952\n"
     ]
    },
    {
     "data": {
      "image/png": "[encoded data removed]",
      "text/plain": [
       "<Figure size 640x480 with 1 Axes>"
      ]
     },
     "metadata": {},
     "output_type": "display_data"
    },
    {
     "name": "stdout",
     "output_type": "stream",
     "text": [
      "5566.086971707613\n"
     ]
    }
   ],
   "source": [
    "# A hypothesis:\n",
    "# The mean annual compensation of the population of data scientists is $110,000\n",
    "# The point estimate (sample statistic):\n",
    "\n",
    "mean_comp_samp = stack_overflow['converted_comp'].mean()\n",
    "print(mean_comp_samp)\n",
    "\n",
    "import numpy as np\n",
    "# Step 3. Repeat steps 1 & 2 many times, appending to a list\n",
    "so_boot_distn = []\n",
    "for i in range(5000):\n",
    "    so_boot_distn.append(\n",
    "    # Step 2. Calculate point estimate\n",
    "        np.mean(\n",
    "            # Step 1. Resample\n",
    "            stack_overflow.sample(frac=1, replace=True)['converted_comp']\n",
    "        )\n",
    ")\n",
    "\n",
    "import matplotlib.pyplot as plt\n",
    "plt.hist(so_boot_distn, bins=50)\n",
    "plt.show()\n",
    "\n",
    "std_error = np.std(so_boot_distn, ddof=1)\n",
    "print(std_error)"
   ]
  },
  {
   "cell_type": "code",
   "execution_count": 7,
   "metadata": {},
   "outputs": [
    {
     "name": "stdout",
     "output_type": "stream",
     "text": [
      "119574.71738168952\n",
      "1.7201882454150923\n"
     ]
    }
   ],
   "source": [
    "print(stack_overflow['converted_comp'].mean())\n",
    "\n",
    "mean_comp_hyp = 110000\n",
    "\n",
    "z_score = (mean_comp_samp - mean_comp_hyp) / std_error\n",
    "\n",
    "print(z_score)\n"
   ]
  },
  {
   "cell_type": "markdown",
   "metadata": {},
   "source": [
    "Calculating the sample mean\n",
    "The late_shipments dataset contains supply chain data on the delivery of medical supplies. Each row represents one delivery of a part. The late columns denotes whether or not the part was delivered late. A value of \"Yes\" means that the part was delivered late, and a value of \"No\" means the part was delivered on time.\n",
    "\n",
    "You'll begin your analysis by calculating a point estimate (or sample statistic), namely the proportion of late shipments.\n",
    "\n",
    "In pandas, a value's proportion in a categorical DataFrame column can be quickly calculated using the syntax:\n",
    "\n",
    "prop = (df['col'] == val).mean()\n",
    "late_shipments is available, and pandas is loaded as pd."
   ]
  },
  {
   "cell_type": "code",
   "execution_count": 8,
   "metadata": {},
   "outputs": [
    {
     "name": "stdout",
     "output_type": "stream",
     "text": [
      "          id       country managed_by  fulfill_via vendor_inco_term  \\\n",
      "0    36203.0       Nigeria   PMO - US  Direct Drop              EXW   \n",
      "1    30998.0      Botswana   PMO - US  Direct Drop              EXW   \n",
      "2    69871.0       Vietnam   PMO - US  Direct Drop              EXW   \n",
      "3    17648.0  South Africa   PMO - US  Direct Drop              DDP   \n",
      "4     5647.0        Uganda   PMO - US  Direct Drop              EXW   \n",
      "..       ...           ...        ...          ...              ...   \n",
      "995  13608.0        Uganda   PMO - US  Direct Drop              DDP   \n",
      "996  80394.0    Congo, DRC   PMO - US  Direct Drop              EXW   \n",
      "997  61675.0        Zambia   PMO - US  Direct Drop              EXW   \n",
      "998  39182.0  South Africa   PMO - US  Direct Drop              DDP   \n",
      "999   5645.0      Botswana   PMO - US  Direct Drop              EXW   \n",
      "\n",
      "    shipment_mode  late_delivery late product_group    sub_classification  \\\n",
      "0             Air            1.0  Yes          HRDT              HIV test   \n",
      "1             Air            0.0   No          HRDT              HIV test   \n",
      "2             Air            0.0   No           ARV                 Adult   \n",
      "3           Ocean            0.0   No           ARV                 Adult   \n",
      "4             Air            0.0   No          HRDT  HIV test - Ancillary   \n",
      "..            ...            ...  ...           ...                   ...   \n",
      "995           Air            0.0   No           ARV                 Adult   \n",
      "996           Air            0.0   No          HRDT              HIV test   \n",
      "997           Air            1.0  Yes          HRDT              HIV test   \n",
      "998         Ocean            0.0   No           ARV                 Adult   \n",
      "999           Air            0.0   No          HRDT              HIV test   \n",
      "\n",
      "     ... line_item_quantity line_item_value pack_price unit_price  \\\n",
      "0    ...             2996.0       266644.00      89.00       0.89   \n",
      "1    ...               25.0          800.00      32.00       1.60   \n",
      "2    ...            22925.0       110040.00       4.80       0.08   \n",
      "3    ...           152535.0       361507.95       2.37       0.04   \n",
      "4    ...              850.0            8.50       0.01       0.00   \n",
      "..   ...                ...             ...        ...        ...   \n",
      "995  ...              121.0         9075.00      75.00       0.62   \n",
      "996  ...              292.0         9344.00      32.00       1.60   \n",
      "997  ...             2127.0       170160.00      80.00       0.80   \n",
      "998  ...           191011.0       861459.61       4.51       0.15   \n",
      "999  ...              200.0        14398.00      71.99       0.72   \n",
      "\n",
      "               manufacturing_site first_line_designation  weight_kilograms  \\\n",
      "0         Alere Medical Co., Ltd.                    Yes            1426.0   \n",
      "1            Trinity Biotech, Plc                    Yes              10.0   \n",
      "2    Hetero Unit III Hyderabad IN                    Yes            3723.0   \n",
      "3       Aurobindo Unit III, India                    Yes            7698.0   \n",
      "4                 Inverness Japan                    Yes              56.0   \n",
      "..                            ...                    ...               ...   \n",
      "995     Janssen-Cilag, Latina, IT                    Yes              43.0   \n",
      "996          Trinity Biotech, Plc                    Yes              99.0   \n",
      "997       Alere Medical Co., Ltd.                    Yes             881.0   \n",
      "998     Aurobindo Unit III, India                    Yes           16234.0   \n",
      "999               Inverness Japan                    Yes              46.0   \n",
      "\n",
      "     freight_cost_usd  freight_cost_groups  line_item_insurance_usd  \n",
      "0            33279.83            expensive                   373.83  \n",
      "1              559.89           reasonable                     1.72  \n",
      "2            19056.13            expensive                   181.57  \n",
      "3            11372.23            expensive                   779.41  \n",
      "4              360.00           reasonable                     0.01  \n",
      "..                ...                  ...                      ...  \n",
      "995            199.00           reasonable                    12.72  \n",
      "996           2162.55           reasonable                    13.10  \n",
      "997          14019.38            expensive                   210.49  \n",
      "998          14439.17            expensive                  1421.41  \n",
      "999           1028.18           reasonable                    23.04  \n",
      "\n",
      "[1000 rows x 27 columns]\n",
      "0.061\n"
     ]
    }
   ],
   "source": [
    "# Print the late_shipments dataset\n",
    "print(late_shipments)\n",
    "\n",
    "# Calculate the proportion of late shipments\n",
    "late_prop_samp = (late_shipments['late'] == \"Yes\").mean()\n",
    "\n",
    "# Print the results\n",
    "print(late_prop_samp)"
   ]
  },
  {
   "cell_type": "markdown",
   "metadata": {},
   "source": [
    "Calculating a z-score\n",
    "Since variables have arbitrary ranges and units, we need to standardize them. For example, a hypothesis test that gave different answers if the variables were in Euros instead of US dollars would be of little value. Standardization avoids that.\n",
    "\n",
    "One standardized value of interest in a hypothesis test is called a z-score. To calculate it, you need three numbers: the sample statistic (point estimate), the hypothesized statistic, and the standard error of the statistic (estimated from the bootstrap distribution).\n",
    "\n",
    "The sample statistic is available as late_prop_samp.\n",
    "\n",
    "late_shipments_boot_distn is a bootstrap distribution of the proportion of late shipments, available as a list.\n",
    "\n",
    "pandas and numpy are loaded with their usual aliases."
   ]
  },
  {
   "cell_type": "code",
   "execution_count": 9,
   "metadata": {},
   "outputs": [
    {
     "data": {
      "image/png": "[encoded data removed]",
      "text/plain": [
       "<Figure size 640x480 with 1 Axes>"
      ]
     },
     "metadata": {},
     "output_type": "display_data"
    }
   ],
   "source": [
    "late_shipments['is_late'] = late_shipments['late'].apply(\n",
    "    lambda x: 1 if x == 'Yes' else 0\n",
    ")\n",
    "\n",
    "late_shipments_boot_distn = []\n",
    "for i in range(5000):\n",
    "    late_shipments_boot_distn.append(\n",
    "    # Step 2. Calculate point estimate\n",
    "        np.mean(\n",
    "            # Step 1. Resample\n",
    "            late_shipments.sample(frac=1, replace=True)['is_late']\n",
    "        )\n",
    ")\n",
    "\n",
    "import matplotlib.pyplot as plt\n",
    "plt.hist(late_shipments_boot_distn, bins=25)\n",
    "plt.show()"
   ]
  },
  {
   "cell_type": "code",
   "execution_count": 10,
   "metadata": {},
   "outputs": [
    {
     "name": "stdout",
     "output_type": "stream",
     "text": [
      "0.13230692527385363\n"
     ]
    }
   ],
   "source": [
    "# Hypothesize that the proportion is 6%\n",
    "late_prop_hyp = 0.06\n",
    "\n",
    "# Calculate the standard error\n",
    "std_error = np.std(late_shipments_boot_distn, ddof=1)\n",
    "\n",
    "# Find z-score of late_prop_samp\n",
    "z_score = (late_prop_samp - late_prop_hyp) / std_error\n",
    "\n",
    "\n",
    "# Print z_score\n",
    "print(z_score)"
   ]
  },
  {
   "attachments": {},
   "cell_type": "markdown",
   "metadata": {},
   "source": [
    "#### **p-values**\n",
    "\n",
    "1. Criminal trials\n",
    "\n",
    "Two possible true states:\n",
    "        1. Defendant committed the crime\n",
    "        2. Defendant did not commit the crime\n",
    "Two possible verdicts:\n",
    "        1. Guilty\n",
    "        2. Not guilty\n",
    "    Initially the defendant is assumed to be not guilty\n",
    "    \n",
    "2. Age of first programming experience\n",
    "\n",
    "age_first_code_cut classifies when Stack Overflow user first started programming\n",
    "    \"adult\" means they started at 14 or older\n",
    "    \"child\" means they started before 14\n",
    "Previous research: 35% of software developers started programming as children\n",
    "Evidence that a greater proportion of data scientists starting programming as children?\n",
    "\n",
    "3. Definitions\n",
    "\n",
    "A hypothesis is a statement about an unknown population parameter\n",
    "A hypothesis test is a test of two competing hypotheses\n",
    "The null hypothesis (H0 ) is the existing idea\n",
    "The alternative hypothesis (Ha ) is the new \"challenger\" idea of the researcher\n",
    "For our problem:\n",
    "H0 : The proportion of data scientists starting programming as children is 35%\n",
    "Ha : The proportion of data scientists starting programming as children is greater than 35%\n",
    "\n",
    "4. Criminal trials vs. hypothesis testing\n",
    "\n",
    "Either Ha or H0 is true (not both)\n",
    "Initially, H0 is assumed to be true\n",
    "The test ends in either \"reject H0 \" or \"fail to reject H0 \"\n",
    "If the evidence from the sample is \"significant\" that Ha is true, reject H0 , else choose H0\n",
    "Significance level is \"beyond a reasonable doubt\" for hypothesis testing\n",
    "\n",
    "5. One-tailed and two-tailed tests\n",
    "\n",
    "Hypothesis tests check if the sample statistics\n",
    "lie in the tails of the null distribution\n",
    "\n",
    "Test                                            Tails\n",
    "alternative different from null             two-tailed\n",
    "alternative greater than null               right-tailed\n",
    "alternative less than null                  left-tailed\n",
    "\n",
    "Ha : The proportion of data scientists starting\n",
    "programming as children is greater than 35%\n",
    "This is a right-tailed test\n",
    "\n",
    "p-values: probability of obtaining a result,\n",
    "assuming the null hypothesis is true\n",
    "\n",
    "Large p-value, large support for H0\n",
    "Statistic likely not in the tail of the null\n",
    "distribution\n",
    "\n",
    "Small p-value, strong evidence against H0\n",
    "Statistic likely in the tail of the null\n",
    "distribution\n",
    "\n",
    "\"p\" in p-value → probability\n",
    "\"small\" means \"close to zero\"\n",
    "\n",
    "6. Calculating the z-score\n",
    "\n",
    "prop_child_samp = (stack_overflow['age_first_code_cut'] == \"child\").mean()\n",
    "\n",
    "prop_child_hyp = 0.35\n",
    "\n",
    "std_error = np.std(first_code_boot_distn, ddof=1)\n",
    "\n",
    "z_score = (prop_child_samp - prop_child_hyp) / std_error\n",
    "\n",
    "7. Calculating the p-value\n",
    "\n",
    "norm.cdf() is normal CDF from scipy.stats .\n",
    "Left-tailed test → use norm.cdf() .\n",
    "Right-tailed test → use 1 - norm.cdf() .\n",
    "\n",
    "from scipy.stats import norm\n",
    "1 - norm.cdf(z_score, loc=0, scale=1)"
   ]
  },
  {
   "cell_type": "code",
   "execution_count": 11,
   "metadata": {},
   "outputs": [
    {
     "name": "stdout",
     "output_type": "stream",
     "text": [
      "0.35\n",
      "0.010060222490530131\n",
      "4.11717790774906\n",
      "1.917700003284395e-05\n"
     ]
    }
   ],
   "source": [
    "stack_overflow['is_child'] = stack_overflow['age_first_code_cut'].apply(\n",
    "    lambda x: 1 if x == 'child' else 0\n",
    ")\n",
    "\n",
    "first_code_boot_distn = []\n",
    "for i in range(5000):\n",
    "    first_code_boot_distn.append(\n",
    "    # Step 2. Calculate point estimate\n",
    "        np.mean(\n",
    "            # Step 1. Resample\n",
    "            stack_overflow.sample(frac=1, replace=True)['is_child']\n",
    "        )\n",
    ")\n",
    "\n",
    "prop_child_samp = (stack_overflow['age_first_code_cut'] == \"child\").mean()\n",
    "\n",
    "prop_child_hyp = 0.35\n",
    "\n",
    "std_error = np.std(first_code_boot_distn, ddof=1)\n",
    "\n",
    "z_score = (prop_child_samp - prop_child_hyp) / std_error\n",
    "\n",
    "print(prop_child_hyp)\n",
    "print(std_error)\n",
    "print(z_score)\n",
    "\n",
    "from scipy.stats import norm\n",
    "p_value = 1 - norm.cdf(z_score, loc=0, scale=1)\n",
    "print(p_value)"
   ]
  },
  {
   "cell_type": "markdown",
   "metadata": {},
   "source": [
    "Calculating p-values\n",
    "In order to determine whether to choose the null hypothesis or the alternative hypothesis, you need to calculate a p-value from the z-score.\n",
    "\n",
    "You'll now return to the late shipments dataset and the proportion of late shipments.\n",
    "\n",
    "The null hypothesis, \n",
    ", is that the proportion of late shipments is six percent.\n",
    "\n",
    "The alternative hypothesis, \n",
    ", is that the proportion of late shipments is greater than six percent.\n",
    "\n",
    "The observed sample statistic, late_prop_samp, the hypothesized value, late_prop_hyp (6%), and the bootstrap standard error, std_error are available. norm from scipy.stats has also been loaded without an alias."
   ]
  },
  {
   "cell_type": "code",
   "execution_count": 12,
   "metadata": {},
   "outputs": [
    {
     "name": "stdout",
     "output_type": "stream",
     "text": [
      "0.46040979350255684\n"
     ]
    }
   ],
   "source": [
    "# Calculate the z-score of late_prop_samp\n",
    "z_score = (late_prop_samp - late_prop_hyp) / std_error\n",
    "\n",
    "# Calculate the p-value\n",
    "p_value = 1 - norm.cdf(z_score, loc=0, scale=1)\n",
    "                 \n",
    "# Print the p-value\n",
    "print(p_value) \n"
   ]
  },
  {
   "cell_type": "markdown",
   "metadata": {},
   "source": [
    "#### **Statistical significance**\n",
    "\n",
    "1. p-value recap\n",
    "p-values quantify evidence for the null hypothesis\n",
    "Large p-value → fail to reject null hypothesis\n",
    "Small p-value → reject null hypothesis\n",
    "Where is the cutoff point?\n",
    "\n",
    "2. Significance level\n",
    "The significance level of a hypothesis test (α) is the threshold point for \"beyond a\n",
    "reasonable doubt\"\n",
    "Common values of α are 0.2 , 0.1 , 0.05 , and 0.01\n",
    "If p ≤ α, reject H , else fail to reject H\n",
    "α should be set prior to conducting the hypothesis test\n",
    "\n",
    "3. Calculating the p-value\n",
    "alpha = 0.05\n",
    "prop_child_samp = (stack_overflow['age_first_code_cut'] == \"child\").mean()\n",
    "prop_child_hyp = 0.35\n",
    "std_error = np.std(first_code_boot_distn, ddof=1)\n",
    "z_score = (prop_child_samp - prop_child_hyp) / std_error\n",
    "p_value = 1 - norm.cdf(z_score, loc=0, scale=1)\n",
    "\n",
    "4. Making a decision\n",
    "\n",
    "alpha = 0.05\n",
    "print(p_value)\n",
    "3.1471479512323874e-05\n",
    "p_value <= alpha\n",
    "True\n",
    "Reject H0 in favor of HA\n",
    "\n",
    "5. Confidence intervals\n",
    "\n",
    "For a significance level of α, it's common to choose a confidence interval level of 1 - α\n",
    "α = 0.05 → 95% confidence interval\n",
    "import numpy as np\n",
    "lower = np.quantile(first_code_boot_distn, 0.025)\n",
    "upper = np.quantile(first_code_boot_distn, 0.975)\n",
    "print((lower, upper))\n",
    "(0.37063246351172047, 0.41132242370632466)\n",
    "\n",
    "6. Types of errors\n",
    "\n",
    "                        Truly didn't commit crime       Truly committed crime\n",
    "Verdict not guilty      correct                         they got away with it\n",
    "Verdict guilty          wrongful conviction             correct\n",
    "\n",
    "\n",
    "                        actual H0                        actual Ha\n",
    "chosen H0               correct                         false negative\n",
    "chosen Ha               false                           positive correct\n",
    "\n",
    "False positives are Type I errors; false negatives are Type II errors.\n",
    "\n",
    "7. Possible errors in our example\n",
    "\n",
    "If p ≤ α, we reject H :\n",
    "    A false positive (Type I) error: data scientists didn't start coding as children at a higher rate\n",
    "If p > α, we fail to reject H :\n",
    "    A false negative (Type II) error: data scientists started coding as children at a higher rate\n",
    "\n",
    "\n",
    "    If the null hypothesis is true and you rejected it, you've committed a type I error."
   ]
  },
  {
   "cell_type": "code",
   "execution_count": 13,
   "metadata": {},
   "outputs": [
    {
     "name": "stdout",
     "output_type": "stream",
     "text": [
      "1.917700003284395e-05\n",
      "True\n"
     ]
    }
   ],
   "source": [
    "alpha = 0.05\n",
    "prop_child_samp = (stack_overflow['age_first_code_cut'] == \"child\").mean()\n",
    "prop_child_hyp = 0.35\n",
    "std_error = np.std(first_code_boot_distn, ddof=1)\n",
    "z_score = (prop_child_samp - prop_child_hyp) / std_error\n",
    "p_value = 1 - norm.cdf(z_score, loc=0, scale=1)\n",
    "\n",
    "print(p_value) \n",
    "\n",
    "print(p_value <= alpha)\n",
    "## Reject H0 in favor of HA"
   ]
  },
  {
   "cell_type": "code",
   "execution_count": 14,
   "metadata": {},
   "outputs": [
    {
     "name": "stdout",
     "output_type": "stream",
     "text": [
      "(0.37195931003980537, 0.4117647058823529)\n"
     ]
    }
   ],
   "source": [
    "import numpy as np\n",
    "lower = np.quantile(first_code_boot_distn, 0.025)\n",
    "upper = np.quantile(first_code_boot_distn, 0.975)\n",
    "print((lower, upper))"
   ]
  },
  {
   "cell_type": "markdown",
   "metadata": {},
   "source": [
    "Calculating a confidence interval\n",
    "If you give a single estimate of a sample statistic, you are bound to be wrong by some amount. For example, the hypothesized proportion of late shipments was 6%. Even if evidence suggests the null hypothesis that the proportion of late shipments is equal to this, for any new sample of shipments, the proportion is likely to be a little different due to sampling variability. Consequently, it's a good idea to state a confidence interval. That is, you say, \"we are 95% 'confident' that the proportion of late shipments is between A and B\" (for some value of A and B).\n",
    "\n",
    "Sampling in Python demonstrated two methods for calculating confidence intervals. Here, you'll use quantiles of the bootstrap distribution to calculate the confidence interval.\n",
    "\n",
    "late_prop_samp and late_shipments_boot_distn are available; pandas and numpy are loaded with their usual aliases."
   ]
  },
  {
   "cell_type": "code",
   "execution_count": 15,
   "metadata": {},
   "outputs": [
    {
     "name": "stdout",
     "output_type": "stream",
     "text": [
      "(0.047, 0.076)\n"
     ]
    }
   ],
   "source": [
    "# Calculate 95% confidence interval using quantile method\n",
    "lower = np.quantile(late_shipments_boot_distn, 0.025)\n",
    "upper = np.quantile(late_shipments_boot_distn, 0.975)\n",
    "\n",
    "# Print the confidence interval\n",
    "print((lower, upper))"
   ]
  },
  {
   "cell_type": "markdown",
   "metadata": {},
   "source": [
    "### complementary\n",
    "\n",
    "https://www.youtube.com/watch?v=bJm2pt-mq2c\n",
    "\n",
    "https://www.youtube.com/watch?v=1g3pCE_B12E&t=4s\n",
    "\n",
    "https://www.youtube.com/watch?v=6XPPmv9HXJw\n",
    "\n",
    "https://www.youtube.com/watch?v=DlwOTOydeyk"
   ]
  },
  {
   "attachments": {},
   "cell_type": "markdown",
   "metadata": {},
   "source": [
    "## **Two-Sample and ANOVA Tests (Module 02-054)**"
   ]
  },
  {
   "attachments": {},
   "cell_type": "markdown",
   "metadata": {},
   "source": [
    "#### **Performing t-tests**\n",
    "\n",
    "https://www.youtube.com/watch?v=VekJxtk4BYM\n",
    "\n",
    "1. Two-sample problems\n",
    "Compare sample statistics across groups of a variable\n",
    "converted_comp is a numerical variable\n",
    "age_first_code_cut is a categorical variable with levels ( \"child\" and \"adult\" )\n",
    "Are users who first programmed as a child compensated higher than those that started as\n",
    "adults?\n",
    "\n",
    "2. Hypotheses\n",
    "\n",
    "H0 : The mean compensation (in USD) is the same for those that coded first as a child and those that coded first as an adult.\n",
    "Ho : μchild = μadult\n",
    "H : μchild − μadult = 0\n",
    "\n",
    "Ha : The mean compensation (in USD) is greater for those that coded first as a child compared to those that coded first as an adult.\n",
    "Ha : μchild > μadult\n",
    "Ha : μchild − μadult > 0\n",
    "\n",
    "3. Calculating groupwise summary statistics\n",
    "\n",
    "stack_overflow.groupby('age_first_code_cut')['converted_comp'].mean()\n",
    "age_first_code_cut\n",
    "adult 111313.311047\n",
    "child 132419.570621\n",
    "Name: converted_comp, dtype: float64\n",
    "\n",
    "4. Test statistics\n",
    "\n",
    "Sample mean estimates the population mean\n",
    "xbar - a sample mean\n",
    "xbar_child - sample mean compensation for coding first as a child\n",
    "xbar_adult - sample mean compensation for coding first as an adult\n",
    "xbar_child − xbar_adult - a test statistic\n",
    "z-score - a (standardized) test statistic\n",
    "\n",
    "5. Standardizing the test statistic\n",
    "z = sample stat − population parameter / standard error\n",
    "t = difference in sample stats − difference in population parameters / standard error\n",
    "t = (xbar_child − xbar_adult) - (μchild − μadult) /SE(x¯child − x¯adult)\n",
    "\n",
    "SE(x¯child − x¯adult) ≈ √(schild^2/nchild) + (sadult^2/nadult)\n",
    "\n",
    "s is the standard deviation of the variable\n",
    "n is the sample size (number of observations/rows in sample)\n",
    "\n",
    "if H0 : μchild − μadult = 0 -- asumiendo la hipotesis nula verdadera\n",
    "\n",
    "t = (xbar_child − xbar_adult) - 0 /SE(x¯child − x¯adult)\n",
    "\n",
    "t = (xbar_child − xbar_adult) / √(schild^2/nchild) + (sadult^2/nadult)\n",
    "\n",
    "6. Calculations assuming the null hypothesis is true\n",
    "\n",
    "xbar = stack_overflow.groupby('age_first_code_cut')['converted_comp'].mean()\n",
    "adult 111313.311047\n",
    "child 132419.570621\n",
    "Name: converted_comp, dtype: float64 age_first_code_cut\n",
    "s = stack_overflow.groupby('age_first_code_cut')['converted_comp'].std()\n",
    "adult 271546.521729\n",
    "child 255585.240115\n",
    "Name: converted_comp, dtype: float64 age_first_code_cut\n",
    "n = stack_overflow.groupby('age_first_code_cut')['converted_comp'].count()\n",
    "adult 1376\n",
    "child 885\n",
    "Name: converted_comp, dtype: int64\n",
    "\n",
    "7. Calculating the test statistic\n",
    "\n",
    "t = (xbar_child − xbar_adult) / √(schild^2/nchild) + (sadult^2/nadult)\n",
    "\n",
    "import numpy as np\n",
    "numerator = xbar_child - xbar_adult\n",
    "denominator = np.sqrt(s_child ** 2 / n_child + s_adult ** 2 / n_adult)\n",
    "t_stat = numerator / denominator\n",
    "\n",
    "1.8699313316221844"
   ]
  },
  {
   "cell_type": "code",
   "execution_count": 16,
   "metadata": {},
   "outputs": [
    {
     "name": "stdout",
     "output_type": "stream",
     "text": [
      "age_first_code_cut\n",
      "adult    111313.311047\n",
      "child    132419.570621\n",
      "Name: converted_comp, dtype: float64\n",
      "age_first_code_cut\n",
      "adult    271546.521729\n",
      "child    255585.240115\n",
      "Name: converted_comp, dtype: float64\n",
      "age_first_code_cut\n",
      "adult    1376\n",
      "child     885\n",
      "Name: converted_comp, dtype: int64\n"
     ]
    }
   ],
   "source": [
    "xbar = stack_overflow.groupby('age_first_code_cut')['converted_comp'].mean()\n",
    "print(xbar)\n",
    "\n",
    "s = stack_overflow.groupby('age_first_code_cut')['converted_comp'].std()\n",
    "print(s)\n",
    "\n",
    "n = stack_overflow.groupby('age_first_code_cut')['converted_comp'].count()\n",
    "print(n)"
   ]
  },
  {
   "cell_type": "code",
   "execution_count": 17,
   "metadata": {},
   "outputs": [
    {
     "name": "stdout",
     "output_type": "stream",
     "text": [
      "1.8699313316221844\n"
     ]
    }
   ],
   "source": [
    "xbar_adult = xbar.iloc[0]\n",
    "xbar_child = xbar.iloc[1]\n",
    "\n",
    "s_adult = s.iloc[0]\n",
    "s_child = s.iloc[1]\n",
    "\n",
    "n_adult = n.iloc[0]\n",
    "n_child = n.iloc[1]\n",
    "\n",
    "import numpy as np\n",
    "numerator = xbar_child - xbar_adult\n",
    "denominator = np.sqrt(s_child ** 2 / n_child + s_adult ** 2 / n_adult)\n",
    "t_stat = numerator / denominator\n",
    "\n",
    "print(t_stat)"
   ]
  },
  {
   "cell_type": "markdown",
   "metadata": {},
   "source": [
    "Two sample mean test statistic\n",
    "The hypothesis test for determining if there is a difference between the means of two populations uses a different type of test statistic to the z-scores you saw in Chapter 1. It's called \"t\", and it can be calculated from three values from each sample using this equation.\n",
    "\n",
    " \n",
    " t = (xbar_child − xbar_adult) / √(schild^2/nchild) + (sadult^2/nadult)\n",
    " \n",
    "\n",
    "While trying to determine why some shipments are late, you may wonder if the weight of the shipments that were on time is less than the weight of the shipments that were late. The late_shipments dataset has been split into a \"yes\" group, where late == \"Yes\" and a \"no\" group where late == \"No\". The weight of the shipment is given in the weight_kilograms variable.\n",
    "\n",
    "The sample means for the two groups are available as xbar_no and xbar_yes. The sample standard deviations are s_no and s_yes. The sample sizes are n_no and n_yes. numpy is also loaded as np."
   ]
  },
  {
   "cell_type": "code",
   "execution_count": 18,
   "metadata": {},
   "outputs": [
    {
     "name": "stdout",
     "output_type": "stream",
     "text": [
      "late\n",
      "No     1897.791267\n",
      "Yes    2715.672131\n",
      "Name: weight_kilograms, dtype: float64\n",
      "late\n",
      "No     3154.039507\n",
      "Yes    2544.688211\n",
      "Name: weight_kilograms, dtype: float64\n",
      "late\n",
      "No     939\n",
      "Yes     61\n",
      "Name: weight_kilograms, dtype: int64\n"
     ]
    }
   ],
   "source": [
    "xbar_shipment = late_shipments.groupby('late')['weight_kilograms'].mean()\n",
    "print(xbar_shipment)\n",
    "\n",
    "s_shipment = late_shipments.groupby('late')['weight_kilograms'].std()\n",
    "print(s_shipment)\n",
    "\n",
    "n_shipment = late_shipments.groupby('late')['weight_kilograms'].count()\n",
    "print(n_shipment)"
   ]
  },
  {
   "cell_type": "code",
   "execution_count": 19,
   "metadata": {},
   "outputs": [],
   "source": [
    "xbar_no = xbar_shipment.iloc[0]\n",
    "xbar_yes = xbar_shipment.iloc[1]\n",
    "\n",
    "s_no = s_shipment.iloc[0]\n",
    "s_yes = s_shipment.iloc[1]\n",
    "\n",
    "n_no = n_shipment.iloc[0]\n",
    "n_yes = n_shipment.iloc[1]"
   ]
  },
  {
   "cell_type": "code",
   "execution_count": 20,
   "metadata": {},
   "outputs": [
    {
     "name": "stdout",
     "output_type": "stream",
     "text": [
      "-2.3936661778766433\n"
     ]
    }
   ],
   "source": [
    "# Calculate the numerator of the test statistic\n",
    "numerator = xbar_no - xbar_yes\n",
    "\n",
    "# Calculate the denominator of the test statistic\n",
    "denominator = np.sqrt(s_no ** 2 / n_no + s_yes ** 2 / n_yes)\n",
    "\n",
    "# Calculate the test statistic\n",
    "t_stat = numerator / denominator\n",
    "\n",
    "# Print the test statistic\n",
    "print(t_stat)"
   ]
  },
  {
   "attachments": {},
   "cell_type": "markdown",
   "metadata": {},
   "source": [
    "#### **Calculating p-values from t-statistics**\n",
    "\n",
    "1. t-distributions\n",
    "t statistic follows a t-distribution\n",
    "Have a parameter named degrees of freedom, or df\n",
    "Look like normal distributions, with fatter tails\n",
    "2. Degrees of freedom\n",
    "Larger degrees of freedom → t-distribution\n",
    "gets closer to the normal distribution\n",
    "Normal distribution → t-distribution with\n",
    "infinite df\n",
    "Degrees of freedom: maximum number of\n",
    "logically independent values in the data\n",
    "sample\n",
    "3. Calculating degrees of freedom\n",
    "Dataset has 5 independent observations\n",
    "Four of the values are 2, 6, 8, and 5\n",
    "The sample mean is 5\n",
    "The last value must be 4\n",
    "Here, there are 4 degrees of freedom\n",
    "df = nchild + nadult − 2\n",
    "4. Hypotheses\n",
    "H0: The mean compensation (in USD) is the same for those that coded first as a child and\n",
    "those that coded first as an adult\n",
    "Ha : The mean compensation (in USD) is greater for those that coded first as a child\n",
    "compared to those that coded first as an adult\n",
    "Use a right-tailed test\n",
    "5. Significance level\n",
    "α = 0.1\n",
    "If p ≤ α then reject H0.\n",
    "6. Calculating p-values: one proportion vs. a value\n",
    "from scipy.stats import norm\n",
    "1 - norm.cdf(z_score)\n",
    "\n",
    "SE(x¯child − x¯adult) ≈ √(schild^2/nchild) + (sadult^2/nadult)\n",
    "z-statistic: needed when using one sample statistic to estimate a population parameter\n",
    "t-statistic: needed when using multiple sample statistics to estimate a population parameter\n",
    "\n",
    "7. Calculating p-values: two means from different groups\n",
    "numerator = xbar_child - xbar_adult\n",
    "denominator = np.sqrt(s_child ** 2 / n_child + s_adult ** 2 / n_adult)\n",
    "t_stat = numerator / denominator\n",
    "\n",
    "degrees_of_freedom = n_child + n_adult - 2\n",
    "\n",
    "Use t-distribution CDF not normal CDF\n",
    "from scipy.stats import t\n",
    "1 - t.cdf(t_stat, df=degrees_of_freedom)\n",
    "\n",
    "Evidence that Stack Overflow data scientists who started coding as a child earn more."
   ]
  },
  {
   "cell_type": "code",
   "execution_count": 21,
   "metadata": {},
   "outputs": [
    {
     "data": {
      "text/plain": [
       "1.917700003284395e-05"
      ]
     },
     "execution_count": 21,
     "metadata": {},
     "output_type": "execute_result"
    }
   ],
   "source": [
    "from scipy.stats import norm\n",
    "1 - norm.cdf(z_score)"
   ]
  },
  {
   "cell_type": "code",
   "execution_count": 22,
   "metadata": {},
   "outputs": [
    {
     "name": "stdout",
     "output_type": "stream",
     "text": [
      "1.8699313316221844\n",
      "2259\n"
     ]
    }
   ],
   "source": [
    "numerator = xbar_child - xbar_adult\n",
    "denominator = np.sqrt(s_child ** 2 / n_child + s_adult ** 2 / n_adult)\n",
    "t_stat = numerator / denominator\n",
    "print(t_stat)\n",
    "\n",
    "degrees_of_freedom = n_child + n_adult - 2\n",
    "print(degrees_of_freedom)"
   ]
  },
  {
   "cell_type": "code",
   "execution_count": 23,
   "metadata": {},
   "outputs": [
    {
     "data": {
      "text/plain": [
       "0.030811302165157595"
      ]
     },
     "execution_count": 23,
     "metadata": {},
     "output_type": "execute_result"
    }
   ],
   "source": [
    "from scipy.stats import t\n",
    "1 - t.cdf(t_stat, df=degrees_of_freedom)"
   ]
  },
  {
   "cell_type": "markdown",
   "metadata": {},
   "source": [
    "From t to p\n",
    "Previously, you calculated the test statistic for the two-sample problem of whether the mean weight of shipments is smaller for shipments that weren't late (late == \"No\") compared to shipments that were late (late == \"Yes\"). In order to make decisions about it, you need to transform the test statistic with a cumulative distribution function to get a p-value.\n",
    "\n",
    "Recall the hypotheses:\n",
    "\n",
    ": The mean weight of shipments that weren't late is the same as the mean weight of shipments that were late.\n",
    "\n",
    ": The mean weight of shipments that weren't late is less than the mean weight of shipments that were late.\n",
    "\n",
    "The test statistic, t_stat, is available, as are the samples sizes for each group, n_no and n_yes. Use a significance level of alpha = 0.05.\n",
    "\n",
    "t has also been imported from scipy.stats."
   ]
  },
  {
   "cell_type": "code",
   "execution_count": 24,
   "metadata": {},
   "outputs": [
    {
     "name": "stdout",
     "output_type": "stream",
     "text": [
      "0.9691070256380481\n",
      "False\n"
     ]
    }
   ],
   "source": [
    "alpha = 0.05\n",
    "\n",
    "## Reject the null hypothesis. alpha = 0.05\n",
    "\n",
    "# Calculate the degrees of freedom\n",
    "degrees_of_freedom = n_no + n_yes - 2\n",
    "\n",
    "# Calculate the p-value from the test stat\n",
    "p_value = t.cdf(t_stat, df=degrees_of_freedom)\n",
    "\n",
    "# Print the p_value\n",
    "print(p_value)\n",
    "\n",
    "## Reject the null hypothesis. 0.008 < alpha = true\n",
    "\n",
    "print(p_value<alpha)"
   ]
  },
  {
   "cell_type": "markdown",
   "metadata": {},
   "source": [
    "#### **Paired t-tests**\n",
    "\n",
    "1. US Republican presidents dataset\n",
    "100 rows; each row represents county-level votes in a presidential election.\n",
    "\n",
    "2. Hypotheses\n",
    "Question: Was the percentage of Republican candidate votes lower in 2008 than 2012?\n",
    "H : μ2008 − μ2012 = 0\n",
    "H : μ2008 − μ2012 < 0\n",
    "Set α = 0.05 significance level.\n",
    "Data is paired → each voter percentage refers to the same county\n",
    "Want to capture voting patterns in model\n",
    "\n",
    "3. From two samples to one\n",
    "sample_data = repub_votes_potus_08_12\n",
    "sample_data['diff'] = sample_data['repub_percent_08'] - sample_data['repub_percent_12']\n",
    "import matplotlib.pyplot as plt\n",
    "sample_data['diff'].hist(bins=20)\n",
    "\n",
    "4. Calculate sample statistics of the difference\n",
    "xbar_diff = sample_data['diff'].mean()\n",
    "\n",
    "5. Revised hypotheses\n",
    "\n",
    "Old hypotheses:\n",
    "Ho : μ2008 − μ2012 = 0\n",
    "Ha : μ2008 − μ2012 < 0\n",
    "New hypotheses:\n",
    "Ho : μdiff = 0\n",
    "Ha : μdiff < 0\n",
    "\n",
    "t = (xbar_diff - μdiff) / √(sdiff^2/ndiff)\n",
    "df = ndiff − 1\n",
    "\n",
    "6. Calculating the p-value\n",
    "\n",
    "n_diff = len(sample_data)\n",
    "\n",
    "xbar_diff = sample_data['diff'].mean()\n",
    "print(xbar_diff)\n",
    "\n",
    "n_diff = len(sample_data)\n",
    "print(n_diff)\n",
    "\n",
    "t = (xbar_diff - μdiff) / √(sdiff^2/ndiff)\n",
    "\n",
    "s_diff = sample_data['diff'].std()\n",
    "t_stat = (xbar_diff-0) / np.sqrt(s_diff**2/n_diff)\n",
    "print(t_stat)\n",
    "\n",
    "degrees_of_freedom = n_diff - 1\n",
    "print(degrees_of_freedom)\n",
    "\n",
    "from scipy.stats import t\n",
    "p_value = t.cdf(t_stat, df=n_diff-1)\n",
    "print(p_value)\n",
    "\n",
    "7. Testing differences between two means using ttest()\n",
    "\n",
    "Testing differences between two means using ttest()\n",
    "import pingouin\n",
    "pingouin.ttest(x=sample_data['diff'],\n",
    "y=0,\n",
    "alternative=\"less\")\n",
    "T dof alternative p-val CI95% cohen-d \\\n",
    "T-test -5.601043 99 less 9.572537e-08 [-inf, -2.02] 0.560104\n",
    "BF10 power\n",
    "T-test 1.323e+05 1.0\n",
    "Details on Returns from pingouin.ttest() are available in the API docs for pingouin at https://pingouinstats.\n",
    "org/generated/pingouin.ttest.html#pingouin.ttest.\n",
    "\n",
    "8. ttest() with paired=True\n",
    "\n",
    "pingouin.ttest(x=sample_data['repub_percent_08'],\n",
    "y=sample_data['repub_percent_12'],\n",
    "paired=True,\n",
    "alternative=\"less\")\n",
    "T dof alternative p-val CI95% cohen-d \\\n",
    "T-test -5.601043 99 less 9.572537e-08 [-inf, -2.02] 0.217364\n",
    "BF10 power\n",
    "T-test 1.323e+05 0.696338\n",
    "\n",
    "9. Unpaired ttest()\n",
    "\n",
    "pingouin.ttest(x=sample_data['repub_percent_08'],\n",
    "y=sample_data['repub_percent_12'],\n",
    "paired=False, # The default\n",
    "alternative=\"less\")\n",
    "\n",
    "Unpaired t-tests on paired data increases the chances of false negative errors"
   ]
  },
  {
   "cell_type": "code",
   "execution_count": 40,
   "metadata": {},
   "outputs": [
    {
     "data": {
      "text/plain": [
       "<AxesSubplot: >"
      ]
     },
     "execution_count": 40,
     "metadata": {},
     "output_type": "execute_result"
    },
    {
     "data": {
      "image/png": "[encoded data removed]",
      "text/plain": [
       "<Figure size 640x480 with 1 Axes>"
      ]
     },
     "metadata": {},
     "output_type": "display_data"
    }
   ],
   "source": [
    "sample_data = repub_votes_potus_08_12\n",
    "sample_data['diff'] = sample_data['repub_percent_08'] - sample_data['repub_percent_12']\n",
    "import matplotlib.pyplot as plt\n",
    "sample_data['diff'].hist(bins=20)"
   ]
  },
  {
   "cell_type": "code",
   "execution_count": 41,
   "metadata": {},
   "outputs": [
    {
     "name": "stdout",
     "output_type": "stream",
     "text": [
      "-2.877109041242944\n",
      "100\n",
      "-5.601043121928489\n",
      "99\n",
      "9.572537285272411e-08\n"
     ]
    }
   ],
   "source": [
    "xbar_diff = sample_data['diff'].mean()\n",
    "print(xbar_diff)\n",
    "\n",
    "n_diff = len(sample_data)\n",
    "print(n_diff)\n",
    "\n",
    "## t = (xbar_diff - μdiff) / √(sdiff^2/ndiff)\n",
    "s_diff = sample_data['diff'].std()\n",
    "t_stat = (xbar_diff-0) / np.sqrt(s_diff**2/n_diff)\n",
    "print(t_stat)\n",
    "\n",
    "degrees_of_freedom = n_diff - 1\n",
    "print(degrees_of_freedom)\n",
    "\n",
    "from scipy.stats import t\n",
    "p_value = t.cdf(t_stat, df=n_diff-1)\n",
    "print(p_value)"
   ]
  },
  {
   "cell_type": "code",
   "execution_count": 33,
   "metadata": {},
   "outputs": [],
   "source": [
    "# import sys\n",
    "# print(sys.executable)"
   ]
  },
  {
   "cell_type": "code",
   "execution_count": 32,
   "metadata": {},
   "outputs": [],
   "source": [
    "### !python -m pip install pingouin"
   ]
  },
  {
   "cell_type": "code",
   "execution_count": 42,
   "metadata": {},
   "outputs": [
    {
     "data": {
      "text/html": [
       "<div>\n",
       "<style scoped>\n",
       "    .dataframe tbody tr th:only-of-type {\n",
       "        vertical-align: middle;\n",
       "    }\n",
       "\n",
       "    .dataframe tbody tr th {\n",
       "        vertical-align: top;\n",
       "    }\n",
       "\n",
       "    .dataframe thead th {\n",
       "        text-align: right;\n",
       "    }\n",
       "</style>\n",
       "<table border=\"1\" class=\"dataframe\">\n",
       "  <thead>\n",
       "    <tr style=\"text-align: right;\">\n",
       "      <th></th>\n",
       "      <th>T</th>\n",
       "      <th>dof</th>\n",
       "      <th>alternative</th>\n",
       "      <th>p-val</th>\n",
       "      <th>CI95%</th>\n",
       "      <th>cohen-d</th>\n",
       "      <th>BF10</th>\n",
       "      <th>power</th>\n",
       "    </tr>\n",
       "  </thead>\n",
       "  <tbody>\n",
       "    <tr>\n",
       "      <th>T-test</th>\n",
       "      <td>-5.601043</td>\n",
       "      <td>99</td>\n",
       "      <td>less</td>\n",
       "      <td>9.572537e-08</td>\n",
       "      <td>[-inf, -2.02]</td>\n",
       "      <td>0.560104</td>\n",
       "      <td>1.323e+05</td>\n",
       "      <td>1.0</td>\n",
       "    </tr>\n",
       "  </tbody>\n",
       "</table>\n",
       "</div>"
      ],
      "text/plain": [
       "               T  dof alternative         p-val          CI95%   cohen-d  \\\n",
       "T-test -5.601043   99        less  9.572537e-08  [-inf, -2.02]  0.560104   \n",
       "\n",
       "             BF10  power  \n",
       "T-test  1.323e+05    1.0  "
      ]
     },
     "execution_count": 42,
     "metadata": {},
     "output_type": "execute_result"
    }
   ],
   "source": [
    "import pingouin\n",
    "pingouin.ttest(x=sample_data['diff'],\n",
    "                y=0,\n",
    "                alternative=\"less\")"
   ]
  },
  {
   "cell_type": "code",
   "execution_count": 35,
   "metadata": {},
   "outputs": [
    {
     "data": {
      "text/html": [
       "<div>\n",
       "<style scoped>\n",
       "    .dataframe tbody tr th:only-of-type {\n",
       "        vertical-align: middle;\n",
       "    }\n",
       "\n",
       "    .dataframe tbody tr th {\n",
       "        vertical-align: top;\n",
       "    }\n",
       "\n",
       "    .dataframe thead th {\n",
       "        text-align: right;\n",
       "    }\n",
       "</style>\n",
       "<table border=\"1\" class=\"dataframe\">\n",
       "  <thead>\n",
       "    <tr style=\"text-align: right;\">\n",
       "      <th></th>\n",
       "      <th>T</th>\n",
       "      <th>dof</th>\n",
       "      <th>alternative</th>\n",
       "      <th>p-val</th>\n",
       "      <th>CI95%</th>\n",
       "      <th>cohen-d</th>\n",
       "      <th>BF10</th>\n",
       "      <th>power</th>\n",
       "    </tr>\n",
       "  </thead>\n",
       "  <tbody>\n",
       "    <tr>\n",
       "      <th>T-test</th>\n",
       "      <td>-5.601043</td>\n",
       "      <td>99</td>\n",
       "      <td>less</td>\n",
       "      <td>9.572537e-08</td>\n",
       "      <td>[-inf, -2.02]</td>\n",
       "      <td>0.217364</td>\n",
       "      <td>1.323e+05</td>\n",
       "      <td>0.696338</td>\n",
       "    </tr>\n",
       "  </tbody>\n",
       "</table>\n",
       "</div>"
      ],
      "text/plain": [
       "               T  dof alternative         p-val          CI95%   cohen-d  \\\n",
       "T-test -5.601043   99        less  9.572537e-08  [-inf, -2.02]  0.217364   \n",
       "\n",
       "             BF10     power  \n",
       "T-test  1.323e+05  0.696338  "
      ]
     },
     "execution_count": 35,
     "metadata": {},
     "output_type": "execute_result"
    }
   ],
   "source": [
    "pingouin.ttest(x=sample_data['repub_percent_08'],\n",
    "                y=sample_data['repub_percent_12'],\n",
    "                paired=True,\n",
    "                alternative=\"less\")"
   ]
  },
  {
   "cell_type": "code",
   "execution_count": 36,
   "metadata": {},
   "outputs": [
    {
     "data": {
      "text/html": [
       "<div>\n",
       "<style scoped>\n",
       "    .dataframe tbody tr th:only-of-type {\n",
       "        vertical-align: middle;\n",
       "    }\n",
       "\n",
       "    .dataframe tbody tr th {\n",
       "        vertical-align: top;\n",
       "    }\n",
       "\n",
       "    .dataframe thead th {\n",
       "        text-align: right;\n",
       "    }\n",
       "</style>\n",
       "<table border=\"1\" class=\"dataframe\">\n",
       "  <thead>\n",
       "    <tr style=\"text-align: right;\">\n",
       "      <th></th>\n",
       "      <th>T</th>\n",
       "      <th>dof</th>\n",
       "      <th>alternative</th>\n",
       "      <th>p-val</th>\n",
       "      <th>CI95%</th>\n",
       "      <th>cohen-d</th>\n",
       "      <th>BF10</th>\n",
       "      <th>power</th>\n",
       "    </tr>\n",
       "  </thead>\n",
       "  <tbody>\n",
       "    <tr>\n",
       "      <th>T-test</th>\n",
       "      <td>-1.536997</td>\n",
       "      <td>198</td>\n",
       "      <td>less</td>\n",
       "      <td>0.062945</td>\n",
       "      <td>[-inf, 0.22]</td>\n",
       "      <td>0.217364</td>\n",
       "      <td>0.927</td>\n",
       "      <td>0.454972</td>\n",
       "    </tr>\n",
       "  </tbody>\n",
       "</table>\n",
       "</div>"
      ],
      "text/plain": [
       "               T  dof alternative     p-val         CI95%   cohen-d   BF10  \\\n",
       "T-test -1.536997  198        less  0.062945  [-inf, 0.22]  0.217364  0.927   \n",
       "\n",
       "           power  \n",
       "T-test  0.454972  "
      ]
     },
     "execution_count": 36,
     "metadata": {},
     "output_type": "execute_result"
    }
   ],
   "source": [
    "pingouin.ttest(x=sample_data['repub_percent_08'],\n",
    "                y=sample_data['repub_percent_12'],\n",
    "                paired=False, # The default\n",
    "                alternative=\"less\")"
   ]
  },
  {
   "cell_type": "markdown",
   "metadata": {},
   "source": [
    "Visualizing the difference\n",
    "Before you start running hypothesis tests, it's a great idea to perform some exploratory data analysis; that is, calculating summary statistics and visualizing distributions.\n",
    "\n",
    "Here, you'll look at the proportion of county-level votes for the Democratic candidate in 2012 and 2016, sample_dem_data. Since the counties are the same in both years, these samples are paired. The columns containing the samples are dem_percent_12 and dem_percent_16.\n",
    "\n",
    "dem_votes_potus_12_16 is available as sample_dem_data. pandas and matplotlib.pyplot are loaded with their usual aliases."
   ]
  },
  {
   "cell_type": "code",
   "execution_count": 48,
   "metadata": {},
   "outputs": [
    {
     "name": "stdout",
     "output_type": "stream",
     "text": [
      "       state       county  dem_percent_12  dem_percent_16       diff\n",
      "0    Alabama      Bullock       76.305900       74.946921   1.358979\n",
      "1    Alabama      Chilton       19.453671       15.847352   3.606319\n",
      "2    Alabama         Clay       26.673672       18.674517   7.999155\n",
      "3    Alabama      Cullman       14.661752       10.028252   4.633500\n",
      "4    Alabama     Escambia       36.915731       31.020546   5.895185\n",
      "..       ...          ...             ...             ...        ...\n",
      "495  Wyoming        Uinta       19.065464       14.191263   4.874201\n",
      "496  Wyoming     Washakie       20.131846       13.948610   6.183235\n",
      "497   Alaska   District 3       33.514582       16.301064  17.213518\n",
      "498   Alaska  District 18       61.284271       52.810051   8.474220\n",
      "499   Alaska  District 24       42.913980       39.405286   3.508694\n",
      "\n",
      "[500 rows x 5 columns]\n"
     ]
    }
   ],
   "source": [
    "sample_dem_data = dem_votes_potus_12_16\n",
    "\n",
    "# Calculate the differences from 2012 to 2016\n",
    "sample_dem_data['diff'] = sample_dem_data['dem_percent_12'] - sample_dem_data['dem_percent_16']\n",
    "\n",
    "# Print sample_dem_data\n",
    "print(sample_dem_data)"
   ]
  },
  {
   "cell_type": "code",
   "execution_count": 51,
   "metadata": {},
   "outputs": [
    {
     "name": "stdout",
     "output_type": "stream",
     "text": [
      "6.829312660106834\n",
      "5.040139140132317\n"
     ]
    },
    {
     "data": {
      "image/png": "[encoded data removed]",
      "text/plain": [
       "<Figure size 640x480 with 1 Axes>"
      ]
     },
     "metadata": {},
     "output_type": "display_data"
    }
   ],
   "source": [
    "# Calculate the differences from 2012 to 2016\n",
    "sample_dem_data['diff'] = sample_dem_data['dem_percent_12'] - sample_dem_data['dem_percent_16']\n",
    "\n",
    "# Find the mean of the diff column\n",
    "xbar_diff = sample_dem_data['diff'].mean()\n",
    "\n",
    "# Print xbar_diff\n",
    "print(xbar_diff)\n",
    "\n",
    "# Find the standard deviation of the diff column\n",
    "s_diff = sample_dem_data['diff'].std()\n",
    "\n",
    "# Print s_diff\n",
    "print(s_diff)\n",
    "\n",
    "# Plot a histogram of diff with 20 bins\n",
    "sample_dem_data['diff'].hist(bins=20)\n",
    "plt.show()"
   ]
  },
  {
   "cell_type": "markdown",
   "metadata": {},
   "source": [
    "Using ttest()\n",
    "Manually calculating test statistics and transforming them with a CDF to get a p-value is a lot of effort to compare two sample means. The comparison of two sample means is called a t-test, and the pingouin Python package has a .ttest() method to accomplish it. This method provides some flexibility in how you perform the test.\n",
    "\n",
    "As in the previous exercise, you'll explore the difference between the proportion of county-level votes for the Democratic candidate in 2012 and 2016 to identify if the difference is significant. The hypotheses are as follows:\n",
    "\n",
    "Ho: The proportion of democratic votes in 2012 and 2016 were the same. \n",
    "Ha: The proportion of democratic votes in 2012 and 2016 were different.\n",
    "\n",
    "sample_dem_data is available and has the columns diff, dem_percent_12, and dem_percent_16 in addition to the state and county names. pingouin and has been loaded along with pandas as pd."
   ]
  },
  {
   "cell_type": "code",
   "execution_count": 52,
   "metadata": {},
   "outputs": [
    {
     "name": "stdout",
     "output_type": "stream",
     "text": [
      "                T  dof alternative          p-val         CI95%   cohen-d  \\\n",
      "T-test  30.298384  499   two-sided  3.600634e-115  [6.39, 7.27]  1.354985   \n",
      "\n",
      "              BF10  power  \n",
      "T-test  2.246e+111    1.0  \n"
     ]
    }
   ],
   "source": [
    "# Conduct a t-test on diff\n",
    "test_results = pingouin.ttest(x=sample_dem_data['diff'],\n",
    "                y=0,\n",
    "                alternative=\"two-sided\")\n",
    "\n",
    "\n",
    "                              \n",
    "# Print the test results\n",
    "print(test_results)\n",
    "\n",
    "# Reject the null hypothesis."
   ]
  },
  {
   "cell_type": "code",
   "execution_count": 56,
   "metadata": {},
   "outputs": [
    {
     "name": "stdout",
     "output_type": "stream",
     "text": [
      "                T  dof alternative          p-val         CI95%   cohen-d  \\\n",
      "T-test  30.298384  499   two-sided  3.600634e-115  [6.39, 7.27]  0.454202   \n",
      "\n",
      "              BF10  power  \n",
      "T-test  2.246e+111    1.0  \n"
     ]
    }
   ],
   "source": [
    "\n",
    "# Conduct a paired t-test on dem_percent_12 and dem_percent_16\n",
    "paired_test_results = pingouin.ttest(x=sample_dem_data['dem_percent_12'],\n",
    "                                    y=sample_dem_data['dem_percent_16'],\n",
    "                                    paired=True,\n",
    "                                    alternative=\"two-sided\")\n",
    "                              \n",
    "# Print the paired test results\n",
    "print(paired_test_results)"
   ]
  },
  {
   "cell_type": "code",
   "execution_count": 57,
   "metadata": {},
   "outputs": [
    {
     "data": {
      "text/html": [
       "<div>\n",
       "<style scoped>\n",
       "    .dataframe tbody tr th:only-of-type {\n",
       "        vertical-align: middle;\n",
       "    }\n",
       "\n",
       "    .dataframe tbody tr th {\n",
       "        vertical-align: top;\n",
       "    }\n",
       "\n",
       "    .dataframe thead th {\n",
       "        text-align: right;\n",
       "    }\n",
       "</style>\n",
       "<table border=\"1\" class=\"dataframe\">\n",
       "  <thead>\n",
       "    <tr style=\"text-align: right;\">\n",
       "      <th></th>\n",
       "      <th>T</th>\n",
       "      <th>dof</th>\n",
       "      <th>alternative</th>\n",
       "      <th>p-val</th>\n",
       "      <th>CI95%</th>\n",
       "      <th>cohen-d</th>\n",
       "      <th>BF10</th>\n",
       "      <th>power</th>\n",
       "    </tr>\n",
       "  </thead>\n",
       "  <tbody>\n",
       "    <tr>\n",
       "      <th>T-test</th>\n",
       "      <td>7.181565</td>\n",
       "      <td>998</td>\n",
       "      <td>two-sided</td>\n",
       "      <td>1.345737e-12</td>\n",
       "      <td>[4.96, 8.7]</td>\n",
       "      <td>0.454202</td>\n",
       "      <td>4.308e+09</td>\n",
       "      <td>1.0</td>\n",
       "    </tr>\n",
       "  </tbody>\n",
       "</table>\n",
       "</div>"
      ],
      "text/plain": [
       "               T  dof alternative         p-val        CI95%   cohen-d  \\\n",
       "T-test  7.181565  998   two-sided  1.345737e-12  [4.96, 8.7]  0.454202   \n",
       "\n",
       "             BF10  power  \n",
       "T-test  4.308e+09    1.0  "
      ]
     },
     "execution_count": 57,
     "metadata": {},
     "output_type": "execute_result"
    }
   ],
   "source": [
    "#unpaired\n",
    "pingouin.ttest(x=sample_dem_data['dem_percent_12'], \n",
    "               y=sample_dem_data['dem_percent_16'], \n",
    "               alternative=\"two-sided\")\n",
    "\n",
    "#Paired t-test party! Using .ttest() lets you avoid manual calculation to run your test. \n",
    "# When you have paired data, a paired t-test is preferable to the unpaired version \n",
    "# because it reduces the chance of a false negative error."
   ]
  },
  {
   "cell_type": "markdown",
   "metadata": {},
   "source": [
    "#### **ANOVA tests**\n",
    "\n",
    "1. Job satisfaction: 5 categories\n",
    "stack_overflow['job_sat'].value_counts()\n",
    "\n",
    "2. Visualizing multiple distributions\n",
    "Is mean annual compensation different for\n",
    "different levels of job satisfaction?\n",
    "import seaborn as sns\n",
    "import matplotlib.pyplot as plt\n",
    "sns.boxplot(x=\"converted_comp\",\n",
    "            y=\"job_sat\",\n",
    "            data=stack_overflow)\n",
    "plt.show()\n",
    "\n",
    "3. Analysis of variance (ANOVA)\n",
    "\n",
    "A test for differences between groups\n",
    "alpha = 0.2\n",
    "pingouin.anova(data=stack_overflow,\n",
    "dv=\"converted_comp\",\n",
    "between=\"job_sat\")\n",
    "Source ddof1 ddof2 F p-unc np2\n",
    "0 job_sat 4 2256 4.480485 0.001315 0.007882\n",
    "0.001315 < α\n",
    "At least two categories have significantly different compensation\n",
    "\n",
    "4. Pairwise tests\n",
    "\n",
    "μ very dissatisfied ≠ μ slightly dissatisfied\n",
    "μ very dissatisfied ≠ μ neither\n",
    "μ very dissatisfied ≠ μ slightly satisfied\n",
    "μ very dissatisfied ≠ μ very satisfied\n",
    "μ slightly dissatisfied ≠ μ neither\n",
    "μ slightly dissatisfied ≠ μ slightly satisfied\n",
    "μ slightly dissatisfied ≠ μ very satisfied\n",
    "μ neither ≠ μ slightly satisfied\n",
    "μ neither ≠ μ very satisfied\n",
    "μ slightly satisfied ≠ μ very satisfied\n",
    "\n",
    "Set significance level to α = 0.2\n",
    "\n",
    "5. pairwise_tests()\n",
    "\n",
    "pingouin.pairwise_tests(data=stack_overflow,\n",
    "                        dv=\"converted_comp\",\n",
    "                        between=\"job_sat\",\n",
    "                        padjust=\"none\")\n",
    " \n",
    "6. As the number of groups increases...\n",
    "\n",
    "there is more prob of a false positive\n",
    "\n",
    "7. Bonferroni correction\n",
    "\n",
    "pingouin.pairwise_tests(data=stack_overflow,\n",
    "                        dv=\"converted_comp\",\n",
    "                        between=\"job_sat\",\n",
    "                        padjust=\"bonf\")\n",
    " \n",
    "8. More methods\n",
    "\n",
    "padjust : string\n",
    "Method used for testing and adjustment of pvalues.\n",
    "'none' : no correction [default]\n",
    "'bonf' : one-step Bonferroni correction\n",
    "'sidak' : one-step Sidak correction\n",
    "'holm' : step-down method using Bonferroni adjustments\n",
    "'fdr_bh' : Benjamini/Hochberg FDR correction\n",
    "'fdr_by' : Benjamini/Yekutieli FDR correction"
   ]
  },
  {
   "cell_type": "code",
   "execution_count": 59,
   "metadata": {},
   "outputs": [
    {
     "data": {
      "text/plain": [
       "job_sat\n",
       "Very satisfied           879\n",
       "Slightly satisfied       680\n",
       "Slightly dissatisfied    342\n",
       "Neither                  201\n",
       "Very dissatisfied        159\n",
       "Name: count, dtype: int64"
      ]
     },
     "metadata": {},
     "output_type": "display_data"
    },
    {
     "name": "stderr",
     "output_type": "stream",
     "text": [
      "C:\\Users\\mcaba\\AppData\\Roaming\\Python\\Python310\\site-packages\\seaborn\\categorical.py:641: FutureWarning: The default of observed=False is deprecated and will be changed to True in a future version of pandas. Pass observed=False to retain current behavior or observed=True to adopt the future default and silence this warning.\n",
      "  grouped_vals = vals.groupby(grouper)\n"
     ]
    },
    {
     "data": {
      "image/png": "[encoded data removed]",
      "text/plain": [
       "<Figure size 640x480 with 1 Axes>"
      ]
     },
     "metadata": {},
     "output_type": "display_data"
    }
   ],
   "source": [
    "display(\n",
    "stack_overflow['job_sat'].value_counts()\n",
    ")\n",
    "\n",
    "import seaborn as sns\n",
    "import matplotlib.pyplot as plt\n",
    "sns.boxplot(x=\"converted_comp\",\n",
    "            y=\"job_sat\",\n",
    "            data=stack_overflow)\n",
    "plt.show()"
   ]
  },
  {
   "cell_type": "code",
   "execution_count": 60,
   "metadata": {},
   "outputs": [
    {
     "data": {
      "text/html": [
       "<div>\n",
       "<style scoped>\n",
       "    .dataframe tbody tr th:only-of-type {\n",
       "        vertical-align: middle;\n",
       "    }\n",
       "\n",
       "    .dataframe tbody tr th {\n",
       "        vertical-align: top;\n",
       "    }\n",
       "\n",
       "    .dataframe thead th {\n",
       "        text-align: right;\n",
       "    }\n",
       "</style>\n",
       "<table border=\"1\" class=\"dataframe\">\n",
       "  <thead>\n",
       "    <tr style=\"text-align: right;\">\n",
       "      <th></th>\n",
       "      <th>Source</th>\n",
       "      <th>ddof1</th>\n",
       "      <th>ddof2</th>\n",
       "      <th>F</th>\n",
       "      <th>p-unc</th>\n",
       "      <th>np2</th>\n",
       "    </tr>\n",
       "  </thead>\n",
       "  <tbody>\n",
       "    <tr>\n",
       "      <th>0</th>\n",
       "      <td>job_sat</td>\n",
       "      <td>4</td>\n",
       "      <td>2256</td>\n",
       "      <td>4.480485</td>\n",
       "      <td>0.001315</td>\n",
       "      <td>0.007882</td>\n",
       "    </tr>\n",
       "  </tbody>\n",
       "</table>\n",
       "</div>"
      ],
      "text/plain": [
       "    Source  ddof1  ddof2         F     p-unc       np2\n",
       "0  job_sat      4   2256  4.480485  0.001315  0.007882"
      ]
     },
     "execution_count": 60,
     "metadata": {},
     "output_type": "execute_result"
    }
   ],
   "source": [
    "alpha = 0.2\n",
    "pingouin.anova(data=stack_overflow,\n",
    "                dv=\"converted_comp\",\n",
    "                between=\"job_sat\")"
   ]
  },
  {
   "cell_type": "code",
   "execution_count": 61,
   "metadata": {},
   "outputs": [
    {
     "data": {
      "text/html": [
       "<div>\n",
       "<style scoped>\n",
       "    .dataframe tbody tr th:only-of-type {\n",
       "        vertical-align: middle;\n",
       "    }\n",
       "\n",
       "    .dataframe tbody tr th {\n",
       "        vertical-align: top;\n",
       "    }\n",
       "\n",
       "    .dataframe thead th {\n",
       "        text-align: right;\n",
       "    }\n",
       "</style>\n",
       "<table border=\"1\" class=\"dataframe\">\n",
       "  <thead>\n",
       "    <tr style=\"text-align: right;\">\n",
       "      <th></th>\n",
       "      <th>Contrast</th>\n",
       "      <th>A</th>\n",
       "      <th>B</th>\n",
       "      <th>Paired</th>\n",
       "      <th>Parametric</th>\n",
       "      <th>T</th>\n",
       "      <th>dof</th>\n",
       "      <th>alternative</th>\n",
       "      <th>p-unc</th>\n",
       "      <th>BF10</th>\n",
       "      <th>hedges</th>\n",
       "    </tr>\n",
       "  </thead>\n",
       "  <tbody>\n",
       "    <tr>\n",
       "      <th>0</th>\n",
       "      <td>job_sat</td>\n",
       "      <td>Very dissatisfied</td>\n",
       "      <td>Slightly dissatisfied</td>\n",
       "      <td>False</td>\n",
       "      <td>True</td>\n",
       "      <td>1.129951</td>\n",
       "      <td>247.570187</td>\n",
       "      <td>two-sided</td>\n",
       "      <td>0.259590</td>\n",
       "      <td>0.197</td>\n",
       "      <td>0.119131</td>\n",
       "    </tr>\n",
       "    <tr>\n",
       "      <th>1</th>\n",
       "      <td>job_sat</td>\n",
       "      <td>Very dissatisfied</td>\n",
       "      <td>Neither</td>\n",
       "      <td>False</td>\n",
       "      <td>True</td>\n",
       "      <td>0.545948</td>\n",
       "      <td>321.165726</td>\n",
       "      <td>two-sided</td>\n",
       "      <td>0.585481</td>\n",
       "      <td>0.135</td>\n",
       "      <td>0.058537</td>\n",
       "    </tr>\n",
       "    <tr>\n",
       "      <th>2</th>\n",
       "      <td>job_sat</td>\n",
       "      <td>Very dissatisfied</td>\n",
       "      <td>Slightly satisfied</td>\n",
       "      <td>False</td>\n",
       "      <td>True</td>\n",
       "      <td>1.243665</td>\n",
       "      <td>187.153329</td>\n",
       "      <td>two-sided</td>\n",
       "      <td>0.215179</td>\n",
       "      <td>0.208</td>\n",
       "      <td>0.145624</td>\n",
       "    </tr>\n",
       "    <tr>\n",
       "      <th>3</th>\n",
       "      <td>job_sat</td>\n",
       "      <td>Very dissatisfied</td>\n",
       "      <td>Very satisfied</td>\n",
       "      <td>False</td>\n",
       "      <td>True</td>\n",
       "      <td>-0.747379</td>\n",
       "      <td>221.666205</td>\n",
       "      <td>two-sided</td>\n",
       "      <td>0.455627</td>\n",
       "      <td>0.126</td>\n",
       "      <td>-0.063479</td>\n",
       "    </tr>\n",
       "    <tr>\n",
       "      <th>4</th>\n",
       "      <td>job_sat</td>\n",
       "      <td>Slightly dissatisfied</td>\n",
       "      <td>Neither</td>\n",
       "      <td>False</td>\n",
       "      <td>True</td>\n",
       "      <td>-0.602209</td>\n",
       "      <td>367.730081</td>\n",
       "      <td>two-sided</td>\n",
       "      <td>0.547406</td>\n",
       "      <td>0.118</td>\n",
       "      <td>-0.055707</td>\n",
       "    </tr>\n",
       "    <tr>\n",
       "      <th>5</th>\n",
       "      <td>job_sat</td>\n",
       "      <td>Slightly dissatisfied</td>\n",
       "      <td>Slightly satisfied</td>\n",
       "      <td>False</td>\n",
       "      <td>True</td>\n",
       "      <td>0.038264</td>\n",
       "      <td>569.926329</td>\n",
       "      <td>two-sided</td>\n",
       "      <td>0.969491</td>\n",
       "      <td>0.074</td>\n",
       "      <td>0.002719</td>\n",
       "    </tr>\n",
       "    <tr>\n",
       "      <th>6</th>\n",
       "      <td>job_sat</td>\n",
       "      <td>Slightly dissatisfied</td>\n",
       "      <td>Very satisfied</td>\n",
       "      <td>False</td>\n",
       "      <td>True</td>\n",
       "      <td>-3.076222</td>\n",
       "      <td>821.303063</td>\n",
       "      <td>two-sided</td>\n",
       "      <td>0.002166</td>\n",
       "      <td>7.43</td>\n",
       "      <td>-0.173247</td>\n",
       "    </tr>\n",
       "    <tr>\n",
       "      <th>7</th>\n",
       "      <td>job_sat</td>\n",
       "      <td>Neither</td>\n",
       "      <td>Slightly satisfied</td>\n",
       "      <td>False</td>\n",
       "      <td>True</td>\n",
       "      <td>0.700752</td>\n",
       "      <td>258.204546</td>\n",
       "      <td>two-sided</td>\n",
       "      <td>0.484088</td>\n",
       "      <td>0.114</td>\n",
       "      <td>0.068513</td>\n",
       "    </tr>\n",
       "    <tr>\n",
       "      <th>8</th>\n",
       "      <td>job_sat</td>\n",
       "      <td>Neither</td>\n",
       "      <td>Very satisfied</td>\n",
       "      <td>False</td>\n",
       "      <td>True</td>\n",
       "      <td>-1.662901</td>\n",
       "      <td>328.326639</td>\n",
       "      <td>two-sided</td>\n",
       "      <td>0.097286</td>\n",
       "      <td>0.337</td>\n",
       "      <td>-0.120115</td>\n",
       "    </tr>\n",
       "    <tr>\n",
       "      <th>9</th>\n",
       "      <td>job_sat</td>\n",
       "      <td>Slightly satisfied</td>\n",
       "      <td>Very satisfied</td>\n",
       "      <td>False</td>\n",
       "      <td>True</td>\n",
       "      <td>-4.009935</td>\n",
       "      <td>1478.622799</td>\n",
       "      <td>two-sided</td>\n",
       "      <td>0.000064</td>\n",
       "      <td>158.564</td>\n",
       "      <td>-0.192931</td>\n",
       "    </tr>\n",
       "  </tbody>\n",
       "</table>\n",
       "</div>"
      ],
      "text/plain": [
       "  Contrast                      A                      B  Paired  Parametric  \\\n",
       "0  job_sat      Very dissatisfied  Slightly dissatisfied   False        True   \n",
       "1  job_sat      Very dissatisfied                Neither   False        True   \n",
       "2  job_sat      Very dissatisfied     Slightly satisfied   False        True   \n",
       "3  job_sat      Very dissatisfied         Very satisfied   False        True   \n",
       "4  job_sat  Slightly dissatisfied                Neither   False        True   \n",
       "5  job_sat  Slightly dissatisfied     Slightly satisfied   False        True   \n",
       "6  job_sat  Slightly dissatisfied         Very satisfied   False        True   \n",
       "7  job_sat                Neither     Slightly satisfied   False        True   \n",
       "8  job_sat                Neither         Very satisfied   False        True   \n",
       "9  job_sat     Slightly satisfied         Very satisfied   False        True   \n",
       "\n",
       "          T          dof alternative     p-unc     BF10    hedges  \n",
       "0  1.129951   247.570187   two-sided  0.259590    0.197  0.119131  \n",
       "1  0.545948   321.165726   two-sided  0.585481    0.135  0.058537  \n",
       "2  1.243665   187.153329   two-sided  0.215179    0.208  0.145624  \n",
       "3 -0.747379   221.666205   two-sided  0.455627    0.126 -0.063479  \n",
       "4 -0.602209   367.730081   two-sided  0.547406    0.118 -0.055707  \n",
       "5  0.038264   569.926329   two-sided  0.969491    0.074  0.002719  \n",
       "6 -3.076222   821.303063   two-sided  0.002166     7.43 -0.173247  \n",
       "7  0.700752   258.204546   two-sided  0.484088    0.114  0.068513  \n",
       "8 -1.662901   328.326639   two-sided  0.097286    0.337 -0.120115  \n",
       "9 -4.009935  1478.622799   two-sided  0.000064  158.564 -0.192931  "
      ]
     },
     "execution_count": 61,
     "metadata": {},
     "output_type": "execute_result"
    }
   ],
   "source": [
    "pingouin.pairwise_tests(data=stack_overflow,\n",
    "                        dv=\"converted_comp\",\n",
    "                        between=\"job_sat\",\n",
    "                        padjust=\"none\")"
   ]
  },
  {
   "cell_type": "code",
   "execution_count": 62,
   "metadata": {},
   "outputs": [
    {
     "data": {
      "text/html": [
       "<div>\n",
       "<style scoped>\n",
       "    .dataframe tbody tr th:only-of-type {\n",
       "        vertical-align: middle;\n",
       "    }\n",
       "\n",
       "    .dataframe tbody tr th {\n",
       "        vertical-align: top;\n",
       "    }\n",
       "\n",
       "    .dataframe thead th {\n",
       "        text-align: right;\n",
       "    }\n",
       "</style>\n",
       "<table border=\"1\" class=\"dataframe\">\n",
       "  <thead>\n",
       "    <tr style=\"text-align: right;\">\n",
       "      <th></th>\n",
       "      <th>Contrast</th>\n",
       "      <th>A</th>\n",
       "      <th>B</th>\n",
       "      <th>Paired</th>\n",
       "      <th>Parametric</th>\n",
       "      <th>T</th>\n",
       "      <th>dof</th>\n",
       "      <th>alternative</th>\n",
       "      <th>p-unc</th>\n",
       "      <th>p-corr</th>\n",
       "      <th>p-adjust</th>\n",
       "      <th>BF10</th>\n",
       "      <th>hedges</th>\n",
       "    </tr>\n",
       "  </thead>\n",
       "  <tbody>\n",
       "    <tr>\n",
       "      <th>0</th>\n",
       "      <td>job_sat</td>\n",
       "      <td>Very dissatisfied</td>\n",
       "      <td>Slightly dissatisfied</td>\n",
       "      <td>False</td>\n",
       "      <td>True</td>\n",
       "      <td>1.129951</td>\n",
       "      <td>247.570187</td>\n",
       "      <td>two-sided</td>\n",
       "      <td>0.259590</td>\n",
       "      <td>1.000000</td>\n",
       "      <td>bonf</td>\n",
       "      <td>0.197</td>\n",
       "      <td>0.119131</td>\n",
       "    </tr>\n",
       "    <tr>\n",
       "      <th>1</th>\n",
       "      <td>job_sat</td>\n",
       "      <td>Very dissatisfied</td>\n",
       "      <td>Neither</td>\n",
       "      <td>False</td>\n",
       "      <td>True</td>\n",
       "      <td>0.545948</td>\n",
       "      <td>321.165726</td>\n",
       "      <td>two-sided</td>\n",
       "      <td>0.585481</td>\n",
       "      <td>1.000000</td>\n",
       "      <td>bonf</td>\n",
       "      <td>0.135</td>\n",
       "      <td>0.058537</td>\n",
       "    </tr>\n",
       "    <tr>\n",
       "      <th>2</th>\n",
       "      <td>job_sat</td>\n",
       "      <td>Very dissatisfied</td>\n",
       "      <td>Slightly satisfied</td>\n",
       "      <td>False</td>\n",
       "      <td>True</td>\n",
       "      <td>1.243665</td>\n",
       "      <td>187.153329</td>\n",
       "      <td>two-sided</td>\n",
       "      <td>0.215179</td>\n",
       "      <td>1.000000</td>\n",
       "      <td>bonf</td>\n",
       "      <td>0.208</td>\n",
       "      <td>0.145624</td>\n",
       "    </tr>\n",
       "    <tr>\n",
       "      <th>3</th>\n",
       "      <td>job_sat</td>\n",
       "      <td>Very dissatisfied</td>\n",
       "      <td>Very satisfied</td>\n",
       "      <td>False</td>\n",
       "      <td>True</td>\n",
       "      <td>-0.747379</td>\n",
       "      <td>221.666205</td>\n",
       "      <td>two-sided</td>\n",
       "      <td>0.455627</td>\n",
       "      <td>1.000000</td>\n",
       "      <td>bonf</td>\n",
       "      <td>0.126</td>\n",
       "      <td>-0.063479</td>\n",
       "    </tr>\n",
       "    <tr>\n",
       "      <th>4</th>\n",
       "      <td>job_sat</td>\n",
       "      <td>Slightly dissatisfied</td>\n",
       "      <td>Neither</td>\n",
       "      <td>False</td>\n",
       "      <td>True</td>\n",
       "      <td>-0.602209</td>\n",
       "      <td>367.730081</td>\n",
       "      <td>two-sided</td>\n",
       "      <td>0.547406</td>\n",
       "      <td>1.000000</td>\n",
       "      <td>bonf</td>\n",
       "      <td>0.118</td>\n",
       "      <td>-0.055707</td>\n",
       "    </tr>\n",
       "    <tr>\n",
       "      <th>5</th>\n",
       "      <td>job_sat</td>\n",
       "      <td>Slightly dissatisfied</td>\n",
       "      <td>Slightly satisfied</td>\n",
       "      <td>False</td>\n",
       "      <td>True</td>\n",
       "      <td>0.038264</td>\n",
       "      <td>569.926329</td>\n",
       "      <td>two-sided</td>\n",
       "      <td>0.969491</td>\n",
       "      <td>1.000000</td>\n",
       "      <td>bonf</td>\n",
       "      <td>0.074</td>\n",
       "      <td>0.002719</td>\n",
       "    </tr>\n",
       "    <tr>\n",
       "      <th>6</th>\n",
       "      <td>job_sat</td>\n",
       "      <td>Slightly dissatisfied</td>\n",
       "      <td>Very satisfied</td>\n",
       "      <td>False</td>\n",
       "      <td>True</td>\n",
       "      <td>-3.076222</td>\n",
       "      <td>821.303063</td>\n",
       "      <td>two-sided</td>\n",
       "      <td>0.002166</td>\n",
       "      <td>0.021659</td>\n",
       "      <td>bonf</td>\n",
       "      <td>7.43</td>\n",
       "      <td>-0.173247</td>\n",
       "    </tr>\n",
       "    <tr>\n",
       "      <th>7</th>\n",
       "      <td>job_sat</td>\n",
       "      <td>Neither</td>\n",
       "      <td>Slightly satisfied</td>\n",
       "      <td>False</td>\n",
       "      <td>True</td>\n",
       "      <td>0.700752</td>\n",
       "      <td>258.204546</td>\n",
       "      <td>two-sided</td>\n",
       "      <td>0.484088</td>\n",
       "      <td>1.000000</td>\n",
       "      <td>bonf</td>\n",
       "      <td>0.114</td>\n",
       "      <td>0.068513</td>\n",
       "    </tr>\n",
       "    <tr>\n",
       "      <th>8</th>\n",
       "      <td>job_sat</td>\n",
       "      <td>Neither</td>\n",
       "      <td>Very satisfied</td>\n",
       "      <td>False</td>\n",
       "      <td>True</td>\n",
       "      <td>-1.662901</td>\n",
       "      <td>328.326639</td>\n",
       "      <td>two-sided</td>\n",
       "      <td>0.097286</td>\n",
       "      <td>0.972864</td>\n",
       "      <td>bonf</td>\n",
       "      <td>0.337</td>\n",
       "      <td>-0.120115</td>\n",
       "    </tr>\n",
       "    <tr>\n",
       "      <th>9</th>\n",
       "      <td>job_sat</td>\n",
       "      <td>Slightly satisfied</td>\n",
       "      <td>Very satisfied</td>\n",
       "      <td>False</td>\n",
       "      <td>True</td>\n",
       "      <td>-4.009935</td>\n",
       "      <td>1478.622799</td>\n",
       "      <td>two-sided</td>\n",
       "      <td>0.000064</td>\n",
       "      <td>0.000638</td>\n",
       "      <td>bonf</td>\n",
       "      <td>158.564</td>\n",
       "      <td>-0.192931</td>\n",
       "    </tr>\n",
       "  </tbody>\n",
       "</table>\n",
       "</div>"
      ],
      "text/plain": [
       "  Contrast                      A                      B  Paired  Parametric  \\\n",
       "0  job_sat      Very dissatisfied  Slightly dissatisfied   False        True   \n",
       "1  job_sat      Very dissatisfied                Neither   False        True   \n",
       "2  job_sat      Very dissatisfied     Slightly satisfied   False        True   \n",
       "3  job_sat      Very dissatisfied         Very satisfied   False        True   \n",
       "4  job_sat  Slightly dissatisfied                Neither   False        True   \n",
       "5  job_sat  Slightly dissatisfied     Slightly satisfied   False        True   \n",
       "6  job_sat  Slightly dissatisfied         Very satisfied   False        True   \n",
       "7  job_sat                Neither     Slightly satisfied   False        True   \n",
       "8  job_sat                Neither         Very satisfied   False        True   \n",
       "9  job_sat     Slightly satisfied         Very satisfied   False        True   \n",
       "\n",
       "          T          dof alternative     p-unc    p-corr p-adjust     BF10  \\\n",
       "0  1.129951   247.570187   two-sided  0.259590  1.000000     bonf    0.197   \n",
       "1  0.545948   321.165726   two-sided  0.585481  1.000000     bonf    0.135   \n",
       "2  1.243665   187.153329   two-sided  0.215179  1.000000     bonf    0.208   \n",
       "3 -0.747379   221.666205   two-sided  0.455627  1.000000     bonf    0.126   \n",
       "4 -0.602209   367.730081   two-sided  0.547406  1.000000     bonf    0.118   \n",
       "5  0.038264   569.926329   two-sided  0.969491  1.000000     bonf    0.074   \n",
       "6 -3.076222   821.303063   two-sided  0.002166  0.021659     bonf     7.43   \n",
       "7  0.700752   258.204546   two-sided  0.484088  1.000000     bonf    0.114   \n",
       "8 -1.662901   328.326639   two-sided  0.097286  0.972864     bonf    0.337   \n",
       "9 -4.009935  1478.622799   two-sided  0.000064  0.000638     bonf  158.564   \n",
       "\n",
       "     hedges  \n",
       "0  0.119131  \n",
       "1  0.058537  \n",
       "2  0.145624  \n",
       "3 -0.063479  \n",
       "4 -0.055707  \n",
       "5  0.002719  \n",
       "6 -0.173247  \n",
       "7  0.068513  \n",
       "8 -0.120115  \n",
       "9 -0.192931  "
      ]
     },
     "execution_count": 62,
     "metadata": {},
     "output_type": "execute_result"
    }
   ],
   "source": [
    "pingouin.pairwise_tests(data=stack_overflow,\n",
    "                        dv=\"converted_comp\",\n",
    "                        between=\"job_sat\",\n",
    "                        padjust=\"bonf\")"
   ]
  },
  {
   "cell_type": "markdown",
   "metadata": {},
   "source": [
    "Visualizing many categories\n",
    "So far in this chapter, we've only considered the case of differences in a numeric variable between two categories. Of course, many datasets contain more categories. Before you get to conducting tests on many categories, it's often helpful to perform exploratory data analysis (EDA), calculating summary statistics for each group and visualizing the distributions of the numeric variable for each category using box plots.\n",
    "\n",
    "Here, we'll return to the late shipments data, and how the price of each package (pack_price) varies between the three shipment modes (shipment_mode): \"Air\", \"Air Charter\", and \"Ocean\".\n",
    "\n",
    "late_shipments is available; pandas and matplotlib.pyplot are loaded with their standard aliases, and seaborn is loaded as sns."
   ]
  },
  {
   "cell_type": "code",
   "execution_count": 66,
   "metadata": {},
   "outputs": [
    {
     "name": "stdout",
     "output_type": "stream",
     "text": [
      "shipment_mode\n",
      "Air            39.712395\n",
      "Air Charter     4.226667\n",
      "Ocean           6.432273\n",
      "Name: pack_price, dtype: float64\n",
      "shipment_mode\n",
      "Air            48.932861\n",
      "Air Charter     0.992969\n",
      "Ocean           5.303047\n",
      "Name: pack_price, dtype: float64\n"
     ]
    },
    {
     "data": {
      "image/png": "[encoded data removed]",
      "text/plain": [
       "<Figure size 640x480 with 1 Axes>"
      ]
     },
     "metadata": {},
     "output_type": "display_data"
    }
   ],
   "source": [
    "xbar_pack_by_mode = late_shipments.groupby('shipment_mode')['pack_price'].mean()\n",
    "\n",
    "# Print the grouped means\n",
    "print(xbar_pack_by_mode)\n",
    "\n",
    "# Calculate the standard deviation of the pack_price for each shipment_mode\n",
    "s_pack_by_mode = late_shipments.groupby(\"shipment_mode\")['pack_price'].std()\n",
    "\n",
    "# Print the grouped standard deviations\n",
    "print(s_pack_by_mode)\n",
    "\n",
    "# Boxplot of shipment_mode vs. pack_price\n",
    "sns.boxplot(x=\"pack_price\",\n",
    "            y=\"shipment_mode\",\n",
    "            data=late_shipments)\n",
    "plt.show()"
   ]
  },
  {
   "cell_type": "markdown",
   "metadata": {},
   "source": [
    "Conducting an ANOVA test\n",
    "The box plots made it look like the distribution of pack price was different for each of the three shipment modes. However, it didn't tell us whether the mean pack price was different in each category. To determine that, we can use an ANOVA test. The null and alternative hypotheses can be written as follows.\n",
    "\n",
    "H0 : Pack prices for every category of shipment mode are the same.\n",
    "\n",
    "Ha: Pack prices for some categories of shipment mode are different.\n",
    "\n",
    "Use a significance level of 0.1.\n",
    "\n",
    "late_shipments is available and pingouin has been loaded."
   ]
  },
  {
   "cell_type": "code",
   "execution_count": null,
   "metadata": {},
   "outputs": [
    {
     "name": "stdout",
     "output_type": "stream",
     "text": [
      "          Source  ddof1  ddof2        F         p-unc       np2\n",
      "0  shipment_mode      2    997  21.8646  5.089479e-10  0.042018\n"
     ]
    }
   ],
   "source": [
    "# Run an ANOVA for pack_price across shipment_mode\n",
    "anova_results = pingouin.anova(data=late_shipments,\n",
    "                dv=\"pack_price\",\n",
    "                between=\"shipment_mode\")\n",
    "\n",
    "\n",
    "\n",
    "# Print anova_results\n",
    "print(anova_results)\n",
    "\n",
    "# Yes. The p-value is less than or equal to the significance level, \n",
    "# so the null hypothesis should be rejected."
   ]
  },
  {
   "cell_type": "markdown",
   "metadata": {},
   "source": [
    "Pairwise t-tests\n",
    "The ANOVA test didn't tell you which categories of shipment mode had significant differences in pack prices. To pinpoint which categories had differences, you could instead use pairwise t-tests.\n",
    "\n",
    "late_shipments is available and pingouin has been loaded."
   ]
  },
  {
   "cell_type": "code",
   "execution_count": 68,
   "metadata": {},
   "outputs": [
    {
     "name": "stdout",
     "output_type": "stream",
     "text": [
      "        Contrast            A            B  Paired  Parametric          T  \\\n",
      "0  shipment_mode          Air  Air Charter   False        True  21.179625   \n",
      "1  shipment_mode          Air        Ocean   False        True  19.335760   \n",
      "2  shipment_mode  Air Charter        Ocean   False        True  -3.170654   \n",
      "\n",
      "          dof alternative         p-unc       BF10    hedges  \n",
      "0  600.685682   two-sided  8.748346e-75  5.809e+76  0.726592  \n",
      "1  986.979785   two-sided  6.934555e-71  1.129e+67  0.711119  \n",
      "2   35.615026   two-sided  3.123012e-03     15.277 -0.423775  \n"
     ]
    }
   ],
   "source": [
    "# Perform a pairwise t-test on pack price, grouped by shipment mode\n",
    "pairwise_results = pingouin.pairwise_tests(data=late_shipments,\n",
    "                        dv=\"pack_price\",\n",
    "                        between=\"shipment_mode\",\n",
    "                        padjust=\"none\") \n",
    "\n",
    "\n",
    "\n",
    "\n",
    "# Print pairwise_results\n",
    "print(pairwise_results)"
   ]
  },
  {
   "cell_type": "code",
   "execution_count": 69,
   "metadata": {},
   "outputs": [
    {
     "name": "stdout",
     "output_type": "stream",
     "text": [
      "        Contrast            A            B  Paired  Parametric          T  \\\n",
      "0  shipment_mode          Air  Air Charter   False        True  21.179625   \n",
      "1  shipment_mode          Air        Ocean   False        True  19.335760   \n",
      "2  shipment_mode  Air Charter        Ocean   False        True  -3.170654   \n",
      "\n",
      "          dof alternative         p-unc        p-corr p-adjust       BF10  \\\n",
      "0  600.685682   two-sided  8.748346e-75  2.624504e-74     bonf  5.809e+76   \n",
      "1  986.979785   two-sided  6.934555e-71  2.080367e-70     bonf  1.129e+67   \n",
      "2   35.615026   two-sided  3.123012e-03  9.369037e-03     bonf     15.277   \n",
      "\n",
      "     hedges  \n",
      "0  0.726592  \n",
      "1  0.711119  \n",
      "2 -0.423775  \n"
     ]
    }
   ],
   "source": [
    "# Modify the pairwise t-tests to use Bonferroni p-value adjustment\n",
    "pairwise_results = pingouin.pairwise_tests(data=late_shipments, \n",
    "                                           dv=\"pack_price\",\n",
    "                                           between=\"shipment_mode\",\n",
    "                                           padjust=\"bonf\")\n",
    "\n",
    "# Print pairwise_results\n",
    "print(pairwise_results)"
   ]
  },
  {
   "attachments": {},
   "cell_type": "markdown",
   "metadata": {},
   "source": [
    "## **Proportion Tests (Module 03-054)**"
   ]
  },
  {
   "attachments": {},
   "cell_type": "markdown",
   "metadata": {},
   "source": [
    "#### **xxxx**\n",
    "\n",
    "1. xxx\n",
    "\n",
    "2. xxx\n",
    "\n",
    "3. xxx\n",
    "\n",
    "4. xxx"
   ]
  },
  {
   "cell_type": "code",
   "execution_count": null,
   "metadata": {},
   "outputs": [],
   "source": [
    "display(\n",
    "\n",
    ")\n",
    "\n",
    "display(\n",
    "\n",
    ")\n",
    "\n",
    "display(\n",
    "\n",
    ")"
   ]
  },
  {
   "attachments": {},
   "cell_type": "markdown",
   "metadata": {},
   "source": [
    "#### **xxxx**\n",
    "\n",
    "1. xxx\n",
    "\n",
    "2. xxx\n",
    "\n",
    "3. xxx\n",
    "\n",
    "4. xxx"
   ]
  },
  {
   "cell_type": "code",
   "execution_count": null,
   "metadata": {},
   "outputs": [],
   "source": [
    "display(\n",
    "\n",
    ")\n",
    "\n",
    "display(\n",
    "\n",
    ")\n",
    "\n",
    "display(\n",
    "\n",
    ")"
   ]
  },
  {
   "cell_type": "markdown",
   "metadata": {},
   "source": [
    "#### **xxxx**\n",
    "\n",
    "1. xxx\n",
    "\n",
    "2. xxx\n",
    "\n",
    "3. xxx\n",
    "\n",
    "4. xxx"
   ]
  },
  {
   "cell_type": "code",
   "execution_count": null,
   "metadata": {},
   "outputs": [],
   "source": [
    "display(\n",
    "\n",
    ")\n",
    "\n",
    "display(\n",
    "\n",
    ")\n",
    "\n",
    "display(\n",
    "\n",
    ")"
   ]
  },
  {
   "cell_type": "markdown",
   "metadata": {},
   "source": [
    "#### **xxxx**\n",
    "\n",
    "1. xxx\n",
    "\n",
    "2. xxx\n",
    "\n",
    "3. xxx\n",
    "\n",
    "4. xxx"
   ]
  },
  {
   "cell_type": "code",
   "execution_count": null,
   "metadata": {},
   "outputs": [],
   "source": [
    "display(\n",
    "\n",
    ")\n",
    "\n",
    "display(\n",
    "\n",
    ")\n",
    "\n",
    "display(\n",
    "\n",
    ")"
   ]
  },
  {
   "attachments": {},
   "cell_type": "markdown",
   "metadata": {},
   "source": [
    "## **Non-Parametric Tests (Module 04-054)**"
   ]
  },
  {
   "attachments": {},
   "cell_type": "markdown",
   "metadata": {},
   "source": [
    "#### **xxxx**\n",
    "\n",
    "1. xxx\n",
    "\n",
    "2. xxx\n",
    "\n",
    "3. xxx\n",
    "\n",
    "4. xxx"
   ]
  },
  {
   "cell_type": "code",
   "execution_count": null,
   "metadata": {},
   "outputs": [],
   "source": [
    "display(\n",
    "\n",
    ")\n",
    "\n",
    "display(\n",
    "\n",
    ")\n",
    "\n",
    "display(\n",
    "\n",
    ")"
   ]
  },
  {
   "attachments": {},
   "cell_type": "markdown",
   "metadata": {},
   "source": [
    "#### **xxxx**\n",
    "\n",
    "1. xxx\n",
    "\n",
    "2. xxx\n",
    "\n",
    "3. xxx\n",
    "\n",
    "4. xxx"
   ]
  },
  {
   "cell_type": "code",
   "execution_count": null,
   "metadata": {},
   "outputs": [],
   "source": [
    "display(\n",
    "\n",
    ")\n",
    "\n",
    "display(\n",
    "\n",
    ")\n",
    "\n",
    "display(\n",
    "\n",
    ")"
   ]
  },
  {
   "cell_type": "markdown",
   "metadata": {},
   "source": [
    "#### **xxxx**\n",
    "\n",
    "1. xxx\n",
    "\n",
    "2. xxx\n",
    "\n",
    "3. xxx\n",
    "\n",
    "4. xxx"
   ]
  },
  {
   "cell_type": "code",
   "execution_count": null,
   "metadata": {},
   "outputs": [],
   "source": [
    "display(\n",
    "\n",
    ")\n",
    "\n",
    "display(\n",
    "\n",
    ")\n",
    "\n",
    "display(\n",
    "\n",
    ")"
   ]
  },
  {
   "cell_type": "markdown",
   "metadata": {},
   "source": [
    "#### **xxxx**\n",
    "\n",
    "1. xxx\n",
    "\n",
    "2. xxx\n",
    "\n",
    "3. xxx\n",
    "\n",
    "4. xxx"
   ]
  },
  {
   "cell_type": "code",
   "execution_count": null,
   "metadata": {},
   "outputs": [
    {
     "name": "stdout",
     "output_type": "stream",
     "text": [
      "Perrenque!\n"
     ]
    }
   ],
   "source": [
    "print('Perrenque!')"
   ]
  },
  {
   "cell_type": "code",
   "execution_count": null,
   "metadata": {},
   "outputs": [],
   "source": []
  }
 ],
 "metadata": {
  "kernelspec": {
   "display_name": "Python 3",
   "language": "python",
   "name": "python3"
  },
  "language_info": {
   "codemirror_mode": {
    "name": "ipython",
    "version": 3
   },
   "file_extension": ".py",
   "mimetype": "text/x-python",
   "name": "python",
   "nbconvert_exporter": "python",
   "pygments_lexer": "ipython3",
   "version": "3.10.0"
  },
  "orig_nbformat": 4,
  "vscode": {
   "interpreter": {
    "hash": "26de051ba29f2982a8de78e945f0abaf191376122a1563185a90213a26c5da77"
   }
  }
 },
 "nbformat": 4,
 "nbformat_minor": 2
}
