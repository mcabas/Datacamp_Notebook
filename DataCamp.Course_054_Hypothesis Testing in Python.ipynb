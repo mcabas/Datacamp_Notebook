{
 "cells": [
  {
   "attachments": {},
   "cell_type": "markdown",
   "metadata": {},
   "source": [
    "# **DataCamp.Course_054_Hypothesis Testing in Python**\n",
    "\n",
    "### **Course Description**\n",
    "\n",
    "Hypothesis testing lets you answer questions about your datasets in a statistically rigorous way. In this course, you'll grow your Python analytical skills as you learn how and when to use common tests like t-tests, proportion tests, and chi-square tests. Working with real-world data, including Stack Overflow user feedback and supply-chain data for medical supply shipments, you'll gain a deep understanding of how these tests work and the key assumptions that underpin them. You'll also discover how non-parametric tests can be used to go beyond the limitations of traditional hypothesis tests."
   ]
  },
  {
   "cell_type": "code",
   "execution_count": 8,
   "metadata": {},
   "outputs": [
    {
     "data": {
      "text/html": [
       "<div>\n",
       "<style scoped>\n",
       "    .dataframe tbody tr th:only-of-type {\n",
       "        vertical-align: middle;\n",
       "    }\n",
       "\n",
       "    .dataframe tbody tr th {\n",
       "        vertical-align: top;\n",
       "    }\n",
       "\n",
       "    .dataframe thead th {\n",
       "        text-align: right;\n",
       "    }\n",
       "</style>\n",
       "<table border=\"1\" class=\"dataframe\">\n",
       "  <thead>\n",
       "    <tr style=\"text-align: right;\">\n",
       "      <th></th>\n",
       "      <th>respondent</th>\n",
       "      <th>main_branch</th>\n",
       "      <th>hobbyist</th>\n",
       "      <th>age</th>\n",
       "      <th>age_1st_code</th>\n",
       "      <th>age_first_code_cut</th>\n",
       "      <th>comp_freq</th>\n",
       "      <th>comp_total</th>\n",
       "      <th>converted_comp</th>\n",
       "      <th>country</th>\n",
       "      <th>...</th>\n",
       "      <th>survey_length</th>\n",
       "      <th>trans</th>\n",
       "      <th>undergrad_major</th>\n",
       "      <th>webframe_desire_next_year</th>\n",
       "      <th>webframe_worked_with</th>\n",
       "      <th>welcome_change</th>\n",
       "      <th>work_week_hrs</th>\n",
       "      <th>years_code</th>\n",
       "      <th>years_code_pro</th>\n",
       "      <th>age_cat</th>\n",
       "    </tr>\n",
       "  </thead>\n",
       "  <tbody>\n",
       "    <tr>\n",
       "      <th>0</th>\n",
       "      <td>36.0</td>\n",
       "      <td>I am not primarily a developer, but I write co...</td>\n",
       "      <td>Yes</td>\n",
       "      <td>34.0</td>\n",
       "      <td>30.0</td>\n",
       "      <td>adult</td>\n",
       "      <td>Yearly</td>\n",
       "      <td>60000.0</td>\n",
       "      <td>77556.0</td>\n",
       "      <td>United Kingdom</td>\n",
       "      <td>...</td>\n",
       "      <td>Appropriate in length</td>\n",
       "      <td>No</td>\n",
       "      <td>Computer science, computer engineering, or sof...</td>\n",
       "      <td>Express;React.js</td>\n",
       "      <td>Express;React.js</td>\n",
       "      <td>Just as welcome now as I felt last year</td>\n",
       "      <td>40.0</td>\n",
       "      <td>4.0</td>\n",
       "      <td>3.0</td>\n",
       "      <td>At least 30</td>\n",
       "    </tr>\n",
       "    <tr>\n",
       "      <th>1</th>\n",
       "      <td>47.0</td>\n",
       "      <td>I am a developer by profession</td>\n",
       "      <td>Yes</td>\n",
       "      <td>53.0</td>\n",
       "      <td>10.0</td>\n",
       "      <td>child</td>\n",
       "      <td>Yearly</td>\n",
       "      <td>58000.0</td>\n",
       "      <td>74970.0</td>\n",
       "      <td>United Kingdom</td>\n",
       "      <td>...</td>\n",
       "      <td>Appropriate in length</td>\n",
       "      <td>No</td>\n",
       "      <td>A natural science (such as biology, chemistry,...</td>\n",
       "      <td>Flask;Spring</td>\n",
       "      <td>Flask;Spring</td>\n",
       "      <td>Just as welcome now as I felt last year</td>\n",
       "      <td>40.0</td>\n",
       "      <td>43.0</td>\n",
       "      <td>28.0</td>\n",
       "      <td>At least 30</td>\n",
       "    </tr>\n",
       "  </tbody>\n",
       "</table>\n",
       "<p>2 rows × 63 columns</p>\n",
       "</div>"
      ],
      "text/plain": [
       "   respondent                                        main_branch hobbyist  \\\n",
       "0        36.0  I am not primarily a developer, but I write co...      Yes   \n",
       "1        47.0                     I am a developer by profession      Yes   \n",
       "\n",
       "    age  age_1st_code age_first_code_cut comp_freq  comp_total  \\\n",
       "0  34.0          30.0              adult    Yearly     60000.0   \n",
       "1  53.0          10.0              child    Yearly     58000.0   \n",
       "\n",
       "   converted_comp         country  ...          survey_length trans  \\\n",
       "0         77556.0  United Kingdom  ...  Appropriate in length    No   \n",
       "1         74970.0  United Kingdom  ...  Appropriate in length    No   \n",
       "\n",
       "                                     undergrad_major  \\\n",
       "0  Computer science, computer engineering, or sof...   \n",
       "1  A natural science (such as biology, chemistry,...   \n",
       "\n",
       "  webframe_desire_next_year webframe_worked_with  \\\n",
       "0          Express;React.js     Express;React.js   \n",
       "1              Flask;Spring         Flask;Spring   \n",
       "\n",
       "                            welcome_change work_week_hrs years_code  \\\n",
       "0  Just as welcome now as I felt last year          40.0        4.0   \n",
       "1  Just as welcome now as I felt last year          40.0       43.0   \n",
       "\n",
       "  years_code_pro      age_cat  \n",
       "0            3.0  At least 30  \n",
       "1           28.0  At least 30  \n",
       "\n",
       "[2 rows x 63 columns]"
      ]
     },
     "metadata": {},
     "output_type": "display_data"
    }
   ],
   "source": [
    "# read_feather function\n",
    "\n",
    "import os\n",
    "import pandas as pd\n",
    "folder_name = 'datasets'\n",
    "dir = r'C:\\Users\\mcaba\\OneDrive\\Escritorio\\Data Science\\Datacamp_Notebook\\Datacamp_Notebook\\{}'.format(folder_name)\n",
    "\n",
    "def read_feather_fun(folder_name,file_name, path):\n",
    "    path = dir\n",
    "    os.chdir(path)\n",
    "    df = pd.read_feather('{}.feather'.format(file_name))\n",
    "    return df\n",
    "\n",
    "stack_overflow = read_feather_fun('datasets','stack_overflow', dir)\n",
    "display(stack_overflow.head(2))"
   ]
  },
  {
   "cell_type": "code",
   "execution_count": 9,
   "metadata": {},
   "outputs": [
    {
     "data": {
      "text/html": [
       "<div>\n",
       "<style scoped>\n",
       "    .dataframe tbody tr th:only-of-type {\n",
       "        vertical-align: middle;\n",
       "    }\n",
       "\n",
       "    .dataframe tbody tr th {\n",
       "        vertical-align: top;\n",
       "    }\n",
       "\n",
       "    .dataframe thead th {\n",
       "        text-align: right;\n",
       "    }\n",
       "</style>\n",
       "<table border=\"1\" class=\"dataframe\">\n",
       "  <thead>\n",
       "    <tr style=\"text-align: right;\">\n",
       "      <th></th>\n",
       "      <th>state</th>\n",
       "      <th>county</th>\n",
       "      <th>dem_percent_12</th>\n",
       "      <th>dem_percent_16</th>\n",
       "    </tr>\n",
       "  </thead>\n",
       "  <tbody>\n",
       "    <tr>\n",
       "      <th>0</th>\n",
       "      <td>Alabama</td>\n",
       "      <td>Bullock</td>\n",
       "      <td>76.305900</td>\n",
       "      <td>74.946921</td>\n",
       "    </tr>\n",
       "    <tr>\n",
       "      <th>1</th>\n",
       "      <td>Alabama</td>\n",
       "      <td>Chilton</td>\n",
       "      <td>19.453671</td>\n",
       "      <td>15.847352</td>\n",
       "    </tr>\n",
       "  </tbody>\n",
       "</table>\n",
       "</div>"
      ],
      "text/plain": [
       "     state   county  dem_percent_12  dem_percent_16\n",
       "0  Alabama  Bullock       76.305900       74.946921\n",
       "1  Alabama  Chilton       19.453671       15.847352"
      ]
     },
     "metadata": {},
     "output_type": "display_data"
    }
   ],
   "source": [
    "dem_votes_potus_12_16 = read_feather_fun('datasets','dem_votes_potus_12_16', dir)\n",
    "display(dem_votes_potus_12_16.head(2))"
   ]
  },
  {
   "cell_type": "code",
   "execution_count": 10,
   "metadata": {},
   "outputs": [
    {
     "data": {
      "text/html": [
       "<div>\n",
       "<style scoped>\n",
       "    .dataframe tbody tr th:only-of-type {\n",
       "        vertical-align: middle;\n",
       "    }\n",
       "\n",
       "    .dataframe tbody tr th {\n",
       "        vertical-align: top;\n",
       "    }\n",
       "\n",
       "    .dataframe thead th {\n",
       "        text-align: right;\n",
       "    }\n",
       "</style>\n",
       "<table border=\"1\" class=\"dataframe\">\n",
       "  <thead>\n",
       "    <tr style=\"text-align: right;\">\n",
       "      <th></th>\n",
       "      <th>id</th>\n",
       "      <th>country</th>\n",
       "      <th>managed_by</th>\n",
       "      <th>fulfill_via</th>\n",
       "      <th>vendor_inco_term</th>\n",
       "      <th>shipment_mode</th>\n",
       "      <th>late_delivery</th>\n",
       "      <th>late</th>\n",
       "      <th>product_group</th>\n",
       "      <th>sub_classification</th>\n",
       "      <th>...</th>\n",
       "      <th>line_item_quantity</th>\n",
       "      <th>line_item_value</th>\n",
       "      <th>pack_price</th>\n",
       "      <th>unit_price</th>\n",
       "      <th>manufacturing_site</th>\n",
       "      <th>first_line_designation</th>\n",
       "      <th>weight_kilograms</th>\n",
       "      <th>freight_cost_usd</th>\n",
       "      <th>freight_cost_groups</th>\n",
       "      <th>line_item_insurance_usd</th>\n",
       "    </tr>\n",
       "  </thead>\n",
       "  <tbody>\n",
       "    <tr>\n",
       "      <th>0</th>\n",
       "      <td>36203.0</td>\n",
       "      <td>Nigeria</td>\n",
       "      <td>PMO - US</td>\n",
       "      <td>Direct Drop</td>\n",
       "      <td>EXW</td>\n",
       "      <td>Air</td>\n",
       "      <td>1.0</td>\n",
       "      <td>Yes</td>\n",
       "      <td>HRDT</td>\n",
       "      <td>HIV test</td>\n",
       "      <td>...</td>\n",
       "      <td>2996.0</td>\n",
       "      <td>266644.0</td>\n",
       "      <td>89.0</td>\n",
       "      <td>0.89</td>\n",
       "      <td>Alere Medical Co., Ltd.</td>\n",
       "      <td>Yes</td>\n",
       "      <td>1426.0</td>\n",
       "      <td>33279.83</td>\n",
       "      <td>expensive</td>\n",
       "      <td>373.83</td>\n",
       "    </tr>\n",
       "    <tr>\n",
       "      <th>1</th>\n",
       "      <td>30998.0</td>\n",
       "      <td>Botswana</td>\n",
       "      <td>PMO - US</td>\n",
       "      <td>Direct Drop</td>\n",
       "      <td>EXW</td>\n",
       "      <td>Air</td>\n",
       "      <td>0.0</td>\n",
       "      <td>No</td>\n",
       "      <td>HRDT</td>\n",
       "      <td>HIV test</td>\n",
       "      <td>...</td>\n",
       "      <td>25.0</td>\n",
       "      <td>800.0</td>\n",
       "      <td>32.0</td>\n",
       "      <td>1.60</td>\n",
       "      <td>Trinity Biotech, Plc</td>\n",
       "      <td>Yes</td>\n",
       "      <td>10.0</td>\n",
       "      <td>559.89</td>\n",
       "      <td>reasonable</td>\n",
       "      <td>1.72</td>\n",
       "    </tr>\n",
       "  </tbody>\n",
       "</table>\n",
       "<p>2 rows × 27 columns</p>\n",
       "</div>"
      ],
      "text/plain": [
       "        id   country managed_by  fulfill_via vendor_inco_term shipment_mode  \\\n",
       "0  36203.0   Nigeria   PMO - US  Direct Drop              EXW           Air   \n",
       "1  30998.0  Botswana   PMO - US  Direct Drop              EXW           Air   \n",
       "\n",
       "   late_delivery late product_group sub_classification  ...  \\\n",
       "0            1.0  Yes          HRDT           HIV test  ...   \n",
       "1            0.0   No          HRDT           HIV test  ...   \n",
       "\n",
       "  line_item_quantity line_item_value pack_price unit_price  \\\n",
       "0             2996.0        266644.0       89.0       0.89   \n",
       "1               25.0           800.0       32.0       1.60   \n",
       "\n",
       "        manufacturing_site first_line_designation  weight_kilograms  \\\n",
       "0  Alere Medical Co., Ltd.                    Yes            1426.0   \n",
       "1     Trinity Biotech, Plc                    Yes              10.0   \n",
       "\n",
       "   freight_cost_usd  freight_cost_groups  line_item_insurance_usd  \n",
       "0          33279.83            expensive                   373.83  \n",
       "1            559.89           reasonable                     1.72  \n",
       "\n",
       "[2 rows x 27 columns]"
      ]
     },
     "metadata": {},
     "output_type": "display_data"
    }
   ],
   "source": [
    "late_shipments = read_feather_fun('datasets','late_shipments', dir)\n",
    "display(late_shipments.head(2))"
   ]
  },
  {
   "cell_type": "code",
   "execution_count": 11,
   "metadata": {},
   "outputs": [
    {
     "data": {
      "text/html": [
       "<div>\n",
       "<style scoped>\n",
       "    .dataframe tbody tr th:only-of-type {\n",
       "        vertical-align: middle;\n",
       "    }\n",
       "\n",
       "    .dataframe tbody tr th {\n",
       "        vertical-align: top;\n",
       "    }\n",
       "\n",
       "    .dataframe thead th {\n",
       "        text-align: right;\n",
       "    }\n",
       "</style>\n",
       "<table border=\"1\" class=\"dataframe\">\n",
       "  <thead>\n",
       "    <tr style=\"text-align: right;\">\n",
       "      <th></th>\n",
       "      <th>state</th>\n",
       "      <th>county</th>\n",
       "      <th>repub_percent_08</th>\n",
       "      <th>repub_percent_12</th>\n",
       "    </tr>\n",
       "  </thead>\n",
       "  <tbody>\n",
       "    <tr>\n",
       "      <th>0</th>\n",
       "      <td>Alabama</td>\n",
       "      <td>Hale</td>\n",
       "      <td>38.957877</td>\n",
       "      <td>37.139882</td>\n",
       "    </tr>\n",
       "    <tr>\n",
       "      <th>1</th>\n",
       "      <td>Arkansas</td>\n",
       "      <td>Nevada</td>\n",
       "      <td>56.726272</td>\n",
       "      <td>58.983452</td>\n",
       "    </tr>\n",
       "  </tbody>\n",
       "</table>\n",
       "</div>"
      ],
      "text/plain": [
       "      state  county  repub_percent_08  repub_percent_12\n",
       "0   Alabama    Hale         38.957877         37.139882\n",
       "1  Arkansas  Nevada         56.726272         58.983452"
      ]
     },
     "metadata": {},
     "output_type": "display_data"
    }
   ],
   "source": [
    "repub_votes_potus_08_12 = read_feather_fun('datasets','repub_votes_potus_08_12', dir)\n",
    "display(repub_votes_potus_08_12.head(2))"
   ]
  },
  {
   "attachments": {},
   "cell_type": "markdown",
   "metadata": {},
   "source": [
    "## **Hypothesis Testing Fundamentals (Module 01-054)**"
   ]
  },
  {
   "attachments": {},
   "cell_type": "markdown",
   "metadata": {},
   "source": [
    "#### **Hypothesis tests and z-scores**\n",
    "\n",
    "1. A/B testing\n",
    "In 2013, Electronic Arts (EA) released SimCity 5\n",
    "    They wanted to increase pre-orders of the\n",
    "    game\n",
    "    They used A/B testing to test different\n",
    "    advertising scenarios\n",
    "    This involves splitting users into control and\n",
    "    treatment groups\n",
    "\n",
    "A/B test results\n",
    "The treatment group (no ad) got 43.4% more purchases than the control group (with ad)\n",
    "    Intuition that \"showing an ad would increase sales\" was false\n",
    "    Was this result statistically significant or just chance?\n",
    "    Need EA's data to determine this\n",
    "    Techniques from Sampling in Python + this course to do so\n",
    "\n",
    "2. Stack Overflow Developer Survey 2020\n",
    "\n",
    "import pandas as pd\n",
    "print(stack_overflow)\n",
    "\n",
    "3. Hypothesizing about the mean\n",
    "\n",
    "A hypothesis:\n",
    "The mean annual compensation of the population of data scientists is $110,000\n",
    "The point estimate (sample statistic):\n",
    "mean_comp_samp = stack_overflow['converted_comp'].mean()\n",
    "\n",
    "4. Generating a bootstrap distribution\n",
    "\n",
    "import numpy as np\n",
    "# Step 3. Repeat steps 1 & 2 many times, appending to a list\n",
    "so_boot_distn = []\n",
    "for i in range(5000):\n",
    "    so_boot_distn.append(\n",
    "    # Step 2. Calculate point estimate\n",
    "        np.mean(\n",
    "            # Step 1. Resample\n",
    "            stack_overflow.sample(frac=1, replace=True)['converted_comp']\n",
    "        )\n",
    ")\n",
    "\n",
    "5. Visualizing the bootstrap distribution\n",
    "\n",
    "import matplotlib.pyplot as plt\n",
    "plt.hist(so_boot_distn, bins=50)\n",
    "plt.show()\n",
    "\n",
    "6. Standard error\n",
    "\n",
    "std_error = np.std(so_boot_distn, ddof=1)\n",
    "\n",
    "7. z-scores\n",
    "\n",
    "standardized value = (value)-(mean) / (standard deviation)\n",
    "\n",
    "z = (sample stat)-(hypoth.param.value) / (standard error)\n",
    "\n",
    "stack_overflow['converted_comp'].mean()\n",
    "\n",
    "mean_comp_hyp = 110000\n",
    "\n",
    "z_score = (mean_comp_samp - mean_comp_hyp) / std_error\n",
    "\n",
    "8. Testing the hypothesis\n",
    "\n",
    "Is 1.707 a high or low number?\n",
    "This is the goal of the course!\n",
    "Hypothesis testing use case:\n",
    "Determine whether sample statistics are close to or far \n",
    "away from expected (or\"hypothesized\" values)\n",
    "\n",
    "9. Standard normal (z) distribution\n",
    "\n",
    "Standard normal distribution: normal distribution with mean = 0 + standard deviation = 1"
   ]
  },
  {
   "cell_type": "code",
   "execution_count": 19,
   "metadata": {},
   "outputs": [
    {
     "name": "stdout",
     "output_type": "stream",
     "text": [
      "119574.71738168952\n"
     ]
    },
    {
     "data": {
      "image/png": "[encoded data removed]",
      "text/plain": [
       "<Figure size 640x480 with 1 Axes>"
      ]
     },
     "metadata": {},
     "output_type": "display_data"
    },
    {
     "name": "stdout",
     "output_type": "stream",
     "text": [
      "5591.133732291221\n"
     ]
    }
   ],
   "source": [
    "# A hypothesis:\n",
    "# The mean annual compensation of the population of data scientists is $110,000\n",
    "# The point estimate (sample statistic):\n",
    "\n",
    "mean_comp_samp = stack_overflow['converted_comp'].mean()\n",
    "print(mean_comp_samp)\n",
    "\n",
    "import numpy as np\n",
    "# Step 3. Repeat steps 1 & 2 many times, appending to a list\n",
    "so_boot_distn = []\n",
    "for i in range(5000):\n",
    "    so_boot_distn.append(\n",
    "    # Step 2. Calculate point estimate\n",
    "        np.mean(\n",
    "            # Step 1. Resample\n",
    "            stack_overflow.sample(frac=1, replace=True)['converted_comp']\n",
    "        )\n",
    ")\n",
    "\n",
    "import matplotlib.pyplot as plt\n",
    "plt.hist(so_boot_distn, bins=50)\n",
    "plt.show()\n",
    "\n",
    "std_error = np.std(so_boot_distn, ddof=1)\n",
    "print(std_error)"
   ]
  },
  {
   "cell_type": "code",
   "execution_count": null,
   "metadata": {},
   "outputs": [
    {
     "name": "stdout",
     "output_type": "stream",
     "text": [
      "119574.71738168952\n",
      "1.7124822692741866\n"
     ]
    }
   ],
   "source": [
    "print(stack_overflow['converted_comp'].mean())\n",
    "\n",
    "mean_comp_hyp = 110000\n",
    "\n",
    "z_score = (mean_comp_samp - mean_comp_hyp) / std_error\n",
    "\n",
    "print(z_score)\n"
   ]
  },
  {
   "cell_type": "markdown",
   "metadata": {},
   "source": [
    "Calculating the sample mean\n",
    "The late_shipments dataset contains supply chain data on the delivery of medical supplies. Each row represents one delivery of a part. The late columns denotes whether or not the part was delivered late. A value of \"Yes\" means that the part was delivered late, and a value of \"No\" means the part was delivered on time.\n",
    "\n",
    "You'll begin your analysis by calculating a point estimate (or sample statistic), namely the proportion of late shipments.\n",
    "\n",
    "In pandas, a value's proportion in a categorical DataFrame column can be quickly calculated using the syntax:\n",
    "\n",
    "prop = (df['col'] == val).mean()\n",
    "late_shipments is available, and pandas is loaded as pd."
   ]
  },
  {
   "cell_type": "code",
   "execution_count": 30,
   "metadata": {},
   "outputs": [
    {
     "name": "stdout",
     "output_type": "stream",
     "text": [
      "          id       country managed_by  fulfill_via vendor_inco_term  \\\n",
      "0    36203.0       Nigeria   PMO - US  Direct Drop              EXW   \n",
      "1    30998.0      Botswana   PMO - US  Direct Drop              EXW   \n",
      "2    69871.0       Vietnam   PMO - US  Direct Drop              EXW   \n",
      "3    17648.0  South Africa   PMO - US  Direct Drop              DDP   \n",
      "4     5647.0        Uganda   PMO - US  Direct Drop              EXW   \n",
      "..       ...           ...        ...          ...              ...   \n",
      "995  13608.0        Uganda   PMO - US  Direct Drop              DDP   \n",
      "996  80394.0    Congo, DRC   PMO - US  Direct Drop              EXW   \n",
      "997  61675.0        Zambia   PMO - US  Direct Drop              EXW   \n",
      "998  39182.0  South Africa   PMO - US  Direct Drop              DDP   \n",
      "999   5645.0      Botswana   PMO - US  Direct Drop              EXW   \n",
      "\n",
      "    shipment_mode  late_delivery late product_group    sub_classification  \\\n",
      "0             Air            1.0  Yes          HRDT              HIV test   \n",
      "1             Air            0.0   No          HRDT              HIV test   \n",
      "2             Air            0.0   No           ARV                 Adult   \n",
      "3           Ocean            0.0   No           ARV                 Adult   \n",
      "4             Air            0.0   No          HRDT  HIV test - Ancillary   \n",
      "..            ...            ...  ...           ...                   ...   \n",
      "995           Air            0.0   No           ARV                 Adult   \n",
      "996           Air            0.0   No          HRDT              HIV test   \n",
      "997           Air            1.0  Yes          HRDT              HIV test   \n",
      "998         Ocean            0.0   No           ARV                 Adult   \n",
      "999           Air            0.0   No          HRDT              HIV test   \n",
      "\n",
      "     ... line_item_quantity line_item_value pack_price unit_price  \\\n",
      "0    ...             2996.0       266644.00      89.00       0.89   \n",
      "1    ...               25.0          800.00      32.00       1.60   \n",
      "2    ...            22925.0       110040.00       4.80       0.08   \n",
      "3    ...           152535.0       361507.95       2.37       0.04   \n",
      "4    ...              850.0            8.50       0.01       0.00   \n",
      "..   ...                ...             ...        ...        ...   \n",
      "995  ...              121.0         9075.00      75.00       0.62   \n",
      "996  ...              292.0         9344.00      32.00       1.60   \n",
      "997  ...             2127.0       170160.00      80.00       0.80   \n",
      "998  ...           191011.0       861459.61       4.51       0.15   \n",
      "999  ...              200.0        14398.00      71.99       0.72   \n",
      "\n",
      "               manufacturing_site first_line_designation  weight_kilograms  \\\n",
      "0         Alere Medical Co., Ltd.                    Yes            1426.0   \n",
      "1            Trinity Biotech, Plc                    Yes              10.0   \n",
      "2    Hetero Unit III Hyderabad IN                    Yes            3723.0   \n",
      "3       Aurobindo Unit III, India                    Yes            7698.0   \n",
      "4                 Inverness Japan                    Yes              56.0   \n",
      "..                            ...                    ...               ...   \n",
      "995     Janssen-Cilag, Latina, IT                    Yes              43.0   \n",
      "996          Trinity Biotech, Plc                    Yes              99.0   \n",
      "997       Alere Medical Co., Ltd.                    Yes             881.0   \n",
      "998     Aurobindo Unit III, India                    Yes           16234.0   \n",
      "999               Inverness Japan                    Yes              46.0   \n",
      "\n",
      "     freight_cost_usd  freight_cost_groups  line_item_insurance_usd  \n",
      "0            33279.83            expensive                   373.83  \n",
      "1              559.89           reasonable                     1.72  \n",
      "2            19056.13            expensive                   181.57  \n",
      "3            11372.23            expensive                   779.41  \n",
      "4              360.00           reasonable                     0.01  \n",
      "..                ...                  ...                      ...  \n",
      "995            199.00           reasonable                    12.72  \n",
      "996           2162.55           reasonable                    13.10  \n",
      "997          14019.38            expensive                   210.49  \n",
      "998          14439.17            expensive                  1421.41  \n",
      "999           1028.18           reasonable                    23.04  \n",
      "\n",
      "[1000 rows x 27 columns]\n",
      "0.061\n"
     ]
    }
   ],
   "source": [
    "# Print the late_shipments dataset\n",
    "print(late_shipments)\n",
    "\n",
    "# Calculate the proportion of late shipments\n",
    "late_prop_samp = (late_shipments['late'] == \"Yes\").mean()\n",
    "\n",
    "# Print the results\n",
    "print(late_prop_samp)"
   ]
  },
  {
   "cell_type": "markdown",
   "metadata": {},
   "source": [
    "Calculating a z-score\n",
    "Since variables have arbitrary ranges and units, we need to standardize them. For example, a hypothesis test that gave different answers if the variables were in Euros instead of US dollars would be of little value. Standardization avoids that.\n",
    "\n",
    "One standardized value of interest in a hypothesis test is called a z-score. To calculate it, you need three numbers: the sample statistic (point estimate), the hypothesized statistic, and the standard error of the statistic (estimated from the bootstrap distribution).\n",
    "\n",
    "The sample statistic is available as late_prop_samp.\n",
    "\n",
    "late_shipments_boot_distn is a bootstrap distribution of the proportion of late shipments, available as a list.\n",
    "\n",
    "pandas and numpy are loaded with their usual aliases."
   ]
  },
  {
   "cell_type": "code",
   "execution_count": 42,
   "metadata": {},
   "outputs": [
    {
     "data": {
      "image/png": "[encoded data removed]",
      "text/plain": [
       "<Figure size 640x480 with 1 Axes>"
      ]
     },
     "metadata": {},
     "output_type": "display_data"
    }
   ],
   "source": [
    "late_shipments['is_late'] = late_shipments['late'].apply(\n",
    "    lambda x: 1 if x == 'Yes' else 0\n",
    ")\n",
    "\n",
    "late_shipments_boot_distn = []\n",
    "for i in range(5000):\n",
    "    late_shipments_boot_distn.append(\n",
    "    # Step 2. Calculate point estimate\n",
    "        np.mean(\n",
    "            # Step 1. Resample\n",
    "            late_shipments.sample(frac=1, replace=True)['is_late']\n",
    "        )\n",
    ")\n",
    "\n",
    "import matplotlib.pyplot as plt\n",
    "plt.hist(late_shipments_boot_distn, bins=25)\n",
    "plt.show()"
   ]
  },
  {
   "cell_type": "code",
   "execution_count": 43,
   "metadata": {},
   "outputs": [
    {
     "name": "stdout",
     "output_type": "stream",
     "text": [
      "0.1304033772448466\n"
     ]
    }
   ],
   "source": [
    "# Hypothesize that the proportion is 6%\n",
    "late_prop_hyp = 0.06\n",
    "\n",
    "# Calculate the standard error\n",
    "std_error = np.std(late_shipments_boot_distn, ddof=1)\n",
    "\n",
    "# Find z-score of late_prop_samp\n",
    "z_score = (late_prop_samp - late_prop_hyp) / std_error\n",
    "\n",
    "\n",
    "# Print z_score\n",
    "print(z_score)"
   ]
  },
  {
   "attachments": {},
   "cell_type": "markdown",
   "metadata": {},
   "source": [
    "#### **p-values**\n",
    "\n",
    "1. Criminal trials\n",
    "\n",
    "Two possible true states:\n",
    "        1. Defendant committed the crime\n",
    "        2. Defendant did not commit the crime\n",
    "Two possible verdicts:\n",
    "        1. Guilty\n",
    "        2. Not guilty\n",
    "    Initially the defendant is assumed to be not guilty\n",
    "    \n",
    "2. Age of first programming experience\n",
    "\n",
    "age_first_code_cut classifies when Stack Overflow user first started programming\n",
    "    \"adult\" means they started at 14 or older\n",
    "    \"child\" means they started before 14\n",
    "Previous research: 35% of software developers started programming as children\n",
    "Evidence that a greater proportion of data scientists starting programming as children?\n",
    "\n",
    "3. Definitions\n",
    "\n",
    "A hypothesis is a statement about an unknown population parameter\n",
    "A hypothesis test is a test of two competing hypotheses\n",
    "The null hypothesis (H0 ) is the existing idea\n",
    "The alternative hypothesis (Ha ) is the new \"challenger\" idea of the researcher\n",
    "For our problem:\n",
    "H0 : The proportion of data scientists starting programming as children is 35%\n",
    "Ha : The proportion of data scientists starting programming as children is greater than 35%\n",
    "\n",
    "4. Criminal trials vs. hypothesis testing\n",
    "\n",
    "Either Ha or H0 is true (not both)\n",
    "Initially, H0 is assumed to be true\n",
    "The test ends in either \"reject H0 \" or \"fail to reject H0 \"\n",
    "If the evidence from the sample is \"significant\" that Ha is true, reject H0 , else choose H0\n",
    "Significance level is \"beyond a reasonable doubt\" for hypothesis testing\n",
    "\n",
    "5. One-tailed and two-tailed tests\n",
    "\n",
    "Hypothesis tests check if the sample statistics\n",
    "lie in the tails of the null distribution\n",
    "\n",
    "Test                                            Tails\n",
    "alternative different from null             two-tailed\n",
    "alternative greater than null               right-tailed\n",
    "alternative less than null                  left-tailed\n",
    "\n",
    "Ha : The proportion of data scientists starting\n",
    "programming as children is greater than 35%\n",
    "This is a right-tailed test\n",
    "\n",
    "p-values: probability of obtaining a result,\n",
    "assuming the null hypothesis is true\n",
    "\n",
    "Large p-value, large support for H0\n",
    "Statistic likely not in the tail of the null\n",
    "distribution\n",
    "\n",
    "Small p-value, strong evidence against H0\n",
    "Statistic likely in the tail of the null\n",
    "distribution\n",
    "\n",
    "\"p\" in p-value → probability\n",
    "\"small\" means \"close to zero\"\n",
    "\n",
    "6. Calculating the z-score\n",
    "\n",
    "prop_child_samp = (stack_overflow['age_first_code_cut'] == \"child\").mean()\n",
    "\n",
    "prop_child_hyp = 0.35\n",
    "\n",
    "std_error = np.std(first_code_boot_distn, ddof=1)\n",
    "\n",
    "z_score = (prop_child_samp - prop_child_hyp) / std_error\n",
    "\n",
    "7. Calculating the p-value\n",
    "\n",
    "norm.cdf() is normal CDF from scipy.stats .\n",
    "Left-tailed test → use norm.cdf() .\n",
    "Right-tailed test → use 1 - norm.cdf() .\n",
    "\n",
    "from scipy.stats import norm\n",
    "1 - norm.cdf(z_score, loc=0, scale=1)"
   ]
  },
  {
   "cell_type": "code",
   "execution_count": 53,
   "metadata": {},
   "outputs": [
    {
     "name": "stdout",
     "output_type": "stream",
     "text": [
      "0.35\n",
      "0.010220641277929692\n",
      "4.05255645499388\n",
      "2.5330496868258834e-05\n"
     ]
    }
   ],
   "source": [
    "stack_overflow['is_child'] = stack_overflow['age_first_code_cut'].apply(\n",
    "    lambda x: 1 if x == 'child' else 0\n",
    ")\n",
    "\n",
    "first_code_boot_distn = []\n",
    "for i in range(5000):\n",
    "    first_code_boot_distn.append(\n",
    "    # Step 2. Calculate point estimate\n",
    "        np.mean(\n",
    "            # Step 1. Resample\n",
    "            stack_overflow.sample(frac=1, replace=True)['is_child']\n",
    "        )\n",
    ")\n",
    "\n",
    "prop_child_samp = (stack_overflow['age_first_code_cut'] == \"child\").mean()\n",
    "\n",
    "prop_child_hyp = 0.35\n",
    "\n",
    "std_error = np.std(first_code_boot_distn, ddof=1)\n",
    "\n",
    "z_score = (prop_child_samp - prop_child_hyp) / std_error\n",
    "\n",
    "print(prop_child_hyp)\n",
    "print(std_error)\n",
    "print(z_score)\n",
    "\n",
    "from scipy.stats import norm\n",
    "p_value = 1 - norm.cdf(z_score, loc=0, scale=1)\n",
    "print(p_value)"
   ]
  },
  {
   "cell_type": "markdown",
   "metadata": {},
   "source": [
    "Calculating p-values\n",
    "In order to determine whether to choose the null hypothesis or the alternative hypothesis, you need to calculate a p-value from the z-score.\n",
    "\n",
    "You'll now return to the late shipments dataset and the proportion of late shipments.\n",
    "\n",
    "The null hypothesis, \n",
    ", is that the proportion of late shipments is six percent.\n",
    "\n",
    "The alternative hypothesis, \n",
    ", is that the proportion of late shipments is greater than six percent.\n",
    "\n",
    "The observed sample statistic, late_prop_samp, the hypothesized value, late_prop_hyp (6%), and the bootstrap standard error, std_error are available. norm from scipy.stats has also been loaded without an alias."
   ]
  },
  {
   "cell_type": "code",
   "execution_count": 55,
   "metadata": {},
   "outputs": [
    {
     "name": "stdout",
     "output_type": "stream",
     "text": [
      "0.4610291882398514\n"
     ]
    }
   ],
   "source": [
    "# Calculate the z-score of late_prop_samp\n",
    "z_score = (late_prop_samp - late_prop_hyp) / std_error\n",
    "\n",
    "# Calculate the p-value\n",
    "p_value = 1 - norm.cdf(z_score, loc=0, scale=1)\n",
    "                 \n",
    "# Print the p-value\n",
    "print(p_value) \n"
   ]
  },
  {
   "cell_type": "markdown",
   "metadata": {},
   "source": [
    "#### **Statistical significance**\n",
    "\n",
    "1. p-value recap\n",
    "p-values quantify evidence for the null hypothesis\n",
    "Large p-value → fail to reject null hypothesis\n",
    "Small p-value → reject null hypothesis\n",
    "Where is the cutoff point?\n",
    "\n",
    "2. Significance level\n",
    "The significance level of a hypothesis test (α) is the threshold point for \"beyond a\n",
    "reasonable doubt\"\n",
    "Common values of α are 0.2 , 0.1 , 0.05 , and 0.01\n",
    "If p ≤ α, reject H , else fail to reject H\n",
    "α should be set prior to conducting the hypothesis test\n",
    "\n",
    "3. Calculating the p-value\n",
    "alpha = 0.05\n",
    "prop_child_samp = (stack_overflow['age_first_code_cut'] == \"child\").mean()\n",
    "prop_child_hyp = 0.35\n",
    "std_error = np.std(first_code_boot_distn, ddof=1)\n",
    "z_score = (prop_child_samp - prop_child_hyp) / std_error\n",
    "p_value = 1 - norm.cdf(z_score, loc=0, scale=1)\n",
    "\n",
    "4. Making a decision\n",
    "\n",
    "alpha = 0.05\n",
    "print(p_value)\n",
    "3.1471479512323874e-05\n",
    "p_value <= alpha\n",
    "True\n",
    "Reject H0 in favor of HA\n",
    "\n",
    "5. Confidence intervals\n",
    "\n",
    "For a significance level of α, it's common to choose a confidence interval level of 1 - α\n",
    "α = 0.05 → 95% confidence interval\n",
    "import numpy as np\n",
    "lower = np.quantile(first_code_boot_distn, 0.025)\n",
    "upper = np.quantile(first_code_boot_distn, 0.975)\n",
    "print((lower, upper))\n",
    "(0.37063246351172047, 0.41132242370632466)\n",
    "\n",
    "6. Types of errors\n",
    "\n",
    "                        Truly didn't commit crime       Truly committed crime\n",
    "Verdict not guilty      correct                         they got away with it\n",
    "Verdict guilty          wrongful conviction             correct\n",
    "\n",
    "\n",
    "                        actual H0                        actual Ha\n",
    "chosen H0               correct                         false negative\n",
    "chosen Ha               false                           positive correct\n",
    "\n",
    "False positives are Type I errors; false negatives are Type II errors.\n",
    "\n",
    "7. Possible errors in our example\n",
    "\n",
    "If p ≤ α, we reject H :\n",
    "    A false positive (Type I) error: data scientists didn't start coding as children at a higher rate\n",
    "If p > α, we fail to reject H :\n",
    "    A false negative (Type II) error: data scientists started coding as children at a higher rate\n",
    "\n",
    "\n",
    "    If the null hypothesis is true and you rejected it, you've committed a type I error."
   ]
  },
  {
   "cell_type": "code",
   "execution_count": 58,
   "metadata": {},
   "outputs": [
    {
     "name": "stdout",
     "output_type": "stream",
     "text": [
      "2.5330496868258834e-05\n",
      "True\n"
     ]
    }
   ],
   "source": [
    "alpha = 0.05\n",
    "prop_child_samp = (stack_overflow['age_first_code_cut'] == \"child\").mean()\n",
    "prop_child_hyp = 0.35\n",
    "std_error = np.std(first_code_boot_distn, ddof=1)\n",
    "z_score = (prop_child_samp - prop_child_hyp) / std_error\n",
    "p_value = 1 - norm.cdf(z_score, loc=0, scale=1)\n",
    "\n",
    "print(p_value) \n",
    "\n",
    "print(p_value <= alpha)\n",
    "## Reject H0 in favor of HA"
   ]
  },
  {
   "cell_type": "code",
   "execution_count": 59,
   "metadata": {},
   "outputs": [
    {
     "name": "stdout",
     "output_type": "stream",
     "text": [
      "(0.3715170278637771, 0.4113334807607252)\n"
     ]
    }
   ],
   "source": [
    "import numpy as np\n",
    "lower = np.quantile(first_code_boot_distn, 0.025)\n",
    "upper = np.quantile(first_code_boot_distn, 0.975)\n",
    "print((lower, upper))"
   ]
  },
  {
   "cell_type": "markdown",
   "metadata": {},
   "source": [
    "Calculating a confidence interval\n",
    "If you give a single estimate of a sample statistic, you are bound to be wrong by some amount. For example, the hypothesized proportion of late shipments was 6%. Even if evidence suggests the null hypothesis that the proportion of late shipments is equal to this, for any new sample of shipments, the proportion is likely to be a little different due to sampling variability. Consequently, it's a good idea to state a confidence interval. That is, you say, \"we are 95% 'confident' that the proportion of late shipments is between A and B\" (for some value of A and B).\n",
    "\n",
    "Sampling in Python demonstrated two methods for calculating confidence intervals. Here, you'll use quantiles of the bootstrap distribution to calculate the confidence interval.\n",
    "\n",
    "late_prop_samp and late_shipments_boot_distn are available; pandas and numpy are loaded with their usual aliases."
   ]
  },
  {
   "cell_type": "code",
   "execution_count": 60,
   "metadata": {},
   "outputs": [
    {
     "name": "stdout",
     "output_type": "stream",
     "text": [
      "(0.047, 0.077)\n"
     ]
    }
   ],
   "source": [
    "# Calculate 95% confidence interval using quantile method\n",
    "lower = np.quantile(late_shipments_boot_distn, 0.025)\n",
    "upper = np.quantile(late_shipments_boot_distn, 0.975)\n",
    "\n",
    "# Print the confidence interval\n",
    "print((lower, upper))"
   ]
  },
  {
   "attachments": {},
   "cell_type": "markdown",
   "metadata": {},
   "source": [
    "## **Two-Sample and ANOVA Tests (Module 02-054)**"
   ]
  },
  {
   "attachments": {},
   "cell_type": "markdown",
   "metadata": {},
   "source": [
    "#### **xxxx**\n",
    "\n",
    "1. xxx\n",
    "\n",
    "2. xxx\n",
    "\n",
    "3. xxx\n",
    "\n",
    "4. xxx"
   ]
  },
  {
   "cell_type": "code",
   "execution_count": null,
   "metadata": {},
   "outputs": [],
   "source": [
    "display(\n",
    "\n",
    ")\n",
    "\n",
    "display(\n",
    "\n",
    ")\n",
    "\n",
    "display(\n",
    "\n",
    ")"
   ]
  },
  {
   "attachments": {},
   "cell_type": "markdown",
   "metadata": {},
   "source": [
    "#### **xxxx**\n",
    "\n",
    "1. xxx\n",
    "\n",
    "2. xxx\n",
    "\n",
    "3. xxx\n",
    "\n",
    "4. xxx"
   ]
  },
  {
   "cell_type": "code",
   "execution_count": null,
   "metadata": {},
   "outputs": [],
   "source": [
    "display(\n",
    "\n",
    ")\n",
    "\n",
    "display(\n",
    "\n",
    ")\n",
    "\n",
    "display(\n",
    "\n",
    ")"
   ]
  },
  {
   "cell_type": "markdown",
   "metadata": {},
   "source": [
    "#### **xxxx**\n",
    "\n",
    "1. xxx\n",
    "\n",
    "2. xxx\n",
    "\n",
    "3. xxx\n",
    "\n",
    "4. xxx"
   ]
  },
  {
   "cell_type": "code",
   "execution_count": null,
   "metadata": {},
   "outputs": [],
   "source": [
    "display(\n",
    "\n",
    ")\n",
    "\n",
    "display(\n",
    "\n",
    ")\n",
    "\n",
    "display(\n",
    "\n",
    ")"
   ]
  },
  {
   "cell_type": "markdown",
   "metadata": {},
   "source": [
    "#### **xxxx**\n",
    "\n",
    "1. xxx\n",
    "\n",
    "2. xxx\n",
    "\n",
    "3. xxx\n",
    "\n",
    "4. xxx"
   ]
  },
  {
   "cell_type": "code",
   "execution_count": null,
   "metadata": {},
   "outputs": [],
   "source": [
    "display(\n",
    "\n",
    ")\n",
    "\n",
    "display(\n",
    "\n",
    ")\n",
    "\n",
    "display(\n",
    "\n",
    ")"
   ]
  },
  {
   "attachments": {},
   "cell_type": "markdown",
   "metadata": {},
   "source": [
    "## **Proportion Tests (Module 03-054)**"
   ]
  },
  {
   "attachments": {},
   "cell_type": "markdown",
   "metadata": {},
   "source": [
    "#### **xxxx**\n",
    "\n",
    "1. xxx\n",
    "\n",
    "2. xxx\n",
    "\n",
    "3. xxx\n",
    "\n",
    "4. xxx"
   ]
  },
  {
   "cell_type": "code",
   "execution_count": null,
   "metadata": {},
   "outputs": [],
   "source": [
    "display(\n",
    "\n",
    ")\n",
    "\n",
    "display(\n",
    "\n",
    ")\n",
    "\n",
    "display(\n",
    "\n",
    ")"
   ]
  },
  {
   "attachments": {},
   "cell_type": "markdown",
   "metadata": {},
   "source": [
    "#### **xxxx**\n",
    "\n",
    "1. xxx\n",
    "\n",
    "2. xxx\n",
    "\n",
    "3. xxx\n",
    "\n",
    "4. xxx"
   ]
  },
  {
   "cell_type": "code",
   "execution_count": null,
   "metadata": {},
   "outputs": [],
   "source": [
    "display(\n",
    "\n",
    ")\n",
    "\n",
    "display(\n",
    "\n",
    ")\n",
    "\n",
    "display(\n",
    "\n",
    ")"
   ]
  },
  {
   "cell_type": "markdown",
   "metadata": {},
   "source": [
    "#### **xxxx**\n",
    "\n",
    "1. xxx\n",
    "\n",
    "2. xxx\n",
    "\n",
    "3. xxx\n",
    "\n",
    "4. xxx"
   ]
  },
  {
   "cell_type": "code",
   "execution_count": null,
   "metadata": {},
   "outputs": [],
   "source": [
    "display(\n",
    "\n",
    ")\n",
    "\n",
    "display(\n",
    "\n",
    ")\n",
    "\n",
    "display(\n",
    "\n",
    ")"
   ]
  },
  {
   "cell_type": "markdown",
   "metadata": {},
   "source": [
    "#### **xxxx**\n",
    "\n",
    "1. xxx\n",
    "\n",
    "2. xxx\n",
    "\n",
    "3. xxx\n",
    "\n",
    "4. xxx"
   ]
  },
  {
   "cell_type": "code",
   "execution_count": null,
   "metadata": {},
   "outputs": [],
   "source": [
    "display(\n",
    "\n",
    ")\n",
    "\n",
    "display(\n",
    "\n",
    ")\n",
    "\n",
    "display(\n",
    "\n",
    ")"
   ]
  },
  {
   "attachments": {},
   "cell_type": "markdown",
   "metadata": {},
   "source": [
    "## **Non-Parametric Tests (Module 04-054)**"
   ]
  },
  {
   "attachments": {},
   "cell_type": "markdown",
   "metadata": {},
   "source": [
    "#### **xxxx**\n",
    "\n",
    "1. xxx\n",
    "\n",
    "2. xxx\n",
    "\n",
    "3. xxx\n",
    "\n",
    "4. xxx"
   ]
  },
  {
   "cell_type": "code",
   "execution_count": null,
   "metadata": {},
   "outputs": [],
   "source": [
    "display(\n",
    "\n",
    ")\n",
    "\n",
    "display(\n",
    "\n",
    ")\n",
    "\n",
    "display(\n",
    "\n",
    ")"
   ]
  },
  {
   "attachments": {},
   "cell_type": "markdown",
   "metadata": {},
   "source": [
    "#### **xxxx**\n",
    "\n",
    "1. xxx\n",
    "\n",
    "2. xxx\n",
    "\n",
    "3. xxx\n",
    "\n",
    "4. xxx"
   ]
  },
  {
   "cell_type": "code",
   "execution_count": null,
   "metadata": {},
   "outputs": [],
   "source": [
    "display(\n",
    "\n",
    ")\n",
    "\n",
    "display(\n",
    "\n",
    ")\n",
    "\n",
    "display(\n",
    "\n",
    ")"
   ]
  },
  {
   "cell_type": "markdown",
   "metadata": {},
   "source": [
    "#### **xxxx**\n",
    "\n",
    "1. xxx\n",
    "\n",
    "2. xxx\n",
    "\n",
    "3. xxx\n",
    "\n",
    "4. xxx"
   ]
  },
  {
   "cell_type": "code",
   "execution_count": null,
   "metadata": {},
   "outputs": [],
   "source": [
    "display(\n",
    "\n",
    ")\n",
    "\n",
    "display(\n",
    "\n",
    ")\n",
    "\n",
    "display(\n",
    "\n",
    ")"
   ]
  },
  {
   "cell_type": "markdown",
   "metadata": {},
   "source": [
    "#### **xxxx**\n",
    "\n",
    "1. xxx\n",
    "\n",
    "2. xxx\n",
    "\n",
    "3. xxx\n",
    "\n",
    "4. xxx"
   ]
  },
  {
   "cell_type": "code",
   "execution_count": 12,
   "metadata": {},
   "outputs": [
    {
     "name": "stdout",
     "output_type": "stream",
     "text": [
      "Perrenque!\n"
     ]
    }
   ],
   "source": [
    "print('Perrenque!')"
   ]
  },
  {
   "cell_type": "code",
   "execution_count": null,
   "metadata": {},
   "outputs": [],
   "source": []
  }
 ],
 "metadata": {
  "kernelspec": {
   "display_name": "Python 3",
   "language": "python",
   "name": "python3"
  },
  "language_info": {
   "codemirror_mode": {
    "name": "ipython",
    "version": 3
   },
   "file_extension": ".py",
   "mimetype": "text/x-python",
   "name": "python",
   "nbconvert_exporter": "python",
   "pygments_lexer": "ipython3",
   "version": "3.10.0"
  },
  "orig_nbformat": 4,
  "vscode": {
   "interpreter": {
    "hash": "26de051ba29f2982a8de78e945f0abaf191376122a1563185a90213a26c5da77"
   }
  }
 },
 "nbformat": 4,
 "nbformat_minor": 2
}
