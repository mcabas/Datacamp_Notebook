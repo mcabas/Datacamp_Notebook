{
 "cells": [
  {
   "attachments": {},
   "cell_type": "markdown",
   "metadata": {},
   "source": [
    "# **DataCamp.Course_054_Hypothesis Testing in Python**\n",
    "\n",
    "### **Course Description**\n",
    "\n",
    "Hypothesis testing lets you answer questions about your datasets in a statistically rigorous way. In this course, you'll grow your Python analytical skills as you learn how and when to use common tests like t-tests, proportion tests, and chi-square tests. Working with real-world data, including Stack Overflow user feedback and supply-chain data for medical supply shipments, you'll gain a deep understanding of how these tests work and the key assumptions that underpin them. You'll also discover how non-parametric tests can be used to go beyond the limitations of traditional hypothesis tests."
   ]
  },
  {
   "cell_type": "code",
   "execution_count": 2,
   "metadata": {},
   "outputs": [
    {
     "data": {
      "text/html": [
       "<div>\n",
       "<style scoped>\n",
       "    .dataframe tbody tr th:only-of-type {\n",
       "        vertical-align: middle;\n",
       "    }\n",
       "\n",
       "    .dataframe tbody tr th {\n",
       "        vertical-align: top;\n",
       "    }\n",
       "\n",
       "    .dataframe thead th {\n",
       "        text-align: right;\n",
       "    }\n",
       "</style>\n",
       "<table border=\"1\" class=\"dataframe\">\n",
       "  <thead>\n",
       "    <tr style=\"text-align: right;\">\n",
       "      <th></th>\n",
       "      <th>respondent</th>\n",
       "      <th>main_branch</th>\n",
       "      <th>hobbyist</th>\n",
       "      <th>age</th>\n",
       "      <th>age_1st_code</th>\n",
       "      <th>age_first_code_cut</th>\n",
       "      <th>comp_freq</th>\n",
       "      <th>comp_total</th>\n",
       "      <th>converted_comp</th>\n",
       "      <th>country</th>\n",
       "      <th>...</th>\n",
       "      <th>survey_length</th>\n",
       "      <th>trans</th>\n",
       "      <th>undergrad_major</th>\n",
       "      <th>webframe_desire_next_year</th>\n",
       "      <th>webframe_worked_with</th>\n",
       "      <th>welcome_change</th>\n",
       "      <th>work_week_hrs</th>\n",
       "      <th>years_code</th>\n",
       "      <th>years_code_pro</th>\n",
       "      <th>age_cat</th>\n",
       "    </tr>\n",
       "  </thead>\n",
       "  <tbody>\n",
       "    <tr>\n",
       "      <th>0</th>\n",
       "      <td>36.0</td>\n",
       "      <td>I am not primarily a developer, but I write co...</td>\n",
       "      <td>Yes</td>\n",
       "      <td>34.0</td>\n",
       "      <td>30.0</td>\n",
       "      <td>adult</td>\n",
       "      <td>Yearly</td>\n",
       "      <td>60000.0</td>\n",
       "      <td>77556.0</td>\n",
       "      <td>United Kingdom</td>\n",
       "      <td>...</td>\n",
       "      <td>Appropriate in length</td>\n",
       "      <td>No</td>\n",
       "      <td>Computer science, computer engineering, or sof...</td>\n",
       "      <td>Express;React.js</td>\n",
       "      <td>Express;React.js</td>\n",
       "      <td>Just as welcome now as I felt last year</td>\n",
       "      <td>40.0</td>\n",
       "      <td>4.0</td>\n",
       "      <td>3.0</td>\n",
       "      <td>At least 30</td>\n",
       "    </tr>\n",
       "    <tr>\n",
       "      <th>1</th>\n",
       "      <td>47.0</td>\n",
       "      <td>I am a developer by profession</td>\n",
       "      <td>Yes</td>\n",
       "      <td>53.0</td>\n",
       "      <td>10.0</td>\n",
       "      <td>child</td>\n",
       "      <td>Yearly</td>\n",
       "      <td>58000.0</td>\n",
       "      <td>74970.0</td>\n",
       "      <td>United Kingdom</td>\n",
       "      <td>...</td>\n",
       "      <td>Appropriate in length</td>\n",
       "      <td>No</td>\n",
       "      <td>A natural science (such as biology, chemistry,...</td>\n",
       "      <td>Flask;Spring</td>\n",
       "      <td>Flask;Spring</td>\n",
       "      <td>Just as welcome now as I felt last year</td>\n",
       "      <td>40.0</td>\n",
       "      <td>43.0</td>\n",
       "      <td>28.0</td>\n",
       "      <td>At least 30</td>\n",
       "    </tr>\n",
       "  </tbody>\n",
       "</table>\n",
       "<p>2 rows × 63 columns</p>\n",
       "</div>"
      ],
      "text/plain": [
       "   respondent                                        main_branch hobbyist  \\\n",
       "0        36.0  I am not primarily a developer, but I write co...      Yes   \n",
       "1        47.0                     I am a developer by profession      Yes   \n",
       "\n",
       "    age  age_1st_code age_first_code_cut comp_freq  comp_total  \\\n",
       "0  34.0          30.0              adult    Yearly     60000.0   \n",
       "1  53.0          10.0              child    Yearly     58000.0   \n",
       "\n",
       "   converted_comp         country  ...          survey_length trans  \\\n",
       "0         77556.0  United Kingdom  ...  Appropriate in length    No   \n",
       "1         74970.0  United Kingdom  ...  Appropriate in length    No   \n",
       "\n",
       "                                     undergrad_major  \\\n",
       "0  Computer science, computer engineering, or sof...   \n",
       "1  A natural science (such as biology, chemistry,...   \n",
       "\n",
       "  webframe_desire_next_year webframe_worked_with  \\\n",
       "0          Express;React.js     Express;React.js   \n",
       "1              Flask;Spring         Flask;Spring   \n",
       "\n",
       "                            welcome_change work_week_hrs years_code  \\\n",
       "0  Just as welcome now as I felt last year          40.0        4.0   \n",
       "1  Just as welcome now as I felt last year          40.0       43.0   \n",
       "\n",
       "  years_code_pro      age_cat  \n",
       "0            3.0  At least 30  \n",
       "1           28.0  At least 30  \n",
       "\n",
       "[2 rows x 63 columns]"
      ]
     },
     "metadata": {},
     "output_type": "display_data"
    }
   ],
   "source": [
    "# read_feather function\n",
    "\n",
    "import os\n",
    "import pandas as pd\n",
    "folder_name = 'datasets'\n",
    "dir = r'C:\\Users\\mcaba\\OneDrive\\Escritorio\\Data Science\\Datacamp_Notebook\\Datacamp_Notebook\\{}'.format(folder_name)\n",
    "\n",
    "def read_feather_fun(folder_name,file_name, path):\n",
    "    path = dir\n",
    "    os.chdir(path)\n",
    "    df = pd.read_feather('{}.feather'.format(file_name))\n",
    "    return df\n",
    "\n",
    "stack_overflow = read_feather_fun('datasets','stack_overflow', dir)\n",
    "display(stack_overflow.head(2))"
   ]
  },
  {
   "cell_type": "code",
   "execution_count": 3,
   "metadata": {},
   "outputs": [
    {
     "data": {
      "text/html": [
       "<div>\n",
       "<style scoped>\n",
       "    .dataframe tbody tr th:only-of-type {\n",
       "        vertical-align: middle;\n",
       "    }\n",
       "\n",
       "    .dataframe tbody tr th {\n",
       "        vertical-align: top;\n",
       "    }\n",
       "\n",
       "    .dataframe thead th {\n",
       "        text-align: right;\n",
       "    }\n",
       "</style>\n",
       "<table border=\"1\" class=\"dataframe\">\n",
       "  <thead>\n",
       "    <tr style=\"text-align: right;\">\n",
       "      <th></th>\n",
       "      <th>state</th>\n",
       "      <th>county</th>\n",
       "      <th>dem_percent_12</th>\n",
       "      <th>dem_percent_16</th>\n",
       "    </tr>\n",
       "  </thead>\n",
       "  <tbody>\n",
       "    <tr>\n",
       "      <th>0</th>\n",
       "      <td>Alabama</td>\n",
       "      <td>Bullock</td>\n",
       "      <td>76.305900</td>\n",
       "      <td>74.946921</td>\n",
       "    </tr>\n",
       "    <tr>\n",
       "      <th>1</th>\n",
       "      <td>Alabama</td>\n",
       "      <td>Chilton</td>\n",
       "      <td>19.453671</td>\n",
       "      <td>15.847352</td>\n",
       "    </tr>\n",
       "  </tbody>\n",
       "</table>\n",
       "</div>"
      ],
      "text/plain": [
       "     state   county  dem_percent_12  dem_percent_16\n",
       "0  Alabama  Bullock       76.305900       74.946921\n",
       "1  Alabama  Chilton       19.453671       15.847352"
      ]
     },
     "metadata": {},
     "output_type": "display_data"
    }
   ],
   "source": [
    "dem_votes_potus_12_16 = read_feather_fun('datasets','dem_votes_potus_12_16', dir)\n",
    "display(dem_votes_potus_12_16.head(2))"
   ]
  },
  {
   "cell_type": "code",
   "execution_count": 4,
   "metadata": {},
   "outputs": [
    {
     "data": {
      "text/html": [
       "<div>\n",
       "<style scoped>\n",
       "    .dataframe tbody tr th:only-of-type {\n",
       "        vertical-align: middle;\n",
       "    }\n",
       "\n",
       "    .dataframe tbody tr th {\n",
       "        vertical-align: top;\n",
       "    }\n",
       "\n",
       "    .dataframe thead th {\n",
       "        text-align: right;\n",
       "    }\n",
       "</style>\n",
       "<table border=\"1\" class=\"dataframe\">\n",
       "  <thead>\n",
       "    <tr style=\"text-align: right;\">\n",
       "      <th></th>\n",
       "      <th>id</th>\n",
       "      <th>country</th>\n",
       "      <th>managed_by</th>\n",
       "      <th>fulfill_via</th>\n",
       "      <th>vendor_inco_term</th>\n",
       "      <th>shipment_mode</th>\n",
       "      <th>late_delivery</th>\n",
       "      <th>late</th>\n",
       "      <th>product_group</th>\n",
       "      <th>sub_classification</th>\n",
       "      <th>...</th>\n",
       "      <th>line_item_quantity</th>\n",
       "      <th>line_item_value</th>\n",
       "      <th>pack_price</th>\n",
       "      <th>unit_price</th>\n",
       "      <th>manufacturing_site</th>\n",
       "      <th>first_line_designation</th>\n",
       "      <th>weight_kilograms</th>\n",
       "      <th>freight_cost_usd</th>\n",
       "      <th>freight_cost_groups</th>\n",
       "      <th>line_item_insurance_usd</th>\n",
       "    </tr>\n",
       "  </thead>\n",
       "  <tbody>\n",
       "    <tr>\n",
       "      <th>0</th>\n",
       "      <td>36203.0</td>\n",
       "      <td>Nigeria</td>\n",
       "      <td>PMO - US</td>\n",
       "      <td>Direct Drop</td>\n",
       "      <td>EXW</td>\n",
       "      <td>Air</td>\n",
       "      <td>1.0</td>\n",
       "      <td>Yes</td>\n",
       "      <td>HRDT</td>\n",
       "      <td>HIV test</td>\n",
       "      <td>...</td>\n",
       "      <td>2996.0</td>\n",
       "      <td>266644.0</td>\n",
       "      <td>89.0</td>\n",
       "      <td>0.89</td>\n",
       "      <td>Alere Medical Co., Ltd.</td>\n",
       "      <td>Yes</td>\n",
       "      <td>1426.0</td>\n",
       "      <td>33279.83</td>\n",
       "      <td>expensive</td>\n",
       "      <td>373.83</td>\n",
       "    </tr>\n",
       "    <tr>\n",
       "      <th>1</th>\n",
       "      <td>30998.0</td>\n",
       "      <td>Botswana</td>\n",
       "      <td>PMO - US</td>\n",
       "      <td>Direct Drop</td>\n",
       "      <td>EXW</td>\n",
       "      <td>Air</td>\n",
       "      <td>0.0</td>\n",
       "      <td>No</td>\n",
       "      <td>HRDT</td>\n",
       "      <td>HIV test</td>\n",
       "      <td>...</td>\n",
       "      <td>25.0</td>\n",
       "      <td>800.0</td>\n",
       "      <td>32.0</td>\n",
       "      <td>1.60</td>\n",
       "      <td>Trinity Biotech, Plc</td>\n",
       "      <td>Yes</td>\n",
       "      <td>10.0</td>\n",
       "      <td>559.89</td>\n",
       "      <td>reasonable</td>\n",
       "      <td>1.72</td>\n",
       "    </tr>\n",
       "  </tbody>\n",
       "</table>\n",
       "<p>2 rows × 27 columns</p>\n",
       "</div>"
      ],
      "text/plain": [
       "        id   country managed_by  fulfill_via vendor_inco_term shipment_mode  \\\n",
       "0  36203.0   Nigeria   PMO - US  Direct Drop              EXW           Air   \n",
       "1  30998.0  Botswana   PMO - US  Direct Drop              EXW           Air   \n",
       "\n",
       "   late_delivery late product_group sub_classification  ...  \\\n",
       "0            1.0  Yes          HRDT           HIV test  ...   \n",
       "1            0.0   No          HRDT           HIV test  ...   \n",
       "\n",
       "  line_item_quantity line_item_value pack_price unit_price  \\\n",
       "0             2996.0        266644.0       89.0       0.89   \n",
       "1               25.0           800.0       32.0       1.60   \n",
       "\n",
       "        manufacturing_site first_line_designation  weight_kilograms  \\\n",
       "0  Alere Medical Co., Ltd.                    Yes            1426.0   \n",
       "1     Trinity Biotech, Plc                    Yes              10.0   \n",
       "\n",
       "   freight_cost_usd  freight_cost_groups  line_item_insurance_usd  \n",
       "0          33279.83            expensive                   373.83  \n",
       "1            559.89           reasonable                     1.72  \n",
       "\n",
       "[2 rows x 27 columns]"
      ]
     },
     "metadata": {},
     "output_type": "display_data"
    }
   ],
   "source": [
    "late_shipments = read_feather_fun('datasets','late_shipments', dir)\n",
    "display(late_shipments.head(2))"
   ]
  },
  {
   "cell_type": "code",
   "execution_count": 5,
   "metadata": {},
   "outputs": [
    {
     "data": {
      "text/html": [
       "<div>\n",
       "<style scoped>\n",
       "    .dataframe tbody tr th:only-of-type {\n",
       "        vertical-align: middle;\n",
       "    }\n",
       "\n",
       "    .dataframe tbody tr th {\n",
       "        vertical-align: top;\n",
       "    }\n",
       "\n",
       "    .dataframe thead th {\n",
       "        text-align: right;\n",
       "    }\n",
       "</style>\n",
       "<table border=\"1\" class=\"dataframe\">\n",
       "  <thead>\n",
       "    <tr style=\"text-align: right;\">\n",
       "      <th></th>\n",
       "      <th>state</th>\n",
       "      <th>county</th>\n",
       "      <th>repub_percent_08</th>\n",
       "      <th>repub_percent_12</th>\n",
       "    </tr>\n",
       "  </thead>\n",
       "  <tbody>\n",
       "    <tr>\n",
       "      <th>0</th>\n",
       "      <td>Alabama</td>\n",
       "      <td>Hale</td>\n",
       "      <td>38.957877</td>\n",
       "      <td>37.139882</td>\n",
       "    </tr>\n",
       "    <tr>\n",
       "      <th>1</th>\n",
       "      <td>Arkansas</td>\n",
       "      <td>Nevada</td>\n",
       "      <td>56.726272</td>\n",
       "      <td>58.983452</td>\n",
       "    </tr>\n",
       "  </tbody>\n",
       "</table>\n",
       "</div>"
      ],
      "text/plain": [
       "      state  county  repub_percent_08  repub_percent_12\n",
       "0   Alabama    Hale         38.957877         37.139882\n",
       "1  Arkansas  Nevada         56.726272         58.983452"
      ]
     },
     "metadata": {},
     "output_type": "display_data"
    }
   ],
   "source": [
    "repub_votes_potus_08_12 = read_feather_fun('datasets','repub_votes_potus_08_12', dir)\n",
    "display(repub_votes_potus_08_12.head(2))"
   ]
  },
  {
   "attachments": {},
   "cell_type": "markdown",
   "metadata": {},
   "source": [
    "## **Hypothesis Testing Fundamentals (Module 01-054)**"
   ]
  },
  {
   "attachments": {},
   "cell_type": "markdown",
   "metadata": {},
   "source": [
    "#### **Hypothesis tests and z-scores**\n",
    "\n",
    "1. A/B testing\n",
    "In 2013, Electronic Arts (EA) released SimCity 5\n",
    "    They wanted to increase pre-orders of the\n",
    "    game\n",
    "    They used A/B testing to test different\n",
    "    advertising scenarios\n",
    "    This involves splitting users into control and\n",
    "    treatment groups\n",
    "\n",
    "A/B test results\n",
    "The treatment group (no ad) got 43.4% more purchases than the control group (with ad)\n",
    "    Intuition that \"showing an ad would increase sales\" was false\n",
    "    Was this result statistically significant or just chance?\n",
    "    Need EA's data to determine this\n",
    "    Techniques from Sampling in Python + this course to do so\n",
    "\n",
    "2. Stack Overflow Developer Survey 2020\n",
    "\n",
    "import pandas as pd\n",
    "print(stack_overflow)\n",
    "\n",
    "3. Hypothesizing about the mean\n",
    "\n",
    "A hypothesis:\n",
    "The mean annual compensation of the population of data scientists is $110,000\n",
    "The point estimate (sample statistic):\n",
    "mean_comp_samp = stack_overflow['converted_comp'].mean()\n",
    "\n",
    "4. Generating a bootstrap distribution\n",
    "\n",
    "import numpy as np\n",
    "# Step 3. Repeat steps 1 & 2 many times, appending to a list\n",
    "so_boot_distn = []\n",
    "for i in range(5000):\n",
    "    so_boot_distn.append(\n",
    "    # Step 2. Calculate point estimate\n",
    "        np.mean(\n",
    "            # Step 1. Resample\n",
    "            stack_overflow.sample(frac=1, replace=True)['converted_comp']\n",
    "        )\n",
    ")\n",
    "\n",
    "5. Visualizing the bootstrap distribution\n",
    "\n",
    "import matplotlib.pyplot as plt\n",
    "plt.hist(so_boot_distn, bins=50)\n",
    "plt.show()\n",
    "\n",
    "6. Standard error\n",
    "\n",
    "std_error = np.std(so_boot_distn, ddof=1)\n",
    "\n",
    "7. z-scores\n",
    "\n",
    "standardized value = (value)-(mean) / (standard deviation)\n",
    "\n",
    "z = (sample stat)-(hypoth.param.value) / (standard error)\n",
    "\n",
    "stack_overflow['converted_comp'].mean()\n",
    "\n",
    "mean_comp_hyp = 110000\n",
    "\n",
    "z_score = (mean_comp_samp - mean_comp_hyp) / std_error\n",
    "\n",
    "8. Testing the hypothesis\n",
    "\n",
    "Is 1.707 a high or low number?\n",
    "This is the goal of the course!\n",
    "Hypothesis testing use case:\n",
    "Determine whether sample statistics are close to or far \n",
    "away from expected (or\"hypothesized\" values)\n",
    "\n",
    "9. Standard normal (z) distribution\n",
    "\n",
    "Standard normal distribution: normal distribution with mean = 0 + standard deviation = 1"
   ]
  },
  {
   "cell_type": "code",
   "execution_count": 6,
   "metadata": {},
   "outputs": [
    {
     "name": "stdout",
     "output_type": "stream",
     "text": [
      "119574.71738168952\n"
     ]
    },
    {
     "data": {
      "image/png": "[encoded data removed]",
      "text/plain": [
       "<Figure size 640x480 with 1 Axes>"
      ]
     },
     "metadata": {},
     "output_type": "display_data"
    },
    {
     "name": "stdout",
     "output_type": "stream",
     "text": [
      "5557.167312695083\n"
     ]
    }
   ],
   "source": [
    "# A hypothesis:\n",
    "# The mean annual compensation of the population of data scientists is $110,000\n",
    "# The point estimate (sample statistic):\n",
    "\n",
    "mean_comp_samp = stack_overflow['converted_comp'].mean()\n",
    "print(mean_comp_samp)\n",
    "\n",
    "import numpy as np\n",
    "# Step 3. Repeat steps 1 & 2 many times, appending to a list\n",
    "so_boot_distn = []\n",
    "for i in range(5000):\n",
    "    so_boot_distn.append(\n",
    "    # Step 2. Calculate point estimate\n",
    "        np.mean(\n",
    "            # Step 1. Resample\n",
    "            stack_overflow.sample(frac=1, replace=True)['converted_comp']\n",
    "        )\n",
    ")\n",
    "\n",
    "import matplotlib.pyplot as plt\n",
    "plt.hist(so_boot_distn, bins=50)\n",
    "plt.show()\n",
    "\n",
    "std_error = np.std(so_boot_distn, ddof=1)\n",
    "print(std_error)"
   ]
  },
  {
   "cell_type": "code",
   "execution_count": 7,
   "metadata": {},
   "outputs": [
    {
     "name": "stdout",
     "output_type": "stream",
     "text": [
      "119574.71738168952\n",
      "1.722949273061572\n"
     ]
    }
   ],
   "source": [
    "print(stack_overflow['converted_comp'].mean())\n",
    "\n",
    "mean_comp_hyp = 110000\n",
    "\n",
    "z_score = (mean_comp_samp - mean_comp_hyp) / std_error\n",
    "\n",
    "print(z_score)\n"
   ]
  },
  {
   "cell_type": "markdown",
   "metadata": {},
   "source": [
    "Calculating the sample mean\n",
    "The late_shipments dataset contains supply chain data on the delivery of medical supplies. Each row represents one delivery of a part. The late columns denotes whether or not the part was delivered late. A value of \"Yes\" means that the part was delivered late, and a value of \"No\" means the part was delivered on time.\n",
    "\n",
    "You'll begin your analysis by calculating a point estimate (or sample statistic), namely the proportion of late shipments.\n",
    "\n",
    "In pandas, a value's proportion in a categorical DataFrame column can be quickly calculated using the syntax:\n",
    "\n",
    "prop = (df['col'] == val).mean()\n",
    "late_shipments is available, and pandas is loaded as pd."
   ]
  },
  {
   "cell_type": "code",
   "execution_count": 8,
   "metadata": {},
   "outputs": [
    {
     "name": "stdout",
     "output_type": "stream",
     "text": [
      "          id       country managed_by  fulfill_via vendor_inco_term  \\\n",
      "0    36203.0       Nigeria   PMO - US  Direct Drop              EXW   \n",
      "1    30998.0      Botswana   PMO - US  Direct Drop              EXW   \n",
      "2    69871.0       Vietnam   PMO - US  Direct Drop              EXW   \n",
      "3    17648.0  South Africa   PMO - US  Direct Drop              DDP   \n",
      "4     5647.0        Uganda   PMO - US  Direct Drop              EXW   \n",
      "..       ...           ...        ...          ...              ...   \n",
      "995  13608.0        Uganda   PMO - US  Direct Drop              DDP   \n",
      "996  80394.0    Congo, DRC   PMO - US  Direct Drop              EXW   \n",
      "997  61675.0        Zambia   PMO - US  Direct Drop              EXW   \n",
      "998  39182.0  South Africa   PMO - US  Direct Drop              DDP   \n",
      "999   5645.0      Botswana   PMO - US  Direct Drop              EXW   \n",
      "\n",
      "    shipment_mode  late_delivery late product_group    sub_classification  \\\n",
      "0             Air            1.0  Yes          HRDT              HIV test   \n",
      "1             Air            0.0   No          HRDT              HIV test   \n",
      "2             Air            0.0   No           ARV                 Adult   \n",
      "3           Ocean            0.0   No           ARV                 Adult   \n",
      "4             Air            0.0   No          HRDT  HIV test - Ancillary   \n",
      "..            ...            ...  ...           ...                   ...   \n",
      "995           Air            0.0   No           ARV                 Adult   \n",
      "996           Air            0.0   No          HRDT              HIV test   \n",
      "997           Air            1.0  Yes          HRDT              HIV test   \n",
      "998         Ocean            0.0   No           ARV                 Adult   \n",
      "999           Air            0.0   No          HRDT              HIV test   \n",
      "\n",
      "     ... line_item_quantity line_item_value pack_price unit_price  \\\n",
      "0    ...             2996.0       266644.00      89.00       0.89   \n",
      "1    ...               25.0          800.00      32.00       1.60   \n",
      "2    ...            22925.0       110040.00       4.80       0.08   \n",
      "3    ...           152535.0       361507.95       2.37       0.04   \n",
      "4    ...              850.0            8.50       0.01       0.00   \n",
      "..   ...                ...             ...        ...        ...   \n",
      "995  ...              121.0         9075.00      75.00       0.62   \n",
      "996  ...              292.0         9344.00      32.00       1.60   \n",
      "997  ...             2127.0       170160.00      80.00       0.80   \n",
      "998  ...           191011.0       861459.61       4.51       0.15   \n",
      "999  ...              200.0        14398.00      71.99       0.72   \n",
      "\n",
      "               manufacturing_site first_line_designation  weight_kilograms  \\\n",
      "0         Alere Medical Co., Ltd.                    Yes            1426.0   \n",
      "1            Trinity Biotech, Plc                    Yes              10.0   \n",
      "2    Hetero Unit III Hyderabad IN                    Yes            3723.0   \n",
      "3       Aurobindo Unit III, India                    Yes            7698.0   \n",
      "4                 Inverness Japan                    Yes              56.0   \n",
      "..                            ...                    ...               ...   \n",
      "995     Janssen-Cilag, Latina, IT                    Yes              43.0   \n",
      "996          Trinity Biotech, Plc                    Yes              99.0   \n",
      "997       Alere Medical Co., Ltd.                    Yes             881.0   \n",
      "998     Aurobindo Unit III, India                    Yes           16234.0   \n",
      "999               Inverness Japan                    Yes              46.0   \n",
      "\n",
      "     freight_cost_usd  freight_cost_groups  line_item_insurance_usd  \n",
      "0            33279.83            expensive                   373.83  \n",
      "1              559.89           reasonable                     1.72  \n",
      "2            19056.13            expensive                   181.57  \n",
      "3            11372.23            expensive                   779.41  \n",
      "4              360.00           reasonable                     0.01  \n",
      "..                ...                  ...                      ...  \n",
      "995            199.00           reasonable                    12.72  \n",
      "996           2162.55           reasonable                    13.10  \n",
      "997          14019.38            expensive                   210.49  \n",
      "998          14439.17            expensive                  1421.41  \n",
      "999           1028.18           reasonable                    23.04  \n",
      "\n",
      "[1000 rows x 27 columns]\n",
      "0.061\n"
     ]
    }
   ],
   "source": [
    "# Print the late_shipments dataset\n",
    "print(late_shipments)\n",
    "\n",
    "# Calculate the proportion of late shipments\n",
    "late_prop_samp = (late_shipments['late'] == \"Yes\").mean()\n",
    "\n",
    "# Print the results\n",
    "print(late_prop_samp)"
   ]
  },
  {
   "cell_type": "markdown",
   "metadata": {},
   "source": [
    "Calculating a z-score\n",
    "Since variables have arbitrary ranges and units, we need to standardize them. For example, a hypothesis test that gave different answers if the variables were in Euros instead of US dollars would be of little value. Standardization avoids that.\n",
    "\n",
    "One standardized value of interest in a hypothesis test is called a z-score. To calculate it, you need three numbers: the sample statistic (point estimate), the hypothesized statistic, and the standard error of the statistic (estimated from the bootstrap distribution).\n",
    "\n",
    "The sample statistic is available as late_prop_samp.\n",
    "\n",
    "late_shipments_boot_distn is a bootstrap distribution of the proportion of late shipments, available as a list.\n",
    "\n",
    "pandas and numpy are loaded with their usual aliases."
   ]
  },
  {
   "cell_type": "code",
   "execution_count": 9,
   "metadata": {},
   "outputs": [
    {
     "data": {
      "image/png": "[encoded data removed]",
      "text/plain": [
       "<Figure size 640x480 with 1 Axes>"
      ]
     },
     "metadata": {},
     "output_type": "display_data"
    }
   ],
   "source": [
    "late_shipments['is_late'] = late_shipments['late'].apply(\n",
    "    lambda x: 1 if x == 'Yes' else 0\n",
    ")\n",
    "\n",
    "late_shipments_boot_distn = []\n",
    "for i in range(5000):\n",
    "    late_shipments_boot_distn.append(\n",
    "    # Step 2. Calculate point estimate\n",
    "        np.mean(\n",
    "            # Step 1. Resample\n",
    "            late_shipments.sample(frac=1, replace=True)['is_late']\n",
    "        )\n",
    ")\n",
    "\n",
    "import matplotlib.pyplot as plt\n",
    "plt.hist(late_shipments_boot_distn, bins=25)\n",
    "plt.show()"
   ]
  },
  {
   "cell_type": "code",
   "execution_count": 10,
   "metadata": {},
   "outputs": [
    {
     "name": "stdout",
     "output_type": "stream",
     "text": [
      "0.13301226293073756\n"
     ]
    }
   ],
   "source": [
    "# Hypothesize that the proportion is 6%\n",
    "late_prop_hyp = 0.06\n",
    "\n",
    "# Calculate the standard error\n",
    "std_error = np.std(late_shipments_boot_distn, ddof=1)\n",
    "\n",
    "# Find z-score of late_prop_samp\n",
    "z_score = (late_prop_samp - late_prop_hyp) / std_error\n",
    "\n",
    "\n",
    "# Print z_score\n",
    "print(z_score)"
   ]
  },
  {
   "attachments": {},
   "cell_type": "markdown",
   "metadata": {},
   "source": [
    "#### **p-values**\n",
    "\n",
    "1. Criminal trials\n",
    "\n",
    "Two possible true states:\n",
    "        1. Defendant committed the crime\n",
    "        2. Defendant did not commit the crime\n",
    "Two possible verdicts:\n",
    "        1. Guilty\n",
    "        2. Not guilty\n",
    "    Initially the defendant is assumed to be not guilty\n",
    "    \n",
    "2. Age of first programming experience\n",
    "\n",
    "age_first_code_cut classifies when Stack Overflow user first started programming\n",
    "    \"adult\" means they started at 14 or older\n",
    "    \"child\" means they started before 14\n",
    "Previous research: 35% of software developers started programming as children\n",
    "Evidence that a greater proportion of data scientists starting programming as children?\n",
    "\n",
    "3. Definitions\n",
    "\n",
    "A hypothesis is a statement about an unknown population parameter\n",
    "A hypothesis test is a test of two competing hypotheses\n",
    "The null hypothesis (H0 ) is the existing idea\n",
    "The alternative hypothesis (Ha ) is the new \"challenger\" idea of the researcher\n",
    "For our problem:\n",
    "H0 : The proportion of data scientists starting programming as children is 35%\n",
    "Ha : The proportion of data scientists starting programming as children is greater than 35%\n",
    "\n",
    "4. Criminal trials vs. hypothesis testing\n",
    "\n",
    "Either Ha or H0 is true (not both)\n",
    "Initially, H0 is assumed to be true\n",
    "The test ends in either \"reject H0 \" or \"fail to reject H0 \"\n",
    "If the evidence from the sample is \"significant\" that Ha is true, reject H0 , else choose H0\n",
    "Significance level is \"beyond a reasonable doubt\" for hypothesis testing\n",
    "\n",
    "5. One-tailed and two-tailed tests\n",
    "\n",
    "Hypothesis tests check if the sample statistics\n",
    "lie in the tails of the null distribution\n",
    "\n",
    "Test                                            Tails\n",
    "alternative different from null             two-tailed\n",
    "alternative greater than null               right-tailed\n",
    "alternative less than null                  left-tailed\n",
    "\n",
    "Ha : The proportion of data scientists starting\n",
    "programming as children is greater than 35%\n",
    "This is a right-tailed test\n",
    "\n",
    "p-values: probability of obtaining a result,\n",
    "assuming the null hypothesis is true\n",
    "\n",
    "Large p-value, large support for H0\n",
    "Statistic likely not in the tail of the null\n",
    "distribution\n",
    "\n",
    "Small p-value, strong evidence against H0\n",
    "Statistic likely in the tail of the null\n",
    "distribution\n",
    "\n",
    "\"p\" in p-value → probability\n",
    "\"small\" means \"close to zero\"\n",
    "\n",
    "6. Calculating the z-score\n",
    "\n",
    "prop_child_samp = (stack_overflow['age_first_code_cut'] == \"child\").mean()\n",
    "\n",
    "prop_child_hyp = 0.35\n",
    "\n",
    "std_error = np.std(first_code_boot_distn, ddof=1)\n",
    "\n",
    "z_score = (prop_child_samp - prop_child_hyp) / std_error\n",
    "\n",
    "7. Calculating the p-value\n",
    "\n",
    "norm.cdf() is normal CDF from scipy.stats .\n",
    "Left-tailed test → use norm.cdf() .\n",
    "Right-tailed test → use 1 - norm.cdf() .\n",
    "\n",
    "from scipy.stats import norm\n",
    "1 - norm.cdf(z_score, loc=0, scale=1)"
   ]
  },
  {
   "cell_type": "code",
   "execution_count": 11,
   "metadata": {},
   "outputs": [
    {
     "name": "stdout",
     "output_type": "stream",
     "text": [
      "0.35\n",
      "0.010228691325330903\n",
      "4.049367066388713\n",
      "2.567816980525439e-05\n"
     ]
    }
   ],
   "source": [
    "stack_overflow['is_child'] = stack_overflow['age_first_code_cut'].apply(\n",
    "    lambda x: 1 if x == 'child' else 0\n",
    ")\n",
    "\n",
    "first_code_boot_distn = []\n",
    "for i in range(5000):\n",
    "    first_code_boot_distn.append(\n",
    "    # Step 2. Calculate point estimate\n",
    "        np.mean(\n",
    "            # Step 1. Resample\n",
    "            stack_overflow.sample(frac=1, replace=True)['is_child']\n",
    "        )\n",
    ")\n",
    "\n",
    "prop_child_samp = (stack_overflow['age_first_code_cut'] == \"child\").mean()\n",
    "\n",
    "prop_child_hyp = 0.35\n",
    "\n",
    "std_error = np.std(first_code_boot_distn, ddof=1)\n",
    "\n",
    "z_score = (prop_child_samp - prop_child_hyp) / std_error\n",
    "\n",
    "print(prop_child_hyp)\n",
    "print(std_error)\n",
    "print(z_score)\n",
    "\n",
    "from scipy.stats import norm\n",
    "p_value = 1 - norm.cdf(z_score, loc=0, scale=1)\n",
    "print(p_value)"
   ]
  },
  {
   "cell_type": "markdown",
   "metadata": {},
   "source": [
    "Calculating p-values\n",
    "In order to determine whether to choose the null hypothesis or the alternative hypothesis, you need to calculate a p-value from the z-score.\n",
    "\n",
    "You'll now return to the late shipments dataset and the proportion of late shipments.\n",
    "\n",
    "The null hypothesis, \n",
    ", is that the proportion of late shipments is six percent.\n",
    "\n",
    "The alternative hypothesis, \n",
    ", is that the proportion of late shipments is greater than six percent.\n",
    "\n",
    "The observed sample statistic, late_prop_samp, the hypothesized value, late_prop_hyp (6%), and the bootstrap standard error, std_error are available. norm from scipy.stats has also been loaded without an alias."
   ]
  },
  {
   "cell_type": "code",
   "execution_count": 12,
   "metadata": {},
   "outputs": [
    {
     "name": "stdout",
     "output_type": "stream",
     "text": [
      "0.4610597608973196\n"
     ]
    }
   ],
   "source": [
    "# Calculate the z-score of late_prop_samp\n",
    "z_score = (late_prop_samp - late_prop_hyp) / std_error\n",
    "\n",
    "# Calculate the p-value\n",
    "p_value = 1 - norm.cdf(z_score, loc=0, scale=1)\n",
    "                 \n",
    "# Print the p-value\n",
    "print(p_value) \n"
   ]
  },
  {
   "cell_type": "markdown",
   "metadata": {},
   "source": [
    "#### **Statistical significance**\n",
    "\n",
    "1. p-value recap\n",
    "p-values quantify evidence for the null hypothesis\n",
    "Large p-value → fail to reject null hypothesis\n",
    "Small p-value → reject null hypothesis\n",
    "Where is the cutoff point?\n",
    "\n",
    "2. Significance level\n",
    "The significance level of a hypothesis test (α) is the threshold point for \"beyond a\n",
    "reasonable doubt\"\n",
    "Common values of α are 0.2 , 0.1 , 0.05 , and 0.01\n",
    "If p ≤ α, reject H , else fail to reject H\n",
    "α should be set prior to conducting the hypothesis test\n",
    "\n",
    "3. Calculating the p-value\n",
    "alpha = 0.05\n",
    "prop_child_samp = (stack_overflow['age_first_code_cut'] == \"child\").mean()\n",
    "prop_child_hyp = 0.35\n",
    "std_error = np.std(first_code_boot_distn, ddof=1)\n",
    "z_score = (prop_child_samp - prop_child_hyp) / std_error\n",
    "p_value = 1 - norm.cdf(z_score, loc=0, scale=1)\n",
    "\n",
    "4. Making a decision\n",
    "\n",
    "alpha = 0.05\n",
    "print(p_value)\n",
    "3.1471479512323874e-05\n",
    "p_value <= alpha\n",
    "True\n",
    "Reject H0 in favor of HA\n",
    "\n",
    "5. Confidence intervals\n",
    "\n",
    "For a significance level of α, it's common to choose a confidence interval level of 1 - α\n",
    "α = 0.05 → 95% confidence interval\n",
    "import numpy as np\n",
    "lower = np.quantile(first_code_boot_distn, 0.025)\n",
    "upper = np.quantile(first_code_boot_distn, 0.975)\n",
    "print((lower, upper))\n",
    "(0.37063246351172047, 0.41132242370632466)\n",
    "\n",
    "6. Types of errors\n",
    "\n",
    "                        Truly didn't commit crime       Truly committed crime\n",
    "Verdict not guilty      correct                         they got away with it\n",
    "Verdict guilty          wrongful conviction             correct\n",
    "\n",
    "\n",
    "                        actual H0                        actual Ha\n",
    "chosen H0               correct                         false negative\n",
    "chosen Ha               false                           positive correct\n",
    "\n",
    "False positives are Type I errors; false negatives are Type II errors.\n",
    "\n",
    "7. Possible errors in our example\n",
    "\n",
    "If p ≤ α, we reject H :\n",
    "    A false positive (Type I) error: data scientists didn't start coding as children at a higher rate\n",
    "If p > α, we fail to reject H :\n",
    "    A false negative (Type II) error: data scientists started coding as children at a higher rate\n",
    "\n",
    "\n",
    "    If the null hypothesis is true and you rejected it, you've committed a type I error."
   ]
  },
  {
   "cell_type": "code",
   "execution_count": 13,
   "metadata": {},
   "outputs": [
    {
     "name": "stdout",
     "output_type": "stream",
     "text": [
      "2.567816980525439e-05\n",
      "True\n"
     ]
    }
   ],
   "source": [
    "alpha = 0.05\n",
    "prop_child_samp = (stack_overflow['age_first_code_cut'] == \"child\").mean()\n",
    "prop_child_hyp = 0.35\n",
    "std_error = np.std(first_code_boot_distn, ddof=1)\n",
    "z_score = (prop_child_samp - prop_child_hyp) / std_error\n",
    "p_value = 1 - norm.cdf(z_score, loc=0, scale=1)\n",
    "\n",
    "print(p_value) \n",
    "\n",
    "print(p_value <= alpha)\n",
    "## Reject H0 in favor of HA"
   ]
  },
  {
   "cell_type": "code",
   "execution_count": 14,
   "metadata": {},
   "outputs": [
    {
     "name": "stdout",
     "output_type": "stream",
     "text": [
      "(0.3715170278637771, 0.41132242370632466)\n"
     ]
    }
   ],
   "source": [
    "import numpy as np\n",
    "lower = np.quantile(first_code_boot_distn, 0.025)\n",
    "upper = np.quantile(first_code_boot_distn, 0.975)\n",
    "print((lower, upper))"
   ]
  },
  {
   "cell_type": "markdown",
   "metadata": {},
   "source": [
    "Calculating a confidence interval\n",
    "If you give a single estimate of a sample statistic, you are bound to be wrong by some amount. For example, the hypothesized proportion of late shipments was 6%. Even if evidence suggests the null hypothesis that the proportion of late shipments is equal to this, for any new sample of shipments, the proportion is likely to be a little different due to sampling variability. Consequently, it's a good idea to state a confidence interval. That is, you say, \"we are 95% 'confident' that the proportion of late shipments is between A and B\" (for some value of A and B).\n",
    "\n",
    "Sampling in Python demonstrated two methods for calculating confidence intervals. Here, you'll use quantiles of the bootstrap distribution to calculate the confidence interval.\n",
    "\n",
    "late_prop_samp and late_shipments_boot_distn are available; pandas and numpy are loaded with their usual aliases."
   ]
  },
  {
   "cell_type": "code",
   "execution_count": 15,
   "metadata": {},
   "outputs": [
    {
     "name": "stdout",
     "output_type": "stream",
     "text": [
      "(0.047, 0.076)\n"
     ]
    }
   ],
   "source": [
    "# Calculate 95% confidence interval using quantile method\n",
    "lower = np.quantile(late_shipments_boot_distn, 0.025)\n",
    "upper = np.quantile(late_shipments_boot_distn, 0.975)\n",
    "\n",
    "# Print the confidence interval\n",
    "print((lower, upper))"
   ]
  },
  {
   "cell_type": "markdown",
   "metadata": {},
   "source": [
    "### complementary\n",
    "\n",
    "https://www.youtube.com/watch?v=bJm2pt-mq2c\n",
    "\n",
    "https://www.youtube.com/watch?v=1g3pCE_B12E&t=4s\n",
    "\n",
    "https://www.youtube.com/watch?v=6XPPmv9HXJw\n",
    "\n",
    "https://www.youtube.com/watch?v=DlwOTOydeyk"
   ]
  },
  {
   "attachments": {},
   "cell_type": "markdown",
   "metadata": {},
   "source": [
    "## **Two-Sample and ANOVA Tests (Module 02-054)**"
   ]
  },
  {
   "attachments": {},
   "cell_type": "markdown",
   "metadata": {},
   "source": [
    "#### **Performing t-tests**\n",
    "\n",
    "https://www.youtube.com/watch?v=VekJxtk4BYM\n",
    "\n",
    "1. Two-sample problems\n",
    "Compare sample statistics across groups of a variable\n",
    "converted_comp is a numerical variable\n",
    "age_first_code_cut is a categorical variable with levels ( \"child\" and \"adult\" )\n",
    "Are users who first programmed as a child compensated higher than those that started as\n",
    "adults?\n",
    "\n",
    "2. Hypotheses\n",
    "\n",
    "H0 : The mean compensation (in USD) is the same for those that coded first as a child and those that coded first as an adult.\n",
    "Ho : μchild = μadult\n",
    "H : μchild − μadult = 0\n",
    "\n",
    "Ha : The mean compensation (in USD) is greater for those that coded first as a child compared to those that coded first as an adult.\n",
    "Ha : μchild > μadult\n",
    "Ha : μchild − μadult > 0\n",
    "\n",
    "3. Calculating groupwise summary statistics\n",
    "\n",
    "stack_overflow.groupby('age_first_code_cut')['converted_comp'].mean()\n",
    "age_first_code_cut\n",
    "adult 111313.311047\n",
    "child 132419.570621\n",
    "Name: converted_comp, dtype: float64\n",
    "\n",
    "4. Test statistics\n",
    "\n",
    "Sample mean estimates the population mean\n",
    "xbar - a sample mean\n",
    "xbar_child - sample mean compensation for coding first as a child\n",
    "xbar_adult - sample mean compensation for coding first as an adult\n",
    "xbar_child − xbar_adult - a test statistic\n",
    "z-score - a (standardized) test statistic\n",
    "\n",
    "5. Standardizing the test statistic\n",
    "z = sample stat − population parameter / standard error\n",
    "t = difference in sample stats − difference in population parameters / standard error\n",
    "t = (xbar_child − xbar_adult) - (μchild − μadult) /SE(x¯child − x¯adult)\n",
    "\n",
    "SE(x¯child − x¯adult) ≈ √(schild^2/nchild) + (sadult^2/nadult)\n",
    "\n",
    "s is the standard deviation of the variable\n",
    "n is the sample size (number of observations/rows in sample)\n",
    "\n",
    "if H0 : μchild − μadult = 0 -- asumiendo la hipotesis nula verdadera\n",
    "\n",
    "t = (xbar_child − xbar_adult) - 0 /SE(x¯child − x¯adult)\n",
    "\n",
    "t = (xbar_child − xbar_adult) / √(schild^2/nchild) + (sadult^2/nadult)\n",
    "\n",
    "6. Calculations assuming the null hypothesis is true\n",
    "\n",
    "xbar = stack_overflow.groupby('age_first_code_cut')['converted_comp'].mean()\n",
    "adult 111313.311047\n",
    "child 132419.570621\n",
    "Name: converted_comp, dtype: float64 age_first_code_cut\n",
    "s = stack_overflow.groupby('age_first_code_cut')['converted_comp'].std()\n",
    "adult 271546.521729\n",
    "child 255585.240115\n",
    "Name: converted_comp, dtype: float64 age_first_code_cut\n",
    "n = stack_overflow.groupby('age_first_code_cut')['converted_comp'].count()\n",
    "adult 1376\n",
    "child 885\n",
    "Name: converted_comp, dtype: int64\n",
    "\n",
    "7. Calculating the test statistic\n",
    "\n",
    "t = (xbar_child − xbar_adult) / √(schild^2/nchild) + (sadult^2/nadult)\n",
    "\n",
    "import numpy as np\n",
    "numerator = xbar_child - xbar_adult\n",
    "denominator = np.sqrt(s_child ** 2 / n_child + s_adult ** 2 / n_adult)\n",
    "t_stat = numerator / denominator\n",
    "\n",
    "1.8699313316221844"
   ]
  },
  {
   "cell_type": "code",
   "execution_count": 16,
   "metadata": {},
   "outputs": [
    {
     "name": "stdout",
     "output_type": "stream",
     "text": [
      "age_first_code_cut\n",
      "adult    111313.311047\n",
      "child    132419.570621\n",
      "Name: converted_comp, dtype: float64\n",
      "age_first_code_cut\n",
      "adult    271546.521729\n",
      "child    255585.240115\n",
      "Name: converted_comp, dtype: float64\n",
      "age_first_code_cut\n",
      "adult    1376\n",
      "child     885\n",
      "Name: converted_comp, dtype: int64\n"
     ]
    }
   ],
   "source": [
    "xbar = stack_overflow.groupby('age_first_code_cut')['converted_comp'].mean()\n",
    "print(xbar)\n",
    "\n",
    "s = stack_overflow.groupby('age_first_code_cut')['converted_comp'].std()\n",
    "print(s)\n",
    "\n",
    "n = stack_overflow.groupby('age_first_code_cut')['converted_comp'].count()\n",
    "print(n)"
   ]
  },
  {
   "cell_type": "code",
   "execution_count": 17,
   "metadata": {},
   "outputs": [
    {
     "name": "stdout",
     "output_type": "stream",
     "text": [
      "1.8699313316221844\n"
     ]
    }
   ],
   "source": [
    "xbar_adult = xbar.iloc[0]\n",
    "xbar_child = xbar.iloc[1]\n",
    "\n",
    "s_adult = s.iloc[0]\n",
    "s_child = s.iloc[1]\n",
    "\n",
    "n_adult = n.iloc[0]\n",
    "n_child = n.iloc[1]\n",
    "\n",
    "import numpy as np\n",
    "numerator = xbar_child - xbar_adult\n",
    "denominator = np.sqrt(s_child ** 2 / n_child + s_adult ** 2 / n_adult)\n",
    "t_stat = numerator / denominator\n",
    "\n",
    "print(t_stat)"
   ]
  },
  {
   "cell_type": "markdown",
   "metadata": {},
   "source": [
    "Two sample mean test statistic\n",
    "The hypothesis test for determining if there is a difference between the means of two populations uses a different type of test statistic to the z-scores you saw in Chapter 1. It's called \"t\", and it can be calculated from three values from each sample using this equation.\n",
    "\n",
    " \n",
    " t = (xbar_child − xbar_adult) / √(schild^2/nchild) + (sadult^2/nadult)\n",
    " \n",
    "\n",
    "While trying to determine why some shipments are late, you may wonder if the weight of the shipments that were on time is less than the weight of the shipments that were late. The late_shipments dataset has been split into a \"yes\" group, where late == \"Yes\" and a \"no\" group where late == \"No\". The weight of the shipment is given in the weight_kilograms variable.\n",
    "\n",
    "The sample means for the two groups are available as xbar_no and xbar_yes. The sample standard deviations are s_no and s_yes. The sample sizes are n_no and n_yes. numpy is also loaded as np."
   ]
  },
  {
   "cell_type": "code",
   "execution_count": 18,
   "metadata": {},
   "outputs": [
    {
     "name": "stdout",
     "output_type": "stream",
     "text": [
      "late\n",
      "No     1897.791267\n",
      "Yes    2715.672131\n",
      "Name: weight_kilograms, dtype: float64\n",
      "late\n",
      "No     3154.039507\n",
      "Yes    2544.688211\n",
      "Name: weight_kilograms, dtype: float64\n",
      "late\n",
      "No     939\n",
      "Yes     61\n",
      "Name: weight_kilograms, dtype: int64\n"
     ]
    }
   ],
   "source": [
    "xbar_shipment = late_shipments.groupby('late')['weight_kilograms'].mean()\n",
    "print(xbar_shipment)\n",
    "\n",
    "s_shipment = late_shipments.groupby('late')['weight_kilograms'].std()\n",
    "print(s_shipment)\n",
    "\n",
    "n_shipment = late_shipments.groupby('late')['weight_kilograms'].count()\n",
    "print(n_shipment)"
   ]
  },
  {
   "cell_type": "code",
   "execution_count": 19,
   "metadata": {},
   "outputs": [],
   "source": [
    "xbar_no = xbar_shipment.iloc[0]\n",
    "xbar_yes = xbar_shipment.iloc[1]\n",
    "\n",
    "s_no = s_shipment.iloc[0]\n",
    "s_yes = s_shipment.iloc[1]\n",
    "\n",
    "n_no = n_shipment.iloc[0]\n",
    "n_yes = n_shipment.iloc[1]"
   ]
  },
  {
   "cell_type": "code",
   "execution_count": 20,
   "metadata": {},
   "outputs": [
    {
     "name": "stdout",
     "output_type": "stream",
     "text": [
      "-2.3936661778766433\n"
     ]
    }
   ],
   "source": [
    "# Calculate the numerator of the test statistic\n",
    "numerator = xbar_no - xbar_yes\n",
    "\n",
    "# Calculate the denominator of the test statistic\n",
    "denominator = np.sqrt(s_no ** 2 / n_no + s_yes ** 2 / n_yes)\n",
    "\n",
    "# Calculate the test statistic\n",
    "t_stat = numerator / denominator\n",
    "\n",
    "# Print the test statistic\n",
    "print(t_stat)"
   ]
  },
  {
   "attachments": {},
   "cell_type": "markdown",
   "metadata": {},
   "source": [
    "#### **Calculating p-values from t-statistics**\n",
    "\n",
    "1. t-distributions\n",
    "t statistic follows a t-distribution\n",
    "Have a parameter named degrees of freedom, or df\n",
    "Look like normal distributions, with fatter tails\n",
    "2. Degrees of freedom\n",
    "Larger degrees of freedom → t-distribution\n",
    "gets closer to the normal distribution\n",
    "Normal distribution → t-distribution with\n",
    "infinite df\n",
    "Degrees of freedom: maximum number of\n",
    "logically independent values in the data\n",
    "sample\n",
    "3. Calculating degrees of freedom\n",
    "Dataset has 5 independent observations\n",
    "Four of the values are 2, 6, 8, and 5\n",
    "The sample mean is 5\n",
    "The last value must be 4\n",
    "Here, there are 4 degrees of freedom\n",
    "df = nchild + nadult − 2\n",
    "4. Hypotheses\n",
    "H0: The mean compensation (in USD) is the same for those that coded first as a child and\n",
    "those that coded first as an adult\n",
    "Ha : The mean compensation (in USD) is greater for those that coded first as a child\n",
    "compared to those that coded first as an adult\n",
    "Use a right-tailed test\n",
    "5. Significance level\n",
    "α = 0.1\n",
    "If p ≤ α then reject H0.\n",
    "6. Calculating p-values: one proportion vs. a value\n",
    "from scipy.stats import norm\n",
    "1 - norm.cdf(z_score)\n",
    "\n",
    "SE(x¯child − x¯adult) ≈ √(schild^2/nchild) + (sadult^2/nadult)\n",
    "z-statistic: needed when using one sample statistic to estimate a population parameter\n",
    "t-statistic: needed when using multiple sample statistics to estimate a population parameter\n",
    "\n",
    "7. Calculating p-values: two means from different groups\n",
    "numerator = xbar_child - xbar_adult\n",
    "denominator = np.sqrt(s_child ** 2 / n_child + s_adult ** 2 / n_adult)\n",
    "t_stat = numerator / denominator\n",
    "\n",
    "degrees_of_freedom = n_child + n_adult - 2\n",
    "\n",
    "Use t-distribution CDF not normal CDF\n",
    "from scipy.stats import t\n",
    "1 - t.cdf(t_stat, df=degrees_of_freedom)\n",
    "\n",
    "Evidence that Stack Overflow data scientists who started coding as a child earn more."
   ]
  },
  {
   "cell_type": "code",
   "execution_count": 21,
   "metadata": {},
   "outputs": [
    {
     "data": {
      "text/plain": [
       "2.567816980525439e-05"
      ]
     },
     "execution_count": 21,
     "metadata": {},
     "output_type": "execute_result"
    }
   ],
   "source": [
    "from scipy.stats import norm\n",
    "1 - norm.cdf(z_score)"
   ]
  },
  {
   "cell_type": "code",
   "execution_count": 22,
   "metadata": {},
   "outputs": [
    {
     "name": "stdout",
     "output_type": "stream",
     "text": [
      "1.8699313316221844\n",
      "2259\n"
     ]
    }
   ],
   "source": [
    "numerator = xbar_child - xbar_adult\n",
    "denominator = np.sqrt(s_child ** 2 / n_child + s_adult ** 2 / n_adult)\n",
    "t_stat = numerator / denominator\n",
    "print(t_stat)\n",
    "\n",
    "degrees_of_freedom = n_child + n_adult - 2\n",
    "print(degrees_of_freedom)"
   ]
  },
  {
   "cell_type": "code",
   "execution_count": 23,
   "metadata": {},
   "outputs": [
    {
     "data": {
      "text/plain": [
       "0.030811302165157595"
      ]
     },
     "execution_count": 23,
     "metadata": {},
     "output_type": "execute_result"
    }
   ],
   "source": [
    "from scipy.stats import t\n",
    "1 - t.cdf(t_stat, df=degrees_of_freedom)"
   ]
  },
  {
   "cell_type": "markdown",
   "metadata": {},
   "source": [
    "From t to p\n",
    "Previously, you calculated the test statistic for the two-sample problem of whether the mean weight of shipments is smaller for shipments that weren't late (late == \"No\") compared to shipments that were late (late == \"Yes\"). In order to make decisions about it, you need to transform the test statistic with a cumulative distribution function to get a p-value.\n",
    "\n",
    "Recall the hypotheses:\n",
    "\n",
    ": The mean weight of shipments that weren't late is the same as the mean weight of shipments that were late.\n",
    "\n",
    ": The mean weight of shipments that weren't late is less than the mean weight of shipments that were late.\n",
    "\n",
    "The test statistic, t_stat, is available, as are the samples sizes for each group, n_no and n_yes. Use a significance level of alpha = 0.05.\n",
    "\n",
    "t has also been imported from scipy.stats."
   ]
  },
  {
   "cell_type": "code",
   "execution_count": 24,
   "metadata": {},
   "outputs": [
    {
     "name": "stdout",
     "output_type": "stream",
     "text": [
      "0.9691070256380481\n",
      "False\n"
     ]
    }
   ],
   "source": [
    "alpha = 0.05\n",
    "\n",
    "## Reject the null hypothesis. alpha = 0.05\n",
    "\n",
    "# Calculate the degrees of freedom\n",
    "degrees_of_freedom = n_no + n_yes - 2\n",
    "\n",
    "# Calculate the p-value from the test stat\n",
    "p_value = t.cdf(t_stat, df=degrees_of_freedom)\n",
    "\n",
    "# Print the p_value\n",
    "print(p_value)\n",
    "\n",
    "## Reject the null hypothesis. 0.008 < alpha = true\n",
    "\n",
    "print(p_value<alpha)"
   ]
  },
  {
   "cell_type": "markdown",
   "metadata": {},
   "source": [
    "#### **Paired t-tests**\n",
    "\n",
    "1. US Republican presidents dataset\n",
    "100 rows; each row represents county-level votes in a presidential election.\n",
    "\n",
    "2. Hypotheses\n",
    "Question: Was the percentage of Republican candidate votes lower in 2008 than 2012?\n",
    "H : μ2008 − μ2012 = 0\n",
    "H : μ2008 − μ2012 < 0\n",
    "Set α = 0.05 significance level.\n",
    "Data is paired → each voter percentage refers to the same county\n",
    "Want to capture voting patterns in model\n",
    "\n",
    "3. From two samples to one\n",
    "sample_data = repub_votes_potus_08_12\n",
    "sample_data['diff'] = sample_data['repub_percent_08'] - sample_data['repub_percent_12']\n",
    "import matplotlib.pyplot as plt\n",
    "sample_data['diff'].hist(bins=20)\n",
    "\n",
    "4. Calculate sample statistics of the difference\n",
    "xbar_diff = sample_data['diff'].mean()\n",
    "\n",
    "5. Revised hypotheses\n",
    "\n",
    "Old hypotheses:\n",
    "Ho : μ2008 − μ2012 = 0\n",
    "Ha : μ2008 − μ2012 < 0\n",
    "New hypotheses:\n",
    "Ho : μdiff = 0\n",
    "Ha : μdiff < 0\n",
    "\n",
    "t = (xbar_diff - μdiff) / √(sdiff^2/ndiff)\n",
    "df = ndiff − 1\n",
    "\n",
    "6. Calculating the p-value\n",
    "\n",
    "n_diff = len(sample_data)\n",
    "\n",
    "xbar_diff = sample_data['diff'].mean()\n",
    "print(xbar_diff)\n",
    "\n",
    "n_diff = len(sample_data)\n",
    "print(n_diff)\n",
    "\n",
    "t = (xbar_diff - μdiff) / √(sdiff^2/ndiff)\n",
    "\n",
    "s_diff = sample_data['diff'].std()\n",
    "t_stat = (xbar_diff-0) / np.sqrt(s_diff**2/n_diff)\n",
    "print(t_stat)\n",
    "\n",
    "degrees_of_freedom = n_diff - 1\n",
    "print(degrees_of_freedom)\n",
    "\n",
    "from scipy.stats import t\n",
    "p_value = t.cdf(t_stat, df=n_diff-1)\n",
    "print(p_value)\n",
    "\n",
    "7. Testing differences between two means using ttest()\n",
    "\n",
    "Testing differences between two means using ttest()\n",
    "import pingouin\n",
    "pingouin.ttest(x=sample_data['diff'],\n",
    "y=0,\n",
    "alternative=\"less\")\n",
    "T dof alternative p-val CI95% cohen-d \\\n",
    "T-test -5.601043 99 less 9.572537e-08 [-inf, -2.02] 0.560104\n",
    "BF10 power\n",
    "T-test 1.323e+05 1.0\n",
    "Details on Returns from pingouin.ttest() are available in the API docs for pingouin at https://pingouinstats.\n",
    "org/generated/pingouin.ttest.html#pingouin.ttest.\n",
    "\n",
    "8. ttest() with paired=True\n",
    "\n",
    "pingouin.ttest(x=sample_data['repub_percent_08'],\n",
    "y=sample_data['repub_percent_12'],\n",
    "paired=True,\n",
    "alternative=\"less\")\n",
    "T dof alternative p-val CI95% cohen-d \\\n",
    "T-test -5.601043 99 less 9.572537e-08 [-inf, -2.02] 0.217364\n",
    "BF10 power\n",
    "T-test 1.323e+05 0.696338\n",
    "\n",
    "9. Unpaired ttest()\n",
    "\n",
    "pingouin.ttest(x=sample_data['repub_percent_08'],\n",
    "y=sample_data['repub_percent_12'],\n",
    "paired=False, # The default\n",
    "alternative=\"less\")\n",
    "\n",
    "Unpaired t-tests on paired data increases the chances of false negative errors"
   ]
  },
  {
   "cell_type": "code",
   "execution_count": 25,
   "metadata": {},
   "outputs": [
    {
     "data": {
      "text/plain": [
       "<AxesSubplot: >"
      ]
     },
     "execution_count": 25,
     "metadata": {},
     "output_type": "execute_result"
    },
    {
     "data": {
      "image/png": "[encoded data removed]",
      "text/plain": [
       "<Figure size 640x480 with 1 Axes>"
      ]
     },
     "metadata": {},
     "output_type": "display_data"
    }
   ],
   "source": [
    "sample_data = repub_votes_potus_08_12\n",
    "sample_data['diff'] = sample_data['repub_percent_08'] - sample_data['repub_percent_12']\n",
    "import matplotlib.pyplot as plt\n",
    "sample_data['diff'].hist(bins=20)"
   ]
  },
  {
   "cell_type": "code",
   "execution_count": 26,
   "metadata": {},
   "outputs": [
    {
     "name": "stdout",
     "output_type": "stream",
     "text": [
      "-2.877109041242944\n",
      "100\n",
      "-5.601043121928489\n",
      "99\n",
      "9.572537285272411e-08\n"
     ]
    }
   ],
   "source": [
    "xbar_diff = sample_data['diff'].mean()\n",
    "print(xbar_diff)\n",
    "\n",
    "n_diff = len(sample_data)\n",
    "print(n_diff)\n",
    "\n",
    "## t = (xbar_diff - μdiff) / √(sdiff^2/ndiff)\n",
    "s_diff = sample_data['diff'].std()\n",
    "t_stat = (xbar_diff-0) / np.sqrt(s_diff**2/n_diff)\n",
    "print(t_stat)\n",
    "\n",
    "degrees_of_freedom = n_diff - 1\n",
    "print(degrees_of_freedom)\n",
    "\n",
    "from scipy.stats import t\n",
    "p_value = t.cdf(t_stat, df=n_diff-1)\n",
    "print(p_value)"
   ]
  },
  {
   "cell_type": "code",
   "execution_count": 27,
   "metadata": {},
   "outputs": [],
   "source": [
    "# import sys\n",
    "# print(sys.executable)"
   ]
  },
  {
   "cell_type": "code",
   "execution_count": 28,
   "metadata": {},
   "outputs": [],
   "source": [
    "### !python -m pip install pingouin"
   ]
  },
  {
   "cell_type": "code",
   "execution_count": 29,
   "metadata": {},
   "outputs": [
    {
     "data": {
      "text/html": [
       "<div>\n",
       "<style scoped>\n",
       "    .dataframe tbody tr th:only-of-type {\n",
       "        vertical-align: middle;\n",
       "    }\n",
       "\n",
       "    .dataframe tbody tr th {\n",
       "        vertical-align: top;\n",
       "    }\n",
       "\n",
       "    .dataframe thead th {\n",
       "        text-align: right;\n",
       "    }\n",
       "</style>\n",
       "<table border=\"1\" class=\"dataframe\">\n",
       "  <thead>\n",
       "    <tr style=\"text-align: right;\">\n",
       "      <th></th>\n",
       "      <th>T</th>\n",
       "      <th>dof</th>\n",
       "      <th>alternative</th>\n",
       "      <th>p-val</th>\n",
       "      <th>CI95%</th>\n",
       "      <th>cohen-d</th>\n",
       "      <th>BF10</th>\n",
       "      <th>power</th>\n",
       "    </tr>\n",
       "  </thead>\n",
       "  <tbody>\n",
       "    <tr>\n",
       "      <th>T-test</th>\n",
       "      <td>-5.601043</td>\n",
       "      <td>99</td>\n",
       "      <td>less</td>\n",
       "      <td>9.572537e-08</td>\n",
       "      <td>[-inf, -2.02]</td>\n",
       "      <td>0.560104</td>\n",
       "      <td>1.323e+05</td>\n",
       "      <td>1.0</td>\n",
       "    </tr>\n",
       "  </tbody>\n",
       "</table>\n",
       "</div>"
      ],
      "text/plain": [
       "               T  dof alternative         p-val          CI95%   cohen-d  \\\n",
       "T-test -5.601043   99        less  9.572537e-08  [-inf, -2.02]  0.560104   \n",
       "\n",
       "             BF10  power  \n",
       "T-test  1.323e+05    1.0  "
      ]
     },
     "execution_count": 29,
     "metadata": {},
     "output_type": "execute_result"
    }
   ],
   "source": [
    "import pingouin\n",
    "pingouin.ttest(x=sample_data['diff'],\n",
    "                y=0,\n",
    "                alternative=\"less\")"
   ]
  },
  {
   "cell_type": "code",
   "execution_count": 30,
   "metadata": {},
   "outputs": [
    {
     "data": {
      "text/html": [
       "<div>\n",
       "<style scoped>\n",
       "    .dataframe tbody tr th:only-of-type {\n",
       "        vertical-align: middle;\n",
       "    }\n",
       "\n",
       "    .dataframe tbody tr th {\n",
       "        vertical-align: top;\n",
       "    }\n",
       "\n",
       "    .dataframe thead th {\n",
       "        text-align: right;\n",
       "    }\n",
       "</style>\n",
       "<table border=\"1\" class=\"dataframe\">\n",
       "  <thead>\n",
       "    <tr style=\"text-align: right;\">\n",
       "      <th></th>\n",
       "      <th>T</th>\n",
       "      <th>dof</th>\n",
       "      <th>alternative</th>\n",
       "      <th>p-val</th>\n",
       "      <th>CI95%</th>\n",
       "      <th>cohen-d</th>\n",
       "      <th>BF10</th>\n",
       "      <th>power</th>\n",
       "    </tr>\n",
       "  </thead>\n",
       "  <tbody>\n",
       "    <tr>\n",
       "      <th>T-test</th>\n",
       "      <td>-5.601043</td>\n",
       "      <td>99</td>\n",
       "      <td>less</td>\n",
       "      <td>9.572537e-08</td>\n",
       "      <td>[-inf, -2.02]</td>\n",
       "      <td>0.217364</td>\n",
       "      <td>1.323e+05</td>\n",
       "      <td>0.696338</td>\n",
       "    </tr>\n",
       "  </tbody>\n",
       "</table>\n",
       "</div>"
      ],
      "text/plain": [
       "               T  dof alternative         p-val          CI95%   cohen-d  \\\n",
       "T-test -5.601043   99        less  9.572537e-08  [-inf, -2.02]  0.217364   \n",
       "\n",
       "             BF10     power  \n",
       "T-test  1.323e+05  0.696338  "
      ]
     },
     "execution_count": 30,
     "metadata": {},
     "output_type": "execute_result"
    }
   ],
   "source": [
    "pingouin.ttest(x=sample_data['repub_percent_08'],\n",
    "                y=sample_data['repub_percent_12'],\n",
    "                paired=True,\n",
    "                alternative=\"less\")"
   ]
  },
  {
   "cell_type": "code",
   "execution_count": 31,
   "metadata": {},
   "outputs": [
    {
     "data": {
      "text/html": [
       "<div>\n",
       "<style scoped>\n",
       "    .dataframe tbody tr th:only-of-type {\n",
       "        vertical-align: middle;\n",
       "    }\n",
       "\n",
       "    .dataframe tbody tr th {\n",
       "        vertical-align: top;\n",
       "    }\n",
       "\n",
       "    .dataframe thead th {\n",
       "        text-align: right;\n",
       "    }\n",
       "</style>\n",
       "<table border=\"1\" class=\"dataframe\">\n",
       "  <thead>\n",
       "    <tr style=\"text-align: right;\">\n",
       "      <th></th>\n",
       "      <th>T</th>\n",
       "      <th>dof</th>\n",
       "      <th>alternative</th>\n",
       "      <th>p-val</th>\n",
       "      <th>CI95%</th>\n",
       "      <th>cohen-d</th>\n",
       "      <th>BF10</th>\n",
       "      <th>power</th>\n",
       "    </tr>\n",
       "  </thead>\n",
       "  <tbody>\n",
       "    <tr>\n",
       "      <th>T-test</th>\n",
       "      <td>-1.536997</td>\n",
       "      <td>198</td>\n",
       "      <td>less</td>\n",
       "      <td>0.062945</td>\n",
       "      <td>[-inf, 0.22]</td>\n",
       "      <td>0.217364</td>\n",
       "      <td>0.927</td>\n",
       "      <td>0.454972</td>\n",
       "    </tr>\n",
       "  </tbody>\n",
       "</table>\n",
       "</div>"
      ],
      "text/plain": [
       "               T  dof alternative     p-val         CI95%   cohen-d   BF10  \\\n",
       "T-test -1.536997  198        less  0.062945  [-inf, 0.22]  0.217364  0.927   \n",
       "\n",
       "           power  \n",
       "T-test  0.454972  "
      ]
     },
     "execution_count": 31,
     "metadata": {},
     "output_type": "execute_result"
    }
   ],
   "source": [
    "pingouin.ttest(x=sample_data['repub_percent_08'],\n",
    "                y=sample_data['repub_percent_12'],\n",
    "                paired=False, # The default\n",
    "                alternative=\"less\")"
   ]
  },
  {
   "cell_type": "markdown",
   "metadata": {},
   "source": [
    "Visualizing the difference\n",
    "Before you start running hypothesis tests, it's a great idea to perform some exploratory data analysis; that is, calculating summary statistics and visualizing distributions.\n",
    "\n",
    "Here, you'll look at the proportion of county-level votes for the Democratic candidate in 2012 and 2016, sample_dem_data. Since the counties are the same in both years, these samples are paired. The columns containing the samples are dem_percent_12 and dem_percent_16.\n",
    "\n",
    "dem_votes_potus_12_16 is available as sample_dem_data. pandas and matplotlib.pyplot are loaded with their usual aliases."
   ]
  },
  {
   "cell_type": "code",
   "execution_count": 32,
   "metadata": {},
   "outputs": [
    {
     "name": "stdout",
     "output_type": "stream",
     "text": [
      "       state       county  dem_percent_12  dem_percent_16       diff\n",
      "0    Alabama      Bullock       76.305900       74.946921   1.358979\n",
      "1    Alabama      Chilton       19.453671       15.847352   3.606319\n",
      "2    Alabama         Clay       26.673672       18.674517   7.999155\n",
      "3    Alabama      Cullman       14.661752       10.028252   4.633500\n",
      "4    Alabama     Escambia       36.915731       31.020546   5.895185\n",
      "..       ...          ...             ...             ...        ...\n",
      "495  Wyoming        Uinta       19.065464       14.191263   4.874201\n",
      "496  Wyoming     Washakie       20.131846       13.948610   6.183235\n",
      "497   Alaska   District 3       33.514582       16.301064  17.213518\n",
      "498   Alaska  District 18       61.284271       52.810051   8.474220\n",
      "499   Alaska  District 24       42.913980       39.405286   3.508694\n",
      "\n",
      "[500 rows x 5 columns]\n"
     ]
    }
   ],
   "source": [
    "sample_dem_data = dem_votes_potus_12_16\n",
    "\n",
    "# Calculate the differences from 2012 to 2016\n",
    "sample_dem_data['diff'] = sample_dem_data['dem_percent_12'] - sample_dem_data['dem_percent_16']\n",
    "\n",
    "# Print sample_dem_data\n",
    "print(sample_dem_data)"
   ]
  },
  {
   "cell_type": "code",
   "execution_count": 33,
   "metadata": {},
   "outputs": [
    {
     "name": "stdout",
     "output_type": "stream",
     "text": [
      "6.829312660106834\n",
      "5.040139140132317\n"
     ]
    },
    {
     "data": {
      "image/png": "[encoded data removed]",
      "text/plain": [
       "<Figure size 640x480 with 1 Axes>"
      ]
     },
     "metadata": {},
     "output_type": "display_data"
    }
   ],
   "source": [
    "# Calculate the differences from 2012 to 2016\n",
    "sample_dem_data['diff'] = sample_dem_data['dem_percent_12'] - sample_dem_data['dem_percent_16']\n",
    "\n",
    "# Find the mean of the diff column\n",
    "xbar_diff = sample_dem_data['diff'].mean()\n",
    "\n",
    "# Print xbar_diff\n",
    "print(xbar_diff)\n",
    "\n",
    "# Find the standard deviation of the diff column\n",
    "s_diff = sample_dem_data['diff'].std()\n",
    "\n",
    "# Print s_diff\n",
    "print(s_diff)\n",
    "\n",
    "# Plot a histogram of diff with 20 bins\n",
    "sample_dem_data['diff'].hist(bins=20)\n",
    "plt.show()"
   ]
  },
  {
   "cell_type": "markdown",
   "metadata": {},
   "source": [
    "Using ttest()\n",
    "Manually calculating test statistics and transforming them with a CDF to get a p-value is a lot of effort to compare two sample means. The comparison of two sample means is called a t-test, and the pingouin Python package has a .ttest() method to accomplish it. This method provides some flexibility in how you perform the test.\n",
    "\n",
    "As in the previous exercise, you'll explore the difference between the proportion of county-level votes for the Democratic candidate in 2012 and 2016 to identify if the difference is significant. The hypotheses are as follows:\n",
    "\n",
    "Ho: The proportion of democratic votes in 2012 and 2016 were the same. \n",
    "Ha: The proportion of democratic votes in 2012 and 2016 were different.\n",
    "\n",
    "sample_dem_data is available and has the columns diff, dem_percent_12, and dem_percent_16 in addition to the state and county names. pingouin and has been loaded along with pandas as pd."
   ]
  },
  {
   "cell_type": "code",
   "execution_count": 34,
   "metadata": {},
   "outputs": [
    {
     "name": "stdout",
     "output_type": "stream",
     "text": [
      "                T  dof alternative          p-val         CI95%   cohen-d  \\\n",
      "T-test  30.298384  499   two-sided  3.600634e-115  [6.39, 7.27]  1.354985   \n",
      "\n",
      "              BF10  power  \n",
      "T-test  2.246e+111    1.0  \n"
     ]
    }
   ],
   "source": [
    "# Conduct a t-test on diff\n",
    "test_results = pingouin.ttest(x=sample_dem_data['diff'],\n",
    "                y=0,\n",
    "                alternative=\"two-sided\")\n",
    "\n",
    "\n",
    "                              \n",
    "# Print the test results\n",
    "print(test_results)\n",
    "\n",
    "# Reject the null hypothesis."
   ]
  },
  {
   "cell_type": "code",
   "execution_count": 35,
   "metadata": {},
   "outputs": [
    {
     "name": "stdout",
     "output_type": "stream",
     "text": [
      "                T  dof alternative          p-val         CI95%   cohen-d  \\\n",
      "T-test  30.298384  499   two-sided  3.600634e-115  [6.39, 7.27]  0.454202   \n",
      "\n",
      "              BF10  power  \n",
      "T-test  2.246e+111    1.0  \n"
     ]
    }
   ],
   "source": [
    "\n",
    "# Conduct a paired t-test on dem_percent_12 and dem_percent_16\n",
    "paired_test_results = pingouin.ttest(x=sample_dem_data['dem_percent_12'],\n",
    "                                    y=sample_dem_data['dem_percent_16'],\n",
    "                                    paired=True,\n",
    "                                    alternative=\"two-sided\")\n",
    "                              \n",
    "# Print the paired test results\n",
    "print(paired_test_results)"
   ]
  },
  {
   "cell_type": "code",
   "execution_count": 36,
   "metadata": {},
   "outputs": [
    {
     "data": {
      "text/html": [
       "<div>\n",
       "<style scoped>\n",
       "    .dataframe tbody tr th:only-of-type {\n",
       "        vertical-align: middle;\n",
       "    }\n",
       "\n",
       "    .dataframe tbody tr th {\n",
       "        vertical-align: top;\n",
       "    }\n",
       "\n",
       "    .dataframe thead th {\n",
       "        text-align: right;\n",
       "    }\n",
       "</style>\n",
       "<table border=\"1\" class=\"dataframe\">\n",
       "  <thead>\n",
       "    <tr style=\"text-align: right;\">\n",
       "      <th></th>\n",
       "      <th>T</th>\n",
       "      <th>dof</th>\n",
       "      <th>alternative</th>\n",
       "      <th>p-val</th>\n",
       "      <th>CI95%</th>\n",
       "      <th>cohen-d</th>\n",
       "      <th>BF10</th>\n",
       "      <th>power</th>\n",
       "    </tr>\n",
       "  </thead>\n",
       "  <tbody>\n",
       "    <tr>\n",
       "      <th>T-test</th>\n",
       "      <td>7.181565</td>\n",
       "      <td>998</td>\n",
       "      <td>two-sided</td>\n",
       "      <td>1.345737e-12</td>\n",
       "      <td>[4.96, 8.7]</td>\n",
       "      <td>0.454202</td>\n",
       "      <td>4.308e+09</td>\n",
       "      <td>1.0</td>\n",
       "    </tr>\n",
       "  </tbody>\n",
       "</table>\n",
       "</div>"
      ],
      "text/plain": [
       "               T  dof alternative         p-val        CI95%   cohen-d  \\\n",
       "T-test  7.181565  998   two-sided  1.345737e-12  [4.96, 8.7]  0.454202   \n",
       "\n",
       "             BF10  power  \n",
       "T-test  4.308e+09    1.0  "
      ]
     },
     "execution_count": 36,
     "metadata": {},
     "output_type": "execute_result"
    }
   ],
   "source": [
    "#unpaired\n",
    "pingouin.ttest(x=sample_dem_data['dem_percent_12'], \n",
    "               y=sample_dem_data['dem_percent_16'], \n",
    "               alternative=\"two-sided\")\n",
    "\n",
    "#Paired t-test party! Using .ttest() lets you avoid manual calculation to run your test. \n",
    "# When you have paired data, a paired t-test is preferable to the unpaired version \n",
    "# because it reduces the chance of a false negative error."
   ]
  },
  {
   "cell_type": "markdown",
   "metadata": {},
   "source": [
    "#### **ANOVA tests**\n",
    "\n",
    "1. Job satisfaction: 5 categories\n",
    "stack_overflow['job_sat'].value_counts()\n",
    "\n",
    "2. Visualizing multiple distributions\n",
    "Is mean annual compensation different for\n",
    "different levels of job satisfaction?\n",
    "import seaborn as sns\n",
    "import matplotlib.pyplot as plt\n",
    "sns.boxplot(x=\"converted_comp\",\n",
    "            y=\"job_sat\",\n",
    "            data=stack_overflow)\n",
    "plt.show()\n",
    "\n",
    "3. Analysis of variance (ANOVA)\n",
    "\n",
    "A test for differences between groups\n",
    "alpha = 0.2\n",
    "pingouin.anova(data=stack_overflow,\n",
    "dv=\"converted_comp\",\n",
    "between=\"job_sat\")\n",
    "Source ddof1 ddof2 F p-unc np2\n",
    "0 job_sat 4 2256 4.480485 0.001315 0.007882\n",
    "0.001315 < α\n",
    "At least two categories have significantly different compensation\n",
    "\n",
    "4. Pairwise tests\n",
    "\n",
    "μ very dissatisfied ≠ μ slightly dissatisfied\n",
    "μ very dissatisfied ≠ μ neither\n",
    "μ very dissatisfied ≠ μ slightly satisfied\n",
    "μ very dissatisfied ≠ μ very satisfied\n",
    "μ slightly dissatisfied ≠ μ neither\n",
    "μ slightly dissatisfied ≠ μ slightly satisfied\n",
    "μ slightly dissatisfied ≠ μ very satisfied\n",
    "μ neither ≠ μ slightly satisfied\n",
    "μ neither ≠ μ very satisfied\n",
    "μ slightly satisfied ≠ μ very satisfied\n",
    "\n",
    "Set significance level to α = 0.2\n",
    "\n",
    "5. pairwise_tests()\n",
    "\n",
    "pingouin.pairwise_tests(data=stack_overflow,\n",
    "                        dv=\"converted_comp\",\n",
    "                        between=\"job_sat\",\n",
    "                        padjust=\"none\")\n",
    " \n",
    "6. As the number of groups increases...\n",
    "\n",
    "there is more prob of a false positive\n",
    "\n",
    "7. Bonferroni correction\n",
    "\n",
    "pingouin.pairwise_tests(data=stack_overflow,\n",
    "                        dv=\"converted_comp\",\n",
    "                        between=\"job_sat\",\n",
    "                        padjust=\"bonf\")\n",
    " \n",
    "8. More methods\n",
    "\n",
    "padjust : string\n",
    "Method used for testing and adjustment of pvalues.\n",
    "'none' : no correction [default]\n",
    "'bonf' : one-step Bonferroni correction\n",
    "'sidak' : one-step Sidak correction\n",
    "'holm' : step-down method using Bonferroni adjustments\n",
    "'fdr_bh' : Benjamini/Hochberg FDR correction\n",
    "'fdr_by' : Benjamini/Yekutieli FDR correction"
   ]
  },
  {
   "cell_type": "code",
   "execution_count": 37,
   "metadata": {},
   "outputs": [
    {
     "data": {
      "text/plain": [
       "job_sat\n",
       "Very satisfied           879\n",
       "Slightly satisfied       680\n",
       "Slightly dissatisfied    342\n",
       "Neither                  201\n",
       "Very dissatisfied        159\n",
       "Name: count, dtype: int64"
      ]
     },
     "metadata": {},
     "output_type": "display_data"
    },
    {
     "name": "stderr",
     "output_type": "stream",
     "text": [
      "C:\\Users\\mcaba\\AppData\\Roaming\\Python\\Python310\\site-packages\\seaborn\\categorical.py:641: FutureWarning: The default of observed=False is deprecated and will be changed to True in a future version of pandas. Pass observed=False to retain current behavior or observed=True to adopt the future default and silence this warning.\n",
      "  grouped_vals = vals.groupby(grouper)\n"
     ]
    },
    {
     "data": {
      "image/png": "[encoded data removed]",
      "text/plain": [
       "<Figure size 640x480 with 1 Axes>"
      ]
     },
     "metadata": {},
     "output_type": "display_data"
    }
   ],
   "source": [
    "display(\n",
    "stack_overflow['job_sat'].value_counts()\n",
    ")\n",
    "\n",
    "import seaborn as sns\n",
    "import matplotlib.pyplot as plt\n",
    "sns.boxplot(x=\"converted_comp\",\n",
    "            y=\"job_sat\",\n",
    "            data=stack_overflow)\n",
    "plt.show()"
   ]
  },
  {
   "cell_type": "code",
   "execution_count": 38,
   "metadata": {},
   "outputs": [
    {
     "data": {
      "text/html": [
       "<div>\n",
       "<style scoped>\n",
       "    .dataframe tbody tr th:only-of-type {\n",
       "        vertical-align: middle;\n",
       "    }\n",
       "\n",
       "    .dataframe tbody tr th {\n",
       "        vertical-align: top;\n",
       "    }\n",
       "\n",
       "    .dataframe thead th {\n",
       "        text-align: right;\n",
       "    }\n",
       "</style>\n",
       "<table border=\"1\" class=\"dataframe\">\n",
       "  <thead>\n",
       "    <tr style=\"text-align: right;\">\n",
       "      <th></th>\n",
       "      <th>Source</th>\n",
       "      <th>ddof1</th>\n",
       "      <th>ddof2</th>\n",
       "      <th>F</th>\n",
       "      <th>p-unc</th>\n",
       "      <th>np2</th>\n",
       "    </tr>\n",
       "  </thead>\n",
       "  <tbody>\n",
       "    <tr>\n",
       "      <th>0</th>\n",
       "      <td>job_sat</td>\n",
       "      <td>4</td>\n",
       "      <td>2256</td>\n",
       "      <td>4.480485</td>\n",
       "      <td>0.001315</td>\n",
       "      <td>0.007882</td>\n",
       "    </tr>\n",
       "  </tbody>\n",
       "</table>\n",
       "</div>"
      ],
      "text/plain": [
       "    Source  ddof1  ddof2         F     p-unc       np2\n",
       "0  job_sat      4   2256  4.480485  0.001315  0.007882"
      ]
     },
     "execution_count": 38,
     "metadata": {},
     "output_type": "execute_result"
    }
   ],
   "source": [
    "alpha = 0.2\n",
    "pingouin.anova(data=stack_overflow,\n",
    "                dv=\"converted_comp\",\n",
    "                between=\"job_sat\")"
   ]
  },
  {
   "cell_type": "code",
   "execution_count": 39,
   "metadata": {},
   "outputs": [
    {
     "data": {
      "text/html": [
       "<div>\n",
       "<style scoped>\n",
       "    .dataframe tbody tr th:only-of-type {\n",
       "        vertical-align: middle;\n",
       "    }\n",
       "\n",
       "    .dataframe tbody tr th {\n",
       "        vertical-align: top;\n",
       "    }\n",
       "\n",
       "    .dataframe thead th {\n",
       "        text-align: right;\n",
       "    }\n",
       "</style>\n",
       "<table border=\"1\" class=\"dataframe\">\n",
       "  <thead>\n",
       "    <tr style=\"text-align: right;\">\n",
       "      <th></th>\n",
       "      <th>Contrast</th>\n",
       "      <th>A</th>\n",
       "      <th>B</th>\n",
       "      <th>Paired</th>\n",
       "      <th>Parametric</th>\n",
       "      <th>T</th>\n",
       "      <th>dof</th>\n",
       "      <th>alternative</th>\n",
       "      <th>p-unc</th>\n",
       "      <th>BF10</th>\n",
       "      <th>hedges</th>\n",
       "    </tr>\n",
       "  </thead>\n",
       "  <tbody>\n",
       "    <tr>\n",
       "      <th>0</th>\n",
       "      <td>job_sat</td>\n",
       "      <td>Very dissatisfied</td>\n",
       "      <td>Slightly dissatisfied</td>\n",
       "      <td>False</td>\n",
       "      <td>True</td>\n",
       "      <td>1.129951</td>\n",
       "      <td>247.570187</td>\n",
       "      <td>two-sided</td>\n",
       "      <td>0.259590</td>\n",
       "      <td>0.197</td>\n",
       "      <td>0.119131</td>\n",
       "    </tr>\n",
       "    <tr>\n",
       "      <th>1</th>\n",
       "      <td>job_sat</td>\n",
       "      <td>Very dissatisfied</td>\n",
       "      <td>Neither</td>\n",
       "      <td>False</td>\n",
       "      <td>True</td>\n",
       "      <td>0.545948</td>\n",
       "      <td>321.165726</td>\n",
       "      <td>two-sided</td>\n",
       "      <td>0.585481</td>\n",
       "      <td>0.135</td>\n",
       "      <td>0.058537</td>\n",
       "    </tr>\n",
       "    <tr>\n",
       "      <th>2</th>\n",
       "      <td>job_sat</td>\n",
       "      <td>Very dissatisfied</td>\n",
       "      <td>Slightly satisfied</td>\n",
       "      <td>False</td>\n",
       "      <td>True</td>\n",
       "      <td>1.243665</td>\n",
       "      <td>187.153329</td>\n",
       "      <td>two-sided</td>\n",
       "      <td>0.215179</td>\n",
       "      <td>0.208</td>\n",
       "      <td>0.145624</td>\n",
       "    </tr>\n",
       "    <tr>\n",
       "      <th>3</th>\n",
       "      <td>job_sat</td>\n",
       "      <td>Very dissatisfied</td>\n",
       "      <td>Very satisfied</td>\n",
       "      <td>False</td>\n",
       "      <td>True</td>\n",
       "      <td>-0.747379</td>\n",
       "      <td>221.666205</td>\n",
       "      <td>two-sided</td>\n",
       "      <td>0.455627</td>\n",
       "      <td>0.126</td>\n",
       "      <td>-0.063479</td>\n",
       "    </tr>\n",
       "    <tr>\n",
       "      <th>4</th>\n",
       "      <td>job_sat</td>\n",
       "      <td>Slightly dissatisfied</td>\n",
       "      <td>Neither</td>\n",
       "      <td>False</td>\n",
       "      <td>True</td>\n",
       "      <td>-0.602209</td>\n",
       "      <td>367.730081</td>\n",
       "      <td>two-sided</td>\n",
       "      <td>0.547406</td>\n",
       "      <td>0.118</td>\n",
       "      <td>-0.055707</td>\n",
       "    </tr>\n",
       "    <tr>\n",
       "      <th>5</th>\n",
       "      <td>job_sat</td>\n",
       "      <td>Slightly dissatisfied</td>\n",
       "      <td>Slightly satisfied</td>\n",
       "      <td>False</td>\n",
       "      <td>True</td>\n",
       "      <td>0.038264</td>\n",
       "      <td>569.926329</td>\n",
       "      <td>two-sided</td>\n",
       "      <td>0.969491</td>\n",
       "      <td>0.074</td>\n",
       "      <td>0.002719</td>\n",
       "    </tr>\n",
       "    <tr>\n",
       "      <th>6</th>\n",
       "      <td>job_sat</td>\n",
       "      <td>Slightly dissatisfied</td>\n",
       "      <td>Very satisfied</td>\n",
       "      <td>False</td>\n",
       "      <td>True</td>\n",
       "      <td>-3.076222</td>\n",
       "      <td>821.303063</td>\n",
       "      <td>two-sided</td>\n",
       "      <td>0.002166</td>\n",
       "      <td>7.43</td>\n",
       "      <td>-0.173247</td>\n",
       "    </tr>\n",
       "    <tr>\n",
       "      <th>7</th>\n",
       "      <td>job_sat</td>\n",
       "      <td>Neither</td>\n",
       "      <td>Slightly satisfied</td>\n",
       "      <td>False</td>\n",
       "      <td>True</td>\n",
       "      <td>0.700752</td>\n",
       "      <td>258.204546</td>\n",
       "      <td>two-sided</td>\n",
       "      <td>0.484088</td>\n",
       "      <td>0.114</td>\n",
       "      <td>0.068513</td>\n",
       "    </tr>\n",
       "    <tr>\n",
       "      <th>8</th>\n",
       "      <td>job_sat</td>\n",
       "      <td>Neither</td>\n",
       "      <td>Very satisfied</td>\n",
       "      <td>False</td>\n",
       "      <td>True</td>\n",
       "      <td>-1.662901</td>\n",
       "      <td>328.326639</td>\n",
       "      <td>two-sided</td>\n",
       "      <td>0.097286</td>\n",
       "      <td>0.337</td>\n",
       "      <td>-0.120115</td>\n",
       "    </tr>\n",
       "    <tr>\n",
       "      <th>9</th>\n",
       "      <td>job_sat</td>\n",
       "      <td>Slightly satisfied</td>\n",
       "      <td>Very satisfied</td>\n",
       "      <td>False</td>\n",
       "      <td>True</td>\n",
       "      <td>-4.009935</td>\n",
       "      <td>1478.622799</td>\n",
       "      <td>two-sided</td>\n",
       "      <td>0.000064</td>\n",
       "      <td>158.564</td>\n",
       "      <td>-0.192931</td>\n",
       "    </tr>\n",
       "  </tbody>\n",
       "</table>\n",
       "</div>"
      ],
      "text/plain": [
       "  Contrast                      A                      B  Paired  Parametric  \\\n",
       "0  job_sat      Very dissatisfied  Slightly dissatisfied   False        True   \n",
       "1  job_sat      Very dissatisfied                Neither   False        True   \n",
       "2  job_sat      Very dissatisfied     Slightly satisfied   False        True   \n",
       "3  job_sat      Very dissatisfied         Very satisfied   False        True   \n",
       "4  job_sat  Slightly dissatisfied                Neither   False        True   \n",
       "5  job_sat  Slightly dissatisfied     Slightly satisfied   False        True   \n",
       "6  job_sat  Slightly dissatisfied         Very satisfied   False        True   \n",
       "7  job_sat                Neither     Slightly satisfied   False        True   \n",
       "8  job_sat                Neither         Very satisfied   False        True   \n",
       "9  job_sat     Slightly satisfied         Very satisfied   False        True   \n",
       "\n",
       "          T          dof alternative     p-unc     BF10    hedges  \n",
       "0  1.129951   247.570187   two-sided  0.259590    0.197  0.119131  \n",
       "1  0.545948   321.165726   two-sided  0.585481    0.135  0.058537  \n",
       "2  1.243665   187.153329   two-sided  0.215179    0.208  0.145624  \n",
       "3 -0.747379   221.666205   two-sided  0.455627    0.126 -0.063479  \n",
       "4 -0.602209   367.730081   two-sided  0.547406    0.118 -0.055707  \n",
       "5  0.038264   569.926329   two-sided  0.969491    0.074  0.002719  \n",
       "6 -3.076222   821.303063   two-sided  0.002166     7.43 -0.173247  \n",
       "7  0.700752   258.204546   two-sided  0.484088    0.114  0.068513  \n",
       "8 -1.662901   328.326639   two-sided  0.097286    0.337 -0.120115  \n",
       "9 -4.009935  1478.622799   two-sided  0.000064  158.564 -0.192931  "
      ]
     },
     "execution_count": 39,
     "metadata": {},
     "output_type": "execute_result"
    }
   ],
   "source": [
    "pingouin.pairwise_tests(data=stack_overflow,\n",
    "                        dv=\"converted_comp\",\n",
    "                        between=\"job_sat\",\n",
    "                        padjust=\"none\")"
   ]
  },
  {
   "cell_type": "code",
   "execution_count": 40,
   "metadata": {},
   "outputs": [
    {
     "data": {
      "text/html": [
       "<div>\n",
       "<style scoped>\n",
       "    .dataframe tbody tr th:only-of-type {\n",
       "        vertical-align: middle;\n",
       "    }\n",
       "\n",
       "    .dataframe tbody tr th {\n",
       "        vertical-align: top;\n",
       "    }\n",
       "\n",
       "    .dataframe thead th {\n",
       "        text-align: right;\n",
       "    }\n",
       "</style>\n",
       "<table border=\"1\" class=\"dataframe\">\n",
       "  <thead>\n",
       "    <tr style=\"text-align: right;\">\n",
       "      <th></th>\n",
       "      <th>Contrast</th>\n",
       "      <th>A</th>\n",
       "      <th>B</th>\n",
       "      <th>Paired</th>\n",
       "      <th>Parametric</th>\n",
       "      <th>T</th>\n",
       "      <th>dof</th>\n",
       "      <th>alternative</th>\n",
       "      <th>p-unc</th>\n",
       "      <th>p-corr</th>\n",
       "      <th>p-adjust</th>\n",
       "      <th>BF10</th>\n",
       "      <th>hedges</th>\n",
       "    </tr>\n",
       "  </thead>\n",
       "  <tbody>\n",
       "    <tr>\n",
       "      <th>0</th>\n",
       "      <td>job_sat</td>\n",
       "      <td>Very dissatisfied</td>\n",
       "      <td>Slightly dissatisfied</td>\n",
       "      <td>False</td>\n",
       "      <td>True</td>\n",
       "      <td>1.129951</td>\n",
       "      <td>247.570187</td>\n",
       "      <td>two-sided</td>\n",
       "      <td>0.259590</td>\n",
       "      <td>1.000000</td>\n",
       "      <td>bonf</td>\n",
       "      <td>0.197</td>\n",
       "      <td>0.119131</td>\n",
       "    </tr>\n",
       "    <tr>\n",
       "      <th>1</th>\n",
       "      <td>job_sat</td>\n",
       "      <td>Very dissatisfied</td>\n",
       "      <td>Neither</td>\n",
       "      <td>False</td>\n",
       "      <td>True</td>\n",
       "      <td>0.545948</td>\n",
       "      <td>321.165726</td>\n",
       "      <td>two-sided</td>\n",
       "      <td>0.585481</td>\n",
       "      <td>1.000000</td>\n",
       "      <td>bonf</td>\n",
       "      <td>0.135</td>\n",
       "      <td>0.058537</td>\n",
       "    </tr>\n",
       "    <tr>\n",
       "      <th>2</th>\n",
       "      <td>job_sat</td>\n",
       "      <td>Very dissatisfied</td>\n",
       "      <td>Slightly satisfied</td>\n",
       "      <td>False</td>\n",
       "      <td>True</td>\n",
       "      <td>1.243665</td>\n",
       "      <td>187.153329</td>\n",
       "      <td>two-sided</td>\n",
       "      <td>0.215179</td>\n",
       "      <td>1.000000</td>\n",
       "      <td>bonf</td>\n",
       "      <td>0.208</td>\n",
       "      <td>0.145624</td>\n",
       "    </tr>\n",
       "    <tr>\n",
       "      <th>3</th>\n",
       "      <td>job_sat</td>\n",
       "      <td>Very dissatisfied</td>\n",
       "      <td>Very satisfied</td>\n",
       "      <td>False</td>\n",
       "      <td>True</td>\n",
       "      <td>-0.747379</td>\n",
       "      <td>221.666205</td>\n",
       "      <td>two-sided</td>\n",
       "      <td>0.455627</td>\n",
       "      <td>1.000000</td>\n",
       "      <td>bonf</td>\n",
       "      <td>0.126</td>\n",
       "      <td>-0.063479</td>\n",
       "    </tr>\n",
       "    <tr>\n",
       "      <th>4</th>\n",
       "      <td>job_sat</td>\n",
       "      <td>Slightly dissatisfied</td>\n",
       "      <td>Neither</td>\n",
       "      <td>False</td>\n",
       "      <td>True</td>\n",
       "      <td>-0.602209</td>\n",
       "      <td>367.730081</td>\n",
       "      <td>two-sided</td>\n",
       "      <td>0.547406</td>\n",
       "      <td>1.000000</td>\n",
       "      <td>bonf</td>\n",
       "      <td>0.118</td>\n",
       "      <td>-0.055707</td>\n",
       "    </tr>\n",
       "    <tr>\n",
       "      <th>5</th>\n",
       "      <td>job_sat</td>\n",
       "      <td>Slightly dissatisfied</td>\n",
       "      <td>Slightly satisfied</td>\n",
       "      <td>False</td>\n",
       "      <td>True</td>\n",
       "      <td>0.038264</td>\n",
       "      <td>569.926329</td>\n",
       "      <td>two-sided</td>\n",
       "      <td>0.969491</td>\n",
       "      <td>1.000000</td>\n",
       "      <td>bonf</td>\n",
       "      <td>0.074</td>\n",
       "      <td>0.002719</td>\n",
       "    </tr>\n",
       "    <tr>\n",
       "      <th>6</th>\n",
       "      <td>job_sat</td>\n",
       "      <td>Slightly dissatisfied</td>\n",
       "      <td>Very satisfied</td>\n",
       "      <td>False</td>\n",
       "      <td>True</td>\n",
       "      <td>-3.076222</td>\n",
       "      <td>821.303063</td>\n",
       "      <td>two-sided</td>\n",
       "      <td>0.002166</td>\n",
       "      <td>0.021659</td>\n",
       "      <td>bonf</td>\n",
       "      <td>7.43</td>\n",
       "      <td>-0.173247</td>\n",
       "    </tr>\n",
       "    <tr>\n",
       "      <th>7</th>\n",
       "      <td>job_sat</td>\n",
       "      <td>Neither</td>\n",
       "      <td>Slightly satisfied</td>\n",
       "      <td>False</td>\n",
       "      <td>True</td>\n",
       "      <td>0.700752</td>\n",
       "      <td>258.204546</td>\n",
       "      <td>two-sided</td>\n",
       "      <td>0.484088</td>\n",
       "      <td>1.000000</td>\n",
       "      <td>bonf</td>\n",
       "      <td>0.114</td>\n",
       "      <td>0.068513</td>\n",
       "    </tr>\n",
       "    <tr>\n",
       "      <th>8</th>\n",
       "      <td>job_sat</td>\n",
       "      <td>Neither</td>\n",
       "      <td>Very satisfied</td>\n",
       "      <td>False</td>\n",
       "      <td>True</td>\n",
       "      <td>-1.662901</td>\n",
       "      <td>328.326639</td>\n",
       "      <td>two-sided</td>\n",
       "      <td>0.097286</td>\n",
       "      <td>0.972864</td>\n",
       "      <td>bonf</td>\n",
       "      <td>0.337</td>\n",
       "      <td>-0.120115</td>\n",
       "    </tr>\n",
       "    <tr>\n",
       "      <th>9</th>\n",
       "      <td>job_sat</td>\n",
       "      <td>Slightly satisfied</td>\n",
       "      <td>Very satisfied</td>\n",
       "      <td>False</td>\n",
       "      <td>True</td>\n",
       "      <td>-4.009935</td>\n",
       "      <td>1478.622799</td>\n",
       "      <td>two-sided</td>\n",
       "      <td>0.000064</td>\n",
       "      <td>0.000638</td>\n",
       "      <td>bonf</td>\n",
       "      <td>158.564</td>\n",
       "      <td>-0.192931</td>\n",
       "    </tr>\n",
       "  </tbody>\n",
       "</table>\n",
       "</div>"
      ],
      "text/plain": [
       "  Contrast                      A                      B  Paired  Parametric  \\\n",
       "0  job_sat      Very dissatisfied  Slightly dissatisfied   False        True   \n",
       "1  job_sat      Very dissatisfied                Neither   False        True   \n",
       "2  job_sat      Very dissatisfied     Slightly satisfied   False        True   \n",
       "3  job_sat      Very dissatisfied         Very satisfied   False        True   \n",
       "4  job_sat  Slightly dissatisfied                Neither   False        True   \n",
       "5  job_sat  Slightly dissatisfied     Slightly satisfied   False        True   \n",
       "6  job_sat  Slightly dissatisfied         Very satisfied   False        True   \n",
       "7  job_sat                Neither     Slightly satisfied   False        True   \n",
       "8  job_sat                Neither         Very satisfied   False        True   \n",
       "9  job_sat     Slightly satisfied         Very satisfied   False        True   \n",
       "\n",
       "          T          dof alternative     p-unc    p-corr p-adjust     BF10  \\\n",
       "0  1.129951   247.570187   two-sided  0.259590  1.000000     bonf    0.197   \n",
       "1  0.545948   321.165726   two-sided  0.585481  1.000000     bonf    0.135   \n",
       "2  1.243665   187.153329   two-sided  0.215179  1.000000     bonf    0.208   \n",
       "3 -0.747379   221.666205   two-sided  0.455627  1.000000     bonf    0.126   \n",
       "4 -0.602209   367.730081   two-sided  0.547406  1.000000     bonf    0.118   \n",
       "5  0.038264   569.926329   two-sided  0.969491  1.000000     bonf    0.074   \n",
       "6 -3.076222   821.303063   two-sided  0.002166  0.021659     bonf     7.43   \n",
       "7  0.700752   258.204546   two-sided  0.484088  1.000000     bonf    0.114   \n",
       "8 -1.662901   328.326639   two-sided  0.097286  0.972864     bonf    0.337   \n",
       "9 -4.009935  1478.622799   two-sided  0.000064  0.000638     bonf  158.564   \n",
       "\n",
       "     hedges  \n",
       "0  0.119131  \n",
       "1  0.058537  \n",
       "2  0.145624  \n",
       "3 -0.063479  \n",
       "4 -0.055707  \n",
       "5  0.002719  \n",
       "6 -0.173247  \n",
       "7  0.068513  \n",
       "8 -0.120115  \n",
       "9 -0.192931  "
      ]
     },
     "execution_count": 40,
     "metadata": {},
     "output_type": "execute_result"
    }
   ],
   "source": [
    "pingouin.pairwise_tests(data=stack_overflow,\n",
    "                        dv=\"converted_comp\",\n",
    "                        between=\"job_sat\",\n",
    "                        padjust=\"bonf\")"
   ]
  },
  {
   "cell_type": "markdown",
   "metadata": {},
   "source": [
    "Visualizing many categories\n",
    "So far in this chapter, we've only considered the case of differences in a numeric variable between two categories. Of course, many datasets contain more categories. Before you get to conducting tests on many categories, it's often helpful to perform exploratory data analysis (EDA), calculating summary statistics for each group and visualizing the distributions of the numeric variable for each category using box plots.\n",
    "\n",
    "Here, we'll return to the late shipments data, and how the price of each package (pack_price) varies between the three shipment modes (shipment_mode): \"Air\", \"Air Charter\", and \"Ocean\".\n",
    "\n",
    "late_shipments is available; pandas and matplotlib.pyplot are loaded with their standard aliases, and seaborn is loaded as sns."
   ]
  },
  {
   "cell_type": "code",
   "execution_count": 41,
   "metadata": {},
   "outputs": [
    {
     "name": "stdout",
     "output_type": "stream",
     "text": [
      "shipment_mode\n",
      "Air            39.712395\n",
      "Air Charter     4.226667\n",
      "Ocean           6.432273\n",
      "Name: pack_price, dtype: float64\n",
      "shipment_mode\n",
      "Air            48.932861\n",
      "Air Charter     0.992969\n",
      "Ocean           5.303047\n",
      "Name: pack_price, dtype: float64\n"
     ]
    },
    {
     "data": {
      "image/png": "[encoded data removed]",
      "text/plain": [
       "<Figure size 640x480 with 1 Axes>"
      ]
     },
     "metadata": {},
     "output_type": "display_data"
    }
   ],
   "source": [
    "xbar_pack_by_mode = late_shipments.groupby('shipment_mode')['pack_price'].mean()\n",
    "\n",
    "# Print the grouped means\n",
    "print(xbar_pack_by_mode)\n",
    "\n",
    "# Calculate the standard deviation of the pack_price for each shipment_mode\n",
    "s_pack_by_mode = late_shipments.groupby(\"shipment_mode\")['pack_price'].std()\n",
    "\n",
    "# Print the grouped standard deviations\n",
    "print(s_pack_by_mode)\n",
    "\n",
    "# Boxplot of shipment_mode vs. pack_price\n",
    "sns.boxplot(x=\"pack_price\",\n",
    "            y=\"shipment_mode\",\n",
    "            data=late_shipments)\n",
    "plt.show()"
   ]
  },
  {
   "cell_type": "markdown",
   "metadata": {},
   "source": [
    "Conducting an ANOVA test\n",
    "The box plots made it look like the distribution of pack price was different for each of the three shipment modes. However, it didn't tell us whether the mean pack price was different in each category. To determine that, we can use an ANOVA test. The null and alternative hypotheses can be written as follows.\n",
    "\n",
    "H0 : Pack prices for every category of shipment mode are the same.\n",
    "\n",
    "Ha: Pack prices for some categories of shipment mode are different.\n",
    "\n",
    "Use a significance level of 0.1.\n",
    "\n",
    "late_shipments is available and pingouin has been loaded."
   ]
  },
  {
   "cell_type": "code",
   "execution_count": 42,
   "metadata": {},
   "outputs": [
    {
     "name": "stdout",
     "output_type": "stream",
     "text": [
      "          Source  ddof1  ddof2        F         p-unc       np2\n",
      "0  shipment_mode      2    997  21.8646  5.089479e-10  0.042018\n"
     ]
    }
   ],
   "source": [
    "# Run an ANOVA for pack_price across shipment_mode\n",
    "anova_results = pingouin.anova(data=late_shipments,\n",
    "                dv=\"pack_price\",\n",
    "                between=\"shipment_mode\")\n",
    "\n",
    "\n",
    "\n",
    "# Print anova_results\n",
    "print(anova_results)\n",
    "\n",
    "# Yes. The p-value is less than or equal to the significance level, \n",
    "# so the null hypothesis should be rejected."
   ]
  },
  {
   "cell_type": "markdown",
   "metadata": {},
   "source": [
    "Pairwise t-tests\n",
    "The ANOVA test didn't tell you which categories of shipment mode had significant differences in pack prices. To pinpoint which categories had differences, you could instead use pairwise t-tests.\n",
    "\n",
    "late_shipments is available and pingouin has been loaded."
   ]
  },
  {
   "cell_type": "code",
   "execution_count": 43,
   "metadata": {},
   "outputs": [
    {
     "name": "stdout",
     "output_type": "stream",
     "text": [
      "        Contrast            A            B  Paired  Parametric          T  \\\n",
      "0  shipment_mode          Air  Air Charter   False        True  21.179625   \n",
      "1  shipment_mode          Air        Ocean   False        True  19.335760   \n",
      "2  shipment_mode  Air Charter        Ocean   False        True  -3.170654   \n",
      "\n",
      "          dof alternative         p-unc       BF10    hedges  \n",
      "0  600.685682   two-sided  8.748346e-75  5.809e+76  0.726592  \n",
      "1  986.979785   two-sided  6.934555e-71  1.129e+67  0.711119  \n",
      "2   35.615026   two-sided  3.123012e-03     15.277 -0.423775  \n"
     ]
    }
   ],
   "source": [
    "# Perform a pairwise t-test on pack price, grouped by shipment mode\n",
    "pairwise_results = pingouin.pairwise_tests(data=late_shipments,\n",
    "                        dv=\"pack_price\",\n",
    "                        between=\"shipment_mode\",\n",
    "                        padjust=\"none\") \n",
    "\n",
    "\n",
    "\n",
    "\n",
    "# Print pairwise_results\n",
    "print(pairwise_results)"
   ]
  },
  {
   "cell_type": "code",
   "execution_count": 44,
   "metadata": {},
   "outputs": [
    {
     "name": "stdout",
     "output_type": "stream",
     "text": [
      "        Contrast            A            B  Paired  Parametric          T  \\\n",
      "0  shipment_mode          Air  Air Charter   False        True  21.179625   \n",
      "1  shipment_mode          Air        Ocean   False        True  19.335760   \n",
      "2  shipment_mode  Air Charter        Ocean   False        True  -3.170654   \n",
      "\n",
      "          dof alternative         p-unc        p-corr p-adjust       BF10  \\\n",
      "0  600.685682   two-sided  8.748346e-75  2.624504e-74     bonf  5.809e+76   \n",
      "1  986.979785   two-sided  6.934555e-71  2.080367e-70     bonf  1.129e+67   \n",
      "2   35.615026   two-sided  3.123012e-03  9.369037e-03     bonf     15.277   \n",
      "\n",
      "     hedges  \n",
      "0  0.726592  \n",
      "1  0.711119  \n",
      "2 -0.423775  \n"
     ]
    }
   ],
   "source": [
    "# Modify the pairwise t-tests to use Bonferroni p-value adjustment\n",
    "pairwise_results = pingouin.pairwise_tests(data=late_shipments, \n",
    "                                           dv=\"pack_price\",\n",
    "                                           between=\"shipment_mode\",\n",
    "                                           padjust=\"bonf\")\n",
    "\n",
    "# Print pairwise_results\n",
    "print(pairwise_results)"
   ]
  },
  {
   "attachments": {},
   "cell_type": "markdown",
   "metadata": {},
   "source": [
    "## **Proportion Tests (Module 03-054)**"
   ]
  },
  {
   "attachments": {},
   "cell_type": "markdown",
   "metadata": {},
   "source": [
    "#### **One-sample proportion tests**\n",
    "\n",
    "1. Chapter 1 recap\n",
    "\n",
    "Is a claim about an unknown population proportion feasible?\n",
    "1. Standard error of sample statistic from bootstrap distribution\n",
    "2. Compute a standardized test statistic\n",
    "3. Calculate a p-value\n",
    "4. Decide which hypothesis made most sense\n",
    "Now, calculate the test statistic without using the bootstrap distribution\n",
    "\n",
    "2. Standardized test statistic for proportions\n",
    "\n",
    "p: population proportion (unknown population parameter)\n",
    "p^: sample proportion (sample statistic)\n",
    "p0 : hypothesized population proportion\n",
    "\n",
    "z = (p^ − mean(p^)) / SE(p^) = (p^ − p) / SE(p^)\n",
    "\n",
    "Assuming H0 is true, p = p0 , so\n",
    "\n",
    "z = (p^ − p0) / SE(p^)\n",
    "\n",
    "3. Simplifying the standard error calculations\n",
    "\n",
    "SE(p^) = √(p0*(1-p0)/n) → Under H0, SE(p^) depends on hypothesized p0 and sample size n\n",
    "\n",
    "Assuming H0 is true,\n",
    "\n",
    "z = (p^ − p0) / √(p0*(1-p0)/n)\n",
    "\n",
    "- Only uses sample information ( and n) and the hypothesized parameter (p0)\n",
    "\n",
    "4. Why z instead of t?\n",
    "\n",
    "t = (xbar_child − xbar_adult) / √(schild^2/nchild) + (sadult^2/nadult)\n",
    "\n",
    "s is calculated from xbar\n",
    "xbar estimates the population mean\n",
    "s estimates the population standard deviation\n",
    "↑ uncertainty in our estimate of the parameter\n",
    "t-distribution - fatter tails than a normal distribution\n",
    "p^ only appears in the numerator, so z-scores are fine\n",
    "\n",
    "5. Stack Overflow age categories\n",
    "\n",
    "Ho : Proportion of Stack Overflow users under thirty = 0.5\n",
    "Ha : Proportion of Stack Overflow users under thirty ≠ 0.5\n",
    "\n",
    "alpha = 0.01\n",
    "stack_overflow['age_cat'].value_counts(normalize=True)\n",
    "\n",
    "6. Variables for z\n",
    "\n",
    "p_hat = (stack_overflow['age_cat'] == 'Under 30').mean()\n",
    "p_0 = 0.50\n",
    "n = len(stack_overflow)\n",
    "\n",
    "7. Calculating the z-score\n",
    "z = (p^ − p0) / √(p0*(1-p0)/n)\n",
    "\n",
    "import numpy as np\n",
    "numerator = p_hat - p_0\n",
    "denominator = np.sqrt(p_0 * (1 - p_0) / n)\n",
    "z_score = numerator / denominator\n",
    "\n",
    "8. Calculating the p-value\n",
    "\n",
    "Left-tailed (\"less than\"):\n",
    "from scipy.stats import norm\n",
    "p_value = norm.cdf(z_score)\n",
    "\n",
    "Right-tailed (\"greater than\"):\n",
    "p_value = 1 - norm.cdf(z_score)\n",
    "\n",
    "Two-tailed (\"not equal\"):\n",
    "p_value = norm.cdf(-z_score) +\n",
    "1 - norm.cdf(z_score)\n",
    "p_value = 2 * (1 - norm.cdf(z_score))\n",
    "\n",
    "0.0007094227368100725\n",
    "p_value <= alpha\n",
    "True"
   ]
  },
  {
   "cell_type": "code",
   "execution_count": 45,
   "metadata": {},
   "outputs": [
    {
     "data": {
      "text/plain": [
       "age_cat\n",
       "Under 30       0.535604\n",
       "At least 30    0.464396\n",
       "Name: proportion, dtype: float64"
      ]
     },
     "execution_count": 45,
     "metadata": {},
     "output_type": "execute_result"
    }
   ],
   "source": [
    "alpha = 0.01\n",
    "stack_overflow['age_cat'].value_counts(normalize=True)"
   ]
  },
  {
   "cell_type": "code",
   "execution_count": 54,
   "metadata": {},
   "outputs": [
    {
     "name": "stdout",
     "output_type": "stream",
     "text": [
      "0.5356037151702786\n",
      "2261\n"
     ]
    }
   ],
   "source": [
    "p_hat = (stack_overflow['age_cat'] == 'Under 30').mean()\n",
    "print(p_hat)\n",
    "\n",
    "p_0 = 0.50\n",
    "n = len(stack_overflow)\n",
    "print(n)"
   ]
  },
  {
   "cell_type": "code",
   "execution_count": 56,
   "metadata": {},
   "outputs": [
    {
     "name": "stdout",
     "output_type": "stream",
     "text": [
      "3.385911440783663\n"
     ]
    }
   ],
   "source": [
    "import numpy as np\n",
    "numerator = p_hat - p_0\n",
    "denominator = np.sqrt(p_0 * (1 - p_0) / n)\n",
    "z_score = numerator / denominator\n",
    "print(z_score)\n"
   ]
  },
  {
   "cell_type": "code",
   "execution_count": 65,
   "metadata": {},
   "outputs": [
    {
     "name": "stdout",
     "output_type": "stream",
     "text": [
      "0.999645288631595\n",
      "0.00035471136840503625\n",
      "0.0007094227368100725\n",
      "0.0007094227368100725\n",
      "True\n"
     ]
    }
   ],
   "source": [
    "##Left-tailed (\"less than\"):\n",
    "from scipy.stats import norm\n",
    "p_value1 = norm.cdf(z_score)\n",
    "print(p_value1)\n",
    "\n",
    "#Right-tailed (\"greater than\"):\n",
    "p_value2 = 1 - norm.cdf(z_score)\n",
    "print(p_value2)\n",
    "\n",
    "#Two-tailed (\"not equal\"):\n",
    "p_value3 = norm.cdf(-z_score) + 1 - norm.cdf(z_score)\n",
    "p_value4 = 2 * (1 - norm.cdf(z_score))\n",
    "print(p_value3)\n",
    "print(p_value4)\n",
    "\n",
    "\n",
    "alpha = 0.01\n",
    "val = p_value4 <= alpha\n",
    "print(val)\n"
   ]
  },
  {
   "cell_type": "markdown",
   "metadata": {},
   "source": [
    "Test for single proportions\n",
    "In Chapter 1, you calculated a p-value for a test hypothesizing that the proportion of late shipments was greater than 6%. In that chapter, you used a bootstrap distribution to estimate the standard error of the statistic. An alternative is to use an equation for the standard error based on the sample proportion, hypothesized proportion, and sample size.\n",
    "\n",
    " z = (p^ − p0) / √(p0*(1-p0)/n)\n",
    " \n",
    "\n",
    "You'll revisit the p-value using this simpler calculation.\n",
    "\n",
    "late_shipments is available. pandas and numpy are available under their usual aliases, and norm is loaded from scipy.stats."
   ]
  },
  {
   "cell_type": "code",
   "execution_count": 66,
   "metadata": {},
   "outputs": [
    {
     "name": "stdout",
     "output_type": "stream",
     "text": [
      "0.061 1000\n"
     ]
    }
   ],
   "source": [
    "# Hypothesize that the proportion of late shipments is 6%\n",
    "p_0 = 0.06\n",
    "\n",
    "# Calculate the sample proportion of late shipments\n",
    "p_hat = (late_shipments['late'] == \"Yes\").mean()\n",
    "\n",
    "# Calculate the sample size\n",
    "n = len(late_shipments)\n",
    "\n",
    "# Print p_hat and n\n",
    "print(p_hat, n)"
   ]
  },
  {
   "cell_type": "code",
   "execution_count": 67,
   "metadata": {},
   "outputs": [
    {
     "name": "stdout",
     "output_type": "stream",
     "text": [
      "0.13315591032282698\n",
      "0.13315591032282698\n"
     ]
    }
   ],
   "source": [
    "# Hypothesize that the proportion of late shipments is 6%\n",
    "p_0 = 0.06\n",
    "\n",
    "# Calculate the sample proportion of late shipments\n",
    "p_hat = (late_shipments['late'] == \"Yes\").mean()\n",
    "\n",
    "# Calculate the sample size\n",
    "n = len(late_shipments)\n",
    "\n",
    "# Calculate the numerator and denominator of the test statistic\n",
    "numerator = p_hat - p_0\n",
    "denominator = np.sqrt(p_0 * (1 - p_0) / n)\n",
    "\n",
    "# Calculate the test statistic\n",
    "z_score = numerator / denominator\n",
    "print(z_score)\n",
    "\n",
    "# Print the result\n",
    "print(z_score)"
   ]
  },
  {
   "cell_type": "code",
   "execution_count": 68,
   "metadata": {},
   "outputs": [
    {
     "name": "stdout",
     "output_type": "stream",
     "text": [
      "0.44703503936503364\n"
     ]
    }
   ],
   "source": [
    "# Hypothesize that the proportion of late shipments is 6%\n",
    "p_0 = 0.06\n",
    "\n",
    "# Calculate the sample proportion of late shipments\n",
    "p_hat = (late_shipments['late'] == \"Yes\").mean()\n",
    "\n",
    "# Calculate the sample size\n",
    "n = len(late_shipments)\n",
    "\n",
    "# Calculate the numerator and denominator of the test statistic\n",
    "numerator = p_hat - p_0\n",
    "denominator = np.sqrt(p_0 * (1 - p_0) / n)\n",
    "\n",
    "# Calculate the test statistic\n",
    "z_score = numerator / denominator\n",
    "\n",
    "# Calculate the p-value from the z-score\n",
    "p_value = 1 - norm.cdf(z_score)\n",
    "\n",
    "\n",
    "# Print the p-value\n",
    "print(p_value)"
   ]
  },
  {
   "attachments": {},
   "cell_type": "markdown",
   "metadata": {},
   "source": [
    "#### **Two-sample proportion tests**\n",
    "\n",
    "1. Comparing two proportions\n",
    "\n",
    "H0 : Proportion of hobbyist users is the same for those under thirty as those at least thirty\n",
    "H0 : p>=30 − p<30 = 0\n",
    "\n",
    "Ha : Proportion of hobbyist users is different for those under thirty to those at least thirty\n",
    "Ha : p>=30 − p<30 ≠ 0\n",
    "\n",
    "alpha = 0.05\n",
    "\n",
    "2. Calculating the z-score\n",
    "\n",
    "z-score equation for a proportion test:\n",
    "z = (p^≥30 − p^<30) - 0 / SE(p^≥30 − p^<30)\n",
    "\n",
    "Standard error equation:\n",
    "SE(p^≥30 − p^<30) = √(p^ × (1 − p^)/ n≥30)+(p^ × (1 − p^)/ n<30)\n",
    "\n",
    "→ weighted mean of and\n",
    "p^ = (n≥30 × p^≥30 + n<30 × p^<30) / (n≥30 + n<30)\n",
    "\n",
    "Only require p^≥30, p^<30), n≥30 , n<30 from the sample to calculate the z-score\n",
    "\n",
    "3. Getting the numbers for the z-score\n",
    "\n",
    "p_hats = stack_overflow.groupby(\"age_cat\")['hobbyist'].value_counts(normalize=True)\n",
    "alpha = 0.05\n",
    "p_hats = stack_overflow.groupby(\"age_cat\")['hobbyist'].value_counts(normalize=True)\n",
    "n = stack_overflow.groupby(\"age_cat\")['hobbyist'].count()\n",
    "\n",
    "p_hats = stack_overflow.groupby(\"age_cat\")['hobbyist'].value_counts(normalize=True)\n",
    "p_hat_at_least_30 = p_hats[(\"At least 30\", \"Yes\")]\n",
    "p_hat_under_30 = p_hats[(\"Under 30\", \"Yes\")]\n",
    "print(p_hat_at_least_30, p_hat_under_30)\n",
    "\n",
    "n = stack_overflow.groupby(\"age_cat\")['hobbyist'].count()\n",
    "n_at_least_30 = n[\"At least 30\"]\n",
    "n_under_30 = n[\"Under 30\"]\n",
    "print(n_at_least_30, n_under_30)\n",
    "\n",
    "p_hat = (n_at_least_30 * p_hat_at_least_30 + n_under_30 * p_hat_under_30) /\n",
    "(n_at_least_30 + n_under_30)\n",
    "std_error = np.sqrt(p_hat * (1-p_hat) / n_at_least_30 +\n",
    "p_hat * (1-p_hat) / n_under_30)\n",
    "z_score = (p_hat_at_least_30 - p_hat_under_30) / std_error\n",
    "print(z_score)\n",
    "\n",
    "4. Proportion tests using proportions_ztest()\n",
    "\n",
    "stack_overflow.groupby(\"age_cat\")['hobbyist'].value_counts()\n",
    "\n",
    "n_hobbyists = np.array([812, 1021])\n",
    "n_rows = np.array([812 + 238, 1021 + 190])\n",
    "from statsmodels.stats.proportion import proportions_ztest\n",
    "z_score, p_value = proportions_ztest(count=n_hobbyists, nobs=n_rows,\n",
    "                                    alternative=\"two-sided\")"
   ]
  },
  {
   "cell_type": "code",
   "execution_count": 70,
   "metadata": {},
   "outputs": [
    {
     "name": "stdout",
     "output_type": "stream",
     "text": [
      "age_cat      hobbyist\n",
      "At least 30  Yes         0.773333\n",
      "             No          0.226667\n",
      "Under 30     Yes         0.843105\n",
      "             No          0.156895\n",
      "Name: proportion, dtype: float64\n",
      "age_cat\n",
      "At least 30    1050\n",
      "Under 30       1211\n",
      "Name: hobbyist, dtype: int64\n"
     ]
    }
   ],
   "source": [
    "alpha = 0.05\n",
    "p_hats = stack_overflow.groupby(\"age_cat\")['hobbyist'].value_counts(normalize=True)\n",
    "n = stack_overflow.groupby(\"age_cat\")['hobbyist'].count()\n",
    "\n",
    "print(p_hats)\n",
    "print(n)"
   ]
  },
  {
   "cell_type": "code",
   "execution_count": 72,
   "metadata": {},
   "outputs": [
    {
     "name": "stdout",
     "output_type": "stream",
     "text": [
      "0.7733333333333333 0.8431048720066061\n",
      "1050 1211\n"
     ]
    }
   ],
   "source": [
    "p_hat_at_least_30 = p_hats[(\"At least 30\", \"Yes\")]\n",
    "p_hat_under_30 = p_hats[(\"Under 30\", \"Yes\")]\n",
    "print(p_hat_at_least_30, p_hat_under_30)\n",
    "\n",
    "n_at_least_30 = n[\"At least 30\"]\n",
    "n_under_30 = n[\"Under 30\"]\n",
    "print(n_at_least_30, n_under_30)"
   ]
  },
  {
   "cell_type": "code",
   "execution_count": 110,
   "metadata": {},
   "outputs": [
    {
     "name": "stdout",
     "output_type": "stream",
     "text": [
      "-4.223691463320559\n"
     ]
    }
   ],
   "source": [
    "p_hat = (n_at_least_30 * p_hat_at_least_30 + n_under_30 * p_hat_under_30) / (n_at_least_30 + n_under_30)\n",
    "std_error = np.sqrt(p_hat * (1-p_hat) / n_at_least_30 + p_hat * (1-p_hat) / n_under_30)\n",
    "z_score = (p_hat_at_least_30 - p_hat_under_30) / std_error\n",
    "print(z_score)"
   ]
  },
  {
   "cell_type": "code",
   "execution_count": 75,
   "metadata": {},
   "outputs": [
    {
     "data": {
      "text/plain": [
       "age_cat      hobbyist\n",
       "At least 30  Yes          812\n",
       "             No           238\n",
       "Under 30     Yes         1021\n",
       "             No           190\n",
       "Name: count, dtype: int64"
      ]
     },
     "execution_count": 75,
     "metadata": {},
     "output_type": "execute_result"
    }
   ],
   "source": [
    "stack_overflow.groupby(\"age_cat\")['hobbyist'].value_counts()"
   ]
  },
  {
   "cell_type": "code",
   "execution_count": 123,
   "metadata": {},
   "outputs": [
    {
     "name": "stdout",
     "output_type": "stream",
     "text": [
      "-4.223691463320559 2.403330142685068e-05\n"
     ]
    }
   ],
   "source": [
    "n_hobbyists = np.array([812, 1021])\n",
    "n_rows = np.array([812 + 238, 1021 + 190])\n",
    "from statsmodels.stats.proportion import proportions_ztest\n",
    "z_score, p_value = proportions_ztest(count=n_hobbyists, nobs=n_rows,\n",
    "                                    alternative=\"two-sided\")\n",
    "\n",
    "print(z_score, p_value )"
   ]
  },
  {
   "cell_type": "markdown",
   "metadata": {},
   "source": [
    "Test of two proportions\n",
    "You may wonder if the amount paid for freight affects whether or not the shipment was late. Recall that in the late_shipments dataset, whether or not the shipment was late is stored in the late column. Freight costs are stored in the freight_cost_group column, and the categories are \"expensive\" and \"reasonable\".\n",
    "\n",
    "The hypotheses to test, with \"late\" corresponding to the proportion of late shipments for that group, are\n",
    "\n",
    "H0: late_expensive - late_reasonable = 0\n",
    "\n",
    "Ha: late_expensive - late_reasonable > 0\n",
    "\n",
    "p_hats contains the estimates of population proportions (sample proportions) for each freight_cost_group:\n",
    "\n",
    "freight_cost_group  late\n",
    "expensive           Yes     0.082569\n",
    "reasonable          Yes     0.035165\n",
    "Name: late, dtype: float64\n",
    "ns contains the sample sizes for these groups:\n",
    "\n",
    "freight_cost_group\n",
    "expensive     545\n",
    "reasonable    455\n",
    "Name: late, dtype: int64\n",
    "pandas and numpy have been imported under their usual aliases, and norm is available from scipy.stats."
   ]
  },
  {
   "cell_type": "code",
   "execution_count": 81,
   "metadata": {},
   "outputs": [
    {
     "data": {
      "text/html": [
       "<div>\n",
       "<style scoped>\n",
       "    .dataframe tbody tr th:only-of-type {\n",
       "        vertical-align: middle;\n",
       "    }\n",
       "\n",
       "    .dataframe tbody tr th {\n",
       "        vertical-align: top;\n",
       "    }\n",
       "\n",
       "    .dataframe thead th {\n",
       "        text-align: right;\n",
       "    }\n",
       "</style>\n",
       "<table border=\"1\" class=\"dataframe\">\n",
       "  <thead>\n",
       "    <tr style=\"text-align: right;\">\n",
       "      <th></th>\n",
       "      <th>id</th>\n",
       "      <th>country</th>\n",
       "      <th>managed_by</th>\n",
       "      <th>fulfill_via</th>\n",
       "      <th>vendor_inco_term</th>\n",
       "      <th>shipment_mode</th>\n",
       "      <th>late_delivery</th>\n",
       "      <th>late</th>\n",
       "      <th>product_group</th>\n",
       "      <th>sub_classification</th>\n",
       "      <th>...</th>\n",
       "      <th>line_item_value</th>\n",
       "      <th>pack_price</th>\n",
       "      <th>unit_price</th>\n",
       "      <th>manufacturing_site</th>\n",
       "      <th>first_line_designation</th>\n",
       "      <th>weight_kilograms</th>\n",
       "      <th>freight_cost_usd</th>\n",
       "      <th>freight_cost_groups</th>\n",
       "      <th>line_item_insurance_usd</th>\n",
       "      <th>is_late</th>\n",
       "    </tr>\n",
       "  </thead>\n",
       "  <tbody>\n",
       "    <tr>\n",
       "      <th>0</th>\n",
       "      <td>36203.0</td>\n",
       "      <td>Nigeria</td>\n",
       "      <td>PMO - US</td>\n",
       "      <td>Direct Drop</td>\n",
       "      <td>EXW</td>\n",
       "      <td>Air</td>\n",
       "      <td>1.0</td>\n",
       "      <td>Yes</td>\n",
       "      <td>HRDT</td>\n",
       "      <td>HIV test</td>\n",
       "      <td>...</td>\n",
       "      <td>266644.0</td>\n",
       "      <td>89.0</td>\n",
       "      <td>0.89</td>\n",
       "      <td>Alere Medical Co., Ltd.</td>\n",
       "      <td>Yes</td>\n",
       "      <td>1426.0</td>\n",
       "      <td>33279.83</td>\n",
       "      <td>expensive</td>\n",
       "      <td>373.83</td>\n",
       "      <td>1</td>\n",
       "    </tr>\n",
       "    <tr>\n",
       "      <th>1</th>\n",
       "      <td>30998.0</td>\n",
       "      <td>Botswana</td>\n",
       "      <td>PMO - US</td>\n",
       "      <td>Direct Drop</td>\n",
       "      <td>EXW</td>\n",
       "      <td>Air</td>\n",
       "      <td>0.0</td>\n",
       "      <td>No</td>\n",
       "      <td>HRDT</td>\n",
       "      <td>HIV test</td>\n",
       "      <td>...</td>\n",
       "      <td>800.0</td>\n",
       "      <td>32.0</td>\n",
       "      <td>1.60</td>\n",
       "      <td>Trinity Biotech, Plc</td>\n",
       "      <td>Yes</td>\n",
       "      <td>10.0</td>\n",
       "      <td>559.89</td>\n",
       "      <td>reasonable</td>\n",
       "      <td>1.72</td>\n",
       "      <td>0</td>\n",
       "    </tr>\n",
       "  </tbody>\n",
       "</table>\n",
       "<p>2 rows × 28 columns</p>\n",
       "</div>"
      ],
      "text/plain": [
       "        id   country managed_by  fulfill_via vendor_inco_term shipment_mode  \\\n",
       "0  36203.0   Nigeria   PMO - US  Direct Drop              EXW           Air   \n",
       "1  30998.0  Botswana   PMO - US  Direct Drop              EXW           Air   \n",
       "\n",
       "   late_delivery late product_group sub_classification  ... line_item_value  \\\n",
       "0            1.0  Yes          HRDT           HIV test  ...        266644.0   \n",
       "1            0.0   No          HRDT           HIV test  ...           800.0   \n",
       "\n",
       "  pack_price unit_price       manufacturing_site first_line_designation  \\\n",
       "0       89.0       0.89  Alere Medical Co., Ltd.                    Yes   \n",
       "1       32.0       1.60     Trinity Biotech, Plc                    Yes   \n",
       "\n",
       "  weight_kilograms  freight_cost_usd  freight_cost_groups  \\\n",
       "0           1426.0          33279.83            expensive   \n",
       "1             10.0            559.89           reasonable   \n",
       "\n",
       "   line_item_insurance_usd  is_late  \n",
       "0                   373.83        1  \n",
       "1                     1.72        0  \n",
       "\n",
       "[2 rows x 28 columns]"
      ]
     },
     "metadata": {},
     "output_type": "display_data"
    }
   ],
   "source": [
    "display(late_shipments.head(2))"
   ]
  },
  {
   "cell_type": "code",
   "execution_count": 111,
   "metadata": {},
   "outputs": [
    {
     "name": "stdout",
     "output_type": "stream",
     "text": [
      "freight_cost_groups  late\n",
      "expensive            No      0.920904\n",
      "                     Yes     0.079096\n",
      "reasonable           No      0.964835\n",
      "                     Yes     0.035165\n",
      "Name: proportion, dtype: float64\n",
      "freight_cost_groups\n",
      "expensive     531\n",
      "reasonable    455\n",
      "Name: late, dtype: int64\n"
     ]
    }
   ],
   "source": [
    "# Calculate the pooled estimate of the population proportion\n",
    "p_hatss = late_shipments.groupby(\"freight_cost_groups\")['late'].value_counts(normalize=True)\n",
    "\n",
    "# Print the result\n",
    "print(p_hatss)\n",
    "\n",
    "ns = late_shipments.groupby(\"freight_cost_groups\")['late'].count()\n",
    "print(ns)"
   ]
  },
  {
   "cell_type": "code",
   "execution_count": 106,
   "metadata": {},
   "outputs": [
    {
     "name": "stdout",
     "output_type": "stream",
     "text": [
      "0.07909604519774012 0.035164835164835165\n",
      "531 455\n"
     ]
    }
   ],
   "source": [
    "p_hat_expensive = p_hatss[(\"expensive\", \"Yes\")]\n",
    "p_hat_reasonable = p_hatss[(\"reasonable\", \"Yes\")]\n",
    "print(p_hat_expensive, p_hat_reasonable)\n",
    "\n",
    "n_expensive = ns[\"expensive\"]\n",
    "n_reasonable = ns[\"reasonable\"]\n",
    "print(n_expensive, n_reasonable)"
   ]
  },
  {
   "cell_type": "code",
   "execution_count": 108,
   "metadata": {},
   "outputs": [
    {
     "name": "stdout",
     "output_type": "stream",
     "text": [
      "0.058823529411764705\n",
      "0.058823529411764705\n"
     ]
    }
   ],
   "source": [
    "p_hat = (n_expensive * p_hat_expensive + n_reasonable * p_hat_reasonable) / (n_expensive + n_reasonable)\n",
    "print(p_hat)\n",
    "\n",
    "p_hat_2 = (ns[\"expensive\"] * p_hatss[(\"expensive\", \"Yes\")] + ns[\"reasonable\"] * p_hatss[(\"reasonable\", \"Yes\")]) / (ns[\"expensive\"] + ns[\"reasonable\"])\n",
    "print(p_hat_2)"
   ]
  },
  {
   "cell_type": "code",
   "execution_count": 113,
   "metadata": {},
   "outputs": [
    {
     "name": "stdout",
     "output_type": "stream",
     "text": [
      "0.015031300895066685\n"
     ]
    }
   ],
   "source": [
    "# Calculate the pooled estimate of the population proportion\n",
    "p_hat = (n_expensive * p_hat_expensive + n_reasonable * p_hat_reasonable) / (n_expensive + n_reasonable)\n",
    "\n",
    "# Calculate p_hat one minus p_hat\n",
    "p_hat_times_not_p_hat = p_hat * (1-p_hat)\n",
    "\n",
    "# Divide this by each of the sample sizes and then sum\n",
    "p_hat_times_not_p_hat_over_ns = p_hat_times_not_p_hat/ns[\"expensive\"] +  p_hat_times_not_p_hat/ns[\"reasonable\"]\n",
    "\n",
    "# Calculate the standard error\n",
    "std_error = np.sqrt(p_hat_times_not_p_hat_over_ns)\n",
    "\n",
    "# Print the result\n",
    "print(std_error)"
   ]
  },
  {
   "cell_type": "code",
   "execution_count": 117,
   "metadata": {},
   "outputs": [
    {
     "name": "stdout",
     "output_type": "stream",
     "text": [
      "2.922648567784529\n"
     ]
    }
   ],
   "source": [
    "# Calculate the pooled estimate of the population proportion\n",
    "p_hat = (n_expensive * p_hat_expensive + n_reasonable * p_hat_reasonable) / (n_expensive + n_reasonable)\n",
    "\n",
    "# Calculate p_hat one minus p_hat\n",
    "p_hat_times_not_p_hat = p_hat * (1 - p_hat)\n",
    "\n",
    "# Divide this by each of the sample sizes and then sum\n",
    "p_hat_times_not_p_hat_over_ns = p_hat_times_not_p_hat / ns[\"expensive\"] + p_hat_times_not_p_hat / ns[\"reasonable\"]\n",
    "\n",
    "# Calculate the standard error\n",
    "std_error = np.sqrt(p_hat_times_not_p_hat_over_ns)\n",
    "\n",
    "# Calculate the z-score\n",
    "z_score = (p_hat_expensive - p_hat_reasonable) / std_error\n",
    "\n",
    "# Print z_score\n",
    "print(z_score)"
   ]
  },
  {
   "cell_type": "code",
   "execution_count": 119,
   "metadata": {},
   "outputs": [
    {
     "name": "stdout",
     "output_type": "stream",
     "text": [
      "0.0017353400023595311\n"
     ]
    }
   ],
   "source": [
    "# Calculate p_hat one minus p_hat\n",
    "p_hat_times_not_p_hat = p_hat * (1 - p_hat)\n",
    "\n",
    "# Divide this by each of the sample sizes and then sum\n",
    "p_hat_times_not_p_hat_over_ns = p_hat_times_not_p_hat / ns[\"expensive\"] + p_hat_times_not_p_hat / ns[\"reasonable\"]\n",
    "\n",
    "# Calculate the standard error\n",
    "std_error = np.sqrt(p_hat_times_not_p_hat_over_ns)\n",
    "\n",
    "# Calculate the z-score\n",
    "z_score = (p_hat_expensive - p_hat_reasonable) / std_error\n",
    "\n",
    "# Calculate the p-value from the z-score\n",
    "p_value = 1 - norm.cdf(z_score)\n",
    "\n",
    "# Print p_value\n",
    "print(p_value)"
   ]
  },
  {
   "cell_type": "markdown",
   "metadata": {},
   "source": [
    "proportions_ztest() for two samples\n",
    "That took a lot of effort to calculate the p-value, so while it is useful to see how the calculations work, it isn't practical to do in real-world analyses. For daily usage, it's better to use the statsmodels package.\n",
    "\n",
    "Recall the hypotheses.\n",
    "\n",
    "H0: late_expensive - late_reasonable = 0\n",
    "\n",
    "Ha: late_expensive - late_reasonable > 0\n",
    "\n",
    "\n",
    "late_shipments is available, containing the freight_cost_group column. numpy and pandas have been loaded under their standard aliases, and proportions_ztest has been loaded from statsmodels.stats.proportion."
   ]
  },
  {
   "cell_type": "code",
   "execution_count": 120,
   "metadata": {},
   "outputs": [],
   "source": [
    "from statsmodels.stats.proportion import proportions_ztest"
   ]
  },
  {
   "cell_type": "code",
   "execution_count": 122,
   "metadata": {},
   "outputs": [
    {
     "name": "stdout",
     "output_type": "stream",
     "text": [
      "freight_cost_groups  late\n",
      "expensive            No      489\n",
      "                     Yes      42\n",
      "reasonable           No      439\n",
      "                     Yes      16\n",
      "Name: count, dtype: int64\n"
     ]
    }
   ],
   "source": [
    "# Count the late column values for each freight_cost_group\n",
    "late_by_freight_cost_group = late_shipments.groupby(\"freight_cost_groups\")['late'].value_counts()\n",
    "\n",
    "# Print the counts\n",
    "print(late_by_freight_cost_group)"
   ]
  },
  {
   "cell_type": "code",
   "execution_count": 127,
   "metadata": {},
   "outputs": [
    {
     "name": "stdout",
     "output_type": "stream",
     "text": [
      "3.1190401865206128 0.0009072060637051224\n"
     ]
    }
   ],
   "source": [
    "# Count the late column values for each freight_cost_group\n",
    "late_by_freight_cost_group = late_shipments.groupby(\"freight_cost_groups\")['late'].value_counts()\n",
    "\n",
    "# Create an array of the \"Yes\" counts for each freight_cost_group\n",
    "success_counts = np.array([45, 16])\n",
    "\n",
    "# Create an array of the total number of rows in each freight_cost_group\n",
    "n = np.array([500 + 45, 439 + 16])\n",
    "\n",
    "# Run a z-test on the two proportions\n",
    "stat, p_value =  proportions_ztest(count=success_counts, nobs=n,\n",
    "                                    alternative=\"larger\")\n",
    "\n",
    "\n",
    "# Print the results\n",
    "print(stat, p_value)"
   ]
  },
  {
   "cell_type": "markdown",
   "metadata": {},
   "source": [
    "#### **Chi-square test of independence**\n",
    "\n",
    "1. Revisiting the proportion test\n",
    "\n",
    "age_by_hobbyist = stack_overflow.groupby(\"age_cat\")['hobbyist'].value_counts()\n",
    "print(age_by_hobbyist)\n",
    "\n",
    "from statsmodels.stats.proportion import proportions_ztest\n",
    "n_hobbyists = np.array([812, 1021])\n",
    "n_rows = np.array([812 + 238, 1021 + 190])\n",
    "stat, p_value = proportions_ztest(count=n_hobbyists, nobs=n_rows,\n",
    "                                    alternative=\"two-sided\")\n",
    "print(stat, p_value)\n",
    "\n",
    "2. Independence of variables\n",
    "Previous hypothesis test result: evidence that hobbyist and age_cat are associated\n",
    "    Statistical independence - proportion of successes in the response variable is the same\n",
    "    across all categories of the explanatory variable\n",
    "\n",
    "3. Test for independence of variables\n",
    "import pingouin\n",
    "expected, observed, stats = pingouin.chi2_independence(data=stack_overflow, x='hobbyist',\n",
    "                                                        y='age_cat', correction=False)\n",
    "print(stats)\n",
    "\n",
    "statistic = 17.839570 = (−4.223691463320559) 2 2 = (z-score)2\n",
    "\n",
    "4. Job satisfaction and age category\n",
    "\n",
    "stack_overflow['age_cat'].value_counts()\n",
    "stack_overflow['job_sat'].value_counts()\n",
    "\n",
    "5. Declaring the hypotheses\n",
    "\n",
    "H0 : Age categories are independent of job satisfaction levels\n",
    "Ha : Age categories are not independent of job satisfaction levels\n",
    "alpha = 0.1\n",
    "Test statistic denoted χ2\n",
    "Assuming independence, how far away are the observed results from the expected values?\n",
    "\n",
    "6. Exploratory visualization: proportional stacked bar plot\n",
    "\n",
    "props = stack_overflow.groupby('job_sat')['age_cat'].value_counts(normalize=True)\n",
    "wide_props = props.unstack()\n",
    "wide_props.plot(kind=\"bar\", stacked=True)\n",
    "\n",
    "7. Chi-square independence test\n",
    "\n",
    "import pingouin\n",
    "expected, observed, stats = pingouin.chi2_independence(data=stack_overflow, x=\"job_sat\", y=\"age_cat\")\n",
    "print(stats)\n",
    "\n",
    "Degrees of freedom:\n",
    "(No. of response categories − 1) × (No. of explanatory categories − 1)\n",
    "(2 − 1) ∗ (5 − 1) = 4\n",
    "\n",
    "8. Swapping the variables? chi-square both ways\n",
    "\n",
    "props = stack_overflow.groupby('age_cat')['job_sat'].value_counts(normalize=True)\n",
    "wide_props = props.unstack()\n",
    "wide_props.plot(kind=\"bar\", stacked=True)\n",
    "\n",
    "expected, observed, stats = pingouin.chi2_independence(data=stack_overflow, x=\"age_cat\", y=\"job_sat\")\n",
    "print(stats[stats['test'] == 'pearson'])\n",
    "\n",
    "Ask: Are the variables X and Y independent?\n",
    "Not: Is variable X independent from variable Y?\n",
    "\n",
    "9. What about direction and tails?\n",
    "Observed and expected counts squared must be non-negative\n",
    "chi-square tests are almost always right-tailed\n",
    "Left-tailed chi-square tests are used in statistical forensics to detect if a fit is suspiciously good because the data was fabricated. Chi-square tests of variance can be two-tailed. These are niche uses, though."
   ]
  },
  {
   "cell_type": "code",
   "execution_count": 128,
   "metadata": {},
   "outputs": [
    {
     "name": "stdout",
     "output_type": "stream",
     "text": [
      "age_cat      hobbyist\n",
      "At least 30  Yes          812\n",
      "             No           238\n",
      "Under 30     Yes         1021\n",
      "             No           190\n",
      "Name: count, dtype: int64\n",
      "-4.223691463320559 2.403330142685068e-05\n"
     ]
    }
   ],
   "source": [
    "age_by_hobbyist = stack_overflow.groupby(\"age_cat\")['hobbyist'].value_counts()\n",
    "print(age_by_hobbyist)\n",
    "\n",
    "from statsmodels.stats.proportion import proportions_ztest\n",
    "n_hobbyists = np.array([812, 1021])\n",
    "n_rows = np.array([812 + 238, 1021 + 190])\n",
    "stat, p_value = proportions_ztest(count=n_hobbyists, nobs=n_rows,\n",
    "                                    alternative=\"two-sided\")\n",
    "print(stat, p_value)"
   ]
  },
  {
   "cell_type": "code",
   "execution_count": 129,
   "metadata": {},
   "outputs": [
    {
     "name": "stdout",
     "output_type": "stream",
     "text": [
      "                 test    lambda       chi2  dof      pval    cramer     power\n",
      "0             pearson  1.000000  17.839570  1.0  0.000024  0.088826  0.988205\n",
      "1        cressie-read  0.666667  17.818114  1.0  0.000024  0.088773  0.988126\n",
      "2      log-likelihood  0.000000  17.802653  1.0  0.000025  0.088734  0.988069\n",
      "3       freeman-tukey -0.500000  17.815060  1.0  0.000024  0.088765  0.988115\n",
      "4  mod-log-likelihood -1.000000  17.848099  1.0  0.000024  0.088848  0.988236\n",
      "5              neyman -2.000000  17.976656  1.0  0.000022  0.089167  0.988694\n"
     ]
    }
   ],
   "source": [
    "import pingouin\n",
    "expected, observed, stats = pingouin.chi2_independence(data=stack_overflow, x='hobbyist',\n",
    "                                                        y='age_cat', correction=False)\n",
    "print(stats)"
   ]
  },
  {
   "cell_type": "code",
   "execution_count": 133,
   "metadata": {},
   "outputs": [
    {
     "name": "stdout",
     "output_type": "stream",
     "text": [
      "age_cat\n",
      "Under 30       1211\n",
      "At least 30    1050\n",
      "Name: count, dtype: int64\n",
      "job_sat\n",
      "Very satisfied           879\n",
      "Slightly satisfied       680\n",
      "Slightly dissatisfied    342\n",
      "Neither                  201\n",
      "Very dissatisfied        159\n",
      "Name: count, dtype: int64\n"
     ]
    },
    {
     "name": "stderr",
     "output_type": "stream",
     "text": [
      "C:\\Users\\mcaba\\AppData\\Local\\Temp\\ipykernel_39816\\516579468.py:9: FutureWarning: The default of observed=False is deprecated and will be changed to True in a future version of pandas. Pass observed=False to retain current behavior or observed=True to adopt the future default and silence this warning.\n",
      "  props = stack_overflow.groupby('job_sat')['age_cat'].value_counts(normalize=True)\n"
     ]
    },
    {
     "data": {
      "text/plain": [
       "<AxesSubplot: xlabel='job_sat'>"
      ]
     },
     "execution_count": 133,
     "metadata": {},
     "output_type": "execute_result"
    },
    {
     "data": {
      "image/png": "[encoded data removed]",
      "text/plain": [
       "<Figure size 640x480 with 1 Axes>"
      ]
     },
     "metadata": {},
     "output_type": "display_data"
    }
   ],
   "source": [
    "a = stack_overflow['age_cat'].value_counts()\n",
    "print(a)\n",
    "\n",
    "b = stack_overflow['job_sat'].value_counts()\n",
    "print(b)\n",
    "\n",
    "alpha = 0.1\n",
    "\n",
    "props = stack_overflow.groupby('job_sat')['age_cat'].value_counts(normalize=True)\n",
    "wide_props = props.unstack()\n",
    "wide_props.plot(kind=\"bar\", stacked=True)"
   ]
  },
  {
   "cell_type": "code",
   "execution_count": 134,
   "metadata": {},
   "outputs": [
    {
     "name": "stdout",
     "output_type": "stream",
     "text": [
      "                 test    lambda      chi2  dof      pval    cramer     power\n",
      "0             pearson  1.000000  5.552373  4.0  0.235164  0.049555  0.437417\n",
      "1        cressie-read  0.666667  5.554106  4.0  0.235014  0.049563  0.437545\n",
      "2      log-likelihood  0.000000  5.558529  4.0  0.234632  0.049583  0.437871\n",
      "3       freeman-tukey -0.500000  5.562688  4.0  0.234274  0.049601  0.438178\n",
      "4  mod-log-likelihood -1.000000  5.567570  4.0  0.233854  0.049623  0.438538\n",
      "5              neyman -2.000000  5.579519  4.0  0.232828  0.049676  0.439419\n"
     ]
    }
   ],
   "source": [
    "import pingouin\n",
    "expected, observed, stats = pingouin.chi2_independence(data=stack_overflow, x=\"job_sat\", y=\"age_cat\")\n",
    "print(stats)"
   ]
  },
  {
   "cell_type": "code",
   "execution_count": 136,
   "metadata": {},
   "outputs": [
    {
     "name": "stdout",
     "output_type": "stream",
     "text": [
      "      test  lambda      chi2  dof      pval    cramer     power\n",
      "0  pearson     1.0  5.552373  4.0  0.235164  0.049555  0.437417\n"
     ]
    },
    {
     "data": {
      "image/png": "[encoded data removed]",
      "text/plain": [
       "<Figure size 640x480 with 1 Axes>"
      ]
     },
     "metadata": {},
     "output_type": "display_data"
    }
   ],
   "source": [
    "props = stack_overflow.groupby('age_cat')['job_sat'].value_counts(normalize=True)\n",
    "wide_props = props.unstack()\n",
    "wide_props.plot(kind=\"bar\", stacked=True)\n",
    "\n",
    "expected, observed, stats = pingouin.chi2_independence(data=stack_overflow, x=\"age_cat\", y=\"job_sat\")\n",
    "print(stats[stats['test'] == 'pearson'])"
   ]
  },
  {
   "cell_type": "markdown",
   "metadata": {},
   "source": [
    "Performing a chi-square test\n",
    "The chi-square independence test compares proportions of successes of one categorical variable across the categories of another categorical variable.\n",
    "\n",
    "Trade deals often use a form of business shorthand in order to specify the exact details of their contract. These are International Chamber of Commerce (ICC) international commercial terms, or incoterms for short.\n",
    "\n",
    "The late_shipments dataset includes a vendor_inco_term that describes the incoterms that applied to a given shipment. The choices are:\n",
    "\n",
    "EXW: \"Ex works\". The buyer pays for transportation of the goods.\n",
    "CIP: \"Carriage and insurance paid to\". The seller pays for freight and insurance until the goods board a ship.\n",
    "DDP: \"Delivered duty paid\". The seller pays for transportation of the goods until they reach a destination port.\n",
    "FCA: \"Free carrier\". The seller pays for transportation of the goods.\n",
    "Perhaps the incoterms affect whether or not the freight costs are expensive. Test these hypotheses with a significance level of 0.01.\n",
    "\n",
    "H0 : vendor_inco_term and freight_cost_group are independent.\n",
    "\n",
    "Ha : vendor_inco_term and freight_cost_group are associated."
   ]
  },
  {
   "cell_type": "code",
   "execution_count": 138,
   "metadata": {},
   "outputs": [
    {
     "name": "stdout",
     "output_type": "stream",
     "text": [
      "vendor_inco_term  freight_cost_groups\n",
      "CIP               reasonable             0.680000\n",
      "                  expensive              0.320000\n",
      "DDP               expensive              0.550000\n",
      "                  reasonable             0.450000\n",
      "DDU               reasonable             1.000000\n",
      "EXW               expensive              0.583448\n",
      "                  reasonable             0.416552\n",
      "FCA               reasonable             0.663636\n",
      "                  expensive              0.336364\n",
      "Name: proportion, dtype: float64\n"
     ]
    }
   ],
   "source": [
    "# Proportion of freight_cost_group grouped by vendor_inco_term\n",
    "props = late_shipments.groupby('vendor_inco_term')['freight_cost_groups'].value_counts(normalize=True)\n",
    "\n",
    "# Print props\n",
    "print(props)"
   ]
  },
  {
   "cell_type": "code",
   "execution_count": 140,
   "metadata": {},
   "outputs": [
    {
     "name": "stdout",
     "output_type": "stream",
     "text": [
      "freight_cost_groups  expensive  reasonable\n",
      "vendor_inco_term                          \n",
      "CIP                   0.320000    0.680000\n",
      "DDP                   0.550000    0.450000\n",
      "DDU                        NaN    1.000000\n",
      "EXW                   0.583448    0.416552\n",
      "FCA                   0.336364    0.663636\n"
     ]
    }
   ],
   "source": [
    "# Proportion of freight_cost_group grouped by vendor_inco_term\n",
    "props = late_shipments.groupby('vendor_inco_term')['freight_cost_groups'].value_counts(normalize=True)\n",
    "\n",
    "# Convert props to wide format\n",
    "wide_props = props.unstack()\n",
    "\n",
    "# Print wide_props\n",
    "print(wide_props)"
   ]
  },
  {
   "cell_type": "code",
   "execution_count": 142,
   "metadata": {},
   "outputs": [
    {
     "data": {
      "image/png": "[encoded data removed]",
      "text/plain": [
       "<Figure size 640x480 with 1 Axes>"
      ]
     },
     "metadata": {},
     "output_type": "display_data"
    }
   ],
   "source": [
    "# Proportion of freight_cost_group grouped by vendor_inco_term\n",
    "props = late_shipments.groupby('vendor_inco_term')['freight_cost_groups'].value_counts(normalize=True)\n",
    "\n",
    "# Convert props to wide format\n",
    "wide_props = props.unstack()\n",
    "\n",
    "# Proportional stacked bar plot of freight_cost_group vs. vendor_inco_term\n",
    "wide_props.plot(kind=\"bar\", stacked=True)\n",
    "plt.show()"
   ]
  },
  {
   "cell_type": "code",
   "execution_count": 145,
   "metadata": {},
   "outputs": [
    {
     "data": {
      "image/png": "[encoded data removed]",
      "text/plain": [
       "<Figure size 640x480 with 1 Axes>"
      ]
     },
     "metadata": {},
     "output_type": "display_data"
    },
    {
     "name": "stdout",
     "output_type": "stream",
     "text": [
      "      test  lambda       chi2  dof          pval    cramer     power\n",
      "0  pearson     1.0  34.805072  4.0  5.093922e-07  0.186561  0.999235\n"
     ]
    },
    {
     "name": "stderr",
     "output_type": "stream",
     "text": [
      "C:\\Users\\mcaba\\AppData\\Roaming\\Python\\Python310\\site-packages\\pingouin\\contingency.py:151: UserWarning: Low count on observed frequencies.\n",
      "  warnings.warn(f\"Low count on {name} frequencies.\")\n",
      "C:\\Users\\mcaba\\AppData\\Roaming\\Python\\Python310\\site-packages\\pingouin\\contingency.py:151: UserWarning: Low count on expected frequencies.\n",
      "  warnings.warn(f\"Low count on {name} frequencies.\")\n",
      "C:\\Users\\mcaba\\AppData\\Roaming\\Python\\Python310\\site-packages\\scipy\\stats\\_stats_py.py:7175: RuntimeWarning: divide by zero encountered in power\n",
      "  terms = f_obs * ((f_obs / f_exp)**lambda_ - 1)\n",
      "C:\\Users\\mcaba\\AppData\\Roaming\\Python\\Python310\\site-packages\\scipy\\stats\\_stats_py.py:7175: RuntimeWarning: invalid value encountered in multiply\n",
      "  terms = f_obs * ((f_obs / f_exp)**lambda_ - 1)\n",
      "C:\\Users\\mcaba\\AppData\\Roaming\\Python\\Python310\\site-packages\\scipy\\stats\\_stats_py.py:7172: RuntimeWarning: divide by zero encountered in divide\n",
      "  terms = 2.0 * special.xlogy(f_exp, f_exp / f_obs)\n"
     ]
    }
   ],
   "source": [
    "# Proportion of freight_cost_group grouped by vendor_inco_term\n",
    "props = late_shipments.groupby('vendor_inco_term')['freight_cost_groups'].value_counts(normalize=True)\n",
    "\n",
    "# Convert props to wide format\n",
    "wide_props = props.unstack()\n",
    "\n",
    "# Proportional stacked bar plot of freight_cost_group vs. vendor_inco_term\n",
    "wide_props.plot(kind=\"bar\", stacked=True)\n",
    "plt.show()\n",
    "\n",
    "# Determine if freight_cost_group and vendor_inco_term are independent\n",
    "expected, observed, stats = pingouin.chi2_independence(data=late_shipments, x=\"freight_cost_groups\", y=\"vendor_inco_term\")\n",
    "\n",
    "# Print results\n",
    "print(stats[stats['test'] == 'pearson']) "
   ]
  },
  {
   "cell_type": "markdown",
   "metadata": {},
   "source": [
    "Reject the null hypothesis and conclude that vendor_inco_term and freight_cost_group are associated.\n",
    "\n",
    "Independence insight! The test to compare proportions of successes in a categorical variable across groups of another categorical variable is called a chi-square test of independence."
   ]
  },
  {
   "cell_type": "markdown",
   "metadata": {},
   "source": [
    "#### **Chi-square goodness of fit tests**\n",
    "\n",
    "1. Purple links\n",
    "\n",
    "How do you feel when you discover that you've already visited the top resource?\n",
    "purple_link_counts = stack_overflow['purple_link'].value_counts()\n",
    "purple_link_counts = purple_link_counts.rename_axis('purple_link')\\\n",
    ".reset_index(name='n')\\\n",
    ".sort_values('purple_link')\n",
    "\n",
    "2. Declaring the hypotheses\n",
    "\n",
    "hypothesized = pd.DataFrame({\n",
    "'purple_link': ['Amused', 'Annoyed', 'Hello, old friend', 'Indifferent'],\n",
    "'prop': [1/6, 1/6, 1/2, 1/6]})\n",
    "\n",
    "H0 : The sample matches the hypothesized\n",
    "distribution\n",
    "Ha : The sample does not match the\n",
    "hypothesized distribution\n",
    "\n",
    "χ measures how far observed results are\n",
    "from expectations in each group\n",
    "alpha = 0.01\n",
    "\n",
    "3. Hypothesized counts by category\n",
    "\n",
    "n_total = len(stack_overflow)\n",
    "hypothesized[\"n\"] = hypothesized[\"prop\"] * n_total\n",
    "\n",
    "4. Visualizing counts\n",
    "\n",
    "import matplotlib.pyplot as plt\n",
    "plt.bar(purple_link_counts['purple_link'], purple_link_counts['n'],\n",
    "color='red', label='Observed')\n",
    "plt.bar(hypothesized['purple_link'], hypothesized['n'], alpha=0.5,\n",
    "color='blue', label='Hypothesized')\n",
    "plt.legend()\n",
    "plt.show()\n",
    "\n",
    "5. chi-square goodness of fit test\n",
    "\n",
    "print(hypothesized)\n",
    "\n",
    "from scipy.stats import chisquare\n",
    "chisquare(f_obs=purple_link_counts['n'], f_exp=hypothesized['n'])"
   ]
  },
  {
   "cell_type": "code",
   "execution_count": null,
   "metadata": {},
   "outputs": [
    {
     "name": "stdout",
     "output_type": "stream",
     "text": [
      "         purple_link     n\n",
      "2             Amused   368\n",
      "3            Annoyed   263\n",
      "0  Hello, old friend  1225\n",
      "1        Indifferent   405\n"
     ]
    }
   ],
   "source": [
    "purple_link_counts = stack_overflow['purple_link'].value_counts()\n",
    "purple_link_counts = purple_link_counts.rename_axis('purple_link')\\\n",
    "                                        .reset_index(name='n')\\\n",
    "                                        .sort_values('purple_link')\n",
    "\n",
    "print(purple_link_counts)"
   ]
  },
  {
   "cell_type": "code",
   "execution_count": 150,
   "metadata": {},
   "outputs": [
    {
     "name": "stdout",
     "output_type": "stream",
     "text": [
      "         purple_link      prop\n",
      "0             Amused  0.166667\n",
      "1            Annoyed  0.166667\n",
      "2  Hello, old friend  0.500000\n",
      "3        Indifferent  0.166667\n"
     ]
    }
   ],
   "source": [
    "hypothesized = pd.DataFrame({\n",
    "'purple_link': ['Amused', 'Annoyed', 'Hello, old friend', 'Indifferent'],\n",
    "'prop': [1/6, 1/6, 1/2, 1/6]})\n",
    "\n",
    "alpha = 0.01\n",
    "print(hypothesized)"
   ]
  },
  {
   "cell_type": "code",
   "execution_count": null,
   "metadata": {},
   "outputs": [
    {
     "name": "stdout",
     "output_type": "stream",
     "text": [
      "         purple_link      prop            n\n",
      "0             Amused  0.166667   376.833333\n",
      "1            Annoyed  0.166667   376.833333\n",
      "2  Hello, old friend  0.500000  1130.500000\n",
      "3        Indifferent  0.166667   376.833333\n"
     ]
    }
   ],
   "source": [
    "n_total = len(stack_overflow)\n",
    "hypothesized[\"n\"] = hypothesized[\"prop\"] * n_total\n",
    "print(hypothesized)"
   ]
  },
  {
   "cell_type": "code",
   "execution_count": 153,
   "metadata": {},
   "outputs": [
    {
     "data": {
      "image/png": "[encoded data removed]",
      "text/plain": [
       "<Figure size 640x480 with 1 Axes>"
      ]
     },
     "metadata": {},
     "output_type": "display_data"
    }
   ],
   "source": [
    "import matplotlib.pyplot as plt\n",
    "plt.bar(purple_link_counts['purple_link'], purple_link_counts['n'],\n",
    "color='red', label='Observed')\n",
    "plt.bar(hypothesized['purple_link'], hypothesized['n'], alpha=0.5,\n",
    "color='blue', label='Hypothesized')\n",
    "plt.legend()\n",
    "plt.show()"
   ]
  },
  {
   "cell_type": "code",
   "execution_count": 154,
   "metadata": {},
   "outputs": [
    {
     "data": {
      "text/plain": [
       "Power_divergenceResult(statistic=44.59840778416629, pvalue=1.1261810719413759e-09)"
      ]
     },
     "execution_count": 154,
     "metadata": {},
     "output_type": "execute_result"
    }
   ],
   "source": [
    "from scipy.stats import chisquare\n",
    "chisquare(f_obs=purple_link_counts['n'], f_exp=hypothesized['n'])\n"
   ]
  },
  {
   "cell_type": "markdown",
   "metadata": {},
   "source": [
    "Visualizing goodness of fit\n",
    "The chi-square goodness of fit test compares proportions of each level of a categorical variable to hypothesized values. Before running such a test, it can be helpful to visually compare the distribution in the sample to the hypothesized distribution.\n",
    "\n",
    "Recall the vendor incoterms in the late_shipments dataset. You hypothesize that the four values occur with these frequencies in the population of shipments.\n",
    "\n",
    "CIP: 0.05\n",
    "DDP: 0.1\n",
    "EXW: 0.75\n",
    "FCA: 0.1\n",
    "These frequencies are stored in the hypothesized DataFrame.\n",
    "\n",
    "The incoterm_counts DataFrame stores the .value_counts() of the vendor_inco_term column.\n",
    "\n",
    "late_shipments is available; pandas and matplotlib.pyplot are loaded with their standard aliases."
   ]
  },
  {
   "cell_type": "code",
   "execution_count": 163,
   "metadata": {},
   "outputs": [
    {
     "name": "stdout",
     "output_type": "stream",
     "text": [
      "  vendor_inco_term    n\n",
      "3              CIP   56\n",
      "2              DDP  100\n",
      "4              DDU    1\n",
      "0              EXW  732\n",
      "1              FCA  111\n"
     ]
    }
   ],
   "source": [
    "incoterm_counts = late_shipments['vendor_inco_term'].value_counts()\n",
    "incoterm_counts = incoterm_counts.rename_axis('vendor_inco_term')\\\n",
    "                                        .reset_index(name='n')\\\n",
    "                                        .sort_values('vendor_inco_term')\n",
    "\n",
    "print(incoterm_counts)"
   ]
  },
  {
   "cell_type": "code",
   "execution_count": 164,
   "metadata": {},
   "outputs": [
    {
     "name": "stdout",
     "output_type": "stream",
     "text": [
      "  vendor_inco_term  prop\n",
      "0              CIP  0.05\n",
      "1              DDP  0.10\n",
      "2              DDU  0.00\n",
      "3              EXW  0.75\n",
      "4              FCA  0.10\n"
     ]
    }
   ],
   "source": [
    "hypothesized = pd.DataFrame({\n",
    "'vendor_inco_term': ['CIP', 'DDP', 'DDU', 'EXW', 'FCA'],\n",
    "'prop': [0.05, 0.1, 0, 0.75, 0.1]})\n",
    "\n",
    "print(hypothesized)"
   ]
  },
  {
   "cell_type": "code",
   "execution_count": 165,
   "metadata": {},
   "outputs": [
    {
     "name": "stdout",
     "output_type": "stream",
     "text": [
      "1000\n",
      "  vendor_inco_term  prop      n\n",
      "0              CIP  0.05   50.0\n",
      "1              DDP  0.10  100.0\n",
      "2              DDU  0.00    0.0\n",
      "3              EXW  0.75  750.0\n",
      "4              FCA  0.10  100.0\n"
     ]
    }
   ],
   "source": [
    "# Find the number of rows in late_shipments\n",
    "n_total = len(late_shipments)\n",
    "\n",
    "# Print n_total\n",
    "print(n_total)\n",
    "\n",
    "# Find the number of rows in late_shipments\n",
    "n_total = len(late_shipments)\n",
    "\n",
    "# Create n column that is prop column * n_total\n",
    "hypothesized[\"n\"] = hypothesized[\"prop\"] * n_total\n",
    "\n",
    "# Print the modified hypothesized DataFrame\n",
    "print(hypothesized)"
   ]
  },
  {
   "cell_type": "code",
   "execution_count": 166,
   "metadata": {},
   "outputs": [
    {
     "data": {
      "image/png": "[encoded data removed]",
      "text/plain": [
       "<Figure size 640x480 with 1 Axes>"
      ]
     },
     "metadata": {},
     "output_type": "display_data"
    }
   ],
   "source": [
    "# Find the number of rows in late_shipments\n",
    "n_total = len(late_shipments)\n",
    "\n",
    "# Create n column that is prop column * n_total\n",
    "hypothesized[\"n\"] = hypothesized[\"prop\"] * n_total\n",
    "\n",
    "# Plot a red bar graph of n vs. vendor_inco_term for incoterm_counts\n",
    "plt.bar(incoterm_counts['vendor_inco_term'], incoterm_counts['n'], \n",
    "color='red',\n",
    "label=\"Observed\")\n",
    "plt.legend()\n",
    "plt.show()"
   ]
  },
  {
   "cell_type": "code",
   "execution_count": 167,
   "metadata": {},
   "outputs": [
    {
     "data": {
      "image/png": "[encoded data removed]",
      "text/plain": [
       "<Figure size 640x480 with 1 Axes>"
      ]
     },
     "metadata": {},
     "output_type": "display_data"
    }
   ],
   "source": [
    "# Find the number of rows in late_shipments\n",
    "n_total = len(late_shipments)\n",
    "\n",
    "# Create n column that is prop column * n_total\n",
    "hypothesized[\"n\"] = hypothesized[\"prop\"] * n_total\n",
    "\n",
    "# Plot a red bar graph of n vs. vendor_inco_term for incoterm_counts\n",
    "plt.bar(incoterm_counts['vendor_inco_term'], incoterm_counts['n'], color=\"red\", label=\"Observed\")\n",
    "\n",
    "# Add a blue bar plot for the hypothesized counts\n",
    "plt.bar(hypothesized['vendor_inco_term'], hypothesized['n'], alpha=0.5,\n",
    "color='blue',label=\"Hypothesized\")\n",
    "plt.legend()\n",
    "plt.show()"
   ]
  },
  {
   "cell_type": "markdown",
   "metadata": {},
   "source": [
    "Performing a goodness of fit test\n",
    "The bar plot of vendor_inco_term suggests that the distribution across the four categories was quite close to the hypothesized distribution. You'll need to perform a chi-square goodness of fit test to see whether the differences are statistically significant.\n",
    "\n",
    "Recall the hypotheses for this type of test:\n",
    "\n",
    "H0: The sample matches with the hypothesized distribution.\n",
    "\n",
    "Ha: The sample does not match with the hypothesized distribution.\n",
    "\n",
    "To decide which hypothesis to choose, we'll set a significance level of 0.1.\n",
    "\n",
    "late_shipments, incoterm_counts, and hypothesized from the last exercise are available. chisquare from scipy.stats has been loaded."
   ]
  },
  {
   "cell_type": "code",
   "execution_count": 168,
   "metadata": {},
   "outputs": [
    {
     "name": "stdout",
     "output_type": "stream",
     "text": [
      "Power_divergenceResult(statistic=inf, pvalue=0.0)\n"
     ]
    },
    {
     "name": "stderr",
     "output_type": "stream",
     "text": [
      "C:\\Users\\mcaba\\AppData\\Roaming\\Python\\Python310\\site-packages\\scipy\\stats\\_stats_py.py:7166: RuntimeWarning: divide by zero encountered in divide\n",
      "  terms = (f_obs_float - f_exp)**2 / f_exp\n"
     ]
    }
   ],
   "source": [
    "# Perform a goodness of fit test on the incoterm counts n\n",
    "gof_test = chisquare(f_obs=incoterm_counts['n'], f_exp=hypothesized['n'])\n",
    "\n",
    "\n",
    "# Print gof_test results\n",
    "print(gof_test)"
   ]
  },
  {
   "attachments": {},
   "cell_type": "markdown",
   "metadata": {},
   "source": [
    "## **Non-Parametric Tests (Module 04-054)**"
   ]
  },
  {
   "attachments": {},
   "cell_type": "markdown",
   "metadata": {},
   "source": [
    "#### **Assumptions in hypothesis testing**\n",
    "\n",
    "1. Randomness\n",
    "Assumption\n",
    "The samples are random subsets of larger\n",
    "populations\n",
    "Consequence\n",
    "Sample is not representative of population\n",
    "How to check this\n",
    "Understand how your data was collected\n",
    "Speak to the data collector/domain expert\n",
    "\n",
    "2. Independence of observations\n",
    "Assumption\n",
    "Each observation (row) in the dataset is independent\n",
    "Consequence\n",
    "Increased chance of false negative/positive error\n",
    "How to check this\n",
    "Understand how our data was collected\n",
    "\n",
    "3. Large sample size\n",
    "Assumption\n",
    "The sample is big enough to mitigate uncertainty, so that the Central Limit Theorem applies\n",
    "Consequence\n",
    "Wider confidence intervals\n",
    "Increased chance of false negative/positive errors\n",
    "How to check this\n",
    "It depends on the test\n",
    "\n",
    "4. Large sample size: t-test\n",
    "One sample\n",
    "At least 30 observations in the sample\n",
    "n ≥ 30\n",
    "n: sample size\n",
    "\n",
    "Two samples\n",
    "At least 30 observations in each sample\n",
    "n ≥ 30, n ≥ 30\n",
    "n : sample size for group i\n",
    "\n",
    "Paired samples\n",
    "At least 30 pairs of observations across the\n",
    "samples\n",
    "Number of rows in our data ≥ 30\n",
    "\n",
    "ANOVA\n",
    "At least 30 observations in each sample\n",
    "n ≥ 30 for all values of i\n",
    "\n",
    "5. Large sample size: proportion tests\n",
    "One sample\n",
    "Number of successes in sample is greater\n",
    "than or equal to 10\n",
    "n × p_hat ≥ 10\n",
    "\n",
    "Number of failures in sample is greater\n",
    "than or equal to 10\n",
    "n × (1 − )p_hat ≥ 10\n",
    "n: sample size\n",
    "p_hat: proportion of successes in sample\n",
    "\n",
    "Two samples\n",
    "Number of successes in each sample is\n",
    "greater than or equal to 10\n",
    "n1 × p_hat1 ≥ 10\n",
    "n2 × p_hat2 ≥ 10\n",
    "\n",
    "Number of failures in each sample is\n",
    "greater than or equal to 10\n",
    "n1 × (1 − p_hat1) ≥ 10\n",
    "n2 × (1 − p_hat2) ≥ 10\n",
    "\n",
    "6. Large sample size: chi-square tests\n",
    "The number of successes in each group in greater than or equal to 5\n",
    "ni × p_hati ≥ 5 for all values of i\n",
    "The number of failures in each group in greater than or equal to 5\n",
    "ni × (1 − p_hati) ≥ 5 for all values of i\n",
    "\n",
    "ni: sample size for group i\n",
    "p_hati proportion of successes in sample group i\n",
    "\n",
    "7. Sanity check\n",
    "If the bootstrap distribution doesn't look normal, assumptions likely aren't valid\n",
    "Revisit data collection to check for randomness, independence, and sample size"
   ]
  },
  {
   "cell_type": "markdown",
   "metadata": {},
   "source": [
    "Testing sample size\n",
    "In order to conduct a hypothesis test and be sure that the result is fair, a sample must meet three requirements: it is a random sample of the population, the observations are independent, and there are enough observations. Of these, only the last condition is easily testable with code.\n",
    "\n",
    "The minimum sample size depends on the type of hypothesis tests you want to perform. You'll now test some scenarios on the late_shipments dataset.\n",
    "\n",
    "Note that the .all() method from pandas can be used to check if all elements are true. For example, given a DataFrame df with numeric entries, you check to see if all its elements are less than 5, using (df < 5).all().\n",
    "\n",
    "late_shipments is available, and pandas is loaded as pd."
   ]
  },
  {
   "cell_type": "markdown",
   "metadata": {},
   "source": [
    "Get the count of each value in the freight_cost_group column of late_shipments.\n",
    "Insert a suitable number to inspect whether the counts are \"big enough\" for a two sample t-test."
   ]
  },
  {
   "cell_type": "code",
   "execution_count": 170,
   "metadata": {},
   "outputs": [
    {
     "name": "stdout",
     "output_type": "stream",
     "text": [
      "freight_cost_groups\n",
      "expensive     531\n",
      "reasonable    455\n",
      "Name: count, dtype: int64\n",
      "True\n"
     ]
    }
   ],
   "source": [
    "# Count the freight_cost_group values\n",
    "counts = late_shipments['freight_cost_groups'].value_counts()\n",
    "\n",
    "# Print the result\n",
    "print(counts)\n",
    "\n",
    "# Inspect whether the counts are big enough\n",
    "print((counts >= 30).all())"
   ]
  },
  {
   "cell_type": "markdown",
   "metadata": {},
   "source": [
    "Get the count of each value in the late column of late_shipments.\n",
    "Insert a suitable number to inspect whether the counts are \"big enough\" for a one sample proportion test."
   ]
  },
  {
   "cell_type": "code",
   "execution_count": null,
   "metadata": {},
   "outputs": [],
   "source": [
    "# Count the late values\n",
    "counts = late_shipments['late'].value_counts()\n",
    "\n",
    "# Print the result\n",
    "print(counts)\n",
    "\n",
    "# Inspect whether the counts are big enough\n",
    "print((counts >= 10).all())"
   ]
  },
  {
   "cell_type": "markdown",
   "metadata": {},
   "source": [
    "\n",
    "Get the count of each value in the freight_cost_group column of late_shipments grouped by vendor_inco_term.\n",
    "Insert a suitable number to inspect whether the counts are \"big enough\" for a chi-square independence test."
   ]
  },
  {
   "cell_type": "code",
   "execution_count": 171,
   "metadata": {},
   "outputs": [
    {
     "name": "stdout",
     "output_type": "stream",
     "text": [
      "vendor_inco_term  freight_cost_groups\n",
      "CIP               reasonable              34\n",
      "                  expensive               16\n",
      "DDP               expensive               55\n",
      "                  reasonable              45\n",
      "DDU               reasonable               1\n",
      "EXW               expensive              423\n",
      "                  reasonable             302\n",
      "FCA               reasonable              73\n",
      "                  expensive               37\n",
      "Name: count, dtype: int64\n",
      "False\n"
     ]
    }
   ],
   "source": [
    "# Count the values of freight_cost_group grouped by vendor_inco_term\n",
    "counts = late_shipments.groupby('vendor_inco_term')['freight_cost_groups'].value_counts()\n",
    "\n",
    "# Print the result\n",
    "print(counts)\n",
    "\n",
    "# Inspect whether the counts are big enough\n",
    "print((counts >= 5).all())"
   ]
  },
  {
   "cell_type": "markdown",
   "metadata": {},
   "source": [
    "Get the count of each value in the shipment_mode column of late_shipments.\n",
    "Insert a suitable number to inspect whether the counts are \"big enough\" for an ANOVA test."
   ]
  },
  {
   "cell_type": "code",
   "execution_count": 172,
   "metadata": {},
   "outputs": [
    {
     "name": "stdout",
     "output_type": "stream",
     "text": [
      "shipment_mode\n",
      "Air            906\n",
      "Ocean           88\n",
      "Air Charter      6\n",
      "Name: count, dtype: int64\n",
      "False\n"
     ]
    }
   ],
   "source": [
    "# Count the shipment_mode values\n",
    "counts = late_shipments['shipment_mode'].value_counts()\n",
    "\n",
    "# Print the result\n",
    "print(counts)\n",
    "\n",
    "# Inspect whether the counts are big enough\n",
    "print((counts >= 30).all())"
   ]
  },
  {
   "attachments": {},
   "cell_type": "markdown",
   "metadata": {},
   "source": [
    "#### **Non-parametric tests**\n",
    "\n",
    "1. Parametric tests\n",
    "z-test, t-test, and ANOVA are all parametric tests\n",
    "Assume a normal distribution\n",
    "Require sufficiently large sample sizes\n",
    "\n",
    "2. Smaller Republican votes data\n",
    "print(repub_votes_small)\n",
    "\n",
    "3. Results with pingouin.ttest()\n",
    "5 pairs is not enough to meet the sample size condition for the paired t-test:\n",
    "At least 30 pairs of observations across the samples.\n",
    "\n",
    "alpha = 0.01\n",
    "import pingouin\n",
    "pingouin.ttest(x=repub_votes_potus_08_12_small['repub_percent_08'],\n",
    "y=repub_votes_potus_08_12_small['repub_percent_12'],\n",
    "paired=True,\n",
    "alternative=\"less\")\n",
    "\n",
    "4. Non-parametric tests\n",
    "\n",
    "Non-parametric tests avoid the parametric assumptions and conditions\n",
    "Many non-parametric tests use ranks of the data\n",
    "\n",
    "\n",
    "x = [1, 15, 3, 10, 6]\n",
    "from scipy.stats import rankdata\n",
    "rankdata(x)\n",
    "\n",
    "5. Non-parametric tests\n",
    "\n",
    "Non-parametric tests are more reliable than parametric tests for\n",
    "small sample sizes\n",
    "andwhen data\n",
    "isn't normally distributed\n",
    "\n",
    "Wilcoxon-signed rank test\n",
    "    Developed by Frank Wilcoxon in 1945\n",
    "    One of the first non-parametric procedures\n",
    "\n",
    "6. Wilcoxon-signed rank test (Step 1)\n",
    "\n",
    "Works on the ranked absolute differences between the pairs of data\n",
    "\n",
    "repub_votes_small['diff'] = repub_votes_small['repub_percent_08'] -\n",
    "repub_votes_small['repub_percent_12']\n",
    "print(repub_votes_small)\n",
    "\n",
    "7. Wilcoxon-signed rank test (Step 2)\n",
    "\n",
    "Works on the ranked absolute differences between the pairs of data\n",
    "\n",
    "repub_votes_small['abs_diff'] = repub_votes_small['diff'].abs()\n",
    "print(repub_votes_small)\n",
    "\n",
    "8. Wilcoxon-signed rank test (Step 3)\n",
    "\n",
    "Works on the ranked absolute differences between the pairs of data\n",
    "\n",
    "from scipy.stats import rankdata\n",
    "repub_votes_small['rank_abs_diff'] = rankdata(repub_votes_small['abs_diff'])\n",
    "print(repub_votes_small)\n",
    "\n",
    "9. Wilcoxon-signed rank test (Step 4)\n",
    "\n",
    "Incorporate the sum of the ranks for negative and positive differences\n",
    "T_minus = 1 + 4 + 5 + 2 + 3\n",
    "T_plus = 0\n",
    "W = np.min([T_minus, T_plus])\n",
    "0\n",
    "\n",
    "10. Implementation with pingouin.wilcoxon()\n",
    "\n",
    "alpha = 0.01\n",
    "pingouin.wilcoxon(x=repub_votes_potus_08_12_small['repub_percent_08'],\n",
    "y=repub_votes_potus_08_12_small['repub_percent_12'],\n",
    "alternative=\"less\")\n",
    "\n",
    "Fail to reject H , since 0 0.03125 > 0.01"
   ]
  },
  {
   "cell_type": "code",
   "execution_count": 195,
   "metadata": {},
   "outputs": [
    {
     "name": "stdout",
     "output_type": "stream",
     "text": [
      "         state    county  repub_percent_08  repub_percent_12      diff\n",
      "54  New Mexico  Sandoval         42.969470         45.095139 -2.125669\n",
      "18    Illinois     Perry         50.885443         57.670960 -6.785518\n",
      "47    Missouri    Putnam         68.020522         72.455608 -4.435087\n",
      "76       Texas   Grayson         68.465378         73.197047 -4.731669\n",
      "72   Tennessee   Chester         71.017185         73.073323 -2.056138\n"
     ]
    }
   ],
   "source": [
    "repub_votes_small = repub_votes_potus_08_12.sample(n=5, replace=True)\n",
    "\n",
    "print(repub_votes_small)"
   ]
  },
  {
   "cell_type": "code",
   "execution_count": 196,
   "metadata": {},
   "outputs": [
    {
     "data": {
      "text/html": [
       "<div>\n",
       "<style scoped>\n",
       "    .dataframe tbody tr th:only-of-type {\n",
       "        vertical-align: middle;\n",
       "    }\n",
       "\n",
       "    .dataframe tbody tr th {\n",
       "        vertical-align: top;\n",
       "    }\n",
       "\n",
       "    .dataframe thead th {\n",
       "        text-align: right;\n",
       "    }\n",
       "</style>\n",
       "<table border=\"1\" class=\"dataframe\">\n",
       "  <thead>\n",
       "    <tr style=\"text-align: right;\">\n",
       "      <th></th>\n",
       "      <th>T</th>\n",
       "      <th>dof</th>\n",
       "      <th>alternative</th>\n",
       "      <th>p-val</th>\n",
       "      <th>CI95%</th>\n",
       "      <th>cohen-d</th>\n",
       "      <th>BF10</th>\n",
       "      <th>power</th>\n",
       "    </tr>\n",
       "  </thead>\n",
       "  <tbody>\n",
       "    <tr>\n",
       "      <th>T-test</th>\n",
       "      <td>-4.53456</td>\n",
       "      <td>4</td>\n",
       "      <td>less</td>\n",
       "      <td>0.00527</td>\n",
       "      <td>[-inf, -2.13]</td>\n",
       "      <td>0.320163</td>\n",
       "      <td>13.57</td>\n",
       "      <td>0.148454</td>\n",
       "    </tr>\n",
       "  </tbody>\n",
       "</table>\n",
       "</div>"
      ],
      "text/plain": [
       "              T  dof alternative    p-val          CI95%   cohen-d   BF10  \\\n",
       "T-test -4.53456    4        less  0.00527  [-inf, -2.13]  0.320163  13.57   \n",
       "\n",
       "           power  \n",
       "T-test  0.148454  "
      ]
     },
     "execution_count": 196,
     "metadata": {},
     "output_type": "execute_result"
    }
   ],
   "source": [
    "alpha = 0.01\n",
    "import pingouin\n",
    "pingouin.ttest(x=repub_votes_small['repub_percent_08'],\n",
    "y=repub_votes_small['repub_percent_12'],\n",
    "paired=True,\n",
    "alternative=\"less\")"
   ]
  },
  {
   "cell_type": "code",
   "execution_count": 197,
   "metadata": {},
   "outputs": [
    {
     "data": {
      "text/plain": [
       "array([1., 5., 2., 4., 3.])"
      ]
     },
     "execution_count": 197,
     "metadata": {},
     "output_type": "execute_result"
    }
   ],
   "source": [
    "x = [1, 15, 3, 10, 6]\n",
    "from scipy.stats import rankdata\n",
    "rankdata(x)"
   ]
  },
  {
   "cell_type": "code",
   "execution_count": null,
   "metadata": {},
   "outputs": [],
   "source": [
    "#Wilcoxon-signed rank test (Step 1)\n",
    "repub_votes_small['diff'] = repub_votes_small['repub_percent_08'] -\n",
    "repub_votes_small['repub_percent_12']\n",
    "print(repub_votes_small)\n"
   ]
  },
  {
   "cell_type": "code",
   "execution_count": 200,
   "metadata": {},
   "outputs": [
    {
     "name": "stdout",
     "output_type": "stream",
     "text": [
      "         state    county  repub_percent_08  repub_percent_12      diff\n",
      "54  New Mexico  Sandoval         42.969470         45.095139 -2.125669\n",
      "18    Illinois     Perry         50.885443         57.670960 -6.785518\n",
      "47    Missouri    Putnam         68.020522         72.455608 -4.435087\n",
      "76       Texas   Grayson         68.465378         73.197047 -4.731669\n",
      "72   Tennessee   Chester         71.017185         73.073323 -2.056138\n",
      "         state    county  repub_percent_08  repub_percent_12      diff  \\\n",
      "54  New Mexico  Sandoval         42.969470         45.095139 -2.125669   \n",
      "18    Illinois     Perry         50.885443         57.670960 -6.785518   \n",
      "47    Missouri    Putnam         68.020522         72.455608 -4.435087   \n",
      "76       Texas   Grayson         68.465378         73.197047 -4.731669   \n",
      "72   Tennessee   Chester         71.017185         73.073323 -2.056138   \n",
      "\n",
      "    abs_diff  \n",
      "54  2.125669  \n",
      "18  6.785518  \n",
      "47  4.435087  \n",
      "76  4.731669  \n",
      "72  2.056138  \n"
     ]
    }
   ],
   "source": [
    "#Wilcoxon-signed rank test (Step 2)\n",
    "\n",
    "repub_votes_small['abs_diff'] = repub_votes_small['diff'].abs()\n",
    "print(repub_votes_small)"
   ]
  },
  {
   "cell_type": "code",
   "execution_count": 201,
   "metadata": {},
   "outputs": [
    {
     "name": "stdout",
     "output_type": "stream",
     "text": [
      "         state    county  repub_percent_08  repub_percent_12      diff  \\\n",
      "54  New Mexico  Sandoval         42.969470         45.095139 -2.125669   \n",
      "18    Illinois     Perry         50.885443         57.670960 -6.785518   \n",
      "47    Missouri    Putnam         68.020522         72.455608 -4.435087   \n",
      "76       Texas   Grayson         68.465378         73.197047 -4.731669   \n",
      "72   Tennessee   Chester         71.017185         73.073323 -2.056138   \n",
      "\n",
      "    abs_diff  rank_abs_diff  \n",
      "54  2.125669            2.0  \n",
      "18  6.785518            5.0  \n",
      "47  4.435087            3.0  \n",
      "76  4.731669            4.0  \n",
      "72  2.056138            1.0  \n"
     ]
    }
   ],
   "source": [
    "#Wilcoxon-signed rank test (Step 3)\n",
    "\n",
    "from scipy.stats import rankdata\n",
    "repub_votes_small['rank_abs_diff'] = rankdata(repub_votes_small['abs_diff'])\n",
    "print(repub_votes_small)"
   ]
  },
  {
   "cell_type": "code",
   "execution_count": 203,
   "metadata": {},
   "outputs": [
    {
     "name": "stdout",
     "output_type": "stream",
     "text": [
      "0\n"
     ]
    }
   ],
   "source": [
    "T_minus = 1 + 4 + 5 + 2 + 3\n",
    "T_plus = 0\n",
    "W = np.min([T_minus, T_plus])\n",
    "print(W)"
   ]
  },
  {
   "cell_type": "code",
   "execution_count": 228,
   "metadata": {},
   "outputs": [
    {
     "data": {
      "text/html": [
       "<div>\n",
       "<style scoped>\n",
       "    .dataframe tbody tr th:only-of-type {\n",
       "        vertical-align: middle;\n",
       "    }\n",
       "\n",
       "    .dataframe tbody tr th {\n",
       "        vertical-align: top;\n",
       "    }\n",
       "\n",
       "    .dataframe thead th {\n",
       "        text-align: right;\n",
       "    }\n",
       "</style>\n",
       "<table border=\"1\" class=\"dataframe\">\n",
       "  <thead>\n",
       "    <tr style=\"text-align: right;\">\n",
       "      <th></th>\n",
       "      <th>W-val</th>\n",
       "      <th>alternative</th>\n",
       "      <th>p-val</th>\n",
       "      <th>RBC</th>\n",
       "      <th>CLES</th>\n",
       "    </tr>\n",
       "  </thead>\n",
       "  <tbody>\n",
       "    <tr>\n",
       "      <th>Wilcoxon</th>\n",
       "      <td>0.0</td>\n",
       "      <td>two-sided</td>\n",
       "      <td>0.0625</td>\n",
       "      <td>-1.0</td>\n",
       "      <td>0.28</td>\n",
       "    </tr>\n",
       "  </tbody>\n",
       "</table>\n",
       "</div>"
      ],
      "text/plain": [
       "          W-val alternative   p-val  RBC  CLES\n",
       "Wilcoxon    0.0   two-sided  0.0625 -1.0  0.28"
      ]
     },
     "execution_count": 228,
     "metadata": {},
     "output_type": "execute_result"
    }
   ],
   "source": [
    "alpha = 0.01\n",
    "pingouin.wilcoxon(x=repub_votes_small['repub_percent_08'],\n",
    "y=repub_votes_small['repub_percent_12'],\n",
    "alternative=\"two-sided\")"
   ]
  },
  {
   "cell_type": "markdown",
   "metadata": {},
   "source": [
    "Wilcoxon signed-rank test\n",
    "You'll explore the difference between the proportion of county-level votes for the Democratic candidate in 2012 and 2016 to identify if the difference is significant.\n",
    "\n",
    "sample_dem_data is available, and has columns dem_percent_12 and dem_percent_16 in addition to state and county names. The following packages have also been loaded: pingouin and pandas as pd."
   ]
  },
  {
   "cell_type": "code",
   "execution_count": 227,
   "metadata": {},
   "outputs": [
    {
     "name": "stdout",
     "output_type": "stream",
     "text": [
      "            state      county  dem_percent_12  dem_percent_16       diff\n",
      "385  South Dakota         Day       52.105813       35.456862  16.648951\n",
      "349      Oklahoma    Cherokee       42.947015       33.086719   9.860296\n",
      "430         Texas    Mitchell       23.229706       16.120219   7.109488\n",
      "91          Idaho      Canyon       30.059010       23.195713   6.863297\n",
      "457      Virginia  James City       43.353540       44.252195  -0.898654\n"
     ]
    }
   ],
   "source": [
    "sample_dem_data = dem_votes_potus_12_16.sample(n=5, replace=True)\n",
    "\n",
    "print(sample_dem_data)"
   ]
  },
  {
   "cell_type": "code",
   "execution_count": 229,
   "metadata": {},
   "outputs": [
    {
     "name": "stdout",
     "output_type": "stream",
     "text": [
      "               T  dof alternative     p-val          CI95%   cohen-d   BF10  \\\n",
      "T-test  2.803338    4   two-sided  0.048646  [0.08, 15.76]  0.703448  2.262   \n",
      "\n",
      "           power  \n",
      "T-test  0.229491  \n"
     ]
    }
   ],
   "source": [
    "# Conduct a paired t-test on dem_percent_12 and dem_percent_16\n",
    "paired_test_results = pingouin.ttest(x=sample_dem_data['dem_percent_12'],\n",
    "y=sample_dem_data['dem_percent_16'],\n",
    "paired=True,\n",
    "alternative=\"two-sided\") \n",
    "\n",
    "\n",
    "\n",
    "\n",
    "# Print paired t-test results\n",
    "print(paired_test_results)"
   ]
  },
  {
   "cell_type": "code",
   "execution_count": 230,
   "metadata": {},
   "outputs": [
    {
     "name": "stdout",
     "output_type": "stream",
     "text": [
      "          W-val alternative  p-val       RBC  CLES\n",
      "Wilcoxon    1.0   two-sided  0.125  0.866667  0.68\n"
     ]
    }
   ],
   "source": [
    "# Conduct a Wilcoxon test on dem_percent_12 and dem_percent_16\n",
    "wilcoxon_test_results = pingouin.wilcoxon(x=sample_dem_data['dem_percent_12'],\n",
    "y=sample_dem_data['dem_percent_16'],\n",
    "alternative=\"two-sided\")\n",
    "\n",
    "\n",
    "\n",
    "# Print Wilcoxon test results\n",
    "print(wilcoxon_test_results)"
   ]
  },
  {
   "cell_type": "markdown",
   "metadata": {},
   "source": [
    "#### **Non-parametric ANOVA and unpaired t-tests**\n",
    "\n",
    "1. Wilcoxon-Mann-Whitney test\n",
    "Also know as the Mann Whitney U test\n",
    "A t-test on the ranks of the numeric input\n",
    "Works on unpaired data\n",
    "\n",
    "2. Wilcoxon-Mann-Whitney test setup\n",
    "\n",
    "age_vs_comp = stack_overflow[['converted_comp', 'age_first_code_cut']]\n",
    "age_vs_comp_wide = age_vs_comp.pivot(columns='age_first_code_cut',\n",
    "values='converted_comp')\n",
    "\n",
    "print(age_vs_comp_wide)\n",
    "\n",
    "3. Wilcoxon-Mann-Whitney test\n",
    "\n",
    "alpha=0.01\n",
    "import pingouin\n",
    "pingouin.mwu(x=age_vs_comp_wide['child'],\n",
    "y=age_vs_comp_wide['adult'],\n",
    "alternative='greater')\n",
    "\n",
    "4. Kruskal-Wallis test\n",
    "\n",
    "Kruskal-Wallis test is to Wilcoxon-Mann-Whitney test as ANOVA is to t-test\n",
    "\n",
    "alpha=0.01\n",
    "pingouin.kruskal(data=stack_overflow,\n",
    "dv='converted_comp',\n",
    "between='job_sat')"
   ]
  },
  {
   "cell_type": "code",
   "execution_count": 231,
   "metadata": {},
   "outputs": [
    {
     "name": "stdout",
     "output_type": "stream",
     "text": [
      "age_first_code_cut      adult     child\n",
      "0                     77556.0       NaN\n",
      "1                         NaN   74970.0\n",
      "2                         NaN  594539.0\n",
      "3                   2000000.0       NaN\n",
      "4                     37816.0       NaN\n",
      "...                       ...       ...\n",
      "2256                      NaN  145000.0\n",
      "2257                      NaN   33972.0\n",
      "2258                      NaN   97284.0\n",
      "2259                      NaN   72000.0\n",
      "2260                      NaN  180000.0\n",
      "\n",
      "[2261 rows x 2 columns]\n"
     ]
    }
   ],
   "source": [
    "age_vs_comp = stack_overflow[['converted_comp', 'age_first_code_cut']]\n",
    "age_vs_comp_wide = age_vs_comp.pivot(columns='age_first_code_cut',\n",
    "values='converted_comp')\n",
    "\n",
    "print(age_vs_comp_wide)"
   ]
  },
  {
   "cell_type": "code",
   "execution_count": null,
   "metadata": {},
   "outputs": [
    {
     "data": {
      "text/html": [
       "<div>\n",
       "<style scoped>\n",
       "    .dataframe tbody tr th:only-of-type {\n",
       "        vertical-align: middle;\n",
       "    }\n",
       "\n",
       "    .dataframe tbody tr th {\n",
       "        vertical-align: top;\n",
       "    }\n",
       "\n",
       "    .dataframe thead th {\n",
       "        text-align: right;\n",
       "    }\n",
       "</style>\n",
       "<table border=\"1\" class=\"dataframe\">\n",
       "  <thead>\n",
       "    <tr style=\"text-align: right;\">\n",
       "      <th></th>\n",
       "      <th>U-val</th>\n",
       "      <th>alternative</th>\n",
       "      <th>p-val</th>\n",
       "      <th>RBC</th>\n",
       "      <th>CLES</th>\n",
       "    </tr>\n",
       "  </thead>\n",
       "  <tbody>\n",
       "    <tr>\n",
       "      <th>MWU</th>\n",
       "      <td>744365.5</td>\n",
       "      <td>greater</td>\n",
       "      <td>1.902723e-19</td>\n",
       "      <td>0.222516</td>\n",
       "      <td>0.611258</td>\n",
       "    </tr>\n",
       "  </tbody>\n",
       "</table>\n",
       "</div>"
      ],
      "text/plain": [
       "        U-val alternative         p-val       RBC      CLES\n",
       "MWU  744365.5     greater  1.902723e-19  0.222516  0.611258"
      ]
     },
     "execution_count": 233,
     "metadata": {},
     "output_type": "execute_result"
    }
   ],
   "source": [
    "alpha=0.01\n",
    "import pingouin\n",
    "pingouin.mwu(x=age_vs_comp_wide['No'],\n",
    "            y=age_vs_comp_wide['Yes'],\n",
    "            alternative='greater')"
   ]
  },
  {
   "cell_type": "code",
   "execution_count": 234,
   "metadata": {},
   "outputs": [
    {
     "data": {
      "text/html": [
       "<div>\n",
       "<style scoped>\n",
       "    .dataframe tbody tr th:only-of-type {\n",
       "        vertical-align: middle;\n",
       "    }\n",
       "\n",
       "    .dataframe tbody tr th {\n",
       "        vertical-align: top;\n",
       "    }\n",
       "\n",
       "    .dataframe thead th {\n",
       "        text-align: right;\n",
       "    }\n",
       "</style>\n",
       "<table border=\"1\" class=\"dataframe\">\n",
       "  <thead>\n",
       "    <tr style=\"text-align: right;\">\n",
       "      <th></th>\n",
       "      <th>Source</th>\n",
       "      <th>ddof1</th>\n",
       "      <th>H</th>\n",
       "      <th>p-unc</th>\n",
       "    </tr>\n",
       "  </thead>\n",
       "  <tbody>\n",
       "    <tr>\n",
       "      <th>Kruskal</th>\n",
       "      <td>job_sat</td>\n",
       "      <td>4</td>\n",
       "      <td>72.814939</td>\n",
       "      <td>5.772915e-15</td>\n",
       "    </tr>\n",
       "  </tbody>\n",
       "</table>\n",
       "</div>"
      ],
      "text/plain": [
       "          Source  ddof1          H         p-unc\n",
       "Kruskal  job_sat      4  72.814939  5.772915e-15"
      ]
     },
     "execution_count": 234,
     "metadata": {},
     "output_type": "execute_result"
    }
   ],
   "source": [
    "alpha=0.01\n",
    "pingouin.kruskal(data=stack_overflow,\n",
    "dv='converted_comp',\n",
    "between='job_sat')"
   ]
  },
  {
   "cell_type": "markdown",
   "metadata": {},
   "source": [
    "Wilcoxon-Mann-Whitney\n",
    "Another class of non-parametric hypothesis tests are called rank sum tests. Ranks are the positions of numeric values from smallest to largest. Think of them as positions in running events: whoever has the fastest (smallest) time is rank 1, second fastest is rank 2, and so on.\n",
    "\n",
    "By calculating on the ranks of data instead of the actual values, you can avoid making assumptions about the distribution of the test statistic. It's more robust in the same way that a median is more robust than a mean.\n",
    "\n",
    "One common rank-based test is the Wilcoxon-Mann-Whitney test, which is like a non-parametric t-test.\n",
    "\n",
    "late_shipments is available, and the following packages have been loaded: pingouin and pandas as pd."
   ]
  },
  {
   "cell_type": "code",
   "execution_count": 235,
   "metadata": {},
   "outputs": [
    {
     "name": "stdout",
     "output_type": "stream",
     "text": [
      "     weight_kilograms late\n",
      "0              1426.0  Yes\n",
      "1                10.0   No\n",
      "2              3723.0   No\n",
      "3              7698.0   No\n",
      "4                56.0   No\n",
      "..                ...  ...\n",
      "995              43.0   No\n",
      "996              99.0   No\n",
      "997             881.0  Yes\n",
      "998           16234.0   No\n",
      "999              46.0   No\n",
      "\n",
      "[1000 rows x 2 columns]\n",
      "late       No     Yes\n",
      "0         NaN  1426.0\n",
      "1        10.0     NaN\n",
      "2      3723.0     NaN\n",
      "3      7698.0     NaN\n",
      "4        56.0     NaN\n",
      "..        ...     ...\n",
      "995      43.0     NaN\n",
      "996      99.0     NaN\n",
      "997       NaN   881.0\n",
      "998   16234.0     NaN\n",
      "999      46.0     NaN\n",
      "\n",
      "[1000 rows x 2 columns]\n"
     ]
    }
   ],
   "source": [
    "# Select the weight_kilograms and late columns\n",
    "weight_vs_late = late_shipments[['weight_kilograms', 'late']]\n",
    "print(weight_vs_late)\n",
    "# Convert weight_vs_late into wide format\n",
    "weight_vs_late_wide = weight_vs_late.pivot(columns='late', \n",
    "                                           values='weight_kilograms')\n",
    "print(weight_vs_late_wide)"
   ]
  },
  {
   "cell_type": "code",
   "execution_count": 236,
   "metadata": {},
   "outputs": [
    {
     "name": "stdout",
     "output_type": "stream",
     "text": [
      "       U-val alternative     p-val       RBC      CLES\n",
      "MWU  19134.0   two-sided  0.000014 -0.331902  0.334049\n"
     ]
    }
   ],
   "source": [
    "# Select the weight_kilograms and late columns\n",
    "weight_vs_late = late_shipments[['weight_kilograms', 'late']]\n",
    "\n",
    "# Convert weight_vs_late into wide format\n",
    "weight_vs_late_wide = weight_vs_late.pivot(columns='late', \n",
    "                                           values='weight_kilograms')\n",
    "\n",
    "\n",
    "# Run a two-sided Wilcoxon-Mann-Whitney test on weight_kilograms vs. late\n",
    "wmw_test = pingouin.mwu(x=weight_vs_late_wide['No'],\n",
    "            y=weight_vs_late_wide['Yes'],\n",
    "            alternative='two-sided')\n",
    "\n",
    "\n",
    "\n",
    "# Print the test results\n",
    "print(wmw_test)"
   ]
  },
  {
   "cell_type": "markdown",
   "metadata": {},
   "source": [
    "Kruskal-Wallis\n",
    "Recall that the Kruskal-Wallis test is a non-parametric version of an ANOVA test, comparing the means across multiple groups.\n",
    "\n",
    "late_shipments is available, and the following packages have been loaded: pingouin and pandas as pd."
   ]
  },
  {
   "cell_type": "code",
   "execution_count": 237,
   "metadata": {},
   "outputs": [
    {
     "name": "stdout",
     "output_type": "stream",
     "text": [
      "                Source  ddof1           H         p-unc\n",
      "Kruskal  shipment_mode      2  125.096618  6.848799e-28\n"
     ]
    }
   ],
   "source": [
    "# Run a Kruskal-Wallis test on weight_kilograms vs. shipment_mode\n",
    "kw_test = pingouin.kruskal(data=late_shipments,\n",
    "dv='weight_kilograms',\n",
    "between='shipment_mode')\n",
    "\n",
    "\n",
    "\n",
    "# Print the results\n",
    "print(kw_test)"
   ]
  },
  {
   "cell_type": "markdown",
   "metadata": {},
   "source": [
    "#### **Course recap**\n",
    "\n",
    "1. Chapter 1\n",
    "Workflow for testing proportions vs. a\n",
    "hypothesized value\n",
    "False negative/false positive errors\n",
    "\n",
    "2. Chapter 2\n",
    "Testing differences in sample means\n",
    "between two groups using t-tests\n",
    "Extending this to more than two groups\n",
    "using ANOVA and pairwise t-tests\n",
    "\n",
    "3. Chapter 3\n",
    "Testing differences in sample proportions\n",
    "between two groups using proportion tests\n",
    "Using chi-square independence/goodness\n",
    "of fit tests\n",
    "\n",
    "4. Chapter 4\n",
    "Reviewing assumptions of parametric\n",
    "hypothesis tests\n",
    "Examined non-parametric alternatives\n",
    "when assumptions aren't valid"
   ]
  },
  {
   "cell_type": "code",
   "execution_count": 238,
   "metadata": {},
   "outputs": [
    {
     "name": "stdout",
     "output_type": "stream",
     "text": [
      "Perrenque!\n"
     ]
    }
   ],
   "source": [
    "print('Perrenque!')"
   ]
  }
 ],
 "metadata": {
  "kernelspec": {
   "display_name": "Python 3",
   "language": "python",
   "name": "python3"
  },
  "language_info": {
   "codemirror_mode": {
    "name": "ipython",
    "version": 3
   },
   "file_extension": ".py",
   "mimetype": "text/x-python",
   "name": "python",
   "nbconvert_exporter": "python",
   "pygments_lexer": "ipython3",
   "version": "3.10.0"
  },
  "orig_nbformat": 4,
  "vscode": {
   "interpreter": {
    "hash": "26de051ba29f2982a8de78e945f0abaf191376122a1563185a90213a26c5da77"
   }
  }
 },
 "nbformat": 4,
 "nbformat_minor": 2
}
