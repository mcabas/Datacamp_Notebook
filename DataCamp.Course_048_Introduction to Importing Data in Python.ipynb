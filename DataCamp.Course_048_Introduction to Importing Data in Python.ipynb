{
 "cells": [
  {
   "attachments": {},
   "cell_type": "markdown",
   "metadata": {},
   "source": [
    "# **DataCamp.Course_048_Introduction to Importing Data in Python**\n",
    "\n",
    "### **Course Description**\n",
    "\n",
    "As a data scientist, you will need to clean data, wrangle and munge it, visualize it, build predictive models, and interpret these models. Before you can do so, however, you will need to know how to get data into Python. In this course, you'll learn the many ways to import data into Python: from flat files such as .txt and .csv; from files native to other software such as Excel spreadsheets, Stata, SAS, and MATLAB files; and from relational databases such as SQLite and PostgreSQL."
   ]
  },
  {
   "attachments": {},
   "cell_type": "markdown",
   "metadata": {},
   "source": [
    "## **Introduction and flat files (Module 01-048)**"
   ]
  },
  {
   "attachments": {},
   "cell_type": "markdown",
   "metadata": {},
   "source": [
    "#### **Welcome to the course!**\n",
    "\n",
    "1. Import data\n",
    "\n",
    "- Flat files, e.g. .txts, .csvs\n",
    "- Files from other software\n",
    "- Relational databases\n",
    "\n",
    "- Flat file\n",
    "ej:     Plain text files\n",
    "        Table data: titanic.csv\n",
    "\n",
    "2. Reading a text file\n",
    "filename = 'huck_finn.txt'\n",
    "file = open(filename, mode='r') # 'r' is to read\n",
    "text = file.read()\n",
    "file.close()\n",
    "\n",
    "3. Printing a text file\n",
    "print(text)\n",
    "\n",
    "4. Writing to a file\n",
    "filename = 'huck_finn.txt'\n",
    "file = open(filename, mode='w') # 'w' is to write\n",
    "file.close()\n",
    "\n",
    "5. Context manager **with**\n",
    "with open('huck_finn.txt', 'r') as file:\n",
    "print(file.read())\n",
    "\n",
    "6. In the exercises, you’ll:\n",
    "- Print files to the console\n",
    "- Print specific lines\n",
    "- Discuss flat ,les"
   ]
  },
  {
   "attachments": {},
   "cell_type": "markdown",
   "metadata": {},
   "source": [
    "**Exploring your working directory**\n",
    "\n",
    "In order to import data into Python, you should first have an idea of what files are in your working directory.\n",
    "\n",
    "IPython, which is running on DataCamp's servers, has a bunch of cool commands, including its *magic commands*. For example, starting a line with ! gives you complete system shell access. This means that the IPython magic command ! ls will display the contents of your current directory. Your task is to use the IPython magic command ! ls to check out the contents of your current directory and answer the following question: which of the following files is in your working directory?"
   ]
  },
  {
   "cell_type": "code",
   "execution_count": 1,
   "metadata": {},
   "outputs": [
    {
     "name": "stderr",
     "output_type": "stream",
     "text": [
      "'ls' is not recognized as an internal or external command,\n",
      "operable program or batch file.\n"
     ]
    }
   ],
   "source": [
    "! ls"
   ]
  },
  {
   "attachments": {},
   "cell_type": "markdown",
   "metadata": {},
   "source": [
    "**Importing entire text files**\n",
    "\n",
    "In this exercise, you'll be working with the file moby_dick.txt. It is a text file that contains the opening sentences of Moby Dick, one of the great American novels! Here you'll get experience opening a text file, printing its contents to the shell and, finally, closing it.\n",
    "\n",
    "STEPS\n",
    "    Open the file moby_dick.txt as read-only and store it in the variable file. Make sure to pass the filename enclosed in quotation marks ''.\n",
    "    Print the contents of the file to the shell using the print() function. As Hugo showed in the video, you'll need to apply the method read() to the object file.\n",
    "    Check whether the file is closed by executing print(file.closed).\n",
    "    Close the file using the close() method.\n",
    "    Check again that the file is closed as you did above.\n"
   ]
  },
  {
   "cell_type": "code",
   "execution_count": 6,
   "metadata": {},
   "outputs": [
    {
     "name": "stdout",
     "output_type": "stream",
     "text": [
      "xx MOBY-DICK \n",
      "\n",
      "' \" My God ! Mr. Chace, what is the matter ? \" I answered, \n",
      "\" We have been stove by a whale.\" ! \n",
      "\n",
      "Narrative of the Shipwreck of the Whale Ship \n",
      "Essex of Nantucket, which was attacked and \n",
      "finally destroyed by a large Sperm Whale in \n",
      "the Pacific Ocean. By Owen Chace of Nan- \n",
      "tucket, first mate of said vessel. New York, \n",
      "1821. \n",
      "\n",
      "' A mariner sat in the shrouds one night, \n",
      "\n",
      "The wind was piping free ; \n",
      "\n",
      "Now bright, now dimmed, was the moonlight pale, \n",
      "And the phospher gleamed in the wake of the whale, \n",
      "As it floundered in the sea.' \n",
      "\n",
      "Elizabeth Oakes Smith. \n",
      "\n",
      "' The quantity of line withdrawn from the different boats \n",
      "engaged in the capture of this one whale, amounted alto- \n",
      "gether to 10,440 yards or nearly six English miles. * * * \n",
      "\n",
      "t Sometimes the whale shakes its tremendous tail in the \n",
      "air, which, cracking like a whip, resounds to the distance of \n",
      "three or four miles.' Scoresby. \n",
      "\n",
      "1 Mad with the agonies he endures from these fresh attacks, \n",
      "the infuriated Sperm Whale rolls over and over ; he rears his \n",
      "enormous head, and with wide expanded jaws snaps at every- \n",
      "thing around him ; he rushes at the boats with his head ; \n",
      "they are propelled before him with vast swiftness, and some- \n",
      "times utterly destroyed. \n",
      "\n",
      "* * * It is a matter of great astonishment that the \n",
      "consideration of the habits of so interesting, and, in a com- \n",
      "mercial point of view, of so important an animal (as the Sperm \n",
      "Whale) should have been so entirely neglected, or should have \n",
      "excited so little curiosity among the numerous, and many of \n",
      "them competent observers, that of late years must have \n",
      "possessed the most abundant and the most convenient oppor- \n",
      "tunities of witnessing their habitudes. 5 \n",
      "\n",
      "Thomas Beale's History of the Sperm Whale. 1839. \n",
      "\n",
      "' The Cachalot ' (Sperm Whale) ' is not only better armed \n",
      "than the True Whale ' (Greenland or Right Whale) ' in possess- \n",
      "ing a formidable weapon at either extremity of its body, \n",
      "but also more frequently displays a disposition to employ \n",
      "these weapons offensively, and in a manner at once so artful, \n",
      "\n",
      "False\n",
      "True\n"
     ]
    }
   ],
   "source": [
    "filename = r'G:\\My Drive\\Data Science\\Datacamp_Notebook\\Datacamp_Notebook\\datasets\\moby_dick.txt'\n",
    "\n",
    "# Open a file: file\n",
    "file = open(filename, mode='r')\n",
    "\n",
    "# Print it\n",
    "print(file.read())\n",
    "\n",
    "# Check whether file is closed\n",
    "print(file.closed)\n",
    "\n",
    "# Close file\n",
    "file.close()\n",
    "\n",
    "# Check whether file is closed\n",
    "print(file.closed)\n"
   ]
  },
  {
   "attachments": {},
   "cell_type": "markdown",
   "metadata": {},
   "source": [
    "**Importing text files line by line**\n",
    "\n",
    "For large files, we may not want to print all of their content to the shell: you may wish to print only the first few lines. Enter the `readline()` method, which allows you to do this. When a file called file is open, you can print out the first line by executing `file.readline()`. If you execute the same command again, the second line will print, and so on.\n",
    "\n",
    "In the introductory video, Hugo also introduced the concept of a **context manager**. He showed that you can bind a variable `file` by using a context manager construct:\n",
    "\n",
    "`with open('huck_finn.txt') as file:`\n",
    "\n",
    "While still within this construct, the variable file will be bound to open('huck_finn.txt'); thus, to print the file to the shell, all the code you need to execute is:\n",
    "\n",
    "`with open('huck_finn.txt') as file:`\n",
    "`    print(file.readline())`\n",
    "\n",
    "You'll now use these tools to print the first few lines of `moby_dick.txt`!\n",
    "\n",
    "STEPS\n",
    "    Open moby_dick.txt using the with context manager and the variable file.\n",
    "    Print the first three lines of the file to the shell by using readline() three times within the context manager."
   ]
  },
  {
   "cell_type": "code",
   "execution_count": 8,
   "metadata": {},
   "outputs": [
    {
     "name": "stdout",
     "output_type": "stream",
     "text": [
      "xx MOBY-DICK \n",
      "\n",
      "\n",
      "\n",
      "' \" My God ! Mr. Chace, what is the matter ? \" I answered, \n",
      "\n"
     ]
    }
   ],
   "source": [
    "# Read & print the first 3 lines\n",
    "with open(filename) as file:\n",
    "    print(file.readline())\n",
    "    print(file.readline())\n",
    "    print(file.readline())"
   ]
  },
  {
   "attachments": {},
   "cell_type": "markdown",
   "metadata": {},
   "source": [
    "#### **The importance of flat files in data science**\n",
    "\n",
    "1. Flat files\n",
    "titanic.csv\n",
    "\n",
    "- Text files containing records\n",
    "- That is, table data\n",
    "- Record: row of fields or a\n",
    "- Column: feature or attribute\n",
    "- Header\n",
    "\n",
    "2. File extension\n",
    ".csv - Comma separated values\n",
    ".txt - Text ,le\n",
    "commas, tabs - Delimiters\n",
    "\n",
    "3. Tab-delimited file\n",
    "MNIST.txt\n",
    "\n",
    "4. How do you import flat files?\n",
    "- Two main packages: NumPy, pandas\n",
    "- Here, you’ll learn to import:\n",
    "Flat files with numerical data (MNIST)\n",
    "Flat files with numerical data and strings (titanic.csv)"
   ]
  },
  {
   "attachments": {},
   "cell_type": "markdown",
   "metadata": {},
   "source": [
    "**Why we like flat files and the Zen of Python**\n",
    "\n",
    "In PythonLand, there are currently hundreds of Python Enhancement Proposals, commonly referred to as PEPs. PEP8, for example, is a standard style guide for Python, written by our sensei Guido van Rossum himself. It is the basis for how we here at DataCamp ask our instructors to style their code. Another one of my favorites is PEP20, commonly called the Zen of Python. Its abstract is as follows:\n",
    "\n",
    "    Long time Pythoneer Tim Peters succinctly channels the BDFL's guiding principles for Python's design into 20 aphorisms, only 19 of which have been written down.\n",
    "\n",
    "If you don't know what the acronym BDFL stands for, I suggest that you look here. You can print the Zen of Python in your shell by typing import this into it! You're going to do this now and the 5th aphorism (line) will say something of particular interest.\n",
    "\n",
    "The question you need to answer is: what is the 5th aphorism of the Zen of Python?"
   ]
  },
  {
   "cell_type": "code",
   "execution_count": 9,
   "metadata": {},
   "outputs": [
    {
     "name": "stdout",
     "output_type": "stream",
     "text": [
      "The Zen of Python, by Tim Peters\n",
      "\n",
      "Beautiful is better than ugly.\n",
      "Explicit is better than implicit.\n",
      "Simple is better than complex.\n",
      "Complex is better than complicated.\n",
      "Flat is better than nested.\n",
      "Sparse is better than dense.\n",
      "Readability counts.\n",
      "Special cases aren't special enough to break the rules.\n",
      "Although practicality beats purity.\n",
      "Errors should never pass silently.\n",
      "Unless explicitly silenced.\n",
      "In the face of ambiguity, refuse the temptation to guess.\n",
      "There should be one-- and preferably only one --obvious way to do it.\n",
      "Although that way may not be obvious at first unless you're Dutch.\n",
      "Now is better than never.\n",
      "Although never is often better than *right* now.\n",
      "If the implementation is hard to explain, it's a bad idea.\n",
      "If the implementation is easy to explain, it may be a good idea.\n",
      "Namespaces are one honking great idea -- let's do more of those!\n"
     ]
    }
   ],
   "source": [
    "import this"
   ]
  },
  {
   "attachments": {},
   "cell_type": "markdown",
   "metadata": {},
   "source": [
    "#### **Importing flat files using NumPy**\n",
    "\n",
    "1. Why NumPy?\n",
    "\n",
    "- NumPy arrays: standard for storing numerical data\n",
    "- Essential for other packages: e.g. scikit-learn\n",
    "loadtxt()\n",
    "genfromtxt()\n",
    "\n",
    "2. Importing flat files using NumPy\n",
    "import numpy as np\n",
    "filename = 'MNIST.txt'\n",
    "data = np.loadtxt(filename, delimiter=',')\n",
    "data\n",
    "\n",
    "3. Customizing your NumPy import\n",
    "import numpy as np\n",
    "filename = 'MNIST_header.txt'\n",
    "data = np.loadtxt(filename, delimiter=',', skiprows=1)\n",
    "print(data)\n",
    "\n",
    "import numpy as np \n",
    "filename = 'MNIST_header.txt'\n",
    "data = np.loadtxt(filename, delimiter=',', skiprows=1, usecols=[0, 2])\n",
    "print(data)\n",
    "\n",
    "data = np.loadtxt(filename, delimiter=',', dtype=str)\n",
    "\n",
    "4. Mixed datatypes\n",
    "titanic.csv\n",
    "\n",
    "-do not work with Numpy"
   ]
  },
  {
   "attachments": {},
   "cell_type": "markdown",
   "metadata": {},
   "source": [
    "**Using NumPy to import flat files**\n",
    "\n",
    "In this exercise, you're now going to load the MNIST digit recognition dataset using the numpy function `loadtxt() `and see just how easy it can be:\n",
    "\n",
    "    The first argument will be the filename.\n",
    "    The second will be the delimiter which, in this case, is a comma.\n",
    "\n",
    "You can find more information about the MNIST dataset here on the webpage of Yann LeCun, who is currently Director of AI Research at Facebook and Founding Director of the NYU Center for Data Science, among many other things.\n",
    "\n",
    "STEPS\n",
    "\n",
    "    Fill in the arguments of np.loadtxt() by passing file and a comma ',' for the delimiter.\n",
    "    Fill in the argument of print() to print the type of the object digits. Use the function type().\n",
    "    Execute the rest of the code to visualize one of the rows of the data."
   ]
  },
  {
   "attachments": {},
   "cell_type": "markdown",
   "metadata": {},
   "source": [
    "## **Importing data from other file types (Module 02-048)**"
   ]
  },
  {
   "attachments": {},
   "cell_type": "markdown",
   "metadata": {},
   "source": [
    "#### **xxx**\n",
    "\n",
    "1. xxx\n",
    "\n",
    "2. xxx\n",
    "\n",
    "3. xxx\n",
    "\n",
    "4. xxx"
   ]
  },
  {
   "attachments": {},
   "cell_type": "markdown",
   "metadata": {},
   "source": [
    "## **Working with relational databases in Python (Module 03-048)**"
   ]
  },
  {
   "attachments": {},
   "cell_type": "markdown",
   "metadata": {},
   "source": [
    "#### **xxx**\n",
    "\n",
    "1. xxx\n",
    "\n",
    "2. xxx\n",
    "\n",
    "3. xxx\n",
    "\n",
    "4. xxx"
   ]
  },
  {
   "cell_type": "code",
   "execution_count": 1,
   "metadata": {},
   "outputs": [
    {
     "name": "stdout",
     "output_type": "stream",
     "text": [
      "perrenque!\n"
     ]
    }
   ],
   "source": [
    "print('perrenque!')"
   ]
  },
  {
   "attachments": {},
   "cell_type": "markdown",
   "metadata": {},
   "source": [
    "#### **xxx**\n",
    "\n",
    "1. xxx\n",
    "\n",
    "2. xxx\n",
    "\n",
    "3. xxx\n",
    "\n",
    "4. xxx"
   ]
  }
 ],
 "metadata": {
  "kernelspec": {
   "display_name": "Python 3",
   "language": "python",
   "name": "python3"
  },
  "language_info": {
   "codemirror_mode": {
    "name": "ipython",
    "version": 3
   },
   "file_extension": ".py",
   "mimetype": "text/x-python",
   "name": "python",
   "nbconvert_exporter": "python",
   "pygments_lexer": "ipython3",
   "version": "3.10.0"
  },
  "orig_nbformat": 4,
  "vscode": {
   "interpreter": {
    "hash": "26de051ba29f2982a8de78e945f0abaf191376122a1563185a90213a26c5da77"
   }
  }
 },
 "nbformat": 4,
 "nbformat_minor": 2
}
