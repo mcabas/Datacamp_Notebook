{
 "cells": [
  {
   "attachments": {},
   "cell_type": "markdown",
   "metadata": {},
   "source": [
    "# **DataCamp.Course_047_Intermediate Data Visualization with Seaborn**\n",
    "\n",
    "### **Course Description**\n",
    "\n",
    "Do you want to make beautiful, informative visualizations with ease? If so, then you must learn seaborn! Seaborn is a visualization library that is an essential part of the python data science toolkit. In this course, you will learn how to use seaborn's sophisticated visualization tools to analyze multiple real world datasets including the American Housing Survey, college tuition data, and guests from the popular television series, The Daily Show. Following this course, you will be able to use seaborn functions to visualize your data in several different formats and customize seaborn plots for your unique needs. "
   ]
  },
  {
   "attachments": {},
   "cell_type": "markdown",
   "metadata": {},
   "source": [
    "## **Seaborn Introduction (Module 01-047)**"
   ]
  },
  {
   "attachments": {},
   "cell_type": "markdown",
   "metadata": {},
   "source": [
    "#### **Introduction to Seaborn**\n",
    "\n",
    "1. Python Visualization Landscape\n",
    "The python visualization landscape is complex and can be overwhelming\n",
    "\n",
    "2. Matplotlib\n",
    "\n",
    "- matplotlib provides the raw building blocks for Seaborn's visualizations\n",
    "- It can also be used on its own to plot data\n",
    "\n",
    "import matplotlib.pyplot as plt\n",
    "import pandas as pd\n",
    "df = pd.read_csv(\"wines.csv\")\n",
    "fig, ax = plt.subplots()\n",
    "ax.hist(df['alcohol'])\n",
    "\n",
    "3. Pandas\n",
    "\n",
    "- pandas is a foundational library for analyzing data\n",
    "- It also supports basic plotting capability\n",
    "\n",
    "import pandas as pd\n",
    "df = pd.read_csv(\"wines.csv\")\n",
    "df['alcohol'].plot.hist()\n",
    "\n",
    "4. Seaborn\n",
    "\n",
    "- Seaborn supports complex visualizations of data\n",
    "- It is built on matplotlib and works best with pandas' dataframes\n",
    "\n",
    "5. Seaborn histplot\n",
    "\n",
    "- The histplot is similar to the histogram shown in previous examples\n",
    "- By default, generates a histogram but can also generate other complex plots\n",
    "\n",
    "import seaborn as sns\n",
    "sns.histplot(df['alcohol'])\n",
    "\n",
    "6. Seaborn displot\n",
    "\n",
    "- The displot leverages the histplot and other functions for distribution plots\n",
    "- By default, it generates a histogram but can also generate other plot types\n",
    "\n",
    "import seaborn as sns\n",
    "sns.displot(df['alcohol'], kind='kde')\n",
    "\n",
    "7. pandas Histogram vs. Displot\n",
    "\n",
    "- Pandas histogram\n",
    "df['alcohol'].plot.hist()\n",
    "\n",
    "    - Actual frequency of observations\n",
    "    - No outline of bars\n",
    "    - Wide bins\n",
    "\n",
    "- Seaborn displot\n",
    "sns.displot(df['alcohol'])\n",
    "\n",
    "    - Automatic label on x-axis\n",
    "    - Muted color palette\n",
    "    - Cleaner plot"
   ]
  },
  {
   "attachments": {},
   "cell_type": "markdown",
   "metadata": {},
   "source": [
    "**Reading a csv file**\n",
    "\n",
    "Before you analyze data, you will need to read the data into a `pandas` DataFrame. In this exercise, you will be looking at data from US School Improvement Grants in 2010. This program gave nearly $4B to schools to help them renovate or improve their programs.\n",
    "\n",
    "This first step in most data analysis is to import `pandas` and `seaborn` and read a data file in order to analyze it further.\n",
    "\n",
    "This course introduces a lot of new concepts, so if you ever need a quick refresher, download the **Seaborn Cheat Sheet** and keep it handy!"
   ]
  },
  {
   "cell_type": "code",
   "execution_count": 2,
   "metadata": {},
   "outputs": [],
   "source": [
    "# import all modules\n",
    "import pandas as pd\n",
    "import seaborn as sns\n",
    "import matplotlib.pyplot as plt\n",
    "\n",
    "grant_file = r'G:\\My Drive\\Data Science\\Datacamp_Notebook\\Datacamp_Notebook\\datasets\\schoolimprovement2010grants.csv'\n",
    "\n",
    "# Read in the DataFrame\n",
    "df = pd.read_csv(grant_file)"
   ]
  },
  {
   "attachments": {},
   "cell_type": "markdown",
   "metadata": {},
   "source": [
    "**Comparing a histogram and displot**\n",
    "\n",
    "The `pandas` library supports simple plotting of data, which is very convenient when data is already likely to be in a `pandas` DataFrame.\n",
    "\n",
    "Seaborn generally does more statistical analysis on data and can provide more sophisticated insight into the data. In this exercise, we will compare a `pandas` histogram vs the `seaborn` displot.\n",
    "\n",
    "STEP 1\n",
    "Use the pandas' plot.hist() function to plot a histogram of the Award_Amount column.\n",
    "STEP 2 \n",
    "Use Seaborn's displot() function to plot a distribution plot of the same column."
   ]
  },
  {
   "cell_type": "code",
   "execution_count": 3,
   "metadata": {},
   "outputs": [
    {
     "data": {
      "image/png": "[encoded data removed]",
      "text/plain": [
       "<Figure size 640x480 with 1 Axes>"
      ]
     },
     "metadata": {},
     "output_type": "display_data"
    },
    {
     "data": {
      "text/plain": [
       "<Figure size 640x480 with 0 Axes>"
      ]
     },
     "metadata": {},
     "output_type": "display_data"
    }
   ],
   "source": [
    "# Display pandas histogram\n",
    "df['Award_Amount'].plot.hist()\n",
    "plt.show()\n",
    "\n",
    "# Clear out the pandas histogram\n",
    "plt.clf()"
   ]
  },
  {
   "cell_type": "code",
   "execution_count": 4,
   "metadata": {},
   "outputs": [
    {
     "data": {
      "image/png": "[encoded data removed]",
      "text/plain": [
       "<Figure size 500x500 with 1 Axes>"
      ]
     },
     "metadata": {},
     "output_type": "display_data"
    },
    {
     "data": {
      "text/plain": [
       "<Figure size 640x480 with 0 Axes>"
      ]
     },
     "metadata": {},
     "output_type": "display_data"
    }
   ],
   "source": [
    "# Display a Seaborn displot\n",
    "sns.displot(df['Award_Amount'])\n",
    "plt.show()\n",
    "\n",
    "# Clear the displot\n",
    "plt.clf()"
   ]
  },
  {
   "attachments": {},
   "cell_type": "markdown",
   "metadata": {},
   "source": [
    "#### **Using the distribution plot**\n",
    "\n",
    "1. "
   ]
  },
  {
   "attachments": {},
   "cell_type": "markdown",
   "metadata": {},
   "source": [
    "## **Customizing Seaborn Plots (Module 02-047)**"
   ]
  },
  {
   "attachments": {},
   "cell_type": "markdown",
   "metadata": {},
   "source": [
    "#### **Introduction to Seaborn**\n",
    "\n",
    "1. xxx\n",
    "2. xxx\n",
    "3. xxx"
   ]
  },
  {
   "attachments": {},
   "cell_type": "markdown",
   "metadata": {},
   "source": [
    "## **Additional Plot Types (Module 03-047)**"
   ]
  },
  {
   "attachments": {},
   "cell_type": "markdown",
   "metadata": {},
   "source": [
    "#### **Introduction to Seaborn**\n",
    "\n",
    "1. xxx\n",
    "2. xxx\n",
    "3. xxx"
   ]
  },
  {
   "attachments": {},
   "cell_type": "markdown",
   "metadata": {},
   "source": [
    "## **Creating Plots on Data Aware Grids (Module 04-047)**"
   ]
  },
  {
   "attachments": {},
   "cell_type": "markdown",
   "metadata": {},
   "source": [
    "#### **Introduction to Seaborn**\n",
    "\n",
    "1. xxx\n",
    "2. xxx\n",
    "3. xxx"
   ]
  },
  {
   "cell_type": "code",
   "execution_count": 1,
   "metadata": {},
   "outputs": [
    {
     "name": "stdout",
     "output_type": "stream",
     "text": [
      "perrenque!\n"
     ]
    }
   ],
   "source": [
    "print(\"perrenque!\")"
   ]
  }
 ],
 "metadata": {
  "kernelspec": {
   "display_name": "Python 3",
   "language": "python",
   "name": "python3"
  },
  "language_info": {
   "codemirror_mode": {
    "name": "ipython",
    "version": 3
   },
   "file_extension": ".py",
   "mimetype": "text/x-python",
   "name": "python",
   "nbconvert_exporter": "python",
   "pygments_lexer": "ipython3",
   "version": "3.10.0"
  },
  "orig_nbformat": 4,
  "vscode": {
   "interpreter": {
    "hash": "26de051ba29f2982a8de78e945f0abaf191376122a1563185a90213a26c5da77"
   }
  }
 },
 "nbformat": 4,
 "nbformat_minor": 2
}
